{
 "cells": [
  {
   "cell_type": "markdown",
   "id": "682e6274",
   "metadata": {},
   "source": [
    "# A brief summary of C++11\n",
    "<br>\n",
    "<div style=\"opacity: 0.8; font-family: Consolas, Monaco, Lucida Console, Liberation Mono, DejaVu Sans Mono, Bitstream Vera Sans Mono, Courier New; font-size: 12px; font-style: italic;\">\n",
    "    ────────\n",
    "    for more from the author, visit\n",
    "    <a href=\"https://github.com/hazemanwer2000\">github.com/hazemanwer2000</a>.\n",
    "    ────────\n",
    "</div>"
   ]
  },
  {
   "cell_type": "markdown",
   "id": "78285c51",
   "metadata": {},
   "source": [
    "## Table of Contents\n",
    "* [Feature Introductions](#feature-introductions)\n",
    "    * [Uniform Initialization](#uniform-initialization)\n",
    "    * [The `auto` keyword](#the-auto-keyword)\n",
    "    * [The `decltype` operator](#the-decltype-operator)  \n",
    "    * [The `constexpr` keyword](#the-constexpr-keyword)\n",
    "    * [The range-based `for` loop](#the-range-based-for-loop)\n",
    "    * [R-value References](#r-value-references)\n",
    "    * [Lambda Expressions](#lambda-expressions)\n",
    "    * [User-defined Literals](#user-defined-literals)\n",
    "* [Minor Ammendments](#minor-ammendments)\n",
    "    * [Enumeration Classes](#enumeration-classes)\n",
    "    * [The `nullptr` keyword](#the-nullptr-keyword)\n",
    "    * [Raw String Literals](#raw-string-literals)\n",
    "* [OOP Ammendments](#oop-ammendments)\n",
    "    * [In-class Initializers](#in-class-initializers)\n",
    "    * [`default` Methods](#default-methods)\n",
    "    * [`delete` Functions](#delete-functions)\n",
    "    * [Inheriting Constructors](#inheriting-constructors)\n",
    "    * [Delegating Constructors](#delegating-constructors)\n",
    "    * [The `override` keyword](#the-override-keyword)\n",
    "    * [The `final` keyword](#the-final-keyword)\n",
    "    * [`explicit` Conversion Operators](#explicit-conversion-operators)\n",
    "* [Minor Emendations](#minor-emendations)\n",
    "    * [`using` Type Aliases](#using-type-aliases)\n",
    "    * [The `noexcept` keyword](#the-noexcept-keyword)\n",
    "    * [`inline` Namespaces](#inline-namespaces)\n",
    "* [Meta-programming](#meta-programming)\n",
    "    * [Type Functions](#type-functions)\n",
    "    * [Variadic Templates](#variadic-templates)\n",
    "\n",
    "<hr>"
   ]
  },
  {
   "cell_type": "markdown",
   "id": "39f04061",
   "metadata": {},
   "source": [
    "### Feature Introductions <a class=\"anchor\" id=\"feature-introductions\"></a>"
   ]
  },
  {
   "cell_type": "markdown",
   "id": "9c5174fc",
   "metadata": {},
   "source": [
    "#### Uniform Initialization <a class=\"anchor\" id=\"uniform-initialization\"></a>"
   ]
  },
  {
   "cell_type": "markdown",
   "id": "32212990",
   "metadata": {},
   "source": [
    "Direct initialization using parentheses, `()`, proved sometimes inconsistent. For example:"
   ]
  },
  {
   "cell_type": "code",
   "execution_count": null,
   "id": "778152f7",
   "metadata": {},
   "outputs": [],
   "source": [
    "int x();           // Interpreted as a function declaration"
   ]
  },
  {
   "cell_type": "markdown",
   "id": "9d0232ac",
   "metadata": {},
   "source": [
    "C++11 introduces a more consistent form of initialization, called *uniform* initialization, using braces, *{}*."
   ]
  },
  {
   "cell_type": "code",
   "execution_count": null,
   "id": "8c318d2f",
   "metadata": {},
   "outputs": [],
   "source": [
    "int x{};           // Default-initialized to '0'"
   ]
  },
  {
   "cell_type": "markdown",
   "id": "dd6dcde0",
   "metadata": {},
   "source": [
    "*Note:* Unlike `()`, `{}` does not allow implicit narrowing of values. For example, implicit conversion of `double` to `float` is prohibted."
   ]
  },
  {
   "cell_type": "markdown",
   "id": "253fd909",
   "metadata": {},
   "source": [
    "Additionally, an immutable list, `initializer_list`, is defined in `<initializer_list>`.\n",
    "\n",
    "If a constructor that accepts an `initializer_list` object exists, then uniform (or, brace) initialization allows for the initialization of the list implicitly by comma-separated values between the opening and closing braces.\n",
    "\n",
    "This is similar in syntax to how C-style arrays are initialized."
   ]
  },
  {
   "cell_type": "code",
   "execution_count": 559,
   "id": "4a6f6633",
   "metadata": {},
   "outputs": [
    {
     "name": "stdout",
     "output_type": "stream",
     "text": [
      "1, 2, 3, \b\b  \n"
     ]
    }
   ],
   "source": [
    "//%cflags: -I.jupyter\n",
    "\n",
    "#include <iostream>\n",
    "#include <vector>\n",
    "#include <initializer_list>\n",
    "#include \"helpers.h\"\n",
    "\n",
    "template <class T>\n",
    "class Array {\n",
    "    std::vector<T> v;\n",
    "public:\n",
    "    Array(const std::initializer_list<T> &init) : v(init.begin(), init.end()) {}\n",
    "    Array(int size) : v(size) {}\n",
    "\n",
    "    void show() { forwardly(v.begin(), v.end()); }\n",
    "};\n",
    "\n",
    "int main() {\n",
    "    Array<int> arr{1, 2, 3};\n",
    "    arr.show();\n",
    "}"
   ]
  },
  {
   "cell_type": "code",
   "execution_count": null,
   "id": "ae7ee523",
   "metadata": {},
   "outputs": [],
   "source": [
    "Array<int> arr{1, 2, 3};               /* Equivalent syntax */\n",
    "\n",
    "Array<int> arr = {1, 2, 3};\n",
    "\n",
    "Array<int> arr({1, 2, 3});"
   ]
  },
  {
   "cell_type": "code",
   "execution_count": null,
   "id": "f41ce092",
   "metadata": {},
   "outputs": [],
   "source": [
    "Array<int> arr(5);                     /* Array of size '5', default-initialized 'int's to '0' */\n",
    "\n",
    "Array<int> arr{5};                     /* Array of size '1', consisting of {5} */"
   ]
  },
  {
   "cell_type": "markdown",
   "id": "d63cdfcb",
   "metadata": {},
   "source": [
    "*Note:* When an `initializer_list` constructor is missing, `{}` behave similar to `()`."
   ]
  },
  {
   "cell_type": "markdown",
   "id": "1f551036",
   "metadata": {},
   "source": [
    "#### The `auto` keyword <a class=\"anchor\" id=\"the-auto-keyword\"></a>"
   ]
  },
  {
   "cell_type": "markdown",
   "id": "d94c59ae",
   "metadata": {},
   "source": [
    "C++11 introduces the `auto` keyword, that may be used as a type, to be implicitly resolved at compile-time."
   ]
  },
  {
   "cell_type": "code",
   "execution_count": 560,
   "id": "e5d777d3",
   "metadata": {},
   "outputs": [
    {
     "name": "stdout",
     "output_type": "stream",
     "text": [
      "5"
     ]
    }
   ],
   "source": [
    "#include <iostream>\n",
    "\n",
    "int main() {\n",
    "    auto x = 5;\n",
    "    \n",
    "    std::cout << x;\n",
    "}"
   ]
  },
  {
   "cell_type": "code",
   "execution_count": 561,
   "id": "7e62de58",
   "metadata": {},
   "outputs": [
    {
     "name": "stdout",
     "output_type": "stream",
     "text": [
      "3"
     ]
    }
   ],
   "source": [
    "#include <iostream>\n",
    "\n",
    "auto add(int x, int y) {\n",
    "    return x + y;\n",
    "}\n",
    "\n",
    "int main() {\n",
    "    std::cout << add(1, 2);\n",
    "}"
   ]
  },
  {
   "cell_type": "markdown",
   "id": "8732f2db",
   "metadata": {},
   "source": [
    "*Note:* Always use copy initialization with the `auto` keyword. In particular, brace initialization resolves `auto` into `initializer_list`."
   ]
  },
  {
   "cell_type": "markdown",
   "id": "77da0acf",
   "metadata": {},
   "source": [
    "The `auto` keyword ignores references and top-level constants, but retains low-level constants."
   ]
  },
  {
   "cell_type": "code",
   "execution_count": 562,
   "id": "f4846abc",
   "metadata": {},
   "outputs": [],
   "source": [
    "#include <iostream>\n",
    "\n",
    "int main() {\n",
    "    const int y = 6;       /* 'y' is a top-level constant ('const int') */\n",
    "\n",
    "    auto x = y;            /* auto resolved to 'int' */\n",
    "    \n",
    "    x = 7;                 /* Valid */\n",
    "}      "
   ]
  },
  {
   "cell_type": "code",
   "execution_count": null,
   "id": "dcbeb9fe",
   "metadata": {},
   "outputs": [],
   "source": [
    "#include <iostream>\n",
    "\n",
    "int main() {\n",
    "    const int y = 6;       /* '&y' is a low-level constant ('const int *') */\n",
    "\n",
    "    auto ptr = &y;         /* auto resolved to 'const int *' */\n",
    "    \n",
    "    *ptr = 7;              /* Error: Assignment of read-only location */\n",
    "}      "
   ]
  },
  {
   "cell_type": "markdown",
   "id": "645ce779",
   "metadata": {},
   "source": [
    "*Note:* As an example, `const int` and `int * const` are top-level constants, while `const int *` is a low-level constant."
   ]
  },
  {
   "cell_type": "markdown",
   "id": "68720bd1",
   "metadata": {},
   "source": [
    "#### The `decltype` operator <a class=\"anchor\" id=\"the-decltype-operator\"></a>"
   ]
  },
  {
   "cell_type": "markdown",
   "id": "e83aa129",
   "metadata": {},
   "source": [
    "C++11 introduces the `decltype` operator, that accepts an expression, and substitutes for its type at compile-time."
   ]
  },
  {
   "cell_type": "code",
   "execution_count": 564,
   "id": "5d7e65db",
   "metadata": {},
   "outputs": [
    {
     "name": "stdout",
     "output_type": "stream",
     "text": [
      "8.2"
     ]
    }
   ],
   "source": [
    "#include <iostream>\n",
    "\n",
    "int main() {\n",
    "    decltype(5 + 3.2) val = (5 + 3.2);\n",
    "    \n",
    "    std::cout << val;\n",
    "}"
   ]
  },
  {
   "cell_type": "markdown",
   "id": "a769b941",
   "metadata": {},
   "source": [
    "Unlike the `auto` keyword, the `decltype` operator retains all qualifiers, including references and top-level constants."
   ]
  },
  {
   "cell_type": "code",
   "execution_count": null,
   "id": "cf19ad4d",
   "metadata": {},
   "outputs": [],
   "source": [
    "int main() {\n",
    "    const int x = 5;          /* 'x' is a top-level const */\n",
    "    \n",
    "    decltype(x) y = 6;        /* Resolves to 'const int' */\n",
    "    \n",
    "    y = 7;                    /* Error: Assignment to read-only variable. */\n",
    "}"
   ]
  },
  {
   "cell_type": "markdown",
   "id": "9d5bbb08",
   "metadata": {},
   "source": [
    "#### The `constexpr` keyword <a class=\"anchor\" id=\"the-constexpr-keyword\"></a>"
   ]
  },
  {
   "cell_type": "markdown",
   "id": "64554821",
   "metadata": {},
   "source": [
    "C++11 introduces the `constexpr` keyword, placed before a variable declaration gurantees that it is evaluated at compile-time.\n",
    "\n",
    "When placed before a function, it gurantees that calls to this function are evaluated at compile-time."
   ]
  },
  {
   "cell_type": "code",
   "execution_count": 569,
   "id": "83b1947e",
   "metadata": {},
   "outputs": [
    {
     "name": "stdout",
     "output_type": "stream",
     "text": [
      "11"
     ]
    }
   ],
   "source": [
    "#include <iostream>\n",
    "                                      /* Before Compilation */\n",
    "constexpr auto add(int x, int y) {\n",
    "    return x + y;\n",
    "}\n",
    "\n",
    "int main() {\n",
    "    constexpr int res = add(5, 6);\n",
    "    \n",
    "    std::cout << res;\n",
    "}"
   ]
  },
  {
   "cell_type": "code",
   "execution_count": 567,
   "id": "e8bde7c3",
   "metadata": {
    "scrolled": true
   },
   "outputs": [
    {
     "name": "stdout",
     "output_type": "stream",
     "text": [
      "11"
     ]
    }
   ],
   "source": [
    "#include <iostream>\n",
    "                                      /* After Compilation */\n",
    "int main() {\n",
    "    std::cout << 11;\n",
    "}"
   ]
  },
  {
   "cell_type": "markdown",
   "id": "f3d97e82",
   "metadata": {},
   "source": [
    "*Note:* One missing feature of `constexpr` functions, is the ability to overload them with non-`constexpr` functions."
   ]
  },
  {
   "cell_type": "markdown",
   "id": "9cef03de",
   "metadata": {},
   "source": [
    "A class with a `constexpr` constructor may be used as a literal."
   ]
  },
  {
   "cell_type": "code",
   "execution_count": 570,
   "id": "f68ec40d",
   "metadata": {},
   "outputs": [
    {
     "name": "stdout",
     "output_type": "stream",
     "text": [
      "(1, 2)"
     ]
    }
   ],
   "source": [
    "#include <iostream>\n",
    "                                      /* Before Compilation */\n",
    "struct Point {\n",
    "    int x, y;\n",
    "    \n",
    "    constexpr Point(int x, int y) : x(x), y(y) {}\n",
    "};\n",
    "\n",
    "int main() {\n",
    "    constexpr Point p(1, 2);\n",
    "    \n",
    "    std::cout << \"(\" << p.x << \", \" << p.y << \")\";\n",
    "}"
   ]
  },
  {
   "cell_type": "code",
   "execution_count": 571,
   "id": "a9258ba2",
   "metadata": {},
   "outputs": [
    {
     "name": "stdout",
     "output_type": "stream",
     "text": [
      "(1, 2)"
     ]
    }
   ],
   "source": [
    "#include <iostream>\n",
    "                                      /* After Compilation */\n",
    "int main() {\n",
    "    std::cout << \"(\" << 1 << \", \" << 2 << \")\";\n",
    "}"
   ]
  },
  {
   "cell_type": "markdown",
   "id": "d3d3db20",
   "metadata": {},
   "source": [
    "#### The range-based `for` loop <a class=\"anchor\" id=\"the-range-based-for-loop\"></a>"
   ]
  },
  {
   "cell_type": "markdown",
   "id": "61901804",
   "metadata": {},
   "source": [
    "C++11 introduces a range-based `for` loop, that uses `begin` and `end` members of its post-colon argument."
   ]
  },
  {
   "cell_type": "code",
   "execution_count": 572,
   "id": "55c8c7a9",
   "metadata": {},
   "outputs": [
    {
     "name": "stdout",
     "output_type": "stream",
     "text": [
      "1 2 3 4 5 "
     ]
    }
   ],
   "source": [
    "#include <iostream>\n",
    "#include <vector>\n",
    "\n",
    "int main() {\n",
    "    std::vector<int> v {1, 2, 3, 4, 5};\n",
    "\n",
    "    for (auto &val : v) {\n",
    "        std::cout << val << ' ';\n",
    "    }\n",
    "}"
   ]
  },
  {
   "cell_type": "markdown",
   "id": "da0db6bf",
   "metadata": {},
   "source": [
    "*Note:* It is recommended to refrain from using a range-based `for` loop with a built-in array."
   ]
  },
  {
   "cell_type": "markdown",
   "id": "b762d6f0",
   "metadata": {},
   "source": [
    "#### R-value References <a class=\"anchor\" id=\"r-value-references\"></a>"
   ]
  },
  {
   "cell_type": "markdown",
   "id": "c9a0e20a",
   "metadata": {},
   "source": [
    "C++11 introduces another type of reference, an *rvalue reference*, as opposed to an *lvalue reference*."
   ]
  },
  {
   "cell_type": "code",
   "execution_count": null,
   "id": "da34a5e2",
   "metadata": {},
   "outputs": [],
   "source": [
    "int x = 5;\n",
    "\n",
    "int &l_ref1 = x;        /* Reference to an l-value */\n",
    "int &l_ref2 = 6;        /* Error: Cannot assign r-value to l-value reference */\n",
    "\n",
    "int &&r_ref = x;        /* Error: Cannot assign l-value to r-value reference */\n",
    "int &&r_ref = 6;        /* Reference to an r-value */\n",
    "\n",
    "const &cl_ref = x;      /* Constant reference to an l-value */\n",
    "const &cl_ref = 6;      /* Constant reference to a temporary object, initialized with r-value */"
   ]
  },
  {
   "cell_type": "markdown",
   "id": "d76b9b6b",
   "metadata": {},
   "source": [
    "A *move constructor* is a constructor that accepts an rvalue reference to an object of the same class.\n",
    "\n",
    "It is meant to *steal* the internals of a temporary object, that uses dynamic memory, or other external resources that may be expensive to copy. Since the temporary object will not be used again, it saves us from the overhead of making a *deep-copy* of the temporary object (twice, once on the stack, and another inside the copy constructor), just to destroy it thereafter.\n",
    "\n",
    "Additionally, an lvalue may be cast as an rvalue reference, using `static_cast`, and when passed to a move constructor, the lvalue is *moved* to another object, and is rendered useless thereafter."
   ]
  },
  {
   "cell_type": "code",
   "execution_count": 575,
   "id": "aadf03dd",
   "metadata": {
    "scrolled": true
   },
   "outputs": [
    {
     "name": "stdout",
     "output_type": "stream",
     "text": [
      "'arr1' has been moved.\n"
     ]
    }
   ],
   "source": [
    "#include <iostream>\n",
    "#include <iterator>\n",
    "\n",
    "class Integers {\n",
    "    int *ptr;\n",
    "    int size;\n",
    "public:\n",
    "    Integers(std::initializer_list<int> ls) {\n",
    "        size = ls.size();\n",
    "        ptr = new int(size);\n",
    "        \n",
    "        int i = 0;\n",
    "        for (int item : ls) {\n",
    "            ptr[i++] = item;\n",
    "        }\n",
    "    }\n",
    "    \n",
    "    Integers(Integers &&i) {           /* Move constructor */\n",
    "        ptr = i.ptr;\n",
    "        size = i.size;\n",
    "        \n",
    "        i.ptr = nullptr;\n",
    "    }\n",
    "    \n",
    "    Integers(const Integers &ls) {     /* Copy constructor */\n",
    "        size = ls.size;\n",
    "        ptr = new int(size);\n",
    "        \n",
    "        int i = 0;\n",
    "        for (int item : ls) {\n",
    "            ptr[i++] = item;\n",
    "        }\n",
    "    }\n",
    "    \n",
    "    int * begin() { return ptr; }\n",
    "    int * end() { return ptr + size; }\n",
    "    \n",
    "    const int * begin() const { return ptr; }\n",
    "    const int * end() const { return ptr + size; }\n",
    "};\n",
    "\n",
    "int main() {\n",
    "    Integers arr1 {1, 2, 3};\n",
    "    Integers arr2 {arr1};                              /* Copy constructor (Deep-copy)    */\n",
    "    Integers arr3 {static_cast<Integers &&>(arr1)};    /* Move constructor (Shallow-copy) */\n",
    "    \n",
    "    if (arr1.begin() == nullptr) { std::cout << \"'arr1' has been moved.\\n\"; }\n",
    "    if (arr2.begin() == nullptr) { std::cout << \"'arr2' has been moved.\\n\"; }\n",
    "    if (arr3.begin() == nullptr) { std::cout << \"'arr3' has been moved.\\n\"; }\n",
    "    \n",
    "    return 0;\n",
    "}"
   ]
  },
  {
   "cell_type": "markdown",
   "id": "f348d0b9",
   "metadata": {},
   "source": [
    "*Note:* By default, a move constructor and a move assignment operator overloading function are defined.\n",
    "\n",
    "*Note:* When a move constructor is defined, the implicit copy (and, move) constructor is no longer defined, and similarly for `=`.\n",
    "\n",
    "*Note:* C++11 defines `move` function in `<utility>`, that returns an rvalue reference to an lvalue."
   ]
  },
  {
   "cell_type": "markdown",
   "id": "c9e18933",
   "metadata": {},
   "source": [
    "When returning an r-value or an r-value reference from a function that returns by value, the move constructor is called."
   ]
  },
  {
   "cell_type": "code",
   "execution_count": 576,
   "id": "d9965359",
   "metadata": {},
   "outputs": [
    {
     "name": "stdout",
     "output_type": "stream",
     "text": [
      "A()\n",
      "A(A &&)\n"
     ]
    }
   ],
   "source": [
    "//%cflags: -O0\n",
    "\n",
    "#include <iostream>\n",
    "#include <utility>\n",
    "\n",
    "struct A {\n",
    "    A() { std::cout << \"A()\\n\"; }\n",
    "    A(A &&ref) { std::cout << \"A(A &&)\\n\"; }\n",
    "    A(const A &ref) { std::cout << \"A(const A &)\\n\"; }\n",
    "};\n",
    "\n",
    "A getA() {\n",
    "    A a;\n",
    "    return std::move(a);\n",
    "}\n",
    "\n",
    "int main() {\n",
    "    getA();\n",
    "}"
   ]
  },
  {
   "cell_type": "markdown",
   "id": "5777e4c4",
   "metadata": {},
   "source": [
    "#### Lambda Expressions <a class=\"anchor\" id=\"lambda-expressions\"></a>"
   ]
  },
  {
   "cell_type": "markdown",
   "id": "3931ddf4",
   "metadata": {},
   "source": [
    "A *lambda expression* can be thought of as an anonymous function object."
   ]
  },
  {
   "cell_type": "code",
   "execution_count": 577,
   "id": "1a5e3b69",
   "metadata": {},
   "outputs": [
    {
     "name": "stdout",
     "output_type": "stream",
     "text": [
      "3 4 5 6 7 "
     ]
    }
   ],
   "source": [
    "#include <iostream>\n",
    "#include <vector>\n",
    "#include <functional>\n",
    "                                  /* Implementation using function objects */\n",
    "                                  /* Pros: Well-defined and re-usable */\n",
    "template <class T>\n",
    "class within_range {\n",
    "    T lower, upper;\n",
    "public:\n",
    "    within_range(T lo, T up) : lower(lo), upper(up) {}\n",
    "    \n",
    "    bool operator() (T value) {\n",
    "        return value >= lower && value <= upper;\n",
    "    }\n",
    "};\n",
    "\n",
    "template<class F, class T>\n",
    "class print_if {\n",
    "    F fobj;\n",
    "public:\n",
    "    print_if(F fobj) : fobj(fobj) {}\n",
    "    \n",
    "    void operator() (T value) {\n",
    "        if (fobj(value)) {\n",
    "            std::cout << value << ' ';\n",
    "        }\n",
    "    }\n",
    "};\n",
    "\n",
    "template<class T>\n",
    "auto m_within_range(T upper, T lower) {\n",
    "    return within_range<T>(upper, lower);\n",
    "}\n",
    "\n",
    "template<class T, template<class> class F>\n",
    "auto m_print_if(F<T> fobj) {\n",
    "    return print_if<F<T>, T>(fobj);\n",
    "}\n",
    "\n",
    "int main() {\n",
    "    std::vector<int> v{1, 2, 3, 4, 5, 6, 7, 8, 9};\n",
    "    \n",
    "    for_each(v.begin(), v.end(), m_print_if(m_within_range(3, 7)));\n",
    "}"
   ]
  },
  {
   "cell_type": "code",
   "execution_count": 578,
   "id": "2d13353e",
   "metadata": {},
   "outputs": [
    {
     "name": "stdout",
     "output_type": "stream",
     "text": [
      "3 4 5 6 7 "
     ]
    }
   ],
   "source": [
    "#include <iostream>\n",
    "#include <vector>\n",
    "#include <functional>\n",
    "                                  /* Implementation using lambda expressions */\n",
    "                                  /* Pros: Short and concise. */\n",
    "\n",
    "int main() {\n",
    "    std::vector<int> v{1, 2, 3, 4, 5, 6, 7, 8, 9};\n",
    "    \n",
    "    for_each(v.begin(), v.end(), [] (int value) {\n",
    "        if (value >= 3 && value <= 7) {\n",
    "            std::cout << value << ' ';\n",
    "        }\n",
    "    });\n",
    "}"
   ]
  },
  {
   "cell_type": "markdown",
   "id": "369bf3f6",
   "metadata": {},
   "source": [
    "A lambda expression is composed of three parts:\n",
    "* Capure list `[]`, which specifies the variables to be captured from the surrounding scope.\n",
    "* Argument list `()`, which specifies the parameters passed upon call.\n",
    "* Body `{}`, which contains the statements to be executed with each call.\n",
    "\n",
    "`[]` is synonymous with the arguments passed to a function object's constructor, but it has its special syntax:"
   ]
  },
  {
   "cell_type": "markdown",
   "id": "262fe215",
   "metadata": {},
   "source": [
    "| *Capture List* | *Captures?* |\n",
    "| :-- | :-- |\n",
    "| `[]` | None. |\n",
    "| `[var1, &var2]` | Copies local variable `var1` and references `var2`. |\n",
    "| `[=, ...]` | Copies of all local variables, except which are specified next, are referenced. \n",
    "| `[&, ...]` | References to all local variables, except which are specified next, are copied. |\n",
    "| `[this]` | References to all member variables. |"
   ]
  },
  {
   "cell_type": "markdown",
   "id": "85ca0ede",
   "metadata": {},
   "source": [
    "*Note:* `this` may be integrated into different capture lists, but the behavior may be inconsistent across compilers and future standards."
   ]
  },
  {
   "cell_type": "markdown",
   "id": "89f1a622",
   "metadata": {},
   "source": [
    "By default, the body of a lambda expression may not modify the captured variables, which is synonymous with defining `operator()` to be `const`. To modify the captured variables, `mutable` should preceed the body."
   ]
  },
  {
   "cell_type": "code",
   "execution_count": 580,
   "id": "73c53152",
   "metadata": {},
   "outputs": [
    {
     "name": "stdout",
     "output_type": "stream",
     "text": [
      "Local: 1\n",
      "Member: 2\n"
     ]
    }
   ],
   "source": [
    "#include <iostream>\n",
    "\n",
    "class Integer {\n",
    "    int member;\n",
    "public:\n",
    "    Integer(int local) : member(local) {\n",
    "        ([=, this] () mutable {\n",
    "            local++;\n",
    "            member++;\n",
    "            return local;\n",
    "        })();\n",
    "        \n",
    "        std::cout << \"Local: \" << local << '\\n';\n",
    "        std::cout << \"Member: \" << member << '\\n';\n",
    "    }\n",
    "};\n",
    "\n",
    "int main() {\n",
    "    Integer(1);\n",
    "}"
   ]
  },
  {
   "cell_type": "markdown",
   "id": "22f7fc7e",
   "metadata": {},
   "source": [
    "To re-use a function object, allow the compiler to determine its type, by using the `auto` keyword."
   ]
  },
  {
   "cell_type": "code",
   "execution_count": 581,
   "id": "1e5fc975",
   "metadata": {},
   "outputs": [
    {
     "name": "stdout",
     "output_type": "stream",
     "text": [
      "Lambda-Call: 2\n",
      "Lambda-Call: 3\n",
      "Local: 1\n",
      "Member: 3\n"
     ]
    }
   ],
   "source": [
    "#include <iostream>\n",
    "\n",
    "class Integer {\n",
    "    int member;\n",
    "public:\n",
    "    Integer(int local) : member(local) {\n",
    "        auto lambda = ([=, this] () mutable {\n",
    "            local++;\n",
    "            member++;\n",
    "            return local;\n",
    "        });\n",
    "        \n",
    "        std::cout << \"Lambda-Call: \" << lambda() << '\\n';\n",
    "        std::cout << \"Lambda-Call: \" << lambda() << '\\n';\n",
    "        \n",
    "        std::cout << \"Local: \" << local << '\\n';\n",
    "        std::cout << \"Member: \" << member << '\\n';\n",
    "    }\n",
    "};\n",
    "\n",
    "int main() {\n",
    "    Integer(1);\n",
    "}"
   ]
  },
  {
   "cell_type": "markdown",
   "id": "2b485d7a",
   "metadata": {},
   "source": [
    "Alternatively, and to be able to perform recursion, C++11 defines `std::function` in `<functional>`, that may be passed the return type and argument types of a lambda expression, and yield the proper type."
   ]
  },
  {
   "cell_type": "code",
   "execution_count": 582,
   "id": "39586f28",
   "metadata": {},
   "outputs": [
    {
     "name": "stdout",
     "output_type": "stream",
     "text": [
      "Countdown: 3\n",
      "Countdown: 2\n"
     ]
    }
   ],
   "source": [
    "#include <iostream>\n",
    "#include <functional>\n",
    "\n",
    "int main() {\n",
    "    std::function<void(int)> countdown = [&countdown] (int c) {\n",
    "        std::cout << \"Countdown: \" << c << '\\n';\n",
    "        if (c > 0) { countdown(--c); }\n",
    "    };\n",
    "    \n",
    "    countdown(3);\n",
    "}"
   ]
  },
  {
   "cell_type": "markdown",
   "id": "106faf28",
   "metadata": {},
   "source": [
    "*Note:* The implementation of `std::function` is an application of meta-programming, and beyond the scope of this work."
   ]
  },
  {
   "cell_type": "markdown",
   "id": "1e212deb",
   "metadata": {},
   "source": [
    "By default, the return type of a lambda expression is determined implicitly. It may, however, be explicitly defined."
   ]
  },
  {
   "cell_type": "code",
   "execution_count": 583,
   "id": "267b0267",
   "metadata": {},
   "outputs": [
    {
     "name": "stdout",
     "output_type": "stream",
     "text": [
      "10"
     ]
    }
   ],
   "source": [
    "#include <iostream>\n",
    "\n",
    "int main() {\n",
    "    auto add = [] (double x, double y) -> int { \n",
    "        return x + y;\n",
    "    };\n",
    "    \n",
    "    std::cout << add(4.6, 5.6);\n",
    "}"
   ]
  },
  {
   "cell_type": "code",
   "execution_count": null,
   "id": "545ac86e",
   "metadata": {},
   "outputs": [],
   "source": [
    "template<class T, class U>                 /* C++11 allows lambda return syntax, */\n",
    "auto add(T x, U y) -> decltype(x*y);       /*  to be used in ordinary functions. */"
   ]
  },
  {
   "cell_type": "markdown",
   "id": "1e46063e",
   "metadata": {},
   "source": [
    "*Note:* If `->` is unemployed, and no parameters are required, `()` may be omitted."
   ]
  },
  {
   "cell_type": "markdown",
   "id": "f38e2fe8",
   "metadata": {},
   "source": [
    "Global variables are always accessible within a lambda expression."
   ]
  },
  {
   "cell_type": "code",
   "execution_count": 584,
   "id": "fe79bb2a",
   "metadata": {
    "scrolled": true
   },
   "outputs": [
    {
     "name": "stdout",
     "output_type": "stream",
     "text": [
      "678"
     ]
    }
   ],
   "source": [
    "#include <iostream>\n",
    "\n",
    "int cnt = 5;\n",
    "\n",
    "int main() {\n",
    "    auto inc = [] { return ++cnt; };\n",
    "    \n",
    "    for (int i = 0; i < 3; i++) {\n",
    "        std::cout << inc();\n",
    "    }\n",
    "}"
   ]
  },
  {
   "cell_type": "markdown",
   "id": "43a3e036",
   "metadata": {},
   "source": [
    "#### User-defined Literals <a class=\"anchor\" id=\"user-defined-literals\"></a>"
   ]
  },
  {
   "cell_type": "markdown",
   "id": "6d513601",
   "metadata": {},
   "source": [
    "C++11 introduces *user-defined literals* as a concept, applied by defining special suffixes to built-in literals."
   ]
  },
  {
   "cell_type": "code",
   "execution_count": 610,
   "id": "9ed6a354",
   "metadata": {},
   "outputs": [
    {
     "name": "stdout",
     "output_type": "stream",
     "text": [
      "[Re]: 1, [Im]: 2\n",
      "[Re]: 0, [Im]: 4.5\n",
      "[Re]: 1, [Im]: 4.5\n"
     ]
    }
   ],
   "source": [
    "#include <iostream>\n",
    "\n",
    "struct Complex {\n",
    "    double re, im;\n",
    "    \n",
    "    Complex(double re=0, double im=0) : re(re), im(im) {}\n",
    "};\n",
    "\n",
    "std::ostream & operator<< (std::ostream &os, const Complex &c) {\n",
    "    os << \"[Re]: \" << c.re << \", [Im]: \" << c.im << '\\n';\n",
    "    return os;\n",
    "}\n",
    "\n",
    "Complex operator\"\" _i(long double value) {\n",
    "    return Complex(0, value);\n",
    "}\n",
    "\n",
    "Complex operator+ (const Complex &c1, const Complex &c2) {\n",
    "    return Complex(c1.re + c2.re, c1.im + c2.im);\n",
    "}\n",
    "\n",
    "int main() {\n",
    "    std::cout << Complex(1, 2);\n",
    "    \n",
    "    std::cout << 4.5_i;\n",
    "    \n",
    "    std::cout << 1 + 4.5_i;\n",
    "}"
   ]
  },
  {
   "cell_type": "markdown",
   "id": "0ed613db",
   "metadata": {},
   "source": [
    "There are four kinds of built-in literals, that can be suffixed to make a user-defined literal."
   ]
  },
  {
   "cell_type": "markdown",
   "id": "1dcb1cfd",
   "metadata": {},
   "source": [
    "| Literal | Overloading Function |\n",
    "| :--- | :--- |\n",
    "| Integer | `CLASS operator\"\" _SUFFIX(unsigned long long)` |\n",
    "| Floating | `CLASS operator\"\" _SUFFIX(long double)`  |\n",
    "| String | `CLASS operator\"\" _SUFFIX(const char*, size_t)`  |\n",
    "| Character | `CLASS operator\"\" _SUFFIX(char)`  |"
   ]
  },
  {
   "cell_type": "markdown",
   "id": "5f4ded8a",
   "metadata": {},
   "source": [
    "*Note:* It is recommended to preceed user-defined literal suffixes with an underscore."
   ]
  },
  {
   "cell_type": "markdown",
   "id": "6add1a56",
   "metadata": {},
   "source": [
    "### Minor Ammendments <a class=\"anchor\" id=\"minor-ammendments\"></a>"
   ]
  },
  {
   "cell_type": "markdown",
   "id": "b08928ca",
   "metadata": {},
   "source": [
    "#### Enumeration Classes <a class=\"anchor\" id=\"enumeration-classes\"></a>"
   ]
  },
  {
   "cell_type": "markdown",
   "id": "a23efb7d",
   "metadata": {},
   "source": [
    "C++11 introduces *enumeration classes*, as a scoped alternative to plain enumerations."
   ]
  },
  {
   "cell_type": "code",
   "execution_count": 574,
   "id": "8bde63cf",
   "metadata": {},
   "outputs": [
    {
     "name": "stdout",
     "output_type": "stream",
     "text": [
      "He got a really high grade!"
     ]
    }
   ],
   "source": [
    "#include <iostream>\n",
    "\n",
    "enum class Grade {High, Average, Low};\n",
    "\n",
    "void tell_me(Grade grade) {\n",
    "    switch (grade) {\n",
    "        case Grade::High:\n",
    "            std::cout << \"He got a really high grade!\";\n",
    "            break;\n",
    "        case Grade::Average:\n",
    "            std::cout << \"He's kind'a average.\";\n",
    "            break;\n",
    "        case Grade::Low:\n",
    "            std::cout << \"He needs to pass the corrective exam, first!\";\n",
    "            break;\n",
    "    }\n",
    "}\n",
    "\n",
    "int main() {\n",
    "    tell_me(Grade::High);\n",
    "}"
   ]
  },
  {
   "cell_type": "markdown",
   "id": "e2d74f2e",
   "metadata": {},
   "source": [
    "You may specify a specific integral type to contain values from the `enum class` type, which is `int` by default."
   ]
  },
  {
   "cell_type": "code",
   "execution_count": null,
   "id": "f396d251",
   "metadata": {
    "scrolled": true
   },
   "outputs": [],
   "source": [
    "enum class Grade : char {High, Average, Low};"
   ]
  },
  {
   "cell_type": "markdown",
   "id": "93894462",
   "metadata": {},
   "source": [
    "*Note:* Implicit conversion from `int` to an `enum class` type, and vice versa, is prohibited."
   ]
  },
  {
   "cell_type": "markdown",
   "id": "f541218e",
   "metadata": {},
   "source": [
    "#### The `nullptr` keyword <a class=\"anchor\" id=\"the-nullptr-keyword\"></a>"
   ]
  },
  {
   "cell_type": "markdown",
   "id": "199bfbee",
   "metadata": {},
   "source": [
    "C++11 defines the `nullptr` keyword, to replace the ambigious zero-defined `NULL` macro."
   ]
  },
  {
   "cell_type": "code",
   "execution_count": 573,
   "id": "bba363bd",
   "metadata": {},
   "outputs": [
    {
     "name": "stdout",
     "output_type": "stream",
     "text": [
      "foo(long int)\n",
      "foo(long int *)\n"
     ]
    }
   ],
   "source": [
    "//%cflags: -w\n",
    "\n",
    "#include <iostream>\n",
    "\n",
    "void foo(long int x) {\n",
    "    std::cout << \"foo(long int)\\n\";\n",
    "}\n",
    "\n",
    "void foo(long int *x) {\n",
    "    std::cout << \"foo(long int *)\\n\";\n",
    "}\n",
    "\n",
    "int main() {\n",
    "    foo(NULL);\n",
    "    foo(nullptr);\n",
    "}"
   ]
  },
  {
   "cell_type": "markdown",
   "id": "72b97724",
   "metadata": {},
   "source": [
    "*Note:* The statement `delete nullptr;` is harmless."
   ]
  },
  {
   "cell_type": "markdown",
   "id": "5bd060cf",
   "metadata": {},
   "source": [
    "#### Raw String Literals <a class=\"anchor\" id=\"raw-string-literals\"></a>"
   ]
  },
  {
   "cell_type": "markdown",
   "id": "0e4d15ee",
   "metadata": {},
   "source": [
    "C++11 introduces *raw string literals*, surrounded by `R\"(` and `)\"`, within which backslashes may not be escaped."
   ]
  },
  {
   "cell_type": "code",
   "execution_count": 586,
   "id": "c56b6f82",
   "metadata": {},
   "outputs": [
    {
     "name": "stdout",
     "output_type": "stream",
     "text": [
      "Hello.\\n"
     ]
    }
   ],
   "source": [
    "#include <iostream>\n",
    "\n",
    "int main() {\n",
    "    std::cout << R\"(Hello.\\n)\";\n",
    "}"
   ]
  },
  {
   "cell_type": "markdown",
   "id": "4a58c43d",
   "metadata": {},
   "source": [
    "*Note:* Escape characters, such as `\\n`, cannot be placed within a raw string literal."
   ]
  },
  {
   "cell_type": "markdown",
   "id": "05c0e797",
   "metadata": {},
   "source": [
    "As many *delimiting* characters may be placed between `\"` and `(`, to distinguish the opening and closing from any similar sequence of characters within the raw string literal itself. It goes that the closing delimiting characters must match exactly."
   ]
  },
  {
   "cell_type": "code",
   "execution_count": 587,
   "id": "53d90122",
   "metadata": {},
   "outputs": [
    {
     "name": "stdout",
     "output_type": "stream",
     "text": [
      "R\"(Hello.\\n)\""
     ]
    }
   ],
   "source": [
    "#include <iostream>\n",
    "\n",
    "int main() {\n",
    "    std::cout << R\"***(R\"(Hello.\\n)\")***\";\n",
    "}"
   ]
  },
  {
   "cell_type": "markdown",
   "id": "275d3b35",
   "metadata": {},
   "source": [
    "### OOP Ammendments <a class=\"anchor\" id=\"oop-ammendments\"></a>"
   ]
  },
  {
   "cell_type": "markdown",
   "id": "c8fc87e1",
   "metadata": {},
   "source": [
    "#### In-class Initializers <a class=\"anchor\" id=\"in-class-initializers\"></a>"
   ]
  },
  {
   "cell_type": "markdown",
   "id": "c51f845e",
   "metadata": {},
   "source": [
    "C++11 permits in-class initialization of member attributes."
   ]
  },
  {
   "cell_type": "code",
   "execution_count": 592,
   "id": "64090d73",
   "metadata": {},
   "outputs": [
    {
     "name": "stdout",
     "output_type": "stream",
     "text": [
      "1, 2, 1\n",
      "7, 8, 9\n"
     ]
    }
   ],
   "source": [
    "#include <iostream>\n",
    "\n",
    "int cnt = 1;\n",
    "\n",
    "auto inc = [] (int &val) { return ++val; };\n",
    "auto dec = [] (int &val) { return --val; };\n",
    "\n",
    "struct A {\n",
    "    int x = cnt;\n",
    "    int y = inc(cnt);\n",
    "    int z = dec(cnt);\n",
    "    \n",
    "    A() {}\n",
    "    A(int x, int y, int z) : x(x), y(y), z(z) {}\n",
    "};\n",
    "\n",
    "std::ostream & operator<<(std::ostream &os, const A &a) {\n",
    "    std::cout << a.x << \", \" << a.y << \", \" << a.z << '\\n';\n",
    "    return os;\n",
    "}\n",
    "\n",
    "int main() {\n",
    "    std::cout << A();\n",
    "    std::cout << A(7, 8, 9);\n",
    "}"
   ]
  },
  {
   "cell_type": "markdown",
   "id": "f776ee92",
   "metadata": {},
   "source": [
    "*Note:* If a constructor initializes a member, it overrides the default in-class initializer."
   ]
  },
  {
   "cell_type": "markdown",
   "id": "57b2cbc3",
   "metadata": {},
   "source": [
    "*Note:* An in-class initializer cannot use direct initialization, using `()`."
   ]
  },
  {
   "cell_type": "markdown",
   "id": "ac6fbe21",
   "metadata": {},
   "source": [
    "#### `default` Methods <a class=\"anchor\" id=\"default-methods\"></a>"
   ]
  },
  {
   "cell_type": "markdown",
   "id": "7e02b286",
   "metadata": {},
   "source": [
    "C++11 allows the explicit definition of *default* methods, methods implictly defined by the compiler, and omitted only when overriden."
   ]
  },
  {
   "cell_type": "code",
   "execution_count": null,
   "id": "fea96888",
   "metadata": {},
   "outputs": [],
   "source": [
    "class A {\n",
    "    A() = default;                              /* Default constructor */\n",
    "    \n",
    "    A(const A &a) = default;                    /* Copy constructor    */\n",
    "    \n",
    "    A(A &&a) = default;                         /* Move constructor    */\n",
    "    \n",
    "    A & operator=(const A &a) = default;        /* Copy assignment     */\n",
    "    \n",
    "    A & operator=(A &&a) = default;             /* Move assignment     */\n",
    "    \n",
    "    ~A() = default;                             /* Default destructor  */\n",
    "};"
   ]
  },
  {
   "cell_type": "markdown",
   "id": "716e102a",
   "metadata": {},
   "source": [
    "#### `delete` Functions <a class=\"anchor\" id=\"delete-functions\"></a>"
   ]
  },
  {
   "cell_type": "markdown",
   "id": "a676e9df",
   "metadata": {},
   "source": [
    "C++11 allows for default methods to be explicitly *deleted* from a class."
   ]
  },
  {
   "cell_type": "code",
   "execution_count": null,
   "id": "3ca903ce",
   "metadata": {},
   "outputs": [],
   "source": [
    "class A {\n",
    "    A() = delete;\n",
    "};\n",
    "\n",
    "int main() {\n",
    "    A();               /* Error: Use of deleted function. */\n",
    "}"
   ]
  },
  {
   "cell_type": "markdown",
   "id": "578a1578",
   "metadata": {},
   "source": [
    "Another application of the `delete` keyword is to delete possible specializations of a template function."
   ]
  },
  {
   "cell_type": "code",
   "execution_count": null,
   "id": "fea1f091",
   "metadata": {},
   "outputs": [],
   "source": [
    "#include <iostream>\n",
    "#include <string>\n",
    "\n",
    "template<class T>\n",
    "T add(T x, T y) { return x + y; }\n",
    "\n",
    "std::string add(std::string, std::string) = delete;\n",
    "\n",
    "int main() {\n",
    "    std::cout << add(std::string(\"Hello,\"),\n",
    "                         std::string(\" World.\"));          /* Error: Use of deleted function. */\n",
    "                         \n",
    "    std::cout << add<std::string>(\"Hello,\", \" World.\");    /* Valid call. */\n",
    "}"
   ]
  },
  {
   "cell_type": "markdown",
   "id": "1d604e51",
   "metadata": {},
   "source": [
    "#### Inheriting Constructors <a class=\"anchor\" id=\"inheriting-constructors\"></a>"
   ]
  },
  {
   "cell_type": "markdown",
   "id": "142e41c3",
   "metadata": {},
   "source": [
    "C++11 allows inheriting constructors from a base class."
   ]
  },
  {
   "cell_type": "code",
   "execution_count": 615,
   "id": "450aa024",
   "metadata": {},
   "outputs": [
    {
     "name": "stdout",
     "output_type": "stream",
     "text": [
      "1, 2, 3, 4, 5, \b\b  \n"
     ]
    }
   ],
   "source": [
    "//%cflags: -I.jupyter\n",
    "\n",
    "#include <iostream>\n",
    "#include <vector>\n",
    "#include \"helpers.h\"\n",
    "\n",
    "template<class T>\n",
    "class MyVector : public std::vector<T> {\n",
    "public:\n",
    "    using std::vector<T>::vector;\n",
    "};\n",
    "\n",
    "int main() {\n",
    "    MyVector<int> v{1, 2, 3, 4, 5};\n",
    "    \n",
    "    forwardly(v.begin(), v.end());\n",
    "}"
   ]
  },
  {
   "cell_type": "markdown",
   "id": "26628bbe",
   "metadata": {},
   "source": [
    "#### Delegating Constructors <a class=\"anchor\" id=\"delegating-constructors\"></a>"
   ]
  },
  {
   "cell_type": "markdown",
   "id": "b2bff502",
   "metadata": {},
   "source": [
    "A *delegating constructor* is a constructor that delegates its operation to another constructor."
   ]
  },
  {
   "cell_type": "code",
   "execution_count": 591,
   "id": "9b7cd064",
   "metadata": {},
   "outputs": [
    {
     "name": "stdout",
     "output_type": "stream",
     "text": [
      "A(int)\n",
      "A()\n"
     ]
    }
   ],
   "source": [
    "#include <iostream>\n",
    "\n",
    "class A {\n",
    "public:\n",
    "    int a;\n",
    "    \n",
    "    A(int x) : a(x) {               /* Delegated-to */\n",
    "        std::cout << \"A(int)\\n\";\n",
    "    }\n",
    "    \n",
    "    A() : A(10) {                   /* Delegating */\n",
    "        std::cout << \"A()\\n\";\n",
    "    }\n",
    "};\n",
    "\n",
    "int main() {\n",
    "    A();\n",
    "}"
   ]
  },
  {
   "cell_type": "markdown",
   "id": "063645bd",
   "metadata": {},
   "source": [
    "*Note:* Construction delegation cannot be combined with a member initializer."
   ]
  },
  {
   "cell_type": "markdown",
   "id": "6c72acb4",
   "metadata": {},
   "source": [
    "#### The `override` keyword <a class=\"anchor\" id=\"the-override-keyword\"></a>"
   ]
  },
  {
   "cell_type": "markdown",
   "id": "dd06fe2c",
   "metadata": {},
   "source": [
    "C++11 introduces the `override` keyword, that may be placed before the body of a method in a derived class.\n",
    "\n",
    "The compiler gurantees that any method marked as `override` must be overriding a `virtual` method in the base class."
   ]
  },
  {
   "cell_type": "code",
   "execution_count": null,
   "id": "e79947dc",
   "metadata": {},
   "outputs": [],
   "source": [
    "class A {\n",
    "    virtual void a() {}\n",
    "    \n",
    "    void b() {}\n",
    "};\n",
    "\n",
    "class B : public A {\n",
    "    void a() override {}         /* Valid. */\n",
    "    \n",
    "    void b() override {}         /* Error: 'B::b()' marked override, but does not override. */\n",
    "};"
   ]
  },
  {
   "cell_type": "markdown",
   "id": "b329df4c",
   "metadata": {},
   "source": [
    "#### The `final` keyword <a class=\"anchor\" id=\"the-final-keyword\"></a>"
   ]
  },
  {
   "cell_type": "markdown",
   "id": "3ca180ce",
   "metadata": {},
   "source": [
    "C++11 introduces the `final` keyword, that may be placed before the body of a method in a class.\n",
    "\n",
    "The compiler gurantees that any `virtual` method marked as `final` cannot be overriden in a `virtual` class"
   ]
  },
  {
   "cell_type": "code",
   "execution_count": null,
   "id": "1f0c3b73",
   "metadata": {},
   "outputs": [],
   "source": [
    "class A {\n",
    "    virtual void foo() final {}\n",
    "};\n",
    "\n",
    "class B : public A {\n",
    "    void foo() override {}        /* Error: virtual overriding final function */\n",
    "};"
   ]
  },
  {
   "cell_type": "markdown",
   "id": "0a9a978b",
   "metadata": {},
   "source": [
    "#### `explicit` Conversion Operators <a class=\"anchor\" id=\"explicit-conversion-operators\"></a>"
   ]
  },
  {
   "cell_type": "markdown",
   "id": "5bd37a30",
   "metadata": {},
   "source": [
    "C++11 allows type conversion operator overloading methods to be declared `explicit`, a keyword previously reserved for constructors."
   ]
  },
  {
   "cell_type": "code",
   "execution_count": 595,
   "id": "0632d0c5",
   "metadata": {
    "scrolled": true
   },
   "outputs": [
    {
     "name": "stdout",
     "output_type": "stream",
     "text": [
      "5"
     ]
    }
   ],
   "source": [
    "#include <iostream>\n",
    "\n",
    "struct Integer {\n",
    "    int value;\n",
    "    \n",
    "    Integer(int value) : value(value) {}\n",
    "    \n",
    "    explicit operator int () {\n",
    "        return value;\n",
    "    }\n",
    "};\n",
    "\n",
    "int main() {\n",
    "    Integer x = 5;\n",
    "    int y = static_cast<int>(x);\n",
    "    \n",
    "    std::cout << y;\n",
    "}"
   ]
  },
  {
   "cell_type": "markdown",
   "id": "099fb77c",
   "metadata": {},
   "source": [
    "### Minor Emendations <a class=\"anchor\" id=\"minor-emendations\"></a>"
   ]
  },
  {
   "cell_type": "markdown",
   "id": "d3c3ab4a",
   "metadata": {},
   "source": [
    "#### `using` Type Aliases <a class=\"anchor\" id=\"using-type-aliases\"></a>"
   ]
  },
  {
   "cell_type": "markdown",
   "id": "925415dc",
   "metadata": {},
   "source": [
    "C++11 allows the `using` keyword to define a type alias. "
   ]
  },
  {
   "cell_type": "code",
   "execution_count": null,
   "id": "a0f6c504",
   "metadata": {},
   "outputs": [],
   "source": [
    "using Vector = std::vector<int>;         /* 'using' Type Alias */"
   ]
  },
  {
   "cell_type": "code",
   "execution_count": null,
   "id": "20624b79",
   "metadata": {},
   "outputs": [],
   "source": [
    "typedef std::vector<int> Vector;         /* 'typedef' Type Alias, equivalent */"
   ]
  },
  {
   "cell_type": "markdown",
   "id": "ec14d766",
   "metadata": {},
   "source": [
    "The `using` keyword permits the definition of template aliases."
   ]
  },
  {
   "cell_type": "code",
   "execution_count": 585,
   "id": "88334782",
   "metadata": {},
   "outputs": [
    {
     "name": "stdout",
     "output_type": "stream",
     "text": [
      "W-1234!"
     ]
    }
   ],
   "source": [
    "#include <iostream>\n",
    "#include <utility>\n",
    "\n",
    "template<class T>\n",
    "using charAndValue = std::pair<char, T>;\n",
    "\n",
    "int main() {\n",
    "    charAndValue<int> p{'W', 1234};\n",
    "\n",
    "    std::cout << p.first << '-' << p.second << '!';\n",
    "}"
   ]
  },
  {
   "cell_type": "markdown",
   "id": "83e55456",
   "metadata": {},
   "source": [
    "#### The `noexcept` keyword <a class=\"anchor\" id=\"the-noexcept-keyword\"></a>"
   ]
  },
  {
   "cell_type": "markdown",
   "id": "5589430f",
   "metadata": {},
   "source": [
    "C++11 introduces the `noexcept` specification, equivalent to `throw ()`."
   ]
  },
  {
   "cell_type": "code",
   "execution_count": null,
   "id": "798404a4",
   "metadata": {},
   "outputs": [],
   "source": [
    "int add(int, int) noexcept;"
   ]
  },
  {
   "cell_type": "code",
   "execution_count": null,
   "id": "d0575a51",
   "metadata": {},
   "outputs": [],
   "source": [
    "int add(int, int) throw ();             /* Equivalent */"
   ]
  },
  {
   "cell_type": "markdown",
   "id": "343d9a58",
   "metadata": {},
   "source": [
    "The `noexcept` specification may evaluate a `constexpr` expression, to determine specifically what the specification implies."
   ]
  },
  {
   "cell_type": "code",
   "execution_count": 588,
   "id": "a4ae89b9",
   "metadata": {},
   "outputs": [
    {
     "name": "stdout",
     "output_type": "stream",
     "text": [
      "01"
     ]
    }
   ],
   "source": [
    "#include <iostream>\n",
    "\n",
    "int one() noexcept(false) { return 1; }\n",
    "int zero() noexcept(true) { return 0; }\n",
    "\n",
    "int main() {\n",
    "    std::cout << noexcept(one()) << noexcept(zero());\n",
    "}"
   ]
  },
  {
   "cell_type": "markdown",
   "id": "7ae1a8bd",
   "metadata": {},
   "source": [
    "The `noexcept` operator returns a `bool`, indicating whether an expression may throw an exception.\n",
    "\n",
    "It checks every function call within an expression, for the `noexcept` specification."
   ]
  },
  {
   "cell_type": "code",
   "execution_count": 589,
   "id": "d44ad396",
   "metadata": {},
   "outputs": [
    {
     "name": "stdout",
     "output_type": "stream",
     "text": [
      "10"
     ]
    }
   ],
   "source": [
    "#include <iostream>\n",
    "#include <vector>\n",
    "\n",
    "int main() {\n",
    "    std::cout << noexcept(std::vector<int>());    /* Zero-allocation, may not throw */\n",
    "    std::cout << noexcept(std::vector<int>(1));   /* Allocates memory, may throw 'std::bad_alloc' */\n",
    "}"
   ]
  },
  {
   "cell_type": "markdown",
   "id": "cd8aab6a",
   "metadata": {},
   "source": [
    "#### `inline` Namespaces <a class=\"anchor\" id=\"inline-namespaces\"></a>"
   ]
  },
  {
   "cell_type": "markdown",
   "id": "05508606",
   "metadata": {},
   "source": [
    "An *inline namespace* is, usually, a nested namespace, e.g: `B` nested within `A`, whose constituents may be accessed directly through the parent namespace, e.g: `B::`, or through normal, nested syntax, e.g: `B::A::`."
   ]
  },
  {
   "cell_type": "code",
   "execution_count": 590,
   "id": "5507d2e2",
   "metadata": {},
   "outputs": [
    {
     "name": "stdout",
     "output_type": "stream",
     "text": [
      "Santa doesn't exist.\n",
      "We didn't land on the moon.\n",
      "Santa doesn't exist.\n",
      "Santa doesn't exist.\n",
      "We didn't land on the moon.\n"
     ]
    }
   ],
   "source": [
    "#include <iostream>\n",
    "#include <string>\n",
    "\n",
    "namespace AA {\n",
    "    std::string secret = \"Santa doesn't exist.\";\n",
    "}\n",
    "\n",
    "namespace BB {\n",
    "    std::string secret = \"We didn't land on the moon.\";\n",
    "}\n",
    "\n",
    "namespace Letter {\n",
    "     inline namespace A {\n",
    "         using namespace AA;\n",
    "     }\n",
    "     \n",
    "     namespace B {\n",
    "         using namespace BB;\n",
    "     }\n",
    "}\n",
    "\n",
    "int main() {\n",
    "    auto show = [] (std::string &s) { std::cout << s << '\\n'; };\n",
    "\n",
    "    show(AA::secret);\n",
    "    show(BB::secret);\n",
    "    show(Letter::secret);\n",
    "    show(Letter::A::secret);\n",
    "    show(Letter::B::secret);\n",
    "}"
   ]
  },
  {
   "cell_type": "markdown",
   "id": "1d10456b",
   "metadata": {},
   "source": [
    "### Meta-programming <a class=\"anchor\" id=\"meta-programming\"></a>"
   ]
  },
  {
   "cell_type": "markdown",
   "id": "8277905e",
   "metadata": {},
   "source": [
    "*Meta-programming* is programming that manipulates programming entities. It usually employs templates to compute types and values at compile-time.\n",
    "\n",
    "*Note:* The C++ meta-programming library is encapsulated in the `<type_traits>` header."
   ]
  },
  {
   "cell_type": "markdown",
   "id": "e18ded41",
   "metadata": {},
   "source": [
    "#### Type Functions <a class=\"anchor\" id=\"type-functions\"></a>"
   ]
  },
  {
   "cell_type": "markdown",
   "id": "2686d641",
   "metadata": {},
   "source": [
    "A *type* function is a function that either, takes at least one type argument, or produces at least one type as a result.\n",
    "\n",
    "A *type predicate* is a type function that returns a `bool` value, `true` or `false`, based on the type argument(s). For example, `is_polymorphic` is a standard library type predicate, that returns `true` if the passed type is polymorphic, otherwise `false`. \n",
    "\n",
    "A *type selector* is a type function that selects between two, or more types based on a `bool` constant expression. For example, `conditional<BOOL, TYPE_A, TYPE_B>` is a standard library type selector, that yields `TYPE_A` if `BOOL` evaluates to `true`, otherwise `TYPE_B`."
   ]
  },
  {
   "cell_type": "code",
   "execution_count": 645,
   "id": "74087610",
   "metadata": {},
   "outputs": [
    {
     "name": "stdout",
     "output_type": "stream",
     "text": [
      "1B"
     ]
    }
   ],
   "source": [
    "#include <iostream>\n",
    "#include <type_traits>\n",
    "\n",
    "struct A {\n",
    "    ~A() {}\n",
    "};\n",
    "\n",
    "struct B {\n",
    "    virtual ~B() {}\n",
    "};\n",
    "\n",
    "int main() {\n",
    "    typename std::conditional<std::is_polymorphic<A>::value, A, B>::type obj;\n",
    "\n",
    "    std::cout << typeid(obj).name();\n",
    "}"
   ]
  },
  {
   "cell_type": "code",
   "execution_count": 648,
   "id": "f85797bd",
   "metadata": {},
   "outputs": [
    {
     "name": "stdout",
     "output_type": "stream",
     "text": [
      "1B"
     ]
    }
   ],
   "source": [
    "template<bool BOOL, class TYPE_A, class TYPE_B>        /* Implementation of 'std::conditional' */\n",
    "struct conditional {\n",
    "    using type = TYPE_A;\n",
    "};\n",
    "\n",
    "template<class TYPE_A, class TYPE_B>\n",
    "struct conditional<false, TYPE_A, TYPE_B> {\n",
    "    using type = TYPE_B;\n",
    "};"
   ]
  },
  {
   "cell_type": "markdown",
   "id": "2e29858f",
   "metadata": {},
   "source": [
    "*Note:* Type functions are templates in actuality, that receive arguments as template arguments, and return values or types as members."
   ]
  },
  {
   "cell_type": "markdown",
   "id": "59e9a9bf",
   "metadata": {},
   "source": [
    "A type alias can be used to simplify a call to type function that returns a type, allowing for the omission of the `typename` keyword."
   ]
  },
  {
   "cell_type": "code",
   "execution_count": 646,
   "id": "87f3e9c1",
   "metadata": {},
   "outputs": [
    {
     "name": "stdout",
     "output_type": "stream",
     "text": [
      "1B"
     ]
    }
   ],
   "source": [
    "#include <iostream>\n",
    "#include <type_traits>\n",
    "\n",
    "struct A {\n",
    "    ~A() {}\n",
    "};\n",
    "\n",
    "struct B {\n",
    "    virtual ~B() {}\n",
    "};\n",
    "\n",
    "template<class X, class Y>\n",
    "using select_polymorphic = typename std::conditional<std::is_polymorphic<X>::value, X, Y>::type;\n",
    "\n",
    "int main() {\n",
    "    select_polymorphic<A, B> obj;\n",
    "\n",
    "    std::cout << typeid(obj).name();\n",
    "}"
   ]
  },
  {
   "cell_type": "markdown",
   "id": "7b83cdc8",
   "metadata": {},
   "source": [
    "#### Variadic Templates <a class=\"anchor\" id=\"variadic-templates\"></a>"
   ]
  },
  {
   "cell_type": "markdown",
   "id": "094a4784",
   "metadata": {},
   "source": [
    "A *variadic template* allows the passing of a variable number of template arguments. This becomes useful in multiple contexts.\n",
    "\n",
    "For example, variadic templates enables the passing of a variable number of function arguments, each of a different type, called a *function argument pack*. Each argument has a corresponding type in the *template argument pack*."
   ]
  },
  {
   "cell_type": "code",
   "execution_count": 690,
   "id": "4751a154",
   "metadata": {},
   "outputs": [
    {
     "name": "stdout",
     "output_type": "stream",
     "text": [
      "5\n",
      "Hello\n",
      "4.56\n"
     ]
    }
   ],
   "source": [
    "#include <iostream>\n",
    "\n",
    "template<class T>                  /* Terminating version, must preceed variadic version */\n",
    "void printer(T arg) {\n",
    "    std::cout << arg << '\\n';\n",
    "}\n",
    "\n",
    "template<class T, class ... U>     /* Variadic version. */\n",
    "void printer(T arg, U ... args) {\n",
    "    std::cout << arg << '\\n';\n",
    "    printer(args ...);\n",
    "}\n",
    "\n",
    "int main() {\n",
    "    printer(5, \"Hello\", 4.56f);\n",
    "\n",
    "    return 0;\n",
    "}"
   ]
  },
  {
   "cell_type": "markdown",
   "id": "ed92fe26",
   "metadata": {},
   "source": [
    "*Note:* The `std::tuple` variadic template class is a standard library generalization of `std::pair`."
   ]
  }
 ],
 "metadata": {
  "kernelspec": {
   "display_name": "C++ Language (ipykernel)",
   "language": "c++",
   "name": "kernel_cpp"
  },
  "language_info": {
   "file_extension": ".cpp",
   "mimetype": "text/plain",
   "name": "c++"
  }
 },
 "nbformat": 4,
 "nbformat_minor": 5
}
