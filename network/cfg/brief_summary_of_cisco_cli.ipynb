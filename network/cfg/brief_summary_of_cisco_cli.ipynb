{
 "cells": [
  {
   "cell_type": "markdown",
   "id": "57a5dd54",
   "metadata": {},
   "source": [
    "# A brief summary of the *Cisco* Command-Line Interface *(CLI)*\n",
    "<br>\n",
    "<div style=\"opacity: 0.8; font-family: Consolas, Monaco, Lucida Console, Liberation Mono, DejaVu Sans Mono, Bitstream Vera Sans Mono, Courier New; font-size: 12px; font-style: italic;\">\n",
    "    ────────\n",
    "    for more from the author, visit\n",
    "    <a href=\"https://github.com/hazemanwer2000\">github.com/hazemanwer2000</a>.\n",
    "    ────────\n",
    "</div>"
   ]
  },
  {
   "cell_type": "markdown",
   "id": "d5d19f27",
   "metadata": {},
   "source": [
    "## Table of Contents"
   ]
  },
  {
   "cell_type": "markdown",
   "id": "72ac0b87",
   "metadata": {},
   "source": [
    "Any *Cisco* device provides a command-line interface, as means to query and configure different network parameters within."
   ]
  },
  {
   "cell_type": "markdown",
   "id": "5a1ba2fb",
   "metadata": {},
   "source": [
    "## Mode(s) of operaion"
   ]
  },
  {
   "cell_type": "markdown",
   "id": "0b7f54af",
   "metadata": {},
   "source": [
    "*Cisco* software may exist in a number of modes, each allowing a subset of all possible commands.\n",
    "\n",
    "The figure below shows the possible mode transitions, and the different commands that trigger the respective transition."
   ]
  },
  {
   "cell_type": "markdown",
   "id": "18f470f1",
   "metadata": {},
   "source": [
    "<img src=\"../../.img/network-cisco-modes.png\" width=\"600\" />"
   ]
  },
  {
   "cell_type": "markdown",
   "id": "e52deefa",
   "metadata": {},
   "source": [
    "### *User* Mode"
   ]
  },
  {
   "cell_type": "markdown",
   "id": "332742c2",
   "metadata": {},
   "source": [
    "Initially, upon booting, the software is in *User* mode.\n",
    "\n",
    "In *User* mode, only commands that are non-disruptive to the activity of the device may be executed."
   ]
  },
  {
   "cell_type": "markdown",
   "id": "8b45fbc7",
   "metadata": {},
   "source": [
    "### *Enable* Mode"
   ]
  },
  {
   "cell_type": "markdown",
   "id": "446ba8a1",
   "metadata": {},
   "source": [
    "In *Enable* mode, a superset of the commands available in *User* mode may be executed, enabling commands that may be disruptive to the activity of the device.\n",
    "\n",
    "*Note:* This superset of commands is usually referred to as *EXEC* commands."
   ]
  },
  {
   "cell_type": "markdown",
   "id": "feac6846",
   "metadata": {},
   "source": [
    "### *Configuration* Mode"
   ]
  },
  {
   "cell_type": "markdown",
   "id": "4d4f1ea6",
   "metadata": {},
   "source": [
    "In *Configuration* mode, only commands that alter the configuration of the device may be executed.\n",
    "\n",
    "Within *Configuration* mode are *sub-mode(s)* that may be transitioned to, each through a specific command, and transitioned out of, through the `exit` command.\n",
    "\n",
    "*Configuration* mode exposes commands that alter the configuration of the device in general, while *Configuration* *sub-mode(s)* expose commands that alter the configuration of a specific aspect of the device."
   ]
  },
  {
   "cell_type": "markdown",
   "id": "ceb202c3",
   "metadata": {},
   "source": [
    "## Help Feature(s)"
   ]
  },
  {
   "cell_type": "markdown",
   "id": "d356d1dc",
   "metadata": {},
   "source": [
    "*Cisco* software provides some help features at the prompt."
   ]
  },
  {
   "cell_type": "markdown",
   "id": "e5159ce3",
   "metadata": {},
   "source": [
    "| *Syntax* | *Description* |\n",
    "| :--- | :--- |\n",
    "| `?` | Lists all commands that may be executed in the current mode. |\n",
    "| `command?` | Lists all commands that may be executed in the current mode, that begin with `command`. |\n",
    "| ㅤ | |\n",
    "| `command ?` | Lists all *first* parameters that may be given to `command`. |\n",
    "| `command param?` | Lists all *first* parameters that may be given to `command`, that begin with `param`. |"
   ]
  },
  {
   "cell_type": "markdown",
   "id": "c2d18e60",
   "metadata": {},
   "source": [
    "## Command(s)"
   ]
  },
  {
   "cell_type": "markdown",
   "id": "19325d09",
   "metadata": {},
   "source": [
    "Some commands perform the same functionality on all *Cisco* devices."
   ]
  },
  {
   "cell_type": "markdown",
   "id": "8484b8b9",
   "metadata": {},
   "source": [
    "### General Command(s)"
   ]
  },
  {
   "cell_type": "markdown",
   "id": "ac4d26b6",
   "metadata": {},
   "source": [
    "| *Command* | *Mode(s)* | *Description* |\n",
    "| :--- | :--- | :--- |\n",
    "| `hostname` | *Configuration* | Set *CLI* prompt name.\n",
    "| `enable secret PASS` | *Configuration* | Set password, to be able to transition to *Enable* mode.\n",
    "| ㅤ | |\n",
    "| `reload` | *Enable* | Reboot the device."
   ]
  },
  {
   "cell_type": "markdown",
   "id": "beb8fcb5",
   "metadata": {},
   "source": [
    "### Mode-related Command(s)"
   ]
  },
  {
   "cell_type": "markdown",
   "id": "7592f58e",
   "metadata": {},
   "source": [
    "Some command(s) trigger the transition from one mode to another."
   ]
  },
  {
   "cell_type": "markdown",
   "id": "7d1be877",
   "metadata": {},
   "source": [
    "| *Command* | *Mode(s)* | *Description* |\n",
    "| :--- | :---: | :--- |\n",
    "| `enable` | *User* | Transition from `User` to `Enable` mode.\n",
    "| `disable` | *Enable* | Transition from `Enable` to `User` mode.\n",
    "| ㅤ | |\n",
    "| `configure terminal` | *Enable* | Transition from `Enable` to `Configuration` mode.\n",
    "| `end` | *Configuration* | Transition from `Configuration` to `Enable` mode.\n",
    "| ㅤ | |\n",
    "| `exit` | *Configuration sub-mode* | Transition from `Configuration sub-mode` to `Configuration` mode."
   ]
  },
  {
   "cell_type": "markdown",
   "id": "42fee178",
   "metadata": {},
   "source": [
    "### `config`-related Command(s)"
   ]
  },
  {
   "cell_type": "markdown",
   "id": "c3f5cf4c",
   "metadata": {},
   "source": [
    "Upon booting, the stored configuration in non-volatile memory, called `startup-config`, is loaded into volatile memory, called `running-config`.\n",
    "\n",
    "*Cisco* software always utilizes `running-config` while running. Configuration commands affect `running-config`."
   ]
  },
  {
   "cell_type": "markdown",
   "id": "fe5ead5b",
   "metadata": {},
   "source": [
    "*Note:* When first setuping up a *Cisco* device, `startup-config` is empty, and all relevant paramaters assume a default value. When a parameter is configured, it overrides this default value."
   ]
  },
  {
   "cell_type": "markdown",
   "id": "84a2a5f2",
   "metadata": {},
   "source": [
    "| *Command* | *Mode(s)* | *Description* |\n",
    "| :--- | :---: | :--- |\n",
    "| `copy running-config startup-config` | *Enable* | Copy `running-config` to `startup-config`.\n",
    "| `erase startup-config` | *Enable* | Erase `startup-config`."
   ]
  }
 ],
 "metadata": {
  "kernelspec": {
   "display_name": "Python 3 (ipykernel)",
   "language": "python",
   "name": "python3"
  },
  "language_info": {
   "codemirror_mode": {
    "name": "ipython",
    "version": 3
   },
   "file_extension": ".py",
   "mimetype": "text/x-python",
   "name": "python",
   "nbconvert_exporter": "python",
   "pygments_lexer": "ipython3",
   "version": "3.8.10"
  }
 },
 "nbformat": 4,
 "nbformat_minor": 5
}
