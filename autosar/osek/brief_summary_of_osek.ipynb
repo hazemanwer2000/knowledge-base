{
 "cells": [
  {
   "cell_type": "markdown",
   "id": "d582f54b",
   "metadata": {},
   "source": [
    "# A brief summary of *OSEK OS*\n",
    "<br>\n",
    "<div style=\"opacity: 0.8; font-family: Consolas, Monaco, Lucida Console, Liberation Mono, DejaVu Sans Mono, Bitstream Vera Sans Mono, Courier New; font-size: 12px; font-style: italic;\">\n",
    "    \u2500\u2500\u2500\u2500\u2500\u2500\u2500\u2500\n",
    "    for more from the author, visit\n",
    "    <a href=\"https://github.com/hazemanwer2000\">github.com/hazemanwer2000</a>.\n",
    "    \u2500\u2500\u2500\u2500\u2500\u2500\u2500\u2500\n",
    "</div>"
   ]
  },
  {
   "cell_type": "markdown",
   "id": "31bf0648",
   "metadata": {},
   "source": [
    "## Table of Contents\n",
    "* [Data Types](#data-types)\n",
    "* [System Calls](#system-calls)\n",
    "  * [Task Management](#task-management)\n",
    "    * [`ActivateTask`](#activatetask)\n",
    "    * [`TerminateTask`](#terminatetask)\n",
    "    * [`ChainTask`](#chaintask)\n",
    "    * [`Schedule`](#schedule)\n",
    "    * [`GetTaskID`](#gettaskid)\n",
    "    * [`GetTaskState`](#gettaskstate)\n",
    "  * [Interrupt Handling](#interrupt-handling)\n",
    "  * [Resource Management](#resource-management)\n",
    "  * [Event Handling](#event-handling)\n",
    "    * [`SetEvent`](#setevent)\n",
    "    * [`ClearEvent`](#clearevent)\n",
    "    * [`GetEvent`](#getevent)\n",
    "    * [`WaitEvent`](#waitevent)\n",
    "  * [Alarms](#alarms)\n",
    "    * [`GetAlarmBase`](#getalarmbase)\n",
    "    * [`GetAlarm`](#getalarm)\n",
    "    * [`SetRelAlarm`](#setrelalarm)\n",
    "    * [`CancelAlarm`](#cancelalarm)\n",
    "  * [Execution Control](#execution-control)\n",
    "    * [`GetActiveApplicationMode`](#getactiveapplicationmode)\n",
    "    * [`StartOS`](#startos)\n",
    "    * [`ShutdownOS`](#shutdownos)\n",
    "  * [Hook Routines](#hook-routines)\n",
    "    * [`ErrorHook(StatusType status)`](#errorhook-statustype-status)\n",
    "    * [`PreTaskHook(void)`](#pretaskhook-void)\n",
    "    * [`PostTaskHook(void)`](#posttaskhook-void)\n",
    "    * [`StartupHook(void)`](#startuphook-void)\n",
    "    * [`ShutdownHook(void)`](#shutdownhook-void)\n",
    "  * [Summary](#summary)\n",
    "* [Specification](#specification)\n",
    "  * [Task Management](#task-management)\n",
    "    * [Task Types](#task-types)\n",
    "  * [Interrupt Handling](#interrupt-handling)\n",
    "  * [Resource Management](#resource-management)\n",
    "    * [*OSEK Priority Ceiling Protocol*](#osek-priority-ceiling-protocol)\n",
    "    * [Internal Resources](#internal-resources)\n",
    "  * [Alarms](#alarms)\n",
    "* [Miscellaneous](#miscellaneous)\n",
    "  * [Conformance Classes](#conformance-classes)\n",
    "  * [Status Mode](#status-mode)\n"
   ]
  },
  {
   "cell_type": "markdown",
   "id": "76784ab7-2697-411c-8d35-2789494f3725",
   "metadata": {},
   "source": [
    "*OSEK (Offene Systeme und deren Schnittstellen f\u00fcr die Elektronik in Kraftfahrzeugen)* is a standards body that has produced specifications for an embedded operating system, a communication stack, and a network management protocol for automative embedded systems."
   ]
  },
  {
   "cell_type": "markdown",
   "id": "dad424b2-2e32-4da4-adbb-3a2ad418963d",
   "metadata": {},
   "source": [
    "For functional safety reasons, all configurations, unless otherwise stated, of the *OSEK OS* (i.e, number of tasks, priorities, etc) are statically configured, and are not configurable during run-time."
   ]
  },
  {
   "cell_type": "markdown",
   "id": "6d06cf95-7c3b-494f-95ec-eab4c63f2133",
   "metadata": {},
   "source": [
    "## Data Types <a class=\"anchor\" id=\"data-types\"></a>"
   ]
  },
  {
   "cell_type": "markdown",
   "id": "79244181-df56-4c65-bd17-5a9eab537310",
   "metadata": {},
   "source": [
    "All data types defined by the *OSEK OS* are of the following form: `UNQIUE-NAME-Type`.\n",
    "\n",
    "All pointer data types defined by the *OSEK OS* are of the following form: `UNIQUE-NAME-RefType`."
   ]
  },
  {
   "cell_type": "markdown",
   "id": "aa0b9c83-87d1-4c6c-8e1a-9a65fe210927",
   "metadata": {},
   "source": [
    "| | |\n",
    "| --- | --- |\n",
    "| *Name* | `StatusType` |\n",
    "| *Description* | This type is returned by system calls. <br> In an ANSI C implementation, it would be an enumeration type."
   ]
  },
  {
   "cell_type": "markdown",
   "id": "4d171a4d-c146-455d-95ff-34da688c5e6a",
   "metadata": {},
   "source": [
    "*Note:* `StatusType` is always `E_OK` if the system call was successful."
   ]
  },
  {
   "cell_type": "markdown",
   "id": "543a508f-bb03-4762-ad09-c2bd91d5b22a",
   "metadata": {},
   "source": [
    "| | |\n",
    "| --- | --- |\n",
    "| *Name* | `TaskType` |\n",
    "| *Description* | This type identifies a task within the system."
   ]
  },
  {
   "cell_type": "markdown",
   "id": "3fca1b4b-e2e5-4ad9-8969-5f1befddc374",
   "metadata": {},
   "source": [
    "| | |\n",
    "| --- | --- |\n",
    "| *Name* | `TaskStateType` |\n",
    "| *Description* | This is the type of a task state within the system."
   ]
  },
  {
   "cell_type": "markdown",
   "id": "4c30fbac-3ac5-4a57-92b9-e7f351074596",
   "metadata": {},
   "source": [
    "| | |\n",
    "| --- | --- |\n",
    "| *Name* | `ResourceType` |\n",
    "| *Description* | This type identifies a resource within the system."
   ]
  },
  {
   "cell_type": "markdown",
   "id": "afdfc0b1-56a9-4218-a3ac-dd064b4eaf06",
   "metadata": {},
   "source": [
    "| | |\n",
    "| --- | --- |\n",
    "| *Name* | `EventMaskType` |\n",
    "| *Description* | This type refers to an event mask."
   ]
  },
  {
   "cell_type": "markdown",
   "id": "a54592c5-6580-4a93-aeef-fedda8a18622",
   "metadata": {},
   "source": [
    "| | |\n",
    "| --- | --- |\n",
    "| *Name* | `TickType` |\n",
    "| *Description* | This type represents counter values, called *ticks*."
   ]
  },
  {
   "cell_type": "markdown",
   "id": "7a58fbb2-4732-4615-9ae5-404128ea14c9",
   "metadata": {},
   "source": [
    "| | |\n",
    "| --- | --- |\n",
    "| *Name* | `AlarmBaseType` |\n",
    "| *Description* | This type is a structure which stores counter characteristics.\n",
    "| *Elements* | `maxallowedvalue`: Maximum number of ticks. <br> `ticksperbase`: Number of ticks per a counter-specific unit."
   ]
  },
  {
   "cell_type": "markdown",
   "id": "50242ef3-5c60-4547-9b88-5bbf2af04dc6",
   "metadata": {},
   "source": [
    "| | |\n",
    "| --- | --- |\n",
    "| *Name* | `AppModeType` |\n",
    "| *Description* | This type refers to an application mode."
   ]
  },
  {
   "cell_type": "markdown",
   "id": "6bdb4610-f283-41c6-9e9a-cf3b574a3f1e",
   "metadata": {},
   "source": [
    "| | |\n",
    "| --- | --- |\n",
    "| *Name* | `OSServiceIdType` |\n",
    "| *Description* | This type refers to an ID of a system service."
   ]
  },
  {
   "cell_type": "markdown",
   "id": "27f43488-94dd-4213-9ea9-39fe82a1afb5",
   "metadata": {},
   "source": [
    "*Note:* All service identifiers can be accessed using the following format: `OSServiceId_SERVICE-NAME`."
   ]
  },
  {
   "cell_type": "markdown",
   "id": "bf0a64f6-f5a3-4596-bd4e-041c79ce4069",
   "metadata": {},
   "source": [
    "## System Calls <a class=\"anchor\" id=\"system-calls\"></a>"
   ]
  },
  {
   "cell_type": "markdown",
   "id": "8517f2b4-f7f8-4037-86e3-970c467c38af",
   "metadata": {},
   "source": [
    "Unless otherwise stated, all system calls return a value of `StatusType`."
   ]
  },
  {
   "cell_type": "markdown",
   "id": "3701db83-d25c-40db-99f5-39e457f4e628",
   "metadata": {},
   "source": [
    "### Task Management <a class=\"anchor\" id=\"task-management\"></a>"
   ]
  },
  {
   "cell_type": "markdown",
   "id": "e39e9ea8-703d-4b8b-9711-a228b579e467",
   "metadata": {},
   "source": [
    "#### `ActivateTask` <a class=\"anchor\" id=\"activatetask\"></a>"
   ]
  },
  {
   "cell_type": "markdown",
   "id": "0164dc25-f1c0-4438-a0ea-711e8e7629e1",
   "metadata": {},
   "source": [
    "| | |\n",
    "| --- | --- |\n",
    "| *API* | `ActivateTask(TaskType id)` |\n",
    "| *Description* | The task is transferred from the *suspended* state into the *ready* state. "
   ]
  },
  {
   "cell_type": "markdown",
   "id": "5718cab9-ccd8-45ca-9960-0aa116ac32e9",
   "metadata": {},
   "source": [
    "*Note:* For `ActivateTask(..)`, if the number of pending activations exceeds the configured limit, per task, `ES_OS_LIMIT` is returned.\n",
    "\n",
    "*Note:* When a task transitions from the *suspended* state to the *ready* state, all of its events are cleared."
   ]
  },
  {
   "cell_type": "markdown",
   "id": "252dcd59-7308-4c75-8544-104046bbb044",
   "metadata": {},
   "source": [
    "#### `TerminateTask` <a class=\"anchor\" id=\"terminatetask\"></a>"
   ]
  },
  {
   "cell_type": "markdown",
   "id": "9d859eb7-c3fe-41e8-92b1-23b8981e949e",
   "metadata": {},
   "source": [
    "| | |\n",
    "| --- | --- |\n",
    "| *API* | `TerminateTask()` |\n",
    "| *Description* | The calling task is transferred from the *running* state into the *suspended* state."
   ]
  },
  {
   "cell_type": "markdown",
   "id": "20434f9e-4f5e-4009-86f1-a35f4a665c6e",
   "metadata": {},
   "source": [
    "#### `ChainTask` <a class=\"anchor\" id=\"chaintask\"></a>"
   ]
  },
  {
   "cell_type": "markdown",
   "id": "771cb93b-d83d-427c-bed9-d7a930a03b11",
   "metadata": {},
   "source": [
    "| | |\n",
    "| --- | --- |\n",
    "| *API* | `ChainTask(TaskType id)` |\n",
    "| *Description* | This API combines the behavior of `TerminateTask(..)` and `ActivateTask(..)`."
   ]
  },
  {
   "cell_type": "markdown",
   "id": "cac44403-a44f-496f-bed7-d688c7ddcc2a",
   "metadata": {},
   "source": [
    "*Note:* Either `TerminateTask(..)` or `ChainTask(..)` must be called at the end of a task."
   ]
  },
  {
   "cell_type": "markdown",
   "id": "1241c804-a620-4421-9da6-cf9123462935",
   "metadata": {},
   "source": [
    "#### `Schedule` <a class=\"anchor\" id=\"schedule\"></a>"
   ]
  },
  {
   "cell_type": "markdown",
   "id": "70ad84e8-2b72-476c-bc82-01f524f13ccb",
   "metadata": {},
   "source": [
    "| | |\n",
    "| --- | --- |\n",
    "| *API* | `Schedule()` |\n",
    "| *Description* | If a higher priority task is *ready*, the internal resource of the task is released, <br> the current task is put in the *ready* state, and the higher priority task in the *running* state."
   ]
  },
  {
   "cell_type": "markdown",
   "id": "8753a89c-c33c-49d3-abcc-202923e02d7b",
   "metadata": {},
   "source": [
    "*Note:* For a task with no internal resource configured (i.e, preemptable), `Schedule(..)` does nothing, naturally.\n",
    "\n",
    "*Note:* For tasks within a group (i.e, tasks that share an internal resource), `Schedule(..)` may be used by a lower priority task to hand over the processor to a higher priority task.\n",
    "\n",
    "*Note:* For non-preemptable tasks (i.e, tasks with an internal resource of equal ceiling-priority to `RES_SCHEDULER`, which is the scheduler as a resource, `Schedule(..)` may be used to hand over the processor to a higher priority task.\n",
    "\n",
    "*Note:* In summary, `Schedule(..)` allows a lower priority task to hand over the processor to a higher priority task, that is unable to pre-empt the lower priority task due to its internal resource ceiling-priority being higher."
   ]
  },
  {
   "cell_type": "markdown",
   "id": "d6489a08-f3b8-4580-b57e-ccf9f4404c2f",
   "metadata": {},
   "source": [
    "#### `GetTaskID` <a class=\"anchor\" id=\"gettaskid\"></a>"
   ]
  },
  {
   "cell_type": "markdown",
   "id": "cb16248c-6f7f-4a42-a144-d98f3e89824a",
   "metadata": {},
   "source": [
    "| | |\n",
    "| --- | --- |\n",
    "| *API* | `GetTaskID(TaskRefType idPtr)` |\n",
    "| *Description* | This API is used generally used by hook routines to get the `TaskType` of the task in the *running* state. <br> If none, `INVALID_TASK` is returned."
   ]
  },
  {
   "cell_type": "markdown",
   "id": "7df45981-8586-45d0-aed0-52d1c4abc742",
   "metadata": {},
   "source": [
    "#### `GetTaskState` <a class=\"anchor\" id=\"gettaskstate\"></a>"
   ]
  },
  {
   "cell_type": "markdown",
   "id": "17c09852-160a-491f-b780-e6562013a006",
   "metadata": {},
   "source": [
    "| | |\n",
    "| --- | --- |\n",
    "| *API* | `GetTaskState(TaskType id, TaskStateRefType statePtr)` |\n",
    "| *Description* | This API is used generally used by hook routines to get the `TaskStateType` of a specific task. <br> Possible states are `RUNNING`, `WAITING`, `READY`, `SUSPENDED`."
   ]
  },
  {
   "cell_type": "markdown",
   "id": "5d3370bb-4567-45ab-af34-13e74f51a1f5",
   "metadata": {},
   "source": [
    "### Interrupt Handling <a class=\"anchor\" id=\"interrupt-handling\"></a>"
   ]
  },
  {
   "cell_type": "markdown",
   "id": "7120f2b8-9bdc-43b7-aa3b-977bcbf9b4ab",
   "metadata": {},
   "source": [
    "| *API(s)* | *Nested Calls?* | *Description* |\n",
    "| :-- | :-- | :-- |\n",
    "| `EnableAllInterrupts` <br> `DisableAllInterrupts` | No | This API enables/disables all interrupts.\n",
    "| `SuspendAllInterrupts` <br> `ResumeAllInterrupts` | Yes | This API enables/disables all interrupts.\n",
    "| `SuspendOSInterrupts` <br> `ResumeOSInterrupts` | Yes | This API enables/disables all ISR Category-2 interrupts."
   ]
  },
  {
   "cell_type": "markdown",
   "id": "cb2b2ae5-b669-4f4d-be7f-d614b32f97b3",
   "metadata": {},
   "source": [
    "*Note:* Within any critical section established by any interrupt handling API(s), any other type of system call within this critical section is not permitted."
   ]
  },
  {
   "cell_type": "markdown",
   "id": "61db1a67-4865-4ac2-8481-c5a9fbb865a1",
   "metadata": {},
   "source": [
    "### Resource Management <a class=\"anchor\" id=\"resource-management\"></a>"
   ]
  },
  {
   "cell_type": "markdown",
   "id": "a9698e38-1969-49a0-a8f4-8609983bef72",
   "metadata": {},
   "source": [
    "| *API(s)* | *Description* |\n",
    "| :-- | :-- |\n",
    "| `GetResource` <br> `ReleaseResource` | This API permits the aquisition/release of a resource, <br> according to the *OSEK Priority Ceiling Protocol*."
   ]
  },
  {
   "cell_type": "markdown",
   "id": "04c6e14a-0700-437b-9802-f5aec5cceb40",
   "metadata": {},
   "source": [
    "*Note:* Within a critical section established using `GetResource(..)` and `ReleaseResource(..)`, calls to `Schedule(..)`, `WaitEvent(..)`, `TerminateTask(..)`, and `ChainTask(..)` are prohibited.\n",
    "\n",
    "*Note:* Acquiring and releasing `RES_SCHEDULER` allows the establishing of a critical section within a task, in relation to other tasks only."
   ]
  },
  {
   "cell_type": "markdown",
   "id": "df2b77bb-c43b-472c-9068-c8d15d390815",
   "metadata": {},
   "source": [
    "### Event Handling <a class=\"anchor\" id=\"event-handling\"></a>"
   ]
  },
  {
   "cell_type": "markdown",
   "id": "fcb346fb-435c-45c6-992f-84ad5aad9d05",
   "metadata": {},
   "source": [
    "#### `SetEvent` <a class=\"anchor\" id=\"setevent\"></a>"
   ]
  },
  {
   "cell_type": "markdown",
   "id": "ac46442d-87a0-4ba7-b660-8589e78eada0",
   "metadata": {},
   "source": [
    "| | |\n",
    "| --- | --- |\n",
    "| *API* | `SetEvent(TaskType id, EventMaskType mask)` |\n",
    "| *Description* | Set the events, specified in `mask`, belonging to task with `TaskType` `id`."
   ]
  },
  {
   "cell_type": "markdown",
   "id": "5d376a06-a441-4080-8296-031b39022de1",
   "metadata": {},
   "source": [
    "*Note:* It is prohibited to `SetEvent(...)` of a task in the *suspended* state."
   ]
  },
  {
   "cell_type": "markdown",
   "id": "7adb6f4e-8094-475d-9c2a-e98b5d21f4ff",
   "metadata": {},
   "source": [
    "#### `ClearEvent` <a class=\"anchor\" id=\"clearevent\"></a>"
   ]
  },
  {
   "cell_type": "markdown",
   "id": "8a7fcee2-d15f-4aa4-a444-e976b9cc9029",
   "metadata": {},
   "source": [
    "| | |\n",
    "| --- | --- |\n",
    "| *API* | `ClearEvent(EventMaskType mask)` |\n",
    "| *Description* | Clear the events, specified in `mask`, belonging to the calling task."
   ]
  },
  {
   "cell_type": "markdown",
   "id": "ce18a5d7-be82-4be1-9a75-bc64c0d3fe4b",
   "metadata": {},
   "source": [
    "#### `GetEvent` <a class=\"anchor\" id=\"getevent\"></a>"
   ]
  },
  {
   "cell_type": "markdown",
   "id": "aca3d9bf-3fea-42ca-9a6b-3eebd8291ceb",
   "metadata": {},
   "source": [
    "| | |\n",
    "| --- | --- |\n",
    "| *API* | `SetEvent(TaskType id, EventMaskRefType maskPtr)` |\n",
    "| *Description* | Set the events, specified in `mask`, belonging to task with `TaskType` `id`."
   ]
  },
  {
   "cell_type": "markdown",
   "id": "b723e98d-7fe1-4902-b124-43cf162a4f89",
   "metadata": {},
   "source": [
    "*Note:* It is prohibited to `GetEvent(...)` of a task in the *suspended* state."
   ]
  },
  {
   "cell_type": "markdown",
   "id": "ff6cf19f-2ac6-4bc2-bdb0-09d4887d03a8",
   "metadata": {},
   "source": [
    "#### `WaitEvent` <a class=\"anchor\" id=\"waitevent\"></a>"
   ]
  },
  {
   "cell_type": "markdown",
   "id": "6768a10a-5f6d-4234-bc5b-9d9a67b92013",
   "metadata": {},
   "source": [
    "| | |\n",
    "| --- | --- |\n",
    "| *API* | `WaitEvent(EventMaskType mask)` |\n",
    "| *Description* | Wait on events, specified in `mask`."
   ]
  },
  {
   "cell_type": "markdown",
   "id": "f3f25a75-3a59-4ffb-a25b-ebed001790ac",
   "metadata": {},
   "source": [
    "### Alarms <a class=\"anchor\" id=\"alarms\"></a>"
   ]
  },
  {
   "cell_type": "markdown",
   "id": "68375d5d-edd3-4236-9f20-8e3d0d080f7e",
   "metadata": {},
   "source": [
    "For all alarms, `AlarmBaseType` configurations may be accessed as follows:\n",
    "* `OSMAXALLOWEDVALUE_UNIQUE-NAME`\n",
    "* `OSTICKSPERBASE_UNIQUE-NAME`\n",
    "\n",
    "*Note:* The *system counter*, which must exist for an implementation to be *OSEK-compliant*, is accessed similarly, but without a suffix."
   ]
  },
  {
   "cell_type": "markdown",
   "id": "19dcd348-04df-412f-aa26-3aa933d380b1",
   "metadata": {},
   "source": [
    "#### `GetAlarmBase` <a class=\"anchor\" id=\"getalarmbase\"></a>"
   ]
  },
  {
   "cell_type": "markdown",
   "id": "5c704047-313c-49c0-8591-7cd32197b182",
   "metadata": {},
   "source": [
    "| | |\n",
    "| --- | --- |\n",
    "| *API* | `GetAlarmBase(AlarmType id, AlarmBaseRefType baseIdPtr)` |\n",
    "| *Description* | Get the configured `AlarmBaseType` of an alarm."
   ]
  },
  {
   "cell_type": "markdown",
   "id": "93788a10-3880-4d2d-87f5-585687d82b83",
   "metadata": {},
   "source": [
    "#### `GetAlarm` <a class=\"anchor\" id=\"getalarm\"></a>"
   ]
  },
  {
   "cell_type": "markdown",
   "id": "8e0191b8-03e0-45a5-b328-594061859965",
   "metadata": {},
   "source": [
    "| | |\n",
    "| --- | --- |\n",
    "| *API* | `GetAlarm(AlarmType id, TickRefType tickPtr)` |\n",
    "| *Description* | Get the relative number of ticks before an alarm expires."
   ]
  },
  {
   "cell_type": "markdown",
   "id": "3e15b98f-e97b-4a02-934e-a1377d47e143",
   "metadata": {},
   "source": [
    "*Note:* If the alarm is not in use, `GetAlarm(..)` returns `ES_OS_NOFUNC`."
   ]
  },
  {
   "cell_type": "markdown",
   "id": "e488f467-1a29-42b9-9459-01972b6be004",
   "metadata": {},
   "source": [
    "#### `SetRelAlarm` <a class=\"anchor\" id=\"setrelalarm\"></a>"
   ]
  },
  {
   "cell_type": "markdown",
   "id": "9f913f69-5bce-452c-9500-a20744cf5376",
   "metadata": {},
   "source": [
    "| | |\n",
    "| --- | --- |\n",
    "| *API* | `SetRelAlarm(AlarmType id, TickType initial, TickType cycle)` |\n",
    "| *Description* | Set an alarm to expire, initially after `initial` number of ticks, and after `cycle` number of ticks thereafter. <br> If `cycle` is `0`, the alarm is not re-set upon expiry."
   ]
  },
  {
   "cell_type": "markdown",
   "id": "6ac45b52-d42a-49cd-94b4-2dde7101c409",
   "metadata": {},
   "source": [
    "*Note:* `SetAbsAlarm(..)` is similar to `SetRelAlarm(..)`, except the `initial` number of ticks are absolute, and not relative.\n",
    "\n",
    "*Note:* If the alarm is in use, `Set-NAME-Alarm(..)` returns `ES_OS_STATE`."
   ]
  },
  {
   "cell_type": "markdown",
   "id": "900cb8a1-c2ae-4597-afc0-c9cb3e69b72b",
   "metadata": {},
   "source": [
    "#### `CancelAlarm` <a class=\"anchor\" id=\"cancelalarm\"></a>"
   ]
  },
  {
   "cell_type": "markdown",
   "id": "ddfffc33-672d-49e3-91aa-352dbaff0a6b",
   "metadata": {},
   "source": [
    "| | |\n",
    "| --- | --- |\n",
    "| *API* | `CancelAlarm(AlarmType id)` |\n",
    "| *Description* | Cancel a set alarm."
   ]
  },
  {
   "cell_type": "markdown",
   "id": "450bd2d7-55b7-4215-ba2a-4be98378ff0a",
   "metadata": {},
   "source": [
    "*Note:* If the alarm is not in use, `CancelAlarm(..)` returns `ES_OS_NOFUNC`."
   ]
  },
  {
   "cell_type": "markdown",
   "id": "c6246b50-d806-4826-9780-0eb90f519e52",
   "metadata": {},
   "source": [
    "### Execution Control <a class=\"anchor\" id=\"execution-control\"></a>"
   ]
  },
  {
   "cell_type": "markdown",
   "id": "0070b476-1c64-4227-8dec-9882723afdd1",
   "metadata": {},
   "source": [
    "#### `GetActiveApplicationMode` <a class=\"anchor\" id=\"getactiveapplicationmode\"></a>"
   ]
  },
  {
   "cell_type": "markdown",
   "id": "41bc391d-2903-4ec0-b1f8-ffbbfc2854d9",
   "metadata": {},
   "source": [
    "| | |\n",
    "| --- | --- |\n",
    "| *API* | `AppModeType GetActiveApplicationMode()` |\n",
    "| *Description* | Get the active application mode. <br> It is used by user-defined code to tailor program execution accordingly."
   ]
  },
  {
   "cell_type": "markdown",
   "id": "0a672b59-54b0-449c-b09e-59255bfd8452",
   "metadata": {},
   "source": [
    "*Note:* To be *OSEK-compliant*, the implementation must support the default mode `OSDEFAULTAPPMODE`."
   ]
  },
  {
   "cell_type": "markdown",
   "id": "6ca76a5a-ce76-4b9d-9850-14d715d3cb8a",
   "metadata": {},
   "source": [
    "#### `StartOS` <a class=\"anchor\" id=\"startos\"></a>"
   ]
  },
  {
   "cell_type": "markdown",
   "id": "b6f38432-5af4-4d74-8075-48032a23526b",
   "metadata": {},
   "source": [
    "| | |\n",
    "| --- | --- |\n",
    "| *API* | `void StartOS(AppModeType mode)` |\n",
    "| *Description* | Start the system, passing an `AppModeType`."
   ]
  },
  {
   "cell_type": "markdown",
   "id": "dbb45728-7a1d-4c41-97b9-997625153895",
   "metadata": {},
   "source": [
    "*Note:* Upon reset, and before calling `StartOS(..)`, non-portable code determines which application mode to run in, according to, for example, the configuration of a number of hardware pins.\n",
    "\n",
    "*Note:* `StartOS` may only be called once during run-time, hence application mode may not change during run-time."
   ]
  },
  {
   "cell_type": "markdown",
   "id": "fa047485-6419-4efd-83c2-f8ff155a71e1",
   "metadata": {},
   "source": [
    "#### `ShutdownOS` <a class=\"anchor\" id=\"shutdownos\"></a>"
   ]
  },
  {
   "cell_type": "markdown",
   "id": "a1525086-25c3-4702-96c1-7a6acca046ff",
   "metadata": {},
   "source": [
    "| | |\n",
    "| --- | --- |\n",
    "| *API* | `void ShutdownOS(StatusType status)` |\n",
    "| *Description* | Shutdown a system, passing an error (i.e, not `E_OK`)."
   ]
  },
  {
   "cell_type": "markdown",
   "id": "8d21e270-e2e1-472b-aec2-63b9db82c666",
   "metadata": {},
   "source": [
    "### Hook Routines <a class=\"anchor\" id=\"hook-routines\"></a>"
   ]
  },
  {
   "cell_type": "markdown",
   "id": "35ac2b09-d70b-4e13-acda-9b5759c2ac3a",
   "metadata": {},
   "source": [
    "#### `ErrorHook(StatusType status)` <a class=\"anchor\" id=\"errorhook-statustype-status\"></a>"
   ]
  },
  {
   "cell_type": "markdown",
   "id": "97d6f3ca-cd87-445a-aa11-968793a1153e",
   "metadata": {},
   "source": [
    "| | |\n",
    "| --- | --- |\n",
    "| *API* | `void ErrorHook(StatusType status)` |\n",
    "| *Description* | A hook routine, called whenever a system call returns a status other than `E_OK`, before the call returns."
   ]
  },
  {
   "cell_type": "markdown",
   "id": "1de7fe0f-f324-4bbe-a28c-58663e687a9d",
   "metadata": {},
   "source": [
    "*Note:* The `OSErrorGetServiceId` macro returns the `OSServiceIdType` of the service where the error has risen."
   ]
  },
  {
   "cell_type": "markdown",
   "id": "a2ff646e-9523-45bc-97cc-be558206ec6e",
   "metadata": {},
   "source": [
    "#### `PreTaskHook(void)` <a class=\"anchor\" id=\"pretaskhook-void\"></a>"
   ]
  },
  {
   "cell_type": "markdown",
   "id": "7475f26b-62dc-4500-bc96-05a58db9ba85",
   "metadata": {},
   "source": [
    "| | |\n",
    "| --- | --- |\n",
    "| *API* | `void PreTaskHook(void)` |\n",
    "| *Description* | A hook routine, called after transitioning a task to the *running* state, but before it executes."
   ]
  },
  {
   "cell_type": "markdown",
   "id": "e6a3a3e3-617c-45a4-9229-a5e38fd7f410",
   "metadata": {},
   "source": [
    "#### `PostTaskHook(void)` <a class=\"anchor\" id=\"posttaskhook-void\"></a>"
   ]
  },
  {
   "cell_type": "markdown",
   "id": "087f2d1b-058c-4f6d-bb2b-150f773e4d2f",
   "metadata": {},
   "source": [
    "| | |\n",
    "| --- | --- |\n",
    "| *API* | `void PostTaskHook(void)` |\n",
    "| *Description* | A hook routine, called before transitioning an executing task out of the *running* state, but after it stopped execution."
   ]
  },
  {
   "cell_type": "markdown",
   "id": "114f0b80-4080-4f52-ba9b-7cabbcc2d213",
   "metadata": {},
   "source": [
    "#### `StartupHook(void)` <a class=\"anchor\" id=\"startuphook-void\"></a>"
   ]
  },
  {
   "cell_type": "markdown",
   "id": "a4144d2a-4fb8-4a2a-95bd-363ef5023ae3",
   "metadata": {},
   "source": [
    "| | |\n",
    "| --- | --- |\n",
    "| *API* | `void StartupHook(void)` |\n",
    "| *Description* | A hook routine, called after the system has been initialized (implementation-specific), but before the scheduler is executing."
   ]
  },
  {
   "cell_type": "markdown",
   "id": "a642f212-a2b1-43ec-9cc8-e037f498de54",
   "metadata": {},
   "source": [
    "#### `ShutdownHook(void)` <a class=\"anchor\" id=\"shutdownhook-void\"></a>"
   ]
  },
  {
   "cell_type": "markdown",
   "id": "932b29a5-ffa1-4eda-aa75-bf224775aa86",
   "metadata": {},
   "source": [
    "| | |\n",
    "| --- | --- |\n",
    "| *API* | `void StartupHook(void)` |\n",
    "| *Description* | A hook routine, called after the system has ran into a *fatal error*, or `ShutdownOS(..)` has been called."
   ]
  },
  {
   "cell_type": "markdown",
   "id": "bdcc750e-41be-4850-93db-9fd4f81ca3bf",
   "metadata": {},
   "source": [
    "### Summary <a class=\"anchor\" id=\"summary\"></a>"
   ]
  },
  {
   "cell_type": "markdown",
   "id": "18b881e0-2a97-4e6f-b5ed-13fd899f8d0b",
   "metadata": {},
   "source": [
    "The figure below shows which contexts are allowed to make which system calls."
   ]
  },
  {
   "cell_type": "markdown",
   "id": "66cb5f92-406d-4688-b587-1b5cb8ec2e99",
   "metadata": {},
   "source": [
    "<img src=\"../../.img/osek-api-call-origin.png\" width=\"450\" />"
   ]
  },
  {
   "cell_type": "markdown",
   "id": "4752860c-badf-42e6-a293-91bbef9d7312",
   "metadata": {},
   "source": [
    "## Specification <a class=\"anchor\" id=\"specification\"></a>"
   ]
  },
  {
   "cell_type": "markdown",
   "id": "6914d783-3abc-4c08-b62e-f82212f8fca1",
   "metadata": {},
   "source": [
    "### Task Management <a class=\"anchor\" id=\"task-management\"></a>"
   ]
  },
  {
   "cell_type": "markdown",
   "id": "aa5fadf6-a120-404a-81c5-cbc4b44dafec",
   "metadata": {},
   "source": [
    "Each task is configured a priority, and more than one task may be assigned the same priority."
   ]
  },
  {
   "cell_type": "markdown",
   "id": "2471c167-74e9-44d6-a31d-67003bea274b",
   "metadata": {},
   "source": [
    "*Note:* Ready tasks of the same priority enter a queue, and execute in the order *oldest-to-newest*.\n",
    "\n",
    "*Note:* When no tasks are ready to execute, the system becomes *idle*."
   ]
  },
  {
   "cell_type": "markdown",
   "id": "7c3c0b11-9cbc-4924-a67d-ddc60b8149fa",
   "metadata": {},
   "source": [
    "#### Task Types <a class=\"anchor\" id=\"task-types\"></a>"
   ]
  },
  {
   "cell_type": "markdown",
   "id": "bc2db09b-6eab-4a9d-b115-2bd01359975e",
   "metadata": {},
   "source": [
    "*OSEK* defines two types of tasks, *basic* and *extended*.\n",
    "* Extended tasks may wait on events, while basic tasks may not.\n",
    "* Basic tasks may be activated more than once, while extended tasks may be activated at most once."
   ]
  },
  {
   "cell_type": "markdown",
   "id": "e0ec4707-2144-4c94-b382-d40040fd0c67",
   "metadata": {},
   "source": [
    "*Note:* Events are configured, and mapped `1:1` per extended task.\n",
    "\n",
    "*Note:* Usually, in an implementation, extended tasks demand more resource usage."
   ]
  },
  {
   "cell_type": "markdown",
   "id": "0ca5d6ac-19ee-44b9-a463-20bea96f142e",
   "metadata": {},
   "source": [
    "The figure below shows the state diagram of basic tasks."
   ]
  },
  {
   "attachments": {},
   "cell_type": "markdown",
   "id": "9cd7efb7-e66e-49ce-8dce-6d81c8b88593",
   "metadata": {},
   "source": [
    "<img src=\"../../.img/osek-task-state-diagram-basic.png\" width=\"250\" />"
   ]
  },
  {
   "cell_type": "markdown",
   "id": "3dd93a90-e582-4fe0-98c5-edfdeb86d1ce",
   "metadata": {},
   "source": [
    "The figure below shows the state diagram of extended tasks."
   ]
  },
  {
   "attachments": {},
   "cell_type": "markdown",
   "id": "6f470bcf-4d22-4e35-9107-562b737b4e4a",
   "metadata": {},
   "source": [
    "<img src=\"../../.img/osek-task-state-diagram-extended.png\" width=\"375\" />"
   ]
  },
  {
   "cell_type": "markdown",
   "id": "7497ec8c-687e-4ccd-aa97-7aa3fac30983",
   "metadata": {},
   "source": [
    "### Interrupt Handling <a class=\"anchor\" id=\"interrupt-handling\"></a>"
   ]
  },
  {
   "cell_type": "markdown",
   "id": "ffca2ec8-64d2-4a13-8a5f-ea5a73e0bb5b",
   "metadata": {},
   "source": [
    "*OSEK* defines two types of interrupts:\n",
    "* ISR Category-1, may not make any (except interrupt handling) system calls.\n",
    "* ISR Category-2, may make more system calls."
   ]
  },
  {
   "cell_type": "markdown",
   "id": "d69217d6-17b3-4c80-b141-f931e80cc3f1",
   "metadata": {},
   "source": [
    "### Resource Management <a class=\"anchor\" id=\"resource-management\"></a>"
   ]
  },
  {
   "cell_type": "markdown",
   "id": "7f8cb771-5599-46a5-959d-748d3d17f6d7",
   "metadata": {},
   "source": [
    "A resource must be acquired and released in a *Last-In-First-Out (LIFO)* order."
   ]
  },
  {
   "cell_type": "markdown",
   "id": "0c978c29-54cf-4649-af54-efe3a436f5f1",
   "metadata": {},
   "source": [
    "#### *OSEK Priority Ceiling Protocol* <a class=\"anchor\" id=\"osek-priority-ceiling-protocol\"></a>"
   ]
  },
  {
   "cell_type": "markdown",
   "id": "91936911-f10d-4e4f-b20a-cd60e671339d",
   "metadata": {},
   "source": [
    "To avoid possible priority inversion and deadlocks, *OSEK* defines the *OSEK Priority Ceiling Protocol*.\n",
    "* Each task specifies which resources it uses.\n",
    "* Each resource is assigned a *ceiling priority*, which is the highest priority of any task that uses that resource.\n",
    "* When a task acquires a resource, it inherits the ceiling-priority of that resource.\n",
    "* Before releasing the resource, the task may not call `TerminateTask(..)` or `ChainTask(..)`, and if the task is extended, it may not call `WaitEvent(..)`, which gurantees it will not transition out of either the *running*, or *ready* states."
   ]
  },
  {
   "cell_type": "markdown",
   "id": "24bf16a7-26f2-4fa1-adf8-a53bf33512b7",
   "metadata": {},
   "source": [
    "*Note:* The *OSEK Priority Ceiling Protocol* may be extended to interrupts, but not necessary for an implementation to be *OSEK-compliant*."
   ]
  },
  {
   "cell_type": "markdown",
   "id": "4d7139e6-c69a-4551-a75f-36b3507d4084",
   "metadata": {},
   "source": [
    "#### Internal Resources <a class=\"anchor\" id=\"internal-resources\"></a>"
   ]
  },
  {
   "cell_type": "markdown",
   "id": "38849606-12bf-4250-ada7-657691c6a9bd",
   "metadata": {},
   "source": [
    "Each task may be configured an *internal resource*, that:\n",
    "* It inherits the ceiling-priority of (i.e, acquires it) when entering into the *running* state,\n",
    "* And returns to its configured priority (i.e, releases its internal resource) when leaving the *running* state.\n",
    "\n",
    "Hence,\n",
    "* Tasks with a shared internal resource may not preempt each other, and constitute a *task group*.\n",
    "* Fully preemptable tasks have no internal resource configured.\n",
    "* Non-preemptable tasks have *RES_SCHEDULER* as an internal resource configured, which has the highest ceiling-priority in the system."
   ]
  },
  {
   "cell_type": "markdown",
   "id": "1808a31a-06b2-4cbc-966b-1b9b2ae2f471",
   "metadata": {},
   "source": [
    "*Note:* Notice that when an interrupt preempts an executing task, it does not leave the *running* state, and hence, it does not release its internal resource."
   ]
  },
  {
   "cell_type": "markdown",
   "id": "83bbaaa0-9434-4349-bc7e-6c1881b56a57",
   "metadata": {},
   "source": [
    "### Alarms <a class=\"anchor\" id=\"alarms\"></a>"
   ]
  },
  {
   "cell_type": "markdown",
   "id": "0f3b0dc4-704f-41e5-a351-b0146686288d",
   "metadata": {},
   "source": [
    "An expiring alarm may be configured to perform different actions:\n",
    "* Activate a suspended task.\n",
    "* Trigger event(s).\n",
    "* Execute a callback routine."
   ]
  },
  {
   "cell_type": "markdown",
   "id": "502b44c7-17c4-457a-9d25-93b4b12c0f5b",
   "metadata": {},
   "source": [
    "## Miscellaneous <a class=\"anchor\" id=\"miscellaneous\"></a>"
   ]
  },
  {
   "cell_type": "markdown",
   "id": "041c1b1b-beee-40c2-9443-ca888eb74e04",
   "metadata": {},
   "source": [
    "### Conformance Classes <a class=\"anchor\" id=\"conformance-classes\"></a>"
   ]
  },
  {
   "cell_type": "markdown",
   "id": "db0bc6dd-016c-44c5-a670-31744ccd8ce8",
   "metadata": {},
   "source": [
    "*OSEK* defines a number of conformance classes, that implementations may adhere to."
   ]
  },
  {
   "attachments": {},
   "cell_type": "markdown",
   "id": "cfa8c59b-9460-4cb3-87a3-3fba300c83ac",
   "metadata": {},
   "source": [
    "<img src=\"../../.img/osek-conformance-classes.png\" width=\"475\" />"
   ]
  },
  {
   "cell_type": "markdown",
   "id": "d889cb65-3433-406e-9d5f-9f9d3087aa2c",
   "metadata": {},
   "source": [
    "### Status Mode <a class=\"anchor\" id=\"status-mode\"></a>"
   ]
  },
  {
   "cell_type": "markdown",
   "id": "4d6c42ad-8bc1-4526-8e21-e70e644460c9",
   "metadata": {},
   "source": [
    "*OSEK* defines two status modes, system-wide, *standard* and *extended*.\n",
    "\n",
    "In *extended* mode, more fatal errors (i.e, errors that induce a forced-system shutdown) reported as application errors. It is typically employed in the testing phase.\n",
    "\n",
    "*Standard* mode is employed in production ECUs, to minimize unnecessary resource overhead."
   ]
  }
 ],
 "metadata": {
  "kernelspec": {
   "display_name": "Python 3 (ipykernel)",
   "language": "python",
   "name": "python3"
  },
  "language_info": {
   "codemirror_mode": {
    "name": "ipython",
    "version": 3
   },
   "file_extension": ".py",
   "mimetype": "text/x-python",
   "name": "python",
   "nbconvert_exporter": "python",
   "pygments_lexer": "ipython3",
   "version": "3.11.4"
  }
 },
 "nbformat": 4,
 "nbformat_minor": 5
}