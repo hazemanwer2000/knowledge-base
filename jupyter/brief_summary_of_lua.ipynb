{
 "cells": [
  {
   "cell_type": "markdown",
   "id": "d582f54b",
   "metadata": {},
   "source": [
    "# A brief summary of Lua (5.X)\n",
    "<br>\n",
    "<div style=\"opacity: 0.8; font-family: Consolas, Monaco, Lucida Console, Liberation Mono, DejaVu Sans Mono, Bitstream Vera Sans Mono, Courier New; font-size: 12px; font-style: italic;\">\n",
    "    ────────\n",
    "    for more from the author, visit\n",
    "    <a href=\"https://github.com/hazemanwer2000\">github.com/hazemanwer2000</a>.\n",
    "    ────────\n",
    "</div>"
   ]
  },
  {
   "cell_type": "markdown",
   "id": "31bf0648",
   "metadata": {},
   "source": [
    "## Table of Contents\n"
   ]
  },
  {
   "cell_type": "markdown",
   "id": "ad3dc7a3",
   "metadata": {},
   "source": [
    "Lua is a dynamically-typed language.\n"
   ]
  },
  {
   "cell_type": "markdown",
   "id": "be540c9e",
   "metadata": {},
   "source": [
    "## Built-in Types"
   ]
  },
  {
   "cell_type": "markdown",
   "id": "e3746fac",
   "metadata": {},
   "source": [
    " | *Type* | *Description* |\n",
    "| --- | --- |\n",
    "| `boolean` | `true` and `false`. |\n",
    "| `nil` | Similar to `None` in Python. |\n",
    "| `number` | E.g., `10.4`, `3`. |\n",
    "| `string` | E.g., `\"Hello, world.\"`. |\n",
    "| `function` | E.g., `print` and `type` are `function`(s). |\n",
    "| `table` | An associative array. |"
   ]
  },
  {
   "cell_type": "markdown",
   "id": "16c5b741",
   "metadata": {},
   "source": [
    "*Note:* Unlike in Python, `number` is limited by its representation, which is either a double-precision floating-point value, or a 64-bit integer value."
   ]
  },
  {
   "cell_type": "markdown",
   "id": "aac3425c",
   "metadata": {},
   "source": [
    "### More on `table`"
   ]
  },
  {
   "cell_type": "markdown",
   "id": "d3623d87",
   "metadata": {},
   "source": [
    "A `table` is an associative array that accepts `string` and `number` as key(s)."
   ]
  },
  {
   "cell_type": "code",
   "execution_count": 22,
   "id": "8a258a9c",
   "metadata": {},
   "outputs": [
    {
     "name": "stdout",
     "output_type": "stream",
     "text": [
      "1\n",
      "2\n",
      "3\n"
     ]
    }
   ],
   "source": [
    "arr = {}\n",
    "\n",
    "arr[0] = 1\n",
    "print(arr[0])\n",
    "\n",
    "arr[0.1] = 2\n",
    "print(arr[0.1])\n",
    "\n",
    "arr[\"H\"] = 3\n",
    "print(arr[\"H\"])"
   ]
  },
  {
   "cell_type": "markdown",
   "id": "4d950505",
   "metadata": {},
   "source": [
    "Previously undefined key(s) will resolve to `nil` as value."
   ]
  },
  {
   "cell_type": "code",
   "execution_count": 25,
   "id": "cb17e79b",
   "metadata": {},
   "outputs": [
    {
     "name": "stdout",
     "output_type": "stream",
     "text": [
      "nil\n"
     ]
    }
   ],
   "source": [
    "arr = {}\n",
    "\n",
    "print(arr[1])"
   ]
  },
  {
   "cell_type": "markdown",
   "id": "bac0cb0a",
   "metadata": {},
   "source": [
    "The following syntax is also available for accessing a `table`."
   ]
  },
  {
   "cell_type": "code",
   "execution_count": 29,
   "id": "33f3cf51",
   "metadata": {},
   "outputs": [
    {
     "name": "stdout",
     "output_type": "stream",
     "text": [
      "5\n"
     ]
    }
   ],
   "source": [
    "arr = {}\n",
    "arr.mykey = 5\n",
    "\n",
    "print(arr.mykey)"
   ]
  },
  {
   "cell_type": "markdown",
   "id": "b300cb5a",
   "metadata": {},
   "source": [
    "`table`(s) accept the following constructor(s)."
   ]
  },
  {
   "cell_type": "code",
   "execution_count": 39,
   "id": "e9fe62fb",
   "metadata": {},
   "outputs": [
    {
     "name": "stdout",
     "output_type": "stream",
     "text": [
      "3\n",
      "3\n"
     ]
    }
   ],
   "source": [
    "a = {x = 3, y = 2}\n",
    "print(a.x)\n",
    "print(a[\"x\"])"
   ]
  },
  {
   "cell_type": "code",
   "execution_count": 41,
   "id": "a534d913",
   "metadata": {},
   "outputs": [
    {
     "name": "stdout",
     "output_type": "stream",
     "text": [
      "2\n"
     ]
    }
   ],
   "source": [
    "a = {[\"10\"] = 3, [\"20\"] = 2}\n",
    "print(a[\"20\"])"
   ]
  },
  {
   "cell_type": "code",
   "execution_count": 49,
   "id": "5ffdd2f5",
   "metadata": {},
   "outputs": [
    {
     "name": "stdout",
     "output_type": "stream",
     "text": [
      "20\n"
     ]
    }
   ],
   "source": [
    "--Note that the start index is '1', not '0'.\n",
    "a = {10, 20, 30}\n",
    "print(a[2])"
   ]
  },
  {
   "cell_type": "markdown",
   "id": "f156ea4b",
   "metadata": {},
   "source": [
    "## Conditional Execution"
   ]
  },
  {
   "cell_type": "markdown",
   "id": "2e7f7608",
   "metadata": {},
   "source": [
    "In conditional statements, only `nil` and `false` are considered as false-value(s)."
   ]
  },
  {
   "cell_type": "markdown",
   "id": "8c2cdccb",
   "metadata": {},
   "source": [
    "## Operators"
   ]
  },
  {
   "cell_type": "markdown",
   "id": "70d7bcdb",
   "metadata": {},
   "source": [
    "### Precedence"
   ]
  },
  {
   "cell_type": "markdown",
   "id": "6b3462bf",
   "metadata": {},
   "source": [
    "| *Operator* | *Precedence* |\n",
    "| :-- | --- |\n",
    "| `^` | ↑ |\n",
    "| `-` `#` `~` `not` | |\n",
    "| `*` `/` `//` `%` | |\n",
    "| `+` `-` | |\n",
    "| `..` | |\n",
    "| `<<` `>>` | |}\n",
    "| `&` | |\n",
    "| `~` | |\n",
    "| `\\|` | |\n",
    "| `<` `>` `<=` `>=` `~=` `==` | |\n",
    "| `and` | |\n",
    "| `or` | ↓ |"
   ]
  },
  {
   "cell_type": "markdown",
   "id": "70db3713",
   "metadata": {},
   "source": [
    "### Logical Operators"
   ]
  },
  {
   "cell_type": "markdown",
   "id": "e06ba46c",
   "metadata": {},
   "source": [
    "`and` evaluates to the first operand, if the first operand is a false-value. Otherwise, it evaluates to the second operand."
   ]
  },
  {
   "cell_type": "code",
   "execution_count": 10,
   "id": "a7a7dd7e",
   "metadata": {},
   "outputs": [
    {
     "name": "stdout",
     "output_type": "stream",
     "text": [
      "nil\n"
     ]
    }
   ],
   "source": [
    "print(nil and \"Hey.\")"
   ]
  },
  {
   "cell_type": "markdown",
   "id": "230b11d7",
   "metadata": {},
   "source": [
    "`or` evaluates to the first operand, if the first operand is a true-value. Otherwise, it evaluates to the second operand."
   ]
  },
  {
   "cell_type": "code",
   "execution_count": 12,
   "id": "9b7944ca",
   "metadata": {},
   "outputs": [
    {
     "name": "stdout",
     "output_type": "stream",
     "text": [
      "Hey.\n"
     ]
    }
   ],
   "source": [
    "print(nil or \"Hey.\")"
   ]
  },
  {
   "cell_type": "markdown",
   "id": "e059f954",
   "metadata": {},
   "source": [
    "*Note:* Both `and` and `or` apply short-circuit evaluation."
   ]
  },
  {
   "cell_type": "markdown",
   "id": "6da66efc",
   "metadata": {},
   "source": [
    "`not` evaluates to a `true` if its operand was a false-value, and vice-versa."
   ]
  },
  {
   "cell_type": "code",
   "execution_count": 15,
   "id": "63e68c7b",
   "metadata": {},
   "outputs": [
    {
     "name": "stdout",
     "output_type": "stream",
     "text": [
      "false\n"
     ]
    }
   ],
   "source": [
    "print(not \"Hey.\")"
   ]
  },
  {
   "cell_type": "markdown",
   "id": "05d13161",
   "metadata": {},
   "source": [
    "### Mathematical Operators"
   ]
  },
  {
   "cell_type": "markdown",
   "id": "3b2e4a05",
   "metadata": {},
   "source": [
    "The following binary mathematical operators are supported: `+`, `-`, `*`, `\\`, `\\\\`, `%`, `^`, `<<` and `>>`.\n",
    "\n",
    "The following unary mathematical operators are supported: `-`."
   ]
  },
  {
   "cell_type": "markdown",
   "id": "ebcc5048",
   "metadata": {},
   "source": [
    "### Relational Operators"
   ]
  },
  {
   "cell_type": "markdown",
   "id": "9f63bcd0",
   "metadata": {},
   "source": [
    "The following relational operators are supported: `<`, `>`, `<=`, `>=`, `==`, and `~=`.\n",
    "\n",
    "Relational operators always evaluate to a `boolean`."
   ]
  },
  {
   "cell_type": "markdown",
   "id": "20019b20",
   "metadata": {},
   "source": [
    "### Bitwise Operators"
   ]
  },
  {
   "cell_type": "markdown",
   "id": "efc44e77",
   "metadata": {},
   "source": [
    "The following binary bitwise operators are supported: `|`, `&` and `~`.\n",
    "\n",
    "The following unary bitwise operators are supported: `~`."
   ]
  },
  {
   "cell_type": "markdown",
   "id": "bd93da48",
   "metadata": {},
   "source": [
    "### Concatenation Operator"
   ]
  },
  {
   "cell_type": "markdown",
   "id": "d84ff5fb",
   "metadata": {},
   "source": [
    "The concatenation operator is used to concatenate two `string` value(s)."
   ]
  },
  {
   "cell_type": "code",
   "execution_count": 16,
   "id": "fb8b7f58",
   "metadata": {},
   "outputs": [
    {
     "name": "stdout",
     "output_type": "stream",
     "text": [
      "Hello, World.\n"
     ]
    }
   ],
   "source": [
    "print(\"Hello, \" .. \"World.\")"
   ]
  },
  {
   "cell_type": "markdown",
   "id": "9a470763",
   "metadata": {},
   "source": [
    "### Length Operator"
   ]
  },
  {
   "cell_type": "markdown",
   "id": "a698a064",
   "metadata": {},
   "source": [
    "The length operator is used to evaluate the length of a `string` or a `table`."
   ]
  },
  {
   "cell_type": "code",
   "execution_count": 44,
   "id": "16e696a3",
   "metadata": {},
   "outputs": [
    {
     "name": "stdout",
     "output_type": "stream",
     "text": [
      "3\n"
     ]
    }
   ],
   "source": [
    "arr = {\"A\", \"B\", \"C\"}\n",
    "print(#arr)"
   ]
  },
  {
   "cell_type": "code",
   "execution_count": 46,
   "id": "62d9b7ce",
   "metadata": {},
   "outputs": [
    {
     "name": "stdout",
     "output_type": "stream",
     "text": [
      "6\n"
     ]
    }
   ],
   "source": [
    "print(#\"Hello.\")"
   ]
  }
 ],
 "metadata": {
  "kernelspec": {
   "display_name": "Lua",
   "language": "lua",
   "name": "kernel_lua"
  },
  "language_info": {
   "file_extension": ".lua",
   "mimetype": "text/plain",
   "name": "lua"
  }
 },
 "nbformat": 4,
 "nbformat_minor": 5
}
