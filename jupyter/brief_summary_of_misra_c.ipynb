{
 "cells": [
  {
   "cell_type": "markdown",
   "id": "0971233f",
   "metadata": {},
   "source": [
    "# A brief summary of *Misra-C:2012*\n",
    "<br>\n",
    "<div style=\"opacity: 0.8; font-family: Consolas, Monaco, Lucida Console, Liberation Mono, DejaVu Sans Mono, Bitstream Vera Sans Mono, Courier New; font-size: 12px; font-style: italic;\">\n",
    "    ────────\n",
    "    for more from the author, visit\n",
    "    <a href=\"https://github.com/hazemanwer2000\">github.com/hazemanwer2000</a>.\n",
    "    ────────\n",
    "</div>"
   ]
  },
  {
   "cell_type": "markdown",
   "id": "28855350",
   "metadata": {},
   "source": [
    "## Table of Contents"
   ]
  },
  {
   "cell_type": "markdown",
   "id": "7c4b0d66",
   "metadata": {},
   "source": [
    "*Misra-C:2012* specifies rules for the use of the C-language in safety-critical system(s) (e.g., automotive vehicle(s))."
   ]
  },
  {
   "cell_type": "markdown",
   "id": "c21c109c",
   "metadata": {},
   "source": [
    "## Rules"
   ]
  },
  {
   "cell_type": "markdown",
   "id": "82ff0681",
   "metadata": {},
   "source": [
    "### General"
   ]
  },
  {
   "cell_type": "markdown",
   "id": "0912f1f2",
   "metadata": {},
   "source": [
    "#### *\"Unreachable code\"*"
   ]
  },
  {
   "cell_type": "markdown",
   "id": "8d68f8d7",
   "metadata": {},
   "source": [
    "Unreachable (i.e., dead) code should not be present. This implies that all module(s) should achieve 100% coverage."
   ]
  },
  {
   "cell_type": "markdown",
   "id": "a428ccd7",
   "metadata": {},
   "source": [
    "### Pre-processor Directive(s)"
   ]
  },
  {
   "cell_type": "markdown",
   "id": "4f835d18",
   "metadata": {},
   "source": [
    "#### *\"Commenting out code section(s)\"*"
   ]
  },
  {
   "cell_type": "markdown",
   "id": "f1617aab",
   "metadata": {},
   "source": [
    "To comment out code-section(s), use `#IF 0` and `#ENDIF`, instead of comment(s), since nested comment(s) are not supported in C-language."
   ]
  },
  {
   "cell_type": "code",
   "execution_count": 10,
   "id": "a5911a79",
   "metadata": {},
   "outputs": [
    {
     "name": "stdout",
     "output_type": "stream",
     "text": [
      "\fA\n",
      "D\n"
     ]
    }
   ],
   "source": [
    "#include <stdio.h>\n",
    "\n",
    "int main() {\n",
    "    printf(\"A\\n\");\n",
    "        /* Note: It is possible to nest pre-processor conditional directive(s), but not comment(s). */\n",
    "#if 0\n",
    "#if 0\n",
    "    printf(\"B\\n\");\n",
    "#endif\n",
    "    printf(\"C\\n\");\n",
    "#endif\n",
    "    printf(\"D\\n\");\n",
    "    return 0;\n",
    "}"
   ]
  }
 ],
 "metadata": {
  "kernelspec": {
   "display_name": "C Language (ipykernel)",
   "language": "c",
   "name": "kernel_c"
  },
  "language_info": {
   "file_extension": ".c",
   "mimetype": "text/plain",
   "name": "c"
  }
 },
 "nbformat": 4,
 "nbformat_minor": 5
}
