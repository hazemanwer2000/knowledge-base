{
 "cells": [
  {
   "cell_type": "markdown",
   "id": "57a5dd54",
   "metadata": {},
   "source": [
    "# A brief summary of *Cryptography*\n",
    "<br>\n",
    "<div style=\"opacity: 0.8; font-family: Consolas, Monaco, Lucida Console, Liberation Mono, DejaVu Sans Mono, Bitstream Vera Sans Mono, Courier New; font-size: 12px; font-style: italic;\">\n",
    "    ────────\n",
    "    for more from the author, visit\n",
    "    <a href=\"https://github.com/hazemanwer2000\">github.com/hazemanwer2000</a>.\n",
    "    ────────\n",
    "</div>"
   ]
  },
  {
   "cell_type": "markdown",
   "id": "d5d19f27",
   "metadata": {},
   "source": [
    "## Table of Contents\n",
    "* [*Hashing* Algorithms](#hashing-algorithms)\n",
    "* [*Encryption*](#encryption)\n",
    "  * [*Symmetric* Encryption](#symmetric-encryption)\n",
    "    * [*AES: ECB* mode](#aes-ecb-mode)\n",
    "    * [*AES: CBC* mode](#aes-cbc-mode)\n",
    "    * [*AES: CTR* mode](#aes-ctr-mode)\n",
    "  * [*Asymmetric* Encryption](#asymmetric-encryption)\n",
    "* [Message Authentication Codes](#message-authentication-codes)\n",
    "  * [*Hash-based MAC (HMAC)*](#hash-based-mac-hmac)\n",
    "  * [*CBC-MAC*](#cbc-mac)\n",
    "* [*Key Exchange* Algorithms](#key-exchange-algorithms)\n",
    "  * [*Diffie-Hillman (DH)*](#diffie-hillman-dh)\n"
   ]
  },
  {
   "cell_type": "markdown",
   "id": "7a27e82d",
   "metadata": {},
   "source": [
    "## *Hashing* Algorithms <a class=\"anchor\" id=\"hashing-algorithms\"></a>"
   ]
  },
  {
   "cell_type": "markdown",
   "id": "5cd0d868",
   "metadata": {},
   "source": [
    "A *hashing* algorithm (or, function) maps any number of input bytes to a fixed number of output bytes, called the *hash*, or *digest*.\n",
    "\n",
    "Hence, by definition, any hashing function is *lossy*."
   ]
  },
  {
   "cell_type": "markdown",
   "id": "8e8e5025",
   "metadata": {},
   "source": [
    "<img src=\"../../.img/func-2in-1out.png\" width=\"300\" />"
   ]
  },
  {
   "cell_type": "markdown",
   "id": "980568b1",
   "metadata": {},
   "source": [
    "A hashing function is meant to posses the following characteristics:\n",
    "* *Pre-image* resistance\n",
    "    * Given a hash, it must be practically impossible, without brute-force, to find an input that maps to this hash.\n",
    "* *Second Pre-Image* resistance\n",
    "    * Given an input and its corresponding hash, it must be practically impossible, without brute-force, to find another input that maps to this hash.\n",
    "* *Collision* resistance\n",
    "    * It must be practically impossible, without brute-force, to find any two inputs that map to the same hash.\n",
    "\n",
    "*Note:* Using brute-force, a *(Second) Pre-image* attack is of $O(2^n)$ time complexity, while a *Collision* attack is of $O(\\sqrt{2^n})$ time complexity, where $n$ is the number of bits in the hash."
   ]
  },
  {
   "cell_type": "markdown",
   "id": "96ce7d22",
   "metadata": {},
   "source": [
    "Historically, *MD-5* was used, until it was proven not to be *Collision* resistance.\n",
    "\n",
    "Currently, the recommended hashing function is *SHA-256*."
   ]
  },
  {
   "cell_type": "markdown",
   "id": "42f972ea",
   "metadata": {},
   "source": [
    "| *Algorithm* | *Hash Size (bytes)* |\n",
    "| --- | --- |\n",
    "| *MD-5* | 16 |\n",
    "| *SHA-256* | 32 |"
   ]
  },
  {
   "cell_type": "code",
   "execution_count": 3,
   "id": "46fb7a24",
   "metadata": {},
   "outputs": [
    {
     "data": {
      "text/plain": [
       "'f8c3bf62a9aa3e6fc1619c250e48abe7519373d3edf41be62eb5dc45199af2ef'"
      ]
     },
     "execution_count": 3,
     "metadata": {},
     "output_type": "execute_result"
    }
   ],
   "source": [
    "import hashlib\n",
    "sha256_hasher = hashlib.sha256(b'Hello, world.')\n",
    "sha256_hasher.hexdigest()"
   ]
  },
  {
   "cell_type": "code",
   "execution_count": 9,
   "id": "bfb9cf06",
   "metadata": {},
   "outputs": [
    {
     "data": {
      "text/plain": [
       "'f8c3bf62a9aa3e6fc1619c250e48abe7519373d3edf41be62eb5dc45199af2ef'"
      ]
     },
     "execution_count": 9,
     "metadata": {},
     "output_type": "execute_result"
    }
   ],
   "source": [
    "import hashlib\n",
    "sha256_hasher = hashlib.sha256()\n",
    "sha256_hasher.update(b'Hello,')\n",
    "sha256_hasher.update(b' world.')\n",
    "sha256_hasher.hexdigest()"
   ]
  },
  {
   "cell_type": "markdown",
   "id": "a265bb61",
   "metadata": {},
   "source": [
    "## *Encryption* <a class=\"anchor\" id=\"encryption\"></a>"
   ]
  },
  {
   "cell_type": "markdown",
   "id": "57f92e37",
   "metadata": {},
   "source": [
    "*Encryption* transforms so-called *plain-text*, into incomprehensible *cipher-text*.\n",
    "\n",
    "Encryption algorithms are divided into two categorites:\n",
    "* *Block Cipher* algorithms, operate on blocks (e.g: 16 bytes per block).\n",
    "* *Stream Cipher* algorithms, operate on bytes.\n",
    "\n",
    "For block cipher algorithms, when the data length is not *block-aligned*, padding is added. Padding schemes include,\n",
    "\n",
    "| *Scheme* | `CASE`: 3 bytes of padding are required | `CASE`: 2 bytes of padding are required |\n",
    "| --- | --- | --- |\n",
    "| *PKCS7* | `0x03 0x03 0x03` | `0x02 0x02` |\n",
    "| *ANSI X.923* | `0x00 0x00 0x03` | `0x00 0x02` |"
   ]
  },
  {
   "cell_type": "markdown",
   "id": "ca5f0b58",
   "metadata": {},
   "source": [
    "### *Symmetric* Encryption <a class=\"anchor\" id=\"symmetric-encryption\"></a>"
   ]
  },
  {
   "cell_type": "markdown",
   "id": "bd21e3a2",
   "metadata": {},
   "source": [
    "*Symmetric* encryption algorithms use the same *key* to encrypt and decrypt.\n",
    "\n",
    "*AES*, a 16-byte block cipher algorithm, is, currently, the recommended symmetric encryption algorithm.\n",
    "\n",
    "It has many modes of operation, including,\n",
    "* *Electronic Code Book (ECB)*,\n",
    "* *Cipher Block Chaining (CBC)*, and,\n",
    "* *Counter (CTR)*.\n",
    "\n",
    "*Note:* *AES* supports key sizes *128*, *192*, and *256* bits."
   ]
  },
  {
   "cell_type": "markdown",
   "id": "b687f802",
   "metadata": {},
   "source": [
    "#### *AES: ECB* mode <a class=\"anchor\" id=\"aes-ecb-mode\"></a>"
   ]
  },
  {
   "cell_type": "markdown",
   "id": "6b25e409",
   "metadata": {},
   "source": [
    "In *ECB* mode, each block is encrypted *independent* of any other block.\n",
    "\n",
    "*ECB* mode is not recommended, since:\n",
    "1. for the same key and plain-text, the cipher-text is always the same, which is not ideal, and,\n",
    "2. regardless of the key, patterns can be deciphered from the cipher-text.\n",
    "\n",
    "For example, the following text-in-image is still renderable, even in cipher-text."
   ]
  },
  {
   "cell_type": "markdown",
   "id": "fb2a5e5d",
   "metadata": {},
   "source": [
    "<img src=\"../../.img/aes-ecb-text-in-img.png\" width=\"400\" />"
   ]
  },
  {
   "cell_type": "code",
   "execution_count": 63,
   "id": "2b3b53aa",
   "metadata": {},
   "outputs": [],
   "source": [
    "from cryptography.hazmat.primitives.ciphers import Cipher, algorithms, modes\n",
    "from cryptography.hazmat.primitives import padding\n",
    "from cryptography.hazmat.backends import default_backend\n",
    "import os\n",
    "\n",
    "# ...\n",
    "def test_cipher(cipher, key, data):\n",
    "    \n",
    "    # ACTION: Instantiate useful objects.\n",
    "    encryptor = cipher.encryptor()\n",
    "    decryptor = cipher.decryptor()\n",
    "    padder = padding.PKCS7(128).padder()\n",
    "    unpadder = padding.PKCS7(128).unpadder()\n",
    "\n",
    "    cipher_text = []\n",
    "    decrypted_text = []\n",
    "\n",
    "    # ACTION: Encrypt.\n",
    "    for item in data:\n",
    "        str_2_bin = item.encode('ascii')\n",
    "        cipher_text.append(encryptor.update(padder.update(str_2_bin)))\n",
    "    cipher_text.append(encryptor.update(padder.finalize()))\n",
    "    cipher_text_hex = [item.hex() for item in cipher_text]\n",
    "\n",
    "    # ACTION: Decrypt.\n",
    "    for item in cipher_text:\n",
    "        decrypted_text.append(unpadder.update(decryptor.update(item)))\n",
    "    decrypted_text.append(unpadder.finalize())\n",
    "    decrypted_text_hex = [item.hex() for item in decrypted_text]\n",
    "\n",
    "    # ACTION: Print summary.\n",
    "    data_concat = ''.join(data)\n",
    "    cipher_text_concat = ''.join(cipher_text_hex)\n",
    "    decrypted_text_concat = ''.join(decrypted_text_hex)\n",
    "    decrypted_text_ascii = b''.join(decrypted_text).decode('ascii')\n",
    "\n",
    "    print('Key Size (Bits)               ->    ', len(key_128)*8)\n",
    "    print('Key                           ->    ', key.hex())\n",
    "    print('Plain Text (ASCII)            ->    ', data_concat)\n",
    "    print('Plain Text Length (Bytes)     ->    ', len(data_concat))\n",
    "    print('Cipher Text (HEX)             ->    ', cipher_text_concat)\n",
    "    print('Cipher Text Length (Bytes)    ->    ', len(cipher_text_concat)//2)\n",
    "    print('Decrypted Text (HEX)          ->    ', decrypted_text_concat)\n",
    "    print('Decrypted Text (ASCII)        ->    ', decrypted_text_ascii)\n",
    "    print('Decrypted Text Length (Bytes) ->    ', len(decrypted_text_concat)//2)\n"
   ]
  },
  {
   "cell_type": "code",
   "execution_count": 64,
   "id": "3e0de045",
   "metadata": {},
   "outputs": [],
   "source": [
    "# Dummy sentence.\n",
    "data = [\"I \", \"am very \", \"hungry!\"]\n",
    "\n",
    "# Random key, 128 bits in length.\n",
    "key_128 = os.urandom(16)"
   ]
  },
  {
   "cell_type": "code",
   "execution_count": 65,
   "id": "fbfb6b0f",
   "metadata": {},
   "outputs": [
    {
     "name": "stdout",
     "output_type": "stream",
     "text": [
      "Key Size (Bits)               ->     128\n",
      "Key                           ->     f22a98cdaa8c9e8a9c7c7686ab4fd16c\n",
      "Plain Text (ASCII)            ->     I am very hungry!\n",
      "Plain Text Length (Bytes)     ->     17\n",
      "Cipher Text (HEX)             ->     45112e5c5f9c941d7bb610721c10aad9dc4b3cb5d2b827a8dc5ad455f59e5626\n",
      "Cipher Text Length (Bytes)    ->     32\n",
      "Decrypted Text (HEX)          ->     4920616d20766572792068756e67727921\n",
      "Decrypted Text (ASCII)        ->     I am very hungry!\n",
      "Decrypted Text Length (Bytes) ->     17\n"
     ]
    }
   ],
   "source": [
    "# AES, ECB mode.\n",
    "aes_cipher = Cipher(algorithms.AES(key_128), modes.ECB(), backend=default_backend())\n",
    "\n",
    "# ...\n",
    "test_cipher(cipher=aes_cipher, key=key_128, data=data)"
   ]
  },
  {
   "cell_type": "markdown",
   "id": "c881ce1a",
   "metadata": {},
   "source": [
    "#### *AES: CBC* mode <a class=\"anchor\" id=\"aes-cbc-mode\"></a>"
   ]
  },
  {
   "cell_type": "markdown",
   "id": "decfe642",
   "metadata": {},
   "source": [
    "In *CBC* mode, each plain-text block is *XOR'*-ed with the cipher-text of the previous block. The first block is *XOR'*-ed with what's called an *Initialization Vector (IV)*, that's a randomly generated block-sized text, ideally unique per message.\n",
    "\n",
    "*Note:* The value of the IV used within any message is not confidential."
   ]
  },
  {
   "cell_type": "markdown",
   "id": "2a5f7122",
   "metadata": {},
   "source": [
    "<img src=\"../../.img/aes-cbc-visualized.png\" width=\"600\" />"
   ]
  },
  {
   "cell_type": "code",
   "execution_count": 66,
   "id": "3f11e63a",
   "metadata": {},
   "outputs": [
    {
     "name": "stdout",
     "output_type": "stream",
     "text": [
      "Key Size (Bits)               ->     128\n",
      "Key                           ->     f22a98cdaa8c9e8a9c7c7686ab4fd16c\n",
      "Plain Text (ASCII)            ->     I am very hungry!\n",
      "Plain Text Length (Bytes)     ->     17\n",
      "Cipher Text (HEX)             ->     9026c437f8366e6ceb316eb6fd9df92aa1914efb81fb3cb3133f5ef139f206af\n",
      "Cipher Text Length (Bytes)    ->     32\n",
      "Decrypted Text (HEX)          ->     4920616d20766572792068756e67727921\n",
      "Decrypted Text (ASCII)        ->     I am very hungry!\n",
      "Decrypted Text Length (Bytes) ->     17\n"
     ]
    }
   ],
   "source": [
    "# Random IV, AES-block-sized.\n",
    "iv_aes = os.urandom(16)\n",
    "\n",
    "# AES, CBC mode.\n",
    "aes_cipher = Cipher(algorithms.AES(key_128), modes.CBC(initialization_vector=iv_aes), backend=default_backend())\n",
    "\n",
    "# ...\n",
    "test_cipher(cipher=aes_cipher, key=key_128, data=data)"
   ]
  },
  {
   "cell_type": "markdown",
   "id": "31da7e6b",
   "metadata": {},
   "source": [
    "#### *AES: CTR* mode <a class=\"anchor\" id=\"aes-ctr-mode\"></a>"
   ]
  },
  {
   "cell_type": "markdown",
   "id": "8ac7e083",
   "metadata": {},
   "source": [
    "In *CTR* mode, the data is not encrypted. Instead, values from a 16-byte counter are encrypted, generating a *key stream*. Then, the key stream is *XOR*'ed with the plain-text to generate the cipher-text.\n",
    "\n",
    "Additionally, an *IV* is used, interpretted as the initial offset of the counter value.\n",
    "\n",
    "*Note:* *AES* in *CTR* mode behaves more like a stream cipher algorithm, and hence, requires no padding."
   ]
  },
  {
   "cell_type": "markdown",
   "id": "bf49517d",
   "metadata": {},
   "source": [
    "<img src=\"../../.img/aes-ctr-visualized.png\" width=\"600\" />"
   ]
  },
  {
   "cell_type": "code",
   "execution_count": 67,
   "id": "de18807c",
   "metadata": {},
   "outputs": [],
   "source": [
    "# ...\n",
    "def test_cipher(cipher, key, data):\n",
    "    \n",
    "    # ACTION: Instantiate useful objects.\n",
    "    encryptor = cipher.encryptor()\n",
    "    decryptor = cipher.decryptor()\n",
    "\n",
    "    cipher_text = []\n",
    "    decrypted_text = []\n",
    "\n",
    "    # ACTION: Encrypt.\n",
    "    for item in data:\n",
    "        str_2_bin = item.encode('ascii')\n",
    "        cipher_text.append(encryptor.update(str_2_bin))\n",
    "    cipher_text_hex = [item.hex() for item in cipher_text]\n",
    "\n",
    "    # ACTION: Decrypt.\n",
    "    for item in cipher_text:\n",
    "        decrypted_text.append(decryptor.update(item))\n",
    "    decrypted_text_hex = [item.hex() for item in decrypted_text]\n",
    "\n",
    "    # ACTION: Print summary.\n",
    "    data_concat = ''.join(data)\n",
    "    cipher_text_concat = ''.join(cipher_text_hex)\n",
    "    decrypted_text_concat = ''.join(decrypted_text_hex)\n",
    "    decrypted_text_ascii = b''.join(decrypted_text).decode('ascii')\n",
    "\n",
    "    print('Key Size (Bits)               ->    ', len(key_128)*8)\n",
    "    print('Key                           ->    ', key.hex())\n",
    "    print('Plain Text (ASCII)            ->    ', data_concat)\n",
    "    print('Plain Text Length (Bytes)     ->    ', len(data_concat))\n",
    "    print('Cipher Text (HEX)             ->    ', cipher_text_concat)\n",
    "    print('Cipher Text Length (Bytes)    ->    ', len(cipher_text_concat)//2)\n",
    "    print('Decrypted Text (HEX)          ->    ', decrypted_text_concat)\n",
    "    print('Decrypted Text (ASCII)        ->    ', decrypted_text_ascii)\n",
    "    print('Decrypted Text Length (Bytes) ->    ', len(decrypted_text_concat)//2)\n"
   ]
  },
  {
   "cell_type": "code",
   "execution_count": 72,
   "id": "482a9969",
   "metadata": {},
   "outputs": [
    {
     "name": "stdout",
     "output_type": "stream",
     "text": [
      "Key Size (Bits)               ->     128\n",
      "Key                           ->     f22a98cdaa8c9e8a9c7c7686ab4fd16c\n",
      "Plain Text (ASCII)            ->     I am very hungry!\n",
      "Plain Text Length (Bytes)     ->     17\n",
      "Cipher Text (HEX)             ->     4f4d7c83105584c1fe0b9347dce4eb911b\n",
      "Cipher Text Length (Bytes)    ->     17\n",
      "Decrypted Text (HEX)          ->     4920616d20766572792068756e67727921\n",
      "Decrypted Text (ASCII)        ->     I am very hungry!\n",
      "Decrypted Text Length (Bytes) ->     17\n"
     ]
    }
   ],
   "source": [
    "# Random IV, AES-block-sized.\n",
    "iv_aes = os.urandom(16)\n",
    "\n",
    "# AES, CTR mode.\n",
    "aes_cipher = Cipher(algorithms.AES(key_128), modes.CTR(nonce=iv_aes), backend=default_backend())\n",
    "\n",
    "# ...\n",
    "test_cipher(cipher=aes_cipher, key=key_128, data=data)"
   ]
  },
  {
   "cell_type": "markdown",
   "id": "7ff928b0",
   "metadata": {},
   "source": [
    "### *Asymmetric* Encryption <a class=\"anchor\" id=\"asymmetric-encryption\"></a>"
   ]
  },
  {
   "cell_type": "markdown",
   "id": "48e26439",
   "metadata": {},
   "source": [
    "*Asymmetric* encryption algorithms use different keys to encrypt and decrypt.\n",
    "\n",
    "One key is kept private, called the *private* key, and another is shared publicly, called the *public* key."
   ]
  },
  {
   "cell_type": "markdown",
   "id": "22abb78a",
   "metadata": {},
   "source": [
    "*Note:* Both keys can be used for encryption and decryption. What one key has encrypted, can only be decryped with the other."
   ]
  },
  {
   "cell_type": "markdown",
   "id": "d8e873d6",
   "metadata": {},
   "source": [
    "Popular *Asymmetric* encryption algorithms are *RSA* and *Elliptic Curve Cryptography (ECC)*."
   ]
  },
  {
   "cell_type": "markdown",
   "id": "7a003e24",
   "metadata": {},
   "source": [
    "## Message Authentication Codes <a class=\"anchor\" id=\"message-authentication-codes\"></a>"
   ]
  },
  {
   "cell_type": "markdown",
   "id": "614c10da",
   "metadata": {},
   "source": [
    "*Message Authentication Codes (MACs)* is a symmetric approach to proving the *authenticity* and *integrity* of a message.\n",
    "\n",
    "It involves the creation of a *MAC*, that is ammended to a message. The receiver validates the *authenticity* and *integrity* of the message by inspecting the *MAC* value."
   ]
  },
  {
   "cell_type": "markdown",
   "id": "b97ae629",
   "metadata": {},
   "source": [
    "*Note:* When also going for confidentiality, it is recommended to *Encrypt-Then-MAC* (i.e, calculating the *MAC* on the cipher-text)."
   ]
  },
  {
   "cell_type": "markdown",
   "id": "92d4d18a",
   "metadata": {},
   "source": [
    "### *Hash-based MAC (HMAC)* <a class=\"anchor\" id=\"hash-based-mac-hmac\"></a>"
   ]
  },
  {
   "cell_type": "markdown",
   "id": "567f859e",
   "metadata": {},
   "source": [
    "A *Hash-based MAC (HMAC)* is, simplisitically, calculated by:\n",
    "* ammending a *secret key*, known by both communicating parties, to the message, before\n",
    "* running the combination through a hashing algorithm to get the *MAC*."
   ]
  },
  {
   "cell_type": "markdown",
   "id": "f5a85994",
   "metadata": {},
   "source": [
    "### *CBC-MAC* <a class=\"anchor\" id=\"cbc-mac\"></a>"
   ]
  },
  {
   "cell_type": "markdown",
   "id": "05655c73",
   "metadata": {},
   "source": [
    "A *CBC-MAC* uses a variant of the *AES* algorithm, in *CBC* mode, to generate the *MAC* value.\n",
    "\n",
    "*Note:* *C-MAC* is a more secure *CBC-MAC* variant."
   ]
  },
  {
   "cell_type": "markdown",
   "id": "9993a4f3",
   "metadata": {},
   "source": [
    "## *Key Exchange* Algorithms <a class=\"anchor\" id=\"key-exchange-algorithms\"></a>"
   ]
  },
  {
   "cell_type": "markdown",
   "id": "287d18b0",
   "metadata": {},
   "source": [
    "A *Key Exchange* algorithm is concerned with the exchanging of a *shared key* between two parties, over an unsecure channel of communcation."
   ]
  },
  {
   "cell_type": "markdown",
   "id": "647300af",
   "metadata": {},
   "source": [
    "### *Diffie-Hillman (DH)* <a class=\"anchor\" id=\"diffie-hillman-dh\"></a>"
   ]
  },
  {
   "cell_type": "markdown",
   "id": "f2f666c4",
   "metadata": {},
   "source": [
    "Using *Diffie-Hillman (DH)*, parameters can be exchanged publicly that allow both communicating parties to arrive to the same *shared* key at the end, without having to communicate the *shared* key, explicitly.\n",
    "\n",
    "The following figure illustrates the concept behind *DH*."
   ]
  },
  {
   "cell_type": "markdown",
   "id": "4f37e3a5",
   "metadata": {},
   "source": [
    "<img src=\"../../.img/diffie-hellman-concept.jpg\" width=\"325\" />"
   ]
  },
  {
   "cell_type": "markdown",
   "id": "2c07f33c",
   "metadata": {},
   "source": [
    "*Note:* *Elliptic Curve DH (ECDH)* is a more secure variant of *DH*."
   ]
  }
 ],
 "metadata": {
  "kernelspec": {
   "display_name": "Python 3 (ipykernel)",
   "language": "python",
   "name": "python3"
  },
  "language_info": {
   "codemirror_mode": {
    "name": "ipython",
    "version": 3
   },
   "file_extension": ".py",
   "mimetype": "text/x-python",
   "name": "python",
   "nbconvert_exporter": "python",
   "pygments_lexer": "ipython3",
   "version": "3.11.4"
  }
 },
 "nbformat": 4,
 "nbformat_minor": 5
}
