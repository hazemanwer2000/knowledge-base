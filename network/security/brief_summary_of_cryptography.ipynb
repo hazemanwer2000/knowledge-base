{
 "cells": [
  {
   "cell_type": "markdown",
   "id": "57a5dd54",
   "metadata": {},
   "source": [
    "# A brief summary of *Cryptography*\n",
    "<br>\n",
    "<div style=\"opacity: 0.8; font-family: Consolas, Monaco, Lucida Console, Liberation Mono, DejaVu Sans Mono, Bitstream Vera Sans Mono, Courier New; font-size: 12px; font-style: italic;\">\n",
    "    ────────\n",
    "    for more from the author, visit\n",
    "    <a href=\"https://github.com/hazemanwer2000\">github.com/hazemanwer2000</a>.\n",
    "    ────────\n",
    "</div>"
   ]
  },
  {
   "cell_type": "markdown",
   "id": "d5d19f27",
   "metadata": {},
   "source": [
    "## Table of Contents\n"
   ]
  },
  {
   "cell_type": "markdown",
   "id": "7a27e82d",
   "metadata": {},
   "source": [
    "## *Hashing* Algorithms"
   ]
  },
  {
   "cell_type": "markdown",
   "id": "5cd0d868",
   "metadata": {},
   "source": [
    "A *hashing* algorithm (or, function) maps any number of input bytes to a fixed number output bytes, called the *hash*, or *digest*.\n",
    "\n",
    "Hence, by definition, any hashing function is *lossy*."
   ]
  },
  {
   "cell_type": "markdown",
   "id": "8e8e5025",
   "metadata": {},
   "source": [
    "<img src=\"../../.img/func-2in-1out.png\" width=\"300\" />"
   ]
  },
  {
   "cell_type": "markdown",
   "id": "980568b1",
   "metadata": {},
   "source": [
    "A hashing function is meant to posses the following characteristics:\n",
    "* *Pre-image* resistance\n",
    "    * Given a hash, it must be practically impossible, without brute-force, to find an input that maps to this hash.\n",
    "* *Second Pre-Image* resistance\n",
    "    * Given an input and its corresponding hash, it must be practically impossible, without brute-force, to find another input that maps to this hash.\n",
    "* *Collision* resistance\n",
    "    * It must be practically impossible, without brute-force, to find any two inputs that map to the same hash.\n",
    "\n",
    "*Note:* Using brute-force, a *(Second) Pre-image* attack is of $O(2^n)$ time complexity, while a *Collision* attack is of $O(\\sqrt{2^n})$ time complexity, where $n$ is the number of bits in the hash."
   ]
  },
  {
   "cell_type": "markdown",
   "id": "96ce7d22",
   "metadata": {},
   "source": [
    "Historically, *MD-5* was used, until it was proven not to be *Collision* resistance.\n",
    "\n",
    "Currently, the recommended hashing function is *SHA-256*."
   ]
  },
  {
   "cell_type": "markdown",
   "id": "42f972ea",
   "metadata": {},
   "source": [
    "| *Algorithm* | *Hash Size (bytes)* |\n",
    "| --- | --- |\n",
    "| *MD-5* | 16 |\n",
    "| *SHA-256* | 32 |"
   ]
  },
  {
   "cell_type": "code",
   "execution_count": 3,
   "id": "46fb7a24",
   "metadata": {},
   "outputs": [
    {
     "data": {
      "text/plain": [
       "'f8c3bf62a9aa3e6fc1619c250e48abe7519373d3edf41be62eb5dc45199af2ef'"
      ]
     },
     "execution_count": 3,
     "metadata": {},
     "output_type": "execute_result"
    }
   ],
   "source": [
    "import hashlib\n",
    "sha256_hasher = hashlib.sha256(b'Hello, world.')\n",
    "sha256_hasher.hexdigest()"
   ]
  },
  {
   "cell_type": "code",
   "execution_count": 9,
   "id": "bfb9cf06",
   "metadata": {},
   "outputs": [
    {
     "data": {
      "text/plain": [
       "'f8c3bf62a9aa3e6fc1619c250e48abe7519373d3edf41be62eb5dc45199af2ef'"
      ]
     },
     "execution_count": 9,
     "metadata": {},
     "output_type": "execute_result"
    }
   ],
   "source": [
    "import hashlib\n",
    "sha256_hasher = hashlib.sha256()\n",
    "sha256_hasher.update(b'Hello,')\n",
    "sha256_hasher.update(b' world.')\n",
    "sha256_hasher.hexdigest()"
   ]
  },
  {
   "cell_type": "markdown",
   "id": "ca5f0b58",
   "metadata": {},
   "source": [
    "## *Symmetric* Encryption"
   ]
  },
  {
   "cell_type": "markdown",
   "id": "780db7e5",
   "metadata": {},
   "source": []
  }
 ],
 "metadata": {
  "kernelspec": {
   "display_name": "Python 3 (ipykernel)",
   "language": "python",
   "name": "python3"
  },
  "language_info": {
   "codemirror_mode": {
    "name": "ipython",
    "version": 3
   },
   "file_extension": ".py",
   "mimetype": "text/x-python",
   "name": "python",
   "nbconvert_exporter": "python",
   "pygments_lexer": "ipython3",
   "version": "3.11.4"
  }
 },
 "nbformat": 4,
 "nbformat_minor": 5
}
