{
 "cells": [
  {
   "cell_type": "markdown",
   "id": "0971233f",
   "metadata": {},
   "source": [
    "# A brief summary of C (89, 99, 11)\n",
    "<br>\n",
    "<div style=\"opacity: 0.8; font-family: Consolas, Monaco, Lucida Console, Liberation Mono, DejaVu Sans Mono, Bitstream Vera Sans Mono, Courier New; font-size: 12px; font-style: italic;\">\n",
    "    ────────\n",
    "    for more from the author, visit\n",
    "    <a href=\"https://github.com/hazemanwer2000\">github.com/hazemanwer2000</a>.\n",
    "    ────────\n",
    "</div>"
   ]
  },
  {
   "cell_type": "markdown",
   "id": "28855350",
   "metadata": {},
   "source": [
    "## Table of Contents\n",
    "* [The Compilation Process](#the-compilation-process)\n",
    "* [Data Types](#data-types)\n",
    "* [Operators](#operators)\n",
    "* [The Fundamentals](#the-fundamentals)\n",
    "    * [Identifiers](#identifiers)\n",
    "    * [Functions](#functions)\n",
    "        * [Inline Functions (C99+)](#inline-functions)\n",
    "    * [Variables](#variables)\n",
    "        * [Local Variables](#local-variables)\n",
    "        * [Global Variables](#global-variables)\n",
    "        * [Scope](#scope)\n",
    "    * [Casting](#casting)\n",
    "    * [Literals](#literals)\n",
    "        * [Integer Literals](#integer-literals)\n",
    "        * [Floating-point Literals](#floating-point-literals)\n",
    "        * [Character Literals](#character-literals)\n",
    "    * [Conditional Execution](#conditional-execution)\n",
    "* [Pointers](#pointers)\n",
    "    * [`void *`](#void)\n",
    "    * [Function Pointers](#function-pointers)\n",
    "    * [The `restrict` keyword (C99+)](#the-restrict-keyword)\n",
    "* [Arrays](#arrays)\n",
    "* [Structures and Unions](#structures-and-unions)\n",
    "* [Enumerations](#enumerations)\n",
    "* [Additional Core Features](#additional-core-features)\n",
    "    * [The `volatile` keyword](#the-volatile-keyword)\n",
    "    * [The `const` keyword](#the-const-keyword)\n",
    "    * [String Literals](#string-literals)\n",
    "    * [The comma operator](#the-comma-operator)\n",
    "    * [The `sizeof` operator](#the-sizeof-operator)\n",
    "    * [`typedef`](#typedef)\n",
    "    * [Boolean Type (C99+)](#boolean-type)\n",
    "* [Preprocessor Directives](#preprocessor-directives)\n",
    "* [The C Standard Library](#the-c-standard-library)\n",
    "    * [Dynamic Memory Allocation](#dynamic-memory-allocation)\n",
    "    * [Fixed-width Integers (C99+)](#fixed-width-integers)\n",
    "\n",
    "<hr>"
   ]
  },
  {
   "cell_type": "markdown",
   "id": "fab2a185",
   "metadata": {},
   "source": [
    "C is a *case-sensitive*, procedural, low-level language.\n",
    "\n",
    "Every C program must contain a single `main` function across all files. It is the entry point of the program.\n",
    "\n",
    "When running as bare-metal firmware, the function returns nothing. When running on an OS, the function returns a value to the OS, indicating its exit status."
   ]
  },
  {
   "cell_type": "code",
   "execution_count": 23,
   "id": "65de4bff",
   "metadata": {},
   "outputs": [],
   "source": [
    "int main() {\n",
    "    return 0;\n",
    "}"
   ]
  },
  {
   "cell_type": "markdown",
   "id": "dd3bd071",
   "metadata": {},
   "source": [
    "In C, comments are traditionally defined between `/*` and `*/`, and may be defined over multiple lines."
   ]
  },
  {
   "cell_type": "code",
   "execution_count": 362,
   "id": "9eefd4f4",
   "metadata": {},
   "outputs": [],
   "source": [
    "/* traditional\n",
    "   multi-line\n",
    "   comment */\n",
    "   \n",
    "int main() {\n",
    "    return 0;\n",
    "}"
   ]
  },
  {
   "cell_type": "markdown",
   "id": "7c4b0d66",
   "metadata": {},
   "source": [
    "In C99+, single-line comments were introduced, using `//`."
   ]
  },
  {
   "cell_type": "code",
   "execution_count": 361,
   "id": "cf6d4366",
   "metadata": {},
   "outputs": [],
   "source": [
    "int main() {\n",
    "    return 0;       // single-line comment (C99+)\n",
    "}"
   ]
  },
  {
   "cell_type": "markdown",
   "id": "c21c109c",
   "metadata": {},
   "source": [
    "## The Compilation Process <a class=\"anchor\" id=\"the-compilation-process\"></a>"
   ]
  },
  {
   "cell_type": "markdown",
   "id": "c23aafb9",
   "metadata": {},
   "source": [
    "Files in *C* are either *source* files, `*.c`, or *header* files, `*.h`."
   ]
  },
  {
   "cell_type": "markdown",
   "id": "8ba72956",
   "metadata": {},
   "source": [
    "*Note:* Header files are ignored throughout the compilation process."
   ]
  },
  {
   "cell_type": "markdown",
   "id": "dd8ad4c4",
   "metadata": {},
   "source": [
    "*Note:* The compiler used throughout this notebook is *GCC* (GNU Compiler Collection). The term *compiler* used here is an umbrella term for all tools used throughout the compilation process, usually lumped together under a single executable."
   ]
  },
  {
   "cell_type": "markdown",
   "id": "5427cacd",
   "metadata": {},
   "source": [
    "The first stage in the compilation process is the *preprocessing* stage. The **preprocessor** reads and executes *directives* in `*.c` files, outputting a `*.i` file for each `*.c` file."
   ]
  },
  {
   "cell_type": "markdown",
   "id": "76677843",
   "metadata": {},
   "source": [
    "`gcc -E *.c > *.i`"
   ]
  },
  {
   "cell_type": "markdown",
   "id": "93290288",
   "metadata": {},
   "source": [
    "*Note:* Only a single file may be preprocessed at a time."
   ]
  },
  {
   "cell_type": "markdown",
   "id": "1a270be7",
   "metadata": {},
   "source": [
    "*Note:* A `*.i` file has all comments, present in its corresponding `*.c` file, removed."
   ]
  },
  {
   "cell_type": "markdown",
   "id": "af47e168",
   "metadata": {},
   "source": [
    "The second stage is the *compilation* stage. The **compiler** (proper) *compiles* each `*.i` file into a `*.s` file, translating C code into assembly instructions of the *target architecture*. Hence, compilers are architecture-dependent, but platform-independent."
   ]
  },
  {
   "cell_type": "markdown",
   "id": "e7fb6b6c",
   "metadata": {},
   "source": [
    "*Note:* An *architecture* is a family of *platforms* that share the same *ISA* (Instruction Set Architecture)."
   ]
  },
  {
   "cell_type": "markdown",
   "id": "9b3740fd",
   "metadata": {},
   "source": [
    "`gcc -S *.i`"
   ]
  },
  {
   "cell_type": "markdown",
   "id": "d19b7618",
   "metadata": {},
   "source": [
    "*Note:* Passing a `*.c` file instead, it will be preprocessed in the background, before it is compiled."
   ]
  },
  {
   "cell_type": "markdown",
   "id": "0c7e4301",
   "metadata": {},
   "source": [
    "The third stage is the *assembly* stage. The **assembler** assembles each `*.s` file into an `*.o*` object file, translating assembly instructions into machine code."
   ]
  },
  {
   "cell_type": "markdown",
   "id": "e858948f",
   "metadata": {},
   "source": [
    "`gcc -c *.s`"
   ]
  },
  {
   "cell_type": "markdown",
   "id": "361c7528",
   "metadata": {},
   "source": [
    "*Note:* Passing a `*.c` or `*.i` file instead, it will be preprocessed and compiled in the background, before it is assembled."
   ]
  },
  {
   "cell_type": "markdown",
   "id": "1269112e",
   "metadata": {},
   "source": [
    "While compiling and assembling, files are handled separately. Declared but undefined symbols within a single file are left symbolic, for the **linker** to resolve.\n",
    "\n",
    "The fourth stage is the *linking* stage. The linker *links* all input `*.o` files into a single *relocatable file*, by resolving symbolic associations between files. Also, it implicitly links to the C standard library."
   ]
  },
  {
   "cell_type": "markdown",
   "id": "57ca84cd",
   "metadata": {},
   "source": [
    "*Note:* A *declaration* acknowledges the existence of a *definition*, in the same or in a different source file. It does not allocate memory."
   ]
  },
  {
   "cell_type": "markdown",
   "id": "cf6888f1",
   "metadata": {},
   "source": [
    "In the fifth and final stage, the **locator** uses the *linker map file* of the *target platform* to map the memory regions within the relocatable file according to the target's memory map. The final output is a single *executable*, able to run on the target platform.\n",
    "\n",
    "Usually, there is no intermediary output between both stages, and *symbolic resolution* and *relocation* are performed by the linker, implicity calling or implementing the locator. The linker is, hence, platform-dependent."
   ]
  },
  {
   "cell_type": "markdown",
   "id": "1930e8d6",
   "metadata": {},
   "source": [
    "`gcc *.o -o run.exe`"
   ]
  },
  {
   "cell_type": "markdown",
   "id": "87db90ef",
   "metadata": {},
   "source": [
    "*Note:* Passing a `*.c`, `*.i` or `*.s` file instead, it will be preprocessed, compiled and assembled in the background."
   ]
  },
  {
   "cell_type": "markdown",
   "id": "50839052",
   "metadata": {},
   "source": [
    "## Data Types <a class=\"anchor\" id=\"data-types\"></a>"
   ]
  },
  {
   "cell_type": "markdown",
   "id": "4e362787",
   "metadata": {},
   "source": [
    "* Arithmetic Types\n",
    "    * Integer Types\n",
    "        * Size: *at least 1 byte*\n",
    "            * `unsigned char`\n",
    "            * `signed char`\n",
    "        * Size: *at least 2 bytes*\n",
    "            * `unsigned short int`\n",
    "            * `signed short int`\n",
    "        * Size: *at least 2 bytes (usually 2 or 4 bytes)*\n",
    "            * `unsigned int`\n",
    "            * `signed int`\n",
    "        * Size: *at least 4 bytes (usually 4 or 8 bytes)*\n",
    "            * `unsigned long int`\n",
    "            * `signed long int`\n",
    "        * Size: *at least 8 bytes*\n",
    "            * `unsigned long long int`\n",
    "            * `signed long long int`\n",
    "    * Floating-point Types\n",
    "        * Size: *unspecified (usually 4 bytes)*\n",
    "            * `float`\n",
    "        * Size: *unspecified (usually 8 bytes)*\n",
    "            * `double`\n",
    "        * Size: *unspecified*\n",
    "            * `long double`\n",
    "* Derived Types\n",
    "    * Functions\n",
    "    * Pointers\n",
    "    * Arrays\n",
    "    * Structures\n",
    "    * Unions\n",
    "* Enumerations\n",
    "* `void`"
   ]
  },
  {
   "cell_type": "markdown",
   "id": "026ccdb9",
   "metadata": {},
   "source": [
    "*Note:* Omitting the `unsigned` keyword, an integer data type will generally default to `signed`."
   ]
  },
  {
   "cell_type": "markdown",
   "id": "70487724",
   "metadata": {},
   "source": [
    "*Note:* For non-`char` integer data types, the `int` keyword may be omitted."
   ]
  },
  {
   "cell_type": "markdown",
   "id": "223af65f",
   "metadata": {},
   "source": [
    "## Operators <a class=\"anchor\" id=\"operators\"></a>"
   ]
  },
  {
   "cell_type": "markdown",
   "id": "564c19a0",
   "metadata": {},
   "source": [
    "| *Operator* | *Associativity* | *Precedence* |\n",
    "| --- | --- | |\n",
    "| `()` `[]` `->` `.` <br><br> (*Post*) `++` `--` | *left-to-right* | ↑ |\n",
    "| `+` `-` `!` `~` *`(type)`* `*` `&` `sizeof` <br><br> (*Pre*) `++` `--` | *right-to-left* |\n",
    "| `*` `/` `%` | *left-to-right* |\n",
    "| `+` `-` | *left-to-right* |\n",
    "| `<<` `>>` | *left-to-right* |\n",
    "| `<` `<=` `>` `>=` | *left-to-right* |\n",
    "| `==` `!=` | *left-to-right* |\n",
    "| `&` | *left-to-right* |\n",
    "| `^` | *left-to-right* |\n",
    "| `\\|` | *left-to-right* |\n",
    "| `&&` | *left-to-right* |\n",
    "| `\\|\\|` | *left-to-right* |\n",
    "| `?:` <br><br> `=` `+=` `-=` `*=` `/=` `%=` `&=` `^=` `\\|=` `<<=` `>>=` | *right-to-left* |\n",
    "| `,` | *left-to-right* | ↓ |"
   ]
  },
  {
   "cell_type": "markdown",
   "id": "758afe91",
   "metadata": {},
   "source": [
    "*Note:* In C, an assignment expression evaluates to the left operand."
   ]
  },
  {
   "cell_type": "markdown",
   "id": "638295ad",
   "metadata": {},
   "source": [
    "*Note:* In C, `>>` performs arithmetic shifting when the left operand is `signed`. Both `>>` and `<<` require a non-negative integer type as a right operand, that is less than or equal to the width of the type, in bits."
   ]
  },
  {
   "cell_type": "markdown",
   "id": "20b65da9",
   "metadata": {},
   "source": [
    "*Note:* In C89, the results of `/` and `%` operators for a negative operand can be rounded either up or down. In C99+, the result is always truncated toward zero."
   ]
  },
  {
   "cell_type": "markdown",
   "id": "5ea7ae53",
   "metadata": {},
   "source": [
    "*Note:* In C89, the sign of `i % j` for a negative `i` or `j` is compiler-dependent. In C99+, the sign is always the sign of `i`."
   ]
  },
  {
   "cell_type": "markdown",
   "id": "8a7e24a7",
   "metadata": {},
   "source": [
    "*Note:* In C, the left operand of a binary logical operator is evaluated first. The right operand is not evaluated (or, short-circuited) in the case of redundancy."
   ]
  },
  {
   "cell_type": "markdown",
   "id": "125effb6",
   "metadata": {},
   "source": [
    "*Note:* In C, order of evaluation is undefined except for `&&`, `||`, `?:`, and `,`, which gurantee the left-operand to be evaluated first."
   ]
  },
  {
   "cell_type": "markdown",
   "id": "d1fc31c1",
   "metadata": {},
   "source": [
    "## The Fundamentals <a class=\"anchor\" id=\"the-fundamentals\"></a>"
   ]
  },
  {
   "cell_type": "markdown",
   "id": "413ad6db",
   "metadata": {},
   "source": [
    "### Identifiers <a class=\"anchor\" id=\"identifiers\"></a>"
   ]
  },
  {
   "cell_type": "markdown",
   "id": "8e437971",
   "metadata": {},
   "source": [
    "In C89, the compiler (proper) is required to remember at least the first **31 characters** of an identifier, **case-sensitive**. Identifiers with external linkage, that fall to the linker, only the first **6 characters** must at least be taken into consideration, **case-insensitive**."
   ]
  },
  {
   "cell_type": "markdown",
   "id": "d8757f11",
   "metadata": {},
   "source": [
    "In C99+, the compiler (proper) is required to remember at least the first **63 characters** of an identifier, **case-sensitive**. Identifiers with external linkage, the first **31 characters** must at least be taken into consideration, **case-sensitive**."
   ]
  },
  {
   "cell_type": "markdown",
   "id": "e1d57e81",
   "metadata": {},
   "source": [
    "### Functions <a class=\"anchor\" id=\"functions\"></a>"
   ]
  },
  {
   "cell_type": "markdown",
   "id": "635e6b96",
   "metadata": {},
   "source": [
    "The C compiler (proper) is a single-pass compiler. Hence, to perform type-checking on passed function parameters, a function declaration (also called *prototype*) should be present before a function call. "
   ]
  },
  {
   "cell_type": "code",
   "execution_count": 41,
   "id": "b134c551",
   "metadata": {},
   "outputs": [
    {
     "name": "stdout",
     "output_type": "stream",
     "text": [
      "11"
     ]
    }
   ],
   "source": [
    "#include <stdio.h>\n",
    "\n",
    "int add(int x, int y) {   /* function definition (and declaration) */\n",
    "    return x + y;\n",
    "}\n",
    "\n",
    "int main() {\n",
    "    int x = 5;\n",
    "    int y = 6;\n",
    "    int sum = add(x, y);\n",
    "    printf(\"%d\", sum);\n",
    "    return 0;\n",
    "}"
   ]
  },
  {
   "cell_type": "code",
   "execution_count": 436,
   "id": "e133c41a",
   "metadata": {},
   "outputs": [
    {
     "name": "stdout",
     "output_type": "stream",
     "text": [
      "11"
     ]
    }
   ],
   "source": [
    "#include <stdio.h>\n",
    "\n",
    "int add(int x, int y);   /* function declaration */\n",
    "\n",
    "int main() {\n",
    "    int x = 5;\n",
    "    int y = 6;\n",
    "    int sum = add(x, y);\n",
    "    printf(\"%d\", sum);\n",
    "    return 0;\n",
    "}\n",
    "\n",
    "int add(int x, int y) {   /* function definition (and declaration) */\n",
    "    return x + y;\n",
    "}"
   ]
  },
  {
   "cell_type": "markdown",
   "id": "78763e58",
   "metadata": {},
   "source": [
    "*Note:* Every function definition and declaration must have a *storage class*. By default, function definitions and declarations have an `extern` storage class specifier applied."
   ]
  },
  {
   "cell_type": "markdown",
   "id": "a8c5aed7",
   "metadata": {},
   "source": [
    "If a function declaration is missing before a function call, the compiler issues a warning."
   ]
  },
  {
   "cell_type": "code",
   "execution_count": 39,
   "id": "d0ca07bd",
   "metadata": {
    "scrolled": true
   },
   "outputs": [
    {
     "name": "stderr",
     "output_type": "stream",
     "text": [
      "/tmp/tmpe6jm12l2.c: In function ‘main’:\n",
      "/tmp/tmpe6jm12l2.c:6:15: warning: implicit declaration of function ‘add’ [-Wimplicit-function-declaration]\n",
      "    6 |     int sum = add(x, y);\n",
      "      |               ^~~\n"
     ]
    },
    {
     "name": "stdout",
     "output_type": "stream",
     "text": [
      "11"
     ]
    }
   ],
   "source": [
    "#include <stdio.h>\n",
    "\n",
    "int main() {\n",
    "    int x = 5;\n",
    "    int y = 6;\n",
    "    int sum = add(x, y);\n",
    "    printf(\"%d\", sum);\n",
    "    return 0;\n",
    "}\n",
    "\n",
    "int add(int x, int y) {   /* function definition (and declaration) */\n",
    "    return x + y;\n",
    "}"
   ]
  },
  {
   "cell_type": "markdown",
   "id": "215fd1cd",
   "metadata": {},
   "source": [
    "*Note:* A function declaration may occur more than once."
   ]
  },
  {
   "cell_type": "markdown",
   "id": "339b3429",
   "metadata": {},
   "source": [
    "Usually, a `*.h` file contains function declarations of functions in the corresponding `*.c` file. The `#include` directive is used to include the content of another file, usually a `*.h` file, into a `*.c` file."
   ]
  },
  {
   "cell_type": "code",
   "execution_count": 47,
   "id": "b151b67c",
   "metadata": {},
   "outputs": [
    {
     "name": "stdout",
     "output_type": "stream",
     "text": [
      "Hi!"
     ]
    }
   ],
   "source": [
    "#include <stdio.h>       /* Standard Library IO functions prototypes. */ \n",
    "                         /* Standard Library function definitions are linked to, automatically. */\n",
    "\n",
    "int main() {\n",
    "    printf(\"Hi!\");       /* 'printf' prototype defined in 'stdio.h' */\n",
    "    return 0;\n",
    "}"
   ]
  },
  {
   "cell_type": "markdown",
   "id": "6c3afff0",
   "metadata": {},
   "source": [
    "*Note:* The `#include` directive is recursive. Any directives in the included file are further executed."
   ]
  },
  {
   "cell_type": "markdown",
   "id": "924a5768",
   "metadata": {},
   "source": [
    "A *static* function may not be referenced outside the file it is defined in. The `static` storage class specifier is used to define or declare a static function."
   ]
  },
  {
   "cell_type": "code",
   "execution_count": 50,
   "id": "6316edd4",
   "metadata": {},
   "outputs": [
    {
     "name": "stdout",
     "output_type": "stream",
     "text": [
      "11"
     ]
    }
   ],
   "source": [
    "#include <stdio.h>\n",
    "\n",
    "static int add(int x, int y);      /* static function declaration */\n",
    "\n",
    "int main() {\n",
    "    int x = 5;\n",
    "    int y = 6;\n",
    "    int sum = add(x, y);\n",
    "    printf(\"%d\", sum);\n",
    "    return 0;\n",
    "}\n",
    "\n",
    "static int add(int x, int y) {       /* static function definition */\n",
    "    return x + y;\n",
    "}"
   ]
  },
  {
   "cell_type": "markdown",
   "id": "4bc21520",
   "metadata": {},
   "source": [
    "If a static function is referenced outside the file it is defined in, the linker throws an error."
   ]
  },
  {
   "cell_type": "code",
   "execution_count": 422,
   "id": "b7283f47",
   "metadata": {},
   "outputs": [
    {
     "name": "stdout",
     "output_type": "stream",
     "text": [
      "3"
     ]
    }
   ],
   "source": [
    "//%cflags: .jupyter/add.c\n",
    "\n",
    "#include <stdio.h>\n",
    "\n",
    "int add(int x, int y);           /* 'add' is an extern function declaration */\n",
    "                                 /* to an extern function definition in another file */\n",
    "\n",
    "int main() {\n",
    "    printf(\"%d\", add(1, 2));\n",
    "    return 0;\n",
    "}"
   ]
  },
  {
   "cell_type": "code",
   "execution_count": 423,
   "id": "e9a54733",
   "metadata": {},
   "outputs": [
    {
     "name": "stderr",
     "output_type": "stream",
     "text": [
      "/tmp/tmp6hwaomf8.out: symbol lookup error: /tmp/tmpyqg45zfo.out: undefined symbol: add\n",
      "[C kernel] Executable exited with code 127"
     ]
    }
   ],
   "source": [
    "//%cflags: .jupyter/add_static.c\n",
    "\n",
    "#include <stdio.h>\n",
    "\n",
    "int add(int x, int y);           /* 'add' is an extern function declaration */\n",
    "                                 /* to a static function definition in another file */\n",
    "                                 \n",
    "int main() {\n",
    "    printf(\"%d\", add(1, 2));\n",
    "    return 0;\n",
    "}"
   ]
  },
  {
   "cell_type": "markdown",
   "id": "6c1a9bbd",
   "metadata": {},
   "source": [
    "If a static function declaration is present before a function call, while the function definition is missing, the compiler (proper) issues a warning only."
   ]
  },
  {
   "cell_type": "code",
   "execution_count": 72,
   "id": "63965fd1",
   "metadata": {},
   "outputs": [
    {
     "name": "stderr",
     "output_type": "stream",
     "text": [
      "/tmp/tmpwmvlfefi.c:3:12: warning: ‘add’ used but never defined\n",
      "    3 | static int add(int x, int y);\n",
      "      |            ^~~\n",
      "/tmp/tmpy32z25fi.out: symbol lookup error: /tmp/tmpv305fucn.out: undefined symbol: add\n",
      "[C kernel] Executable exited with code 127"
     ]
    }
   ],
   "source": [
    "#include <stdio.h>\n",
    "\n",
    "static int add(int x, int y);\n",
    "\n",
    "int main() {\n",
    "    printf(\"%d\", add(1, 2));\n",
    "    return 0;\n",
    "}"
   ]
  },
  {
   "cell_type": "markdown",
   "id": "cf81cc46",
   "metadata": {},
   "source": [
    "In C, function parameters are passed by value."
   ]
  },
  {
   "cell_type": "code",
   "execution_count": 48,
   "id": "08400d8e",
   "metadata": {
    "scrolled": true
   },
   "outputs": [
    {
     "name": "stdout",
     "output_type": "stream",
     "text": [
      "5"
     ]
    }
   ],
   "source": [
    "#include <stdio.h>\n",
    "\n",
    "void increment(int x) {\n",
    "    x++; \n",
    "}\n",
    "\n",
    "int main() {\n",
    "    int x = 5;\n",
    "    increment(x);\n",
    "    printf(\"%d\", x);\n",
    "    return 0;\n",
    "}"
   ]
  },
  {
   "cell_type": "markdown",
   "id": "468f5e68",
   "metadata": {},
   "source": [
    "#### Inline Functions (C99+) <a class=\"anchor\" id=\"inline-functions\"></a>"
   ]
  },
  {
   "cell_type": "markdown",
   "id": "551a271a",
   "metadata": {},
   "source": [
    "The `inline` storage class specifier is used to implement an alternative function definition within a source file, of an already defined `extern` function in another source file, that can be substituted in code, and not carry the overhead of a function call. Based upon its optimization heuristics, the compiler (proper) chooses whether to substitute the `inline` definition, or leave it as a symbol for the linker to resolve, using the `extern` definition."
   ]
  },
  {
   "cell_type": "code",
   "execution_count": 9,
   "id": "0a2a080d",
   "metadata": {},
   "outputs": [
    {
     "name": "stdout",
     "output_type": "stream",
     "text": [
      "6"
     ]
    }
   ],
   "source": [
    "//%cflags: .jupyter/increment.c\n",
    "\n",
    "#include <stdio.h>\n",
    "\n",
    "inline int increment(int x) {             /* defined in 'increment.c' already */\n",
    "    return ++x;\n",
    "}\n",
    "\n",
    "int main() {\n",
    "    int x = 5;\n",
    "    printf(\"%d\", increment(x));\n",
    "    return 0;\n",
    "}"
   ]
  },
  {
   "cell_type": "markdown",
   "id": "e036dd74",
   "metadata": {},
   "source": [
    "*Note:* Both function definitions must perform the same functionality, since one or the other may be used by the compiler."
   ]
  },
  {
   "cell_type": "markdown",
   "id": "d910b4c5",
   "metadata": {},
   "source": [
    "*Note:* Usually, an `inline` function is placed in the `*.h` file, of the corresponding `*.c` file with the `extern` function. It replaces the need for a function declaration."
   ]
  },
  {
   "cell_type": "markdown",
   "id": "e8d1c482",
   "metadata": {},
   "source": [
    "*Note:* The `extern` function may be defined as `extern inline`. Its behavior is indistinguishable, except that it allows the function to become possibly inlined in the file in which it is defined."
   ]
  },
  {
   "cell_type": "markdown",
   "id": "76507697",
   "metadata": {},
   "source": [
    "*Note:* The `static inline` storage class specifier allows a function definition to become possibly inlined in the file in which it is defined. However, its scope is restricted to the file it is defined in."
   ]
  },
  {
   "cell_type": "markdown",
   "id": "b5c09571",
   "metadata": {},
   "source": [
    "*Note:* Many compilers do not use the `inline` definition, by default, unless heavy optimization is enabled. Some compilers provide directives to always inline a specific function."
   ]
  },
  {
   "cell_type": "markdown",
   "id": "9a6ead6e",
   "metadata": {},
   "source": [
    "### Variables <a class=\"anchor\" id=\"variables\"></a>"
   ]
  },
  {
   "cell_type": "markdown",
   "id": "2724f3f4",
   "metadata": {},
   "source": [
    "#### Local Variables <a class=\"anchor\" id=\"local-variables\"></a>"
   ]
  },
  {
   "cell_type": "markdown",
   "id": "7a7e17b9",
   "metadata": {},
   "source": [
    "Variables defined within a function have *local* scope. They can only be accessed within that function."
   ]
  },
  {
   "cell_type": "code",
   "execution_count": 98,
   "id": "5aa49280",
   "metadata": {},
   "outputs": [
    {
     "name": "stdout",
     "output_type": "stream",
     "text": [
      "10"
     ]
    }
   ],
   "source": [
    "#include <stdio.h>\n",
    "\n",
    "int main() {\n",
    "    int x = 10;\n",
    "    printf(\"%d\", x);\n",
    "    return 0;\n",
    "}"
   ]
  },
  {
   "cell_type": "markdown",
   "id": "78c12122",
   "metadata": {},
   "source": [
    "Uninitialized local variables contain *garbage* values."
   ]
  },
  {
   "cell_type": "code",
   "execution_count": 100,
   "id": "60c0301b",
   "metadata": {},
   "outputs": [
    {
     "name": "stdout",
     "output_type": "stream",
     "text": [
      "32767"
     ]
    }
   ],
   "source": [
    "#include <stdio.h>\n",
    "\n",
    "int main() {\n",
    "    int x;\n",
    "    printf(\"%d\", x);\n",
    "    return 0;\n",
    "}"
   ]
  },
  {
   "cell_type": "markdown",
   "id": "3dffd9da",
   "metadata": {},
   "source": [
    "Local variables may be `auto` or `static`. `auto` local variables are allocated and deallocated with each function call. `static` local variables are allocated once, with the first function call, and persist throughout the lifetime of the program."
   ]
  },
  {
   "cell_type": "code",
   "execution_count": 90,
   "id": "238fe785",
   "metadata": {},
   "outputs": [
    {
     "name": "stdout",
     "output_type": "stream",
     "text": [
      "11\n",
      "11\n",
      "11\n"
     ]
    }
   ],
   "source": [
    "#include <stdio.h>\n",
    "\n",
    "int x_plus_one();\n",
    "\n",
    "int main() {\n",
    "    printf(\"%d\\n\", x_plus_one());\n",
    "    printf(\"%d\\n\", x_plus_one());\n",
    "    printf(\"%d\\n\", x_plus_one());\n",
    "    return 0;\n",
    "}\n",
    "\n",
    "int x_plus_one() {\n",
    "    auto int x = 10;         /* auto local variable definition executed */\n",
    "                             /* with each function call */\n",
    "    return ++x;\n",
    "}"
   ]
  },
  {
   "cell_type": "code",
   "execution_count": 91,
   "id": "68bf7649",
   "metadata": {},
   "outputs": [
    {
     "name": "stdout",
     "output_type": "stream",
     "text": [
      "11\n",
      "12\n",
      "13\n"
     ]
    }
   ],
   "source": [
    "#include <stdio.h>\n",
    "\n",
    "int x_plus_one();\n",
    "\n",
    "int main() {\n",
    "    printf(\"%d\\n\", x_plus_one());\n",
    "    printf(\"%d\\n\", x_plus_one());\n",
    "    printf(\"%d\\n\", x_plus_one());\n",
    "    return 0;\n",
    "}\n",
    "\n",
    "int x_plus_one() {\n",
    "    static int x = 10;         /* static local variable definition executed */\n",
    "                               /* once only at start of program, and not with */\n",
    "                               /* each function call */\n",
    "    return ++x;\n",
    "}"
   ]
  },
  {
   "cell_type": "markdown",
   "id": "1212acfa",
   "metadata": {},
   "source": [
    "*Note:* Local variables are `auto` by default."
   ]
  },
  {
   "cell_type": "markdown",
   "id": "6e5783c0",
   "metadata": {},
   "source": [
    "*Note:* Storage class specifiers, such as `auto` and `static`, may come before or after the data type."
   ]
  },
  {
   "cell_type": "markdown",
   "id": "173ca99c",
   "metadata": {},
   "source": [
    "Local variables may also be `register`. The `register` storage class specifier tells the compiler to allocate and deallocate memory with each function call, but in one of the CPU's registers, for faster access."
   ]
  },
  {
   "cell_type": "code",
   "execution_count": 420,
   "id": "0f72c1b8",
   "metadata": {},
   "outputs": [
    {
     "name": "stdout",
     "output_type": "stream",
     "text": [
      "11\n",
      "11\n",
      "11\n"
     ]
    }
   ],
   "source": [
    "#include <stdio.h>\n",
    "\n",
    "int x_plus_one();\n",
    "\n",
    "int main() {\n",
    "    printf(\"%d\\n\", x_plus_one());\n",
    "    printf(\"%d\\n\", x_plus_one());\n",
    "    printf(\"%d\\n\", x_plus_one());\n",
    "    return 0;\n",
    "}\n",
    "\n",
    "int x_plus_one() {\n",
    "    register int x = 10;         /* register (auto) local variable definition executed */\n",
    "                             /* with each function call */\n",
    "    return ++x;\n",
    "}"
   ]
  },
  {
   "cell_type": "markdown",
   "id": "abdba451",
   "metadata": {},
   "source": [
    "*Note:* The `register` storage class specifier may be ignored by the compiler, defaulting to `auto`."
   ]
  },
  {
   "cell_type": "markdown",
   "id": "76be6122",
   "metadata": {},
   "source": [
    "*Note:* If a `register` variable is dereferenced, the compiler throws an error, since the CPU registers are, mostly, inaddressable."
   ]
  },
  {
   "cell_type": "markdown",
   "id": "0860060c",
   "metadata": {},
   "source": [
    "If mulitple storage class specifiers are used on a single local variable, the compiler throws an error."
   ]
  },
  {
   "cell_type": "code",
   "execution_count": 116,
   "id": "c89cf9d3",
   "metadata": {},
   "outputs": [
    {
     "name": "stderr",
     "output_type": "stream",
     "text": [
      "/tmp/tmpze_ttdz4.c: In function ‘x_plus_one’:\n",
      "/tmp/tmpze_ttdz4.c:13:5: error: multiple storage classes in declaration specifiers\n",
      "   13 |     auto register int x = 10;         /* register (auto) local variable definition executed */\n",
      "      |     ^~~~\n",
      "[C kernel] GCC exited with code 1, the executable will not be executed"
     ]
    }
   ],
   "source": [
    "#include <stdio.h>\n",
    "\n",
    "int x_plus_one();\n",
    "\n",
    "int main() {\n",
    "    printf(\"%d\\n\", x_plus_one());\n",
    "    printf(\"%d\\n\", x_plus_one());\n",
    "    printf(\"%d\\n\", x_plus_one());\n",
    "    return 0;\n",
    "}\n",
    "\n",
    "int x_plus_one() {\n",
    "    auto register int x = 10;         /* register (auto) local variable definition executed */\n",
    "                             /* with each function call */\n",
    "    return ++x;\n",
    "}"
   ]
  },
  {
   "cell_type": "markdown",
   "id": "8675a45e",
   "metadata": {},
   "source": [
    "#### Global variables <a class=\"anchor\" id=\"global-variables\"></a>"
   ]
  },
  {
   "cell_type": "markdown",
   "id": "13d0e6c6",
   "metadata": {},
   "source": [
    "Variables defined outside a function have *global* scope. They can be accessed within any function in any file, as long as a declaration of the variable preceeds."
   ]
  },
  {
   "cell_type": "code",
   "execution_count": 433,
   "id": "1819096b",
   "metadata": {},
   "outputs": [
    {
     "name": "stdout",
     "output_type": "stream",
     "text": [
      "0"
     ]
    }
   ],
   "source": [
    "#include <stdio.h>\n",
    "\n",
    "int x;      /* variable definition (and declaration) */\n",
    "\n",
    "int main() {\n",
    "    printf(\"%d\", x);\n",
    "    return 0;\n",
    "}"
   ]
  },
  {
   "cell_type": "markdown",
   "id": "a7c69415",
   "metadata": {},
   "source": [
    "Explicitly uninitialized global variables are implicitly initialized to zero."
   ]
  },
  {
   "cell_type": "code",
   "execution_count": 428,
   "id": "f7094883",
   "metadata": {},
   "outputs": [
    {
     "name": "stdout",
     "output_type": "stream",
     "text": [
      "0"
     ]
    }
   ],
   "source": [
    "#include <stdio.h>\n",
    "\n",
    "int x;        /* variable definition (and declaration) */\n",
    "\n",
    "int main() {\n",
    "    printf(\"%d\", x);\n",
    "    return 0;\n",
    "}"
   ]
  },
  {
   "cell_type": "markdown",
   "id": "c760e13c",
   "metadata": {},
   "source": [
    "A global variable may only be initialized with a *constant expression*. A constant expression is an expression that may be evaluated at compile-time."
   ]
  },
  {
   "cell_type": "code",
   "execution_count": 428,
   "id": "db3224c7",
   "metadata": {},
   "outputs": [
    {
     "name": "stdout",
     "output_type": "stream",
     "text": [
      "0"
     ]
    }
   ],
   "source": [
    "#include <stdio.h>\n",
    "\n",
    "int x = 5;             /* Valid. */\n",
    "\n",
    "int *ptr = &x;         /* Valid. */\n",
    "\n",
    "int y = x;             /* Error: 'x' element is not constant. */\n",
    "\n",
    "int main() {\n",
    "    printf(\"%d\", x);\n",
    "    return 0;\n",
    "}"
   ]
  },
  {
   "cell_type": "markdown",
   "id": "8c44cfc8",
   "metadata": {},
   "source": [
    "The `extern` keyword is used to declare global variables, that may be defined later in the file, or within another file."
   ]
  },
  {
   "cell_type": "code",
   "execution_count": 539,
   "id": "db9131db",
   "metadata": {},
   "outputs": [
    {
     "name": "stdout",
     "output_type": "stream",
     "text": [
      "23"
     ]
    }
   ],
   "source": [
    "//%cflags: .jupyter/x_def.c\n",
    "\n",
    "#include <stdio.h>\n",
    "\n",
    "extern int x;      /* Variable declaration */\n",
    "                   /* Variable definition resides in '.jupyter/x_def.c' */\n",
    "\n",
    "int main() {\n",
    "    printf(\"%d\", x);\n",
    "    return 0;\n",
    "}"
   ]
  },
  {
   "cell_type": "markdown",
   "id": "a5cb4072",
   "metadata": {},
   "source": [
    "*Note:* A global variable declaration may occur more than once."
   ]
  },
  {
   "cell_type": "markdown",
   "id": "ac672a7a",
   "metadata": {},
   "source": [
    "*Note:* Technically, the `extern` storage class specifier is applied to global variables by default. However, since it is difficult to distinguish between uninitialized definitions and declarations of global variables, the compiler interprets explicit `extern` usage as a declaration, and implicit as a defintion. Initialized global variables are always interpreted as definitions."
   ]
  },
  {
   "cell_type": "markdown",
   "id": "e4cdfb9c",
   "metadata": {},
   "source": [
    "`static` global variables may not be accessed within another file."
   ]
  },
  {
   "cell_type": "code",
   "execution_count": 108,
   "id": "cf8d801b",
   "metadata": {},
   "outputs": [
    {
     "name": "stderr",
     "output_type": "stream",
     "text": [
      "/tmp/tmpy32z25fi.out: /tmp/tmpqrzuawqj.out: undefined symbol: x\n",
      "[C kernel] Executable exited with code 1"
     ]
    }
   ],
   "source": [
    "//%cflags: .jupyter/x_def_static.c\n",
    "\n",
    "#include <stdio.h>\n",
    "\n",
    "extern int x;      /* Variable declaration */\n",
    "                   /* Static variable definition resides in '.jupyter/x_def_static.c' */\n",
    "\n",
    "int main() {\n",
    "    printf(\"%d\", x);\n",
    "    return 0;\n",
    "}"
   ]
  },
  {
   "cell_type": "markdown",
   "id": "31f67fe8",
   "metadata": {},
   "source": [
    "#### Scope <a class=\"anchor\" id=\"scope\"></a>"
   ]
  },
  {
   "cell_type": "markdown",
   "id": "6fd03eb0",
   "metadata": {},
   "source": [
    "Within a *scope*, identifiers must be unique. Within a *nested scope*, identifiers will overshadow similar identifiers in the parent scope."
   ]
  },
  {
   "cell_type": "markdown",
   "id": "0edcf603",
   "metadata": {},
   "source": [
    "A *local scope* within a function can be considered nested within the *global scope* of the containing file (or across files)."
   ]
  },
  {
   "cell_type": "code",
   "execution_count": 446,
   "id": "dcd2e52c",
   "metadata": {},
   "outputs": [
    {
     "name": "stdout",
     "output_type": "stream",
     "text": [
      "2"
     ]
    }
   ],
   "source": [
    "#include <stdio.h>\n",
    "\n",
    "int x = 1;\n",
    "\n",
    "int main() {\n",
    "    int x = 2;\n",
    "    printf(\"%d\", x);\n",
    "    return 0;\n",
    "}"
   ]
  },
  {
   "cell_type": "markdown",
   "id": "41c5873c",
   "metadata": {},
   "source": [
    "Braces define scope. A nested scope can be defined within a function by using braces."
   ]
  },
  {
   "cell_type": "code",
   "execution_count": 415,
   "id": "a82cd8d4",
   "metadata": {},
   "outputs": [
    {
     "name": "stdout",
     "output_type": "stream",
     "text": [
      "Global scope: 1\n",
      "Local scope: 2\n",
      "Nested Scope: 3\n",
      "Again, local scope: 2\n"
     ]
    }
   ],
   "source": [
    "#include <stdio.h>\n",
    "\n",
    "int x = 1;\n",
    "\n",
    "int main() {\n",
    "    printf(\"Global scope: %d\\n\", x);\n",
    "    int x = 2;\n",
    "    printf(\"Local scope: %d\\n\", x);\n",
    "    {\n",
    "        int x = 3;\n",
    "        printf(\"Nested Scope: %d\\n\", x);\n",
    "    }\n",
    "    printf(\"Again, local scope: %d\\n\", x);\n",
    "    return 0;\n",
    "}"
   ]
  },
  {
   "cell_type": "markdown",
   "id": "381b8817",
   "metadata": {},
   "source": [
    "*Note:* All defined local variables within a scope are allocated all at once, at the beginning of a scope, and deallocated once the scope ends."
   ]
  },
  {
   "cell_type": "markdown",
   "id": "450972b6",
   "metadata": {},
   "source": [
    "*Note:* In C89, within any braces defining a local or nested scope, definitions of variables must occur before any statement. In C99+, this is no longer a requirement."
   ]
  },
  {
   "cell_type": "markdown",
   "id": "109d5375",
   "metadata": {},
   "source": [
    "### Casting <a class=\"anchor\" id=\"casting\"></a>"
   ]
  },
  {
   "cell_type": "markdown",
   "id": "8d8321b3",
   "metadata": {},
   "source": [
    "In C, *implicit casting* of one data type into another, except in some cases while working with pointers and arrays, never throws any error."
   ]
  },
  {
   "cell_type": "code",
   "execution_count": 4,
   "id": "e0b27c24",
   "metadata": {},
   "outputs": [
    {
     "name": "stdout",
     "output_type": "stream",
     "text": [
      "13"
     ]
    }
   ],
   "source": [
    "#include <stdio.h>\n",
    "\n",
    "int main() {\n",
    "    float x = 13.0f;             /* float literal, discussed later */\n",
    "    int y = x;\n",
    "    printf(\"%d\", y);\n",
    "    return 0;\n",
    "}"
   ]
  },
  {
   "cell_type": "markdown",
   "id": "f9ce06de",
   "metadata": {},
   "source": [
    "In arithmetic, bitwise, and relational operations, the C compiler follows a number of casting rules:\n",
    "* `char` and `short` types are promoted to `int` by default.\n",
    "* If different integer data types are present, implicit conversion occurs towards the largest data type.\n",
    "* If `signed` and `unsigned` data types are present, implicit conversion occurs towards the `unsigned` data type.\n",
    "* If integer and floating-point types are present, implicit conversion occurs towards the floating-point data type.\n",
    "* If different floating-point types are present, implicit conversion occurs towards the largest floating-point data type."
   ]
  },
  {
   "cell_type": "code",
   "execution_count": 1,
   "id": "4ab91ea5",
   "metadata": {
    "scrolled": true
   },
   "outputs": [
    {
     "name": "stdout",
     "output_type": "stream",
     "text": [
      "4294967295"
     ]
    }
   ],
   "source": [
    "#include <stdio.h>\n",
    "\n",
    "                    /* signed to unsigned */\n",
    "int main() {\n",
    "    signed int x = -1; \n",
    "    printf(\"%u\", (unsigned int) x);         /* print as unsigned, discussed later */\n",
    "    return 0;\n",
    "}"
   ]
  },
  {
   "cell_type": "code",
   "execution_count": 2,
   "id": "2cf52cb7",
   "metadata": {},
   "outputs": [
    {
     "name": "stdout",
     "output_type": "stream",
     "text": [
      "-1"
     ]
    }
   ],
   "source": [
    "#include <stdio.h>\n",
    "\n",
    "                    /* unsigned to signed */\n",
    "int main() {\n",
    "    unsigned int x = 4294967295; \n",
    "    printf(\"%d\", (signed int) x);                  /* print as signed, discussed later */\n",
    "    return 0;\n",
    "}"
   ]
  },
  {
   "cell_type": "markdown",
   "id": "c814b0c8",
   "metadata": {},
   "source": [
    "*Note:* The bits remain unchanged while casting from `signed` to `unsigned`, and vice versa."
   ]
  },
  {
   "cell_type": "code",
   "execution_count": 163,
   "id": "203f74c7",
   "metadata": {},
   "outputs": [
    {
     "name": "stdout",
     "output_type": "stream",
     "text": [
      "1"
     ]
    }
   ],
   "source": [
    "#include <stdio.h>\n",
    "\n",
    "                    /* unsigned int to unsigned long long */\n",
    "int main() {\n",
    "    unsigned int x = 1; \n",
    "    printf(\"%llu\", (unsigned long long) x);         /* print as unsigned long long, discussed later */\n",
    "    return 0;\n",
    "}"
   ]
  },
  {
   "cell_type": "code",
   "execution_count": 191,
   "id": "5a86bda1",
   "metadata": {},
   "outputs": [
    {
     "name": "stdout",
     "output_type": "stream",
     "text": [
      "-1\n",
      "1\n"
     ]
    }
   ],
   "source": [
    "#include <stdio.h>\n",
    "\n",
    "                    /* signed int to signed long long */\n",
    "int main() {\n",
    "    signed int x = -1; \n",
    "    printf(\"%lld\\n\", (signed long long) x);         /* print as signed long long, discussed later */\n",
    "    \n",
    "    x = 1; \n",
    "    printf(\"%lld\\n\", (signed long long) x);\n",
    "    return 0;\n",
    "}"
   ]
  },
  {
   "cell_type": "markdown",
   "id": "4309c8d7",
   "metadata": {},
   "source": [
    "*Note:* Casting an integer data type into a larger data type, the bits will be zero-expanded if it is `signed` and non-negative, or `unsigned`. It will be one-expanded if it is `signed` and negative."
   ]
  },
  {
   "cell_type": "code",
   "execution_count": 461,
   "id": "4c663248",
   "metadata": {},
   "outputs": [
    {
     "name": "stdout",
     "output_type": "stream",
     "text": [
      "255"
     ]
    }
   ],
   "source": [
    "#include <stdio.h>\n",
    "#include <limits.h>\n",
    "\n",
    "                    /* signed int to signed long long */\n",
    "int main() {\n",
    "    unsigned int x = UINT_MAX;\n",
    "    printf(\"%u\", (unsigned char) x);\n",
    "    return 0;\n",
    "}"
   ]
  },
  {
   "cell_type": "markdown",
   "id": "227826f9",
   "metadata": {},
   "source": [
    "*Note:* Casting an integer data type into a smaller data type, bits are simply omitted."
   ]
  },
  {
   "cell_type": "code",
   "execution_count": 5,
   "id": "99b38bf6",
   "metadata": {},
   "outputs": [
    {
     "name": "stdout",
     "output_type": "stream",
     "text": [
      "4294967290\n",
      "506\n"
     ]
    }
   ],
   "source": [
    "#include <stdio.h>\n",
    "#include <limits.h>\n",
    "\n",
    "int main() {\n",
    "    unsigned char x = 2;\n",
    "    signed char y = -3;     /* 253 as 'unsigned char'*/\n",
    "    \n",
    "    printf(\"%u\\n\", x * y);\n",
    "    printf(\"%u\\n\", x * (unsigned char) y);\n",
    "    return 0;\n",
    "}"
   ]
  },
  {
   "cell_type": "code",
   "execution_count": 4,
   "id": "0529a1a8",
   "metadata": {},
   "outputs": [
    {
     "name": "stdout",
     "output_type": "stream",
     "text": [
      "18446744073709551610\n",
      "506\n"
     ]
    }
   ],
   "source": [
    "#include <stdio.h>\n",
    "#include <limits.h>\n",
    "\n",
    "int main() {\n",
    "    unsigned long int x = 2;\n",
    "    signed char y = -3;     /* 253 as 'unsigned char'*/\n",
    "    \n",
    "    printf(\"%lu\\n\", x * y);\n",
    "    printf(\"%lu\\n\", x * (unsigned char) y);\n",
    "    return 0;\n",
    "}"
   ]
  },
  {
   "cell_type": "markdown",
   "id": "a0cee2df",
   "metadata": {},
   "source": [
    "*Note:* When casting, bit expansion or omission comes before sign conversion."
   ]
  },
  {
   "cell_type": "markdown",
   "id": "236bf386",
   "metadata": {},
   "source": [
    "### Literals <a class=\"anchor\" id=\"literals\"></a>"
   ]
  },
  {
   "cell_type": "markdown",
   "id": "4a2b9e73",
   "metadata": {},
   "source": [
    "#### Integer Literals <a class=\"anchor\" id=\"integer-literals\"></a>"
   ]
  },
  {
   "cell_type": "markdown",
   "id": "d3a840b8",
   "metadata": {},
   "source": [
    "| *Prefix* | *Type* | \n",
    "| --- | --- | \n",
    "|  | Decimal |\n",
    "| `0x`, `0X` | Hexadecimal |\n",
    "| `0` | Octal |\n",
    "| `0b`, `0B` | Binary |"
   ]
  },
  {
   "cell_type": "markdown",
   "id": "d587df0f",
   "metadata": {},
   "source": [
    "| *Suffix* | *Type* | \n",
    "| --- | --- | \n",
    "| <br> <br> <br> <br> (Non-Decimal) | `int` <br> `long int` <br> `long long int` <br><br> (`unsigned`) |\n",
    "| `u`, `U` | `unsigned int` <br> `unsigned long int` <br> `unsigned long long int` |\n",
    "| `l`, `L` | `long int` |\n",
    "| `ll`, `LL`  | `long long int` |\n",
    "| `ul`, `uL`, `Ul`, `UL` | `unsigned long int` |\n",
    "| `ull`, `uLL`, `Ull`, `ULL` | `unsigned long long int` |"
   ]
  },
  {
   "cell_type": "markdown",
   "id": "68cee0be",
   "metadata": {},
   "source": [
    "*Note:* If a value is too large for its data type, the compiler issues a warning."
   ]
  },
  {
   "cell_type": "markdown",
   "id": "d025bde5",
   "metadata": {},
   "source": [
    "#### Floating-point Literals <a class=\"anchor\" id=\"floating-point-literals\"></a>"
   ]
  },
  {
   "cell_type": "markdown",
   "id": "52334eec",
   "metadata": {},
   "source": [
    "| *Valid Format* | *Example* |\n",
    "| --- | --- |\n",
    "| *int.frac* | 1.1\n",
    "| *int.* | 1.\n",
    "| *.frac* | .1\n",
    "| *int-e-exp* | 1e-1"
   ]
  },
  {
   "cell_type": "markdown",
   "id": "9b1e50a5",
   "metadata": {},
   "source": [
    "| *Suffix* | *Type* |\n",
    "| --- | --- |\n",
    "|  | `double`\n",
    "| `f`, `F` | `float`\n",
    "| `l`, `L` | `long double`"
   ]
  },
  {
   "cell_type": "markdown",
   "id": "660432e3",
   "metadata": {},
   "source": [
    "#### Character Literals <a class=\"anchor\" id=\"character-literals\"></a>"
   ]
  },
  {
   "cell_type": "markdown",
   "id": "af507dc0",
   "metadata": {},
   "source": [
    "A *character literal* is simply a `char`, which value of is the *ASCII* code of the corresponding character."
   ]
  },
  {
   "cell_type": "markdown",
   "id": "ec1c876f",
   "metadata": {},
   "source": [
    "| *Example* | *ASCII code* |\n",
    "| --- | --- |\n",
    "| `'0'` | 48\n",
    "| `'A'` | 65\n",
    "| `'a'` | 97\n",
    "| `'\\n'` | 10\n",
    "| `'\\0'` | 0\n",
    "| `'\"'` | 34\n",
    "| `'\\''` | 39"
   ]
  },
  {
   "cell_type": "markdown",
   "id": "c9d1e000",
   "metadata": {},
   "source": [
    "### Conditional Execution <a class=\"anchor\" id=\"conditional-execution\"></a>"
   ]
  },
  {
   "cell_type": "markdown",
   "id": "e8953597",
   "metadata": {},
   "source": [
    "In C, in any decision (conditional branching), any non-zero value evaluates to true, and otherwise false."
   ]
  },
  {
   "cell_type": "code",
   "execution_count": 598,
   "id": "1c544fab",
   "metadata": {},
   "outputs": [
    {
     "name": "stdout",
     "output_type": "stream",
     "text": [
      "True!"
     ]
    }
   ],
   "source": [
    "#include <stdio.h>\n",
    "\n",
    "int main() {                /* if statement */\n",
    "    if (0.01) {\n",
    "        printf(\"True!\");\n",
    "    } else {\n",
    "        printf(\"False!\");\n",
    "    }\n",
    "    return 0;\n",
    "}"
   ]
  },
  {
   "cell_type": "code",
   "execution_count": 564,
   "id": "725dd8f4",
   "metadata": {},
   "outputs": [
    {
     "name": "stdout",
     "output_type": "stream",
     "text": [
      "T"
     ]
    }
   ],
   "source": [
    "#include <stdio.h>\n",
    "\n",
    "int main() {                /* ternary operator */\n",
    "    printf(\"%c\", 0.01 ? 'T' : 'F');\n",
    "    return 0;\n",
    "}"
   ]
  },
  {
   "cell_type": "markdown",
   "id": "24db5682",
   "metadata": {},
   "source": [
    "In C, loops consist of *while*, *do-while* and *for* loops."
   ]
  },
  {
   "cell_type": "code",
   "execution_count": 426,
   "id": "b6df5df9",
   "metadata": {},
   "outputs": [
    {
     "name": "stdout",
     "output_type": "stream",
     "text": [
      "3 2 1 "
     ]
    }
   ],
   "source": [
    "#include <stdio.h>\n",
    "\n",
    "int main() {\n",
    "    register int count = 3;\n",
    "    while (count) {\n",
    "        printf(\"%d \", count--);\n",
    "    }\n",
    "    return 0;\n",
    "}"
   ]
  },
  {
   "cell_type": "code",
   "execution_count": 29,
   "id": "7d6fa873",
   "metadata": {
    "scrolled": true
   },
   "outputs": [
    {
     "name": "stdout",
     "output_type": "stream",
     "text": [
      "Hi!"
     ]
    }
   ],
   "source": [
    "#include <stdio.h>\n",
    "\n",
    "int main() {\n",
    "    do {\n",
    "        printf(\"Hi!\");\n",
    "    } while (0);\n",
    "    \n",
    "    return 0;\n",
    "}"
   ]
  },
  {
   "cell_type": "code",
   "execution_count": 411,
   "id": "a2ee600b",
   "metadata": {},
   "outputs": [
    {
     "name": "stdout",
     "output_type": "stream",
     "text": [
      "3 2 1 "
     ]
    }
   ],
   "source": [
    "#include <stdio.h>\n",
    "\n",
    "int main() {\n",
    "    register int count;\n",
    "    for (count = 3; count; count--) {\n",
    "        printf(\"%d \", count);\n",
    "    }\n",
    "    return 0;\n",
    "}"
   ]
  },
  {
   "cell_type": "markdown",
   "id": "2ff6b329",
   "metadata": {},
   "source": [
    "*Note:* Use `break` and `continue` statements to break from a loop, or skip the current iteration, respectively."
   ]
  },
  {
   "cell_type": "markdown",
   "id": "bfa43844",
   "metadata": {},
   "source": [
    "In C99+, it is allowed to define a variable in the first statement of a `for` loop."
   ]
  },
  {
   "cell_type": "code",
   "execution_count": 413,
   "id": "a445631f",
   "metadata": {},
   "outputs": [
    {
     "name": "stdout",
     "output_type": "stream",
     "text": [
      "3 2 1 "
     ]
    }
   ],
   "source": [
    "#include <stdio.h>\n",
    "\n",
    "int main() {\n",
    "    for (register int count = 3; count; count--) {\n",
    "        printf(\"%d \", count);\n",
    "    }\n",
    "    return 0;\n",
    "}"
   ]
  },
  {
   "cell_type": "markdown",
   "id": "6312e762",
   "metadata": {},
   "source": [
    "A *switch* is used to test for a specific value of an integer data type."
   ]
  },
  {
   "cell_type": "code",
   "execution_count": 477,
   "id": "504be402",
   "metadata": {},
   "outputs": [
    {
     "name": "stdout",
     "output_type": "stream",
     "text": [
      "Two."
     ]
    }
   ],
   "source": [
    "#include <stdio.h>\n",
    "\n",
    "int main() {\n",
    "    int x = 2;\n",
    "    switch (x) {\n",
    "        case 1:\n",
    "            printf(\"One.\");\n",
    "            break;\n",
    "        case 2:\n",
    "            printf(\"Two.\");\n",
    "            break;\n",
    "        default:\n",
    "            printf(\"Default.\");\n",
    "            break;\n",
    "    }\n",
    "    return 0;\n",
    "}"
   ]
  },
  {
   "cell_type": "code",
   "execution_count": 481,
   "id": "af683dad",
   "metadata": {},
   "outputs": [
    {
     "name": "stderr",
     "output_type": "stream",
     "text": [
      "/tmp/tmp4fn7rtds.c: In function ‘main’:\n",
      "/tmp/tmp4fn7rtds.c:5:13: error: switch quantity not an integer\n",
      "    5 |     switch (x) {\n",
      "      |             ^\n",
      "/tmp/tmp4fn7rtds.c:6:9: error: case label does not reduce to an integer constant\n",
      "    6 |         case 1.0f:\n",
      "      |         ^~~~\n",
      "/tmp/tmp4fn7rtds.c:9:9: error: case label does not reduce to an integer constant\n",
      "    9 |         case 2.0f:\n",
      "      |         ^~~~\n",
      "[C kernel] GCC exited with code 1, the executable will not be executed"
     ]
    }
   ],
   "source": [
    "#include <stdio.h>\n",
    "\n",
    "int main() {\n",
    "    float x = 2.0f;\n",
    "    switch (x) {\n",
    "        case 1.0f:\n",
    "            printf(\"One.\");\n",
    "            break;\n",
    "        case 2.0f:\n",
    "            printf(\"Two.\");\n",
    "            break;\n",
    "        default:\n",
    "            printf(\"Default.\");\n",
    "            break;\n",
    "    }\n",
    "    return 0;\n",
    "}"
   ]
  },
  {
   "cell_type": "markdown",
   "id": "16607d39",
   "metadata": {},
   "source": [
    "*Note:* If duplicate cases are present, the compiler issues an error."
   ]
  },
  {
   "cell_type": "markdown",
   "id": "81445d9f",
   "metadata": {},
   "source": [
    "Once a case matches in a switch, all statements further down are executed, regardless, until a `break` statement is met."
   ]
  },
  {
   "cell_type": "code",
   "execution_count": 431,
   "id": "b6f5d6b3",
   "metadata": {},
   "outputs": [
    {
     "name": "stdout",
     "output_type": "stream",
     "text": [
      "One.Two.Default."
     ]
    }
   ],
   "source": [
    "#include <stdio.h>\n",
    "\n",
    "int main() {\n",
    "    int x = 1;\n",
    "    switch (x) {\n",
    "        case 1:\n",
    "            printf(\"One.\");\n",
    "        case 2:\n",
    "            printf(\"Two.\");\n",
    "        default:\n",
    "            printf(\"Default.\");\n",
    "    }\n",
    "    return 0;\n",
    "}"
   ]
  },
  {
   "cell_type": "markdown",
   "id": "1b3c4c04",
   "metadata": {},
   "source": [
    "If no case matches, the `default` (optional) case is executed."
   ]
  },
  {
   "cell_type": "code",
   "execution_count": 772,
   "id": "41993b2d",
   "metadata": {},
   "outputs": [
    {
     "name": "stdout",
     "output_type": "stream",
     "text": [
      "Default.One.Two."
     ]
    }
   ],
   "source": [
    "#include <stdio.h>\n",
    "\n",
    "int main() {\n",
    "    int x = 3;\n",
    "    switch (x) {\n",
    "        default:\n",
    "            printf(\"Default.\");\n",
    "        case 1:\n",
    "            printf(\"One.\");\n",
    "        case 2:\n",
    "            printf(\"Two.\");\n",
    "    }\n",
    "    return 0;\n",
    "}"
   ]
  },
  {
   "cell_type": "markdown",
   "id": "1d70c022",
   "metadata": {},
   "source": [
    "*Note:* It is recommended to add a `break` statement at the end of each case."
   ]
  },
  {
   "cell_type": "markdown",
   "id": "ada6c74a",
   "metadata": {},
   "source": [
    "A `goto` statement jumps to a label in code, and can be used to implement conditional branching structures and functions calls from scratch."
   ]
  },
  {
   "cell_type": "code",
   "execution_count": 6,
   "id": "c08e4fc5",
   "metadata": {},
   "outputs": [
    {
     "name": "stdout",
     "output_type": "stream",
     "text": [
      "Bye!"
     ]
    }
   ],
   "source": [
    "#include <stdio.h>\n",
    "\n",
    "int main() {\n",
    "    goto skip;\n",
    "    printf(\"Hi!\");\n",
    "    skip:\n",
    "    printf(\"Bye!\");\n",
    "    return 0;\n",
    "}"
   ]
  },
  {
   "cell_type": "markdown",
   "id": "d2da93db",
   "metadata": {},
   "source": [
    "*Note:* A label must be defined within the same scope in which it is used."
   ]
  },
  {
   "cell_type": "markdown",
   "id": "9f8e1b59",
   "metadata": {},
   "source": [
    "When working with `if`, `else`, `while`, `do`, and `for` keywords, it is not a must to define a new scope. Zero or one statements may follow without a new scope, with a terminating semicolon at the end."
   ]
  },
  {
   "cell_type": "code",
   "execution_count": 2,
   "id": "9feaa89d",
   "metadata": {
    "scrolled": true
   },
   "outputs": [
    {
     "name": "stdout",
     "output_type": "stream",
     "text": [
      "3\n",
      "2\n",
      "1\n"
     ]
    }
   ],
   "source": [
    "#include <stdio.h>\n",
    "\n",
    "int main() {\n",
    "    int x = 3;\n",
    "    while(x)\n",
    "        printf(\"%d\\n\", x--);\n",
    "    return 0;\n",
    "}"
   ]
  },
  {
   "cell_type": "code",
   "execution_count": 22,
   "id": "48a14c1f",
   "metadata": {},
   "outputs": [],
   "source": [
    "#include <stdio.h>\n",
    "\n",
    "int main() {\n",
    "    int x = 3;\n",
    "    while(x--)\n",
    "        ;\n",
    "    return 0;\n",
    "}"
   ]
  },
  {
   "cell_type": "markdown",
   "id": "3fe1210c",
   "metadata": {},
   "source": [
    "*Note:* A semicolon with no statement preceeding is called an *empty statement*."
   ]
  },
  {
   "cell_type": "markdown",
   "id": "54c1c2bf",
   "metadata": {},
   "source": [
    "Additionally, a similar keyword may follow, instead of a semi-colon."
   ]
  },
  {
   "cell_type": "code",
   "execution_count": 273,
   "id": "583e0333",
   "metadata": {},
   "outputs": [
    {
     "name": "stdout",
     "output_type": "stream",
     "text": [
      "Else-If."
     ]
    }
   ],
   "source": [
    "#include <stdio.h>\n",
    "\n",
    "int main() {\n",
    "    if (0)\n",
    "        printf(\"If.\");\n",
    "    else if (1)              /* 'else' followed by 'if' */\n",
    "        printf(\"Else-If.\");\n",
    "    else\n",
    "        ;\n",
    "    return 0;\n",
    "}"
   ]
  },
  {
   "cell_type": "markdown",
   "id": "1cd355e9",
   "metadata": {},
   "source": [
    "In some examples, the path of execution may become undefined (compiler-dependent)."
   ]
  },
  {
   "cell_type": "code",
   "execution_count": 17,
   "id": "eb601882",
   "metadata": {},
   "outputs": [
    {
     "name": "stdout",
     "output_type": "stream",
     "text": [
      "Else."
     ]
    }
   ],
   "source": [
    "#include <stdio.h>\n",
    "\n",
    "int main() {\n",
    "    if (1)\n",
    "        if (0)\n",
    "            ;\n",
    "    else                        /* 'else' associated with nested-'if' and not 'if' */\n",
    "        printf(\"Else.\");\n",
    "    return 0;\n",
    "}"
   ]
  },
  {
   "cell_type": "markdown",
   "id": "64054471",
   "metadata": {},
   "source": [
    "*Note:* It is preferred to always define a new scope after `if`, `else`, `while`, `do`, or `for`."
   ]
  },
  {
   "cell_type": "markdown",
   "id": "47d69fc1",
   "metadata": {},
   "source": [
    "## Pointers <a class=\"anchor\" id=\"pointers\"></a>"
   ]
  },
  {
   "cell_type": "markdown",
   "id": "8b8d30b5",
   "metadata": {},
   "source": [
    "A *pointer* is a variable that points to some location in memory, typically another variable's memory location. A pointer is typically associated with a specific data type in definition and declaration."
   ]
  },
  {
   "cell_type": "markdown",
   "id": "bd9be0b7",
   "metadata": {},
   "source": [
    "*Note:* The size of a pointer variable is architecture-dependent, since it depends on the address bus size."
   ]
  },
  {
   "cell_type": "code",
   "execution_count": 247,
   "id": "c6c8ef5f",
   "metadata": {},
   "outputs": [
    {
     "name": "stdout",
     "output_type": "stream",
     "text": [
      "10"
     ]
    }
   ],
   "source": [
    "#include <stdio.h>\n",
    "\n",
    "int main() {\n",
    "    int x = 5;\n",
    "    int *ptr;            /* pointer variable definition and declaration (using the dereference operator '*') */\n",
    "    ptr = &x;            /* '&' reference operator, yields address location of 'x' */\n",
    "    *ptr = 10;           /* '*' dereference operator, accesses memory at address location stored in 'ptr' */\n",
    "    printf(\"%d\", x);\n",
    "    return 0;\n",
    "}"
   ]
  },
  {
   "cell_type": "markdown",
   "id": "ba332eeb",
   "metadata": {},
   "source": [
    "If implicitly casting a non-zero unsigned integer literal, usually a hexadecimal value, as a pointer, the compiler issues a warning."
   ]
  },
  {
   "cell_type": "code",
   "execution_count": 569,
   "id": "3a646529",
   "metadata": {},
   "outputs": [
    {
     "name": "stderr",
     "output_type": "stream",
     "text": [
      "/tmp/tmpkm36x_mi.c: In function ‘main’:\n",
      "/tmp/tmpkm36x_mi.c:4:16: warning: initialization of ‘int *’ from ‘int’ makes pointer from integer without a cast [-Wint-conversion]\n",
      "    4 |     int *ptr = 0x12345678;\n",
      "      |                ^~~~~~~~~~\n"
     ]
    }
   ],
   "source": [
    "#include <stdint.h>\n",
    "\n",
    "int main() {\n",
    "    int *ptr = 0x12345678;\n",
    "    return 0;\n",
    "}"
   ]
  },
  {
   "cell_type": "markdown",
   "id": "f967ab33",
   "metadata": {},
   "source": [
    "If implicitly casting a pointer as an integer data type, the compiler also issues a warning."
   ]
  },
  {
   "cell_type": "code",
   "execution_count": 512,
   "id": "a0ce57a2",
   "metadata": {},
   "outputs": [
    {
     "name": "stderr",
     "output_type": "stream",
     "text": [
      "/tmp/tmp633j5827.c: In function ‘main’:\n",
      "/tmp/tmp633j5827.c:3:38: warning: initialization of ‘long long unsigned int’ from ‘int *’ makes integer from pointer without a cast [-Wint-conversion]\n",
      "    3 |     unsigned long long int address = &x;\n",
      "      |                                      ^\n"
     ]
    }
   ],
   "source": [
    "int main() {\n",
    "    int x = 5;\n",
    "    unsigned long long int address = &x;\n",
    "    return 0;\n",
    "}"
   ]
  },
  {
   "cell_type": "markdown",
   "id": "efc6d19b",
   "metadata": {},
   "source": [
    "A *double pointer* points to a pointer."
   ]
  },
  {
   "cell_type": "code",
   "execution_count": 530,
   "id": "7e1d6691",
   "metadata": {},
   "outputs": [
    {
     "name": "stdout",
     "output_type": "stream",
     "text": [
      "5"
     ]
    }
   ],
   "source": [
    "#include <stdio.h>\n",
    "\n",
    "int main() {\n",
    "    int x = 5;\n",
    "    int *ptr = &x;\n",
    "    int **dbPtr = &ptr;\n",
    "    printf(\"%d\", **dbPtr);\n",
    "    return 0;\n",
    "}"
   ]
  },
  {
   "cell_type": "markdown",
   "id": "4c2282ab",
   "metadata": {},
   "source": [
    "*Note:* A triple pointer points to a double pointer, and so on."
   ]
  },
  {
   "cell_type": "markdown",
   "id": "af3db30d",
   "metadata": {},
   "source": [
    "If implicitly casting a pointer to a double pointer, or vice versa, the compiler issues a warning."
   ]
  },
  {
   "cell_type": "code",
   "execution_count": 531,
   "id": "6e4836cb",
   "metadata": {},
   "outputs": [
    {
     "name": "stderr",
     "output_type": "stream",
     "text": [
      "/tmp/tmpfkcq_uhc.c: In function ‘main’:\n",
      "/tmp/tmpfkcq_uhc.c:6:19: warning: initialization of ‘int **’ from incompatible pointer type ‘int *’ [-Wincompatible-pointer-types]\n",
      "    6 |     int **dbPtr = ptr;\n",
      "      |                   ^~~\n"
     ]
    }
   ],
   "source": [
    "#include <stdio.h>\n",
    "\n",
    "int main() {\n",
    "    int x = 5;\n",
    "    int *ptr = &x;\n",
    "    int **dbPtr = ptr;\n",
    "    return 0;\n",
    "}"
   ]
  },
  {
   "cell_type": "markdown",
   "id": "435b8728",
   "metadata": {},
   "source": [
    "Pointers allow a function to modify variables outside of its scope."
   ]
  },
  {
   "cell_type": "code",
   "execution_count": 506,
   "id": "d033c65b",
   "metadata": {},
   "outputs": [
    {
     "name": "stdout",
     "output_type": "stream",
     "text": [
      "-3"
     ]
    }
   ],
   "source": [
    "#include <stdio.h>\n",
    "\n",
    "void increment(int *x);\n",
    "\n",
    "int main() {\n",
    "    int x = -4;\n",
    "    increment(&x);\n",
    "    printf(\"%d\", x);\n",
    "    return 0;\n",
    "}\n",
    "\n",
    "void increment(int *x) {\n",
    "    (*x)++;\n",
    "}"
   ]
  },
  {
   "cell_type": "markdown",
   "id": "e8c9beb9",
   "metadata": {},
   "source": [
    "A *wild pointer* is an uninitialized local pointer. Since uninitialized local variables contain garbage values, a wild pointer is dangerous. If dereferenced, an attempt to write to a random location occurs, resulting in a bug. If this location is read-only at the moment of writing, a run-time segmentation error occurs."
   ]
  },
  {
   "cell_type": "markdown",
   "id": "6f0be84c",
   "metadata": {},
   "source": [
    "*Note:* Generally, compilers warn about wild pointers."
   ]
  },
  {
   "cell_type": "markdown",
   "id": "49e3af46",
   "metadata": {},
   "source": [
    "To avoid wild pointers, initialize local pointer variables with `NULL`, which is a *macro definition* (discussed later) defined in the standard library headers, including `stddef.h`, `stdlib.h`, `string.h`, and `stdio.h`. `NULL` is simply defined as `0`. The C Standard gurantees that an executable exits immediately when an attempt to write to the `0` memory location is made. This well-defined behavior makes it easier to debug defected code."
   ]
  },
  {
   "cell_type": "code",
   "execution_count": 8,
   "id": "6d57986d",
   "metadata": {},
   "outputs": [
    {
     "name": "stderr",
     "output_type": "stream",
     "text": [
      "[C kernel] Executable exited with code -11"
     ]
    }
   ],
   "source": [
    "#include \"stdio.h\"\n",
    "\n",
    "int main() {\n",
    "    int *ptr = NULL;\n",
    "    *ptr = 50;\n",
    "    return 0;\n",
    "}"
   ]
  },
  {
   "cell_type": "markdown",
   "id": "f54eba45",
   "metadata": {},
   "source": [
    "*Note:* Any non-`Null` pointer evaluates to true in conditional execution, otherwise false."
   ]
  },
  {
   "cell_type": "markdown",
   "id": "334323f5",
   "metadata": {},
   "source": [
    "Adding or subtracting an integer data type from a pointer is permitted, and results in a pointer."
   ]
  },
  {
   "cell_type": "code",
   "execution_count": 324,
   "id": "87006a4c",
   "metadata": {},
   "outputs": [
    {
     "name": "stdout",
     "output_type": "stream",
     "text": [
      "5\n",
      "10\n",
      "20\n"
     ]
    }
   ],
   "source": [
    "#include \"stdio.h\"\n",
    "\n",
    "int main() {\n",
    "    int x = 5;\n",
    "    int y = 10;\n",
    "    int z = 20;\n",
    "    \n",
    "    int *ptr = &x;\n",
    "    \n",
    "    printf(\"%d\\n\", *ptr);\n",
    "    printf(\"%d\\n\", *(ptr+1));\n",
    "    printf(\"%d\\n\", *(ptr+2));\n",
    "    return 0;\n",
    "}"
   ]
  },
  {
   "cell_type": "markdown",
   "id": "e1237047",
   "metadata": {},
   "source": [
    "*Note:* Since each address in memory points to a specific byte, incrementing a pointer increases the address stored in the pointer variable by the number of bytes needed to store the data type associated with the pointer variable."
   ]
  },
  {
   "cell_type": "markdown",
   "id": "bc5d3266",
   "metadata": {},
   "source": [
    "Subtraction between two pointers of the same data type is permitted, and results in an integer data type, the same size as a pointer (architecture-dependent)."
   ]
  },
  {
   "cell_type": "code",
   "execution_count": 488,
   "id": "2ec387d2",
   "metadata": {},
   "outputs": [
    {
     "name": "stdout",
     "output_type": "stream",
     "text": [
      "1\n"
     ]
    }
   ],
   "source": [
    "#include \"stdio.h\"\n",
    "\n",
    "int main() {\n",
    "    int x = 5;\n",
    "    int y = 10;\n",
    "    \n",
    "    printf(\"%ld\\n\", &y - &x);\n",
    "    return 0;\n",
    "}"
   ]
  },
  {
   "cell_type": "markdown",
   "id": "9d834df9",
   "metadata": {},
   "source": [
    "*Note:* The result of pointer subtraction is divided by the number of bytes needed to store the associated data type."
   ]
  },
  {
   "cell_type": "markdown",
   "id": "b73d913f",
   "metadata": {},
   "source": [
    "*Note:* Subtracting two pointers of different associated data types, the compiler throws an error. "
   ]
  },
  {
   "cell_type": "markdown",
   "id": "9befb7c9",
   "metadata": {},
   "source": [
    "*Note:* Subtracting pointers makes more sense when working with arrays, discussed later."
   ]
  },
  {
   "cell_type": "markdown",
   "id": "422445e6",
   "metadata": {},
   "source": [
    "Relational operators may be used between pointers of the same data type."
   ]
  },
  {
   "cell_type": "code",
   "execution_count": 10,
   "id": "62da6dfc",
   "metadata": {
    "scrolled": true
   },
   "outputs": [
    {
     "name": "stdout",
     "output_type": "stream",
     "text": [
      "1\n"
     ]
    }
   ],
   "source": [
    "#include \"stdio.h\"\n",
    "\n",
    "int main() {\n",
    "    int x = 5;\n",
    "    int y = 10;\n",
    "    \n",
    "    printf(\"%d\\n\", &y > &x);\n",
    "    return 0;\n",
    "}"
   ]
  },
  {
   "cell_type": "markdown",
   "id": "1f3d2d3f",
   "metadata": {},
   "source": [
    "*Note:* If relational operators are used between pointers of different data types, or between a pointer and an integer data type, the compiler issues a warning, except when `NULL` or `0` is the operand."
   ]
  },
  {
   "cell_type": "markdown",
   "id": "fb546f6a",
   "metadata": {},
   "source": [
    "### `void *` <a class=\"anchor\" id=\"void\"></a>"
   ]
  },
  {
   "cell_type": "markdown",
   "id": "aa52c7be",
   "metadata": {},
   "source": [
    "A *void pointer* is a pointer with no associated data type. If dereferenced and read from or written to, the compiler throws an error. All other operations are, however, valid."
   ]
  },
  {
   "cell_type": "code",
   "execution_count": 525,
   "id": "936f0008",
   "metadata": {},
   "outputs": [],
   "source": [
    "#include \"stdio.h\"\n",
    "\n",
    "int main() {\n",
    "    int x = 5;         /* implicit casting from 'int *' to 'void *' and back */\n",
    "    void *ptr = 0;\n",
    "    int *y = ptr;\n",
    "    return 0;\n",
    "}"
   ]
  },
  {
   "cell_type": "code",
   "execution_count": 520,
   "id": "2a794ea8",
   "metadata": {},
   "outputs": [
    {
     "name": "stderr",
     "output_type": "stream",
     "text": [
      "/tmp/tmprbehbji5.c: In function ‘main’:\n",
      "/tmp/tmprbehbji5.c:6:5: warning: dereferencing ‘void *’ pointer\n",
      "    6 |     *ptr = 6;\n",
      "      |     ^~~~\n",
      "/tmp/tmprbehbji5.c:6:10: error: invalid use of void expression\n",
      "    6 |     *ptr = 6;\n",
      "      |          ^\n",
      "[C kernel] GCC exited with code 1, the executable will not be executed"
     ]
    }
   ],
   "source": [
    "#include \"stdio.h\"\n",
    "\n",
    "int main() {            /* dereferencing to perform a write operation */\n",
    "    int x = 5;\n",
    "    void *ptr = &x;\n",
    "    *ptr = 6;\n",
    "    return 0;\n",
    "}"
   ]
  },
  {
   "cell_type": "code",
   "execution_count": 402,
   "id": "da23580b",
   "metadata": {},
   "outputs": [
    {
     "name": "stdout",
     "output_type": "stream",
     "text": [
      "7ffd0a7a4484\n",
      "7ffd0a7a4485\n",
      "4\n",
      "1\n"
     ]
    }
   ],
   "source": [
    "#include \"stdio.h\"\n",
    "\n",
    "int main() {\n",
    "    int x = 5;\n",
    "    int y = 10;\n",
    "    void *ptr = &x;\n",
    "    void *ptr2 = &y;\n",
    "    \n",
    "    printf(\"%lx\\n\", (unsigned long int) (ptr2));\n",
    "    printf(\"%lx\\n\", (unsigned long int) (ptr2+1));\n",
    "    printf(\"%lx\\n\", ptr2 - ptr);\n",
    "    printf(\"%d\\n\", ptr < ptr2);\n",
    "    \n",
    "    return 0;\n",
    "}"
   ]
  },
  {
   "cell_type": "markdown",
   "id": "329dbf0a",
   "metadata": {},
   "source": [
    "*Note:* Operations on void pointers assume a byte-sized data type (e.g: char), since there is no associated data type."
   ]
  },
  {
   "cell_type": "markdown",
   "id": "12bd102d",
   "metadata": {},
   "source": [
    "### Function Pointers <a class=\"anchor\" id=\"function-pointers\"></a>"
   ]
  },
  {
   "cell_type": "markdown",
   "id": "416f37f7",
   "metadata": {},
   "source": [
    "A *function pointer* points to a function's memory location. It must define the number of parameters and corresponding types, as well as the return type."
   ]
  },
  {
   "cell_type": "code",
   "execution_count": null,
   "id": "b6639ce2",
   "metadata": {},
   "outputs": [],
   "source": [
    "int * add(int x, int y);            /* This is a function, that accepts */\n",
    "                                    /* two 'int' parameters, and returns an 'int' pointer */"
   ]
  },
  {
   "cell_type": "code",
   "execution_count": null,
   "id": "d5e0c0ad",
   "metadata": {},
   "outputs": [],
   "source": [
    "int (*add)(int x, int y);           /* This is a pointer, to a function, that accepts */\n",
    "                                    /* two 'int' parameters, and returns an 'int' */"
   ]
  },
  {
   "cell_type": "markdown",
   "id": "ce8017f6",
   "metadata": {},
   "source": [
    "Function pointers may be initialized."
   ]
  },
  {
   "cell_type": "code",
   "execution_count": 528,
   "id": "adace488",
   "metadata": {},
   "outputs": [
    {
     "name": "stdout",
     "output_type": "stream",
     "text": [
      "9\n"
     ]
    }
   ],
   "source": [
    "#include <stdio.h>\n",
    "\n",
    "int add(int x, int y);\n",
    "int (*ptr)(int x, int y) = add;\n",
    "\n",
    "int main() {\n",
    "    printf(\"%d\\n\", add(5, 4));\n",
    "    return 0;\n",
    "}\n",
    "\n",
    "int add(int x, int y) {\n",
    "    return x + y;\n",
    "}"
   ]
  },
  {
   "cell_type": "markdown",
   "id": "faaf8011",
   "metadata": {},
   "source": [
    "*Note:* A function pointer is an example of a complex definition. Complex definitions should be understood according to the precedence and associativity of the operators present."
   ]
  },
  {
   "cell_type": "markdown",
   "id": "6bbdd5ae",
   "metadata": {},
   "source": [
    "Dereferencing a function pointer evaluates to the same function pointer."
   ]
  },
  {
   "cell_type": "code",
   "execution_count": 35,
   "id": "ef397ed5",
   "metadata": {},
   "outputs": [
    {
     "name": "stdout",
     "output_type": "stream",
     "text": [
      "9\n",
      "9\n"
     ]
    }
   ],
   "source": [
    "#include <stdio.h>\n",
    "\n",
    "int add(int x, int y);\n",
    "int (*ptr)(int x, int y) = add;\n",
    "\n",
    "int main() {\n",
    "    printf(\"%d\\n\", (*ptr)(5, 4));       /* dereferencing once */\n",
    "    printf(\"%d\\n\", (**ptr)(5, 4));      /* dereferencing twice */\n",
    "    return 0;\n",
    "}\n",
    "\n",
    "int add(int x, int y) {\n",
    "    return x + y;\n",
    "}"
   ]
  },
  {
   "cell_type": "markdown",
   "id": "4c260c3f",
   "metadata": {},
   "source": [
    "*Note:* A function name (identifier) is a *fixed* function pointer, with a special property. Referencing the name of a function always yields the same result."
   ]
  },
  {
   "cell_type": "markdown",
   "id": "9872f720",
   "metadata": {},
   "source": [
    "A function pointer may be a parameter to another function."
   ]
  },
  {
   "cell_type": "code",
   "execution_count": 407,
   "id": "77dc1179",
   "metadata": {},
   "outputs": [
    {
     "name": "stdout",
     "output_type": "stream",
     "text": [
      "9"
     ]
    }
   ],
   "source": [
    "#include <stdio.h>\n",
    "\n",
    "int add(int x, int y);\n",
    "int intermediate(int (*ptr)(int x, int y), int x, int y);\n",
    "\n",
    "int main() {\n",
    "    printf(\"%d\", intermediate(add, 5, 4));\n",
    "    return 0;\n",
    "}\n",
    "\n",
    "int add(int x, int y) {\n",
    "    return x + y;\n",
    "}\n",
    "\n",
    "int intermediate(int (*ptr)(int x, int y), int x, int y) {\n",
    "    return ptr(x, y);\n",
    "}"
   ]
  },
  {
   "cell_type": "markdown",
   "id": "22319be8",
   "metadata": {},
   "source": [
    "If a function pointer does not match the function assigned to it, the compiler issues a warning."
   ]
  },
  {
   "cell_type": "code",
   "execution_count": 13,
   "id": "af4cf8d7",
   "metadata": {
    "scrolled": true
   },
   "outputs": [
    {
     "name": "stderr",
     "output_type": "stream",
     "text": [
      "/tmp/tmppd5a3zww.c:4:21: warning: initialization of ‘int (*)(int)’ from incompatible pointer type ‘int (*)(int,  int)’ [-Wincompatible-pointer-types]\n",
      "    4 | int (*ptr)(int x) = add;\n",
      "      |                     ^~~\n"
     ]
    },
    {
     "name": "stdout",
     "output_type": "stream",
     "text": [
      "-455293083"
     ]
    }
   ],
   "source": [
    "#include <stdio.h>\n",
    "\n",
    "int add(int x, int y);\n",
    "int (*ptr)(int x) = add;\n",
    "\n",
    "int main() {\n",
    "    printf(\"%d\", ptr(5));     /* second argument contains garbage */\n",
    "    return 0;\n",
    "}\n",
    "\n",
    "int add(int x, int y) {\n",
    "    return x + y;\n",
    "}"
   ]
  },
  {
   "cell_type": "markdown",
   "id": "c6766d32",
   "metadata": {},
   "source": [
    "### The `restrict` keyword (C99+) <a class=\"anchor\" id=\"the-restrict-keyword\"></a>"
   ]
  },
  {
   "cell_type": "markdown",
   "id": "059833dd",
   "metadata": {},
   "source": [
    "The `restrict` qualifier may be used in pointer declarations and definitions. It tells the compiler that for the lifetime of the pointer, no other pointer will be used to access the memory location to which it points. This allows the compiler to make optimizations that would not otherwise have been possible. It is usually used with function parameters in definitions and declarations."
   ]
  },
  {
   "cell_type": "code",
   "execution_count": null,
   "id": "70cce057",
   "metadata": {},
   "outputs": [],
   "source": [
    "            /* adding to '*ptrA' may have altered '*val', must be re-read from memory */\n",
    "            \n",
    "void updatePtrs(unsigned char *ptrA, unsigned char *ptrB, unsigned char *val) {\n",
    "  *ptrA += *val;\n",
    "  *ptrB += *val;\n",
    "}"
   ]
  },
  {
   "cell_type": "code",
   "execution_count": null,
   "id": "f81bbd03",
   "metadata": {},
   "outputs": [],
   "source": [
    "            /* '*val' cannot be altered by changing '*ptrA', will not be re-read from memory */\n",
    "            \n",
    "void updatePtrs(unsigned char *ptrA, unsigned char *ptrB, unsigned char * restrict val) {\n",
    "  *ptrA += *val;\n",
    "  *ptrB += *val;\n",
    "}"
   ]
  },
  {
   "cell_type": "markdown",
   "id": "76e33b14",
   "metadata": {},
   "source": [
    "## Arrays <a class=\"anchor\" id=\"arrays\"></a>"
   ]
  },
  {
   "cell_type": "markdown",
   "id": "85cf74b4",
   "metadata": {},
   "source": [
    "An *array* is a consecutive number of memory blocks, each block of the same size, according to the associated data type."
   ]
  },
  {
   "cell_type": "code",
   "execution_count": 572,
   "id": "10fa1ac1",
   "metadata": {},
   "outputs": [],
   "source": [
    "#include <stdio.h>\n",
    "\n",
    "int arr[5];        /* {0, 0, 0, 0, 0} */\n",
    "\n",
    "int main() {\n",
    "    int arr2[5];                         /* garbage values  */\n",
    "    int arr3[] = {1, 2, 3, 4, 5};        /* {1, 2, 3, 4, 5} */\n",
    "    int arr4[5] = {1, 2, 3};             /* {1, 2, 3, 0, 0} */\n",
    "    int arr5[5] = {};                    /* {0, 0, 0, 0, 0} */\n",
    "    \n",
    "                                         /* C99+ */\n",
    "    int arr6[] = {1, [2]=3, [4]=5};      /* {1, 0, 3, 0, 5} */\n",
    "    int arr7[5] = {1, [1]=2, [3]=4};     /* {1, 2, 0, 4, 0} */\n",
    "    return 0;\n",
    "}"
   ]
  },
  {
   "cell_type": "code",
   "execution_count": 703,
   "id": "a86ba757",
   "metadata": {},
   "outputs": [
    {
     "name": "stderr",
     "output_type": "stream",
     "text": [
      "/tmp/tmp3hsvr_ll.c:3:5: warning: array ‘arr’ assumed to have one element\n",
      "    3 | int arr[];\n",
      "      |     ^~~\n"
     ]
    }
   ],
   "source": [
    "#include <stdio.h>\n",
    "\n",
    "int arr[];\n",
    "\n",
    "int main() {\n",
    "    return 0;\n",
    "}"
   ]
  },
  {
   "cell_type": "markdown",
   "id": "e815e57b",
   "metadata": {},
   "source": [
    "*Note:* In C99+, array length may be determined during run-time."
   ]
  },
  {
   "cell_type": "markdown",
   "id": "ec177530",
   "metadata": {},
   "source": [
    "An *array element* is accessed using brackets."
   ]
  },
  {
   "cell_type": "code",
   "execution_count": 575,
   "id": "dd5c540b",
   "metadata": {},
   "outputs": [
    {
     "name": "stdout",
     "output_type": "stream",
     "text": [
      "1 2 3 4 5 "
     ]
    }
   ],
   "source": [
    "#include <stdio.h>\n",
    "\n",
    "int arr[5] = {1, 2, 3, 4, 5};\n",
    "\n",
    "int main() {\n",
    "    register unsigned char i;\n",
    "    for (i = 0; i < 5; i++) {\n",
    "        printf(\"%d \", arr[i]);\n",
    "    }\n",
    "    return 0;\n",
    "}"
   ]
  },
  {
   "cell_type": "markdown",
   "id": "4ac57731",
   "metadata": {},
   "source": [
    "The name of an array can be considered a *fixed* pointer to the first element of the array."
   ]
  },
  {
   "cell_type": "code",
   "execution_count": 401,
   "id": "1120a2b8",
   "metadata": {},
   "outputs": [
    {
     "name": "stdout",
     "output_type": "stream",
     "text": [
      "1 2 3 4 5 "
     ]
    }
   ],
   "source": [
    "#include <stdio.h>\n",
    "\n",
    "int arr[5] = {1, 2, 3, 4, 5};\n",
    "\n",
    "int main() {\n",
    "    register unsigned char i;\n",
    "    for (i = 0; i < 5; i++) {\n",
    "        printf(\"%d \", *(arr+i));      /* equivalent to arr[i] */\n",
    "    }\n",
    "    return 0;\n",
    "}"
   ]
  },
  {
   "cell_type": "markdown",
   "id": "a3801b9c",
   "metadata": {},
   "source": [
    "An array can be passed to a function in various ways."
   ]
  },
  {
   "cell_type": "code",
   "execution_count": 110,
   "id": "b036fb48",
   "metadata": {},
   "outputs": [],
   "source": [
    "int increment(int *arr, unsigned long len);   /* most (syntactically) consistent way */\n",
    "                                              /* just a pointer */\n",
    "                                              /* should be used by local variables and return types */\n",
    "\n",
    "int main() {\n",
    "    int arr[5] = {0};\n",
    "    increment(arr, 5);\n",
    "    return 0;\n",
    "}\n",
    "\n",
    "int increment(int *arr, unsigned long len) {\n",
    "    register unsigned long i;\n",
    "    for(i = 0; i < len; i++) {\n",
    "        *(arr+i) += 1;\n",
    "    }\n",
    "}"
   ]
  },
  {
   "cell_type": "code",
   "execution_count": 717,
   "id": "7ec5f861",
   "metadata": {},
   "outputs": [],
   "source": [
    "int increment(int arr[], unsigned long len);       /* most preferred */\n",
    "\n",
    "int main() {\n",
    "    int arr[5] = {0};\n",
    "    increment(arr, 5);\n",
    "    return 0;\n",
    "}\n",
    "\n",
    "int increment(int arr[], unsigned long len) {\n",
    "    register unsigned long i;\n",
    "    for(i = 0; i < len; i++) {\n",
    "        arr[i] += 1;\n",
    "    }\n",
    "}"
   ]
  },
  {
   "cell_type": "code",
   "execution_count": 745,
   "id": "0a5de812",
   "metadata": {},
   "outputs": [
    {
     "name": "stderr",
     "output_type": "stream",
     "text": [
      "/tmp/tmpy2ajkrpj.c: In function ‘main’:\n",
      "/tmp/tmpy2ajkrpj.c:6:5: warning: ‘increment’ accessing 20 bytes in a region of size 16 [-Wstringop-overflow=]\n",
      "    6 |     increment(arr);\n",
      "      |     ^~~~~~~~~~~~~~\n",
      "/tmp/tmpy2ajkrpj.c:6:5: note: referencing argument 1 of type ‘int *’\n",
      "/tmp/tmpy2ajkrpj.c:10:6: note: in a call to function ‘increment’\n",
      "   10 | void increment(int arr[5]) {\n",
      "      |      ^~~~~~~~~\n"
     ]
    }
   ],
   "source": [
    "void increment(int arr[5]);      /* least preferred */\n",
    "                                 /* but allows compiler to issue some warnings */\n",
    "\n",
    "int main() {\n",
    "    int arr[4] = {0};\n",
    "    increment(arr);\n",
    "    return 0;\n",
    "}\n",
    "\n",
    "void increment(int arr[5]) {\n",
    "    register unsigned long i;\n",
    "    for(i = 0; i < 5; i++) {\n",
    "        arr[i] += 1;\n",
    "    }\n",
    "}"
   ]
  },
  {
   "cell_type": "markdown",
   "id": "5cfcbed1",
   "metadata": {},
   "source": [
    "*Note:* When passing an array to a function, the array is never copied in memory (as in, passed by value)."
   ]
  },
  {
   "cell_type": "markdown",
   "id": "ea46371b",
   "metadata": {},
   "source": [
    "When declaring a global array that is defined in another file, it is preferred to use empty brackets."
   ]
  },
  {
   "cell_type": "code",
   "execution_count": 769,
   "id": "920a30d7",
   "metadata": {},
   "outputs": [
    {
     "name": "stdout",
     "output_type": "stream",
     "text": [
      "5"
     ]
    }
   ],
   "source": [
    "//%cflags: .jupyter/global_arr.c\n",
    "\n",
    "#include <stdio.h>\n",
    "\n",
    "extern int arr[];\n",
    "\n",
    "int main() {\n",
    "    printf(\"%d\", arr[4]);\n",
    "    return 0;\n",
    "}"
   ]
  },
  {
   "cell_type": "markdown",
   "id": "a5edb0b1",
   "metadata": {},
   "source": [
    "*Note:* Using a pointer declaration for a defined array will result in a runtime error."
   ]
  },
  {
   "cell_type": "markdown",
   "id": "91ea939c",
   "metadata": {},
   "source": [
    "A *2-dimensional* array, a multi-dimensional array, is an array of arrays."
   ]
  },
  {
   "cell_type": "code",
   "execution_count": 50,
   "id": "33515365",
   "metadata": {},
   "outputs": [
    {
     "name": "stdout",
     "output_type": "stream",
     "text": [
      "7\n",
      "7\n"
     ]
    }
   ],
   "source": [
    "#include <stdio.h>\n",
    "\n",
    "int arrA[2][3] = {1, 2, 3, 4, 5};         /* arr[1][2] initialized to zero */\n",
    "int arrB[2][3] = {{1, 2}, {4, 5}};        /* arr[0][2] and arr[1][2] initialized to zero */\n",
    "\n",
    "int arrC[][3] = {1, 2, 3, 4, 5};                 /* {{1, 2, 3}, {4, 5, 0}} */\n",
    "int arrD[][3] = {{1, 2}, {4, 5}, {7, 8}};        /* {{1, 2, 0}, {4, 5, 0}, {7, 8, 0}} */\n",
    "\n",
    "int arrE[2][3] = {[0][0] = 1};                     /* {{1, 0, 0}, {0, 0, 0}} */\n",
    "int arrF[2][3] = {{[0] = 1}};                      /* {{1, 0, 0}, {0, 0, 0}} */\n",
    "\n",
    "int main() {\n",
    "    printf(\"%d\\n\", arrD[2][0]);\n",
    "    printf(\"%d\\n\", *(*(arrD+2)+0));        /* equivalent-syntax */\n",
    "    return 0;\n",
    "}"
   ]
  },
  {
   "cell_type": "markdown",
   "id": "9acb5f14",
   "metadata": {},
   "source": [
    "*Note:* Declarations and definitions of multi-dimensional arrays must have bounds for all dimensions except the first."
   ]
  },
  {
   "cell_type": "code",
   "execution_count": 692,
   "id": "5d7866b9",
   "metadata": {},
   "outputs": [
    {
     "name": "stdout",
     "output_type": "stream",
     "text": [
      "7f94dc331030\n",
      "7f94dc331030\n",
      "7f94dc33103c\n",
      "7f94dc331034\n"
     ]
    }
   ],
   "source": [
    "#include <stdio.h>\n",
    "\n",
    "int arr[2][3] = {1, 2, 3, 4, 5, 6};\n",
    "\n",
    "int main() {\n",
    "    printf(\"%lx\\n\", (unsigned long int) arr);\n",
    "    printf(\"%lx\\n\", (unsigned long int) arr[0]);\n",
    "    \n",
    "    printf(\"%lx\\n\", (unsigned long int) (arr+1));\n",
    "    printf(\"%lx\\n\", (unsigned long int) (arr[0]+1));\n",
    "    \n",
    "    return 0;\n",
    "}"
   ]
  },
  {
   "cell_type": "markdown",
   "id": "63f559ea",
   "metadata": {},
   "source": [
    "*Note:* Since the associated data type of a multi-dimensional array is another array of a specific fixed size, adding to a multi-dimensional array (identifier) increases the (address) value by multiples of that number of bytes."
   ]
  },
  {
   "cell_type": "markdown",
   "id": "3d1ac393",
   "metadata": {},
   "source": [
    "A 2D array can be passed to a function in various ways."
   ]
  },
  {
   "cell_type": "code",
   "execution_count": 746,
   "id": "9d33561e",
   "metadata": {},
   "outputs": [],
   "source": [
    "int increment(int (*arr)[3], unsigned long len);     /* most (syntactically) consistent way */\n",
    "                                                     /* pointer to 3-sized array */\n",
    "                                                     /* should be used by local variables and return types */\n",
    "\n",
    "int main() {\n",
    "    int arr[2][3] = {0};\n",
    "    increment(arr, 2);\n",
    "    return 0;\n",
    "}\n",
    "\n",
    "int increment(int (*arr)[3], unsigned long len) {\n",
    "    register unsigned long i;\n",
    "    register unsigned long j;\n",
    "    for(i = 0; i < len; i++) {\n",
    "        for(j = 0; j < 3; j++) {\n",
    "            (*(arr+i))[j] += 1;\n",
    "        }\n",
    "    }\n",
    "}"
   ]
  },
  {
   "cell_type": "code",
   "execution_count": 729,
   "id": "05f9ffb1",
   "metadata": {},
   "outputs": [],
   "source": [
    "int increment(int arr[][3], unsigned long len);      /* most preferred way */\n",
    "\n",
    "int main() {\n",
    "    int arr[2][3] = {0};\n",
    "    increment(arr, 2, 3);\n",
    "    return 0;\n",
    "}\n",
    "\n",
    "int increment(int arr[][3], unsigned long len) {\n",
    "    register unsigned long i;\n",
    "    register unsigned long j;\n",
    "    for(i = 0; i < len_x; i++) {\n",
    "        for(j = 0; j < len_y; j++) {\n",
    "            arr[i][j] += 1;\n",
    "        }\n",
    "    }\n",
    "}"
   ]
  },
  {
   "cell_type": "code",
   "execution_count": 109,
   "id": "ecd3681d",
   "metadata": {},
   "outputs": [],
   "source": [
    "int increment(int arr[2][3]);      /* least preferred way */\n",
    "                                   /* but allows compiler to issue some warnings */ \n",
    "\n",
    "int main() {\n",
    "    int arr[2][3] = {0};\n",
    "    increment(arr);\n",
    "    return 0;\n",
    "}\n",
    "\n",
    "int increment(int arr[2][3]) {\n",
    "    register unsigned long i;\n",
    "    register unsigned long j;\n",
    "    for(i = 0; i < 2; i++) {\n",
    "        for(j = 0; j < 3; j++) {\n",
    "            arr[i][j] += 1;\n",
    "        }\n",
    "    }\n",
    "}"
   ]
  },
  {
   "cell_type": "markdown",
   "id": "e032884c",
   "metadata": {},
   "source": [
    "To get the first bound of an array, a playful trick may be employed."
   ]
  },
  {
   "cell_type": "code",
   "execution_count": 102,
   "id": "a3bed11c",
   "metadata": {},
   "outputs": [
    {
     "name": "stdout",
     "output_type": "stream",
     "text": [
      "Length: 9"
     ]
    }
   ],
   "source": [
    "#include <stdio.h>\n",
    "\n",
    "int arr[] = {1, 2, 3, 4, 5, 6, 7, 8, 9};\n",
    "\n",
    "            /* &arr yields a (*int[9]) pointer with same address as arr */\n",
    "            /* adding one to it, increments by the size of the associated data type */\n",
    "            /* in this case, a 9-sized array. Dereferencing then returns a (*int) pointer */\n",
    "            /* subtracting 'arr', which is (*int), yields the size of the array, at last. */\n",
    "\n",
    "int main() {\n",
    "    printf(\"Length: %lu\", *(&arr+1) - arr);\n",
    "    return 0;\n",
    "}"
   ]
  },
  {
   "cell_type": "code",
   "execution_count": 103,
   "id": "7abbb476",
   "metadata": {},
   "outputs": [
    {
     "name": "stdout",
     "output_type": "stream",
     "text": [
      "Length: 3"
     ]
    }
   ],
   "source": [
    "#include <stdio.h>\n",
    "\n",
    "int arr[][3] = {1, 2, 3, 4, 5, 6, 7, 8, 9};\n",
    "\n",
    "int main() {\n",
    "    printf(\"Length: %lu\", *(&arr+1) - arr);\n",
    "    return 0;\n",
    "}"
   ]
  },
  {
   "cell_type": "markdown",
   "id": "eab09cb2",
   "metadata": {},
   "source": [
    "*Note:* This trick only works if the fixed reference of the array is used, and not a passed reference (address)."
   ]
  },
  {
   "cell_type": "markdown",
   "id": "747f941d",
   "metadata": {},
   "source": [
    "## Structures and Unions <a class=\"anchor\" id=\"structures-and-unions\"></a>"
   ]
  },
  {
   "cell_type": "markdown",
   "id": "c04245bf",
   "metadata": {},
   "source": [
    "### Structures <a class=\"anchor\" id=\"structures\"></a>"
   ]
  },
  {
   "cell_type": "markdown",
   "id": "f6ab9925",
   "metadata": {},
   "source": [
    "The `struct` keyword is used to define a *structure* outline. It may be defined in global or local scope. It does not allocate any memory."
   ]
  },
  {
   "cell_type": "code",
   "execution_count": null,
   "id": "e691f3f4",
   "metadata": {},
   "outputs": [],
   "source": [
    "struct student {\n",
    "    unsigned long long id;\n",
    "    unsigned char name[30];\n",
    "    float gpa;\n",
    "};"
   ]
  },
  {
   "cell_type": "markdown",
   "id": "70463139",
   "metadata": {},
   "source": [
    "You can define a variable with a structure data type by using the `struct` keyword. A structure data type may be initialized in the same way as an array. The `.` operator is used to access structure members."
   ]
  },
  {
   "cell_type": "code",
   "execution_count": 115,
   "id": "596e0f08",
   "metadata": {},
   "outputs": [
    {
     "name": "stdout",
     "output_type": "stream",
     "text": [
      "Hazem"
     ]
    }
   ],
   "source": [
    "#include <stdio.h>\n",
    "\n",
    "struct student {\n",
    "    unsigned long long id;\n",
    "    unsigned char name[30];\n",
    "    float gpa;\n",
    "};\n",
    "                   /* structure members initialized  */\n",
    "int main() {\n",
    "    struct student hazem = {12345678u, {'H', 'a', 'z', 'e', 'm', '\\0'}, 0.98f};\n",
    "    printf(\"%s\", hazem.name);\n",
    "    return 0;\n",
    "}"
   ]
  },
  {
   "cell_type": "code",
   "execution_count": 127,
   "id": "64cc9658",
   "metadata": {},
   "outputs": [
    {
     "name": "stdout",
     "output_type": "stream",
     "text": [
      "12345678\n",
      "0.000000"
     ]
    }
   ],
   "source": [
    "#include <stdio.h>\n",
    "\n",
    "struct student {\n",
    "    unsigned long long id;\n",
    "    unsigned char name[30];\n",
    "    float gpa;\n",
    "};\n",
    "                /* some structure members initialized, rest zero-ed */\n",
    "int main() {\n",
    "    struct student hazem = {12345678u};\n",
    "    printf(\"%llu\\n\", hazem.id);\n",
    "    printf(\"%f\", hazem.gpa);\n",
    "    return 0;\n",
    "}"
   ]
  },
  {
   "cell_type": "code",
   "execution_count": 128,
   "id": "977b9688",
   "metadata": {},
   "outputs": [
    {
     "name": "stdout",
     "output_type": "stream",
     "text": [
      "0\n",
      "0.000000"
     ]
    }
   ],
   "source": [
    "#include <stdio.h>\n",
    "\n",
    "struct student {\n",
    "    unsigned long long id;\n",
    "    unsigned char name[30];\n",
    "    float gpa;\n",
    "};\n",
    "                /* zero initialization of local structure */\n",
    "int main() {\n",
    "    struct student hazem = {};\n",
    "    printf(\"%llu\\n\", hazem.id);\n",
    "    printf(\"%f\", hazem.gpa);\n",
    "    return 0;\n",
    "}"
   ]
  },
  {
   "cell_type": "code",
   "execution_count": 131,
   "id": "82debf35",
   "metadata": {},
   "outputs": [
    {
     "name": "stdout",
     "output_type": "stream",
     "text": [
      "0\n",
      "0.980000"
     ]
    }
   ],
   "source": [
    "#include <stdio.h>\n",
    "\n",
    "struct student {\n",
    "    unsigned long long id;\n",
    "    unsigned char name[30];\n",
    "    float gpa;\n",
    "};\n",
    "                              /* feature in C99+ */\n",
    "int main() {\n",
    "    struct student hazem = {.gpa = 0.98f};\n",
    "    printf(\"%llu\\n\", hazem.id);\n",
    "    printf(\"%f\", hazem.gpa);\n",
    "    return 0;\n",
    "}"
   ]
  },
  {
   "cell_type": "markdown",
   "id": "4a7c885b",
   "metadata": {},
   "source": [
    "In C99+, it is permitted to define a *flexible* array member at the end of a structure with at least one more member."
   ]
  },
  {
   "cell_type": "code",
   "execution_count": null,
   "id": "88c16f06",
   "metadata": {},
   "outputs": [],
   "source": [
    "struct student {\n",
    "    unsigned long long id;\n",
    "    float gpa;\n",
    "    unsigned char name[];\n",
    "};"
   ]
  },
  {
   "cell_type": "markdown",
   "id": "a0b8ec65",
   "metadata": {},
   "source": [
    "*Note:* When statically allocated, the flexible array of a structure is always of zero length and cannot be initialized. It has use only in dynamic memory allocation, discussed later."
   ]
  },
  {
   "cell_type": "markdown",
   "id": "958d4790",
   "metadata": {},
   "source": [
    "You can define a variable with a structure data type while defining the structure outline. If the structure template is of one-time use, then it need not be given a name (in C11+)."
   ]
  },
  {
   "cell_type": "code",
   "execution_count": 162,
   "id": "448264af",
   "metadata": {},
   "outputs": [
    {
     "name": "stdout",
     "output_type": "stream",
     "text": [
      "123\n",
      "0.000000\n"
     ]
    }
   ],
   "source": [
    "#include <stdio.h>\n",
    "\n",
    "struct {\n",
    "    unsigned long long id;\n",
    "    unsigned char name[30];\n",
    "    float gpa;\n",
    "} hazem = {123u};\n",
    "\n",
    "int main() {\n",
    "    printf(\"%llu\\n\", hazem.id);\n",
    "    printf(\"%f\\n\", hazem.gpa);\n",
    "    return 0;\n",
    "}"
   ]
  },
  {
   "cell_type": "markdown",
   "id": "66c73a81",
   "metadata": {},
   "source": [
    "A pointer variable with an associated structure data type may use the `->` operator to directly access members, without dereferencing."
   ]
  },
  {
   "cell_type": "code",
   "execution_count": 166,
   "id": "b270346d",
   "metadata": {},
   "outputs": [
    {
     "name": "stdout",
     "output_type": "stream",
     "text": [
      "12345678\n",
      "0.980000\n"
     ]
    }
   ],
   "source": [
    "#include <stdio.h>\n",
    "\n",
    "struct student {\n",
    "    unsigned long long id;\n",
    "    unsigned char name[30];\n",
    "    float gpa;\n",
    "} hazem = {12345678u, .gpa=0.98};\n",
    "\n",
    "int main() {\n",
    "    struct student *ptr = &hazem;\n",
    "    printf(\"%llu\\n\", ptr->id);\n",
    "    printf(\"%f\\n\", (*ptr).gpa);     /* equivalent */\n",
    "    return 0;\n",
    "}"
   ]
  },
  {
   "cell_type": "markdown",
   "id": "933695fb",
   "metadata": {},
   "source": [
    "A *bit field* member of a structure allocates a number of bits of memory to itself. Consecutive bitfield members pack themselves in as low a number of bytes as possible."
   ]
  },
  {
   "cell_type": "code",
   "execution_count": 176,
   "id": "2b2b64df",
   "metadata": {},
   "outputs": [
    {
     "name": "stdout",
     "output_type": "stream",
     "text": [
      "2\n"
     ]
    }
   ],
   "source": [
    "#include <stdio.h>\n",
    "\n",
    "struct REG {               /* consumes a single byte in memory */\n",
    "    unsigned int Pin0: 1;\n",
    "    unsigned int Pin1: 1;\n",
    "    unsigned int Pin2: 1;\n",
    "    unsigned int Pin3: 1;\n",
    "    unsigned int Pin4: 1;\n",
    "    unsigned int Pin5: 1;\n",
    "    unsigned int Pin6: 1;\n",
    "    unsigned int Pin7: 1;\n",
    "};\n",
    "\n",
    "int main() {\n",
    "    unsigned char x = 0;\n",
    "    struct REG *ptr = (struct REG *) &x;\n",
    "    ptr->Pin1 = 1;\n",
    "    printf(\"%u\\n\", x);\n",
    "    return 0;\n",
    "}"
   ]
  },
  {
   "cell_type": "markdown",
   "id": "a87704cd",
   "metadata": {},
   "source": [
    "*Note:* Because the layout of bit-fields are compiler-dependent, they are seldom employed."
   ]
  },
  {
   "cell_type": "markdown",
   "id": "a0c269c1",
   "metadata": {},
   "source": [
    "Because most compilers pad consecutive structure members to enable faster access at the expense of increased memory usage, it is recommended to write structure members in the order of decreasing data type size."
   ]
  },
  {
   "cell_type": "code",
   "execution_count": null,
   "id": "3d6555fa",
   "metadata": {},
   "outputs": [],
   "source": [
    "struct student {\n",
    "    unsigned char name[8];\n",
    "    unsigned long long id;\n",
    "    float gpa;\n",
    "};"
   ]
  },
  {
   "cell_type": "markdown",
   "id": "feb7a96c",
   "metadata": {},
   "source": [
    "You may copy a structure data type through direct assignment."
   ]
  },
  {
   "cell_type": "code",
   "execution_count": null,
   "id": "10287cc0",
   "metadata": {},
   "outputs": [],
   "source": [
    "struct student A = {...};\n",
    "struct student B = A;         /* B is a deep-copy of A */"
   ]
  },
  {
   "cell_type": "markdown",
   "id": "3c90933d",
   "metadata": {},
   "source": [
    "A simple forward declaration of a structure data type, consisting of just the name of the structure with no body, allows using the structure data type in situations that do not require knowledge of the size of the structure or its attributes."
   ]
  },
  {
   "cell_type": "code",
   "execution_count": 6,
   "id": "8a47748d",
   "metadata": {},
   "outputs": [],
   "source": [
    "struct school;\n",
    "\n",
    "struct student {\n",
    "    char name[128];\n",
    "    struct school *own_school;\n",
    "};\n",
    "\n",
    "struct school {\n",
    "    struct student *students;\n",
    "    int count;\n",
    "};"
   ]
  },
  {
   "cell_type": "markdown",
   "id": "083f6a4d",
   "metadata": {},
   "source": [
    "### Unions <a class=\"anchor\" id=\"unions\"></a>"
   ]
  },
  {
   "cell_type": "markdown",
   "id": "1efad757",
   "metadata": {},
   "source": [
    "A *union* is similar to a structure in syntax and use, except members overlap each other in memory. The size of a union is the size of its largest member."
   ]
  },
  {
   "cell_type": "code",
   "execution_count": 188,
   "id": "78549526",
   "metadata": {},
   "outputs": [
    {
     "name": "stdout",
     "output_type": "stream",
     "text": [
      "8"
     ]
    }
   ],
   "source": [
    "#include <stdio.h>\n",
    "\n",
    "union number {\n",
    "    int integer;\n",
    "    float floating;\n",
    "} num = {8};\n",
    "\n",
    "int main() {\n",
    "    printf(\"%d\", num.integer);\n",
    "    return 0;\n",
    "}"
   ]
  },
  {
   "cell_type": "code",
   "execution_count": 189,
   "id": "af721b6c",
   "metadata": {},
   "outputs": [
    {
     "name": "stdout",
     "output_type": "stream",
     "text": [
      "0.879000"
     ]
    }
   ],
   "source": [
    "#include <stdio.h>\n",
    "\n",
    "union number {\n",
    "    int integer;\n",
    "    float floating;\n",
    "} num = {.floating = 0.879};           /* C99+ */\n",
    "\n",
    "int main() {\n",
    "    printf(\"%f\", num.floating);\n",
    "    return 0;\n",
    "}"
   ]
  },
  {
   "cell_type": "markdown",
   "id": "ae1e44cf",
   "metadata": {},
   "source": [
    "## Enumerations <a class=\"anchor\" id=\"enumerations\"></a>"
   ]
  },
  {
   "cell_type": "markdown",
   "id": "12b7bd85",
   "metadata": {},
   "source": [
    "An *enumeration* is defined using the `enum` keyword. It gives constants identifiers for ease of use by programmers. It may be defined in local or global scope."
   ]
  },
  {
   "cell_type": "code",
   "execution_count": null,
   "id": "516c27b8",
   "metadata": {},
   "outputs": [],
   "source": [
    "enum Days {Sun, Mon, Tues, Wed, Thrus, Fri, Sat};     /* 0, 1, 2, 3, 4, 5, 6 */"
   ]
  },
  {
   "cell_type": "code",
   "execution_count": null,
   "id": "cee260ac",
   "metadata": {
    "scrolled": true
   },
   "outputs": [],
   "source": [
    "enum Days {Sun=-2, Mon, Tues, Wed, Thrus=5, Fri, Sat};     /* -2, -1, 0, 1, 5, 6, 7 */"
   ]
  },
  {
   "cell_type": "markdown",
   "id": "1cc3ca44",
   "metadata": {},
   "source": [
    "You can define an enumeration data type also using the `enum` keyword. The enumeration also need not be given a name (in C11+)."
   ]
  },
  {
   "cell_type": "code",
   "execution_count": null,
   "id": "678674e1",
   "metadata": {},
   "outputs": [],
   "source": [
    "enum {Sun=-2, Mon, Tues, Wed, Thrus=5, Fri, Sat} day;"
   ]
  },
  {
   "cell_type": "markdown",
   "id": "bb827367",
   "metadata": {},
   "source": [
    "*Note:* An enumeration data type is internally a `signed int` data type."
   ]
  },
  {
   "cell_type": "markdown",
   "id": "bfe8fde9",
   "metadata": {},
   "source": [
    "Enumeration constants are used directly, through their identifiers, hence identifiers of enumeration constants may not match within the same scope."
   ]
  },
  {
   "cell_type": "code",
   "execution_count": 210,
   "id": "175c2e96",
   "metadata": {
    "scrolled": true
   },
   "outputs": [
    {
     "name": "stderr",
     "output_type": "stream",
     "text": [
      "/tmp/tmppmky3pj6.c:2:18: error: redeclaration of enumerator ‘Sun’\n",
      "    2 | enum Just_a_Day {Sun};\n",
      "      |                  ^~~\n",
      "/tmp/tmppmky3pj6.c:1:18: note: previous definition of ‘Sun’ with type ‘enum Single_Day’\n",
      "    1 | enum Single_Day {Sun};\n",
      "      |                  ^~~\n",
      "[C kernel] GCC exited with code 1, the executable will not be executed"
     ]
    }
   ],
   "source": [
    "enum Single_Day {Sun};\n",
    "enum Just_a_Day {Sun};\n",
    "\n",
    "int main() {\n",
    "    return 0;\n",
    "}"
   ]
  },
  {
   "cell_type": "markdown",
   "id": "6481c84d",
   "metadata": {},
   "source": [
    "## Additional Core Features <a class=\"anchor\" id=\"additional-core-features\"></a>"
   ]
  },
  {
   "cell_type": "markdown",
   "id": "4ae05fa7",
   "metadata": {},
   "source": [
    "### The `volatile` keyword <a class=\"anchor\" id=\"the-volatile-keyword\"></a>"
   ]
  },
  {
   "cell_type": "markdown",
   "id": "f9aaed58",
   "metadata": {},
   "source": [
    "The `volatile` qualifier may be used in variable declarations and definitions, and castings. It tells the compiler that the value at a particular memory location may change without any action being taken by the code the compiler finds nearby. The compiler will then not apply optimization techniques while reading from and writing to this memory location. Practical examples of such memory locations include:"
   ]
  },
  {
   "cell_type": "markdown",
   "id": "e2080b5c",
   "metadata": {},
   "source": [
    "* Global variables in multi-threaded applications.\n",
    "* Global variables in *Interrupt Service Routines* (ISRs).\n",
    "* Memory-mapped peripheral registers."
   ]
  },
  {
   "cell_type": "code",
   "execution_count": null,
   "id": "b7405de7",
   "metadata": {},
   "outputs": [],
   "source": [
    "volatile int x;         /* volatile variable 'x' */\n",
    "int volatile x;         /* equivalent */"
   ]
  },
  {
   "cell_type": "code",
   "execution_count": null,
   "id": "128d4663",
   "metadata": {},
   "outputs": [],
   "source": [
    "volatile int *x;                 /* non-volatile pointer, volatile memory */\n",
    "int * volatile x;                /* volatile pointer, non-volatile memory */\n",
    "volatile int * volatile x;       /* volatile pointer, volatile memory */"
   ]
  },
  {
   "cell_type": "code",
   "execution_count": null,
   "id": "80928fc7",
   "metadata": {},
   "outputs": [],
   "source": [
    "*((volatile unsigned char *) 0x12345678) |= 0b00000001;     /* bit mask applied to a memory-mapped */ \n",
    "                                                            /* register with a '0x12345678' address */"
   ]
  },
  {
   "cell_type": "code",
   "execution_count": 213,
   "id": "89ad860c",
   "metadata": {},
   "outputs": [],
   "source": [
    "volatile int x[10];              /* array of volatile memory */\n",
    "volatile int *x[10];             /* array of non-volatile pointers, pointing to volatile memory */\n",
    "int * volatile x[10];            /* array of volatile pointers, pointing to non-volatile memory */"
   ]
  },
  {
   "cell_type": "markdown",
   "id": "30087b6a",
   "metadata": {},
   "source": [
    "When passing volatile variables to functions using pointers, the pointer variable must point to volatile memory. Otherwise, the compiler issues a warning."
   ]
  },
  {
   "cell_type": "code",
   "execution_count": 225,
   "id": "eb2d3933",
   "metadata": {},
   "outputs": [
    {
     "name": "stderr",
     "output_type": "stream",
     "text": [
      "/tmp/tmp364m7j7k.c: In function ‘main’:\n",
      "/tmp/tmp364m7j7k.c:7:15: warning: passing argument 1 of ‘increment’ discards ‘volatile’ qualifier from pointer target type [-Wdiscarded-qualifiers]\n",
      "    7 |     increment(x);\n",
      "      |               ^\n",
      "/tmp/tmp364m7j7k.c:1:21: note: expected ‘int *’ but argument is of type ‘volatile int *’\n",
      "    1 | void increment(int *x) {\n",
      "      |                ~~~~~^\n"
     ]
    }
   ],
   "source": [
    "void increment(int *x) {\n",
    "    (*x)++;\n",
    "}\n",
    "\n",
    "int main() {\n",
    "    volatile int x[5] = {0};\n",
    "    increment(x);\n",
    "    return 0;\n",
    "}"
   ]
  },
  {
   "cell_type": "markdown",
   "id": "95b980ba",
   "metadata": {},
   "source": [
    "*Note:* Adding to or subtracting from, for example, `volatile int *` returns `volatile int *` again."
   ]
  },
  {
   "cell_type": "markdown",
   "id": "5d84e75c",
   "metadata": {},
   "source": [
    "### The `const` keyword  <a class=\"anchor\" id=\"the-const-keyword\"></a>"
   ]
  },
  {
   "cell_type": "markdown",
   "id": "fbe1f6d8",
   "metadata": {},
   "source": [
    "The `const` qualifier is used to define *constant* local and global variables. Constant variables may be initialized only, and cannot be *directly* assigned to."
   ]
  },
  {
   "cell_type": "code",
   "execution_count": 232,
   "id": "287beca0",
   "metadata": {},
   "outputs": [],
   "source": [
    "const int y = 6;\n",
    "\n",
    "int main() {\n",
    "    const int x = 5;\n",
    "    return 0;\n",
    "}"
   ]
  },
  {
   "cell_type": "markdown",
   "id": "58ab84df",
   "metadata": {},
   "source": [
    "*Note:* `const` global variables are `static` by default."
   ]
  },
  {
   "cell_type": "markdown",
   "id": "0659498a",
   "metadata": {},
   "source": [
    "Using *direct access* to assign a value to a `const` variable, the compiler throws an error."
   ]
  },
  {
   "cell_type": "code",
   "execution_count": 233,
   "id": "32cff53b",
   "metadata": {},
   "outputs": [
    {
     "name": "stderr",
     "output_type": "stream",
     "text": [
      "/tmp/tmp07fxig31.c: In function ‘main’:\n",
      "/tmp/tmp07fxig31.c:4:7: error: assignment of read-only variable ‘y’\n",
      "    4 |     y = 7;\n",
      "      |       ^\n",
      "[C kernel] GCC exited with code 1, the executable will not be executed"
     ]
    }
   ],
   "source": [
    "const int y = 6;          /* constant global variable */\n",
    "\n",
    "int main() {\n",
    "    y = 7;\n",
    "    return 0;\n",
    "}"
   ]
  },
  {
   "cell_type": "code",
   "execution_count": 234,
   "id": "d2997c30",
   "metadata": {},
   "outputs": [
    {
     "name": "stderr",
     "output_type": "stream",
     "text": [
      "/tmp/tmphw1wfugp.c: In function ‘main’:\n",
      "/tmp/tmphw1wfugp.c:3:7: error: assignment of read-only variable ‘x’\n",
      "    3 |     x = 6;\n",
      "      |       ^\n",
      "[C kernel] GCC exited with code 1, the executable will not be executed"
     ]
    }
   ],
   "source": [
    "int main() {             /* constant local variable */\n",
    "    const int x = 5;\n",
    "    x = 6;\n",
    "    return 0;\n",
    "}"
   ]
  },
  {
   "cell_type": "markdown",
   "id": "89aadb58",
   "metadata": {},
   "source": [
    "Using *indirect access* to assign a value to a `const` variable, local variables are assigned successfully, while global variables result in a runtime segmentation error. This is because constant local variables are stored on the *stack*, just like non-constant local variables, while constant global variables are stored in read-only memory, unlike non-constant global variables which are stored in the `.data` and `.bss` sections."
   ]
  },
  {
   "cell_type": "code",
   "execution_count": 241,
   "id": "87ee059f",
   "metadata": {},
   "outputs": [
    {
     "name": "stderr",
     "output_type": "stream",
     "text": [
      "[C kernel] Executable exited with code -11"
     ]
    }
   ],
   "source": [
    "const int y = 6;          /* constant global variable */\n",
    "\n",
    "int main() {\n",
    "    int *ptr = (int *) &y;\n",
    "    *ptr = 7;\n",
    "    return 0;\n",
    "}"
   ]
  },
  {
   "cell_type": "code",
   "execution_count": 244,
   "id": "f762b575",
   "metadata": {
    "scrolled": true
   },
   "outputs": [
    {
     "name": "stdout",
     "output_type": "stream",
     "text": [
      "6"
     ]
    }
   ],
   "source": [
    "#include <stdio.h>\n",
    "\n",
    "int main() {             /* constant local variable */\n",
    "    const int x = 5;\n",
    "    int *ptr = (int *) &x;\n",
    "    *ptr = 6;\n",
    "    printf(\"%d\", x);\n",
    "    return 0;\n",
    "}"
   ]
  },
  {
   "cell_type": "markdown",
   "id": "ce460f92",
   "metadata": {},
   "source": [
    "Constant variables may be of various data types."
   ]
  },
  {
   "cell_type": "code",
   "execution_count": null,
   "id": "e4504bdc",
   "metadata": {},
   "outputs": [],
   "source": [
    "const int x;         /* const variable 'x' */\n",
    "int const x;         /* equivalent */"
   ]
  },
  {
   "cell_type": "code",
   "execution_count": null,
   "id": "cfd17efc",
   "metadata": {},
   "outputs": [],
   "source": [
    "const int *x;                 /* non-const pointer, const memory */\n",
    "int * const x;                /* const pointer, non-const memory */\n",
    "const int * const x;          /* const pointer, const memory */"
   ]
  },
  {
   "cell_type": "code",
   "execution_count": 213,
   "id": "cdec69fc",
   "metadata": {},
   "outputs": [],
   "source": [
    "const int x[10];              /* array of const memory */\n",
    "const int *x[10];             /* array of non-const pointers, pointing to const memory */\n",
    "int * const x[10];            /* array of const pointers, pointing to non-const memory */"
   ]
  },
  {
   "cell_type": "markdown",
   "id": "f7603560",
   "metadata": {},
   "source": [
    "*Note:* Dereferencing, for example, `const int` variable yields `const int *` type."
   ]
  },
  {
   "cell_type": "markdown",
   "id": "2d4ebee1",
   "metadata": {},
   "source": [
    "*Note:* If implicity casting, for example, `const int *` into `int *`, compiler issues a warning."
   ]
  },
  {
   "cell_type": "markdown",
   "id": "ab72ce8c",
   "metadata": {},
   "source": [
    "When dealing with a constant variable of a structure data type, the address in a pointer attribute is maintained constant, and not the data at the address."
   ]
  },
  {
   "cell_type": "code",
   "execution_count": null,
   "id": "d19bb19a",
   "metadata": {},
   "outputs": [],
   "source": [
    "struct Foo {\n",
    "    int *ptr;\n",
    "};\n",
    "\n",
    "const struct Foo foo;\n",
    "\n",
    "foo.ptr = NULL;               /* Illegal. */\n",
    "*foo.ptr = 1;                 /* Legal. */"
   ]
  },
  {
   "cell_type": "markdown",
   "id": "b875807b",
   "metadata": {},
   "source": [
    "### String Literals <a class=\"anchor\" id=\"string-literals\"></a>"
   ]
  },
  {
   "cell_type": "markdown",
   "id": "0f8fd0fb",
   "metadata": {},
   "source": [
    "A *string* in C is simply an array of `char` integer data type, `signed` or `unsigned`, with each element denoting an ASCII code. It must be terminated with a *null character*, `'\\0'`. The terminating null character need not be at the end of the array."
   ]
  },
  {
   "cell_type": "code",
   "execution_count": 7,
   "id": "b433a4cc",
   "metadata": {},
   "outputs": [
    {
     "name": "stdout",
     "output_type": "stream",
     "text": [
      "Hi!"
     ]
    }
   ],
   "source": [
    "#include <stdio.h>\n",
    "\n",
    "int main() {\n",
    "    char x[5] = {'H', 'i', '!', '\\0'};\n",
    "    printf(\"%s\", x);\n",
    "    return 0;\n",
    "}"
   ]
  },
  {
   "cell_type": "markdown",
   "id": "c6aee118",
   "metadata": {},
   "source": [
    "A *string literal* in C is stored in read-only memory. Hence, unlike most other types of literals, where they are stored directly in operands of assembly instructions, a string literal evaluates to a `char *` type."
   ]
  },
  {
   "cell_type": "code",
   "execution_count": 266,
   "id": "873d1a24",
   "metadata": {},
   "outputs": [
    {
     "name": "stdout",
     "output_type": "stream",
     "text": [
      "Hi!"
     ]
    }
   ],
   "source": [
    "#include <stdio.h>\n",
    "\n",
    "int main() {\n",
    "    char *x = \"Hi!\";             /* {'H', 'i', '!', '\\0'} */\n",
    "    printf(\"%s\", x);\n",
    "    return 0;\n",
    "}"
   ]
  },
  {
   "cell_type": "markdown",
   "id": "4b0ee6d0",
   "metadata": {},
   "source": [
    "Attempting to overwrite a string literal will result in a runtime segmentation error, as expected."
   ]
  },
  {
   "cell_type": "code",
   "execution_count": 402,
   "id": "143172ad",
   "metadata": {},
   "outputs": [
    {
     "name": "stderr",
     "output_type": "stream",
     "text": [
      "[C kernel] Executable exited with code -11"
     ]
    }
   ],
   "source": [
    "#include <stdio.h>\n",
    "\n",
    "int main() {\n",
    "    char *x = \"Hi!\";\n",
    "    x[0] = 'h';\n",
    "    printf(\"%s\", x);\n",
    "    return 0;\n",
    "}"
   ]
  },
  {
   "cell_type": "markdown",
   "id": "f0f3ea29",
   "metadata": {},
   "source": [
    "A string literal may be used to initialize a string (an array of `char` type)."
   ]
  },
  {
   "cell_type": "code",
   "execution_count": 270,
   "id": "8497e8ca",
   "metadata": {},
   "outputs": [
    {
     "name": "stdout",
     "output_type": "stream",
     "text": [
      "hi!"
     ]
    }
   ],
   "source": [
    "#include <stdio.h>\n",
    "\n",
    "int main() {\n",
    "    char x[] = \"Hi!\";\n",
    "    x[0] = 'h';\n",
    "    printf(\"%s\", x);\n",
    "    return 0;\n",
    "}"
   ]
  },
  {
   "cell_type": "markdown",
   "id": "745f5df7",
   "metadata": {},
   "source": [
    "String literals may be concatenated by placing them consecutively, one next to the other."
   ]
  },
  {
   "cell_type": "code",
   "execution_count": 348,
   "id": "a1bad192",
   "metadata": {},
   "outputs": [
    {
     "name": "stdout",
     "output_type": "stream",
     "text": [
      "Hi! How're you? Been a while."
     ]
    }
   ],
   "source": [
    "#include <stdio.h>\n",
    "\n",
    "int main() {\n",
    "    char *x = \"Hi!\" \" \" \"How're you?\" \" \" \"Been a while.\";\n",
    "    printf(\"%s\", x);\n",
    "    return 0;\n",
    "}"
   ]
  },
  {
   "cell_type": "markdown",
   "id": "1f5fd955",
   "metadata": {},
   "source": [
    "A *multi-line* string literal is possible in C."
   ]
  },
  {
   "cell_type": "code",
   "execution_count": 352,
   "id": "9a37e0dd",
   "metadata": {},
   "outputs": [
    {
     "name": "stdout",
     "output_type": "stream",
     "text": [
      "Hi! How're You? Been a while."
     ]
    }
   ],
   "source": [
    "#include <stdio.h>\n",
    "\n",
    "int main() {\n",
    "    char *x = \"Hi! \\\n",
    "How're You? \\\n",
    "Been a while.\";\n",
    "\n",
    "    printf(\"%s\", x);\n",
    "    return 0;\n",
    "}"
   ]
  },
  {
   "cell_type": "markdown",
   "id": "be052243",
   "metadata": {},
   "source": [
    "### The comma operator <a class=\"anchor\" id=\"the-comma-operator\"></a>"
   ]
  },
  {
   "cell_type": "markdown",
   "id": "a0a6638b",
   "metadata": {},
   "source": [
    "The comma operator, `,`, may be used to execute multiple expressions, but only yielding the right-most expression in an evaluation. It has the lowest precedence, left-to-right associativity, and always evaluates the left operand first (order of evaluation)."
   ]
  },
  {
   "cell_type": "code",
   "execution_count": 501,
   "id": "985d0412",
   "metadata": {},
   "outputs": [
    {
     "name": "stdout",
     "output_type": "stream",
     "text": [
      "10"
     ]
    }
   ],
   "source": [
    "#include <stdio.h>\n",
    "\n",
    "int main() {\n",
    "    int tmp = 8;\n",
    "    int x, y = tmp = 10, z;     /* multiple definitions in a single statement */\n",
    "                                /* x = garbage, tmp = 10, y = tmp (10), z = garbage */\n",
    "    printf(\"%d\", y);\n",
    "    return 0;\n",
    "}"
   ]
  },
  {
   "cell_type": "code",
   "execution_count": 274,
   "id": "c3131a5a",
   "metadata": {},
   "outputs": [
    {
     "name": "stdout",
     "output_type": "stream",
     "text": [
      "If."
     ]
    }
   ],
   "source": [
    "#include <stdio.h>\n",
    "\n",
    "int main() {\n",
    "    if (0, 1) {\n",
    "        printf(\"If.\");\n",
    "    } else {\n",
    "        printf(\"Else.\");\n",
    "    }\n",
    "    return 0;\n",
    "}"
   ]
  },
  {
   "cell_type": "code",
   "execution_count": 275,
   "id": "c4518304",
   "metadata": {},
   "outputs": [
    {
     "name": "stdout",
     "output_type": "stream",
     "text": [
      "1 X 3 = 3\n",
      "2 X 2 = 4\n",
      "3 X 1 = 3\n"
     ]
    }
   ],
   "source": [
    "#include <stdio.h>\n",
    "\n",
    "int main() {\n",
    "    int i, j;\n",
    "    for (i = 1, j = 3; i <= 3; i++, j--) {\n",
    "        printf(\"%d X %d = %d\\n\", i, j, i*j);\n",
    "    }\n",
    "    return 0;\n",
    "}"
   ]
  },
  {
   "cell_type": "markdown",
   "id": "f37d73be",
   "metadata": {},
   "source": [
    "### The `sizeof` operator <a class=\"anchor\" id=\"the-sizeof-operator\"></a>"
   ]
  },
  {
   "cell_type": "markdown",
   "id": "59b0548c",
   "metadata": {},
   "source": [
    "The `sizeof` operator returns the number of bytes needed to store a specific data type in memory, inclusive of required padding for data alignment, if any. It returns `size_t`, which is an alias for an unsigned integer data type, implicitly defined by the compiler and guranteed to withstand the largest number of bytes of a data type the target architecture can handle."
   ]
  },
  {
   "cell_type": "code",
   "execution_count": 8,
   "id": "a3f35bb6",
   "metadata": {},
   "outputs": [
    {
     "name": "stdout",
     "output_type": "stream",
     "text": [
      "8"
     ]
    }
   ],
   "source": [
    "#include <stdio.h>\n",
    "                           /* this compiler (GCC, 64-bit Ubuntu) defines size_t to be 'unsigned long' */\n",
    "int main() {\n",
    "    printf(\"%zu\", sizeof(size_t));\n",
    "    return 0;\n",
    "}"
   ]
  },
  {
   "cell_type": "code",
   "execution_count": 582,
   "id": "31f29589",
   "metadata": {},
   "outputs": [
    {
     "name": "stdout",
     "output_type": "stream",
     "text": [
      "Integer: 11\n",
      "Integer: 4\n",
      "Long Double: 16\n",
      "Pointer: 8\n",
      "struct student: 24\n"
     ]
    }
   ],
   "source": [
    "#include <stdio.h>\n",
    "\n",
    "struct student {\n",
    "    char name[8];\n",
    "    unsigned long long id;\n",
    "    double gpa;\n",
    "};\n",
    "\n",
    "int main() {\n",
    "    printf(\"Integer: %lu\\n\", sizeof(int));\n",
    "    printf(\"Long Double: %lu\\n\", sizeof(long double));\n",
    "    printf(\"Pointer: %lu\\n\", sizeof(char *));\n",
    "    printf(\"struct student: %lu\\n\", sizeof(struct student));\n",
    "    return 0;\n",
    "}"
   ]
  },
  {
   "cell_type": "code",
   "execution_count": 587,
   "id": "429b9434",
   "metadata": {},
   "outputs": [
    {
     "name": "stdout",
     "output_type": "stream",
     "text": [
      "8\n",
      "18\n",
      "18\n"
     ]
    }
   ],
   "source": [
    "#include <stdio.h>\n",
    "\n",
    "int main() {\n",
    "    char *str = \"What's your name?\";\n",
    "    char str2[] = \"What's your name?\";\n",
    "    printf(\"%lu\\n\", sizeof(str));\n",
    "    printf(\"%lu\\n\", sizeof(str2));\n",
    "    printf(\"%lu\\n\", sizeof(\"What's your name?\"));\n",
    "    return 0;\n",
    "}"
   ]
  },
  {
   "cell_type": "markdown",
   "id": "9221ae9e",
   "metadata": {},
   "source": [
    "Any expression inside the parenthesis of the `sizeof` operator is not executed. Instead, the data type the expression evaluates to is determined without execution."
   ]
  },
  {
   "cell_type": "code",
   "execution_count": 503,
   "id": "dce994d5",
   "metadata": {},
   "outputs": [
    {
     "name": "stdout",
     "output_type": "stream",
     "text": [
      "printf (returns 'int'): 4\n",
      "unsigned long long literal: 8\n"
     ]
    }
   ],
   "source": [
    "#include <stdio.h>\n",
    "\n",
    "int main() {\n",
    "    printf(\"printf (returns 'int'): %lu\\n\", sizeof(printf(\"a\")));\n",
    "    printf(\"unsigned long long literal: %lu\\n\", sizeof(1ull));\n",
    "    return 0;\n",
    "}"
   ]
  },
  {
   "cell_type": "code",
   "execution_count": 22,
   "id": "3c22df01",
   "metadata": {},
   "outputs": [
    {
     "name": "stdout",
     "output_type": "stream",
     "text": [
      "x (before): 1\n",
      "sizeof(x += 1): 4\n",
      "x (after): 1\n"
     ]
    }
   ],
   "source": [
    "#include <stdio.h>\n",
    "\n",
    "int main() {\n",
    "    int x = 1;\n",
    "    printf(\"x (before): %d\\n\", x);\n",
    "    printf(\"sizeof(x += 1): %lu\\n\", sizeof(x += 1ull));\n",
    "    printf(\"x (after): %d\\n\", x);\n",
    "    return 0;\n",
    "}"
   ]
  },
  {
   "cell_type": "markdown",
   "id": "07cf4bc1",
   "metadata": {},
   "source": [
    "*Note:* Even though functions and expressions are not executed, they must be valid (e.g: number of parameters in function calls)."
   ]
  },
  {
   "cell_type": "markdown",
   "id": "d38c0a08",
   "metadata": {},
   "source": [
    "### `typedef` <a class=\"anchor\" id=\"typedef\"></a>"
   ]
  },
  {
   "cell_type": "markdown",
   "id": "f2ba9062",
   "metadata": {},
   "source": [
    "The `typedef` *compiler directive* is used to give an *alias* to data types in C. Preceeding any definition with the `typedef` keyword, the new identifier becomes an alias. This aids code readability."
   ]
  },
  {
   "cell_type": "code",
   "execution_count": 323,
   "id": "5a4c5251",
   "metadata": {},
   "outputs": [
    {
     "name": "stdout",
     "output_type": "stream",
     "text": [
      "7"
     ]
    }
   ],
   "source": [
    "#include <stdio.h>\n",
    "\n",
    "typedef int (*OPERATION_PTR)(int x, int y);\n",
    "\n",
    "int add(int x, int y) {\n",
    "    return x + y;\n",
    "}\n",
    "\n",
    "int main() {\n",
    "    OPERATION_PTR opPtr = add;\n",
    "    printf(\"%d\", opPtr(3, 4));\n",
    "    return 0;\n",
    "}"
   ]
  },
  {
   "cell_type": "code",
   "execution_count": 326,
   "id": "819ae15d",
   "metadata": {},
   "outputs": [
    {
     "name": "stdout",
     "output_type": "stream",
     "text": [
      "Name: Hazem\n",
      "ID: 10699284\n",
      "GPA: 0.980000\n"
     ]
    }
   ],
   "source": [
    "#include <stdio.h>\n",
    "\n",
    "typedef struct {\n",
    "    char name[8];\n",
    "    unsigned long long id;\n",
    "    double gpa;\n",
    "} STUDENT;\n",
    "\n",
    "int main() {\n",
    "    STUDENT student = {\"Hazem\", 10699284, 0.98};\n",
    "    printf(\"Name: %s\\n\", student.name);\n",
    "    printf(\"ID: %llu\\n\", student.id);\n",
    "    printf(\"GPA: %f\\n\", student.gpa);\n",
    "    return 0;\n",
    "}"
   ]
  },
  {
   "cell_type": "markdown",
   "id": "cf1e708b",
   "metadata": {},
   "source": [
    "`typedef` is considered a partial storage class specifier, hence, it cannot be used with another storage class specifier."
   ]
  },
  {
   "cell_type": "code",
   "execution_count": 327,
   "id": "61c16475",
   "metadata": {},
   "outputs": [
    {
     "name": "stderr",
     "output_type": "stream",
     "text": [
      "/tmp/tmpee7vx_yv.c:1:1: error: multiple storage classes in declaration specifiers\n",
      "    1 | typedef static int INT;\n",
      "      | ^~~~~~~\n",
      "[C kernel] GCC exited with code 1, the executable will not be executed"
     ]
    }
   ],
   "source": [
    "typedef static int INT;\n",
    "\n",
    "int main() {\n",
    "    return 0;\n",
    "}"
   ]
  },
  {
   "cell_type": "markdown",
   "id": "e290e6e4",
   "metadata": {},
   "source": [
    "*Note:* Qualifiers may be used with `typedef`."
   ]
  },
  {
   "cell_type": "markdown",
   "id": "5424748c",
   "metadata": {},
   "source": [
    "Some peculiarities arise when using qualifiers with defined aliases."
   ]
  },
  {
   "cell_type": "code",
   "execution_count": null,
   "id": "7e517733",
   "metadata": {},
   "outputs": [],
   "source": [
    "typedef int *INT_PTR;\n",
    "const INT_PTR intPtr;      /* const pointer. to non-const memory */\n",
    "                           /* NOT the expected definition */"
   ]
  },
  {
   "cell_type": "markdown",
   "id": "5e61d087",
   "metadata": {},
   "source": [
    "### Boolean Type (C99+) <a class=\"anchor\" id=\"boolean-type\"></a>"
   ]
  },
  {
   "cell_type": "markdown",
   "id": "3b40d446",
   "metadata": {},
   "source": [
    "In C99, the `_Bool` integer data type was introduced. It has the property that any non-zero value assigned to is stored as `1`, and otherwise `0`."
   ]
  },
  {
   "cell_type": "code",
   "execution_count": 578,
   "id": "45f38ba9",
   "metadata": {},
   "outputs": [
    {
     "name": "stdout",
     "output_type": "stream",
     "text": [
      "1"
     ]
    }
   ],
   "source": [
    "#include <stdio.h>\n",
    "\n",
    "int main() {\n",
    "    _Bool x = 0.02;\n",
    "    printf(\"%d\", x);\n",
    "}"
   ]
  },
  {
   "cell_type": "markdown",
   "id": "e3635031",
   "metadata": {},
   "source": [
    "*Note:* The `stdbool.h` standard library header file defines the alias `bool` to the `_Bool` integer data type."
   ]
  },
  {
   "cell_type": "markdown",
   "id": "eb313156",
   "metadata": {},
   "source": [
    "## Preprocessor Directives <a class=\"anchor\" id=\"preprocessor-directives\"></a>"
   ]
  },
  {
   "cell_type": "markdown",
   "id": "772fcd05",
   "metadata": {},
   "source": [
    "The `#include` directive is used to include the content of another file, usually a `*.h` file, into a `*.c` file."
   ]
  },
  {
   "cell_type": "code",
   "execution_count": 346,
   "id": "e9b2509e",
   "metadata": {},
   "outputs": [
    {
     "name": "stdout",
     "output_type": "stream",
     "text": [
      "5"
     ]
    }
   ],
   "source": [
    "#include <stdio.h>          /* or, \"stdio.h\" */\n",
    "\n",
    "int main() {\n",
    "    printf(\"%d\", 5);\n",
    "    return 0;\n",
    "}"
   ]
  },
  {
   "cell_type": "markdown",
   "id": "c31b7e75",
   "metadata": {},
   "source": [
    "*Note:* The `#include` directive is recursive. Any directives in the included file are further executed."
   ]
  },
  {
   "cell_type": "markdown",
   "id": "7741d6a8",
   "metadata": {},
   "source": [
    "*Note:* Usually double-quotes are used for user-defined header files, while `<` and `>` are used for header files in the C standard library, but it is not necessary."
   ]
  },
  {
   "cell_type": "markdown",
   "id": "0627e6f4",
   "metadata": {},
   "source": [
    "*Note:* User-defined paths may be absolute, or relative to the `*.c` or `*.h` file the `#include` directive is used in."
   ]
  },
  {
   "cell_type": "markdown",
   "id": "8b28d850",
   "metadata": {},
   "source": [
    "*Note:* Most compilers allow users to add search paths during the compilation process, for the preprocessor to search in when including a file."
   ]
  },
  {
   "cell_type": "markdown",
   "id": "1bcb2380",
   "metadata": {},
   "source": [
    "The `#define` directive is used to define a *macro*, which is a name given to a piece of text. During the preprocessing stage, every usage of that macro is directly replaced with the definition."
   ]
  },
  {
   "cell_type": "code",
   "execution_count": 347,
   "id": "f01af133",
   "metadata": {},
   "outputs": [
    {
     "name": "stdout",
     "output_type": "stream",
     "text": [
      "3.140000"
     ]
    }
   ],
   "source": [
    "#include <stdio.h>\n",
    "\n",
    "#define PI 3.14\n",
    "\n",
    "int main() {\n",
    "    printf(\"%f\", PI);\n",
    "    return 0;\n",
    "}"
   ]
  },
  {
   "cell_type": "markdown",
   "id": "878f4c62",
   "metadata": {},
   "source": [
    "*Note:* Usually, macros are given all-capital names."
   ]
  },
  {
   "cell_type": "markdown",
   "id": "c27d6f7e",
   "metadata": {},
   "source": [
    "*Note:* Macro names occuring within string literals are ignored."
   ]
  },
  {
   "cell_type": "markdown",
   "id": "85fb8cb6",
   "metadata": {},
   "source": [
    "*Note:* A macro definition may be empty."
   ]
  },
  {
   "cell_type": "markdown",
   "id": "ea64c3d1",
   "metadata": {},
   "source": [
    "The `\\` character may be used in writing directives on multiple lines. This is most useful in macro definitions."
   ]
  },
  {
   "cell_type": "code",
   "execution_count": null,
   "id": "b595d8d5",
   "metadata": {},
   "outputs": [],
   "source": [
    "# define PI 3.14             /* space is valid between '#' and directive name */"
   ]
  },
  {
   "cell_type": "code",
   "execution_count": 358,
   "id": "5557d7fd",
   "metadata": {},
   "outputs": [
    {
     "name": "stdout",
     "output_type": "stream",
     "text": [
      "3.140000"
     ]
    }
   ],
   "source": [
    "                /* avoid using comments in the middle of multi-line directives */\n",
    "# \\\n",
    "define \\\n",
    "PI \\\n",
    "3.\\\n",
    "14\n",
    "\n",
    "#include <stdio.h>\n",
    "\n",
    "int main() {\n",
    "    printf(\"%f\", PI);\n",
    "    return 0;\n",
    "}"
   ]
  },
  {
   "cell_type": "markdown",
   "id": "7fe54264",
   "metadata": {},
   "source": [
    "A *macro function* is a macro that accepts parameters."
   ]
  },
  {
   "cell_type": "code",
   "execution_count": 364,
   "id": "53736099",
   "metadata": {},
   "outputs": [
    {
     "name": "stdout",
     "output_type": "stream",
     "text": [
      "3"
     ]
    }
   ],
   "source": [
    "#include <stdio.h>\n",
    "\n",
    "#define ADD(X, Y) (X+Y)\n",
    "\n",
    "int main() {\n",
    "    printf(\"%d\", ADD(1, 2));\n",
    "    return 0;\n",
    "}"
   ]
  },
  {
   "cell_type": "markdown",
   "id": "d4c763e3",
   "metadata": {},
   "source": [
    "*Note:* Because macro functions are nothing more than substituting functions, they inflate the code size, in comparison to C functions. Additionally, they provide no type-checking. It is recommended to use macro functions to create small, literal expressions that can be evaluated at compile-time."
   ]
  },
  {
   "cell_type": "markdown",
   "id": "741dcc4f",
   "metadata": {},
   "source": [
    "The `#if`, `#elif`, `#else` and `#endif` directives are used to implement conditional execution on a preprocessing-level."
   ]
  },
  {
   "cell_type": "code",
   "execution_count": 392,
   "id": "82ae9829",
   "metadata": {},
   "outputs": [
    {
     "name": "stdout",
     "output_type": "stream",
     "text": [
      "True!"
     ]
    }
   ],
   "source": [
    "#include <stdio.h>\n",
    "\n",
    "#define COND 0\n",
    "\n",
    "#if COND || (1)\n",
    "    #define RESULT \"True!\"\n",
    "#else\n",
    "    #define RESULT \"False!\"\n",
    "#endif\n",
    "\n",
    "int main() {\n",
    "    printf(\"%s\", RESULT);\n",
    "    return 0;\n",
    "}"
   ]
  },
  {
   "cell_type": "code",
   "execution_count": 393,
   "id": "b940f4c7",
   "metadata": {},
   "outputs": [
    {
     "name": "stdout",
     "output_type": "stream",
     "text": [
      "False!"
     ]
    }
   ],
   "source": [
    "#include <stdio.h>\n",
    "\n",
    "#define COND 0\n",
    "\n",
    "int main() {\n",
    "    #if COND && (1)\n",
    "        printf(\"%s\", \"True!\");\n",
    "    #else\n",
    "        printf(\"%s\", \"False!\");\n",
    "    #endif\n",
    "    return 0;\n",
    "}"
   ]
  },
  {
   "cell_type": "markdown",
   "id": "f7f49301",
   "metadata": {},
   "source": [
    "*Note:* Logical and relational operators in C may be used with `#if` and `#elif` directives."
   ]
  },
  {
   "cell_type": "markdown",
   "id": "58008be4",
   "metadata": {},
   "source": [
    "*Note:* Conditions and operands to equivalence and comparison operators must be integer literals."
   ]
  },
  {
   "cell_type": "markdown",
   "id": "13105966",
   "metadata": {},
   "source": [
    "*Note:* Similar to C, any non-zero value evaluates to true, and otherwise false."
   ]
  },
  {
   "cell_type": "markdown",
   "id": "5f55ba72",
   "metadata": {},
   "source": [
    "The `#ifdef` and `ifndef` directives check whether a given macro name is already defined or not. These directives are used to implement *header guards*. A header guard prevents the content of a header file from being included more than once in the same source file."
   ]
  },
  {
   "cell_type": "code",
   "execution_count": null,
   "id": "0f28e221",
   "metadata": {},
   "outputs": [],
   "source": [
    "#ifndef _FILE_NAME_H_\n",
    "#define _FILE_NAME_H_\n",
    "\n",
    "    /* header file content */\n",
    "\n",
    "#endif"
   ]
  },
  {
   "cell_type": "markdown",
   "id": "189a26da",
   "metadata": {},
   "source": [
    "*Note:* Most compilers allow the user to define a macro during the compilation process. This is known as a *compile-time switch*, since it allows alterations in the content of `*.c` files at compile-time."
   ]
  },
  {
   "cell_type": "markdown",
   "id": "6052b1a8",
   "metadata": {},
   "source": [
    "*Note:* The pre-defined preprocessor function `defined(MACRO_NAME)` may replace the need for `#ifdef` and `#ifndef` directives."
   ]
  },
  {
   "cell_type": "markdown",
   "id": "8b8df908",
   "metadata": {},
   "source": [
    "The `#error` directive forces the preprocessor to throw an error during the compilation process, with an accompanying message."
   ]
  },
  {
   "cell_type": "code",
   "execution_count": 396,
   "id": "049ad85c",
   "metadata": {},
   "outputs": [
    {
     "name": "stderr",
     "output_type": "stream",
     "text": [
      "/tmp/tmpjn6jsps5.c:4:6: error: #error \"There is a defect.\"\n",
      "    4 |     #error \"There is a defect.\"\n",
      "      |      ^~~~~\n",
      "[C kernel] GCC exited with code 1, the executable will not be executed"
     ]
    }
   ],
   "source": [
    "#define DEFECT 1\n",
    "\n",
    "#if DEFECT\n",
    "    #error \"There is a defect.\"\n",
    "#endif\n",
    "\n",
    "int main() {\n",
    "    return 0;\n",
    "}"
   ]
  },
  {
   "cell_type": "markdown",
   "id": "44b52e96",
   "metadata": {},
   "source": [
    "The `#pragma` directive is used to give instructions to the preprocessor (and sometimes, suprisingly, the compiler) on how it should handle its input."
   ]
  },
  {
   "cell_type": "code",
   "execution_count": 398,
   "id": "aaa79a55",
   "metadata": {},
   "outputs": [
    {
     "name": "stderr",
     "output_type": "stream",
     "text": [
      "In file included from /tmp/tmpv4vavrzh.c:4:\n",
      "/usr/include/stdio.h:356:12: error: attempt to use poisoned \"printf\"\n",
      "  356 | extern int printf (const char *__restrict __format, ...);\n",
      "      |            ^\n",
      "[C kernel] GCC exited with code 1, the executable will not be executed"
     ]
    }
   ],
   "source": [
    "#pragma GCC poison printf              /* any 'printf' in code, except in double */\n",
    "                                        /* double preprocessor throws error */\n",
    "\n",
    "#include <stdio.h>\n",
    "\n",
    "int main() {\n",
    "    return 0;\n",
    "}"
   ]
  },
  {
   "cell_type": "markdown",
   "id": "d67faf21",
   "metadata": {},
   "source": [
    "*Note:* The syntax and behavior of the `#pragma` directive is compiler-dependent."
   ]
  },
  {
   "cell_type": "markdown",
   "id": "664bdf29",
   "metadata": {},
   "source": [
    "## The C Standard Library <a class=\"anchor\" id=\"the-c-standard-library\"></a>"
   ]
  },
  {
   "cell_type": "markdown",
   "id": "f1cfe494",
   "metadata": {},
   "source": [
    "### Dynamic Memory Allocation <a class=\"anchor\" id=\"dynamic-memory-allocation\"></a>"
   ]
  },
  {
   "cell_type": "markdown",
   "id": "4b279f55",
   "metadata": {},
   "source": [
    "In C, *dynamic memory* is allocated and de-allocated on the *heap* during run-time, through explicit calls by the programmer. The `stdlib.h` standard library header file declares the functions required for dynamic memory allocation."
   ]
  },
  {
   "cell_type": "markdown",
   "id": "58e00e5d",
   "metadata": {},
   "source": [
    "The `malloc` function receives a `size_t` data type, denoting the number of consecutive bytes to be allocated. It returns a `NULL` void pointer if allocation failed, otherwise a non-`NULL` void pointer is returned."
   ]
  },
  {
   "cell_type": "code",
   "execution_count": 522,
   "id": "2439fae2",
   "metadata": {},
   "outputs": [
    {
     "name": "stdout",
     "output_type": "stream",
     "text": [
      "1234\n",
      "0.980000\n",
      "Hazem"
     ]
    }
   ],
   "source": [
    "#include <stdlib.h>\n",
    "#include <stdio.h>\n",
    "\n",
    "#define N 6\n",
    "#define NAME \"Hazem\"\n",
    "\n",
    "struct student {\n",
    "    unsigned long long id;\n",
    "    double gpa;\n",
    "    char name[];\n",
    "};\n",
    "\n",
    "int main() {\n",
    "    struct student *ptr = malloc(sizeof(struct student) + N);\n",
    "    if (ptr != NULL) {\n",
    "                                  /* writing to allocated memory, cast as a struct student */\n",
    "        ptr->id = 1234ull;\n",
    "        ptr->gpa = 0.98;\n",
    "        char *name = NAME;\n",
    "        for (int i = 0; i < N; i++) {\n",
    "            ptr->name[i] = name[i];\n",
    "        }\n",
    "                                       /* printing */\n",
    "        printf(\"%llu\\n\", ptr->id);\n",
    "        printf(\"%f\\n\", ptr->gpa);\n",
    "        printf(\"%s\", ptr->name);\n",
    "    }\n",
    "    return 0;\n",
    "}"
   ]
  },
  {
   "cell_type": "markdown",
   "id": "9a9a93d1",
   "metadata": {},
   "source": [
    "*Note:* The result of allocating zero bytes is implementation defined."
   ]
  },
  {
   "cell_type": "markdown",
   "id": "647c804a",
   "metadata": {},
   "source": [
    "The `calloc` function receives the number of objects to be allocated as a first parameter, and the size of each object as a second parameter, both in `size_t`. It returns a `NULL` void pointer if allocation failed, otherwise a non-`NULL` void pointer is returned, similar to `malloc`.\n",
    "\n",
    "*Note:* `calloc` will initialize allocated memory to zero, unlike `malloc`."
   ]
  },
  {
   "cell_type": "code",
   "execution_count": 535,
   "id": "d663f4f4",
   "metadata": {},
   "outputs": [
    {
     "name": "stdout",
     "output_type": "stream",
     "text": [
      "1: 0.000000\n",
      "2: 0.000000\n",
      "3: 0.000000\n"
     ]
    }
   ],
   "source": [
    "#include <stdlib.h>\n",
    "#include <stdio.h>\n",
    "\n",
    "#define N 3\n",
    "\n",
    "int main() {\n",
    "    double *ptr = calloc(N, sizeof(double));\n",
    "    if (ptr != NULL) {\n",
    "        for (int i = 0; i < N; i++) {\n",
    "            printf(\"%d: %f\\n\", i+1, ptr[i]);\n",
    "        }\n",
    "    } else {\n",
    "        printf(\"NULL returned.\");\n",
    "    }\n",
    "    return 0;\n",
    "}"
   ]
  },
  {
   "cell_type": "markdown",
   "id": "b67cfef8",
   "metadata": {},
   "source": [
    "The `realloc` function either enlarges or shrinks memory that has already been allocated dynamically. It returns a pointer to a new memory location, that may be the same as the old memory location, but not necessarily. It gurantees that if needed, the content at the old memory location would be copied into the new memory location.\n",
    "\n",
    "The `realloc` function receives a pointer to memory previously allocated as a first parameter, and the number of bytes to be allocated as a second parameter, which may be less than, equal or larger than the previously allocated memory. If it fails, it returns a `NULL` pointer.\n",
    "\n",
    "*Note:* If the memory is enlarged, the added memory will not be initialized."
   ]
  },
  {
   "cell_type": "code",
   "execution_count": 555,
   "id": "98780146",
   "metadata": {},
   "outputs": [
    {
     "name": "stdout",
     "output_type": "stream",
     "text": [
      "1: -81\n",
      "2: -8\n",
      "3: 21\n",
      "4: 100\n"
     ]
    }
   ],
   "source": [
    "#include <stdlib.h>\n",
    "#include <stdio.h>\n",
    "\n",
    "#define N 2\n",
    "#define n 2\n",
    "#define TYPE signed char\n",
    "#define TYPE_PRINT \"%d\"\n",
    "\n",
    "int main() {\n",
    "    TYPE *ptr = malloc(N*sizeof(TYPE));\n",
    "    if (ptr != NULL) {\n",
    "        TYPE *ptr2 = realloc(ptr, (N+n)*sizeof(TYPE));\n",
    "        if (ptr2 != NULL) {\n",
    "                                                    /* printing garbage values */\n",
    "            for (int i = 0; i < (N+n); i++) {\n",
    "                printf(\"%d: \" TYPE_PRINT \"\\n\", i+1, ptr2[i]);\n",
    "            }   \n",
    "        }\n",
    "    }\n",
    "    return 0;\n",
    "}"
   ]
  },
  {
   "cell_type": "markdown",
   "id": "17c9fec2",
   "metadata": {},
   "source": [
    "*Note:* If passed a `NULL` pointer, `realloc` behaves exactly like `malloc`."
   ]
  },
  {
   "cell_type": "markdown",
   "id": "0c9821d5",
   "metadata": {},
   "source": [
    "The `free` function deallocates dynamically allocated memory. It receives a void pointer that was previously returned by either `malloc`, `calloc`, or `realloc`, and returns `void`."
   ]
  },
  {
   "cell_type": "code",
   "execution_count": 558,
   "id": "13120ac1",
   "metadata": {},
   "outputs": [],
   "source": [
    "#include <stdlib.h>\n",
    "#include <stdio.h>\n",
    "\n",
    "int main() {\n",
    "    double *ptr = malloc(sizeof(double));\n",
    "    if (ptr != NULL) {\n",
    "                        /* ptr to be used here */\n",
    "        free(ptr);\n",
    "    }\n",
    "    return 0;\n",
    "}"
   ]
  },
  {
   "cell_type": "markdown",
   "id": "52071f11",
   "metadata": {},
   "source": [
    "*Note:* If `free` is passed a `NULL` pointer, it does nothing."
   ]
  },
  {
   "cell_type": "markdown",
   "id": "10f5b929",
   "metadata": {},
   "source": [
    "### Fixed-width Integers (C99+) <a class=\"anchor\" id=\"fixed-width-integers\"></a>"
   ]
  },
  {
   "cell_type": "markdown",
   "id": "2fefadd5",
   "metadata": {},
   "source": [
    "In C99+, the `stdint.h` standard library header file defines useful aliases for integer data types, that have specific constraints placed upon them. "
   ]
  },
  {
   "cell_type": "markdown",
   "id": "3dc99619",
   "metadata": {},
   "source": [
    "| *Alias* | *Constraint* |\n",
    "| --- | --- |\n",
    "| `int8_t`, `uint8_t` | *exactly 8 bits* |\n",
    "| `int16_t`, `uint16_t` | *exactly 16 bits* |\n",
    "| `int32_t`, `uint32_t` | *exactly 32 bits* |\n",
    "| `int64_t`, `uint64_t` | *exactly 64 bits* |\n",
    "| | |\n",
    "| `int_least8_t`, `uint_least8_t` | *at least 8 bits* |\n",
    "| `int_least16_t`, `uint_least16_t` | *at least 16 bits* |\n",
    "| `int_least32_t`, `uint_least32_t` | *at least 32 bits* |\n",
    "| `int_least64_t`, `uint_least64_t` | *at least 64 bits* |\n",
    "| | |\n",
    "| `int_fast8_t`, `uint_fast8_t` | *at least 8 bits, fastest on target* |\n",
    "| `int_fast16_t`, `uint_fast16_t` | *at least 16 bits, fastest on target* |\n",
    "| `int_fast32_t`, `uint_fast32_t` | *at least 32 bits, fastest on target* |\n",
    "| `int_fast64_t`, `uint_fast64_t` | *at least 64 bits, fastest on target* |\n",
    "| | |\n",
    "| `intmax_t`, `uintmax_t` | *maximum size supported* |\n",
    "| | |\n",
    "| `intptr_t`, `uintptr_t` | *at least size of pointer* |"
   ]
  },
  {
   "cell_type": "markdown",
   "id": "ef4f5cc7",
   "metadata": {},
   "source": [
    "*Note:* Some aliases may be undefined, if the target system is unable to meet their constraints."
   ]
  }
 ],
 "metadata": {
  "kernelspec": {
   "display_name": "C",
   "language": "c",
   "name": "c"
  },
  "language_info": {
   "file_extension": ".cpp",
   "mimetype": "text/plain",
   "name": "c++"
  }
 },
 "nbformat": 4,
 "nbformat_minor": 5
}
