{
 "cells": [
  {
   "cell_type": "markdown",
   "id": "57a5dd54",
   "metadata": {},
   "source": [
    "# A brief summary of *Ethernet*-based *Networking*\n",
    "<br>\n",
    "<div style=\"opacity: 0.8; font-family: Consolas, Monaco, Lucida Console, Liberation Mono, DejaVu Sans Mono, Bitstream Vera Sans Mono, Courier New; font-size: 12px; font-style: italic;\">\n",
    "    ────────\n",
    "    for more from the author, visit\n",
    "    <a href=\"https://github.com/hazemanwer2000\">github.com/hazemanwer2000</a>.\n",
    "    ────────\n",
    "</div>"
   ]
  },
  {
   "cell_type": "markdown",
   "id": "d5d19f27",
   "metadata": {},
   "source": [
    "## Table of Contents\n"
   ]
  },
  {
   "cell_type": "markdown",
   "id": "2395f3a7",
   "metadata": {},
   "source": [
    "This document assumes previous knowledge about *Networking*, including the *OSI model*."
   ]
  },
  {
   "cell_type": "markdown",
   "id": "7a27e82d",
   "metadata": {},
   "source": [
    "## *Ethernet* LANs"
   ]
  },
  {
   "cell_type": "markdown",
   "id": "5cd0d868",
   "metadata": {},
   "source": [
    "An *Ethernet-based* LAN (i.e, *Local Area Network*) uses Ethernet frames to encapsulate and transport data across the network.\n",
    "\n",
    "It is usually composed of a number of end-point devices, connected to a number of switches, as shown below."
   ]
  },
  {
   "cell_type": "markdown",
   "id": "915400fd",
   "metadata": {},
   "source": [
    "<img src=\"unannotated-lan.png\" width=\"250\" />"
   ]
  },
  {
   "cell_type": "markdown",
   "id": "be90e1a9",
   "metadata": {},
   "source": []
  }
 ],
 "metadata": {
  "kernelspec": {
   "display_name": "Python 3 (ipykernel)",
   "language": "python",
   "name": "python3"
  },
  "language_info": {
   "codemirror_mode": {
    "name": "ipython",
    "version": 3
   },
   "file_extension": ".py",
   "mimetype": "text/x-python",
   "name": "python",
   "nbconvert_exporter": "python",
   "pygments_lexer": "ipython3",
   "version": "3.8.10"
  }
 },
 "nbformat": 4,
 "nbformat_minor": 5
}
