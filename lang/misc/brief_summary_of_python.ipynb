{
 "cells": [
  {
   "cell_type": "markdown",
   "id": "d582f54b",
   "metadata": {},
   "source": [
    "# A brief summary of Python (3.X)\n",
    "<br>\n",
    "<div style=\"opacity: 0.8; font-family: Consolas, Monaco, Lucida Console, Liberation Mono, DejaVu Sans Mono, Bitstream Vera Sans Mono, Courier New; font-size: 12px; font-style: italic;\">\n",
    "    \u2500\u2500\u2500\u2500\u2500\u2500\u2500\u2500\n",
    "    for more from the author, visit\n",
    "    <a href=\"https://github.com/hazemanwer2000\">github.com/hazemanwer2000</a>.\n",
    "    \u2500\u2500\u2500\u2500\u2500\u2500\u2500\u2500\n",
    "</div>"
   ]
  },
  {
   "cell_type": "markdown",
   "id": "31bf0648",
   "metadata": {},
   "source": [
    "## Table of Contents\n",
    "* [Built-in Types](#built-in-types)\n",
    "* [Operators](#operators)\n",
    "* [Conditional Execution](#conditional-execution)\n",
    "* [Functions](#functions)\n",
    "  * [The `lambda` Operator](#the-lambda-operator)\n",
    "  * [Decorators](#decorators)\n",
    "  * [Generators](#generators)\n",
    "  * [Coroutines](#coroutines)\n",
    "* [Classes](#classes)\n",
    "  * [Descriptors](#descriptors)\n",
    "  * [Private Attributes and Methods](#private-attributes-and-methods)\n",
    "  * [`__slots__`](#slots)\n",
    "  * [Operator Overloading](#operator-overloading)\n",
    "    * [Mathematical Operators](#mathematical-operators)\n",
    "    * [Comparison Operators](#comparison-operators)\n",
    "    * [Unary Arithmetic Operators](#unary-arithmetic-operators)\n",
    "    * [Subscription and Slicing](#subscription-and-slicing)\n",
    "  * [Built-in type Casting](#built-in-type-casting)\n",
    "  * [`__repr__`](#repr)\n",
    "  * [Iterables](#iterables)\n",
    "  * [Context Managers](#context-managers)\n",
    "  * [Metaclasses](#metaclasses)\n",
    "    * [Abstract Base Classes](#abstract-base-classes)\n",
    "  * [Class Decorators](#class-decorators)\n",
    "* [Exceptions](#exceptions)\n",
    "* [Modules](#modules)\n",
    "  * [Packages](#packages)\n"
   ]
  },
  {
   "cell_type": "markdown",
   "id": "9f286bc0",
   "metadata": {},
   "source": [
    "Everything in Python is an object."
   ]
  },
  {
   "cell_type": "code",
   "execution_count": 1,
   "id": "5100222c",
   "metadata": {},
   "outputs": [
    {
     "data": {
      "text/plain": [
       "int"
      ]
     },
     "execution_count": 1,
     "metadata": {},
     "output_type": "execute_result"
    }
   ],
   "source": [
    "x = 5\n",
    "type(x)"
   ]
  },
  {
   "cell_type": "markdown",
   "id": "2f4cf60e",
   "metadata": {},
   "source": [
    "**x** is a variable, that references an `int` object in memory."
   ]
  },
  {
   "cell_type": "code",
   "execution_count": 2,
   "id": "49d5bab1",
   "metadata": {},
   "outputs": [
    {
     "data": {
      "text/plain": [
       "True"
      ]
     },
     "execution_count": 2,
     "metadata": {},
     "output_type": "execute_result"
    }
   ],
   "source": [
    "y = x\n",
    "y is x"
   ]
  },
  {
   "cell_type": "markdown",
   "id": "47ebefef",
   "metadata": {},
   "source": [
    "**y** is a variable, that references the same object as **x**."
   ]
  },
  {
   "cell_type": "markdown",
   "id": "ff90b4c5",
   "metadata": {},
   "source": [
    "Python relies on <i>Garbage Collection</i>, as an automatic memory management system. Once an object is not being referenced by any variable, its memory is automatically deallocated to free up space."
   ]
  },
  {
   "cell_type": "code",
   "execution_count": 3,
   "id": "7f42d474",
   "metadata": {},
   "outputs": [
    {
     "data": {
      "text/plain": [
       "5"
      ]
     },
     "execution_count": 3,
     "metadata": {},
     "output_type": "execute_result"
    }
   ],
   "source": [
    "del(x)\n",
    "y"
   ]
  },
  {
   "cell_type": "markdown",
   "id": "7a7006c9",
   "metadata": {},
   "source": [
    "**x** no longer exists as a variable. **y** is still referencing the object from before, hence the object persists in memory."
   ]
  },
  {
   "cell_type": "markdown",
   "id": "4377b0c6",
   "metadata": {},
   "source": [
    "## Built-in Types <a class=\"anchor\" id=\"built-in-types\"></a>"
   ]
  },
  {
   "cell_type": "code",
   "execution_count": 4,
   "id": "ff8c1bc8",
   "metadata": {},
   "outputs": [],
   "source": [
    "# Boolean (immutable)\n",
    "x_bool = True"
   ]
  },
  {
   "cell_type": "code",
   "execution_count": 5,
   "id": "c1f6b5f8",
   "metadata": {},
   "outputs": [],
   "source": [
    "# Numeric (immutable)\n",
    "x_int = 5 \n",
    "x_float = 5.3 \n",
    "x_complex = 3 + 2j"
   ]
  },
  {
   "cell_type": "code",
   "execution_count": 6,
   "id": "c8a174cd",
   "metadata": {},
   "outputs": [],
   "source": [
    "# Sequence (collection, ordered)\n",
    "x_list = [1, 2, 3]\n",
    "x_tuple = (1, 2, 3)   # (immutable)\n",
    "x_string = '123'      # character-specific (immutable)"
   ]
  },
  {
   "cell_type": "code",
   "execution_count": 7,
   "id": "1903f6de",
   "metadata": {},
   "outputs": [],
   "source": [
    "# Mapping (collection, unordered)\n",
    "x_dictionary = {'x': 1, 'y': 2}"
   ]
  },
  {
   "cell_type": "code",
   "execution_count": 8,
   "id": "ed6f6876",
   "metadata": {
    "scrolled": true
   },
   "outputs": [
    {
     "data": {
      "text/plain": [
       "{1, 2}"
      ]
     },
     "execution_count": 8,
     "metadata": {},
     "output_type": "execute_result"
    }
   ],
   "source": [
    "# Set (collection, unordered)\n",
    "x_set = {1, 1, 2}\n",
    "x_set"
   ]
  },
  {
   "cell_type": "markdown",
   "id": "6ce92001",
   "metadata": {},
   "source": [
    "## Operators <a class=\"anchor\" id=\"operators\"></a>"
   ]
  },
  {
   "cell_type": "markdown",
   "id": "130b5a3e",
   "metadata": {},
   "source": [
    " | *Operator* | *Description* | *Precedence* |\n",
    "| --- | --- | |\n",
    "| `()` | *Parentheses (grouping)* | \u2191 |\n",
    "| `f(...)` | *Function call* |\n",
    "| `x[i:j]` | *Slicing* |\n",
    "| `x[i]` | *Subscription* | \n",
    "| `x.attr` | *Attribute reference* | \n",
    "| `**` | *Exponentiation* | \n",
    "| `~x` | *Bitwise NOT* | \n",
    "| `+x`, `-x` | *Positive, Negative* | \n",
    "| `*`, `/`, `%` | *Multiplication, Division, Remainder* | \n",
    "| `+`, `-` | *Addition, Subtraction* | \n",
    "| `<<`, `>>` | *Bitwise shifts (left, right)* | \n",
    "| `&` | *Bitwise AND* | \n",
    "| `^` | *Bitwise XOR* | \n",
    "| `\\|` | *Bitwise OR* | \n",
    "| `==`, `!=`, `<`, `<=`, `>`, `>=` <br><br> `in`, `is` | *Comparison, Membership, Identity* | \n",
    "| `not` | *Logical `NOT`* | \n",
    "| `and` | *Logical `AND`* | \n",
    "| `or` | *Logical `OR`* | \n",
    "| `lambda` | *Anonymous function* | \u2193 |"
   ]
  },
  {
   "cell_type": "markdown",
   "id": "18df27f5",
   "metadata": {},
   "source": [
    "## Conditional Execution <a class=\"anchor\" id=\"conditional-execution\"></a>"
   ]
  },
  {
   "cell_type": "code",
   "execution_count": null,
   "id": "3553d70f",
   "metadata": {},
   "outputs": [],
   "source": [
    "if COND_1 and COND_2:\n",
    "    ...\n",
    "elif not COND_3 or COND_4:\n",
    "    ...\n",
    "else:\n",
    "    ..."
   ]
  },
  {
   "cell_type": "code",
   "execution_count": null,
   "id": "5cc5d3b4",
   "metadata": {},
   "outputs": [],
   "source": [
    "while COND:\n",
    "    ..."
   ]
  },
  {
   "cell_type": "code",
   "execution_count": null,
   "id": "ec02b935",
   "metadata": {},
   "outputs": [],
   "source": [
    "(VAL_1 if COND else VAL_2)"
   ]
  },
  {
   "cell_type": "markdown",
   "id": "4ba9693a",
   "metadata": {},
   "source": [
    "## Functions <a class=\"anchor\" id=\"functions\"></a>"
   ]
  },
  {
   "cell_type": "markdown",
   "id": "98115d92",
   "metadata": {},
   "source": [
    "*Functions* provide a *local* scope."
   ]
  },
  {
   "cell_type": "code",
   "execution_count": 9,
   "id": "810efc19",
   "metadata": {},
   "outputs": [
    {
     "data": {
      "text/plain": [
       "(3, 15)"
      ]
     },
     "execution_count": 9,
     "metadata": {},
     "output_type": "execute_result"
    }
   ],
   "source": [
    "x, y = (5, 10)        # global variables\n",
    "\n",
    "def add(x, y):        # variables (arguments) with local scope\n",
    "    return x + y\n",
    "\n",
    "add(1, 2), x + y"
   ]
  },
  {
   "cell_type": "markdown",
   "id": "29d7ba24",
   "metadata": {},
   "source": [
    "Variables with *global* scope are *read-only* inside functions."
   ]
  },
  {
   "cell_type": "code",
   "execution_count": 10,
   "id": "af62a5fa",
   "metadata": {},
   "outputs": [
    {
     "data": {
      "text/plain": [
       "5"
      ]
     },
     "execution_count": 10,
     "metadata": {},
     "output_type": "execute_result"
    }
   ],
   "source": [
    "x = 5\n",
    "\n",
    "def get_x():\n",
    "    return x\n",
    "\n",
    "get_x()"
   ]
  },
  {
   "cell_type": "markdown",
   "id": "42546fb3",
   "metadata": {},
   "source": [
    "The `global` keyword grants *write* permissions to a global variable."
   ]
  },
  {
   "cell_type": "code",
   "execution_count": 11,
   "id": "72bd94d8",
   "metadata": {},
   "outputs": [
    {
     "data": {
      "text/plain": [
       "7"
      ]
     },
     "execution_count": 11,
     "metadata": {},
     "output_type": "execute_result"
    }
   ],
   "source": [
    "x = 5\n",
    "\n",
    "def add_to_x(y):\n",
    "    global x\n",
    "    x += y\n",
    "\n",
    "add_to_x(2); x"
   ]
  },
  {
   "cell_type": "markdown",
   "id": "97429f62",
   "metadata": {},
   "source": [
    "*Note:* In *nested* functions, use the `nonlocal` keyword."
   ]
  },
  {
   "cell_type": "markdown",
   "id": "14534005",
   "metadata": {},
   "source": [
    "Function arguments may be passed on by naming each argument. These are called *keyword arguments*."
   ]
  },
  {
   "cell_type": "code",
   "execution_count": 12,
   "id": "d4890ac7",
   "metadata": {},
   "outputs": [
    {
     "data": {
      "text/plain": [
       "1"
      ]
     },
     "execution_count": 12,
     "metadata": {},
     "output_type": "execute_result"
    }
   ],
   "source": [
    "def subtract(x, y):\n",
    "    return x - y\n",
    "\n",
    "subtract(y=5, x=6)"
   ]
  },
  {
   "cell_type": "markdown",
   "id": "1748be90",
   "metadata": {},
   "source": [
    "Function arguments can have *default* values."
   ]
  },
  {
   "cell_type": "code",
   "execution_count": 13,
   "id": "d8278004",
   "metadata": {},
   "outputs": [
    {
     "data": {
      "text/plain": [
       "(3, 2)"
      ]
     },
     "execution_count": 13,
     "metadata": {},
     "output_type": "execute_result"
    }
   ],
   "source": [
    "def add(x, y=1):\n",
    "    return x + y\n",
    "\n",
    "add(1, 2), add(1)"
   ]
  },
  {
   "cell_type": "markdown",
   "id": "3cab1e80",
   "metadata": {},
   "source": [
    "*Note:* A non-default argument cannot follow a default argument.\n",
    "\n",
    "*Note:* Avoid using mutable objects as default arguments. Instead, use `None` as default, accompained with a conditional."
   ]
  },
  {
   "cell_type": "markdown",
   "id": "58038c21",
   "metadata": {},
   "source": [
    "A function may receive a variable number of arguments, as a tuple."
   ]
  },
  {
   "cell_type": "code",
   "execution_count": 14,
   "id": "06517004",
   "metadata": {},
   "outputs": [
    {
     "data": {
      "text/plain": [
       "15"
      ]
     },
     "execution_count": 14,
     "metadata": {},
     "output_type": "execute_result"
    }
   ],
   "source": [
    "def add(x, y=1, *args):\n",
    "    x += y\n",
    "    for arg in args:          # (discussed later)\n",
    "        x += arg\n",
    "    return x\n",
    "\n",
    "add(1, 2, 3, 4, 5)"
   ]
  },
  {
   "cell_type": "markdown",
   "id": "9bff0938",
   "metadata": {},
   "source": [
    "A function may receive a variable number of keyword arguments, as a dictionary."
   ]
  },
  {
   "cell_type": "code",
   "execution_count": 15,
   "id": "8586ce4a",
   "metadata": {},
   "outputs": [
    {
     "data": {
      "text/plain": [
       "115"
      ]
     },
     "execution_count": 15,
     "metadata": {},
     "output_type": "execute_result"
    }
   ],
   "source": [
    "def add(x, y=1, *args, **kwargs):\n",
    "    x += y\n",
    "    for arg in args:          # (discussed later)\n",
    "        x += arg\n",
    "    for key in kwargs:        # (discussed later)\n",
    "        x += kwargs[key]  \n",
    "    return x\n",
    "\n",
    "add(1, 2, 3, 4, 5, w=100)"
   ]
  },
  {
   "cell_type": "markdown",
   "id": "7aa35541",
   "metadata": {},
   "source": [
    "Tuples, lists and dictionaries can be expanded into a function call."
   ]
  },
  {
   "cell_type": "code",
   "execution_count": 16,
   "id": "0367584c",
   "metadata": {
    "scrolled": true
   },
   "outputs": [
    {
     "data": {
      "text/plain": [
       "115"
      ]
     },
     "execution_count": 16,
     "metadata": {},
     "output_type": "execute_result"
    }
   ],
   "source": [
    "args = [1, 2, 3, 4, 5]\n",
    "kwargs = {'w': 100}\n",
    "\n",
    "add(*args, **kwargs)"
   ]
  },
  {
   "cell_type": "markdown",
   "id": "7bc82980",
   "metadata": {},
   "source": [
    "A function returns the built-in `None` object in the absence of a return statement."
   ]
  },
  {
   "cell_type": "code",
   "execution_count": 489,
   "id": "72859f30",
   "metadata": {},
   "outputs": [
    {
     "data": {
      "text/plain": [
       "True"
      ]
     },
     "execution_count": 489,
     "metadata": {},
     "output_type": "execute_result"
    }
   ],
   "source": [
    "def func():\n",
    "    pass\n",
    "\n",
    "func() is None"
   ]
  },
  {
   "cell_type": "markdown",
   "id": "f3bcb9de",
   "metadata": {},
   "source": [
    "### The `lambda` Operator <a class=\"anchor\" id=\"the-lambda-operator\"></a>"
   ]
  },
  {
   "cell_type": "code",
   "execution_count": 17,
   "id": "dbd30880",
   "metadata": {},
   "outputs": [
    {
     "data": {
      "text/plain": [
       "3"
      ]
     },
     "execution_count": 17,
     "metadata": {},
     "output_type": "execute_result"
    }
   ],
   "source": [
    "func = lambda x, y: x + y\n",
    "\n",
    "func(1, 2)"
   ]
  },
  {
   "cell_type": "markdown",
   "id": "ccf1aae9",
   "metadata": {},
   "source": [
    "### Decorators <a class=\"anchor\" id=\"decorators\"></a>"
   ]
  },
  {
   "cell_type": "markdown",
   "id": "42ea7410",
   "metadata": {},
   "source": [
    "A *decorator* is a function, that creates a wrapper function around another function argument."
   ]
  },
  {
   "cell_type": "code",
   "execution_count": 18,
   "id": "66f5c8da",
   "metadata": {},
   "outputs": [],
   "source": [
    "logging = True\n",
    "\n",
    "def log(func):                       # decorator\n",
    "    if logging:\n",
    "        def callf(*args, **kwargs):\n",
    "            res = func(*args, **kwargs)\n",
    "            print(res)\n",
    "            return res\n",
    "        return callf\n",
    "    else:\n",
    "        return func"
   ]
  },
  {
   "cell_type": "code",
   "execution_count": 19,
   "id": "82eb8c8a",
   "metadata": {},
   "outputs": [
    {
     "name": "stdout",
     "output_type": "stream",
     "text": [
      "Hello, World!\n"
     ]
    }
   ],
   "source": [
    "@log\n",
    "def hello_world():\n",
    "    return \"Hello, World!\"\n",
    "\n",
    "x = hello_world()"
   ]
  },
  {
   "cell_type": "code",
   "execution_count": 20,
   "id": "282e8b69",
   "metadata": {},
   "outputs": [
    {
     "name": "stdout",
     "output_type": "stream",
     "text": [
      "Hello, World!\n"
     ]
    }
   ],
   "source": [
    "def hello_world():\n",
    "    return \"Hello, World!\"\n",
    "hello_world = log(hello_world)       # equivalent syntax\n",
    "\n",
    "x = hello_world()"
   ]
  },
  {
   "cell_type": "markdown",
   "id": "efbc3dbc",
   "metadata": {},
   "source": [
    "*Note:* Multiple decorators may be used on a single function, and are called in an intuitive order."
   ]
  },
  {
   "cell_type": "markdown",
   "id": "9d1b4a03",
   "metadata": {},
   "source": [
    "A decorator may be passed an argument. In such case, it returns a function that accepts a function argument."
   ]
  },
  {
   "cell_type": "code",
   "execution_count": 65,
   "id": "d5a01fdb",
   "metadata": {},
   "outputs": [
    {
     "name": "stdout",
     "output_type": "stream",
     "text": [
      "Wrapping `hello_world`\n"
     ]
    }
   ],
   "source": [
    "logging = True\n",
    "\n",
    "def LOG(msg):\n",
    "    print(msg)\n",
    "    return log\n",
    "\n",
    "@LOG('Wrapping `hello_world`')\n",
    "def hello_world():\n",
    "    return \"Hello, World!\""
   ]
  },
  {
   "cell_type": "markdown",
   "id": "a421e3ee",
   "metadata": {},
   "source": [
    "### Generators <a class=\"anchor\" id=\"generators\"></a>"
   ]
  },
  {
   "cell_type": "markdown",
   "id": "2737fc31",
   "metadata": {},
   "source": [
    "A function that uses the `yield` keyword with an expression on the right-hand side, returns *generator* objects."
   ]
  },
  {
   "cell_type": "code",
   "execution_count": 22,
   "id": "f457a604",
   "metadata": {},
   "outputs": [],
   "source": [
    "def countdown(n=3):\n",
    "    while n != 0:\n",
    "        yield n\n",
    "        n -= 1\n",
    "        \n",
    "c = countdown()       # generator"
   ]
  },
  {
   "cell_type": "markdown",
   "id": "2f5de656",
   "metadata": {},
   "source": [
    "When `__next__` is called on a generator, function begins execution upto the `yield` statement."
   ]
  },
  {
   "cell_type": "code",
   "execution_count": 23,
   "id": "3ff3eff6",
   "metadata": {},
   "outputs": [
    {
     "data": {
      "text/plain": [
       "3"
      ]
     },
     "execution_count": 23,
     "metadata": {},
     "output_type": "execute_result"
    }
   ],
   "source": [
    "c.__next__()"
   ]
  },
  {
   "cell_type": "markdown",
   "id": "f85b1b04",
   "metadata": {},
   "source": [
    "With each call, execution proceeds from and upto the `yield` statement."
   ]
  },
  {
   "cell_type": "code",
   "execution_count": 24,
   "id": "4dba7004",
   "metadata": {},
   "outputs": [
    {
     "data": {
      "text/plain": [
       "(2, 1)"
      ]
     },
     "execution_count": 24,
     "metadata": {},
     "output_type": "execute_result"
    }
   ],
   "source": [
    "c.__next__(), c.__next__()"
   ]
  },
  {
   "cell_type": "markdown",
   "id": "e5a4d2d8",
   "metadata": {},
   "source": [
    "Once function returns, a `StopIteration` exception is thrown, discussed later."
   ]
  },
  {
   "cell_type": "code",
   "execution_count": 25,
   "id": "b8456a5b",
   "metadata": {},
   "outputs": [
    {
     "ename": "StopIteration",
     "evalue": "",
     "output_type": "error",
     "traceback": [
      "\u001b[1;31m---------------------------------------------------------------------------\u001b[0m",
      "\u001b[1;31mStopIteration\u001b[0m                             Traceback (most recent call last)",
      "Input \u001b[1;32mIn [25]\u001b[0m, in \u001b[0;36m<cell line: 1>\u001b[1;34m()\u001b[0m\n\u001b[1;32m----> 1\u001b[0m \u001b[43mc\u001b[49m\u001b[38;5;241;43m.\u001b[39;49m\u001b[38;5;21;43m__next__\u001b[39;49m\u001b[43m(\u001b[49m\u001b[43m)\u001b[49m\n",
      "\u001b[1;31mStopIteration\u001b[0m: "
     ]
    }
   ],
   "source": [
    "c.__next__()"
   ]
  },
  {
   "cell_type": "markdown",
   "id": "28a187f6",
   "metadata": {},
   "source": [
    "A `for` statement may be used to iterate through a generator object."
   ]
  },
  {
   "cell_type": "code",
   "execution_count": 26,
   "id": "d1f8a8c6",
   "metadata": {
    "scrolled": true
   },
   "outputs": [
    {
     "name": "stdout",
     "output_type": "stream",
     "text": [
      "3\n",
      "2\n",
      "1\n"
     ]
    }
   ],
   "source": [
    "c = countdown()\n",
    "\n",
    "for i in c:\n",
    "    print(i)"
   ]
  },
  {
   "cell_type": "markdown",
   "id": "9c09bc90",
   "metadata": {},
   "source": [
    "### Coroutines <a class=\"anchor\" id=\"coroutines\"></a>"
   ]
  },
  {
   "cell_type": "markdown",
   "id": "84815bf4",
   "metadata": {},
   "source": [
    "A function that uses the `yield` keyword on the right-hand side of an assignment, returns *coroutine* objects."
   ]
  },
  {
   "cell_type": "code",
   "execution_count": 16,
   "id": "d92770ad",
   "metadata": {},
   "outputs": [],
   "source": [
    "def add(base):\n",
    "    while True:\n",
    "        base += (yield)\n",
    "        print(base)\n",
    "\n",
    "c = add(0)"
   ]
  },
  {
   "cell_type": "markdown",
   "id": "f66bd8ef",
   "metadata": {},
   "source": [
    "Firstly, `__next__` is called on the *coroutine* object, to jump to the first `yield` keyword."
   ]
  },
  {
   "cell_type": "code",
   "execution_count": 17,
   "id": "c03e563e",
   "metadata": {},
   "outputs": [],
   "source": [
    "c.__next__()"
   ]
  },
  {
   "cell_type": "markdown",
   "id": "14e178bd",
   "metadata": {},
   "source": [
    "Thereafter, an argument is passed with each `send` call."
   ]
  },
  {
   "cell_type": "code",
   "execution_count": 18,
   "id": "beefabbe",
   "metadata": {
    "scrolled": true
   },
   "outputs": [
    {
     "name": "stdout",
     "output_type": "stream",
     "text": [
      "5\n",
      "15\n",
      "30\n"
     ]
    }
   ],
   "source": [
    "c.send(5)\n",
    "c.send(10)\n",
    "c.send(15)"
   ]
  },
  {
   "cell_type": "markdown",
   "id": "b7615c4f",
   "metadata": {},
   "source": [
    "A `close` call throws a `GeneratorExit` exception inside the coroutine (limited in scope), discussed later."
   ]
  },
  {
   "cell_type": "code",
   "execution_count": 30,
   "id": "ac8ea5b0",
   "metadata": {},
   "outputs": [],
   "source": [
    "c.close()"
   ]
  },
  {
   "cell_type": "markdown",
   "id": "29c6e253",
   "metadata": {},
   "source": [
    "A decorator can be used to automate the initially required `__next__` call for coroutines."
   ]
  },
  {
   "cell_type": "code",
   "execution_count": 31,
   "id": "23d1fe91",
   "metadata": {},
   "outputs": [
    {
     "name": "stdout",
     "output_type": "stream",
     "text": [
      "5\n",
      "15\n",
      "30\n"
     ]
    }
   ],
   "source": [
    "def coroutine(func):\n",
    "    def callf(*args, **kwargs):\n",
    "        c = func(*args, **kwargs)\n",
    "        c.__next__()\n",
    "        return c\n",
    "    return callf\n",
    "\n",
    "@coroutine\n",
    "def add(base):\n",
    "    while True:\n",
    "        base += (yield)\n",
    "        print(base)\n",
    "\n",
    "c = add(0)\n",
    "\n",
    "c.send(5)\n",
    "c.send(10)\n",
    "c.send(15)"
   ]
  },
  {
   "cell_type": "markdown",
   "id": "07dcd6d6",
   "metadata": {},
   "source": [
    "## Classes <a class=\"anchor\" id=\"classes\"></a>"
   ]
  },
  {
   "cell_type": "markdown",
   "id": "ea9e3596",
   "metadata": {},
   "source": [
    "A *class* is defined using the keyword `class`."
   ]
  },
  {
   "cell_type": "code",
   "execution_count": 62,
   "id": "45eb1d44",
   "metadata": {},
   "outputs": [],
   "source": [
    "class Building:\n",
    "    pass"
   ]
  },
  {
   "cell_type": "markdown",
   "id": "3984d872",
   "metadata": {},
   "source": [
    "A *class attribute* is defined inside the class definition. It is accessed through a class reference."
   ]
  },
  {
   "cell_type": "code",
   "execution_count": 19,
   "id": "e13d3cd6",
   "metadata": {},
   "outputs": [
    {
     "data": {
      "text/plain": [
       "0"
      ]
     },
     "execution_count": 19,
     "metadata": {},
     "output_type": "execute_result"
    }
   ],
   "source": [
    "class Building:\n",
    "    count = 0\n",
    "    \n",
    "Building.count"
   ]
  },
  {
   "cell_type": "markdown",
   "id": "4e2d90c7",
   "metadata": {},
   "source": [
    "*Note:* A class attribute can also be defined through a class reference."
   ]
  },
  {
   "cell_type": "markdown",
   "id": "b52a74ca",
   "metadata": {},
   "source": [
    "An *instance* of a class is created by calling a class reference. It implicitly calls the `__init__` method, which is an example of an *instance method*. Instance methods implicitly pass a reference of the instance as a first argument."
   ]
  },
  {
   "cell_type": "code",
   "execution_count": 67,
   "id": "84cf11fa",
   "metadata": {},
   "outputs": [],
   "source": [
    "class Building:\n",
    "    def __init__(self):\n",
    "        pass\n",
    "\n",
    "abc = Building()"
   ]
  },
  {
   "cell_type": "markdown",
   "id": "5fd58162",
   "metadata": {},
   "source": [
    "*Note:* An `__init__` method that accepts zero explicit arguments is defined, by default, but can be overriden."
   ]
  },
  {
   "cell_type": "markdown",
   "id": "6eb94750",
   "metadata": {},
   "source": [
    "*Note:* A class attribute can be accessed through an instance reference."
   ]
  },
  {
   "cell_type": "markdown",
   "id": "91359af7",
   "metadata": {},
   "source": [
    "*Note:* An instance method can be called through a class reference, by passing an instance reference as a first argument."
   ]
  },
  {
   "cell_type": "markdown",
   "id": "05c7377f",
   "metadata": {},
   "source": [
    "An *instance* attribute is defined through an instance reference."
   ]
  },
  {
   "cell_type": "code",
   "execution_count": 69,
   "id": "9230cc8e",
   "metadata": {},
   "outputs": [
    {
     "data": {
      "text/plain": [
       "'abc'"
      ]
     },
     "execution_count": 69,
     "metadata": {},
     "output_type": "execute_result"
    }
   ],
   "source": [
    "class Building:\n",
    "    def __init__(self, name):\n",
    "        self.name = name\n",
    "\n",
    "abc = Building('abc')\n",
    "abc.name"
   ]
  },
  {
   "cell_type": "markdown",
   "id": "f6d11f6b",
   "metadata": {},
   "source": [
    "Class and instance attributes may be defined *on-the-fly*."
   ]
  },
  {
   "cell_type": "code",
   "execution_count": 22,
   "id": "01a42804",
   "metadata": {},
   "outputs": [
    {
     "data": {
      "text/plain": [
       "(5, 6)"
      ]
     },
     "execution_count": 22,
     "metadata": {},
     "output_type": "execute_result"
    }
   ],
   "source": [
    "class A:\n",
    "    pass\n",
    "\n",
    "A.num1 = 5\n",
    "\n",
    "a = A()\n",
    "a.num2 = 6\n",
    "\n",
    "(a.num1, a.num2)"
   ]
  },
  {
   "cell_type": "markdown",
   "id": "7af94226",
   "metadata": {},
   "source": [
    "*Note:* Instance attributes defined on-the-fly belong to a single instance, and not all future instances."
   ]
  },
  {
   "cell_type": "markdown",
   "id": "1200498f",
   "metadata": {},
   "source": [
    "A *static method* does not have an implicit instance reference as a first argument. It can be called through a class reference, or an instance reference."
   ]
  },
  {
   "cell_type": "code",
   "execution_count": 73,
   "id": "08046870",
   "metadata": {},
   "outputs": [
    {
     "name": "stdout",
     "output_type": "stream",
     "text": [
      "Hello!\n"
     ]
    }
   ],
   "source": [
    "class Building:\n",
    "    @staticmethod\n",
    "    def hello():\n",
    "        print(\"Hello!\")\n",
    "        \n",
    "Building.hello()"
   ]
  },
  {
   "cell_type": "markdown",
   "id": "f4a2a92e",
   "metadata": {},
   "source": [
    "It is common to implement additional constructor methods, other than `__init__`, through static methods."
   ]
  },
  {
   "cell_type": "code",
   "execution_count": 75,
   "id": "c39a085b",
   "metadata": {},
   "outputs": [
    {
     "data": {
      "text/plain": [
       "2003"
      ]
     },
     "execution_count": 75,
     "metadata": {},
     "output_type": "execute_result"
    }
   ],
   "source": [
    "class Building:\n",
    "    def __init__(self, name):\n",
    "        self.name = name\n",
    "    \n",
    "    @staticmethod\n",
    "    def make(name, year):\n",
    "        build = Building(name)\n",
    "        build.year = year\n",
    "        return build\n",
    "        \n",
    "abc = Building.make('abc', 2003)\n",
    "abc.year"
   ]
  },
  {
   "cell_type": "markdown",
   "id": "9e45a7c0",
   "metadata": {},
   "source": [
    "A *parent class* can be *inherited* from, by passing the class reference in the class definition."
   ]
  },
  {
   "cell_type": "code",
   "execution_count": null,
   "id": "52b2fcb4",
   "metadata": {},
   "outputs": [],
   "source": [
    "class School(Building):\n",
    "    pass"
   ]
  },
  {
   "cell_type": "code",
   "execution_count": 318,
   "id": "888c1c83",
   "metadata": {},
   "outputs": [],
   "source": [
    "class A:\n",
    "    pass\n",
    "\n",
    "class B:\n",
    "    pass\n",
    "\n",
    "class C(A, B):   # C inherits from A and B\n",
    "    pass"
   ]
  },
  {
   "cell_type": "markdown",
   "id": "e01e98e7",
   "metadata": {},
   "source": [
    "Method and attribute *overriding* are allowed in a *child class*."
   ]
  },
  {
   "cell_type": "code",
   "execution_count": 81,
   "id": "3072d24d",
   "metadata": {},
   "outputs": [
    {
     "data": {
      "text/plain": [
       "('abc', 2003)"
      ]
     },
     "execution_count": 81,
     "metadata": {},
     "output_type": "execute_result"
    }
   ],
   "source": [
    "class Building:\n",
    "    def __init__(self, name):\n",
    "        self.name = name\n",
    "\n",
    "class School(Building):\n",
    "    def __init__(self, name, year):       # instance method overriding\n",
    "        Building.__init__(self, name)     # parent instance method can still be called\n",
    "        self.year = year\n",
    "\n",
    "abc = School('abc', 2003)\n",
    "abc.name, abc.year"
   ]
  },
  {
   "cell_type": "markdown",
   "id": "d150dff8",
   "metadata": {},
   "source": [
    "The `__bases__` class attribute returns a tuple of *direct* parent class references."
   ]
  },
  {
   "cell_type": "code",
   "execution_count": 80,
   "id": "afbd7e38",
   "metadata": {},
   "outputs": [
    {
     "data": {
      "text/plain": [
       "(__main__.School,)"
      ]
     },
     "execution_count": 80,
     "metadata": {},
     "output_type": "execute_result"
    }
   ],
   "source": [
    "class Cambridge(School):\n",
    "    pass\n",
    "\n",
    "Cambridge.__bases__"
   ]
  },
  {
   "cell_type": "markdown",
   "id": "86ac5fc5",
   "metadata": {},
   "source": [
    "The `isinstance` built-in function is inheritance-sensitive."
   ]
  },
  {
   "cell_type": "code",
   "execution_count": 141,
   "id": "5dfa400c",
   "metadata": {},
   "outputs": [
    {
     "data": {
      "text/plain": [
       "True"
      ]
     },
     "execution_count": 141,
     "metadata": {},
     "output_type": "execute_result"
    }
   ],
   "source": [
    "isinstance(abc, Building)"
   ]
  },
  {
   "cell_type": "markdown",
   "id": "71c70dbf",
   "metadata": {},
   "source": [
    "The `issubclass` built-in function tests for inheritance between classes."
   ]
  },
  {
   "cell_type": "code",
   "execution_count": 285,
   "id": "1d46e4b3",
   "metadata": {},
   "outputs": [
    {
     "data": {
      "text/plain": [
       "True"
      ]
     },
     "execution_count": 285,
     "metadata": {},
     "output_type": "execute_result"
    }
   ],
   "source": [
    "issubclass(School, Building)          # `School` is a subclass of `Building`"
   ]
  },
  {
   "cell_type": "code",
   "execution_count": 287,
   "id": "e142d095",
   "metadata": {},
   "outputs": [
    {
     "data": {
      "text/plain": [
       "False"
      ]
     },
     "execution_count": 287,
     "metadata": {},
     "output_type": "execute_result"
    }
   ],
   "source": [
    "issubclass(Building, School)          # But the opposite is not true"
   ]
  },
  {
   "cell_type": "markdown",
   "id": "ddd99a47",
   "metadata": {},
   "source": [
    "A *class method* has an implicit class reference as a first argument. Inherited class methods reference the child class. Hence, they are prefered over static methods when defining additional constructors."
   ]
  },
  {
   "cell_type": "code",
   "execution_count": 84,
   "id": "6edbc13e",
   "metadata": {},
   "outputs": [
    {
     "data": {
      "text/plain": [
       "(__main__.School, __main__.Building)"
      ]
     },
     "execution_count": 84,
     "metadata": {},
     "output_type": "execute_result"
    }
   ],
   "source": [
    "class Building:\n",
    "    def __init__(self, name):\n",
    "        self.name = name\n",
    "    \n",
    "    @classmethod\n",
    "    def make_class(cls, name):\n",
    "        return cls(name)\n",
    "    \n",
    "    @staticmethod\n",
    "    def make_static(name):\n",
    "        return Building(name)\n",
    "\n",
    "class School(Building):\n",
    "    pass\n",
    "\n",
    "abc = School.make_class('abc')\n",
    "xyz = School.make_static('xyz')\n",
    "type(abc), type(xyz)"
   ]
  },
  {
   "cell_type": "markdown",
   "id": "ae39180b",
   "metadata": {},
   "source": [
    "A *property* is a special instance method that accepts no explicit arguments, and is called without parenthesis."
   ]
  },
  {
   "cell_type": "code",
   "execution_count": 88,
   "id": "b2a73bb1",
   "metadata": {},
   "outputs": [
    {
     "data": {
      "text/plain": [
       "6"
      ]
     },
     "execution_count": 88,
     "metadata": {},
     "output_type": "execute_result"
    }
   ],
   "source": [
    "class Rectangle:\n",
    "    def __init__(self, x, y):\n",
    "        self.x, self.y = x, y\n",
    "    \n",
    "    @property\n",
    "    def area(self):\n",
    "        return self.x * self.y\n",
    "\n",
    "rect = Rectangle(2, 3)\n",
    "rect.area"
   ]
  },
  {
   "cell_type": "markdown",
   "id": "f4a62907",
   "metadata": {},
   "source": [
    "Additionally, a *setter* and a *deleter* may be implemented for each property."
   ]
  },
  {
   "cell_type": "code",
   "execution_count": 338,
   "id": "e50e8677",
   "metadata": {},
   "outputs": [],
   "source": [
    "class Rectangle:\n",
    "    def __init__(self, x, y):\n",
    "        self.x, self.y = x, y\n",
    "    \n",
    "    @property\n",
    "    def area(self):\n",
    "        return self.x * self.y\n",
    "    \n",
    "    @area.setter\n",
    "    def area(self, val):\n",
    "        tmp = val ** 0.5\n",
    "        self.x = tmp\n",
    "        self.y = tmp\n",
    "    \n",
    "    @area.deleter\n",
    "    def area(self):\n",
    "        print('Cannot delete.')\n",
    "\n",
    "rect = Rectangle(2, 3)"
   ]
  },
  {
   "cell_type": "code",
   "execution_count": 339,
   "id": "ff0be3da",
   "metadata": {},
   "outputs": [
    {
     "data": {
      "text/plain": [
       "(3.1622776601683795, 3.1622776601683795, 10.000000000000002)"
      ]
     },
     "execution_count": 339,
     "metadata": {},
     "output_type": "execute_result"
    }
   ],
   "source": [
    "rect.area = 10\n",
    "rect.x, rect.y, rect.area"
   ]
  },
  {
   "cell_type": "code",
   "execution_count": 340,
   "id": "ae65587f",
   "metadata": {},
   "outputs": [
    {
     "name": "stdout",
     "output_type": "stream",
     "text": [
      "Cannot delete.\n"
     ]
    }
   ],
   "source": [
    "del(rect.area)"
   ]
  },
  {
   "cell_type": "markdown",
   "id": "5d7f454e",
   "metadata": {},
   "source": [
    "### Descriptors <a class=\"anchor\" id=\"descriptors\"></a>"
   ]
  },
  {
   "cell_type": "markdown",
   "id": "02e8bd40",
   "metadata": {},
   "source": [
    "A *descriptor* is a special class, whose instances are to be used as class attributes of other classes. They allow overriding of default *get* and *set* behaviors. They are worked with through an instance reference."
   ]
  },
  {
   "cell_type": "code",
   "execution_count": 160,
   "id": "474d6d2c",
   "metadata": {},
   "outputs": [],
   "source": [
    "class Small:\n",
    "    def __init__(self, num):\n",
    "        self.num = num\n",
    "        \n",
    "    def __get__(self, ins, obj):\n",
    "        print('Getting...')\n",
    "        return self.num\n",
    "    \n",
    "    def __set__(self, ins, num):\n",
    "        print('Setting...')\n",
    "        self.num = num\n",
    "        \n",
    "class Whatever:\n",
    "    num = Small(5)\n",
    "    \n",
    "x = Whatever()"
   ]
  },
  {
   "cell_type": "code",
   "execution_count": 161,
   "id": "04a8c885",
   "metadata": {},
   "outputs": [
    {
     "name": "stdout",
     "output_type": "stream",
     "text": [
      "Getting...\n"
     ]
    },
    {
     "data": {
      "text/plain": [
       "5"
      ]
     },
     "execution_count": 161,
     "metadata": {},
     "output_type": "execute_result"
    }
   ],
   "source": [
    "x.num"
   ]
  },
  {
   "cell_type": "code",
   "execution_count": 162,
   "id": "534ebdd2",
   "metadata": {},
   "outputs": [
    {
     "name": "stdout",
     "output_type": "stream",
     "text": [
      "Setting...\n"
     ]
    }
   ],
   "source": [
    "x.num = 6"
   ]
  },
  {
   "cell_type": "code",
   "execution_count": 163,
   "id": "1605cfc3",
   "metadata": {},
   "outputs": [
    {
     "name": "stdout",
     "output_type": "stream",
     "text": [
      "Getting...\n"
     ]
    },
    {
     "data": {
      "text/plain": [
       "6"
      ]
     },
     "execution_count": 163,
     "metadata": {},
     "output_type": "execute_result"
    }
   ],
   "source": [
    "x.num"
   ]
  },
  {
   "cell_type": "markdown",
   "id": "638e141c",
   "metadata": {},
   "source": [
    "*Note:* Descriptors are a weak feature of Python, and are to be advisably avoided, hence won't be elaborated on further."
   ]
  },
  {
   "cell_type": "markdown",
   "id": "b73c59d8",
   "metadata": {},
   "source": [
    "### Private Attributes and Methods <a class=\"anchor\" id=\"private-attributes-and-methods\"></a>"
   ]
  },
  {
   "cell_type": "markdown",
   "id": "4038ae63",
   "metadata": {},
   "source": [
    "A *private* attribute or method cannot, in ordinary syntax, be accessed outside a class definition, even by a child class. To define a private attribute or method, the form `__name` is used to the define the name accordingly. This is *mangled* externally to `_classname__name`."
   ]
  },
  {
   "cell_type": "code",
   "execution_count": 177,
   "id": "bb3e63d2",
   "metadata": {},
   "outputs": [
    {
     "data": {
      "text/plain": [
       "'Parent.Child.'"
      ]
     },
     "execution_count": 177,
     "metadata": {},
     "output_type": "execute_result"
    }
   ],
   "source": [
    "class Parent:\n",
    "    def __say(self):\n",
    "        return 'Parent.'\n",
    "\n",
    "class Child(Parent):\n",
    "    def __say(self):\n",
    "        return Parent._Parent__say(self) + 'Child.'\n",
    "\n",
    "child = Child()\n",
    "child._Child__say()"
   ]
  },
  {
   "cell_type": "markdown",
   "id": "886ba9fc",
   "metadata": {},
   "source": [
    "*Note:* Inside a class definition, `self.__name` is used to refer to private attributes and methods."
   ]
  },
  {
   "cell_type": "markdown",
   "id": "50023716",
   "metadata": {},
   "source": [
    "### `__slots__` <a class=\"anchor\" id=\"slots\"></a>"
   ]
  },
  {
   "cell_type": "markdown",
   "id": "abfeee3e",
   "metadata": {},
   "source": [
    "A `__slots__` class attribute may be defined in a class. It should be a tuple of string values, of instance attribute names. When defined, only those instance attributes may be assigned. In other words, defining attributes not in the `__slots__` tuple is prohibited, and throws `AttributeError` exception."
   ]
  },
  {
   "cell_type": "code",
   "execution_count": 196,
   "id": "9a14580a",
   "metadata": {},
   "outputs": [
    {
     "ename": "AttributeError",
     "evalue": "'Ball' object has no attribute 'weight'",
     "output_type": "error",
     "traceback": [
      "\u001b[1;31m---------------------------------------------------------------------------\u001b[0m",
      "\u001b[1;31mAttributeError\u001b[0m                            Traceback (most recent call last)",
      "Input \u001b[1;32mIn [196]\u001b[0m, in \u001b[0;36m<cell line: 8>\u001b[1;34m()\u001b[0m\n\u001b[0;32m      5\u001b[0m         \u001b[38;5;28mself\u001b[39m\u001b[38;5;241m.\u001b[39msize \u001b[38;5;241m=\u001b[39m size\n\u001b[0;32m      7\u001b[0m x \u001b[38;5;241m=\u001b[39m Ball(\u001b[38;5;241m10\u001b[39m)\n\u001b[1;32m----> 8\u001b[0m \u001b[43mx\u001b[49m\u001b[38;5;241;43m.\u001b[39;49m\u001b[43mweight\u001b[49m \u001b[38;5;241m=\u001b[39m \u001b[38;5;241m20\u001b[39m\n",
      "\u001b[1;31mAttributeError\u001b[0m: 'Ball' object has no attribute 'weight'"
     ]
    }
   ],
   "source": [
    "class Ball:\n",
    "    __slots__ = ('size')\n",
    "    \n",
    "    def __init__(self, size):\n",
    "        self.size = size\n",
    "        \n",
    "x = Ball(10)\n",
    "x.weight = 20"
   ]
  },
  {
   "cell_type": "markdown",
   "id": "a2ba2b6b",
   "metadata": {},
   "source": [
    "### Operator Overloading <a class=\"anchor\" id=\"operator-overloading\"></a>"
   ]
  },
  {
   "cell_type": "markdown",
   "id": "0cce18ae",
   "metadata": {},
   "source": [
    "Built-in operators may be overloaded in user-defined objects through the implementation of specific instance methods."
   ]
  },
  {
   "cell_type": "markdown",
   "id": "db397b0e",
   "metadata": {},
   "source": [
    "#### Mathematical Operators <a class=\"anchor\" id=\"mathematical-operators\"></a>"
   ]
  },
  {
   "cell_type": "code",
   "execution_count": 493,
   "id": "6e3d51f4",
   "metadata": {},
   "outputs": [
    {
     "data": {
      "text/plain": [
       "11"
      ]
     },
     "execution_count": 493,
     "metadata": {},
     "output_type": "execute_result"
    }
   ],
   "source": [
    "class Value:\n",
    "    def __init__(self, val):\n",
    "        self.val = val\n",
    "\n",
    "        # self + other (must be the left hand-operand)\n",
    "    def __add__(self, other):\n",
    "        return Value(self.val + other)\n",
    "\n",
    "value = Value(5)\n",
    "value += 6\n",
    "value.val"
   ]
  },
  {
   "cell_type": "markdown",
   "id": "588bb71c",
   "metadata": {},
   "source": [
    "*Note:* `__radd__` expects the instance on the right-hand side. It is called when the object on the left-hand side does not have an `__add__` instance method, or returns the built-in `NotImplemented` constant. A similar instance method exists for all binary operators."
   ]
  },
  {
   "cell_type": "markdown",
   "id": "4d8e62c0",
   "metadata": {},
   "source": [
    "| *Instance Method* | *Operator* | \n",
    "| --- | --- | \n",
    "| `__add__` | `+` | \n",
    "| `__sub__` | `-` | \n",
    "| `__mul__` | `*` | \n",
    "| `__pow__` | `**` | \n",
    "| `__truediv__` | `/` | \n",
    "| `__floordiv__` | `//` | \n",
    "| `__mod__` | `%` | "
   ]
  },
  {
   "cell_type": "markdown",
   "id": "6c305806",
   "metadata": {},
   "source": [
    "#### Comparison Operators <a class=\"anchor\" id=\"comparison-operators\"></a>"
   ]
  },
  {
   "cell_type": "code",
   "execution_count": 354,
   "id": "dac3b7e3",
   "metadata": {},
   "outputs": [],
   "source": [
    "class Value:\n",
    "    def __init__(self, val):\n",
    "        self.val = val\n",
    "\n",
    "        # self == other (must be the left hand-operand)\n",
    "    def __eq__(self, other):\n",
    "        if isinstance(other, Value):\n",
    "            if self.val == other.val:\n",
    "                return True\n",
    "            else:\n",
    "                return False\n",
    "        else:\n",
    "            return False\n",
    "\n",
    "value = Value(5)"
   ]
  },
  {
   "cell_type": "code",
   "execution_count": 355,
   "id": "6fdb921b",
   "metadata": {},
   "outputs": [
    {
     "data": {
      "text/plain": [
       "False"
      ]
     },
     "execution_count": 355,
     "metadata": {},
     "output_type": "execute_result"
    }
   ],
   "source": [
    "value == 5"
   ]
  },
  {
   "cell_type": "code",
   "execution_count": 356,
   "id": "f3b1ce61",
   "metadata": {},
   "outputs": [
    {
     "data": {
      "text/plain": [
       "True"
      ]
     },
     "execution_count": 356,
     "metadata": {},
     "output_type": "execute_result"
    }
   ],
   "source": [
    "value == Value(5)"
   ]
  },
  {
   "cell_type": "code",
   "execution_count": 357,
   "id": "597b48aa",
   "metadata": {
    "scrolled": false
   },
   "outputs": [
    {
     "data": {
      "text/plain": [
       "False"
      ]
     },
     "execution_count": 357,
     "metadata": {},
     "output_type": "execute_result"
    }
   ],
   "source": [
    "value == Value(6)"
   ]
  },
  {
   "cell_type": "markdown",
   "id": "552f957f",
   "metadata": {},
   "source": [
    "| *Instance Method* | *Operator* | \n",
    "| --- | --- | \n",
    "| `__eq__` | `==` | \n",
    "| `__ne__` | `!=` | \n",
    "| `__lt__` | `<` | \n",
    "| `__le__` | `<=` | \n",
    "| `__gt__` | `>` | \n",
    "| `__ge__` | `>=` | "
   ]
  },
  {
   "cell_type": "markdown",
   "id": "85d4e77f",
   "metadata": {},
   "source": [
    "#### Unary Arithmetic Operators <a class=\"anchor\" id=\"unary-arithmetic-operators\"></a>"
   ]
  },
  {
   "cell_type": "code",
   "execution_count": 502,
   "id": "47ffaf66",
   "metadata": {},
   "outputs": [],
   "source": [
    "class Value:\n",
    "    def __init__(self, val):\n",
    "        self.val = val\n",
    "\n",
    "    def __pos__(self):\n",
    "        return Value(+self.val)\n",
    "    \n",
    "    def __neg__(self):\n",
    "        return Value(-self.val)"
   ]
  },
  {
   "cell_type": "code",
   "execution_count": 503,
   "id": "22a6affc",
   "metadata": {},
   "outputs": [
    {
     "data": {
      "text/plain": [
       "5"
      ]
     },
     "execution_count": 503,
     "metadata": {},
     "output_type": "execute_result"
    }
   ],
   "source": [
    "(-Value(-5)).val"
   ]
  },
  {
   "cell_type": "code",
   "execution_count": 504,
   "id": "eff2ed73",
   "metadata": {},
   "outputs": [
    {
     "data": {
      "text/plain": [
       "-5"
      ]
     },
     "execution_count": 504,
     "metadata": {},
     "output_type": "execute_result"
    }
   ],
   "source": [
    "(+Value(-5)).val"
   ]
  },
  {
   "cell_type": "markdown",
   "id": "1bc52e37",
   "metadata": {},
   "source": [
    "#### Subscription and Slicing <a class=\"anchor\" id=\"subscription-and-slicing\"></a>"
   ]
  },
  {
   "cell_type": "code",
   "execution_count": 411,
   "id": "10bbee88",
   "metadata": {},
   "outputs": [],
   "source": [
    "class FixedSizeList:\n",
    "    def __init__(self, length):\n",
    "        self.length = length\n",
    "        self.lst = [0] * length\n",
    "    \n",
    "    def __getitem__(self, key):\n",
    "        return self.lst[key]\n",
    "\n",
    "    def __setitem__(self, key, val):\n",
    "        self.lst[key] = val\n",
    "        \n",
    "    def __delitem__(self, key):\n",
    "        raise Exception               # discussed later\n",
    "\n",
    "    def __len__(self):\n",
    "        return self.length\n",
    "    \n",
    "    def __contains__(self, item):\n",
    "        return item in self.lst\n",
    "        \n",
    "lst = FixedSizeList(10)"
   ]
  },
  {
   "cell_type": "code",
   "execution_count": 412,
   "id": "4684fab4",
   "metadata": {},
   "outputs": [
    {
     "data": {
      "text/plain": [
       "5"
      ]
     },
     "execution_count": 412,
     "metadata": {},
     "output_type": "execute_result"
    }
   ],
   "source": [
    "lst[1] = 5\n",
    "lst[1]"
   ]
  },
  {
   "cell_type": "code",
   "execution_count": 413,
   "id": "267d81b4",
   "metadata": {
    "scrolled": true
   },
   "outputs": [
    {
     "data": {
      "text/plain": [
       "[0, 5, 0, 0, 0]"
      ]
     },
     "execution_count": 413,
     "metadata": {},
     "output_type": "execute_result"
    }
   ],
   "source": [
    "lst[0:5]        # implicitly passes a `slice` object"
   ]
  },
  {
   "cell_type": "code",
   "execution_count": 414,
   "id": "c303750a",
   "metadata": {},
   "outputs": [
    {
     "data": {
      "text/plain": [
       "[10, 5, 20, 0, 30, 0, 40, 0, 50, 0]"
      ]
     },
     "execution_count": 414,
     "metadata": {},
     "output_type": "execute_result"
    }
   ],
   "source": [
    "lst[slice(0, None, 2)] = [10, 20, 30, 40, 50]       # slice(start, stop, step)\n",
    "lst[:]"
   ]
  },
  {
   "cell_type": "code",
   "execution_count": 415,
   "id": "21d56d30",
   "metadata": {},
   "outputs": [
    {
     "data": {
      "text/plain": [
       "(1, 5, None)"
      ]
     },
     "execution_count": 415,
     "metadata": {},
     "output_type": "execute_result"
    }
   ],
   "source": [
    "sl = slice(1, 5, None)\n",
    "sl.start, sl.stop, sl.step"
   ]
  },
  {
   "cell_type": "code",
   "execution_count": 416,
   "id": "701422aa",
   "metadata": {},
   "outputs": [
    {
     "ename": "Exception",
     "evalue": "",
     "output_type": "error",
     "traceback": [
      "\u001b[1;31m---------------------------------------------------------------------------\u001b[0m",
      "\u001b[1;31mException\u001b[0m                                 Traceback (most recent call last)",
      "Input \u001b[1;32mIn [416]\u001b[0m, in \u001b[0;36m<cell line: 1>\u001b[1;34m()\u001b[0m\n\u001b[1;32m----> 1\u001b[0m \u001b[38;5;28;01mdel\u001b[39;00m(lst[\u001b[38;5;241m0\u001b[39m:\u001b[38;5;241m1\u001b[39m])\n",
      "Input \u001b[1;32mIn [411]\u001b[0m, in \u001b[0;36mFixedSizeList.__delitem__\u001b[1;34m(self, key)\u001b[0m\n\u001b[0;32m     12\u001b[0m \u001b[38;5;28;01mdef\u001b[39;00m \u001b[38;5;21m__delitem__\u001b[39m(\u001b[38;5;28mself\u001b[39m, key):\n\u001b[1;32m---> 13\u001b[0m     \u001b[38;5;28;01mraise\u001b[39;00m \u001b[38;5;167;01mException\u001b[39;00m\n",
      "\u001b[1;31mException\u001b[0m: "
     ]
    }
   ],
   "source": [
    "del(lst[0:1])"
   ]
  },
  {
   "cell_type": "code",
   "execution_count": 417,
   "id": "d7e03414",
   "metadata": {},
   "outputs": [
    {
     "data": {
      "text/plain": [
       "10"
      ]
     },
     "execution_count": 417,
     "metadata": {},
     "output_type": "execute_result"
    }
   ],
   "source": [
    "len(lst)"
   ]
  },
  {
   "cell_type": "code",
   "execution_count": 418,
   "id": "32394913",
   "metadata": {},
   "outputs": [
    {
     "data": {
      "text/plain": [
       "(False, True)"
      ]
     },
     "execution_count": 418,
     "metadata": {},
     "output_type": "execute_result"
    }
   ],
   "source": [
    "1 in lst, 20 in lst"
   ]
  },
  {
   "cell_type": "markdown",
   "id": "f8c9b234",
   "metadata": {},
   "source": [
    "### Built-in type Casting <a class=\"anchor\" id=\"built-in-type-casting\"></a>"
   ]
  },
  {
   "cell_type": "markdown",
   "id": "024294aa",
   "metadata": {},
   "source": [
    "Special instance methods handle the explicit casting of instances into some built-in types."
   ]
  },
  {
   "cell_type": "code",
   "execution_count": 271,
   "id": "59cd9254",
   "metadata": {},
   "outputs": [],
   "source": [
    "class Value:\n",
    "    def __init__(self, val):\n",
    "        self.val = val\n",
    "\n",
    "    def __int__(self):\n",
    "        return self.val\n",
    "    \n",
    "    def __float__(self):\n",
    "        return float(self.val)\n",
    "\n",
    "    def __complex__(self):\n",
    "        return complex(self.val, self.val)\n",
    "    \n",
    "    def __bool__(self):\n",
    "        return self.val != 0\n",
    "    \n",
    "    def __str__(self):\n",
    "        return str(self.val)\n",
    "\n",
    "value = Value(5)"
   ]
  },
  {
   "cell_type": "code",
   "execution_count": 272,
   "id": "e867b696",
   "metadata": {},
   "outputs": [
    {
     "data": {
      "text/plain": [
       "5"
      ]
     },
     "execution_count": 272,
     "metadata": {},
     "output_type": "execute_result"
    }
   ],
   "source": [
    "int(value)"
   ]
  },
  {
   "cell_type": "code",
   "execution_count": 273,
   "id": "f26e68eb",
   "metadata": {},
   "outputs": [
    {
     "data": {
      "text/plain": [
       "5.0"
      ]
     },
     "execution_count": 273,
     "metadata": {},
     "output_type": "execute_result"
    }
   ],
   "source": [
    "float(value)"
   ]
  },
  {
   "cell_type": "code",
   "execution_count": 274,
   "id": "6d489b45",
   "metadata": {},
   "outputs": [
    {
     "data": {
      "text/plain": [
       "(5+5j)"
      ]
     },
     "execution_count": 274,
     "metadata": {},
     "output_type": "execute_result"
    }
   ],
   "source": [
    "complex(value)"
   ]
  },
  {
   "cell_type": "code",
   "execution_count": 275,
   "id": "9c9061e1",
   "metadata": {},
   "outputs": [
    {
     "data": {
      "text/plain": [
       "True"
      ]
     },
     "execution_count": 275,
     "metadata": {},
     "output_type": "execute_result"
    }
   ],
   "source": [
    "bool(value)"
   ]
  },
  {
   "cell_type": "code",
   "execution_count": 276,
   "id": "74e789c6",
   "metadata": {},
   "outputs": [
    {
     "name": "stdout",
     "output_type": "stream",
     "text": [
      "In.\n"
     ]
    }
   ],
   "source": [
    "if (value):        # implicitly calls `__bool__`\n",
    "    print('In.')"
   ]
  },
  {
   "cell_type": "code",
   "execution_count": 277,
   "id": "004715a9",
   "metadata": {
    "scrolled": true
   },
   "outputs": [
    {
     "data": {
      "text/plain": [
       "'5'"
      ]
     },
     "execution_count": 277,
     "metadata": {},
     "output_type": "execute_result"
    }
   ],
   "source": [
    "str(value)"
   ]
  },
  {
   "cell_type": "code",
   "execution_count": 278,
   "id": "24b4de72",
   "metadata": {},
   "outputs": [
    {
     "name": "stdout",
     "output_type": "stream",
     "text": [
      "5\n"
     ]
    }
   ],
   "source": [
    "print(value)       # implicitly calls `__str__`"
   ]
  },
  {
   "cell_type": "markdown",
   "id": "51b6b7b7",
   "metadata": {},
   "source": [
    "### `__repr__` <a class=\"anchor\" id=\"repr\"></a>"
   ]
  },
  {
   "cell_type": "markdown",
   "id": "8ea06490",
   "metadata": {},
   "source": [
    "A `__repr__` instance method is meant to provide formal, and complete information about an instance, as a string."
   ]
  },
  {
   "cell_type": "code",
   "execution_count": 282,
   "id": "e7c1a12b",
   "metadata": {},
   "outputs": [
    {
     "data": {
      "text/plain": [
       "Ball(size=10)"
      ]
     },
     "execution_count": 282,
     "metadata": {},
     "output_type": "execute_result"
    }
   ],
   "source": [
    "class Ball:\n",
    "    def __init__(self, size):\n",
    "        self.size = size\n",
    "    \n",
    "    def __repr__(self):\n",
    "        return 'Ball(size=' + str(self.size) + ')'\n",
    "\n",
    "ball = Ball(10)\n",
    "ball"
   ]
  },
  {
   "cell_type": "markdown",
   "id": "1249ea26",
   "metadata": {},
   "source": [
    "### Iterables <a class=\"anchor\" id=\"iterables\"></a>"
   ]
  },
  {
   "cell_type": "markdown",
   "id": "546f0fd2",
   "metadata": {},
   "source": [
    "An *iterable* is an object that can be iterated through in a `for` statement. It must implement `__iter__` and `__next__` instance methods. `__iter__` is implicitly called at the beginning of a `for` statement. It must return an object with the `__next__` method defined. `__next__` is called with each iteration, and returns a value each time. Iterations stop when `__next__` throws a `StopIteration` exception."
   ]
  },
  {
   "cell_type": "code",
   "execution_count": 349,
   "id": "ab759c1d",
   "metadata": {},
   "outputs": [
    {
     "name": "stdout",
     "output_type": "stream",
     "text": [
      "0\n",
      "1\n",
      "2\n"
     ]
    }
   ],
   "source": [
    "class Iterable:\n",
    "    def __init__(self, length):\n",
    "        self.length = length\n",
    "    \n",
    "    def __iter__(self):\n",
    "        self.i = -1\n",
    "        return self\n",
    "    \n",
    "    def __next__(self):\n",
    "        self.i += 1\n",
    "        if self.i < self.length:\n",
    "            return self.i\n",
    "        else:\n",
    "            raise StopIteration         # discussed later\n",
    "\n",
    "for i in Iterable(3):\n",
    "    print(i)"
   ]
  },
  {
   "cell_type": "markdown",
   "id": "2fa8fcac",
   "metadata": {},
   "source": [
    "### Context Managers <a class=\"anchor\" id=\"context-managers\"></a>"
   ]
  },
  {
   "cell_type": "markdown",
   "id": "3f0abdb6",
   "metadata": {},
   "source": [
    "A *context manager* is an object that implements `__enter__` and `__exit__` instance methods. It can be used with a `with` statement.\n",
    "\n",
    "At first, `__enter__` is called. If an exception is raised within the `with` block, `__close__` is called. When an exception is raised, `__close__` is passed three arguments related to the exception. In that case, `__close__` should return a `bool`, indicated whether it handled the exception. If `False`, the exception propagates beyond the `with` block. If `True`, execution proceeds beyond the `with` block.\n",
    "\n",
    "If the `with` block ends without an exception raised, `__close__` is called with all three arguments as `None`."
   ]
  },
  {
   "cell_type": "code",
   "execution_count": 481,
   "id": "54a78292",
   "metadata": {},
   "outputs": [],
   "source": [
    "class Thing:\n",
    "    def __enter__(self):\n",
    "        print('Entered.')\n",
    "    \n",
    "    def __exit__(self, cls, obj, traceback):\n",
    "        if cls != None:\n",
    "            print('Exception handled.')\n",
    "        print('Closing')\n",
    "        return True"
   ]
  },
  {
   "cell_type": "code",
   "execution_count": 485,
   "id": "b348c0ca",
   "metadata": {},
   "outputs": [
    {
     "name": "stdout",
     "output_type": "stream",
     "text": [
      "Entered.\n",
      "Inside.\n",
      "Exception handled.\n",
      "Closing\n"
     ]
    }
   ],
   "source": [
    "with Thing():\n",
    "    print('Inside.')\n",
    "    raise Exception('Error occured.')\n",
    "    print('End of with block.')"
   ]
  },
  {
   "cell_type": "code",
   "execution_count": 484,
   "id": "93286ebe",
   "metadata": {},
   "outputs": [
    {
     "name": "stdout",
     "output_type": "stream",
     "text": [
      "Entered.\n",
      "Inside.\n",
      "End of with block.\n",
      "Closing\n"
     ]
    }
   ],
   "source": [
    "with Thing():\n",
    "    print('Inside.')\n",
    "    print('End of with block.')"
   ]
  },
  {
   "cell_type": "markdown",
   "id": "0285528d",
   "metadata": {},
   "source": [
    "When the `as` keyword is used in a `with` statement, a new variable with the identifier given is defined, and assigned the object returned by `__enter__`."
   ]
  },
  {
   "cell_type": "code",
   "execution_count": 492,
   "id": "68e6cb73",
   "metadata": {},
   "outputs": [
    {
     "name": "stdout",
     "output_type": "stream",
     "text": [
      "Hello!\n"
     ]
    }
   ],
   "source": [
    "class Thing:\n",
    "    def say(self):\n",
    "        print('Hello!')\n",
    "    \n",
    "    def __enter__(self):\n",
    "        return self\n",
    "    \n",
    "    def __exit__(self, cls, obj, traceback):\n",
    "        return True\n",
    "\n",
    "with Thing() as thing:\n",
    "    thing.say()"
   ]
  },
  {
   "cell_type": "markdown",
   "id": "7358bc80",
   "metadata": {},
   "source": [
    "### Metaclasses <a class=\"anchor\" id=\"metaclasses\"></a>"
   ]
  },
  {
   "cell_type": "markdown",
   "id": "bd611781",
   "metadata": {},
   "source": [
    "A *metaclass* is a class that creates other classes. When a class is defined, it uses the `type` metaclass by default to create itself. To define a metaclass, a class inherits from the `type` metaclass.\n",
    "\n",
    "Typically, a metaclass will override the `__init__` and `__new__` instance methods. The `__new__` instance method is called before `__init__` and is common to all classes in general. Information about a class implementing a metaclass is passed onto those instance methods by default."
   ]
  },
  {
   "cell_type": "code",
   "execution_count": 304,
   "id": "8f3a60e6",
   "metadata": {},
   "outputs": [],
   "source": [
    "class Checker(type):\n",
    "    def __init__(self, name, bases, dic):\n",
    "        print(name)\n",
    "        print(bases)\n",
    "        print(dic)"
   ]
  },
  {
   "cell_type": "markdown",
   "id": "b17a7780",
   "metadata": {},
   "source": [
    "To implement a metaclass in a class, pass a keyword argument with the key `metaclass` in the class definition."
   ]
  },
  {
   "cell_type": "code",
   "execution_count": 317,
   "id": "26d9c34d",
   "metadata": {},
   "outputs": [
    {
     "name": "stdout",
     "output_type": "stream",
     "text": [
      "Whatever\n",
      "(<class 'object'>,)\n",
      "{'__module__': '__main__', '__qualname__': 'Whatever'}\n"
     ]
    }
   ],
   "source": [
    "class Whatever(object, metaclass=Checker):\n",
    "    pass"
   ]
  },
  {
   "cell_type": "markdown",
   "id": "7f1105d6",
   "metadata": {},
   "source": [
    "*Note:* Metaclasses are used way more than they are implemented. Hence won't be elaborated upon further."
   ]
  },
  {
   "cell_type": "markdown",
   "id": "3f3b14f2",
   "metadata": {},
   "source": [
    "#### Abstract Base Classes <a class=\"anchor\" id=\"abstract-base-classes\"></a>"
   ]
  },
  {
   "cell_type": "markdown",
   "id": "7914c534",
   "metadata": {},
   "source": [
    "An *abstract base class* is a class that inforces the implementation of specific methods and properties by inheriting classes. To define an *ABC*, implement the `ABCMeta` metaclass, defined in the `abc` module."
   ]
  },
  {
   "cell_type": "code",
   "execution_count": 324,
   "id": "b1b17216",
   "metadata": {},
   "outputs": [],
   "source": [
    "from abc import ABCMeta, abstractmethod, abstractproperty\n",
    "\n",
    "class A(metaclass=ABCMeta):\n",
    "    @abstractmethod\n",
    "    def relay(self):\n",
    "        pass"
   ]
  },
  {
   "cell_type": "markdown",
   "id": "4c16dbe3",
   "metadata": {},
   "source": [
    "If class inherits from an ABC, and does not implement an abstract method or property defined, a `TypeError` Exception is raised when attempting to instantiate from this class."
   ]
  },
  {
   "cell_type": "code",
   "execution_count": 326,
   "id": "02cc40df",
   "metadata": {},
   "outputs": [],
   "source": [
    "class B(A):\n",
    "    pass"
   ]
  },
  {
   "cell_type": "code",
   "execution_count": 327,
   "id": "bb2bbb73",
   "metadata": {
    "scrolled": true
   },
   "outputs": [
    {
     "ename": "TypeError",
     "evalue": "Can't instantiate abstract class B with abstract method relay",
     "output_type": "error",
     "traceback": [
      "\u001b[1;31m---------------------------------------------------------------------------\u001b[0m",
      "\u001b[1;31mTypeError\u001b[0m                                 Traceback (most recent call last)",
      "Input \u001b[1;32mIn [327]\u001b[0m, in \u001b[0;36m<cell line: 1>\u001b[1;34m()\u001b[0m\n\u001b[1;32m----> 1\u001b[0m \u001b[43mB\u001b[49m\u001b[43m(\u001b[49m\u001b[43m)\u001b[49m\n",
      "\u001b[1;31mTypeError\u001b[0m: Can't instantiate abstract class B with abstract method relay"
     ]
    }
   ],
   "source": [
    "B()"
   ]
  },
  {
   "cell_type": "markdown",
   "id": "77dafbeb",
   "metadata": {},
   "source": [
    "*Note:* An ABC does not inforce argument type or number of an abstract method."
   ]
  },
  {
   "cell_type": "markdown",
   "id": "dfe35e29",
   "metadata": {},
   "source": [
    "### Class Decorators <a class=\"anchor\" id=\"class-decorators\"></a>"
   ]
  },
  {
   "cell_type": "markdown",
   "id": "a4b1d279",
   "metadata": {},
   "source": [
    "Similar to a function decorator, a *class decorator* accepts a class reference as first argument, and returns a class reference."
   ]
  },
  {
   "cell_type": "code",
   "execution_count": 405,
   "id": "7da20088",
   "metadata": {},
   "outputs": [
    {
     "data": {
      "text/plain": [
       "[__main__.Ball]"
      ]
     },
     "execution_count": 405,
     "metadata": {},
     "output_type": "execute_result"
    }
   ],
   "source": [
    "registry = []\n",
    "\n",
    "def document(cls):\n",
    "    registry.append(cls)\n",
    "    return cls\n",
    "\n",
    "@document\n",
    "class Ball:\n",
    "    pass\n",
    "\n",
    "registry"
   ]
  },
  {
   "cell_type": "markdown",
   "id": "fd83a781",
   "metadata": {},
   "source": [
    "*Note:* A class decorator serves a different use than a function decorator."
   ]
  },
  {
   "cell_type": "markdown",
   "id": "3dd61b11",
   "metadata": {},
   "source": [
    "## Exceptions <a class=\"anchor\" id=\"exceptions\"></a>"
   ]
  },
  {
   "cell_type": "markdown",
   "id": "7f848153",
   "metadata": {},
   "source": [
    "An *exception* is a systematic way of handling errors that may occur within code. When an exception is raised, using the `raise` keyword, it propagates up the stack of function calls upto until it is handled in a `try` and `except` block."
   ]
  },
  {
   "cell_type": "code",
   "execution_count": 443,
   "id": "12abe760",
   "metadata": {},
   "outputs": [
    {
     "name": "stdout",
     "output_type": "stream",
     "text": [
      "Error occured.\n"
     ]
    }
   ],
   "source": [
    "try:\n",
    "    raise Exception('Error occured.')\n",
    "except Exception as e:\n",
    "    print(e)"
   ]
  },
  {
   "cell_type": "markdown",
   "id": "a7659f37",
   "metadata": {},
   "source": [
    "An `else` block executes if no exception was raised inside the `try` block."
   ]
  },
  {
   "cell_type": "code",
   "execution_count": 444,
   "id": "e035963e",
   "metadata": {},
   "outputs": [
    {
     "name": "stdout",
     "output_type": "stream",
     "text": [
      "Successful.\n"
     ]
    }
   ],
   "source": [
    "try:\n",
    "    pass\n",
    "except Exception as e:\n",
    "    print(e)\n",
    "else:\n",
    "    print('Successful.')"
   ]
  },
  {
   "cell_type": "markdown",
   "id": "d9a6fbe4",
   "metadata": {},
   "source": [
    "A `finally` block executes regardless of whether an exception was handled, or no exception was raised."
   ]
  },
  {
   "cell_type": "code",
   "execution_count": 448,
   "id": "4aed827e",
   "metadata": {},
   "outputs": [
    {
     "name": "stdout",
     "output_type": "stream",
     "text": [
      "Error occured.\n",
      "Okay.\n"
     ]
    }
   ],
   "source": [
    "try:\n",
    "    raise Exception('Error occured.')\n",
    "except Exception as e:\n",
    "    print(e)\n",
    "else:\n",
    "    print('Successful.')\n",
    "finally:\n",
    "    print('Okay.')"
   ]
  },
  {
   "cell_type": "code",
   "execution_count": 447,
   "id": "f8eecbe6",
   "metadata": {},
   "outputs": [
    {
     "name": "stdout",
     "output_type": "stream",
     "text": [
      "Successful.\n",
      "Okay.\n"
     ]
    }
   ],
   "source": [
    "try:\n",
    "    pass\n",
    "except Exception as e:\n",
    "    print(e)\n",
    "else:\n",
    "    print('Successful.')\n",
    "finally:\n",
    "    print('Okay.')"
   ]
  },
  {
   "cell_type": "markdown",
   "id": "3c4ccf64",
   "metadata": {},
   "source": [
    "There are many built-in exceptions in Python, and they are hierarchal. They all inherit from the `Exception` class. You may handle different exceptions with multiple `except` blocks."
   ]
  },
  {
   "cell_type": "code",
   "execution_count": 463,
   "id": "e8eba830",
   "metadata": {},
   "outputs": [
    {
     "name": "stdout",
     "output_type": "stream",
     "text": [
      "Specific\n"
     ]
    }
   ],
   "source": [
    "class MyException(Exception):\n",
    "    pass\n",
    "\n",
    "try:\n",
    "    raise MyException('Error.')\n",
    "except MyException as e:\n",
    "    print('Specific.')\n",
    "except Exception as e:\n",
    "    print('Generic.')"
   ]
  },
  {
   "cell_type": "markdown",
   "id": "4ec0dae3",
   "metadata": {},
   "source": [
    "*Note:* The exception specified in an `except` block is tested for an inheritance relationship with the raised exception. Blocks of `except` are executed sequentially, until either a match is found, or an exception is propagated."
   ]
  },
  {
   "cell_type": "markdown",
   "id": "dde71c94",
   "metadata": {},
   "source": [
    "## Modules <a class=\"anchor\" id=\"modules\"></a>"
   ]
  },
  {
   "cell_type": "markdown",
   "id": "41c56aee",
   "metadata": {},
   "source": [
    "A *module* is an encapsulation of some code written in C or Python. A Python source file with a `*.py` extension is considered a module. A module may be imported into another using the `import` keyword."
   ]
  },
  {
   "cell_type": "code",
   "execution_count": 419,
   "id": "42b94c14",
   "metadata": {},
   "outputs": [],
   "source": [
    "import math"
   ]
  },
  {
   "cell_type": "markdown",
   "id": "5a55dd7d",
   "metadata": {},
   "source": [
    "When a module is imported, a new namespace is created to isolate objects defined in the module. The code in the module is then run within the newly created namespace. Lastly, a variable is created with an identifier matching the name of the module, and assigned a reference of the module as an object."
   ]
  },
  {
   "cell_type": "code",
   "execution_count": 420,
   "id": "fb4949a0",
   "metadata": {},
   "outputs": [
    {
     "data": {
      "text/plain": [
       "2.0"
      ]
     },
     "execution_count": 420,
     "metadata": {},
     "output_type": "execute_result"
    }
   ],
   "source": [
    "math.sqrt(4)"
   ]
  },
  {
   "cell_type": "markdown",
   "id": "84bab479",
   "metadata": {},
   "source": [
    "A module may be imported with a custom identifier, specified in the `import` statement using the `as` keyword."
   ]
  },
  {
   "cell_type": "code",
   "execution_count": 431,
   "id": "deac2ea2",
   "metadata": {},
   "outputs": [
    {
     "data": {
      "text/plain": [
       "2.0"
      ]
     },
     "execution_count": 431,
     "metadata": {},
     "output_type": "execute_result"
    }
   ],
   "source": [
    "import math as M\n",
    "M.sqrt(4)"
   ]
  },
  {
   "cell_type": "markdown",
   "id": "33c0d72d",
   "metadata": {},
   "source": [
    "Specific objects from a module may be imported into the *main* namespace, by using the `from` keyword."
   ]
  },
  {
   "cell_type": "code",
   "execution_count": 432,
   "id": "4d4ef498",
   "metadata": {},
   "outputs": [
    {
     "data": {
      "text/plain": [
       "2.0"
      ]
     },
     "execution_count": 432,
     "metadata": {},
     "output_type": "execute_result"
    }
   ],
   "source": [
    "from math import sqrt\n",
    "sqrt(4)"
   ]
  },
  {
   "cell_type": "markdown",
   "id": "3e0abca2",
   "metadata": {},
   "source": [
    "*Note:* The module with the referenced objects is still fully executed."
   ]
  },
  {
   "cell_type": "markdown",
   "id": "8e7b3d00",
   "metadata": {},
   "source": [
    "To import all objects from a module into the main namespace, use `*`."
   ]
  },
  {
   "cell_type": "code",
   "execution_count": 433,
   "id": "42963a89",
   "metadata": {},
   "outputs": [
    {
     "data": {
      "text/plain": [
       "2.0"
      ]
     },
     "execution_count": 433,
     "metadata": {},
     "output_type": "execute_result"
    }
   ],
   "source": [
    "from math import *\n",
    "sqrt(4)"
   ]
  },
  {
   "cell_type": "markdown",
   "id": "4fc49de3",
   "metadata": {},
   "source": [
    "The interpreter searches for modules in specific directories. The `sys` module contains a list of strings, `path`. Each string denotes a search path."
   ]
  },
  {
   "cell_type": "code",
   "execution_count": 435,
   "id": "70766b05",
   "metadata": {},
   "outputs": [
    {
     "data": {
      "text/plain": [
       "['C:\\\\Users\\\\hazem\\\\OneDrive\\\\Desktop',\n",
       " 'C:\\\\Users\\\\hazem\\\\AppData\\\\Local\\\\Programs\\\\Python\\\\Python310\\\\python310.zip',\n",
       " 'C:\\\\Users\\\\hazem\\\\AppData\\\\Local\\\\Programs\\\\Python\\\\Python310\\\\DLLs',\n",
       " 'C:\\\\Users\\\\hazem\\\\AppData\\\\Local\\\\Programs\\\\Python\\\\Python310\\\\lib',\n",
       " 'C:\\\\Users\\\\hazem\\\\AppData\\\\Local\\\\Programs\\\\Python\\\\Python310',\n",
       " '',\n",
       " 'C:\\\\Users\\\\hazem\\\\AppData\\\\Local\\\\Programs\\\\Python\\\\Python310\\\\lib\\\\site-packages',\n",
       " 'C:\\\\Users\\\\hazem\\\\AppData\\\\Local\\\\Programs\\\\Python\\\\Python310\\\\lib\\\\site-packages\\\\win32',\n",
       " 'C:\\\\Users\\\\hazem\\\\AppData\\\\Local\\\\Programs\\\\Python\\\\Python310\\\\lib\\\\site-packages\\\\win32\\\\lib',\n",
       " 'C:\\\\Users\\\\hazem\\\\AppData\\\\Local\\\\Programs\\\\Python\\\\Python310\\\\lib\\\\site-packages\\\\Pythonwin']"
      ]
     },
     "execution_count": 435,
     "metadata": {},
     "output_type": "execute_result"
    }
   ],
   "source": [
    "import sys\n",
    "sys.path"
   ]
  },
  {
   "cell_type": "markdown",
   "id": "918fbc57",
   "metadata": {},
   "source": [
    "*Note:* `''` denotes the local directory, the parent directory of the main module."
   ]
  },
  {
   "cell_type": "markdown",
   "id": "e9090fc4",
   "metadata": {},
   "source": [
    "### Packages <a class=\"anchor\" id=\"packages\"></a>"
   ]
  },
  {
   "cell_type": "markdown",
   "id": "e30a1f1a",
   "metadata": {},
   "source": [
    "A *package* is a directory that contains modules within. A package may be nested within another package."
   ]
  },
  {
   "cell_type": "markdown",
   "id": "77088402",
   "metadata": {},
   "source": [
    "```import package.subpackage.module```"
   ]
  },
  {
   "cell_type": "markdown",
   "id": "2535cc59",
   "metadata": {},
   "source": [
    "When a package is imported, a new namespace is created to isolate objects defined in the package. The code in each module is then run within the isolated namespace of each module. Lastly, a variable is created with an identifier matching the name of the package, and assigned a reference of the package as an object. Subpackages and nested modules may then be accessed through the attribute operator applied on the package reference."
   ]
  },
  {
   "cell_type": "markdown",
   "id": "9ffc06c4",
   "metadata": {},
   "source": [
    "`import package`<br>\n",
    "`package.subpackage.module.object`<br>"
   ]
  },
  {
   "cell_type": "markdown",
   "id": "a86357ab",
   "metadata": {},
   "source": [
    "Specific nested packages, modules or objects within a module may be imported into the main namespace from a package, by using the `from` keyword. The interpreter searches recursively inside the package for the required nested object."
   ]
  },
  {
   "cell_type": "markdown",
   "id": "f4ca135e",
   "metadata": {},
   "source": [
    "`from package import object`"
   ]
  },
  {
   "cell_type": "markdown",
   "id": "b7735829",
   "metadata": {},
   "source": [
    "When the `from` keyword combined with `*` is used with a package, the interpreter does not import all nested objects into the main namespace. Instead, the interpreter looks for a `__init__.py` file directly in the package. Inside this file, a `__all__` list should be defined, each string denoting the name of a nested object to be imported."
   ]
  },
  {
   "cell_type": "markdown",
   "id": "f2991a08",
   "metadata": {},
   "source": [
    "`from package import *`"
   ]
  }
 ],
 "metadata": {
  "kernelspec": {
   "display_name": "Python 3 (ipykernel)",
   "language": "python",
   "name": "python3"
  },
  "language_info": {
   "codemirror_mode": {
    "name": "ipython",
    "version": 3
   },
   "file_extension": ".py",
   "mimetype": "text/x-python",
   "name": "python",
   "nbconvert_exporter": "python",
   "pygments_lexer": "ipython3",
   "version": "3.8.10"
  }
 },
 "nbformat": 4,
 "nbformat_minor": 5
}