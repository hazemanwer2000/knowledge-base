{
 "cells": [
  {
   "cell_type": "markdown",
   "id": "57a5dd54",
   "metadata": {},
   "source": [
    "# A brief summary of the *Cisco* Command-Line Interface *(CLI)*\n",
    "<br>\n",
    "<div style=\"opacity: 0.8; font-family: Consolas, Monaco, Lucida Console, Liberation Mono, DejaVu Sans Mono, Bitstream Vera Sans Mono, Courier New; font-size: 12px; font-style: italic;\">\n",
    "    ────────\n",
    "    for more from the author, visit\n",
    "    <a href=\"https://github.com/hazemanwer2000\">github.com/hazemanwer2000</a>.\n",
    "    ────────\n",
    "</div>"
   ]
  },
  {
   "cell_type": "markdown",
   "id": "d5d19f27",
   "metadata": {},
   "source": [
    "## Table of Contents"
   ]
  },
  {
   "cell_type": "markdown",
   "id": "72ac0b87",
   "metadata": {},
   "source": [
    "Any *Cisco* device provides a command-line interface, as means to query and configure different network parameters within."
   ]
  },
  {
   "cell_type": "markdown",
   "id": "5a1ba2fb",
   "metadata": {},
   "source": [
    "## Mode(s) of operaion"
   ]
  },
  {
   "cell_type": "markdown",
   "id": "0b7f54af",
   "metadata": {},
   "source": [
    "*Cisco* software may exist in a number of modes, each allowing a subset of all possible commands.\n",
    "\n",
    "The figure below shows the possible mode transitions, and the different commands that trigger the respective transition."
   ]
  },
  {
   "cell_type": "markdown",
   "id": "18f470f1",
   "metadata": {},
   "source": [
    "<img src=\"../../.img/network-cisco-modes.png\" width=\"600\" />"
   ]
  },
  {
   "cell_type": "markdown",
   "id": "e52deefa",
   "metadata": {},
   "source": [
    "### *User* Mode"
   ]
  },
  {
   "cell_type": "markdown",
   "id": "332742c2",
   "metadata": {},
   "source": [
    "Initially, upon booting, the software is in *User* mode.\n",
    "\n",
    "In *User* mode, only commands that are non-disruptive to the activity of the device may be executed."
   ]
  },
  {
   "cell_type": "markdown",
   "id": "8b45fbc7",
   "metadata": {},
   "source": [
    "### *Enable* Mode"
   ]
  },
  {
   "cell_type": "markdown",
   "id": "446ba8a1",
   "metadata": {},
   "source": [
    "In *Enable* mode, a superset of the commands available in *User* mode may be executed, enabling commands that may be disruptive to the activity of the device."
   ]
  },
  {
   "cell_type": "markdown",
   "id": "feac6846",
   "metadata": {},
   "source": [
    "### *Configuration* Mode"
   ]
  },
  {
   "cell_type": "markdown",
   "id": "4d4f1ea6",
   "metadata": {},
   "source": [
    "In *Configuration* mode, only commands that alter the configuration of the device may be executed.\n",
    "\n",
    "Within *Configuration* mode are *sub-mode(s)* that may be transitioned to, each through a specific command, and transitioned out of, through the `exit` command.\n",
    "\n",
    "*Configuration* mode exposes commands that alter the configuration of the device in general, while *Configuration* *sub-mode(s)* expose commands that alter the configuration of a specific aspect of the device."
   ]
  }
 ],
 "metadata": {
  "kernelspec": {
   "display_name": "Python 3 (ipykernel)",
   "language": "python",
   "name": "python3"
  },
  "language_info": {
   "codemirror_mode": {
    "name": "ipython",
    "version": 3
   },
   "file_extension": ".py",
   "mimetype": "text/x-python",
   "name": "python",
   "nbconvert_exporter": "python",
   "pygments_lexer": "ipython3",
   "version": "3.8.10"
  }
 },
 "nbformat": 4,
 "nbformat_minor": 5
}
