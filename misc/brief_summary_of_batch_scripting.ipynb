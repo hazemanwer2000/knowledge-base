{
 "cells": [
  {
   "cell_type": "markdown",
   "id": "57a5dd54",
   "metadata": {},
   "source": [
    "# A brief summary of *Batch* Scripting\n",
    "<br>\n",
    "<div style=\"opacity: 0.8; font-family: Consolas, Monaco, Lucida Console, Liberation Mono, DejaVu Sans Mono, Bitstream Vera Sans Mono, Courier New; font-size: 12px; font-style: italic;\">\n",
    "    ────────\n",
    "    for more from the author, visit\n",
    "    <a href=\"https://github.com/hazemanwer2000\">github.com/hazemanwer2000</a>.\n",
    "    ────────\n",
    "</div>"
   ]
  },
  {
   "cell_type": "markdown",
   "id": "d5d19f27",
   "metadata": {},
   "source": [
    "## Table of Contents\n",
    "* [](#)\n",
    "\n",
    "<hr>"
   ]
  },
  {
   "cell_type": "markdown",
   "id": "9637932a",
   "metadata": {},
   "source": [
    "A *batch script* is interpreted and executed by a `cmd.exe` executable, the default command-line interpreter on Windows OS.\n",
    "\n",
    "Running `cmd /c SCRIPT-PATH`, the interpreter executes the script and terminates itself.\n",
    "\n",
    "Running `cmd /k SCRIPT-PATH`, the interpreter executes the script and then, remains running."
   ]
  },
  {
   "cell_type": "markdown",
   "id": "ebee45ea",
   "metadata": {},
   "source": [
    "*Note:* Typing `SCRIPT-PATH` in an already running interpreter simply *sources* the commands within the batch script (i.e, executes each command as if it was typed)."
   ]
  },
  {
   "cell_type": "markdown",
   "id": "5a1ba2fb",
   "metadata": {},
   "source": [
    "## Basic Syntax"
   ]
  },
  {
   "cell_type": "markdown",
   "id": "4e4acc23",
   "metadata": {},
   "source": [
    "Usually, a batch script begins with the line:"
   ]
  },
  {
   "cell_type": "code",
   "execution_count": null,
   "id": "e9f29ac6",
   "metadata": {
    "vscode": {
     "languageId": "plaintext"
    }
   },
   "outputs": [],
   "source": [
    "@ECHO off"
   ]
  },
  {
   "cell_type": "markdown",
   "id": "1409526b",
   "metadata": {},
   "source": [
    "By default, echo'ing of commands in a batch script is enabled. To disable it, the built-in command `ECHO` is passed `off` as an argument. This disables echo'ing for all forth-coming commands, except for the `ECHO off` command itself.\n",
    "\n",
    "To disable echo'ing for a single command, prepend the character `@` to it."
   ]
  },
  {
   "cell_type": "markdown",
   "id": "db28d3b7",
   "metadata": {},
   "source": [
    "### Comments"
   ]
  },
  {
   "cell_type": "markdown",
   "id": "caafcfa9",
   "metadata": {},
   "source": [
    "To comment in a batch script, begin a line with the built-in command `REM`."
   ]
  },
  {
   "cell_type": "code",
   "execution_count": null,
   "id": "e29704d3",
   "metadata": {
    "vscode": {
     "languageId": "plaintext"
    }
   },
   "outputs": [],
   "source": [
    "REM This is a comment."
   ]
  },
  {
   "cell_type": "markdown",
   "id": "6984237a",
   "metadata": {},
   "source": [
    "### Variables"
   ]
  },
  {
   "cell_type": "markdown",
   "id": "0f056ebf",
   "metadata": {},
   "source": [
    "To set a variable,"
   ]
  },
  {
   "cell_type": "code",
   "execution_count": null,
   "id": "93caa0d6",
   "metadata": {
    "vscode": {
     "languageId": "plaintext"
    }
   },
   "outputs": [],
   "source": [
    "REM Assign a value to a variable.\n",
    "SET VARIABLE-NAME=VALUE\n",
    "\n",
    "REM Assign a variable to another variable.\n",
    "SET VARIABLE-NAME=%VARIABLE-NAME%\n",
    "\n",
    "REM Empty (i.e, delete) a variable.\n",
    "SET VARIABLE-NAME=\n",
    "\n",
    "REM Assign a numerical value to a variable.\n",
    "SET /A VARIABLE-NAME = NUMERICAL-VALUE\n",
    "\n",
    "REM Assign the result of a mathematical expression to a variable.\n",
    "SET /A VARIABLE-NAME = %VARIABLE-NAME% + %VARIABLE-NAME%"
   ]
  },
  {
   "cell_type": "markdown",
   "id": "43c6eb28",
   "metadata": {},
   "source": [
    "*Note:* Variables set within a batch script are not accessible by the executing interpreter, thereafter."
   ]
  },
  {
   "cell_type": "markdown",
   "id": "77a097a2",
   "metadata": {},
   "source": [
    "To use a variable thereafter, surround its name with `%`."
   ]
  },
  {
   "cell_type": "code",
   "execution_count": null,
   "id": "5d71f705",
   "metadata": {
    "vscode": {
     "languageId": "plaintext"
    }
   },
   "outputs": [],
   "source": [
    "REM Prints (i.e, echos) the value of the variable 'VARIABLE-NAME'.\n",
    "ECHO %VARIABLE-NAME%"
   ]
  },
  {
   "cell_type": "markdown",
   "id": "9b1ce7b9",
   "metadata": {},
   "source": [
    "#### Local Variables"
   ]
  },
  {
   "cell_type": "markdown",
   "id": "e4bbbfee",
   "metadata": {},
   "source": [
    "A *local variable* is a variable more limited in scope, set between the `SETLOCAL` and `ENDLOCAL` commands."
   ]
  },
  {
   "cell_type": "code",
   "execution_count": null,
   "id": "7f56cc89",
   "metadata": {
    "vscode": {
     "languageId": "plaintext"
    }
   },
   "outputs": [],
   "source": [
    "SET \\A X = 0\n",
    "\n",
    "SETLOCAL\n",
    "SET \\A X = 1\n",
    "ENDLOCAL\n",
    "\n",
    "REM Prints '0'.\n",
    "ECHO %X%"
   ]
  }
 ],
 "metadata": {
  "kernelspec": {
   "display_name": "Python 3 (ipykernel)",
   "language": "python",
   "name": "python3"
  },
  "language_info": {
   "codemirror_mode": {
    "name": "ipython",
    "version": 3
   },
   "file_extension": ".py",
   "mimetype": "text/x-python",
   "name": "python",
   "nbconvert_exporter": "python",
   "pygments_lexer": "ipython3",
   "version": "3.8.10"
  }
 },
 "nbformat": 4,
 "nbformat_minor": 5
}
