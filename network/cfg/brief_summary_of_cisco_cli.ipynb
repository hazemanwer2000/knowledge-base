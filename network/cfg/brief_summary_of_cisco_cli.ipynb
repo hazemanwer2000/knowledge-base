{
 "cells": [
  {
   "cell_type": "markdown",
   "id": "57a5dd54",
   "metadata": {},
   "source": [
    "# A brief summary of the *Cisco* Command-Line Interface *(CLI)*\n",
    "<br>\n",
    "<div style=\"opacity: 0.8; font-family: Consolas, Monaco, Lucida Console, Liberation Mono, DejaVu Sans Mono, Bitstream Vera Sans Mono, Courier New; font-size: 12px; font-style: italic;\">\n",
    "    ────────\n",
    "    for more from the author, visit\n",
    "    <a href=\"https://github.com/hazemanwer2000\">github.com/hazemanwer2000</a>.\n",
    "    ────────\n",
    "</div>"
   ]
  },
  {
   "cell_type": "markdown",
   "id": "d5d19f27",
   "metadata": {},
   "source": [
    "## Table of Contents\n",
    "* [Mode(s) of operaion](#mode-s-of-operaion)\n",
    "  * [*User* Mode](#user-mode)\n",
    "  * [*Enable* Mode](#enable-mode)\n",
    "  * [*Configuration* Mode](#configuration-mode)\n",
    "* [Help Feature(s)](#help-feature-s)\n",
    "* [Command(s)](#command-s)\n",
    "  * [General Command(s)](#general-command-s)\n",
    "  * [Mode-transition Command(s)](#mode-transition-command-s)\n",
    "  * [`config`-related Command(s)](#config-related-command-s)\n"
   ]
  },
  {
   "cell_type": "markdown",
   "id": "72ac0b87",
   "metadata": {},
   "source": [
    "Any *Cisco* device provides a command-line interface, as means to query and configure different network parameters within."
   ]
  },
  {
   "cell_type": "markdown",
   "id": "5a1ba2fb",
   "metadata": {},
   "source": [
    "## Mode(s) of operaion <a class=\"anchor\" id=\"mode-s-of-operaion\"></a>"
   ]
  },
  {
   "cell_type": "markdown",
   "id": "0b7f54af",
   "metadata": {},
   "source": [
    "*Cisco* software may exist in a number of modes, each allowing a subset of all possible commands.\n",
    "\n",
    "The figure below shows the possible mode transitions, and the different commands that trigger the respective transition."
   ]
  },
  {
   "cell_type": "markdown",
   "id": "18f470f1",
   "metadata": {},
   "source": [
    "<img src=\"../../.img/network-cisco-modes.png\" width=\"600\" />"
   ]
  },
  {
   "cell_type": "markdown",
   "id": "e52deefa",
   "metadata": {},
   "source": [
    "### *User* Mode <a class=\"anchor\" id=\"user-mode\"></a>"
   ]
  },
  {
   "cell_type": "markdown",
   "id": "332742c2",
   "metadata": {},
   "source": [
    "Initially, upon booting, the software is in *User* mode.\n",
    "\n",
    "In *User* mode, only commands that are non-disruptive to the activity of the device may be executed."
   ]
  },
  {
   "cell_type": "markdown",
   "id": "8b45fbc7",
   "metadata": {},
   "source": [
    "### *Enable* Mode <a class=\"anchor\" id=\"enable-mode\"></a>"
   ]
  },
  {
   "cell_type": "markdown",
   "id": "446ba8a1",
   "metadata": {},
   "source": [
    "In *Enable* mode, a superset of the commands available in *User* mode may be executed, enabling commands that may be disruptive to the activity of the device.\n",
    "\n",
    "*Note:* This superset of commands is usually referred to as *EXEC* commands."
   ]
  },
  {
   "cell_type": "markdown",
   "id": "feac6846",
   "metadata": {},
   "source": [
    "### *Configuration* Mode <a class=\"anchor\" id=\"configuration-mode\"></a>"
   ]
  },
  {
   "cell_type": "markdown",
   "id": "4d4f1ea6",
   "metadata": {},
   "source": [
    "In *Configuration* mode, only commands that alter the configuration of the device may be executed.\n",
    "\n",
    "Within *Configuration* mode are *sub-mode(s)* that may be transitioned to, each through a specific command, and transitioned out of, through the `exit` command.\n",
    "\n",
    "*Configuration* mode exposes commands that alter the configuration of the device in general, while *Configuration* *sub-mode(s)* expose commands that alter the configuration of a specific aspect of the device."
   ]
  },
  {
   "cell_type": "markdown",
   "id": "ceb202c3",
   "metadata": {},
   "source": [
    "## Help Feature(s) <a class=\"anchor\" id=\"help-feature-s\"></a>"
   ]
  },
  {
   "cell_type": "markdown",
   "id": "d356d1dc",
   "metadata": {},
   "source": [
    "*Cisco* software provides some help features at the prompt."
   ]
  },
  {
   "cell_type": "markdown",
   "id": "e5159ce3",
   "metadata": {},
   "source": [
    "| *Syntax* | *Description* |\n",
    "| :--- | :--- |\n",
    "| `?` | Lists all commands that may be executed in the current mode. |\n",
    "| `command?` | Lists all commands that may be executed in the current mode, that begin with `command`. |\n",
    "| ㅤ | |\n",
    "| `command ?` | Lists all *first* parameters that may be given to `command`. |\n",
    "| `command param?` | Lists all *first* parameters that may be given to `command`, that begin with `param`. |"
   ]
  },
  {
   "cell_type": "markdown",
   "id": "c2d18e60",
   "metadata": {},
   "source": [
    "## Command(s) <a class=\"anchor\" id=\"command-s\"></a>"
   ]
  },
  {
   "cell_type": "markdown",
   "id": "8484b8b9",
   "metadata": {},
   "source": [
    "### General Command(s) <a class=\"anchor\" id=\"general-command-s\"></a>"
   ]
  },
  {
   "cell_type": "markdown",
   "id": "ac4d26b6",
   "metadata": {},
   "source": [
    "| *Command* | *Mode(s)* | *Description* |\n",
    "| :--- | :--- | :--- |\n",
    "| `reload` | *Enable* | Reboot the device."
   ]
  },
  {
   "cell_type": "markdown",
   "id": "beb8fcb5",
   "metadata": {},
   "source": [
    "#### Mode-transition Command(s) <a class=\"anchor\" id=\"mode-transition-command-s\"></a>"
   ]
  },
  {
   "cell_type": "markdown",
   "id": "7592f58e",
   "metadata": {},
   "source": [
    "Some command(s) trigger the transition from one mode to another."
   ]
  },
  {
   "cell_type": "markdown",
   "id": "7d1be877",
   "metadata": {},
   "source": [
    "| *Command* | *Mode(s)* | *Description* |\n",
    "| :--- | :---: | :--- |\n",
    "| `enable` | *User* | Transition from `User` to `Enable` mode.\n",
    "| `disable` | *Enable* | Transition from `Enable` to `User` mode.\n",
    "| ㅤ | |\n",
    "| `configure terminal` | *Enable* | Transition from `Enable` to `Configuration` mode.\n",
    "| ㅤ | |\n",
    "| `line console\\|vty (START) END` | *Configuration* | Transition from `Configuration` to `Configuration-line` mode, <br> used to configure a range of console (i.e, wired), or *telnet* *CLI* *lines* (i.e, connections).\n",
    "| ㅤ | |\n",
    "| `exit` | *Configuration-SUB-MODE* | Transition from `Configuration-SUB-MODE` to `Configuration` mode.\n",
    "| `end` | *Configuration* | Transition from `Configuration` to `Enable` mode."
   ]
  },
  {
   "cell_type": "markdown",
   "id": "42fee178",
   "metadata": {},
   "source": [
    "#### `config`-related Command(s) <a class=\"anchor\" id=\"config-related-command-s\"></a>"
   ]
  },
  {
   "cell_type": "markdown",
   "id": "c3f5cf4c",
   "metadata": {},
   "source": [
    "Upon booting, the stored configuration in non-volatile memory, called `startup-config`, is loaded into volatile memory, called `running-config`.\n",
    "\n",
    "*Cisco* software always utilizes `running-config` while running. Configuration commands affect `running-config`."
   ]
  },
  {
   "cell_type": "markdown",
   "id": "fe5ead5b",
   "metadata": {},
   "source": [
    "*Note:* When first setuping up a *Cisco* device, `startup-config` is empty, and all relevant paramaters assume a default value. When a parameter is configured, it overrides this default value."
   ]
  },
  {
   "cell_type": "markdown",
   "id": "84a2a5f2",
   "metadata": {},
   "source": [
    "| *Command* | *Mode(s)* | *Description* |\n",
    "| :--- | :---: | :--- |\n",
    "| `show running-config\\|startup-config` | *Enable* | Lists the contents of the `running-config` or `startup-config`.\n",
    "| `copy running-config startup-config` | *Enable* | Copy `running-config` to `startup-config`.\n",
    "| `erase startup-config` | *Enable* | Erase `startup-config`.\n",
    "| ㅤ | |\n",
    "| `hostname NAME` | *Configuration* | Set *CLI* prompt name.\n",
    "| `service password-encryption` | *Configuration* | Enable encryption for all *shared* *line* passwords (see below).\n",
    "| `username USERNAME secret PASSWORD` | *Configuration* | Add a username, with an associated password.\n",
    "| `no username USERNAME` | *Configuration* | Remove a username, and its associated password.\n",
    "| `enable secret PASSWORD` | *Configuration* | Set password, to be able to transition to *Enable* mode.\n",
    "| ㅤ | |\n",
    "| `password PASSWORD` | *Configuration-line* | Set a *shared* (i.e, no username required) password, <br> to be able to connect via the respective line.\n",
    "| `login` | *Configuration-line* | Enable the requiring of the set *shared* password at login.\n",
    "| `login local` | *Configuration-line* | Enable the requiring of a username and password at login.\n",
    "| `no login` | *Configuration-line* | Disable the requiring of any password at login."
   ]
  },
  {
   "cell_type": "markdown",
   "id": "a9bb4142",
   "metadata": {},
   "source": [
    "### *Switch*-specific Command(s)"
   ]
  },
  {
   "cell_type": "markdown",
   "id": "84d66733",
   "metadata": {},
   "source": [
    "*Cisco* software, for each *MAC* address in its *MAC* address table, lists\n",
    "* its type (e.g: *static*, *dynamic*), \n",
    "* the *Virtual LAN (vlan)* it belongs to, and \n",
    "* the physical interface it is reachable through (e.g: *Fa0/1*, *Gi0/2*, etc).\n",
    "\n",
    "Also, for each *interface* in its interface table, *Cisco* software lists\n",
    "* its status (i.e, (un)connected),\n",
    "* *vlan* it is connected to,\n",
    "* its *speed* (e.g: `auto`, `10`, `100`, `1000`),\n",
    "* and its *duplex* mode (i.e: `auto`, `half`, `full`)."
   ]
  },
  {
   "cell_type": "markdown",
   "id": "e3d8b82e",
   "metadata": {},
   "source": [
    "| *Command* | *Mode(s)* | *Description* |\n",
    "| :--- | :---: | :--- |\n",
    "| `show mac address-table (dynamic\\|static)` | *User* | Lists the *MAC* address table. \n",
    "| `show mac address-table (dynamic\\|static) address MAC-ADDRESS` | *User* | Filters the *MAC* address table, by *MAC* address.\n",
    "| `show mac address-table (dynamic\\|static) vlan VLAN-NUMBER` | *User* | Filters the *MAC* address table, by *vlan*.\n",
    "| `show mac address-table (dynamic\\|static) interface INTERFACE` | *User* | Filters the *MAC* address table, by physical interface.\n",
    "| ㅤ | |\n",
    "| `show mac address-table aging-time` | *User* | Lists the configured global and per-*vlan* *aging time*, in seconds.\n",
    "| `mac-address-table aging-time SECONDS (vlan VLAN)` | *Configuration* | Sets the global and per-*vlan* *aging time*, in seconds.\n",
    "| ㅤ | |\n",
    "| `show interfaces status` | *User* | Lists information about all the physical interface(s).\n",
    "| `show interfaces INTERFACE` | *User* | Lists detailed information about a particular physical interface.\n",
    "| ㅤ | |\n",
    "| `interface INTERFACE` | *Configuration* | Transition from `Configuration` to `Configuration-if` mode, <br> used to configure settings for a particular physical interface.\n",
    "| `interface range INTERFACE - MAXIMUM` <br> (e.g: `interface range gi0/1 - 3`) | *Configuration* | Transition from `Configuration` to `Configuration-if-range` mode, <br> used to configure settings for a range of physical interfaces.\n",
    "| `(no) shutdown` | *Configuration-if(-range)* | Enables/disables the corresponding physical interface.\n",
    "| `speed SPEED` | *Configuration-if(-range)* | Sets the speed for the corresponding physical interface.\n",
    "| `duplex MODE` | *Configuration-if(-range)* | Sets the duplex mode for the corresponding physical interface.\n",
    "| `description NAME` | *Configuration-if(-range)* | Sets a short description for the corresponding physical interface."
   ]
  },
  {
   "cell_type": "markdown",
   "id": "d0e9465c",
   "metadata": {},
   "source": []
  }
 ],
 "metadata": {
  "kernelspec": {
   "display_name": "Python 3 (ipykernel)",
   "language": "python",
   "name": "python3"
  },
  "language_info": {
   "codemirror_mode": {
    "name": "ipython",
    "version": 3
   },
   "file_extension": ".py",
   "mimetype": "text/x-python",
   "name": "python",
   "nbconvert_exporter": "python",
   "pygments_lexer": "ipython3",
   "version": "3.8.10"
  }
 },
 "nbformat": 4,
 "nbformat_minor": 5
}
