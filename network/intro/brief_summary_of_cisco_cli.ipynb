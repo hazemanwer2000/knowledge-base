{
 "cells": [
  {
   "cell_type": "markdown",
   "id": "57a5dd54",
   "metadata": {},
   "source": [
    "# A brief summary of the *Cisco* Command-Line Interface *(CLI)*\n",
    "<br>\n",
    "<div style=\"opacity: 0.8; font-family: Consolas, Monaco, Lucida Console, Liberation Mono, DejaVu Sans Mono, Bitstream Vera Sans Mono, Courier New; font-size: 12px; font-style: italic;\">\n",
    "    \u2500\u2500\u2500\u2500\u2500\u2500\u2500\u2500\n",
    "    for more from the author, visit\n",
    "    <a href=\"https://github.com/hazemanwer2000\">github.com/hazemanwer2000</a>.\n",
    "    \u2500\u2500\u2500\u2500\u2500\u2500\u2500\u2500\n",
    "</div>"
   ]
  },
  {
   "cell_type": "markdown",
   "id": "d5d19f27",
   "metadata": {},
   "source": [
    "## Table of Contents\n",
    "* [Mode(s) of operaion](#mode-s-of-operaion)\n",
    "  * [*User* Mode](#user-mode)\n",
    "  * [*Enable* Mode](#enable-mode)\n",
    "  * [*Configuration* Mode](#configuration-mode)\n",
    "* [Help Feature(s)](#help-feature-s)\n",
    "* [Command(s)](#command-s)\n",
    "  * [General Command(s)](#general-command-s)\n",
    "    * [Mode-transition Command(s)](#mode-transition-command-s)\n",
    "    * [`config`-related Command(s)](#config-related-command-s)\n",
    "  * [*Switch*-specific Command(s)](#switch-specific-command-s)\n",
    "  * [*Router*-specific Command(s)](#router-specific-command-s)\n",
    "  * [*Layer-3 Switch* specific Command(s)](#layer-3-switch-specific-command-s)\n"
   ]
  },
  {
   "cell_type": "markdown",
   "id": "72ac0b87",
   "metadata": {},
   "source": [
    "Any *Cisco* device provides a command-line interface, as means to query and configure different network parameters within."
   ]
  },
  {
   "cell_type": "markdown",
   "id": "5a1ba2fb",
   "metadata": {},
   "source": [
    "## Mode(s) of operaion <a class=\"anchor\" id=\"mode-s-of-operaion\"></a>"
   ]
  },
  {
   "cell_type": "markdown",
   "id": "0b7f54af",
   "metadata": {},
   "source": [
    "*Cisco* software may exist in a number of modes, each allowing a subset of all possible commands.\n",
    "\n",
    "The figure below shows the possible mode transitions, and the different commands that trigger the respective transition."
   ]
  },
  {
   "cell_type": "markdown",
   "id": "18f470f1",
   "metadata": {},
   "source": [
    "<img src=\"../../.img/network-cisco-modes.png\" width=\"600\" />"
   ]
  },
  {
   "cell_type": "markdown",
   "id": "e52deefa",
   "metadata": {},
   "source": [
    "### *User* Mode <a class=\"anchor\" id=\"user-mode\"></a>"
   ]
  },
  {
   "cell_type": "markdown",
   "id": "332742c2",
   "metadata": {},
   "source": [
    "Initially, upon booting, the software is in *User* mode.\n",
    "\n",
    "In *User* mode, only commands that are non-disruptive to the activity of the device may be executed."
   ]
  },
  {
   "cell_type": "markdown",
   "id": "8b45fbc7",
   "metadata": {},
   "source": [
    "### *Enable* Mode <a class=\"anchor\" id=\"enable-mode\"></a>"
   ]
  },
  {
   "cell_type": "markdown",
   "id": "446ba8a1",
   "metadata": {},
   "source": [
    "In *Enable* mode, a superset of the commands available in *User* mode may be executed, enabling commands that may be disruptive to the activity of the device.\n",
    "\n",
    "*Note:* This superset of commands is usually referred to as *EXEC* commands."
   ]
  },
  {
   "cell_type": "markdown",
   "id": "feac6846",
   "metadata": {},
   "source": [
    "### *Configuration* Mode <a class=\"anchor\" id=\"configuration-mode\"></a>"
   ]
  },
  {
   "cell_type": "markdown",
   "id": "4d4f1ea6",
   "metadata": {},
   "source": [
    "In *Configuration* mode, only commands that alter the configuration of the device may be executed.\n",
    "\n",
    "Within *Configuration* mode are *sub-mode(s)* that may be transitioned to, each through a specific command, and transitioned out of, through the `exit` command.\n",
    "\n",
    "*Configuration* mode exposes commands that alter the configuration of the device in general, while *Configuration* *sub-mode(s)* expose commands that alter the configuration of a specific aspect of the device."
   ]
  },
  {
   "cell_type": "markdown",
   "id": "ceb202c3",
   "metadata": {},
   "source": [
    "## Help Feature(s) <a class=\"anchor\" id=\"help-feature-s\"></a>"
   ]
  },
  {
   "cell_type": "markdown",
   "id": "d356d1dc",
   "metadata": {},
   "source": [
    "*Cisco* software provides some help features at the prompt."
   ]
  },
  {
   "cell_type": "markdown",
   "id": "e5159ce3",
   "metadata": {},
   "source": [
    "| *Syntax* | *Description* |\n",
    "| :--- | :--- |\n",
    "| `?` | Lists all commands that may be executed in the current mode. |\n",
    "| `command?` | Lists all commands that may be executed in the current mode, that begin with `command`. |\n",
    "| \u3164 | |\n",
    "| `command ?` | Lists all *first* parameters that may be given to `command`. |\n",
    "| `command param?` | Lists all *first* parameters that may be given to `command`, that begin with `param`. |"
   ]
  },
  {
   "cell_type": "markdown",
   "id": "c2d18e60",
   "metadata": {},
   "source": [
    "## Command(s) <a class=\"anchor\" id=\"command-s\"></a>"
   ]
  },
  {
   "cell_type": "markdown",
   "id": "8484b8b9",
   "metadata": {},
   "source": [
    "### General Command(s) <a class=\"anchor\" id=\"general-command-s\"></a>"
   ]
  },
  {
   "cell_type": "markdown",
   "id": "ac4d26b6",
   "metadata": {},
   "source": [
    "| *Command* | *Mode(s)* | *Description* |\n",
    "| :--- | :--- | :--- |\n",
    "| `reload` | *Enable* | Reboot the device."
   ]
  },
  {
   "cell_type": "markdown",
   "id": "beb8fcb5",
   "metadata": {},
   "source": [
    "#### Mode-transition Command(s) <a class=\"anchor\" id=\"mode-transition-command-s\"></a>"
   ]
  },
  {
   "cell_type": "markdown",
   "id": "7592f58e",
   "metadata": {},
   "source": [
    "Some command(s) trigger the transition from one mode to another."
   ]
  },
  {
   "cell_type": "markdown",
   "id": "7d1be877",
   "metadata": {},
   "source": [
    "| *Command* | *Mode(s)* | *Description* |\n",
    "| :--- | :---: | :--- |\n",
    "| `enable` | *User* | Transition from `User` to `Enable` mode.\n",
    "| `disable` | *Enable* | Transition from `Enable` to `User` mode.\n",
    "| \u3164 | |\n",
    "| `configure terminal` | *Enable* | Transition from `Enable` to `Configuration` mode.\n",
    "| \u3164 | |\n",
    "| `line console\\|vty (START) END` | *Configuration* | Transition from `Configuration` to `Configuration-line` mode, <br> used to configure a range of console (i.e, wired), or *telnet* *CLI* *lines* (i.e, connections).\n",
    "| \u3164 | |\n",
    "| `exit` | *Configuration-SUB-MODE* | Transition from `Configuration-SUB-MODE` to `Configuration` mode.\n",
    "| `end` | *Configuration* | Transition from `Configuration` to `Enable` mode."
   ]
  },
  {
   "cell_type": "markdown",
   "id": "42fee178",
   "metadata": {},
   "source": [
    "#### `config`-related Command(s) <a class=\"anchor\" id=\"config-related-command-s\"></a>"
   ]
  },
  {
   "cell_type": "markdown",
   "id": "c3f5cf4c",
   "metadata": {},
   "source": [
    "Upon booting, the stored configuration in non-volatile memory, called `startup-config`, is loaded into volatile memory, called `running-config`.\n",
    "\n",
    "*Cisco* software always utilizes `running-config` while running. Configuration commands affect `running-config`."
   ]
  },
  {
   "cell_type": "markdown",
   "id": "fe5ead5b",
   "metadata": {},
   "source": [
    "*Note:* When first setuping up a *Cisco* device, `startup-config` is empty, and all relevant paramaters assume a default value. When a parameter is configured, it overrides this default value."
   ]
  },
  {
   "cell_type": "markdown",
   "id": "84a2a5f2",
   "metadata": {},
   "source": [
    "| *Command* | *Mode(s)* | *Description* |\n",
    "| :--- | :---: | :--- |\n",
    "| `show running-config\\|startup-config` | *Enable* | Lists the contents of the `running-config` or `startup-config`.\n",
    "| `copy running-config startup-config` | *Enable* | Copy `running-config` to `startup-config`.\n",
    "| `erase startup-config` | *Enable* | Erase `startup-config`.\n",
    "| \u3164 | |\n",
    "| `hostname NAME` | *Configuration* | Set *CLI* prompt name.\n",
    "| `service password-encryption` | *Configuration* | Enable encryption for all *shared* *line* passwords (see below).\n",
    "| `username USERNAME secret PASSWORD` | *Configuration* | Add a username, with an associated password.\n",
    "| `no username USERNAME` | *Configuration* | Remove a username, and its associated password.\n",
    "| `enable secret PASSWORD` | *Configuration* | Set password, to be able to transition to *Enable* mode.\n",
    "| \u3164 | |\n",
    "| `transport input none` | *Configuration-line* | Prohibit connecting to the *CLI* via the respective *telnet* line.\n",
    "| `transport input telnet` | *Configuration-line* | Allow connecting to the *CLI* via the respective *telnet* line.\n",
    "| `password PASSWORD` | *Configuration-line* | Set a *shared* (i.e, no username required) password, <br> to be able to connect via the respective line.\n",
    "| `login` | *Configuration-line* | Enable the requiring of the set *shared* password at login.\n",
    "| `login local` | *Configuration-line* | Enable the requiring of a username and password at login.\n",
    "| `no login` | *Configuration-line* | Disable the requiring of any password at login."
   ]
  },
  {
   "cell_type": "markdown",
   "id": "a9bb4142",
   "metadata": {},
   "source": [
    "### *Switch*-specific Command(s) <a class=\"anchor\" id=\"switch-specific-command-s\"></a>"
   ]
  },
  {
   "cell_type": "markdown",
   "id": "84d66733",
   "metadata": {},
   "source": [
    "*Cisco* software, for each *MAC* address in its *MAC* address table, lists\n",
    "* its type (e.g: *static*, *dynamic*), \n",
    "* the *Virtual LAN (vlan)* it belongs to, and \n",
    "* the physical interface it is reachable through (e.g: *Fa0/1*, *Gi0/2*, etc).\n",
    "\n",
    "Also, for each *interface* in its interface table, *Cisco* software lists\n",
    "* its status (i.e, (un)connected, or disabled),\n",
    "* *vlan* it is connected to (e.g: `1`, `2`, ..., `trunk`),\n",
    "* its *speed* (e.g: `auto`, `10`, `100`, `1000`),\n",
    "* and its *duplex* mode (i.e: `auto`, `half`, `full`)."
   ]
  },
  {
   "cell_type": "markdown",
   "id": "e3d8b82e",
   "metadata": {},
   "source": [
    "| *Command* | *Mode(s)* | *Description* |\n",
    "| :--- | :---: | :--- |\n",
    "| `show mac address-table (dynamic\\|static)` | *User* | Lists the *MAC* address table. \n",
    "| `show mac address-table (dynamic\\|static) address MAC-ADDRESS` | *User* | Filters the *MAC* address table, by *MAC* address.\n",
    "| `show mac address-table (dynamic\\|static) vlan VLAN-NUMBER` | *User* | Filters the *MAC* address table, by *vlan*.\n",
    "| `show mac address-table (dynamic\\|static) interface INTERFACE` | *User* | Filters the *MAC* address table, by physical interface.\n",
    "| \u3164 | |\n",
    "| `show mac address-table aging-time` | *User* | Lists the configured global and per-*vlan* *aging time*, in seconds.\n",
    "| \u3164 | |\n",
    "| `show interfaces status` | *User* | Lists information about all the physical interface(s).\n",
    "| `show interfaces INTERFACE` | *User* | Lists detailed information about a particular physical interface.\n",
    "| \u3164 | |\n",
    "| `show vlan brief` | *User* | Lists information about all the configured *vlan*(s) (i.e, associated interface(s)).\n",
    "| \u3164 | |\n",
    "| `show spanning-tree vlan VLAN` | *User* | Lists information about the spanning tree for a particular *vlan* <br> (e.g: the *root BID*, its own *BID*, *role* and *state* of each port).\n",
    "| \u3164 | |\n",
    "| `show etherchannel summary` | *User* | Lists information about configured *port-channel(s)*, including aggregated ports.\n",
    "| \u3164 | |\n",
    "| `clear mac-address-table (dynamic\\|static) (interface INTERFACE)` | *Enable* | Removes all (static, or dynamic) entries from the *MAC* address table <br> (for the specified interface).\n",
    "| \u3164 | |\n",
    "| `(no) mac-address-table static MAC-ADDRESS vlan VLAN interface INTERFACE` | *Configuration* | Adds/removes a static *MAC* address table entry.\n",
    "| \u3164 | |\n",
    "| `mac-address-table aging-time SECONDS (vlan VLAN)` | *Configuration* | Sets the global and per-*vlan* *aging time*, in seconds.\n",
    "| \u3164 | |\n",
    "| `interface INTERFACE` | *Configuration* | Transition from `Configuration` to `Configuration-if` mode, <br> used to configure settings for a particular physical interface.\n",
    "| `interface range INTERFACE - MAXIMUM` <br> (e.g: `interface range gi0/1 - 3`) | *Configuration* | Transition from `Configuration` to `Configuration-if-range` mode, <br> used to configure settings for a range of physical interfaces.\n",
    "| `(no) shutdown` | *Configuration-if(-range)* | Enables/disables the corresponding physical interface.\n",
    "| `speed SPEED` | *Configuration-if(-range)* | Sets the speed for the corresponding physical interface.\n",
    "| `duplex MODE` | *Configuration-if(-range)* | Sets the duplex mode for the corresponding physical interface.\n",
    "| `description DESC` | *Configuration-if(-range)* | Sets a short description for the corresponding physical interface.\n",
    "| `switchport trunk encapsulation ENCAPSULATION` | *Configuration-if(-range)* | Sets the *trunk encapsulation* type, whether *dot1q* or *isl*.\n",
    "| `switchport mode access\\|trunk` | *Configuration-if(-range)* | Configures the corresponding physical interface as *trunking* (`trunk`), <br> or *non-trunking* (`access`).\n",
    "| `switchport mode dynamic auto\\|desirable` | *Configuration-if(-range)* | Configures the corresponding physical interface as *dynamically trunking*, <br> negotiates (using *DTP*) passively (`auto`), or initiates (`desirable`).\n",
    "| `switchport access vlan VLAN` | *Configuration-if(-range)* | Configures a specific *vlan* for the corresponding *non-trunking* physical interface.\n",
    "| `switchport nonegotiate` | *Configuration-if(-range)* | Disables *DTP* negotiations for the corresponding physical interface.\n",
    "| `spanning-tree (vlan VLAN) cost COST` | *Configuration-if(-range)* | Sets the *STP*-related *cost* (per *vlan*) for the corresponding physical interface.\n",
    "| `channel-group NUM mode on` | *Configuration-if(-range)* | Associates the corresponding physical interface with the specified *port-channel*.\n",
    "| \u3164 | |\n",
    "| `vlan VLAN` | *Configuration* | Transition from `Configuration` to `Configuration-vlan` mode, <br> used to configure settings for a particular *vlan*.\n",
    "| `name NAME` | *Configuration-vlan* | Sets a custom name for the corresponding *vlan*.\n",
    "| \u3164 | |\n",
    "| `spanning-tree mode PROTOCOL` | *Configuration* | Sets the *STP* protocol used globally, whether `mst`, `pvst`, or `rapid-pvst`.\n",
    "| `spanning-tree vlan VLAN priority PRIORITY` | *Configuration* | Sets the priority of the switch, per *vlan*, must be an increment of *4096*.\n",
    "| \u3164 | |\n",
    "| `port-channel load-balance METHOD` | *Configuration* | Configures the *load-balancing* method used on any *port-channel* <br> (e.g: `mac`, `src-dst-ip`, `src-dst-port`)."
   ]
  },
  {
   "cell_type": "markdown",
   "id": "5740d1c1",
   "metadata": {},
   "source": [
    "### *Router*-specific Command(s) <a class=\"anchor\" id=\"router-specific-command-s\"></a>"
   ]
  },
  {
   "cell_type": "markdown",
   "id": "d6f7f7f7",
   "metadata": {},
   "source": [
    "*Cisco* software, for each *route* in its *routing table*, lists\n",
    "* the type of the route (i.e, *static*, *connected*, or *OSPF*),\n",
    "* the associated *IP* address and *subnet mask*, and\n",
    "* the associated interface, or *next-hop router*.\n",
    "\n",
    "Also, for each *interface* in its interface table, *Cisco* software lists\n",
    "* its *line* (i.e, *Layer-1*) status,\n",
    "* its *protocol* (i.e, *Layer-2*) status,\n",
    "* and its configured *IP address*, from which it is addressable in the *subnet* connected to."
   ]
  },
  {
   "cell_type": "markdown",
   "id": "3ad68454",
   "metadata": {},
   "source": [
    "| *Command* | *Mode(s)* | *Description* |\n",
    "| :--- | :---: | :--- |\n",
    "| `show ip route` | *User* | Lists all routes in the *routing table*.\n",
    "| `show ip route ADDRESS` | *User* | Lists the route that would be used to route a packet, <br> with the specified *IP* address as *destination*.\n",
    "| \u3164 | |\n",
    "| `show ip interface status` | *User* | Lists information about all the physical interface(s).\n",
    "| \u3164 | |\n",
    "| `show vlans` | *User* | Lists information about all *trunking* physical interfaces, and their associated *vlan(s)*.\n",
    "| \u3164 | |\n",
    "| `clear arp` | *Enable* | Clears all listings from the *ARP* table.\n",
    "| `clear ip arp ADDRESS` | *Enable* | Clears any entry, for a specific *IP address*, from the *ARP* table.\n",
    "| \u3164 | |\n",
    "| `interface INTERFACE` | *Configuration* | Transitions from `Configuration` to `Configuration-if` mode, <br> used to configure settings for a particular physical interface.\n",
    "| `interface range INTERFACE - MAXIMUM` <br> (e.g: `interface range gi0/1 - 3`) | *Configuration* | Transitions from `Configuration` to `Configuration-if-range` mode, <br> used to configure settings for a range of physical interfaces.\n",
    "| `(no) shutdown` | *Configuration-if(-range)* | Enables/disables the corresponding physical interface.\n",
    "| `speed SPEED` | *Configuration-if(-range)* | Sets the speed for the corresponding physical interface.\n",
    "| `duplex MODE` | *Configuration-if(-range)* | Sets the duplex mode for the corresponding physical interface.\n",
    "| `description DESC` | *Configuration-if(-range)* | Sets a short description for the corresponding physical interface.\n",
    "| `ip address ADDRESS MASK` | *Configuration-if(-range)* | Sets the *IP address* (by which it is accessable in the *subnet* connected to), <br> and *subnet mask* of the corresponding physical interface.\n",
    "| \u3164 | |\n",
    "| `ip route ADDRESS SUBNET INTERFACE` | *Configuration* | Configures a *static route*, for a directly connected *subnet*.\n",
    "| `ip route ADDRESS SUBNET NEXT-HOP-ADDRESS` | *Configuration* | Configures a *static route*, for an indirectly connected *subnet*. <br> If the configured *IP* address and *subnet mask* are *0.0.0.0*, then its a *default static route*.\n",
    "| \u3164 | |\n",
    "| `interface INTERFACE.SUBIF` | *Configuration* | Transitions from `Configuration` to `Configuration-subif` mode, <br> used to configure settings for a particular *virtual* interface.\n",
    "| `(no) shutdown` | *Configuration-subif* | Enables/disables the corresponding virtual interface.\n",
    "| `encapsulation dot1q VLAN (NATIVE)` | *Configuration-subif* | Associates the virtual interface with a particular *vlan*.\n",
    "| `ip address ADDRESS MASK` | *Configuration-subif* | Sets the *IP address* (by which it is accessable in the *subnet* connected to), <br> and *subnet mask* of the corresponding virtual interface."
   ]
  },
  {
   "cell_type": "markdown",
   "id": "379ff9de",
   "metadata": {},
   "source": [
    "### *Layer-3 Switch* specific Command(s) <a class=\"anchor\" id=\"layer-3-switch-specific-command-s\"></a>"
   ]
  },
  {
   "cell_type": "markdown",
   "id": "e015ccdf",
   "metadata": {},
   "source": [
    "Most *Layer-2 Switch* and *Route* specific commands are also available in *Layer-3 Switch(es)*."
   ]
  },
  {
   "cell_type": "markdown",
   "id": "bcba6693",
   "metadata": {},
   "source": [
    "To enable the *routing* functionality in a *Layer-3 Switch*,"
   ]
  },
  {
   "cell_type": "markdown",
   "id": "ea9515ff",
   "metadata": {},
   "source": [
    "| *Command* | *Mode(s)* | *Description* |\n",
    "| :--- | :---: | :--- |\n",
    "| `ip routing` | *Configuration* | Enables routing."
   ]
  },
  {
   "cell_type": "markdown",
   "id": "0c55192c",
   "metadata": {},
   "source": [
    "To configure a *Switched Virtual Interface (SVI)*,"
   ]
  },
  {
   "cell_type": "markdown",
   "id": "eba1abf4",
   "metadata": {},
   "source": [
    "| *Command* | *Mode(s)* | *Description* |\n",
    "| :--- | :---: | :--- |\n",
    "| `interface vlan VLAN` | *Configuration* | Transitions fron `Configuration` to `Configuration-if` mode, <br> used to configure settings for a particular *Switched Virtual Interface (SVI)*.\n",
    "| `ip address ADDRESS MASK` | *Configuration-if* | Sets the *IP address* (by which it is accessable in the *subnet* connected to), <br> and *subnet mask* of the corresponding *SVI*.\n",
    "| `(no) shutdown` | *Configuration-if* | Enables/disables the corresponding *SVI*."
   ]
  },
  {
   "cell_type": "markdown",
   "id": "33174ff7",
   "metadata": {},
   "source": [
    "To configure a physical interface as a *Routed Port*,"
   ]
  },
  {
   "cell_type": "markdown",
   "id": "cf049c0c",
   "metadata": {},
   "source": [
    "| *Command* | *Mode(s)* | *Description* |\n",
    "| :--- | :---: | :--- |\n",
    "| `no switchport` | *Configuration-if* | Sets the corresponding **physical** interface as *Routed Port*."
   ]
  },
  {
   "cell_type": "markdown",
   "id": "ee3adc86",
   "metadata": {},
   "source": [
    "To configure a *Layer-3 EtherChannel* (also called, *port-channel*),\n",
    "\n",
    "* Similar to a *Layer-2 EtherChannel*, use the `channel-group NUMBER mode on` *Configuration-If* mode command, to associate each **physical** interface with the target *port-channel*.\n",
    "\n",
    "* Use the `no switch port` *Configuration-If* mode command, to configure each **physical** interface as a *Routed Port*.\n",
    "\n",
    "* Use the `interface port-channel NUMBER` *Configuration* mode command, to transition to *Configuration-if* mode, used to configure settings for a particular *port-channel*.\n",
    "\n",
    "* Use the `no switchport` *Configuration-If* mode command, to configure the **port-channel** as a *Routed Port*.\n",
    "\n",
    "* Use the `ip address ADDRESS MASK` command to set the *IP address* (by which the router is accessible in the *subnet* connected to) and *subnet mask* of the corresponding *port-channel*.\n",
    "\n",
    "* Optionally, similar to a *Layer-2 EtherChannel*, use the `port-channel load-balance METHOD` *Configuration* command to configure the *load-balancing* method used on the *port-channel* (e.g: `mac`, `src-dst-ip`, `src-dst-port`)."
   ]
  }
 ],
 "metadata": {
  "kernelspec": {
   "display_name": "Python 3 (ipykernel)",
   "language": "python",
   "name": "python3"
  },
  "language_info": {
   "codemirror_mode": {
    "name": "ipython",
    "version": 3
   },
   "file_extension": ".py",
   "mimetype": "text/x-python",
   "name": "python",
   "nbconvert_exporter": "python",
   "pygments_lexer": "ipython3",
   "version": "3.8.10"
  }
 },
 "nbformat": 4,
 "nbformat_minor": 5
}