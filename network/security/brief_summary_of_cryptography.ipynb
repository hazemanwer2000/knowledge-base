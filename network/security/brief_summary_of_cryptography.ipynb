{
 "cells": [
  {
   "cell_type": "markdown",
   "id": "57a5dd54",
   "metadata": {},
   "source": [
    "# A brief summary of *Cryptography*\n",
    "<br>\n",
    "<div style=\"opacity: 0.8; font-family: Consolas, Monaco, Lucida Console, Liberation Mono, DejaVu Sans Mono, Bitstream Vera Sans Mono, Courier New; font-size: 12px; font-style: italic;\">\n",
    "    ────────\n",
    "    for more from the author, visit\n",
    "    <a href=\"https://github.com/hazemanwer2000\">github.com/hazemanwer2000</a>.\n",
    "    ────────\n",
    "</div>"
   ]
  },
  {
   "cell_type": "markdown",
   "id": "d5d19f27",
   "metadata": {},
   "source": [
    "## Table of Contents\n"
   ]
  },
  {
   "cell_type": "markdown",
   "id": "7a27e82d",
   "metadata": {},
   "source": [
    "## *Hashing* Algorithms"
   ]
  },
  {
   "cell_type": "markdown",
   "id": "5cd0d868",
   "metadata": {},
   "source": [
    "A *hashing* algorithm (or, function) maps any number of input bytes to a fixed number of output bytes, called the *hash*, or *digest*.\n",
    "\n",
    "Hence, by definition, any hashing function is *lossy*."
   ]
  },
  {
   "cell_type": "markdown",
   "id": "8e8e5025",
   "metadata": {},
   "source": [
    "<img src=\"../../.img/func-2in-1out.png\" width=\"300\" />"
   ]
  },
  {
   "cell_type": "markdown",
   "id": "980568b1",
   "metadata": {},
   "source": [
    "A hashing function is meant to posses the following characteristics:\n",
    "* *Pre-image* resistance\n",
    "    * Given a hash, it must be practically impossible, without brute-force, to find an input that maps to this hash.\n",
    "* *Second Pre-Image* resistance\n",
    "    * Given an input and its corresponding hash, it must be practically impossible, without brute-force, to find another input that maps to this hash.\n",
    "* *Collision* resistance\n",
    "    * It must be practically impossible, without brute-force, to find any two inputs that map to the same hash.\n",
    "\n",
    "*Note:* Using brute-force, a *(Second) Pre-image* attack is of $O(2^n)$ time complexity, while a *Collision* attack is of $O(\\sqrt{2^n})$ time complexity, where $n$ is the number of bits in the hash."
   ]
  },
  {
   "cell_type": "markdown",
   "id": "96ce7d22",
   "metadata": {},
   "source": [
    "Historically, *MD-5* was used, until it was proven not to be *Collision* resistance.\n",
    "\n",
    "Currently, the recommended hashing function is *SHA-256*."
   ]
  },
  {
   "cell_type": "markdown",
   "id": "42f972ea",
   "metadata": {},
   "source": [
    "| *Algorithm* | *Hash Size (bytes)* |\n",
    "| --- | --- |\n",
    "| *MD-5* | 16 |\n",
    "| *SHA-256* | 32 |"
   ]
  },
  {
   "cell_type": "code",
   "execution_count": 3,
   "id": "46fb7a24",
   "metadata": {},
   "outputs": [
    {
     "data": {
      "text/plain": [
       "'f8c3bf62a9aa3e6fc1619c250e48abe7519373d3edf41be62eb5dc45199af2ef'"
      ]
     },
     "execution_count": 3,
     "metadata": {},
     "output_type": "execute_result"
    }
   ],
   "source": [
    "import hashlib\n",
    "sha256_hasher = hashlib.sha256(b'Hello, world.')\n",
    "sha256_hasher.hexdigest()"
   ]
  },
  {
   "cell_type": "code",
   "execution_count": 9,
   "id": "bfb9cf06",
   "metadata": {},
   "outputs": [
    {
     "data": {
      "text/plain": [
       "'f8c3bf62a9aa3e6fc1619c250e48abe7519373d3edf41be62eb5dc45199af2ef'"
      ]
     },
     "execution_count": 9,
     "metadata": {},
     "output_type": "execute_result"
    }
   ],
   "source": [
    "import hashlib\n",
    "sha256_hasher = hashlib.sha256()\n",
    "sha256_hasher.update(b'Hello,')\n",
    "sha256_hasher.update(b' world.')\n",
    "sha256_hasher.hexdigest()"
   ]
  },
  {
   "cell_type": "markdown",
   "id": "a265bb61",
   "metadata": {},
   "source": [
    "## *Encryption*"
   ]
  },
  {
   "cell_type": "markdown",
   "id": "57f92e37",
   "metadata": {},
   "source": [
    "*Encryption* transforms so-called *plain-text*, into incomprehensible *cipher-text*.\n",
    "\n",
    "Encryption algorithms are divided into two categorites:\n",
    "* *Block Cipher* algorithms, operate on blocks (e.g: 16 bytes per block).\n",
    "* *Stream Cipher* algorithms, operate on bytes.\n",
    "\n",
    "For block cipher algorithms, when the data length is not *block-aligned*, padding is added. Padding schemes include,\n",
    "\n",
    "| *Scheme* | `CASE`: 3 bytes of padding are required | `CASE`: 2 bytes of padding are required |\n",
    "| --- | --- | --- |\n",
    "| *PKCS7* | `0x03 0x03 0x03` | `0x02 0x02` |\n",
    "| *ANSI X.923* | `0x00 0x00 0x03` | `0x00 0x02` |"
   ]
  },
  {
   "cell_type": "markdown",
   "id": "ca5f0b58",
   "metadata": {},
   "source": [
    "### *Symmetric* Encryption"
   ]
  },
  {
   "cell_type": "markdown",
   "id": "bd21e3a2",
   "metadata": {},
   "source": [
    "*Symmetric* encryption algorithms use the same *key* to encrypt and decrypt. The cipher-text is deterministic, and, ideally, unique per key.\n",
    "\n",
    "*AES*, a 16-byte block cipher algorithm, is, currently, the recommended symmetric encryption algorithm.\n",
    "\n",
    "It has many modes of operation, including,\n",
    "* *Electronic Code Book (ECB)*,\n",
    "* *Cipher Block Chaining (CBC)*, and,\n",
    "* *Counter (CTR)*.\n",
    "\n",
    "*Note:* *AES* supports different key sizes, including *128*, *192*, and *256* bits."
   ]
  },
  {
   "cell_type": "markdown",
   "id": "b687f802",
   "metadata": {},
   "source": [
    "#### *AES: ECB* mode"
   ]
  },
  {
   "cell_type": "markdown",
   "id": "6b25e409",
   "metadata": {},
   "source": [
    "In *ECB* mode, each block is encrypted *independent* of any other block."
   ]
  },
  {
   "cell_type": "code",
   "execution_count": 46,
   "id": "2b3b53aa",
   "metadata": {},
   "outputs": [],
   "source": [
    "from cryptography.hazmat.primitives.ciphers import Cipher, algorithms, modes\n",
    "from cryptography.hazmat.primitives import padding\n",
    "from cryptography.hazmat.backends import default_backend\n",
    "import os\n",
    "\n",
    "def test_cipher(cipher, key, data):\n",
    "    \n",
    "    # ACTION: Instantiate useful objects.\n",
    "    encryptor = cipher.encryptor()\n",
    "    decryptor = cipher.decryptor()\n",
    "    padder = padding.PKCS7(128).padder()\n",
    "    unpadder = padding.PKCS7(128).unpadder()\n",
    "\n",
    "    cipher_text = []\n",
    "    decrypted_text = []\n",
    "\n",
    "    # ACTION: Encrypt.\n",
    "    for item in data:\n",
    "        str_2_bin = item.encode('ascii')\n",
    "        cipher_text.append(encryptor.update(padder.update(str_2_bin)))\n",
    "    cipher_text.append(encryptor.update(padder.finalize()))\n",
    "    cipher_text_hex = [item.hex() for item in cipher_text]\n",
    "\n",
    "    # ACTION: Decrypt.\n",
    "    for item in cipher_text:\n",
    "        decrypted_text.append(unpadder.update(decryptor.update(item)))\n",
    "    decrypted_text.append(unpadder.finalize())\n",
    "    decrypted_text_hex = [item.hex() for item in decrypted_text]\n",
    "\n",
    "    # ACTION: Print summary.\n",
    "    data_concat = ''.join(data)\n",
    "    cipher_text_concat = ''.join(cipher_text_hex)\n",
    "    decrypted_text_concat = ''.join(decrypted_text_hex)\n",
    "    decrypted_text_ascii = b''.join(decrypted_text).decode('ascii')\n",
    "\n",
    "    print('Key Size (Bits)               ->    ', key_size*8)\n",
    "    print('Key                           ->    ', key.hex())\n",
    "    print('Plain Text (ASCII)            ->    ', data_concat)\n",
    "    print('Plain Text Length (Bytes)     ->    ', len(data_concat))\n",
    "    print('Cipher Text (HEX)             ->    ', cipher_text_concat)\n",
    "    print('Cipher Text Length (Bytes)    ->    ', len(cipher_text_concat)//2)\n",
    "    print('Decrypted Text (HEX)          ->    ', decrypted_text_concat)\n",
    "    print('Decrypted Text (ASCII)        ->    ', decrypted_text_ascii)\n",
    "    print('Decrypted Text Length (Bytes) ->    ', len(decrypted_text_concat)//2)\n"
   ]
  },
  {
   "cell_type": "code",
   "execution_count": 49,
   "id": "fbfb6b0f",
   "metadata": {},
   "outputs": [
    {
     "name": "stdout",
     "output_type": "stream",
     "text": [
      "Key Size (Bits)               ->     128\n",
      "Key                           ->     2ba1279c0c5033104aa841806dd392d8\n",
      "Plain Text (ASCII)            ->     I am very hungry!\n",
      "Plain Text Length (Bytes)     ->     17\n",
      "Cipher Text (HEX)             ->     8cc6047cb18104c8dd045dfefda942928e0456f5bf729e52987818825dbacb2b\n",
      "Cipher Text Length (Bytes)    ->     32\n",
      "Decrypted Text (HEX)          ->     4920616d20766572792068756e67727921\n",
      "Decrypted Text (ASCII)        ->     I am very hungry!\n",
      "Decrypted Text Length (Bytes) ->     17\n"
     ]
    }
   ],
   "source": [
    "# Dummy sentence.\n",
    "data = [\"I \", \"am very \", \"hungry!\"]\n",
    "\n",
    "# Random key, 128 bits in length.\n",
    "key_128 = os.urandom(16)\n",
    "\n",
    "# AES, ECB mode.\n",
    "aes_cipher = Cipher(algorithms.AES(key), modes.ECB(), backend=default_backend())\n",
    "\n",
    "# ...\n",
    "test_cipher(cipher=aes_cipher, key=key_128, data=data)"
   ]
  },
  {
   "cell_type": "markdown",
   "id": "c881ce1a",
   "metadata": {},
   "source": [
    "#### *AES: CBC* mode "
   ]
  }
 ],
 "metadata": {
  "kernelspec": {
   "display_name": "Python 3 (ipykernel)",
   "language": "python",
   "name": "python3"
  },
  "language_info": {
   "codemirror_mode": {
    "name": "ipython",
    "version": 3
   },
   "file_extension": ".py",
   "mimetype": "text/x-python",
   "name": "python",
   "nbconvert_exporter": "python",
   "pygments_lexer": "ipython3",
   "version": "3.11.4"
  }
 },
 "nbformat": 4,
 "nbformat_minor": 5
}
