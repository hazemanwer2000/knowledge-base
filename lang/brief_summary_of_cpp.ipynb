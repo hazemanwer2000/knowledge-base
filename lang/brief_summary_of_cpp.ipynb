{
 "cells": [
  {
   "cell_type": "markdown",
   "id": "b323e208",
   "metadata": {},
   "source": [
    "# A brief summary of C++ (98)\n",
    "<br>\n",
    "<div style=\"opacity: 0.8; font-family: Consolas, Monaco, Lucida Console, Liberation Mono, DejaVu Sans Mono, Bitstream Vera Sans Mono, Courier New; font-size: 12px; font-style: italic;\">\n",
    "    ────────\n",
    "    for more from the author, visit\n",
    "    <a href=\"https://github.com/hazemanwer2000\">github.com/hazemanwer2000</a>.\n",
    "    ────────\n",
    "</div>"
   ]
  },
  {
   "cell_type": "markdown",
   "id": "a561d09c",
   "metadata": {},
   "source": [
    "## Table of Contents\n",
    "* [Operators](#operators)\n",
    "* [Classes](#classes)\n",
    "    * [`explicit` Constructors](#explicit-constructors)\n",
    "    * [`const` Methods](#const-methods)\n",
    "    * [`mutable` Attributes](#mutable-attributes)\n",
    "    * [The `static` keyword](#the-static-keyword)\n",
    "    * [Pointers to Members](#pointers-to-members)\n",
    "    * [`friend` Functions and Classes](#friend-functions-and-classes)\n",
    "    * [Operator Overloading](#operator-overloading)\n",
    "        * [Arithmetic, Comparison, Bitwise, Logical](#oo-most)\n",
    "        * [Assignment](#oo-assignment)\n",
    "        * [Unary](#oo-unary)\n",
    "        * [Type Conversion](#oo-type-conversion)\n",
    "        * [Increment, Decrement](#oo-increment-decrement)\n",
    "        * [Subscripting](#oo-subscripting)\n",
    "        * [Function Call](#oo-function-call)\n",
    "        * [The `->` operator](#oo-the-->-operator)\n",
    "    * [Inheritance](#inheritance)\n",
    "        * [Multiple Inheritance](#multiple-inheritance)\n",
    "        * [Virtual Inheritance](#virtual-inheritance)\n",
    "    * [Class Templates](#class-templates)\n",
    "* [Emendations](#emendations)\n",
    "    * [Variables](#variables)\n",
    "    * [Functions](#functions)\n",
    "        * [Function Overloading](#function-overloading)\n",
    "        * [Default Arguments](#default-arguments)\n",
    "        * [`inline` Functions](#inline-functions)\n",
    "        * [Function Templates](#function-templates)\n",
    "    * [Casting](#casting)\n",
    "        * [`static_cast<>()`](#static_cast<>())\n",
    "        * [`reinterpret_cast<>()`](#reinterpret_cast<>())\n",
    "        * [`const_cast<>()`](#const_cast<>())\n",
    "        * [`dynamic_cast<>()`](#dynamic_cast<>())\n",
    "    * [Conditional Execution](#conditional-execution)\n",
    "    * [Structures and Unions](#structures-and-unions)\n",
    "    * [Enumerations](#enumerations)\n",
    "    * [`typedef`](#typedef)\n",
    "    * [The `bool` Type](#the-bool-type)\n",
    "    * [Dynamic Memory Allocation](#dynamic-memory-allocation)\n",
    "* [Amendments](#amendments)\n",
    "    * [References](#references)\n",
    "    * [Namespaces](#namespaces)\n",
    "    * [Exceptions](#exceptions)\n",
    "        * [Exception Specifications](#exception-specifications)\n",
    "    * [The `typeid` operator](#the-typeid-operator)\n",
    "\n",
    "<hr>"
   ]
  },
  {
   "cell_type": "markdown",
   "id": "fb56f3e3",
   "metadata": {},
   "source": [
    "C++ extends the C language by bringing mostly *Object-Oriented Programming* (OOP) features to a structured language."
   ]
  },
  {
   "cell_type": "markdown",
   "id": "f1130bf2",
   "metadata": {},
   "source": [
    "*Note:* This writing builds upon <a href=\"https://github.com/hazemanwer2000/data-structures-in-c/blob/main/brief_summary_of_c.ipynb\">*A brief summary of C*</a>, and introduces the C++ language as a superset of the C language, with all emendations mentioned."
   ]
  },
  {
   "cell_type": "markdown",
   "id": "07661c30",
   "metadata": {},
   "source": [
    "## Operators <a class=\"anchor\" id=\"operators\"></a>"
   ]
  },
  {
   "cell_type": "markdown",
   "id": "2609e96d",
   "metadata": {},
   "source": [
    "| *Operator* | *Associativity* | *Precedence* |\n",
    "| --- | --- | --- |\n",
    "| `::` | *left-to-right* | ↑ |\n",
    "| `()` `[]` `->` `.` <br><br> (*Post*) `++` `--` <br><br> `static_cast` `reinterpret_cast` `const_cast` `dynamic_cast` | *left-to-right* |\n",
    "| `+` `-` `!` `~` *`(type)`* `*` `&` `sizeof` <br><br> (*Pre*) `++` `--` <br><br> `new` `delete` | *right-to-left* |\n",
    "| `->*` `.*` | *left-to-right* |\n",
    "| `*` `/` `%` | *left-to-right* |\n",
    "| `+` `-` | *left-to-right* |\n",
    "| `<<` `>>` | *left-to-right* |\n",
    "| `<` `<=` `>` `>=` | *left-to-right* |\n",
    "| `==` `!=` | *left-to-right* |\n",
    "| `&` | *left-to-right* |\n",
    "| `^` | *left-to-right* |\n",
    "| `\\|` | *left-to-right* |\n",
    "| `&&` | *left-to-right* |\n",
    "| `\\|\\|` | *left-to-right* |\n",
    "| `?:` <br><br> `=` `+=` `-=` `*=` `/=` `%=` `&=` `^=` `\\|=` `<<=` `>>=` <br><br> `throw` | *right-to-left* |\n",
    "| `,` | *left-to-right* | ↓ |"
   ]
  },
  {
   "cell_type": "markdown",
   "id": "3590fedc",
   "metadata": {},
   "source": [
    "## Classes <a class=\"anchor\" id=\"classes\"></a>"
   ]
  },
  {
   "cell_type": "markdown",
   "id": "974c810c",
   "metadata": {},
   "source": [
    "A *class* is an outline for an *object*. It defines the attributes and methods of each object."
   ]
  },
  {
   "cell_type": "code",
   "execution_count": null,
   "id": "ad65eca4",
   "metadata": {},
   "outputs": [],
   "source": [
    "class Complex {\n",
    "    float real, imag;                     /* Attribute. */\n",
    "    void print() { /* ... */ }            /* Method. */\n",
    "};"
   ]
  },
  {
   "cell_type": "markdown",
   "id": "3153d690",
   "metadata": {},
   "source": [
    "*Note:* A method defined at the beginning of a class may call another method defined at the end, and similarly for attributes."
   ]
  },
  {
   "cell_type": "markdown",
   "id": "7ae91b00",
   "metadata": {},
   "source": [
    "An *access specifier* outlines the accessibility of each attribute and method that follows it."
   ]
  },
  {
   "cell_type": "code",
   "execution_count": null,
   "id": "93fa2a0f",
   "metadata": {},
   "outputs": [],
   "source": [
    "class Complex {\n",
    "private:                                 /* Accessible with-in class only. */\n",
    "    float real, imag;\n",
    "public:                                  /* Accessible everywhere. */\n",
    "    void print() { /* ... */ }\n",
    "}"
   ]
  },
  {
   "cell_type": "markdown",
   "id": "ee0bc75a",
   "metadata": {},
   "source": [
    "*Note:* A `private` access specifier is placed implicitly at the beginning of a class outline."
   ]
  },
  {
   "cell_type": "markdown",
   "id": "12ff0a81",
   "metadata": {},
   "source": [
    "A *constructor* is a special method, called once when an object is first defined. It has no return type, and must be the same name as the class."
   ]
  },
  {
   "cell_type": "code",
   "execution_count": null,
   "id": "e9a240dd",
   "metadata": {},
   "outputs": [],
   "source": [
    "class Complex {\n",
    "private:\n",
    "    float real, imag;\n",
    "public:\n",
    "    Complex(float r, float i) {            /* Constructor. */\n",
    "        real = r, imag = i;\n",
    "    }\n",
    "}"
   ]
  },
  {
   "cell_type": "markdown",
   "id": "ba11b41e",
   "metadata": {},
   "source": [
    "Constructors, as with any function in C++, may be *overloaded*."
   ]
  },
  {
   "cell_type": "code",
   "execution_count": null,
   "id": "b9ea6697",
   "metadata": {},
   "outputs": [],
   "source": [
    "class Complex {\n",
    "private:\n",
    "    float real, imag;\n",
    "public:\n",
    "    Complex(float r, float i) {            /* Constructor(float, float) */\n",
    "        real = r, imag = i;\n",
    "    }\n",
    "\n",
    "    Complex(float r) {                     /* Constructor(float) */\n",
    "        real = r, imag = 0;\n",
    "    }\n",
    "    \n",
    "    Complex() {                            /* Constructor() */\n",
    "        real = imag = 0;\n",
    "    }\n",
    "}"
   ]
  },
  {
   "cell_type": "markdown",
   "id": "b30721bf",
   "metadata": {},
   "source": [
    "*Note:* Function overloading is discussed later."
   ]
  },
  {
   "cell_type": "markdown",
   "id": "005d7d0a",
   "metadata": {},
   "source": [
    "Constructors, as with any function in C++, may receive default arguments."
   ]
  },
  {
   "cell_type": "code",
   "execution_count": null,
   "id": "9859b4b4",
   "metadata": {},
   "outputs": [],
   "source": [
    "class Complex {\n",
    "private:\n",
    "    float real, imag;\n",
    "public:\n",
    "    Complex(float r=0, float i=0) {            /* Constructor(float (optional), float (optional)) */\n",
    "        real = r, imag = i;\n",
    "    }\n",
    "}"
   ]
  },
  {
   "cell_type": "markdown",
   "id": "bf002472",
   "metadata": {},
   "source": [
    "*Note:* Default arguments are discussed later."
   ]
  },
  {
   "cell_type": "markdown",
   "id": "e957f735",
   "metadata": {},
   "source": [
    "An object may be defined and initialized from a class in a number of ways."
   ]
  },
  {
   "cell_type": "code",
   "execution_count": null,
   "id": "3a0b48f4",
   "metadata": {},
   "outputs": [],
   "source": [
    "#include <iostream>\n",
    "\n",
    "class Complex {\n",
    "private:\n",
    "    float real, imag;\n",
    "public:\n",
    "    Complex(float r, float i) {            /* Constructor(float, float) */\n",
    "        real = r, imag = i;\n",
    "        std::cout << \"Complex(float, float)\\n\";\n",
    "    }\n",
    "\n",
    "    Complex(float r) {                     /* Constructor(float) */\n",
    "        real = r, imag = 0;\n",
    "        std::cout << \"Complex(float)\\n\";\n",
    "    }\n",
    "    \n",
    "    Complex() {                            /* Constructor() */\n",
    "        real = imag = 0;\n",
    "        std::cout << \"Complex()\\n\";\n",
    "    }\n",
    "};\n",
    "\n",
    "int main() {\n",
    "    Complex complex1;                      /* Called 'default initialization'. */            \n",
    "    Complex complex3(5.6f);                /* Called 'direct initialization'. */\n",
    "    Complex complex4(3.4f, 4.2f);\n",
    "}"
   ]
  },
  {
   "cell_type": "code",
   "execution_count": null,
   "id": "cb01337e",
   "metadata": {},
   "outputs": [],
   "source": [
    "Complex complex1();                      /* Warning: Empty parentheses disambiguated */\n",
    "                                         /*          as a function declaration. */"
   ]
  },
  {
   "cell_type": "code",
   "execution_count": null,
   "id": "d0fab2a6",
   "metadata": {},
   "outputs": [],
   "source": [
    "#include <iostream>\n",
    "\n",
    "class Complex {\n",
    "private:\n",
    "    float real, imag;                    /* Missing explicit constructor, implicitly defined. */\n",
    "};\n",
    "\n",
    "int main() {\n",
    "    Complex complex1;                    /* Default-initialized with nothing. */            \n",
    "}"
   ]
  },
  {
   "cell_type": "code",
   "execution_count": null,
   "id": "d7e1bb8e",
   "metadata": {},
   "outputs": [],
   "source": [
    "#include <iostream>\n",
    "\n",
    "class Complex {\n",
    "private:\n",
    "    float real, imag;\n",
    "public:\n",
    "    Complex(float r, float i) {            /* Single explicit constructor, non-default. */\n",
    "        real = r, imag = i;\n",
    "    }\n",
    "};\n",
    "\n",
    "int main() {\n",
    "    Complex complex1;                      /* Error: Default constructor is no longer */\n",
    "                                           /*        implicitly defined. */        \n",
    "}"
   ]
  },
  {
   "cell_type": "markdown",
   "id": "f7e5cd01",
   "metadata": {},
   "source": [
    "A *temporary* object is allocated and deallocated in an expression."
   ]
  },
  {
   "cell_type": "code",
   "execution_count": 163,
   "id": "94d0a569",
   "metadata": {},
   "outputs": [
    {
     "name": "stdout",
     "output_type": "stream",
     "text": [
      "[Real]: 5.6\n",
      "[Imag]: 3.4\n",
      "[Real]: 0\n",
      "[Imag]: 0\n"
     ]
    }
   ],
   "source": [
    "#include <iostream>\n",
    "\n",
    "class Complex {\n",
    "private:\n",
    "    float real, imag;\n",
    "public:\n",
    "    Complex(float r, float i) {\n",
    "        real = r, imag = i;\n",
    "    }\n",
    "    \n",
    "    Complex() {\n",
    "        real = 0, imag = 0;\n",
    "    }\n",
    "\n",
    "    void print() {\n",
    "        std::cout << \"[Real]: \" << real << '\\n';\n",
    "        std::cout << \"[Imag]: \" << imag << '\\n';\n",
    "    }\n",
    "};\n",
    "\n",
    "int main() {\n",
    "    Complex(5.6f, 3.4f).print();\n",
    "    Complex().print();\n",
    "}"
   ]
  },
  {
   "cell_type": "markdown",
   "id": "fe2d7dd5",
   "metadata": {},
   "source": [
    "A *copy constructor* is a constructor that receives a `const` reference to an object of the same class."
   ]
  },
  {
   "cell_type": "code",
   "execution_count": 164,
   "id": "73c0b2cd",
   "metadata": {},
   "outputs": [
    {
     "name": "stdout",
     "output_type": "stream",
     "text": [
      "Complex(const Complex &)\n",
      "[Real]: 5.6\n",
      "[Imag]: 7.2\n",
      "Complex(const Complex &)\n",
      "[Real]: 5.6\n",
      "[Imag]: 7.2\n"
     ]
    }
   ],
   "source": [
    "#include <iostream>\n",
    "\n",
    "class Complex {\n",
    "    float real, imag;\n",
    "public:\n",
    "    Complex(float r, float i) {\n",
    "        real = r, imag = i;\n",
    "    }\n",
    "    \n",
    "    Complex(const Complex &complex) {              /* Copy constructor. */\n",
    "        real = complex.real;\n",
    "        imag = complex.imag;\n",
    "        std::cout << \"Complex(const Complex &)\" << '\\n';\n",
    "    }  \n",
    "    \n",
    "    void print() {\n",
    "        std::cout << \"[Real]: \" << real << '\\n';\n",
    "        std::cout << \"[Imag]: \" << imag << '\\n';\n",
    "    }\n",
    "};\n",
    "\n",
    "int main() {\n",
    "    Complex complex1(5.6f, 7.2f); \n",
    "\n",
    "    Complex complex2(complex1);           /* Calls copy constructor. */\n",
    "    complex2.print();\n",
    "    \n",
    "    Complex complex3 = complex2;          /* Equivalent syntax (not recommended). */\n",
    "    complex3.print();\n",
    "}"
   ]
  },
  {
   "cell_type": "markdown",
   "id": "dc86e650",
   "metadata": {},
   "source": [
    "*Note:* References are discussed later."
   ]
  },
  {
   "cell_type": "markdown",
   "id": "e2d746a6",
   "metadata": {},
   "source": [
    "*Note:* If a copy constructor is missing from a class outline, it is implicitly defined to dummy-copy the attributes. This could introduce problems when, for example, a pointer to dynamically allocated data is an attribute."
   ]
  },
  {
   "cell_type": "markdown",
   "id": "477066c2",
   "metadata": {},
   "source": [
    "When initializing using temporary objects, the copy constructor may be optimized away."
   ]
  },
  {
   "cell_type": "code",
   "execution_count": 165,
   "id": "85766c77",
   "metadata": {},
   "outputs": [
    {
     "name": "stdout",
     "output_type": "stream",
     "text": [
      "Complex(float, float)\n",
      "[Real]: 5\n",
      "[Imag]: 6\n",
      "Complex(float, float)\n",
      "[Real]: 5\n",
      "[Imag]: 6\n",
      "Complex(float, float)\n",
      "Complex(const Complex &)\n",
      "[Real]: 6\n",
      "[Imag]: 7\n"
     ]
    }
   ],
   "source": [
    "#include <iostream>\n",
    "\n",
    "class Complex {\n",
    "    float real, imag;\n",
    "public:\n",
    "    Complex(float r, float i) {\n",
    "        real = r, imag = i;\n",
    "        std::cout << \"Complex(float, float)\\n\";\n",
    "    }\n",
    "    \n",
    "    Complex(Complex &complex) {              /* Copy constructor. */\n",
    "        real = complex.real;\n",
    "        imag = complex.imag;\n",
    "        std::cout << \"Complex(const Complex &)\\n\";\n",
    "    }  \n",
    "    \n",
    "    void print() {\n",
    "        std::cout << \"[Real]: \" << real << '\\n';\n",
    "        std::cout << \"[Imag]: \" << imag << '\\n';\n",
    "    }\n",
    "    \n",
    "    Complex & increment() {\n",
    "        real++, imag++;\n",
    "        return *this;                            /* Discussed later. */\n",
    "    }\n",
    "};\n",
    "\n",
    "int main() {\n",
    "    Complex complex1(Complex(5, 6));                       /* Optimized to 'Complex complex(5, 6)' */\n",
    "    complex1.print();\n",
    "    \n",
    "    Complex complex2 = Complex(5, 6);                      /* Equivalent syntax (not recommended). */\n",
    "    complex2.print();\n",
    "\n",
    "    Complex complex3(Complex(5, 6).increment());           /* Calls copy constructor. */\n",
    "    complex3.print();\n",
    "}"
   ]
  },
  {
   "cell_type": "markdown",
   "id": "c54a453f",
   "metadata": {},
   "source": [
    "*Note:* When passing or returning objects by value, the copy constructor is implicitly called."
   ]
  },
  {
   "cell_type": "markdown",
   "id": "c972bc8a",
   "metadata": {},
   "source": [
    "An *initialization list* allows the initialization of attributes by a constructor. By default, the default constructor of each attribute is called."
   ]
  },
  {
   "cell_type": "code",
   "execution_count": null,
   "id": "0da4e0d9",
   "metadata": {
    "scrolled": false
   },
   "outputs": [],
   "source": [
    "#include <iostream>\n",
    "\n",
    "class Complex {\n",
    "    const float real;\n",
    "    const float imag;\n",
    "public:\n",
    "    Complex(float r, float i) {\n",
    "        real = r, imag = i;\n",
    "    }\n",
    "\n",
    "    void print() {\n",
    "        std::cout << \"[Real]: \" << real << '\\n';\n",
    "        std::cout << \"[Imag]: \" << imag << '\\n';\n",
    "    }\n",
    "};\n",
    "\n",
    "int main() {\n",
    "    Complex(5.6f, 3.4f).print();         /* Error: 'const' attribute should be initialized. */\n",
    "}"
   ]
  },
  {
   "cell_type": "code",
   "execution_count": 166,
   "id": "6fafc934",
   "metadata": {},
   "outputs": [
    {
     "name": "stdout",
     "output_type": "stream",
     "text": [
      "[Real]: 5.6\n",
      "[Imag]: 3.4\n",
      "[Real]: 0\n",
      "[Imag]: 0\n"
     ]
    }
   ],
   "source": [
    "#include <iostream>\n",
    "\n",
    "class Complex {\n",
    "    const float real;\n",
    "    const float imag;\n",
    "public:\n",
    "    Complex(float real, float imag) : real(real), imag(imag) {}\n",
    "    Complex() : real(), imag() {}\n",
    "    \n",
    "    void print() {\n",
    "        std::cout << \"[Real]: \" << real << '\\n';\n",
    "        std::cout << \"[Imag]: \" << imag << '\\n';\n",
    "    }\n",
    "};\n",
    "\n",
    "int main() {\n",
    "    Complex(5.6f, 3.4f).print(); \n",
    "    Complex().print();\n",
    "}"
   ]
  },
  {
   "cell_type": "markdown",
   "id": "5f1a9b07",
   "metadata": {},
   "source": [
    "*Note:* Initialization of attributes is similar in syntax to the initialization of temporary objects."
   ]
  },
  {
   "cell_type": "markdown",
   "id": "38de63e6",
   "metadata": {},
   "source": [
    "*Note:* Attributes are initialized in the order they are declared within class, and not their order in the intialization list."
   ]
  },
  {
   "cell_type": "markdown",
   "id": "fceb510a",
   "metadata": {},
   "source": [
    "*Note:* Primitive types are not guranteed to be default-initialized to zero, in the absence of an explicit constructor call."
   ]
  },
  {
   "cell_type": "markdown",
   "id": "e1512181",
   "metadata": {},
   "source": [
    "An array of objects may only be defined if a default constructor is present. The default constructor is called for each object in the array."
   ]
  },
  {
   "cell_type": "code",
   "execution_count": 167,
   "id": "dbdf3c67",
   "metadata": {},
   "outputs": [
    {
     "name": "stdout",
     "output_type": "stream",
     "text": [
      "Complex()\n",
      "Complex()\n",
      "Complex()\n"
     ]
    }
   ],
   "source": [
    "#include <iostream>\n",
    "\n",
    "class Complex {\n",
    "    float real, imag;\n",
    "public:\n",
    "    Complex() : real(), imag() {\n",
    "        std::cout << \"Complex()\\n\";\n",
    "    }\n",
    "    \n",
    "    Complex(float real, float imag) {\n",
    "        std::cout << \"Complex(float, float)\\n\";\n",
    "    }\n",
    "};\n",
    "\n",
    "int main() {\n",
    "    Complex comp[3];\n",
    "}"
   ]
  },
  {
   "cell_type": "markdown",
   "id": "5c4bd298",
   "metadata": {},
   "source": [
    "A *destructor* is analogous to a constructor. It is called implicitly whenever an object is deallocated. Unlike a constructor, only a single destructor may be defined, and must have no parameters."
   ]
  },
  {
   "cell_type": "code",
   "execution_count": 168,
   "id": "892424d7",
   "metadata": {},
   "outputs": [
    {
     "name": "stdout",
     "output_type": "stream",
     "text": [
      "Constructor.\n",
      "Destructor.\n",
      "Constructor.\n",
      "Destructor.\n"
     ]
    }
   ],
   "source": [
    "#include <iostream>\n",
    "\n",
    "class Complex {\n",
    "    float real, imag;\n",
    "public:\n",
    "    Complex() : real(), imag() {\n",
    "        std::cout << \"Constructor.\\n\";\n",
    "    }\n",
    "    \n",
    "    ~Complex() {\n",
    "        std::cout << \"Destructor.\\n\";\n",
    "    }\n",
    "};\n",
    "\n",
    "int main() {\n",
    "    Complex();            /* Temporary objects, allocated and de-allocated immediately. */\n",
    "    Complex();\n",
    "}"
   ]
  },
  {
   "cell_type": "code",
   "execution_count": 169,
   "id": "cb1ba584",
   "metadata": {},
   "outputs": [
    {
     "name": "stdout",
     "output_type": "stream",
     "text": [
      "Constructor. 1\n",
      "Constructor. 2\n",
      "Destructor. 2\n",
      "Destructor. 1\n"
     ]
    }
   ],
   "source": [
    "#include <iostream>\n",
    "\n",
    "class Complex {\n",
    "    float real, imag;\n",
    "public:\n",
    "    Complex(float r, float i) : real(r), imag(i) {\n",
    "        std::cout << \"Constructor. \" << real << '\\n';\n",
    "    }\n",
    "    \n",
    "    ~Complex() {\n",
    "        std::cout << \"Destructor. \" << real << '\\n';\n",
    "    }\n",
    "};\n",
    "\n",
    "int main() {\n",
    "    Complex complex1(1, 1), complex2(2, 2);     /* Local objects, allocated together, */ \n",
    "                                                /* de-allocated at end-of-scope. */\n",
    "}"
   ]
  },
  {
   "cell_type": "markdown",
   "id": "adf9e441",
   "metadata": {},
   "source": [
    "*Note:* The destructor is usually reponsible for free-ing data allocated dynamically and managed by the object."
   ]
  },
  {
   "cell_type": "markdown",
   "id": "034f50fa",
   "metadata": {},
   "source": [
    "*Note:* An implicit destructor that does nothing is always present, in the absence of an explicit destructor."
   ]
  },
  {
   "cell_type": "markdown",
   "id": "81c6211c",
   "metadata": {},
   "source": [
    "*Note:* Attributes of an object are destroyed in the reverse order they are declared in the class outline."
   ]
  },
  {
   "cell_type": "markdown",
   "id": "b7406425",
   "metadata": {},
   "source": [
    "The `this` keyword is an implicit parameter to every method in a class, of type `* const Class-Name`, containing the address of the respective object."
   ]
  },
  {
   "cell_type": "code",
   "execution_count": 170,
   "id": "963a2e64",
   "metadata": {},
   "outputs": [
    {
     "name": "stdout",
     "output_type": "stream",
     "text": [
      "[Real]: 5.1\n",
      "[Imag]: 6.4\n"
     ]
    }
   ],
   "source": [
    "#include <iostream>\n",
    "\n",
    "class Complex {\n",
    "    float real, imag;\n",
    "public:\n",
    "    Complex(float real, float imag) {\n",
    "        this->real = real, this->imag = imag;\n",
    "    }\n",
    "    \n",
    "    void print() {\n",
    "        std::cout << \"[Real]: \" << real << '\\n';\n",
    "        std::cout << \"[Imag]: \" << imag << '\\n';\n",
    "    }\n",
    "};\n",
    "\n",
    "int main() {\n",
    "    Complex complex(5.1f, 6.4f);\n",
    "    complex.print();\n",
    "}"
   ]
  },
  {
   "cell_type": "markdown",
   "id": "6549faa6",
   "metadata": {},
   "source": [
    "A method belonging to a class may be declared within, and defined outside, using the scoping operator, `::` ."
   ]
  },
  {
   "cell_type": "code",
   "execution_count": 171,
   "id": "a742cf09",
   "metadata": {},
   "outputs": [
    {
     "name": "stdout",
     "output_type": "stream",
     "text": [
      "[Real]: 4.6\n",
      "[Imag]: 5.3\n"
     ]
    }
   ],
   "source": [
    "#include <iostream>\n",
    "\n",
    "class Complex {\n",
    "    float real, imag;\n",
    "public:\n",
    "    Complex(float real, float imag);\n",
    "    void print();\n",
    "};\n",
    "\n",
    "int main() {\n",
    "    Complex(4.6f, 5.3f).print();\n",
    "}\n",
    "\n",
    "Complex::Complex(float r, float i) : real(r), imag(i) {}\n",
    "\n",
    "void Complex::print() {\n",
    "    std::cout << \"[Real]: \" << real << '\\n';\n",
    "    std::cout << \"[Imag]: \" << imag << '\\n';\n",
    "}"
   ]
  },
  {
   "cell_type": "markdown",
   "id": "ab29c1ae",
   "metadata": {},
   "source": [
    "*Note:* Methods defined within a class are implicitly `inline`. Hence, a class outline may be repeated in multiple files without the linker complaining about multiple definitions of the same method. `inline` functions behave differently in C++, discussed later."
   ]
  },
  {
   "cell_type": "markdown",
   "id": "70ea817d",
   "metadata": {},
   "source": [
    "*Note:* Methods defined outside of a class are not implictly `inline`. Use the `inline` keyword on the method defintion, and not declaration."
   ]
  },
  {
   "cell_type": "markdown",
   "id": "fdecd15c",
   "metadata": {},
   "source": [
    "A forward declaration of a class allows the use of a class name in ways that do not require knowledge about the members or the size of an object instantiated from the class."
   ]
  },
  {
   "cell_type": "code",
   "execution_count": null,
   "id": "02d585fe",
   "metadata": {},
   "outputs": [],
   "source": [
    "class Complex;\n",
    "\n",
    "int main() {\n",
    "    Complex *complex;     /* Pointer to class 'Complex' */\n",
    "}"
   ]
  },
  {
   "cell_type": "markdown",
   "id": "38438d22",
   "metadata": {},
   "source": [
    "### `explicit` Constructors <a class=\"anchor\" id=\"explicit-constructors\"></a>"
   ]
  },
  {
   "cell_type": "markdown",
   "id": "307442d7",
   "metadata": {},
   "source": [
    "A constructor declared `explicit` cannot be used in implicit conversions."
   ]
  },
  {
   "cell_type": "code",
   "execution_count": null,
   "id": "e1568aa9",
   "metadata": {},
   "outputs": [],
   "source": [
    "#include <iostream>\n",
    "\n",
    "class Complex {\n",
    "public:\n",
    "    float real, imag;      \n",
    "    \n",
    "    Complex(float r=0, float i=0) : real(r), imag(i) {\n",
    "        std::cout << \"Complex(float, float)\\n\";\n",
    "    }\n",
    "    \n",
    "    Complex(const Complex &complex) : real(complex.real), imag(complex.imag) {\n",
    "        std::cout << \"Complex(const Complex &)\\n\";\n",
    "    }\n",
    "};\n",
    "\n",
    "void print(Complex complex) {\n",
    "    std::cout << \"Real: \" << complex.real << \", Imag: \" << complex.imag << '\\n';\n",
    "}\n",
    "\n",
    "int main() {\n",
    "    Complex complex1(5);          /* Direct constructor call. */\n",
    "    Complex complex2 = 5;         /* Implicit conversion through constructor. */\n",
    "    \n",
    "    print(5);                     /* Direct constructor call, copy constructor skipped. */\n",
    "    print(complex1);              /* Copy constructor called. */\n",
    "}"
   ]
  },
  {
   "cell_type": "code",
   "execution_count": null,
   "id": "aa8e57b7",
   "metadata": {},
   "outputs": [],
   "source": [
    "#include <iostream>\n",
    "\n",
    "class Complex {\n",
    "public:\n",
    "    float real, imag;      \n",
    "    \n",
    "    explicit Complex(float r=0, float i=0) : real(r), imag(i) {\n",
    "        std::cout << \"Complex(float, float)\\n\";\n",
    "    }\n",
    "    \n",
    "    explicit Complex(const Complex &complex) : real(complex.real), imag(complex.imag) {\n",
    "        std::cout << \"Complex(const Complex &)\\n\";\n",
    "    }\n",
    "};\n",
    "\n",
    "void print(Complex complex) {\n",
    "    std::cout << \"Real: \" << complex.real << \", Imag: \" << complex.imag << '\\n';\n",
    "}\n",
    "\n",
    "int main() {\n",
    "    Complex complex1(5);              /* Direct constructor call. */\n",
    "    Complex complex2 = 5;             /* Error: ... */\n",
    "    \n",
    "    Complex complex3(complex1);       /* Direct (copy) constructor call. */\n",
    "    Complex complex4 = complex2;      /* Error: ... */\n",
    "    \n",
    "    print(5);                         /* Error: ... */\n",
    "    print(Complex(5));                /* Direct constructor call. */\n",
    "    \n",
    "    print(complex1);                  /* Error: ... */\n",
    "    print(Complex(complex1));         /* Direct (copy) constructor call. */\n",
    "}"
   ]
  },
  {
   "cell_type": "markdown",
   "id": "bb2330a3",
   "metadata": {},
   "source": [
    "*Note:* The compiler will not perform more than one direct conversion to implicitly or explicitly convert one type to another. For example, if `A` can be cast into `B`, and `B` into `C`, casting `A` into `C` is an error."
   ]
  },
  {
   "cell_type": "markdown",
   "id": "1ecfdd5b",
   "metadata": {},
   "source": [
    "### `const` Methods <a class=\"anchor\" id=\"const-methods\"></a>"
   ]
  },
  {
   "cell_type": "markdown",
   "id": "f735ccd7",
   "metadata": {},
   "source": [
    "When declaring a `const` object from a class, its public attributes become read-only. Additionally, only `const` methods may be called on it."
   ]
  },
  {
   "cell_type": "code",
   "execution_count": null,
   "id": "2b94d3d9",
   "metadata": {},
   "outputs": [],
   "source": [
    "#include <iostream>\n",
    "\n",
    "class Complex {\n",
    "    float real, imag;      \n",
    "public:\n",
    "    Complex(float real, float imag) {\n",
    "        this->real = real, this->imag = imag;\n",
    "    }\n",
    "    \n",
    "    void print() {\n",
    "        std::cout << \"[Real]: \" << real << '\\n';\n",
    "        std::cout << \"[Imag]: \" << imag << '\\n';\n",
    "    }\n",
    "};\n",
    "\n",
    "int main() {\n",
    "    const Complex complex(5.6f, 7.4f);\n",
    "    complex.print();                          /* Error: 'print' may modify object declared 'const'. */\n",
    "}"
   ]
  },
  {
   "cell_type": "code",
   "execution_count": null,
   "id": "f05e9187",
   "metadata": {},
   "outputs": [],
   "source": [
    "#include <iostream>\n",
    "\n",
    "class Complex {\n",
    "    float real, imag;      \n",
    "public:\n",
    "    Complex(float real, float imag) {\n",
    "        this->real = real, this->imag = imag;\n",
    "    }\n",
    "    \n",
    "    void print() const {                            /* 'const' method. */\n",
    "        std::cout << \"[Real]: \" << real << '\\n';\n",
    "        std::cout << \"[Imag]: \" << imag << '\\n';\n",
    "    }\n",
    "};\n",
    "\n",
    "int main() {\n",
    "    const Complex complex(5.6f, 7.4f);\n",
    "    complex.print();                                /* Legal call. */\n",
    "}"
   ]
  },
  {
   "cell_type": "markdown",
   "id": "229734de",
   "metadata": {},
   "source": [
    "*Note:* Any attempt to modify attributes of an object within `const` methods results in an error."
   ]
  },
  {
   "cell_type": "markdown",
   "id": "309a0a99",
   "metadata": {},
   "source": [
    "*Note:* In objects declared `const`, the `this` pointer is of type `const Class-Type const *`. Additionally, all attributes are implicitly `const`. Hence, you may not return non-`const` references or pointers to the object or its attributes within `const` methods."
   ]
  },
  {
   "cell_type": "markdown",
   "id": "351cd50b",
   "metadata": {},
   "source": [
    "A `const` implementation of an already defined method, with the same signature, and not necessarily the same return type, may be provided. "
   ]
  },
  {
   "cell_type": "code",
   "execution_count": 55,
   "id": "2cd5832f",
   "metadata": {},
   "outputs": [
    {
     "name": "stdout",
     "output_type": "stream",
     "text": [
      "Non-const.\n",
      "Const.\n"
     ]
    }
   ],
   "source": [
    "#include <iostream>\n",
    "\n",
    "class A {\n",
    "public:\n",
    "    void hello() {                       /* default implementation */\n",
    "        std::cout << \"Non-const.\\n\";\n",
    "    }\n",
    "    \n",
    "    void hello() const {                 /* 'const' implementation */\n",
    "        std::cout << \"Const.\\n\";\n",
    "    }\n",
    "};\n",
    "\n",
    "int main() {\n",
    "    A a;\n",
    "    \n",
    "    a.hello();                           \n",
    "    \n",
    "    static_cast<const A &>(a).hello();       /* cast as 'const' reference to 'A' */\n",
    "}"
   ]
  },
  {
   "cell_type": "markdown",
   "id": "10287eca",
   "metadata": {},
   "source": [
    "### `mutable` Attributes <a class=\"anchor\" id=\"mutable-attributes\"></a>"
   ]
  },
  {
   "cell_type": "markdown",
   "id": "29dd5e44",
   "metadata": {},
   "source": [
    "A `mutable` attribute may be modified within `const` methods."
   ]
  },
  {
   "cell_type": "code",
   "execution_count": 174,
   "id": "a129d6d8",
   "metadata": {},
   "outputs": [
    {
     "name": "stdout",
     "output_type": "stream",
     "text": [
      "13.3"
     ]
    }
   ],
   "source": [
    "#include <iostream>\n",
    "\n",
    "class Complex {\n",
    "    float real, imag;\n",
    "    mutable float sum;\n",
    "public:\n",
    "    Complex(float real, float imag) {\n",
    "        this->real = real, this->imag = imag;\n",
    "    }\n",
    "    \n",
    "    void update_sum() const {                 /* 'const' method may modify 'mutable' attributes. */\n",
    "        sum = real + imag;\n",
    "        std::cout << sum;\n",
    "    }\n",
    "};\n",
    "\n",
    "int main() {\n",
    "    const Complex complex(5.6f, 7.7f);\n",
    "    complex.update_sum();            \n",
    "}"
   ]
  },
  {
   "cell_type": "markdown",
   "id": "a5bc715f",
   "metadata": {},
   "source": [
    "### The `static` keyword <a class=\"anchor\" id=\"the-static-keyword\"></a>"
   ]
  },
  {
   "cell_type": "markdown",
   "id": "c3efefcb",
   "metadata": {},
   "source": [
    "Within a class, the static keyword defines an attribute or method that belongs to the class and not a specific object."
   ]
  },
  {
   "cell_type": "code",
   "execution_count": 175,
   "id": "12be3e5b",
   "metadata": {},
   "outputs": [
    {
     "name": "stdout",
     "output_type": "stream",
     "text": [
      "[Real]: 0.5\n",
      "[Imag]: 0.6\n"
     ]
    }
   ],
   "source": [
    "#include <iostream>\n",
    "\n",
    "class Complex {\n",
    "    float real, imag;\n",
    "public:\n",
    "    static Complex default_value;                   /* Public static attribute declaration. */\n",
    "\n",
    "    Complex(float r, float i) : real(r), imag(i) {}\n",
    "    \n",
    "    void print() {\n",
    "        std::cout << \"[Real]: \" << real << '\\n';\n",
    "        std::cout << \"[Imag]: \" << imag << '\\n';\n",
    "    }\n",
    "};\n",
    "\n",
    "Complex Complex::default_value(0.5f, 0.6f);        /* Must be initialized once outside of class. */\n",
    "\n",
    "int main() {\n",
    "    Complex::default_value.print();\n",
    "}"
   ]
  },
  {
   "cell_type": "code",
   "execution_count": 176,
   "id": "a3a9fce6",
   "metadata": {},
   "outputs": [
    {
     "name": "stdout",
     "output_type": "stream",
     "text": [
      "[Real]: 0.5\n",
      "[Imag]: 0.6\n"
     ]
    }
   ],
   "source": [
    "#include <iostream>\n",
    "\n",
    "class Complex {\n",
    "    float real, imag;\n",
    "    static Complex default_value;                    /* Private static attribute declaration. */            \n",
    "public:\n",
    "\n",
    "    Complex(float real, float imag) {\n",
    "        this->real = real, this->imag = imag;\n",
    "    }\n",
    "    \n",
    "    void print() {\n",
    "        std::cout << \"[Real]: \" << real << '\\n';\n",
    "        std::cout << \"[Imag]: \" << imag << '\\n';\n",
    "    }\n",
    "    \n",
    "    static void print_default() {                    /* Static method. */\n",
    "        default_value.print();\n",
    "    }\n",
    "};\n",
    "\n",
    "Complex Complex::default_value(0.5f, 0.6f);          /* Can be initialized, even though it is private. */\n",
    "\n",
    "int main() {\n",
    "    Complex::print_default();                        /* Static method call. */\n",
    "}"
   ]
  },
  {
   "cell_type": "markdown",
   "id": "a01c2398",
   "metadata": {},
   "source": [
    "*Note:* Static attributes are accessible in any file, as long as the class outline, which includes the declarations of all static attributes, has been included beforehand."
   ]
  },
  {
   "cell_type": "markdown",
   "id": "e358618d",
   "metadata": {},
   "source": [
    "*Note:* When initializing static attributes or defining static methods outside of a class, omit the `static` keyword."
   ]
  },
  {
   "cell_type": "markdown",
   "id": "ae6dfe78",
   "metadata": {},
   "source": [
    "*Note:* A `static const int` attribute may be initialized within class, directly in declaration, in which case, it would be implicitly `inline`. However, to be utilized as an object in memory with a unique address, it must be declared once outside of class as well, omitting the initializer. It is not recommended to utilize this feature."
   ]
  },
  {
   "cell_type": "markdown",
   "id": "df82ac73",
   "metadata": {},
   "source": [
    "*Note:* Static variables, in general, are constructed in the order of definition, and not declaration. They are destructed in the reverse order of definition, after `main` exits."
   ]
  },
  {
   "cell_type": "markdown",
   "id": "2b5ce946",
   "metadata": {},
   "source": [
    "*Note:* There is no way to gurantee the order of construction and destruction between static variables defined in different files."
   ]
  },
  {
   "cell_type": "markdown",
   "id": "0ce3b7d2",
   "metadata": {},
   "source": [
    "A static member of a class may be accessed through an object from the same class."
   ]
  },
  {
   "cell_type": "code",
   "execution_count": 177,
   "id": "0f3982d9",
   "metadata": {
    "scrolled": true
   },
   "outputs": [
    {
     "name": "stdout",
     "output_type": "stream",
     "text": [
      "5"
     ]
    }
   ],
   "source": [
    "#include <iostream>\n",
    "\n",
    "class Complex {\n",
    "public:\n",
    "    static int x;\n",
    "};\n",
    "\n",
    "int Complex::x;                   /* Zero-initialized. */\n",
    "\n",
    "int main() {\n",
    "    Complex().x = 5;              /* Access through temporary objects. */\n",
    "    std::cout << Complex().x;\n",
    "}"
   ]
  },
  {
   "cell_type": "markdown",
   "id": "57f8d963",
   "metadata": {},
   "source": [
    "### Pointers to Members <a class=\"anchor\" id=\"pointers-to-members\"></a>"
   ]
  },
  {
   "cell_type": "markdown",
   "id": "48e5eb84",
   "metadata": {},
   "source": [
    "A *pointer-to-member* is a pointer to a member of a class."
   ]
  },
  {
   "cell_type": "code",
   "execution_count": 36,
   "id": "f83ae6ab",
   "metadata": {},
   "outputs": [
    {
     "name": "stdout",
     "output_type": "stream",
     "text": [
      "12"
     ]
    }
   ],
   "source": [
    "#include <iostream>\n",
    "\n",
    "class A {\n",
    "    int x;\n",
    "public:    \n",
    "    A(int x) : x(x) {}\n",
    "\n",
    "    void print() {\n",
    "        std::cout << x;\n",
    "    }\n",
    "};\n",
    "\n",
    "int main() {\n",
    "    void (A::*ptr_print)() = &A::print;            /* Pointer to member method. */\n",
    "\n",
    "    A a1(1), a2(2);\n",
    "    (a1.*ptr_print)();                             /* Pointer-to-member operator. */\n",
    "    (a2.*ptr_print)();\n",
    "}"
   ]
  },
  {
   "cell_type": "code",
   "execution_count": 38,
   "id": "24f339b2",
   "metadata": {},
   "outputs": [
    {
     "name": "stdout",
     "output_type": "stream",
     "text": [
      "12"
     ]
    }
   ],
   "source": [
    "#include <iostream>\n",
    "\n",
    "class A {\n",
    "    int x;\n",
    "public:    \n",
    "    A(int x) : x(x) {}\n",
    "\n",
    "    void print() {\n",
    "        std::cout << x;\n",
    "    }\n",
    "    \n",
    "    void print_func(void (A::*ptr_print)()) {\n",
    "        (this->*ptr_print)();                      /* Pointer-to-member operator. */\n",
    "    }\n",
    "};\n",
    "\n",
    "int main() {\n",
    "    void (A::*ptr_print)() = &A::print;            /* Pointer-to-member method. */\n",
    "\n",
    "    A a1(1), a2(2);\n",
    "    a1.print_func(ptr_print);\n",
    "    a2.print_func(ptr_print);\n",
    "}"
   ]
  },
  {
   "cell_type": "code",
   "execution_count": 76,
   "id": "0b163479",
   "metadata": {},
   "outputs": [
    {
     "name": "stdout",
     "output_type": "stream",
     "text": [
      "2"
     ]
    }
   ],
   "source": [
    "#include <iostream>\n",
    "\n",
    "class A {\n",
    "public:\n",
    "    int x;\n",
    "    int y;\n",
    "    \n",
    "    A(int x, int y) : x(x), y(y) {}\n",
    "};\n",
    "\n",
    "int main() {\n",
    "    A a(1, 2);\n",
    "    \n",
    "    int A::*ptr = &A::y;        /* Pointer-to-member attribute. */\n",
    "    \n",
    "    std::cout << a.*ptr;\n",
    "}"
   ]
  },
  {
   "cell_type": "markdown",
   "id": "6738e853",
   "metadata": {},
   "source": [
    "*Note:* Because of enforced accessibility rules, a pointer to a private member cannot be acquired outside of a class."
   ]
  },
  {
   "cell_type": "markdown",
   "id": "fed6c34a",
   "metadata": {},
   "source": [
    "*Note:* The precedence of `::*` is ambigious. It is recommended to always surround it with `()`."
   ]
  },
  {
   "cell_type": "markdown",
   "id": "e8473eaf",
   "metadata": {},
   "source": [
    "A pointer to a static method is an ordinary function pointer."
   ]
  },
  {
   "cell_type": "code",
   "execution_count": 35,
   "id": "ce3921f5",
   "metadata": {},
   "outputs": [
    {
     "name": "stdout",
     "output_type": "stream",
     "text": [
      "10"
     ]
    }
   ],
   "source": [
    "#include <iostream>\n",
    "\n",
    "class A {\n",
    "    static int x;\n",
    "public:    \n",
    "    static void print() {\n",
    "        std::cout << x;\n",
    "    }\n",
    "};\n",
    "\n",
    "int A::x = 10;\n",
    "\n",
    "int main() {\n",
    "    void (*ptr_print)() = &A::print;\n",
    "    ptr_print();\n",
    "}"
   ]
  },
  {
   "cell_type": "markdown",
   "id": "b850cb89",
   "metadata": {},
   "source": [
    "### `friend` Functions and Classes <a class=\"anchor\" id=\"friend-functions-and-classes\"></a>"
   ]
  },
  {
   "cell_type": "markdown",
   "id": "a52a7672",
   "metadata": {},
   "source": [
    "A *friend* function of a class is a non-member function with access to that class's private attributes.\n",
    "\n",
    "Similarly, a *friend class* of another class has access to that class's private attributes."
   ]
  },
  {
   "cell_type": "markdown",
   "id": "bceb5919",
   "metadata": {},
   "source": [
    "*Note:* Whether a friend declaration is placed in a private or public access section, does not matter."
   ]
  },
  {
   "cell_type": "code",
   "execution_count": 200,
   "id": "143cf73b",
   "metadata": {},
   "outputs": [
    {
     "name": "stdout",
     "output_type": "stream",
     "text": [
      "[Real]: 5\n",
      "[Imag]: 6\n"
     ]
    }
   ],
   "source": [
    "#include <iostream>\n",
    "\n",
    "class Complex {\n",
    "    float real, imag;\n",
    "public:\n",
    "    Complex(float r=0, float i=0) : real(r), imag(i) {}\n",
    "    \n",
    "    friend void print(const Complex &c);\n",
    "};\n",
    "    \n",
    "void print(const Complex &c) {\n",
    "    std::cout << \"[Real]: \" << c.real << '\\n';\n",
    "    std::cout << \"[Imag]: \" << c.imag << '\\n';\n",
    "}\n",
    "\n",
    "int main() {\n",
    "    print(Complex(5, 6));\n",
    "}"
   ]
  },
  {
   "cell_type": "markdown",
   "id": "c5f135af",
   "metadata": {},
   "source": [
    "*Note:* A friend function must either be declared before a class outline, or have at least one parameter of the class type while being within the same scope."
   ]
  },
  {
   "cell_type": "markdown",
   "id": "a7deaec4",
   "metadata": {},
   "source": [
    "*Note:* A friend function can be a stand-alone function, or a member method."
   ]
  },
  {
   "cell_type": "code",
   "execution_count": 477,
   "id": "5ea06210",
   "metadata": {},
   "outputs": [
    {
     "name": "stdout",
     "output_type": "stream",
     "text": [
      "5"
     ]
    }
   ],
   "source": [
    "#include <iostream>\n",
    "#include <cmath>\n",
    "\n",
    "class Complex {\n",
    "    float real, imag;\n",
    "public:\n",
    "    Complex(float r=0, float i=0) : real(r), imag(i) {}\n",
    "    \n",
    "    friend class Magnitude;\n",
    "};\n",
    "    \n",
    "class Magnitude {\n",
    "    float mag;\n",
    "public:\n",
    "    Magnitude(Complex c) :\n",
    "        mag(std::sqrt(std::pow(c.real, 2) + std::pow(c.imag, 2))) {}\n",
    "        \n",
    "    float get() { return mag; }\n",
    "};\n",
    "\n",
    "int main() {\n",
    "    std::cout << Magnitude(Complex(3, 4)).get();\n",
    "}"
   ]
  },
  {
   "cell_type": "markdown",
   "id": "d649d985",
   "metadata": {},
   "source": [
    "*Note:* A friend class must either be forward-declared before a befriended class, or after and within the same enclosing scope as the befriended class."
   ]
  },
  {
   "cell_type": "markdown",
   "id": "62818cdc",
   "metadata": {},
   "source": [
    "### Operator Overloading <a class=\"anchor\" id=\"operator-overloading\"></a>"
   ]
  },
  {
   "cell_type": "markdown",
   "id": "99812ee3",
   "metadata": {},
   "source": [
    "An operator may be *overloaded* with a non-static method of a class, or a non-member function.\n",
    "\n",
    "For a non-static method of a class, the first operand must be an object of the class, and is implicitly passed on through `this`. Otherwise, C++ enforces minimal constraints on the type of parameters to both non-static methods and non-member functions.\n",
    "\n",
    "However, C++ will enforce the number of parameters for binary and unary operators, respectively.\n",
    "\n",
    "Operands are passed onto an overloading function in left-to-right order."
   ]
  },
  {
   "cell_type": "markdown",
   "id": "bacac477",
   "metadata": {},
   "source": [
    "| *Operator* |\n",
    "| --- |\n",
    "| `()` `[]` `->` |\n",
    "| (*Post*) `++` `--` |\n",
    "| `+` `-` `!` `~` *`(type)`* `*` `&` |\n",
    "| (*Pre*) `++` `--` |\n",
    "| `*` `/` `%` |\n",
    "| `+` `-` |\n",
    "| `<<` `>>` |\n",
    "| `<` `<=` `>` `>=` |\n",
    "| `==` `!=` |\n",
    "| `&` `^` `\\|` |\n",
    "| `&&` `\\|\\|` |\n",
    "| `=` |\n",
    "| `+=` `-=` `*=` `/=` `%=` `&=` `^=` `\\|=` `<<=` `>>=` |\n",
    "| `,` |"
   ]
  },
  {
   "cell_type": "markdown",
   "id": "977fb845",
   "metadata": {},
   "source": [
    "*Note:* `new`, `delete` and `->*` may also be overloaded, but are not discussed here."
   ]
  },
  {
   "cell_type": "markdown",
   "id": "18dc724f",
   "metadata": {},
   "source": [
    "*Note:* `()`, `[]`, `->`, and `=` may only be overloaded with a non-static method of a class."
   ]
  },
  {
   "cell_type": "markdown",
   "id": "2a08f88c",
   "metadata": {},
   "source": [
    "*Note:* Only `=`, *(unary)* `&`, and `,` are implicitly defined for every class, in the absence of an explicit definition."
   ]
  },
  {
   "cell_type": "markdown",
   "id": "f1e09b90",
   "metadata": {},
   "source": [
    "*Note:* Except `()`, operator overloading functions cannot have default arguments."
   ]
  },
  {
   "cell_type": "markdown",
   "id": "98093888",
   "metadata": {},
   "source": [
    "*Note:* Operator overloading functions may be overloaded themselves, like any function in C++."
   ]
  },
  {
   "cell_type": "markdown",
   "id": "cc62441e",
   "metadata": {},
   "source": [
    "*Note:* Operator overloading non-member functions with no user-defined types in their parameters are illegal."
   ]
  },
  {
   "cell_type": "markdown",
   "id": "76fd3ba7",
   "metadata": {},
   "source": [
    "#### Arithmetic, Comparison, Bitwise, Logical <a class=\"anchor\" id=\"oo-most\"></a>"
   ]
  },
  {
   "cell_type": "markdown",
   "id": "872c29f7",
   "metadata": {},
   "source": [
    "| *Operator* |\n",
    "| --- |\n",
    "| `*` `/` `%` |\n",
    "| `+` `-` |\n",
    "| `<<` `>>` |\n",
    "| `<` `<=` `>` `>=` |\n",
    "| `==` `!=` |\n",
    "| `&` `^` `\\|` |\n",
    "| `&&` `\\|\\|` |"
   ]
  },
  {
   "cell_type": "code",
   "execution_count": null,
   "id": "c95c661b",
   "metadata": {},
   "outputs": [],
   "source": [
    "#include <iostream>\n",
    "\n",
    "class Complex {\n",
    "    float real, imag;\n",
    "public:\n",
    "    Complex(float r=0, float i=0) : real(r), imag(i) {}\n",
    "    \n",
    "    Complex operator+(const Complex &complex) {                  /* Non-static method. */\n",
    "        return Complex(real + complex.real, imag + complex.imag);\n",
    "    }\n",
    "    \n",
    "    void print() {\n",
    "        std::cout << \"[Real]: \" << real << '\\n';\n",
    "        std::cout << \"[Imag]: \" << imag << '\\n';\n",
    "    }\n",
    "};\n",
    "\n",
    "int main() {\n",
    "    (Complex(5, 6) + Complex(4)).print();    /* Valid. */\n",
    "    (Complex(5, 6) + 4).print();             /* Valid. */\n",
    "    (4 + Complex(5, 6)).print();             /* Error: ... */\n",
    "}"
   ]
  },
  {
   "cell_type": "code",
   "execution_count": null,
   "id": "1e9d0952",
   "metadata": {
    "scrolled": true
   },
   "outputs": [],
   "source": [
    "#include <iostream>\n",
    "\n",
    "class Complex {\n",
    "    float real, imag;\n",
    "public:\n",
    "    Complex(float r=0, float i=0) : real(r), imag(i) {}\n",
    "    \n",
    "    void print() {\n",
    "        std::cout << \"[Real]: \" << real << '\\n';\n",
    "        std::cout << \"[Imag]: \" << imag << '\\n';\n",
    "    }\n",
    "    \n",
    "    friend Complex operator+(const Complex &c1, const Complex &c2);\n",
    "};\n",
    "\n",
    "Complex operator+(const Complex &c1, const Complex &c2) {                  /* Non-member function. */\n",
    "    return Complex(c1.real + c2.real, c1.imag + c2.imag);\n",
    "}\n",
    "\n",
    "int main() {\n",
    "    (Complex(5, 6) + Complex(4)).print();    /* Valid. */\n",
    "    (Complex(5, 6) + 4).print();             /* Valid. */\n",
    "    (4 + Complex(5, 6)).print();             /* Valid. */\n",
    "}"
   ]
  },
  {
   "cell_type": "markdown",
   "id": "b840ed6d",
   "metadata": {},
   "source": [
    "#### Assignment <a class=\"anchor\" id=\"oo-assignment\"></a>"
   ]
  },
  {
   "cell_type": "markdown",
   "id": "dd9dfa6e",
   "metadata": {},
   "source": [
    "| *Operator* |\n",
    "| --- |\n",
    "| `=` |\n",
    "| `+=` `-=` `*=` `/=` `%=` `&=` `^=` `\\|=` `<<=` `>>=` |"
   ]
  },
  {
   "cell_type": "code",
   "execution_count": 182,
   "id": "8584e495",
   "metadata": {},
   "outputs": [
    {
     "name": "stdout",
     "output_type": "stream",
     "text": [
      "Constructor.\n",
      "Constructor.\n",
      "Assignment operator.\n"
     ]
    }
   ],
   "source": [
    "#include <iostream>\n",
    "\n",
    "class Complex {\n",
    "    float real, imag;\n",
    "public:\n",
    "    Complex(float r=0, float i=0) : real(r), imag(i) {\n",
    "        std::cout << \"Constructor.\\n\";\n",
    "    }\n",
    "    \n",
    "    Complex & operator=(const Complex &complex) {                  /* Non-static method. */\n",
    "        real = complex.real;\n",
    "        imag = complex.imag;\n",
    "        std::cout << \"Assignment operator.\\n\";\n",
    "        return *this;\n",
    "    }\n",
    "    \n",
    "    void print() {\n",
    "        std::cout << \"[Real]: \" << real << '\\n';\n",
    "        std::cout << \"[Imag]: \" << imag << '\\n';\n",
    "    }\n",
    "};\n",
    "\n",
    "int main() {\n",
    "    Complex comp = 5;    /* Constructing Complex(5) (initialization). */\n",
    "    comp = 6;            /* Constructing Complex(6), then assignment. */\n",
    "}"
   ]
  },
  {
   "cell_type": "markdown",
   "id": "8ad0b6f0",
   "metadata": {},
   "source": [
    "#### Unary <a class=\"anchor\" id=\"oo-unary\"></a>"
   ]
  },
  {
   "cell_type": "markdown",
   "id": "9e9c9a2c",
   "metadata": {},
   "source": [
    "| *Operator* |\n",
    "| --- |\n",
    "| `+` `-` `!` `~` `*` `&` |"
   ]
  },
  {
   "cell_type": "code",
   "execution_count": 183,
   "id": "7e6462ff",
   "metadata": {},
   "outputs": [
    {
     "name": "stdout",
     "output_type": "stream",
     "text": [
      "[Real]: -5\n",
      "[Imag]: -3\n"
     ]
    }
   ],
   "source": [
    "#include <iostream>\n",
    "\n",
    "class Complex {\n",
    "    float real, imag;\n",
    "public:\n",
    "    Complex(float r=0, float i=0) : real(r), imag(i) {}\n",
    "    \n",
    "    void print() {\n",
    "        std::cout << \"[Real]: \" << real << '\\n';\n",
    "        std::cout << \"[Imag]: \" << imag << '\\n';\n",
    "    }\n",
    "    \n",
    "    friend Complex operator-(const Complex &complex);\n",
    "};\n",
    "\n",
    "Complex operator-(const Complex &complex) {                                 /* Non-member function. */\n",
    "    return Complex(-complex.real, -complex.imag);\n",
    "}\n",
    "\n",
    "int main() {\n",
    "    (-Complex(5, 3)).print();\n",
    "}"
   ]
  },
  {
   "cell_type": "markdown",
   "id": "d581ea60",
   "metadata": {},
   "source": [
    "#### Type Conversion <a class=\"anchor\" id=\"oo-type-conversion\"></a>"
   ]
  },
  {
   "cell_type": "markdown",
   "id": "3f619823",
   "metadata": {},
   "source": [
    "| *Operator* |\n",
    "| --- |\n",
    "| *`(type)`* |"
   ]
  },
  {
   "cell_type": "code",
   "execution_count": 185,
   "id": "431e6cea",
   "metadata": {},
   "outputs": [
    {
     "name": "stdout",
     "output_type": "stream",
     "text": [
      "5.3"
     ]
    }
   ],
   "source": [
    "#include <iostream>\n",
    "\n",
    "class Complex {\n",
    "    float real, imag;\n",
    "public:\n",
    "    Complex(float r=0, float i=0) : real(r), imag(i) {}\n",
    "    \n",
    "    void print() {\n",
    "        std::cout << \"[Real]: \" << real << '\\n';\n",
    "        std::cout << \"[Imag]: \" << imag << '\\n';\n",
    "    }\n",
    "    \n",
    "    operator float() {\n",
    "        return real;\n",
    "    }\n",
    "};\n",
    "\n",
    "int main() {\n",
    "    float tmp = Complex(5.3, 4.5);\n",
    "    std::cout << tmp;\n",
    "}"
   ]
  },
  {
   "cell_type": "markdown",
   "id": "22b2dcdc",
   "metadata": {},
   "source": [
    "*Note:* Use type conversion operator overloading with restraint, since it can introduce ambiguity to the compiler rather quickly."
   ]
  },
  {
   "cell_type": "markdown",
   "id": "4d8ef683",
   "metadata": {},
   "source": [
    "#### Increment, Decrement <a class=\"anchor\" id=\"oo-increment-decrement\"></a>"
   ]
  },
  {
   "cell_type": "markdown",
   "id": "f2cdcbf0",
   "metadata": {},
   "source": [
    "| *Operator* |\n",
    "| --- |\n",
    "| (*Post*) `++` `--` |\n",
    "| (*Pre*) `++` `--` |"
   ]
  },
  {
   "cell_type": "code",
   "execution_count": 186,
   "id": "a5bfd7b8",
   "metadata": {
    "scrolled": true
   },
   "outputs": [
    {
     "name": "stdout",
     "output_type": "stream",
     "text": [
      "[Real]: 5, [Imag]: 7\n",
      "[Real]: 6, [Imag]: 8\n",
      "[Real]: 7, [Imag]: 9\n",
      "[Real]: 7, [Imag]: 9\n"
     ]
    }
   ],
   "source": [
    "#include <iostream>\n",
    "\n",
    "class Complex {\n",
    "    float real, imag;\n",
    "public:\n",
    "    Complex(float r=0, float i=0) : real(r), imag(i) {}\n",
    "    \n",
    "    void print() {\n",
    "        std::cout << \"[Real]: \" << real << \", \";\n",
    "        std::cout << \"[Imag]: \" << imag << '\\n';\n",
    "    }\n",
    "    \n",
    "    Complex operator++(int dummy) {             /* Postfix. */\n",
    "        return Complex(real++, imag++);\n",
    "    }\n",
    "    \n",
    "    Complex & operator++() {                    /* Prefix. */\n",
    "        real++, imag++;\n",
    "        return *this;\n",
    "    }\n",
    "};\n",
    "\n",
    "int main() {\n",
    "    Complex complex(5, 7);\n",
    "    (complex++).print();\n",
    "    complex.print();\n",
    "    (++complex).print();\n",
    "    complex.print();\n",
    "}"
   ]
  },
  {
   "cell_type": "markdown",
   "id": "8b81bac9",
   "metadata": {},
   "source": [
    "*Note:* The *dummy* variable to a post-increment operator overloading function is never used."
   ]
  },
  {
   "cell_type": "markdown",
   "id": "b4a99ade",
   "metadata": {},
   "source": [
    "#### Subscripting <a class=\"anchor\" id=\"oo-subscripting\"></a>"
   ]
  },
  {
   "cell_type": "markdown",
   "id": "30d63ba5",
   "metadata": {},
   "source": [
    "| *Operator* |\n",
    "| --- |\n",
    "| `[]` |"
   ]
  },
  {
   "cell_type": "code",
   "execution_count": 187,
   "id": "88f8afd5",
   "metadata": {},
   "outputs": [
    {
     "name": "stdout",
     "output_type": "stream",
     "text": [
      "3.3\n",
      "4.4\n"
     ]
    }
   ],
   "source": [
    "#include <iostream>\n",
    "\n",
    "class Complex {\n",
    "    float real, imag;\n",
    "public:\n",
    "    Complex(float r=0, float i=0) : real(r), imag(i) {}\n",
    "    \n",
    "    void print() {\n",
    "        std::cout << \"[Real]: \" << real << \", \";\n",
    "        std::cout << \"[Imag]: \" << imag << '\\n';\n",
    "    }\n",
    "    \n",
    "    float operator[](int index) {\n",
    "        return index == 0 ? real : imag;\n",
    "    }\n",
    "};\n",
    "\n",
    "int main() {\n",
    "    Complex complex(3.3, 4.4);\n",
    "    std::cout << complex[0] << '\\n';\n",
    "    std::cout << complex[1] << '\\n';\n",
    "}"
   ]
  },
  {
   "cell_type": "markdown",
   "id": "3a4b650a",
   "metadata": {},
   "source": [
    "*Note:* The subscripting operator must receive a single parameter."
   ]
  },
  {
   "cell_type": "markdown",
   "id": "620af0ef",
   "metadata": {},
   "source": [
    "#### Function Call <a class=\"anchor\" id=\"oo-function-call\"></a>"
   ]
  },
  {
   "cell_type": "markdown",
   "id": "836fb04a",
   "metadata": {},
   "source": [
    "| *Operator* |\n",
    "| --- |\n",
    "| `()` |"
   ]
  },
  {
   "cell_type": "code",
   "execution_count": 188,
   "id": "6ec22279",
   "metadata": {},
   "outputs": [
    {
     "name": "stdout",
     "output_type": "stream",
     "text": [
      "[0][5]\n",
      "[4][0]"
     ]
    }
   ],
   "source": [
    "#include <iostream>\n",
    "\n",
    "class Matrix {\n",
    "    int arr[4];\n",
    "    \n",
    "    void print_val(int i) {\n",
    "        std::cout << '[' << arr[i] << ']';\n",
    "    }\n",
    "public:\n",
    "    Matrix() {\n",
    "        for (int i = 0; i < 4; i++) { \n",
    "            arr[i] = 0;\n",
    "        }\n",
    "    }\n",
    "    \n",
    "    void print() {\n",
    "        print_val(0);\n",
    "        print_val(1);\n",
    "        std::cout << '\\n';\n",
    "        print_val(2);\n",
    "        print_val(3);\n",
    "    }\n",
    "    \n",
    "    int & operator() (int i=0, int j=0) {\n",
    "        return arr[i*2+j];\n",
    "    }\n",
    "};\n",
    "\n",
    "int main() {\n",
    "    Matrix matrix;\n",
    "    matrix(0, 1) = 5;\n",
    "    matrix(1) = 4;\n",
    "    matrix.print();\n",
    "}"
   ]
  },
  {
   "cell_type": "markdown",
   "id": "dadabd34",
   "metadata": {},
   "source": [
    "#### The `->` operator <a class=\"anchor\" id=\"oo-the-->-operator\"></a>"
   ]
  },
  {
   "cell_type": "markdown",
   "id": "c1043139",
   "metadata": {},
   "source": [
    "| *Operator* |\n",
    "| --- |\n",
    "| `->` |"
   ]
  },
  {
   "cell_type": "code",
   "execution_count": 189,
   "id": "bb77443a",
   "metadata": {},
   "outputs": [
    {
     "name": "stdout",
     "output_type": "stream",
     "text": [
      "[Real]: 3.3, [Imag]: 4.4\n"
     ]
    }
   ],
   "source": [
    "#include <iostream>\n",
    "\n",
    "class Complex {\n",
    "    float real, imag;\n",
    "public:\n",
    "    Complex(float r=0, float i=0) : real(r), imag(i) {}\n",
    "    \n",
    "    void print() {\n",
    "        std::cout << \"[Real]: \" << real << \", \";\n",
    "        std::cout << \"[Imag]: \" << imag << '\\n';\n",
    "    }\n",
    "    \n",
    "    Complex * operator->() {                  /* Must return pointer, and receive no parameters. */\n",
    "        return this;\n",
    "    }\n",
    "};\n",
    "\n",
    "int main() {\n",
    "    Complex complex(3.3, 4.4);\n",
    "    complex->print();\n",
    "}"
   ]
  },
  {
   "cell_type": "markdown",
   "id": "0fc36594",
   "metadata": {},
   "source": [
    "*Note*: `->` overloading is primarily used to implement *smart pointers*. Those are objects that behave like pointers, with additional functionalities."
   ]
  },
  {
   "cell_type": "markdown",
   "id": "8f9a66d9",
   "metadata": {},
   "source": [
    "### Inheritance <a class=\"anchor\" id=\"inheritance\"></a>"
   ]
  },
  {
   "cell_type": "markdown",
   "id": "74cc1626",
   "metadata": {},
   "source": [
    "A *derived* class is a class that *inherits* all attributes and methods from a *base* class."
   ]
  },
  {
   "cell_type": "code",
   "execution_count": null,
   "id": "8945b956",
   "metadata": {},
   "outputs": [],
   "source": [
    "class Animal {\n",
    "    /* Properties and methods. */\n",
    "};\n",
    "\n",
    "class Dog : public Animal {\n",
    "    /* Inherited and accessible here. */\n",
    "};"
   ]
  },
  {
   "cell_type": "markdown",
   "id": "85c1716f",
   "metadata": {},
   "source": [
    "A forward declaration of a base class is not sufficient for a derived class to inherit from."
   ]
  },
  {
   "cell_type": "code",
   "execution_count": null,
   "id": "6f51f078",
   "metadata": {
    "scrolled": true
   },
   "outputs": [],
   "source": [
    "class Animal;\n",
    "\n",
    "class Dog : public Animal {};     /* Error: Invalid use of incomplete type 'Animal' */\n",
    "\n",
    "class Animal {};"
   ]
  },
  {
   "cell_type": "markdown",
   "id": "9b62b487",
   "metadata": {},
   "source": [
    "When constructing an object from a derived class, the constructor of the base class is called first, followed by the attributes of the derived class, and lastly, the constructor of the derived class.\n",
    "\n",
    "By default, the default constructor of the base class is called. An *indirection*, however, may be provided in the initialization list of the called constructor of the derived class."
   ]
  },
  {
   "cell_type": "code",
   "execution_count": null,
   "id": "1da270f2",
   "metadata": {},
   "outputs": [],
   "source": [
    "class Employee {\n",
    "    int id;\n",
    "public:\n",
    "    Employee(int id=0) : id(id) {}\n",
    "};\n",
    "\n",
    "class Manager : public Employee {\n",
    "public:\n",
    "    Manager(int id=0) : Employee(id) {}\n",
    "};"
   ]
  },
  {
   "cell_type": "markdown",
   "id": "b0cee247",
   "metadata": {},
   "source": [
    "*Note:* The attributes of a base class cannot be directly initialized in a derived class."
   ]
  },
  {
   "cell_type": "markdown",
   "id": "8e69c985",
   "metadata": {},
   "source": [
    "*Note:* A base constructor cannot be called outside of a derived class, to instantiate a derived object, regardless of its access specifier."
   ]
  },
  {
   "cell_type": "markdown",
   "id": "a5e58130",
   "metadata": {},
   "source": [
    "A `private` member of a base class is not accessible within a derived class.\n",
    "\n",
    "A `public` member is accessible everywhere, including within a derived class.\n",
    "\n",
    "A `protected` member is accessible within a derived class, but not outside of it."
   ]
  },
  {
   "cell_type": "code",
   "execution_count": 190,
   "id": "9d83b59c",
   "metadata": {},
   "outputs": [
    {
     "name": "stdout",
     "output_type": "stream",
     "text": [
      "1234"
     ]
    }
   ],
   "source": [
    "#include <iostream>\n",
    "\n",
    "class Employee {\n",
    "protected:\n",
    "    int id;\n",
    "public:\n",
    "    Employee(int id=0) : id(id) {}\n",
    "};\n",
    "\n",
    "class Manager : public Employee {\n",
    "public:\n",
    "    Manager(int id=0) : Employee(id) {}\n",
    "    \n",
    "    int getID() {\n",
    "        return id;                       /* Accessible within derived class. */\n",
    "    }\n",
    "};\n",
    "\n",
    "int main() {\n",
    "    Manager m(1234);\n",
    "    std::cout << m.getID();              /* But not outside. */\n",
    "}"
   ]
  },
  {
   "cell_type": "markdown",
   "id": "61e0ccc7",
   "metadata": {},
   "source": [
    "When inheriting from a base class, an access mode is used to modify the accessibility of inherited `public` and `protected` members.\n",
    "\n",
    "* `public` access mode inherits `public` members as `public`, and `protected` members as `protected`.\n",
    "* `protected` access mode inherits `public` members as `protected`, and `protected` members as `protected`.\n",
    "* `private` access mode inherits `public` members as `private`, and `protected` members as `private`."
   ]
  },
  {
   "cell_type": "code",
   "execution_count": null,
   "id": "1a511fd6",
   "metadata": {},
   "outputs": [],
   "source": [
    "class Dog : private Animal {\n",
    "    /* ... */\n",
    "};"
   ]
  },
  {
   "cell_type": "code",
   "execution_count": null,
   "id": "8b449dd6",
   "metadata": {},
   "outputs": [],
   "source": [
    "class Dog : protected Animal {\n",
    "    /* ... */\n",
    "};"
   ]
  },
  {
   "cell_type": "code",
   "execution_count": null,
   "id": "4fd9d1b6",
   "metadata": {},
   "outputs": [],
   "source": [
    "class Dog : public Animal {\n",
    "    /* ... */\n",
    "};"
   ]
  },
  {
   "cell_type": "markdown",
   "id": "0dc5627b",
   "metadata": {},
   "source": [
    "*Note:* The default access mode when inheriting from a base class is `private`."
   ]
  },
  {
   "cell_type": "markdown",
   "id": "7e028268",
   "metadata": {},
   "source": [
    "*Note:* Since `private` members are, anyway, inaccessible in a derived class, they are not affected by access modes."
   ]
  },
  {
   "cell_type": "markdown",
   "id": "0af07d2c",
   "metadata": {},
   "source": [
    "For different access modes, not every function can convert a `Derived *` to a `Base *`.\n",
    "\n",
    "| *Access Mode* | *Who can perform this conversion?* |\n",
    "| --- | --- |\n",
    "| `public` | Any function |\n",
    "| `protected` | Friends and members of `Base`, `Derived` and further derived classes |\n",
    "| `private` | Friends and members of `Base` and `Derived` only |"
   ]
  },
  {
   "cell_type": "code",
   "execution_count": null,
   "id": "c36c5f38",
   "metadata": {},
   "outputs": [],
   "source": [
    "class A {};\n",
    "\n",
    "class B : protected A {};\n",
    "\n",
    "int main() {\n",
    "    B b;\n",
    "    A &a = static_cast<A &>(b);     /* Error: 'A' is an inaccessible base of 'B' */\n",
    "}"
   ]
  },
  {
   "cell_type": "markdown",
   "id": "177a80b3",
   "metadata": {},
   "source": [
    "A method in a derived class may *override* another method in a base class."
   ]
  },
  {
   "cell_type": "code",
   "execution_count": 191,
   "id": "42c6aea6",
   "metadata": {},
   "outputs": [
    {
     "name": "stdout",
     "output_type": "stream",
     "text": [
      "Manager::print()\n",
      "Employee::print()\n"
     ]
    }
   ],
   "source": [
    "#include <iostream>\n",
    "\n",
    "class Employee {\n",
    "public:\n",
    "    void print() {\n",
    "        std::cout << \"Employee::print()\\n\";\n",
    "    }\n",
    "};\n",
    "\n",
    "class Manager : public Employee {\n",
    "public:\n",
    "    void print() {\n",
    "        std::cout << \"Manager::print()\\n\";\n",
    "    }\n",
    "};\n",
    "\n",
    "int main() {\n",
    "    Manager m;\n",
    "    m.print();\n",
    "    m.Employee::print();\n",
    "}"
   ]
  },
  {
   "cell_type": "markdown",
   "id": "e0882ce1",
   "metadata": {},
   "source": [
    "*Note:* An overridden method is accessible using the syntax `Base-Name::Method-Name`."
   ]
  },
  {
   "cell_type": "markdown",
   "id": "45963fdf",
   "metadata": {},
   "source": [
    "In-contrast to method overloading, method overriding uses the name of the method, and not its signature."
   ]
  },
  {
   "cell_type": "code",
   "execution_count": 192,
   "id": "9a446cda",
   "metadata": {},
   "outputs": [
    {
     "name": "stdout",
     "output_type": "stream",
     "text": [
      "Employee::print(int)\n"
     ]
    }
   ],
   "source": [
    "#include <iostream>\n",
    "\n",
    "class Employee {\n",
    "public:\n",
    "    void print() {\n",
    "        std::cout << \"Employee::print()\\n\";\n",
    "    }\n",
    "    \n",
    "    void print(int x) {\n",
    "        std::cout << \"Employee::print(int)\\n\";\n",
    "    }\n",
    "};\n",
    "\n",
    "class Manager : public Employee {\n",
    "public:\n",
    "\n",
    "};\n",
    "\n",
    "int main() {\n",
    "    Manager m;\n",
    "    m.print(5);\n",
    "}"
   ]
  },
  {
   "cell_type": "code",
   "execution_count": null,
   "id": "f266dd17",
   "metadata": {},
   "outputs": [],
   "source": [
    "#include <iostream>\n",
    "\n",
    "class Employee {\n",
    "public:\n",
    "    void print() {\n",
    "        std::cout << \"Employee::print()\\n\";\n",
    "    }\n",
    "    \n",
    "    void print(int x) {\n",
    "        std::cout << \"Employee::print(int)\\n\";\n",
    "    }\n",
    "};\n",
    "\n",
    "class Manager : public Employee {\n",
    "public:\n",
    "    void print() {                         /* Hides all implementations with 'print' name in base class */\n",
    "        std::cout << \"Manager::print()\\n\";\n",
    "    }\n",
    "};\n",
    "\n",
    "int main() {\n",
    "    Manager m;\n",
    "    m.print(5);              /* Error: No matching function in 'Manager' */\n",
    "}"
   ]
  },
  {
   "cell_type": "markdown",
   "id": "8ba5f051",
   "metadata": {},
   "source": [
    "To bring an identifier in a base class into the scope of the derived class, use a `using` declaration."
   ]
  },
  {
   "cell_type": "code",
   "execution_count": 275,
   "id": "f1a3dd00",
   "metadata": {},
   "outputs": [
    {
     "name": "stdout",
     "output_type": "stream",
     "text": [
      "Manager::print()\n"
     ]
    }
   ],
   "source": [
    "#include <iostream>\n",
    "\n",
    "class Employee {\n",
    "public:\n",
    "    void print() {\n",
    "        std::cout << \"Employee::print()\\n\";\n",
    "    }\n",
    "    \n",
    "    void print(int x) {\n",
    "        std::cout << \"Employee::print(int)\\n\";\n",
    "    }\n",
    "};\n",
    "\n",
    "class Manager : public Employee {\n",
    "public:\n",
    "    using Employee::print;\n",
    "    \n",
    "    void print() {                         /* Hides all implementations with 'print' name in base class */\n",
    "        std::cout << \"Manager::print()\\n\";\n",
    "    }\n",
    "};\n",
    "\n",
    "int main() {\n",
    "    Manager m;\n",
    "    m.print(5);        /* Base and Derived implementations of 'print' are overloaded/overridden */\n",
    "    m.print();\n",
    "}"
   ]
  },
  {
   "cell_type": "markdown",
   "id": "09aa1dcd",
   "metadata": {},
   "source": [
    "*Note:* If a method signature is repeated, the method of the derived class overrides the method of the base class."
   ]
  },
  {
   "cell_type": "markdown",
   "id": "19714fc8",
   "metadata": {},
   "source": [
    "*Note:* `using` declarations will cause a naming conflict if an attribute identifier is repeated."
   ]
  },
  {
   "cell_type": "markdown",
   "id": "63aed9b6",
   "metadata": {},
   "source": [
    "Any pointer or reference to an object from a derived class can be implicitly cast as a pointer or reference to an object from a base class."
   ]
  },
  {
   "cell_type": "code",
   "execution_count": 194,
   "id": "d6b53ad2",
   "metadata": {},
   "outputs": [
    {
     "name": "stdout",
     "output_type": "stream",
     "text": [
      "Manager::print()\n",
      "Employee::print()\n"
     ]
    }
   ],
   "source": [
    "#include <iostream>\n",
    "\n",
    "class Employee {\n",
    "public:\n",
    "    void print() {\n",
    "        std::cout << \"Employee::print()\\n\";\n",
    "    }\n",
    "};\n",
    "\n",
    "class Manager : public Employee {\n",
    "public:\n",
    "    void print() {\n",
    "        std::cout << \"Manager::print()\\n\";\n",
    "    }\n",
    "};\n",
    "\n",
    "int main() {\n",
    "    Manager m;\n",
    "    Employee &e = m;\n",
    "    \n",
    "    m.print();\n",
    "    e.print();\n",
    "}"
   ]
  },
  {
   "cell_type": "markdown",
   "id": "90418691",
   "metadata": {},
   "source": [
    "*Note:* A base reference could be referencing a base object or a derived object. This information is only available at run-time."
   ]
  },
  {
   "cell_type": "markdown",
   "id": "54e5ff77",
   "metadata": {},
   "source": [
    "*Note:* Only attributes and methods inherited in the base class are accessible through a base reference to a derived object."
   ]
  },
  {
   "cell_type": "markdown",
   "id": "840c9401",
   "metadata": {},
   "source": [
    "*Note:* In *static binding*, the compiler binds function calls according to the type of an object, inferred from the type of the reference or pointer used. Hence, even though `Employee::print()` is overriden, a call through a base reference to a derived object jumps to the overidden method, and not the overriding."
   ]
  },
  {
   "cell_type": "markdown",
   "id": "e007b6e9",
   "metadata": {},
   "source": [
    "A *virtual method* allows for *dynamic binding*, in which function call binding is delayed until runtime.\n",
    "\n",
    "A *virtual method table*, `vtable`, is created for each class, listing the address of its implementation of all virtual methods, or the lowest possible implementation in the inheritance chain above it, if it didn't provide its own implementation of a virtual method. In addition, a pointer, `vptr`, is stored in each object of that class, and points to its corresponding `vtable`.\n",
    "\n",
    "When a call to a virtual method is made during runtime, execution jumps to the location at `vptr`, with the corresponding offset for the method called, which must be the same for all type-compatible classes. With the address of the method known, a normal method call proceeds from there onwards."
   ]
  },
  {
   "cell_type": "markdown",
   "id": "159d2fda",
   "metadata": {},
   "source": [
    "*Note:* The way of implementation of virtual functions is not specified in the C++ standard. Above is a high-level description of the most common implementation of virtual functions."
   ]
  },
  {
   "cell_type": "code",
   "execution_count": 162,
   "id": "479dd2aa",
   "metadata": {},
   "outputs": [
    {
     "name": "stdout",
     "output_type": "stream",
     "text": [
      "Manager::print()\n",
      "Manager::print()\n"
     ]
    }
   ],
   "source": [
    "#include <iostream>\n",
    "\n",
    "class Employee {\n",
    "public:\n",
    "    virtual void print() {\n",
    "        std::cout << \"Employee::print()\\n\";\n",
    "    }\n",
    "};\n",
    "\n",
    "class Manager : public Employee {\n",
    "public:\n",
    "    void print() {\n",
    "        std::cout << \"Manager::print()\\n\";\n",
    "    }\n",
    "};\n",
    "\n",
    "int main() {\n",
    "    Manager m;\n",
    "    Employee &e = m;\n",
    "    \n",
    "    m.print();\n",
    "    e.print();\n",
    "}"
   ]
  },
  {
   "cell_type": "markdown",
   "id": "9dea50f0",
   "metadata": {},
   "source": [
    "*Note:* Once a method in a class has been declared `virtual`, all implementations of that method down the inheritance hierarchy are implicitly declared `virtual`."
   ]
  },
  {
   "cell_type": "markdown",
   "id": "8692bb04",
   "metadata": {},
   "source": [
    "*Note:* Naturally, virtual method calls incur a performance overhead, in comparison to non-virtual method calls."
   ]
  },
  {
   "cell_type": "markdown",
   "id": "4d6a18fd",
   "metadata": {},
   "source": [
    "*Note:* The implementation of virtual methods incurs a  memory overhead, to store `vptr` for each object and `vtable` for each class."
   ]
  },
  {
   "cell_type": "markdown",
   "id": "e4ea489f",
   "metadata": {},
   "source": [
    "*Note:* Since calls to virtual functions are resolved during run-time, unless called through objects and not pointers or references, they cannot be inlined by the compiler, introducing considerable runtime overhead in many real-time applications."
   ]
  },
  {
   "cell_type": "code",
   "execution_count": 161,
   "id": "136088c1",
   "metadata": {},
   "outputs": [
    {
     "name": "stdout",
     "output_type": "stream",
     "text": [
      "C\n",
      "C\n",
      "A\n"
     ]
    }
   ],
   "source": [
    "#include <iostream>\n",
    "\n",
    "class A {\n",
    "public:\n",
    "    void print() { std::cout << \"A\\n\"; }\n",
    "};\n",
    "\n",
    "class B : public A {\n",
    "public:\n",
    "    virtual void print() { std::cout << \"B\\n\"; }\n",
    "};\n",
    "\n",
    "class C : public B {\n",
    "public:\n",
    "    void print() { std::cout << \"C\\n\"; }\n",
    "};\n",
    "\n",
    "int main() {\n",
    "    C c;\n",
    "    B &b = c;\n",
    "    A &a = c;\n",
    "    \n",
    "    c.print();\n",
    "    b.print();\n",
    "    a.print();\n",
    "}"
   ]
  },
  {
   "cell_type": "markdown",
   "id": "aea9250d",
   "metadata": {},
   "source": [
    "*Note:* Since `print()` in `A` is not declared `virtual`, the compiler performs static linking when `print()` is called on a `A` reference to a `C` object, and does not use `C` object's `vptr` to perform dynamic linking."
   ]
  },
  {
   "cell_type": "markdown",
   "id": "c64ed00f",
   "metadata": {},
   "source": [
    "A *pure virtual method* is a virtual method with no implementation.\n",
    "\n",
    "An *abstract class* is a class with one or more pure virtual methods. An object cannot be instantiated from an abstract class."
   ]
  },
  {
   "cell_type": "code",
   "execution_count": 160,
   "id": "dad9cc12",
   "metadata": {},
   "outputs": [
    {
     "name": "stdout",
     "output_type": "stream",
     "text": [
      "Dog."
     ]
    }
   ],
   "source": [
    "#include <iostream>\n",
    "\n",
    "class Animal {\n",
    "public:\n",
    "    virtual void print() const = 0;               /* Pure virtual method. */\n",
    "};\n",
    "\n",
    "class Dog : public Animal {\n",
    "    virtual void print() const {\n",
    "        std::cout << \"Dog.\";\n",
    "    }\n",
    "};\n",
    "\n",
    "int main() {\n",
    "    const Animal &animal = Dog();\n",
    "    animal.print();\n",
    "}"
   ]
  },
  {
   "cell_type": "markdown",
   "id": "7f724f44",
   "metadata": {},
   "source": [
    "*Note:* References and pointers to abstract class objects are permitted."
   ]
  },
  {
   "cell_type": "markdown",
   "id": "e0566f3b",
   "metadata": {},
   "source": [
    "*Note:* A derived class that inherits from an abstract base class, and does not implement all inherited pure virtual methods, is itself an abstract class."
   ]
  },
  {
   "cell_type": "markdown",
   "id": "26f0f18e",
   "metadata": {},
   "source": [
    "*Note:* Some people consider the term \"method overriding\" applicable only when the overriding behavior is virtual."
   ]
  },
  {
   "cell_type": "markdown",
   "id": "86e82974",
   "metadata": {},
   "source": [
    "Initializing or assigning a base object with a derived object, calls the base class's copy constructor or overloaded assignment operator, respectively. This is commonly referred to as *slicing*."
   ]
  },
  {
   "cell_type": "code",
   "execution_count": 159,
   "id": "e253e35c",
   "metadata": {},
   "outputs": [
    {
     "name": "stdout",
     "output_type": "stream",
     "text": [
      "x: 5, y: 6\n",
      "Copy constructor...\n",
      "x: 5\n",
      "Overloaded assignment operator...\n",
      "x: 7\n"
     ]
    }
   ],
   "source": [
    "#include <iostream>\n",
    "\n",
    "class Square {\n",
    "protected:\n",
    "    int x;\n",
    "public:\n",
    "    Square(int x=0) : x(x) {}\n",
    "    \n",
    "    Square(const Square &square) : x(square.x) {\n",
    "        std::cout << \"Copy constructor...\\n\";\n",
    "    }\n",
    "    \n",
    "    Square & operator=(const Square &square) {\n",
    "        x = square.x;\n",
    "        std::cout << \"Overloaded assignment operator...\\n\";\n",
    "        return *this;\n",
    "    }\n",
    "\n",
    "    void print() {\n",
    "        std::cout << \"x: \" << x << '\\n';\n",
    "    }\n",
    "};\n",
    "\n",
    "class Rectangle : public Square {\n",
    "protected:\n",
    "    int y;\n",
    "public:\n",
    "    Rectangle(int x=0, int y=0) : Square(x), y(y) {}\n",
    "    \n",
    "    void print() {\n",
    "        std::cout << \"x: \" << x << \", y: \" << y << '\\n';\n",
    "    }\n",
    "};\n",
    "\n",
    "int main() {\n",
    "    Rectangle rect(5, 6);\n",
    "    rect.print();\n",
    "    \n",
    "    Square sq(rect);\n",
    "    sq.print();\n",
    "    \n",
    "    sq = Rectangle(7, 8);\n",
    "    sq.print();\n",
    "}"
   ]
  },
  {
   "cell_type": "markdown",
   "id": "46c78367",
   "metadata": {},
   "source": [
    "*Note:* Since a base object cannot be implicitly cast as a derived reference, initializing or assigning a derived object with a base object results in an error, unless a constructor or `=` overloading function that accepts a base object has been defined."
   ]
  },
  {
   "cell_type": "markdown",
   "id": "d7d05116",
   "metadata": {},
   "source": [
    "Attribute hiding occurs when an attribute with the same identifier is defined in both, the base class and the derived class."
   ]
  },
  {
   "cell_type": "code",
   "execution_count": 158,
   "id": "89f89499",
   "metadata": {},
   "outputs": [
    {
     "name": "stdout",
     "output_type": "stream",
     "text": [
      "21"
     ]
    }
   ],
   "source": [
    "#include <iostream>\n",
    "\n",
    "class Employee {\n",
    "public:\n",
    "    int x;\n",
    "    \n",
    "    Employee(int x) : x(x) {}\n",
    "};\n",
    "\n",
    "class Manager : public Employee {\n",
    "public:\n",
    "    int x;\n",
    "    \n",
    "    Manager(int x1, int x2) : Employee(x1), x(x2) {} \n",
    "};\n",
    "\n",
    "int main() {\n",
    "    Manager m(1, 2);\n",
    "    std::cout << m.x;\n",
    "    std::cout << m.Employee::x;\n",
    "}"
   ]
  },
  {
   "cell_type": "markdown",
   "id": "339e0d29",
   "metadata": {},
   "source": [
    "Static methods and attributes in a base class are inherited by a derived class. In particular, static attributes are not copied."
   ]
  },
  {
   "cell_type": "code",
   "execution_count": 248,
   "id": "fc222842",
   "metadata": {},
   "outputs": [
    {
     "name": "stdout",
     "output_type": "stream",
     "text": [
      "67"
     ]
    }
   ],
   "source": [
    "#include <iostream>\n",
    "\n",
    "class Employee {\n",
    "public:\n",
    "    static int x;\n",
    "};\n",
    "\n",
    "class Manager : public Employee {\n",
    "public:\n",
    "    void print() {\n",
    "        x = 7;\n",
    "        std::cout << x;\n",
    "    }\n",
    "};\n",
    "\n",
    "int Employee::x = 5;          /* Must be initialized using 'Employee::'. not 'Manager::' */\n",
    "\n",
    "int main() {\n",
    "    Employee::x = 6;\n",
    "    std::cout << Manager::x;\n",
    "    \n",
    "    Manager::x = 7;\n",
    "    std::cout << Employee::x;\n",
    "}"
   ]
  },
  {
   "cell_type": "markdown",
   "id": "b1aec104",
   "metadata": {},
   "source": [
    "A static method may be overriden in a sub-class."
   ]
  },
  {
   "cell_type": "code",
   "execution_count": 19,
   "id": "65a36919",
   "metadata": {},
   "outputs": [
    {
     "name": "stdout",
     "output_type": "stream",
     "text": [
      "Employee.\n",
      "Manager.\n"
     ]
    }
   ],
   "source": [
    "#include <iostream>\n",
    "\n",
    "class Employee {\n",
    "public:\n",
    "    static void print() {\n",
    "        std::cout << \"Employee.\\n\";\n",
    "    }\n",
    "};\n",
    "\n",
    "class Manager : public Employee {\n",
    "public:\n",
    "    static void print() {\n",
    "        std::cout << \"Manager.\\n\";\n",
    "    }\n",
    "};\n",
    "\n",
    "int main() {\n",
    "    Employee::print();\n",
    "    Manager::print();\n",
    "}"
   ]
  },
  {
   "cell_type": "markdown",
   "id": "68ad6aed",
   "metadata": {},
   "source": [
    "*Note:* A method cannot be declared both `static` and `virtual`."
   ]
  },
  {
   "cell_type": "markdown",
   "id": "541d190b",
   "metadata": {},
   "source": [
    "#### Multiple Inheritance <a class=\"anchor\" id=\"multiple-inheritance\"></a>"
   ]
  },
  {
   "cell_type": "markdown",
   "id": "084057c8",
   "metadata": {},
   "source": [
    "A derived class may inherit from more than one base class."
   ]
  },
  {
   "cell_type": "code",
   "execution_count": 258,
   "id": "d34f49ef",
   "metadata": {},
   "outputs": [
    {
     "name": "stdout",
     "output_type": "stream",
     "text": [
      "A2()\n",
      "A1()\n",
      "B()\n"
     ]
    }
   ],
   "source": [
    "#include <iostream>\n",
    "\n",
    "class A1 {\n",
    "public:\n",
    "    A1() {\n",
    "        std::cout << \"A1()\\n\";\n",
    "    }\n",
    "};\n",
    "\n",
    "class A2 {\n",
    "public:\n",
    "    A2() {\n",
    "        std::cout << \"A2()\\n\";\n",
    "    }\n",
    "};\n",
    "\n",
    "class B : public A2, public A1 {                /* Inherits from 'A1' and 'A2' */\n",
    "public:\n",
    "    B() : A1(), A2() {\n",
    "        std::cout << \"B()\\n\";\n",
    "    }\n",
    "};    \n",
    "\n",
    "int main() {\n",
    "    B b;\n",
    "}"
   ]
  },
  {
   "cell_type": "markdown",
   "id": "b52fcd85",
   "metadata": {},
   "source": [
    "*Note:* Base constructors are called in the order that they were declared in, in the inheritance list."
   ]
  },
  {
   "cell_type": "markdown",
   "id": "cbeb67e2",
   "metadata": {},
   "source": [
    "Identifiers repeated in multiple base classes must be accessed using `Base-Name::`, to avoid ambiguity."
   ]
  },
  {
   "cell_type": "code",
   "execution_count": 270,
   "id": "158ceace",
   "metadata": {
    "scrolled": true
   },
   "outputs": [
    {
     "name": "stdout",
     "output_type": "stream",
     "text": [
      "12"
     ]
    }
   ],
   "source": [
    "#include <iostream>\n",
    "\n",
    "class A1 {\n",
    "public:\n",
    "    int x;\n",
    "};\n",
    "\n",
    "class A2 {\n",
    "public:\n",
    "    int x;\n",
    "};\n",
    "\n",
    "class B : public A1, public A2 {};\n",
    "\n",
    "int main () {\n",
    "    B b;\n",
    "    \n",
    "    b.A1::x = 1;\n",
    "    b.A2::x = 2;\n",
    "    \n",
    "    std::cout << b.A1::x << b.A2::x;\n",
    "}"
   ]
  },
  {
   "cell_type": "markdown",
   "id": "bbd8ddc2",
   "metadata": {},
   "source": [
    "*Note:* It is possible to employ `using` declarations to provide direct access to an attribute from a specific  base class."
   ]
  },
  {
   "cell_type": "markdown",
   "id": "757ea098",
   "metadata": {},
   "source": [
    "In the case of methods, usually, a new method is defined, with the same identifier, that calls the inherited methods."
   ]
  },
  {
   "cell_type": "code",
   "execution_count": 280,
   "id": "7e94e9ea",
   "metadata": {},
   "outputs": [
    {
     "name": "stdout",
     "output_type": "stream",
     "text": [
      "A1::print()\n",
      "A2::print()\n",
      "B::print()\n"
     ]
    }
   ],
   "source": [
    "#include <iostream>\n",
    "\n",
    "class A1 {\n",
    "public:\n",
    "    void print() {\n",
    "        std::cout << \"A1::print()\\n\";\n",
    "    }\n",
    "};\n",
    "\n",
    "class A2 {\n",
    "public:\n",
    "    void print() {\n",
    "        std::cout << \"A2::print()\\n\";\n",
    "    }\n",
    "};\n",
    "\n",
    "class B : public A1, public A2 {\n",
    "public:\n",
    "    void print() {\n",
    "        A1::print();\n",
    "        A2::print();\n",
    "        std::cout << \"B::print()\\n\";\n",
    "    }\n",
    "};\n",
    "\n",
    "int main () {\n",
    "    B().print();\n",
    "}"
   ]
  },
  {
   "cell_type": "markdown",
   "id": "66a60d54",
   "metadata": {},
   "source": [
    "*Note:* Virtual methods work the same as in single inheritance."
   ]
  },
  {
   "cell_type": "markdown",
   "id": "5ee8035b",
   "metadata": {},
   "source": [
    "In multiple inheritance, since there is more than one lineage across an inheritance hierarchy, casting to a base pointer mandates an offset in the address, across all lineages but one."
   ]
  },
  {
   "cell_type": "code",
   "execution_count": 30,
   "id": "bd110b96",
   "metadata": {},
   "outputs": [
    {
     "name": "stdout",
     "output_type": "stream",
     "text": [
      "C: 0x7ffe0f23839c\n",
      "B: 0x7ffe0f23839c\n",
      "A: 0x7ffe0f23839c\n"
     ]
    }
   ],
   "source": [
    "#include <iostream>\n",
    "\n",
    "class A {\n",
    "    int x;\n",
    "};\n",
    "\n",
    "class B : public A {\n",
    "    int y;\n",
    "};\n",
    "\n",
    "class C : public B {\n",
    "    int z;\n",
    "};\n",
    "                                           /* Single inheritance */\n",
    "int main() {\n",
    "    C c;\n",
    "    std::cout << \"C: \" << &c << '\\n';\n",
    "    \n",
    "    B *b = &c;\n",
    "    std::cout << \"B: \" << b << '\\n';\n",
    "    \n",
    "    A *a = &c;\n",
    "    std::cout << \"A: \" << a << '\\n';\n",
    "}"
   ]
  },
  {
   "cell_type": "code",
   "execution_count": 31,
   "id": "c1f094d9",
   "metadata": {},
   "outputs": [
    {
     "name": "stdout",
     "output_type": "stream",
     "text": [
      "B:  0x7fffd540bfcc\n",
      "A1: 0x7fffd540bfcc\n",
      "A2: 0x7fffd540bfd0\n",
      "A3: 0x7fffd540bfd4\n"
     ]
    }
   ],
   "source": [
    "#include <iostream>\n",
    "\n",
    "class A1 {\n",
    "    int x;\n",
    "};\n",
    "\n",
    "class A2 {\n",
    "    int y;\n",
    "};\n",
    "\n",
    "class A3 {\n",
    "    int z;\n",
    "};\n",
    "\n",
    "class B : public A1, public A2, public A3 {};\n",
    "\n",
    "int main() {                                 /* Multiple inheritance */\n",
    "    B b;\n",
    "    std::cout << \"B:  \" << &b << '\\n';\n",
    "    \n",
    "    A1 *a1 = &b;\n",
    "    std::cout << \"A1: \" << a1 << '\\n';\n",
    "    \n",
    "    A2 *a2 = &b;\n",
    "    std::cout << \"A2: \" << a2 << '\\n';\n",
    "\n",
    "    A3 *a3 = &b;\n",
    "    std::cout << \"A3: \" << a3 << '\\n';\n",
    "}"
   ]
  },
  {
   "cell_type": "markdown",
   "id": "e2714366",
   "metadata": {},
   "source": [
    "#### Virtual Inheritance <a class=\"anchor\" id=\"virtual-inheritance\"></a>"
   ]
  },
  {
   "cell_type": "markdown",
   "id": "a96022f3",
   "metadata": {},
   "source": [
    "In a diamond-shaped inheritance hierarchy, inheritance from the common class occurs twice."
   ]
  },
  {
   "cell_type": "code",
   "execution_count": 200,
   "id": "26753b1e",
   "metadata": {},
   "outputs": [
    {
     "name": "stdout",
     "output_type": "stream",
     "text": [
      "12"
     ]
    }
   ],
   "source": [
    "#include <iostream>\n",
    "\n",
    "class A {\n",
    "public:\n",
    "    int x;\n",
    "};\n",
    "\n",
    "class B1 : public A {};\n",
    "\n",
    "class B2 : public A {};\n",
    "\n",
    "class C : public B1, public B2 {};\n",
    "\n",
    "int main () {\n",
    "    C c;\n",
    "                            \n",
    "    c.B1::x = 1;\n",
    "    c.B2::x = 2;\n",
    "    \n",
    "    std::cout << c.B1::x << c.B2::x;\n",
    "}"
   ]
  },
  {
   "cell_type": "markdown",
   "id": "27d8f840",
   "metadata": {},
   "source": [
    "*Note:* Accessing `x` using either `A::`, or `B1::A::` or `B2::A::`, leads to equal ambiguity, rather surprisingly."
   ]
  },
  {
   "cell_type": "markdown",
   "id": "b953a21e",
   "metadata": {},
   "source": [
    "*Note:* In general, it is recommended for an inheriting class to deal only with its direct base classes."
   ]
  },
  {
   "cell_type": "markdown",
   "id": "0c3fd441",
   "metadata": {},
   "source": [
    "*Note:* `A` is considered an ambigious base class of `C`."
   ]
  },
  {
   "cell_type": "markdown",
   "id": "6f4c3408",
   "metadata": {},
   "source": [
    "In a diamond-shaped inheritance hierarchy, if a base class must not be inherited from more than once, use *virtual inheritance*.\n",
    "\n",
    "In virtual inheritance, every `virtual` base of a derived class is inherited from once only."
   ]
  },
  {
   "cell_type": "code",
   "execution_count": 233,
   "id": "99f33ec9",
   "metadata": {},
   "outputs": [
    {
     "name": "stdout",
     "output_type": "stream",
     "text": [
      "333"
     ]
    }
   ],
   "source": [
    "#include <iostream>\n",
    "\n",
    "class A {\n",
    "public:\n",
    "    int x;\n",
    "};\n",
    "\n",
    "class B1 : public virtual A {};\n",
    "\n",
    "class B2 : public virtual A {};\n",
    "\n",
    "class C : public B1, public B2 {};\n",
    "\n",
    "int main () {\n",
    "    C c;\n",
    "                            \n",
    "    c.B1::x = 1;\n",
    "    c.B2::x = 2;\n",
    "    c.x = 3;\n",
    "    \n",
    "    std::cout << c.B1::x << c.B2::x << c.x;\n",
    "}"
   ]
  },
  {
   "cell_type": "markdown",
   "id": "7fddfde6",
   "metadata": {},
   "source": [
    "*Note:* Virtual inheritance incurs memory and run-time overhead, similar to that of virtual methods."
   ]
  },
  {
   "cell_type": "markdown",
   "id": "57c0ae35",
   "metadata": {},
   "source": [
    "In virtual inheritance, the constructor call is delegated to the class of the object being constructed."
   ]
  },
  {
   "cell_type": "code",
   "execution_count": 236,
   "id": "319b40dc",
   "metadata": {},
   "outputs": [
    {
     "name": "stdout",
     "output_type": "stream",
     "text": [
      "123"
     ]
    }
   ],
   "source": [
    "#include <iostream>\n",
    "\n",
    "class A {\n",
    "public:\n",
    "    int x;\n",
    "    \n",
    "    A() {}\n",
    "    A(int x) : x(x) {}\n",
    "};\n",
    "\n",
    "class B1 : public virtual A {\n",
    "public:\n",
    "    B1() : A(1) {}\n",
    "};\n",
    "\n",
    "class B2 : public virtual A {\n",
    "public:\n",
    "    B2() : A(2) {}\n",
    "};\n",
    "\n",
    "class C : public B1, public B2 {\n",
    "public:\n",
    "    C() : A(3) {}\n",
    "};\n",
    "\n",
    "int main () {\n",
    "    B1 b1;\n",
    "    B2 b2;\n",
    "    C c;\n",
    "    \n",
    "    std::cout << b1.x << b2.x << c.x;\n",
    "}"
   ]
  },
  {
   "cell_type": "markdown",
   "id": "5895046f",
   "metadata": {},
   "source": [
    "*Note:* Naturally, the constructor of a virtual base is called before the constructors of its derived classes."
   ]
  },
  {
   "cell_type": "markdown",
   "id": "ff3eea01",
   "metadata": {},
   "source": [
    "If the same base class is sometimes inherited from virtually, and sometimes not, the virtual members can no longer be accessed without a scoping operator."
   ]
  },
  {
   "cell_type": "code",
   "execution_count": 264,
   "id": "930ed55c",
   "metadata": {},
   "outputs": [
    {
     "name": "stdout",
     "output_type": "stream",
     "text": [
      "443"
     ]
    }
   ],
   "source": [
    "#include <iostream>\n",
    "\n",
    "class A {\n",
    "public:\n",
    "    int x;\n",
    "    \n",
    "    A() {}\n",
    "    A(int x) : x(x) {}\n",
    "};\n",
    "\n",
    "class B1 : public virtual A {\n",
    "public:\n",
    "    B1() : A(1) {}\n",
    "};\n",
    "\n",
    "class B2 : public virtual A {\n",
    "public:\n",
    "    B2() : A(2) {}\n",
    "};\n",
    "\n",
    "class B3 : public A {\n",
    "public:\n",
    "    B3() : A(3) {}\n",
    "};\n",
    "\n",
    "class C : public B1, public B2, public B3 {\n",
    "public:\n",
    "    C() : A(4) {}\n",
    "};\n",
    "\n",
    "int main () {\n",
    "    C c;\n",
    "    \n",
    "    std::cout << c.B1::x << c.B2::x << c.B3::x;\n",
    "}"
   ]
  },
  {
   "cell_type": "markdown",
   "id": "4a7b95da",
   "metadata": {},
   "source": [
    "*Note:* `using` declarations do not work, as a workaround to having to access members of a virtual base class indirectly when partial virtualization of a base class exists in an inheritance hierarchy, because the compiler still considers `A` an ambigious base class."
   ]
  },
  {
   "cell_type": "markdown",
   "id": "7b98d5d5",
   "metadata": {},
   "source": [
    "*Note:* When a base class is always inherited from virtually, it is no longer considered an ambigious base class."
   ]
  },
  {
   "cell_type": "markdown",
   "id": "75466b39",
   "metadata": {},
   "source": [
    "From all repeated base classes, only those that are always inherited from virtually across an inheritance hierarchy, are allowed to be cast into, as a pointer or reference, from a derived object."
   ]
  },
  {
   "cell_type": "code",
   "execution_count": null,
   "id": "cf2358ab",
   "metadata": {},
   "outputs": [],
   "source": [
    "class A {};\n",
    "\n",
    "class B1 : public A {};\n",
    "\n",
    "class B2 : public A {};\n",
    "\n",
    "class C : public B1, public B2 {};\n",
    "\n",
    "int main() {\n",
    "    C c;\n",
    "    \n",
    "    A *a = &c;     /* Error: 'A' is an ambiguous base of 'C' */\n",
    "}"
   ]
  },
  {
   "cell_type": "code",
   "execution_count": 6,
   "id": "9b1f8e89",
   "metadata": {},
   "outputs": [],
   "source": [
    "class A {};\n",
    "\n",
    "class B1 : public virtual A {};\n",
    "\n",
    "class B2 : public virtual A {};\n",
    "\n",
    "class C : public B1, public B2 {};\n",
    "\n",
    "int main() {\n",
    "    C c;\n",
    "    \n",
    "    A *a = &c;      /* Valid, 'A' is no longer an ambiguous base of 'C' */\n",
    "}"
   ]
  },
  {
   "cell_type": "markdown",
   "id": "9374b7c9",
   "metadata": {},
   "source": [
    "Implicit casting from a derived pointer to an intermediate-base class, and then to a virtual base class, is invalid.\n",
    "\n",
    "For example, let's say `A` is a virtual base class to `B1` and `B2`, both of which `C` inherits from. One possible, implementation-dependent, memory layout for a `C` object would be:\n",
    "\n",
    "```\n",
    "A\n",
    "B1\n",
    "B2\n",
    "C\n",
    "```\n",
    "\n",
    "On the other hand, the memory layout for a `B2` object would be:\n",
    "\n",
    "```\n",
    "A\n",
    "B2\n",
    "```\n",
    "\n",
    "The gap between `B2` and `A` is dependent on the type of object, whether `C` or `B2`. Since the type of an object is only known at run-time, the compiler will fail to cast `B2` into `C`."
   ]
  },
  {
   "cell_type": "markdown",
   "id": "9c225215",
   "metadata": {},
   "source": [
    "Hence, only a pointer to the most derived object in an inheritance hierarchy can be cast into a virtual base type at compile-time.\n",
    "\n",
    "For such purposes, `dynamic_cast<>()` is used, discussed later."
   ]
  },
  {
   "cell_type": "markdown",
   "id": "3bbe0e73",
   "metadata": {},
   "source": [
    "*Note:* Attempting to perform such implicit casting may work in some cases, though implementation-dependent."
   ]
  },
  {
   "cell_type": "markdown",
   "id": "53c51d27",
   "metadata": {},
   "source": [
    "### Class Templates <a class=\"anchor\" id=\"class-templates\"></a>"
   ]
  },
  {
   "cell_type": "markdown",
   "id": "046b0c11",
   "metadata": {},
   "source": [
    "A *class template* is a *generic programming* mechanism, to generate different classes at compile-time."
   ]
  },
  {
   "cell_type": "code",
   "execution_count": 45,
   "id": "b17b43a1",
   "metadata": {},
   "outputs": [
    {
     "name": "stdout",
     "output_type": "stream",
     "text": [
      "5\n",
      "6.3\n"
     ]
    }
   ],
   "source": [
    "#include <iostream>\n",
    "\n",
    "template<class numeric_type>\n",
    "class Complex {\n",
    "public:\n",
    "    numeric_type real;\n",
    "    numeric_type imag;\n",
    "    \n",
    "    Complex(numeric_type real=0, numeric_type imag=0) \n",
    "        : real(real), imag(imag) {}\n",
    "};\n",
    "\n",
    "int main() {\n",
    "    Complex<int> c_int(5, 2);\n",
    "    Complex<double> c_double(6.3, 3.1);\n",
    "     \n",
    "    std::cout << c_int.real << '\\n';\n",
    "    std::cout << c_double.real << '\\n';\n",
    "}"
   ]
  },
  {
   "cell_type": "markdown",
   "id": "0f97211d",
   "metadata": {},
   "source": [
    "*Note:* In `template<class C>`, `C` is a type, it need not be the name of a class."
   ]
  },
  {
   "cell_type": "markdown",
   "id": "216e7213",
   "metadata": {},
   "source": [
    "While compiling, the compiler generates a single class for each unique `Complex<data-type>`.\n",
    "\n",
    "Each unique `Complex<data-type>` is a completely different data type."
   ]
  },
  {
   "cell_type": "code",
   "execution_count": null,
   "id": "3619420b",
   "metadata": {},
   "outputs": [],
   "source": [
    "#include <iostream>\n",
    "\n",
    "template<class numeric_type>\n",
    "class Complex {\n",
    "public:\n",
    "    numeric_type real;\n",
    "    numeric_type imag;\n",
    "    \n",
    "    Complex(numeric_type real=0, numeric_type imag=0) \n",
    "        : real(real), imag(imag) {}\n",
    "    \n",
    "    Complex(const Complex &ref) \n",
    "        : real(ref.real), imag(ref.imag) {}\n",
    "};\n",
    "\n",
    "int main() {\n",
    "    Complex<int> c_int(5, 2);\n",
    "    \n",
    "    Complex<double> c_double(c_int);      /* Error: No matching function for                    */\n",
    "                                          /*   'Complex<double>::Complex(Complex<int> &)' */\n",
    "}"
   ]
  },
  {
   "cell_type": "markdown",
   "id": "b566dc4f",
   "metadata": {},
   "source": [
    "*Note:* As apparent, `<data-type>` is implicitly ammended to each `Complex` occurence inside of `class Complex`."
   ]
  },
  {
   "cell_type": "markdown",
   "id": "7b9c6a2d",
   "metadata": {},
   "source": [
    "Template parameters can also be of any other type, including template type parameters."
   ]
  },
  {
   "cell_type": "code",
   "execution_count": 48,
   "id": "2fbc7202",
   "metadata": {
    "scrolled": true
   },
   "outputs": [
    {
     "name": "stdout",
     "output_type": "stream",
     "text": [
      "5"
     ]
    }
   ],
   "source": [
    "#include <iostream>\n",
    "\n",
    "template<class numeric_type, numeric_type val>   /* Must be subsequent to the template type param. */\n",
    "class Complex {\n",
    "public:\n",
    "    numeric_type real;\n",
    "    numeric_type imag;\n",
    "    \n",
    "    Complex(numeric_type real=0, numeric_type imag=0) \n",
    "        : real(real), imag(imag) {\n",
    "            std::cout << val;\n",
    "        }\n",
    "    \n",
    "    Complex(const Complex &ref) \n",
    "        : real(ref.real), imag(ref.imag) {}\n",
    "};\n",
    "\n",
    "int main() {\n",
    "    Complex<int, 5> c_int(5, 2);\n",
    "}"
   ]
  },
  {
   "cell_type": "markdown",
   "id": "74879d3b",
   "metadata": {},
   "source": [
    "A template argument may be a (templated) type, a constant expression, an address of an object or a function with external or internal linkage, or a pointer-to-member."
   ]
  },
  {
   "cell_type": "code",
   "execution_count": 26,
   "id": "6864b91c",
   "metadata": {},
   "outputs": [
    {
     "name": "stdout",
     "output_type": "stream",
     "text": [
      "4"
     ]
    }
   ],
   "source": [
    "#include <iostream>\n",
    "\n",
    "template<class T>\n",
    "class A {\n",
    "public:\n",
    "    T t;\n",
    "    \n",
    "    A(T t) : t(t) {}\n",
    "};\n",
    "\n",
    "template<class T, template<class> class U>          /* < Type, Templated Type > */\n",
    "class B {\n",
    "public:\n",
    "    void print(U<T> u) {\n",
    "        std::cout << u.t;\n",
    "    }\n",
    "};\n",
    "\n",
    "int main() {\n",
    "    B<int, A> b;\n",
    "    b.print(A<int>(4));\n",
    "}"
   ]
  },
  {
   "cell_type": "code",
   "execution_count": 56,
   "id": "6d39f112",
   "metadata": {},
   "outputs": [
    {
     "name": "stdout",
     "output_type": "stream",
     "text": [
      "Hello!\n",
      "Hi.\n"
     ]
    }
   ],
   "source": [
    "#include <iostream>\n",
    "\n",
    "class A {\n",
    "public:\n",
    "    void print1() {\n",
    "        std::cout << \"Hello!\\n\";\n",
    "    }\n",
    "\n",
    "    void print2() {\n",
    "        std::cout << \"Hi.\\n\";\n",
    "    }\n",
    "};\n",
    "\n",
    "template<void (A::*func)()>          /* Pointer-to-member Function */\n",
    "class B {\n",
    "public:\n",
    "    B() {\n",
    "        (A().*func)();\n",
    "    }\n",
    "};\n",
    "\n",
    "int main() {\n",
    "    B<&A::print1> b1;\n",
    "    B<&A::print2> b2;\n",
    "}"
   ]
  },
  {
   "cell_type": "markdown",
   "id": "4d598e28",
   "metadata": {},
   "source": [
    "Template parameters can have default arguments."
   ]
  },
  {
   "cell_type": "code",
   "execution_count": 99,
   "id": "c09ee7ca",
   "metadata": {},
   "outputs": [
    {
     "name": "stdout",
     "output_type": "stream",
     "text": [
      "Hello!\n",
      "Hi.\n"
     ]
    }
   ],
   "source": [
    "#include <iostream>\n",
    "\n",
    "class A {\n",
    "public:\n",
    "    void print1() {\n",
    "        std::cout << \"Hello!\\n\";\n",
    "    }\n",
    "\n",
    "    void print2() {\n",
    "        std::cout << \"Hi.\\n\";\n",
    "    }\n",
    "};\n",
    "\n",
    "template<void (A::*func)()=&A::print1>\n",
    "class B {\n",
    "public:\n",
    "    B() {\n",
    "        (A().*func)();\n",
    "    }\n",
    "};\n",
    "\n",
    "int main() {\n",
    "    B b1;\n",
    "    B<&A::print2> b2;\n",
    "}"
   ]
  },
  {
   "cell_type": "markdown",
   "id": "0c61564c",
   "metadata": {},
   "source": [
    "A *class specialization* is a class, instantiated from a class template.\n",
    "\n",
    "Specializations may be user-defined, in which an altered implementation can be provided for each specialization.\n",
    "\n",
    "User-defined specialization may be *partial* or *complete*."
   ]
  },
  {
   "cell_type": "code",
   "execution_count": 119,
   "id": "a7191af5",
   "metadata": {},
   "outputs": [
    {
     "name": "stdout",
     "output_type": "stream",
     "text": [
      "Template (size: 3)\n",
      "Partial (T *) (size: 5)\n",
      "Partial (void *) (size: 7)\n",
      "Complete (10, int) (size: 10)\n",
      "\n",
      "Partial (void *) (size: 48)\n",
      "Partial (void *) (size: 50)\n"
     ]
    }
   ],
   "source": [
    "#include <iostream>\n",
    "\n",
    "template<int size=48, class T=void *>                 /* Class template (with default args). */\n",
    "class Array {\n",
    "public:\n",
    "    Array() {\n",
    "        std::cout << \"Template\" << \" (size: \" << size << \")\\n\";\n",
    "    }\n",
    "};\n",
    "\n",
    "template<int size, class T>                           /* Partial specialization. */\n",
    "class Array<size, T *> {\n",
    "public:\n",
    "    Array() {\n",
    "        std::cout << \"Partial (T *)\" << \" (size: \" << size << \")\\n\";\n",
    "    }\n",
    "};\n",
    "\n",
    "template<int size>\n",
    "class Array<size, void *> {                           /* Partial specialization. */\n",
    "public:\n",
    "    Array() {\n",
    "        std::cout << \"Partial (void *)\" << \" (size: \" << size << \")\\n\";\n",
    "    }\n",
    "};\n",
    "\n",
    "template<>\n",
    "class Array<10, int> {                                /* Complete specialization. */\n",
    "public:\n",
    "    Array() {\n",
    "        std::cout << \"Complete (10, int)\" << \" (size: \" << 10 << \")\\n\";\n",
    "    }\n",
    "};\n",
    "\n",
    "int main() {\n",
    "    Array<3, int> arr1;\n",
    "    Array<5, int *> arr2;\n",
    "    Array<7, void *> arr3;\n",
    "    Array<10, int> arr4;\n",
    "    \n",
    "    std::cout << '\\n';\n",
    "    \n",
    "    Array arr5;\n",
    "    Array<50> arr6;\n",
    "}"
   ]
  },
  {
   "cell_type": "markdown",
   "id": "97a1bcea",
   "metadata": {},
   "source": [
    "*Note:* Specializations must be defined after a class template."
   ]
  },
  {
   "cell_type": "markdown",
   "id": "67901fd7",
   "metadata": {},
   "source": [
    "*Note:* A specialization cannot be defined after an object with matching template arguments has been instantiated."
   ]
  },
  {
   "cell_type": "markdown",
   "id": "e8ec6af9",
   "metadata": {},
   "source": [
    "*Note:* Default arguments are not possible for user-defined specializations."
   ]
  },
  {
   "cell_type": "markdown",
   "id": "9a7f6adb",
   "metadata": {},
   "source": [
    "Member functions defined outside of a class template are not templated, and should, although optional, utilize function templates."
   ]
  },
  {
   "cell_type": "code",
   "execution_count": 83,
   "id": "eeffd38a",
   "metadata": {},
   "outputs": [
    {
     "name": "stdout",
     "output_type": "stream",
     "text": [
      "6"
     ]
    }
   ],
   "source": [
    "#include <iostream>\n",
    "\n",
    "template<class numeric_type>\n",
    "class Complex {\n",
    "public:\n",
    "    numeric_type real;\n",
    "    numeric_type imag;\n",
    "    \n",
    "    Complex(numeric_type real=0, numeric_type imag=0) \n",
    "        : real(real), imag(imag) {}\n",
    "    \n",
    "    Complex & add(const Complex &ref);\n",
    "};\n",
    "\n",
    "template<class T>\n",
    "Complex<T> & Complex<T>::add(const Complex<T> &ref) {\n",
    "    real += ref.real;\n",
    "    imag += ref.imag;\n",
    "    return *this;\n",
    "}\n",
    "\n",
    "int main() {\n",
    "    Complex<int> c1(5, 5);\n",
    "    c1.add(Complex<int>(1, 1));\n",
    "    std::cout << c1.real;\n",
    "}"
   ]
  },
  {
   "cell_type": "markdown",
   "id": "dc79bb28",
   "metadata": {},
   "source": [
    "*Note:* Function templates are implicitly declared `inline`, discussed later."
   ]
  },
  {
   "cell_type": "markdown",
   "id": "57406d25",
   "metadata": {},
   "source": [
    "A `friend` specialization of a function template requires forward declarations of the class and the function template."
   ]
  },
  {
   "cell_type": "code",
   "execution_count": 197,
   "id": "6582f4b4",
   "metadata": {},
   "outputs": [
    {
     "name": "stdout",
     "output_type": "stream",
     "text": [
      "[R]: 6.3, [I]: 3.1\n",
      "[R]: 5, [I]: 2\n"
     ]
    }
   ],
   "source": [
    "#include <iostream>\n",
    "\n",
    "template<class T>\n",
    "class Complex;\n",
    "\n",
    "template<class T>\n",
    "std::ostream & operator<<(std::ostream &out, const Complex<T> &ref);\n",
    "\n",
    "template<class T>\n",
    "class Complex {\n",
    "    T real;\n",
    "    T imag;\n",
    "public:    \n",
    "    Complex(T real=0, T imag=0)\n",
    "        : real(real), imag(imag) {}\n",
    "        \n",
    "    friend std::ostream & operator<<<T>(std::ostream &out, const Complex<T> &ref);\n",
    "};\n",
    "\n",
    "template<class T>\n",
    "std::ostream & operator<<(std::ostream &out, const Complex<T> &ref) {\n",
    "    std::cout << \"[R]: \" << ref.real << \", [I]: \" << ref.imag << '\\n';\n",
    "    return out;\n",
    "}\n",
    "\n",
    "int main() {\n",
    "    Complex<double> c_double(6.3, 3.1);\n",
    "    Complex<int> c_int(5, 2);\n",
    "     \n",
    "    std::cout << c_double << c_int;\n",
    "}"
   ]
  },
  {
   "cell_type": "markdown",
   "id": "bb505f2f",
   "metadata": {},
   "source": [
    "Each class generated from a class template gets its own copy of static members."
   ]
  },
  {
   "cell_type": "code",
   "execution_count": 141,
   "id": "0763f9b1",
   "metadata": {},
   "outputs": [
    {
     "name": "stdout",
     "output_type": "stream",
     "text": [
      "1\n",
      "2\n",
      "3\n"
     ]
    }
   ],
   "source": [
    "#include <iostream>\n",
    "\n",
    "template<class numeric_type>\n",
    "class Complex {\n",
    "public:\n",
    "    static numeric_type one;\n",
    "};\n",
    "\n",
    "template<class T>\n",
    "T Complex<T>::one = 1;\n",
    "\n",
    "template<>                         /* Example of a user-defined specialization. */\n",
    "int Complex<int>::one = 2;\n",
    "\n",
    "int main() {\n",
    "    Complex<double>::one = 3;\n",
    "    \n",
    "    std::cout << Complex<float>::one << '\\n';\n",
    "    std::cout << Complex<int>::one << '\\n';\n",
    "    std::cout << Complex<double>::one << '\\n';\n",
    "}"
   ]
  },
  {
   "cell_type": "markdown",
   "id": "b4925715",
   "metadata": {},
   "source": [
    "*Note:* Access to static members without explicit template arguments, assuming default arguments, does not work."
   ]
  },
  {
   "cell_type": "markdown",
   "id": "42fb3c73",
   "metadata": {},
   "source": [
    "Inheritance works similarly for class templates."
   ]
  },
  {
   "cell_type": "code",
   "execution_count": 168,
   "id": "9f1baac0",
   "metadata": {},
   "outputs": [
    {
     "name": "stdout",
     "output_type": "stream",
     "text": [
      "A: 1\n",
      "B: 1\n",
      "A: 2\n",
      "B: 2\n"
     ]
    }
   ],
   "source": [
    "#include <iostream>\n",
    "\n",
    "template<int size>\n",
    "class A {\n",
    "public:\n",
    "    A() {\n",
    "        std::cout << \"A: \" << size << '\\n';\n",
    "    }\n",
    "};\n",
    "\n",
    "template<int size>\n",
    "class B : public A<size> {              /* Inherits from class template. */\n",
    "public:\n",
    "    B() {\n",
    "        std::cout << \"B: \" << size << '\\n';\n",
    "    }\n",
    "};\n",
    "\n",
    "int main() {\n",
    "    B<1> b1;         /* Implicitly creates 'A<1>' class. */\n",
    "    B<2> b2;         /* Implicitly creates 'A<2>' class. */\n",
    "}"
   ]
  },
  {
   "cell_type": "code",
   "execution_count": null,
   "id": "a31c1481",
   "metadata": {},
   "outputs": [],
   "source": [
    "dynamic_cast<A<1> *>(&b1)      /* Valid conversion              */"
   ]
  },
  {
   "cell_type": "code",
   "execution_count": null,
   "id": "00280387",
   "metadata": {},
   "outputs": [],
   "source": [
    "dynamic_cast<A<2> *>(&b1)      /* Error: 'B<1> *' to 'A<2> *'   */"
   ]
  },
  {
   "cell_type": "markdown",
   "id": "16fc5621",
   "metadata": {},
   "source": [
    "## Emendations <a class=\"anchor\" id=\"emendations\"></a>"
   ]
  },
  {
   "cell_type": "markdown",
   "id": "488d8b55",
   "metadata": {},
   "source": [
    "### Variables <a class=\"anchor\" id=\"variables\"></a>"
   ]
  },
  {
   "cell_type": "markdown",
   "id": "43c1ca4f",
   "metadata": {},
   "source": [
    "In C++, global variables may be initialized with a non-constant expression."
   ]
  },
  {
   "cell_type": "code",
   "execution_count": 462,
   "id": "00f53a35",
   "metadata": {},
   "outputs": [
    {
     "name": "stdout",
     "output_type": "stream",
     "text": [
      "5"
     ]
    }
   ],
   "source": [
    "#include <iostream>\n",
    "\n",
    "int x = 5;\n",
    "\n",
    "int y = x;\n",
    "\n",
    "int main() {\n",
    "    std::cout << y;\n",
    "}"
   ]
  },
  {
   "cell_type": "markdown",
   "id": "96ba9ffa",
   "metadata": {},
   "source": [
    "In C++, `const` variables must be initialized."
   ]
  },
  {
   "cell_type": "code",
   "execution_count": null,
   "id": "7ff47506",
   "metadata": {},
   "outputs": [],
   "source": [
    "const int x;       /* Error: Uninitialized 'const x' */\n",
    "\n",
    "int main() {\n",
    "    const int y;     /* Error: Uninitialized 'const y' */\n",
    "}"
   ]
  },
  {
   "cell_type": "markdown",
   "id": "cda3cf17",
   "metadata": {},
   "source": [
    "### Functions <a class=\"anchor\" id=\"functions\"></a>"
   ]
  },
  {
   "cell_type": "markdown",
   "id": "21652f4c",
   "metadata": {},
   "source": [
    "#### Function Overloading <a class=\"anchor\" id=\"function-overloading\"></a>"
   ]
  },
  {
   "cell_type": "markdown",
   "id": "c04555e7",
   "metadata": {},
   "source": [
    "In C++, function overloading is possible:\n",
    "* Only the signature of a function is considered.\n",
    "* The return type of overloaded functions may be different."
   ]
  },
  {
   "cell_type": "code",
   "execution_count": 170,
   "id": "26ceccb7",
   "metadata": {
    "scrolled": true
   },
   "outputs": [
    {
     "name": "stdout",
     "output_type": "stream",
     "text": [
      "3\n",
      "6.9\n"
     ]
    }
   ],
   "source": [
    "#include <iostream>\n",
    "\n",
    "int add(int x, int y) {\n",
    "    return x + y;\n",
    "}\n",
    "\n",
    "double add(double x, double y) {\n",
    "    return x + y;\n",
    "}\n",
    "\n",
    "int main() {\n",
    "    std::cout << add(1, 2) << '\\n';\n",
    "    std::cout << add(2.3, 4.6) << '\\n';\n",
    "}"
   ]
  },
  {
   "cell_type": "markdown",
   "id": "99af7ccc",
   "metadata": {},
   "source": [
    "*Note:* For user-defined types, the compiler will not perform more than one direct conversion to implicitly or explicitly convert one type to another. For example, if `A` can be cast into `B`, and `B` into `C`, casting `A` into `C` is an error."
   ]
  },
  {
   "cell_type": "markdown",
   "id": "5c42f451",
   "metadata": {},
   "source": [
    "*Note:* The compiler throws an ambiguity error when multiple overloaded functions are equivalently viable options to a function call."
   ]
  },
  {
   "cell_type": "markdown",
   "id": "9f1032d2",
   "metadata": {},
   "source": [
    "When one of many overloading function declarations is placed within an inner scope, only this overloading function is visible within the scope."
   ]
  },
  {
   "cell_type": "code",
   "execution_count": 169,
   "id": "8b8491b9",
   "metadata": {
    "scrolled": true
   },
   "outputs": [
    {
     "name": "stdout",
     "output_type": "stream",
     "text": [
      "3\n",
      "6\n"
     ]
    }
   ],
   "source": [
    "#include <iostream>\n",
    "\n",
    "int add(int x, int y) {\n",
    "    return x + y;\n",
    "}\n",
    "\n",
    "double add(double x, double y) {\n",
    "    return x + y;\n",
    "}\n",
    "\n",
    "int main() {\n",
    "    int add(int x, int y);\n",
    "\n",
    "    std::cout << add(1, 2) << '\\n';\n",
    "    std::cout << add(2.3, 4.6) << '\\n';\n",
    "}"
   ]
  },
  {
   "cell_type": "markdown",
   "id": "ca12d9be",
   "metadata": {},
   "source": [
    "*Note:* This is similar to how a single overriding method in a derived class hides all, possibly overloading, methods with the same identifier in the base class. "
   ]
  },
  {
   "cell_type": "markdown",
   "id": "746aac08",
   "metadata": {},
   "source": [
    "As an exception to this rule and general scoping rules, operator overloading functions do not hide each other."
   ]
  },
  {
   "cell_type": "code",
   "execution_count": 482,
   "id": "4ca51724",
   "metadata": {
    "scrolled": true
   },
   "outputs": [
    {
     "name": "stdout",
     "output_type": "stream",
     "text": [
      "operator+(const Complex &, int)\n",
      "operator+(const Complex &, const Complex &)\n"
     ]
    }
   ],
   "source": [
    "#include <iostream>\n",
    "\n",
    "class Complex {};\n",
    "\n",
    "void operator+(const Complex &a, const Complex &b) {\n",
    "    std::cout << \"operator+(const Complex &, const Complex &)\\n\";\n",
    "}\n",
    "\n",
    "namespace A {\n",
    "    void operator+(const Complex &c, int i) {\n",
    "        std::cout << \"operator+(const Complex &, int)\\n\";\n",
    "    }\n",
    "    \n",
    "    void test() {\n",
    "        Complex() + 5;\n",
    "        Complex() + Complex();\n",
    "    }\n",
    "}\n",
    "\n",
    "int main() {\n",
    "    A::test();\n",
    "}"
   ]
  },
  {
   "cell_type": "markdown",
   "id": "d4a75a59",
   "metadata": {},
   "source": [
    "When creating a function reference (or, pointer) to an overloaded function, the compiler is able to distinguish between the different functions."
   ]
  },
  {
   "cell_type": "code",
   "execution_count": 496,
   "id": "1d91e10e",
   "metadata": {},
   "outputs": [
    {
     "name": "stdout",
     "output_type": "stream",
     "text": [
      "f(float)\n",
      "f(int)\n"
     ]
    }
   ],
   "source": [
    "#include <iostream>\n",
    "\n",
    "void f(int val) {\n",
    "    std::cout << \"f(int)\\n\";\n",
    "}\n",
    "\n",
    "void f(float val) {\n",
    "    std::cout << \"f(float)\\n\";\n",
    "}\n",
    "\n",
    "int main() {\n",
    "    void (&fptr1)(float) = f;\n",
    "    void (&fptr2)(int) = f;\n",
    "    \n",
    "    fptr1(0);\n",
    "    fptr2(0);\n",
    "}"
   ]
  },
  {
   "cell_type": "markdown",
   "id": "3e4625cf",
   "metadata": {},
   "source": [
    "#### Default Arguments <a class=\"anchor\" id=\"default-arguments\"></a>"
   ]
  },
  {
   "cell_type": "markdown",
   "id": "9ce6cc87",
   "metadata": {},
   "source": [
    "In C++, function parameters can have default arguments."
   ]
  },
  {
   "cell_type": "code",
   "execution_count": 150,
   "id": "19942d0d",
   "metadata": {},
   "outputs": [
    {
     "name": "stdout",
     "output_type": "stream",
     "text": [
      "5\n",
      "10\n"
     ]
    }
   ],
   "source": [
    "#include <iostream>\n",
    "\n",
    "int z = 1;\n",
    "\n",
    "int add(int x, int y=z);\n",
    "\n",
    "int main() {\n",
    "    std::cout << add(4) << '\\n';\n",
    "    z = 5;\n",
    "    std::cout << add(5) << '\\n';\n",
    "}\n",
    "\n",
    "int add(int x, int y) {\n",
    "    return x + y;\n",
    "}"
   ]
  },
  {
   "cell_type": "markdown",
   "id": "aadddd53",
   "metadata": {},
   "source": [
    "*Note:* Default arguments should be repeated once only, within a file (compilation unit), in declaration if existing, otherwise in definition."
   ]
  },
  {
   "cell_type": "markdown",
   "id": "18a29e9c",
   "metadata": {},
   "source": [
    "A function pointer ignores default arguments in its syntax, and cannot be called assuming default arguments."
   ]
  },
  {
   "cell_type": "code",
   "execution_count": 499,
   "id": "bc0662bb",
   "metadata": {},
   "outputs": [
    {
     "name": "stdout",
     "output_type": "stream",
     "text": [
      "7"
     ]
    }
   ],
   "source": [
    "#include <iostream>\n",
    "\n",
    "int add(int x=2, int y=1);\n",
    "\n",
    "int main() {\n",
    "    int (*ptr)(int, int) = add;\n",
    "    \n",
    "    std::cout << ptr(5, 2);\n",
    "}\n",
    "\n",
    "int add(int x, int y) {\n",
    "    return x + y;\n",
    "}"
   ]
  },
  {
   "cell_type": "markdown",
   "id": "41b29819",
   "metadata": {},
   "source": [
    "#### `inline` Functions <a class=\"anchor\" id=\"inline-functions\"></a>"
   ]
  },
  {
   "cell_type": "markdown",
   "id": "8846cdea",
   "metadata": {},
   "source": [
    "In C++, `inline` functions behave differently, compared to C.\n",
    "\n",
    "An `inline` function does not require an `extern` function to be defined somewhere.\n",
    "\n",
    "When the compiler (proper) chooses not to inline a function declared `inline`, the compiler (proper) will compile a function definition in each file (compilation unit). The linker is responsible for removing all repeated definitions of this function, leaving only a single definition."
   ]
  },
  {
   "cell_type": "code",
   "execution_count": null,
   "id": "b76911a7",
   "metadata": {},
   "outputs": [],
   "source": [
    "#include <iostream>\n",
    "\n",
    "int z = 1;\n",
    "\n",
    "int add(int x, int y=z);\n",
    "\n",
    "int main() {\n",
    "    std::cout << add(4) << '\\n';\n",
    "    z = 5;\n",
    "    std::cout << add(5) << '\\n';\n",
    "}\n",
    "\n",
    "int add(int x, int y) {\n",
    "    return x + y;\n",
    "}"
   ]
  },
  {
   "cell_type": "markdown",
   "id": "fe0b32a4",
   "metadata": {},
   "source": [
    "#### Function Templates <a class=\"anchor\" id=\"function-templates\"></a>"
   ]
  },
  {
   "cell_type": "markdown",
   "id": "aa000869",
   "metadata": {},
   "source": [
    "A *function template* is a *generic programming* mechanism, to generate different functions at compile-time."
   ]
  },
  {
   "cell_type": "markdown",
   "id": "f24584af",
   "metadata": {},
   "source": [
    "*Note:* This section builds upon knowledge of templates, introduced in the *class templates* section."
   ]
  },
  {
   "cell_type": "code",
   "execution_count": 156,
   "id": "c362494d",
   "metadata": {},
   "outputs": [
    {
     "name": "stdout",
     "output_type": "stream",
     "text": [
      "Generic.\n",
      "Partial Specialization.\n",
      "Complete Specialization.\n",
      "Ordinary.\n"
     ]
    }
   ],
   "source": [
    "#include <iostream>\n",
    "\n",
    "template<class T>                    /* Function template. */\n",
    "T sqrt(T value) {\n",
    "    std::cout << \"Generic.\\n\";\n",
    "    return value/2;\n",
    "}\n",
    "\n",
    "template<class T>                    /* Partial specialization (T *). */\n",
    "T * sqrt(T *ptr) {\n",
    "    std::cout << \"Partial Specialization.\\n\";\n",
    "    return ptr;\n",
    "}\n",
    "\n",
    "template<>                           /* Complete specialization (double). */\n",
    "double sqrt(double value) {\n",
    "    std::cout << \"Complete Specialization.\\n\";\n",
    "    return value/2;\n",
    "}\n",
    "\n",
    "double sqrt(double value) {          /* Ordinary function (double). */\n",
    "    std::cout << \"Ordinary.\\n\";\n",
    "    return value/2;\n",
    "}\n",
    "\n",
    "int main() {\n",
    "    sqrt(5);\n",
    "    sqrt(reinterpret_cast<void *>(0));\n",
    "    sqrt<double>(5.5);\n",
    "    sqrt(5.5);\n",
    "}"
   ]
  },
  {
   "cell_type": "markdown",
   "id": "b3f63424",
   "metadata": {},
   "source": [
    "*Note:* Unlike class templates, function templates can be overloaded by other function templates, as well as ordinary functions."
   ]
  },
  {
   "cell_type": "markdown",
   "id": "2805e83b",
   "metadata": {},
   "source": [
    "*Note:* Function templates are able to determine implicit template arguments, from function arguments."
   ]
  },
  {
   "cell_type": "markdown",
   "id": "6b48da6a",
   "metadata": {},
   "source": [
    "*Note:* Overloading, ordinary functions are always preferred over overloading specializations by the compiler, when resolving a function call."
   ]
  },
  {
   "cell_type": "markdown",
   "id": "ca174900",
   "metadata": {},
   "source": [
    "*Note:* Function templates and instantiations from templates are implicitly declared `inline`."
   ]
  },
  {
   "cell_type": "markdown",
   "id": "8bd60e97",
   "metadata": {},
   "source": [
    "*Note:* A function template, though usually defined once in a `*.h` file, can be declared, similar to ordinary functions."
   ]
  },
  {
   "cell_type": "markdown",
   "id": "079ac554",
   "metadata": {},
   "source": [
    "### Casting <a class=\"anchor\" id=\"casting\"></a>"
   ]
  },
  {
   "cell_type": "markdown",
   "id": "78303c64",
   "metadata": {},
   "source": [
    "In C++, C-style casts are replaced with four casting operators. Each operator permits certain types of conversions, and not others."
   ]
  },
  {
   "cell_type": "markdown",
   "id": "a3e01d0a",
   "metadata": {},
   "source": [
    "| *Operator* |\n",
    "| --- |\n",
    "| `static_cast<>()` |\n",
    "| `reinterpret_cast<>()` |\n",
    "| `const_cast<>()` |\n",
    "| `dynamic_cast<>()` |"
   ]
  },
  {
   "cell_type": "markdown",
   "id": "3bb65a30",
   "metadata": {},
   "source": [
    "*Note:* Though still valid, C-style casts should be used reluctantly in C++."
   ]
  },
  {
   "cell_type": "markdown",
   "id": "3bd8d7a2",
   "metadata": {},
   "source": [
    "#### `static_cast<>()` <a class=\"anchor\" id=\"static_cast<>()\"></a>"
   ]
  },
  {
   "cell_type": "markdown",
   "id": "8d397fbd",
   "metadata": {},
   "source": [
    "`static_cast<>()` is used to perform ordinary conversions between primitive types."
   ]
  },
  {
   "cell_type": "code",
   "execution_count": 93,
   "id": "9f8b910c",
   "metadata": {},
   "outputs": [
    {
     "name": "stdout",
     "output_type": "stream",
     "text": [
      "5"
     ]
    }
   ],
   "source": [
    "#include <iostream>\n",
    "\n",
    "int main() {\n",
    "    float x = 5.3f;\n",
    "    \n",
    "    int y = x;                      /* Implicit cast. */\n",
    "    \n",
    "    std::cout << y;\n",
    "}"
   ]
  },
  {
   "cell_type": "code",
   "execution_count": 94,
   "id": "2462c1f4",
   "metadata": {},
   "outputs": [
    {
     "name": "stdout",
     "output_type": "stream",
     "text": [
      "5"
     ]
    }
   ],
   "source": [
    "#include <iostream>\n",
    "\n",
    "int main() {\n",
    "    float x = 5.3f;\n",
    "    \n",
    "    int y = static_cast<int>(x);       /* Explicit (static) cast. */\n",
    "    \n",
    "    std::cout << y;\n",
    "}"
   ]
  },
  {
   "cell_type": "markdown",
   "id": "313ff3f2",
   "metadata": {},
   "source": [
    "*Note:* A lot of the time, conversion between different primitive types is performed implicitly."
   ]
  },
  {
   "cell_type": "markdown",
   "id": "d69a7952",
   "metadata": {},
   "source": [
    "`static_cast<>()` is also used to convert from `void *` to any other type of pointer."
   ]
  },
  {
   "cell_type": "code",
   "execution_count": 149,
   "id": "5048c602",
   "metadata": {
    "scrolled": true
   },
   "outputs": [
    {
     "name": "stdout",
     "output_type": "stream",
     "text": [
      "5"
     ]
    }
   ],
   "source": [
    "#include <iostream>\n",
    "\n",
    "int main() {\n",
    "    int x = 5;\n",
    "    \n",
    "    void *ptr = &x;                               /* Implicit cast to 'void *'. */\n",
    "    \n",
    "    int *ptr_int = static_cast<int *>(ptr);       /* Explicit (static) cast to 'int *'. */\n",
    "    \n",
    "    std::cout << *ptr_int;\n",
    "}"
   ]
  },
  {
   "cell_type": "markdown",
   "id": "7781ff6b",
   "metadata": {},
   "source": [
    "*Note:* The need for `void *` dwindles in the OOP paradigm, in C++, but is still of use in embedded applications."
   ]
  },
  {
   "cell_type": "markdown",
   "id": "e02b6971",
   "metadata": {},
   "source": [
    "#### `reinterpret_cast<>()` <a class=\"anchor\" id=\"reinterpret_cast<>()\"></a>"
   ]
  },
  {
   "cell_type": "markdown",
   "id": "2e1172d4",
   "metadata": {},
   "source": [
    "`reinterpret_cast<>()` is used to re-interpret low-level bit patterns. It is mainly used with pointers."
   ]
  },
  {
   "cell_type": "code",
   "execution_count": 95,
   "id": "15ee7a7a",
   "metadata": {},
   "outputs": [
    {
     "name": "stdout",
     "output_type": "stream",
     "text": [
      "12345678"
     ]
    }
   ],
   "source": [
    "#include <iostream>\n",
    "#include <cstdint>\n",
    "\n",
    "int main() {\n",
    "    void *ptr = reinterpret_cast<void *>(12345678);                  /* 'uintptr_t' to pointer. */\n",
    "    \n",
    "    std::uintptr_t val = reinterpret_cast<std::uintptr_t>(ptr);      /* Pointer to 'uintptr_t'. */\n",
    "    \n",
    "    std::cout << val;\n",
    "}"
   ]
  },
  {
   "cell_type": "markdown",
   "id": "a9c20f49",
   "metadata": {},
   "source": [
    "*Note:* `reintrepret_cast<>()` is mainly used in embedded applications, where access to main memory and peripheral devices is direct."
   ]
  },
  {
   "cell_type": "markdown",
   "id": "9ae6b2c9",
   "metadata": {},
   "source": [
    "#### `const_cast<>()` <a class=\"anchor\" id=\"const_cast<>()\"></a>"
   ]
  },
  {
   "cell_type": "markdown",
   "id": "77189306",
   "metadata": {},
   "source": [
    "`const_cast<>()` is used to remove the `const` qualifier for pointers and references."
   ]
  },
  {
   "cell_type": "code",
   "execution_count": 113,
   "id": "2e954afb",
   "metadata": {},
   "outputs": [
    {
     "name": "stdout",
     "output_type": "stream",
     "text": [
      "5\n",
      "6\n"
     ]
    }
   ],
   "source": [
    "#include <iostream>\n",
    "\n",
    "int main() {\n",
    "    int x = 5;\n",
    "    std::cout << x << '\\n';\n",
    "    \n",
    "    const int *ptr_const = &x;\n",
    "    \n",
    "    int *ptr = const_cast<int *>(ptr_const);         /* 'const int *' to 'int *' */\n",
    "    \n",
    "    *ptr = 6;\n",
    "    std::cout << x << '\\n';\n",
    "}"
   ]
  },
  {
   "cell_type": "code",
   "execution_count": 116,
   "id": "b059850c",
   "metadata": {},
   "outputs": [
    {
     "name": "stdout",
     "output_type": "stream",
     "text": [
      "5\n",
      "6\n"
     ]
    }
   ],
   "source": [
    "#include <iostream>\n",
    "\n",
    "int main() {\n",
    "    int x = 5;\n",
    "    std::cout << x << '\\n';\n",
    "    \n",
    "    const int &ref_const = x;\n",
    "    \n",
    "    int &ref = const_cast<int &>(ref_const);         /* 'const int &' to 'int &' */\n",
    "    \n",
    "    ref = 6;\n",
    "    std::cout << x << '\\n';\n",
    "}"
   ]
  },
  {
   "cell_type": "markdown",
   "id": "02149fca",
   "metadata": {},
   "source": [
    "#### `dynamic_cast<>()` <a class=\"anchor\" id=\"dynamic_cast<>()\"></a>"
   ]
  },
  {
   "cell_type": "markdown",
   "id": "509f6a9b",
   "metadata": {},
   "source": [
    "With user-defined types, if `static_cast<>()` determines an inheritance-based casting to be invalid, the compiler throws an error."
   ]
  },
  {
   "cell_type": "code",
   "execution_count": 148,
   "id": "800878ee",
   "metadata": {},
   "outputs": [],
   "source": [
    "#include <iostream>\n",
    "\n",
    "class A {};\n",
    "\n",
    "class B : public A {};\n",
    "\n",
    "int main() {\n",
    "    B b;\n",
    "    \n",
    "    A *a_ptr = &b;                                  /* 'B *' to 'A *' Implicit */\n",
    "    \n",
    "    B *b_ptr = static_cast<B *>(a_ptr);             /* 'A *' to 'B *', Explicit (Static) */\n",
    "}"
   ]
  },
  {
   "cell_type": "code",
   "execution_count": null,
   "id": "fce77534",
   "metadata": {},
   "outputs": [],
   "source": [
    "#include <iostream>\n",
    "\n",
    "class X {};\n",
    "\n",
    "class Y {};\n",
    "\n",
    "int main() {\n",
    "    X x;\n",
    "    \n",
    "    Y *y = static_cast<Y *>(&x);                 /* Error: Invalid, 'X *' to 'Y *' */\n",
    "}"
   ]
  },
  {
   "cell_type": "markdown",
   "id": "f8cc70d4",
   "metadata": {},
   "source": [
    "*Note:* Forward declarations of classes are not enough for the compiler to determine the validity of inheritance-based castings, since they omit the inheritance list of each type."
   ]
  },
  {
   "cell_type": "markdown",
   "id": "b2728f97",
   "metadata": {},
   "source": [
    "`static_cast<>()` infers the type of object from the pointer type. It does no actual object-type checking."
   ]
  },
  {
   "cell_type": "code",
   "execution_count": 158,
   "id": "95a593c4",
   "metadata": {},
   "outputs": [],
   "source": [
    "class A {};\n",
    "\n",
    "class B : public A {};\n",
    "\n",
    "int main() {\n",
    "    A a;\n",
    "    \n",
    "    B *b_ptr = static_cast<B *>(&a);            /* (A) 'A *' to 'B *', valid, but logically wrong */\n",
    "}"
   ]
  },
  {
   "cell_type": "markdown",
   "id": "12f4d30d",
   "metadata": {},
   "source": [
    "To perform actual object-type checking, which must occur at run-time, `dynamic_cast<>()` is employed.\n",
    "\n",
    "It returns a `NULL` pointer if the conversion is invalid."
   ]
  },
  {
   "cell_type": "markdown",
   "id": "e211a30a",
   "metadata": {},
   "source": [
    "*Note:* The pointer type must be a *polymorphic* type. That is, it must have one or more virtual functions. This is a mere convenience, since polymorphic types already store run-time type information (RTTI) for each object and class."
   ]
  },
  {
   "cell_type": "markdown",
   "id": "5ddcaee9",
   "metadata": {},
   "source": [
    "*Note:* Even though the actual object may store RTTI about itself, the pointer type referencing the object must be polymorphic. This is, so that the location of RTTI can be inferred from the pointer type. This cannot occur unless both the base pointer and derived types are virtual."
   ]
  },
  {
   "cell_type": "code",
   "execution_count": 1,
   "id": "b76b3f38",
   "metadata": {},
   "outputs": [
    {
     "name": "stdout",
     "output_type": "stream",
     "text": [
      "NULL"
     ]
    }
   ],
   "source": [
    "//%cflags: -w\n",
    "\n",
    "#include <iostream>\n",
    "\n",
    "class A {\n",
    "public:\n",
    "    virtual ~A() {}\n",
    "};\n",
    "\n",
    "class B : public A {};\n",
    "\n",
    "int main() {\n",
    "    A a;\n",
    "    \n",
    "    B *b_ptr = dynamic_cast<B *>(&a);           /* (A) 'A *' to 'B *', checked at runtime */\n",
    "    \n",
    "    if (b_ptr == NULL) {\n",
    "        std::cout << \"NULL\";\n",
    "    }\n",
    "}"
   ]
  },
  {
   "cell_type": "markdown",
   "id": "e80f1a5a",
   "metadata": {},
   "source": [
    "*Note:* The most reasonable way to turn a non-polymorphic type into a polymorphic type, is by adding a virtual destructor."
   ]
  },
  {
   "cell_type": "markdown",
   "id": "a04df1d6",
   "metadata": {},
   "source": [
    "*Note:* Naturally, there is no requirement that the target type is a polymorphic type."
   ]
  },
  {
   "cell_type": "markdown",
   "id": "353d73b8",
   "metadata": {},
   "source": [
    "In the case of multiple inheritance, `static_cast<>()` is unable to perform direct casting horizontally across an inheritance hierarchy, unlike `dynamic_cast<>()`."
   ]
  },
  {
   "cell_type": "code",
   "execution_count": null,
   "id": "276c9d71",
   "metadata": {},
   "outputs": [],
   "source": [
    "class A1 {};\n",
    "\n",
    "class A2 {};\n",
    "\n",
    "class B : public A1, public A2 {};\n",
    "\n",
    "int main() {\n",
    "    B b;\n",
    "    \n",
    "    A1 *ptr_a1 = &b;\n",
    "    \n",
    "    A2 *ptr_a2 = static_cast<A2 *>(ptr_a1);      /* Error: Invalid, 'A1 *' to 'A2 *' */\n",
    "}"
   ]
  },
  {
   "cell_type": "code",
   "execution_count": 11,
   "id": "e2a8cba2",
   "metadata": {},
   "outputs": [
    {
     "name": "stdout",
     "output_type": "stream",
     "text": [
      "Valid."
     ]
    }
   ],
   "source": [
    "#include <iostream>\n",
    "\n",
    "class A1 {\n",
    "protected:\n",
    "    virtual ~A1() {}\n",
    "};\n",
    "\n",
    "class A2 {};\n",
    "\n",
    "class B : public A1, public A2 {};\n",
    "\n",
    "int main() {\n",
    "    B b;\n",
    "    \n",
    "    A1 *ptr_a1 = &b;\n",
    "    \n",
    "    A2 *ptr_a2 = dynamic_cast<A2 *>(ptr_a1);      /* (B) 'A1 *' to 'A2 *', checked at runtime */\n",
    "    \n",
    "    if (ptr_a1 != NULL) {\n",
    "        std::cout << \"Valid.\";\n",
    "    }\n",
    "}"
   ]
  },
  {
   "cell_type": "markdown",
   "id": "95109484",
   "metadata": {},
   "source": [
    "If `static_cast<>()`, which operates at compile-time, is not able to determine the offset in memory between a base type and a derived type, the compiler throws an error.\n",
    "\n",
    "In the case of virtual inheritance, `static_cast<>()` is unable to perform casting from a virtual base class to a derived class, unlike `dynamic_cast<>()`."
   ]
  },
  {
   "cell_type": "markdown",
   "id": "0eda986a",
   "metadata": {},
   "source": [
    "*Note:* Refer back to the section on virtual inheritance, for a brief insight into why a virtual base pointer or reference cannot be cast into a derived type at compile-time."
   ]
  },
  {
   "cell_type": "code",
   "execution_count": null,
   "id": "e8b04c34",
   "metadata": {},
   "outputs": [],
   "source": [
    "#include <iostream>\n",
    "\n",
    "class A {};\n",
    "\n",
    "class B1 : public virtual A {};\n",
    "\n",
    "class B2 : public virtual A {};\n",
    "\n",
    "class C : public B1, public B2 {};\n",
    "\n",
    "int main() {\n",
    "    C c;\n",
    "    \n",
    "    A *ptr_a = &c;\n",
    "    \n",
    "    C *ptr_c = static_cast<C *>(ptr_a);      /* Error: Invalid, 'A *' to 'C *', base is virtual */\n",
    "}"
   ]
  },
  {
   "cell_type": "code",
   "execution_count": 312,
   "id": "4627fcf3",
   "metadata": {},
   "outputs": [
    {
     "name": "stdout",
     "output_type": "stream",
     "text": [
      "Valid."
     ]
    }
   ],
   "source": [
    "#include <iostream>\n",
    "\n",
    "class A {\n",
    "protected:\n",
    "    virtual ~A() {}\n",
    "};\n",
    "\n",
    "class B1 : public virtual A {};\n",
    "\n",
    "class B2 : public virtual A {};\n",
    "\n",
    "class C : public B1, public B2 {};\n",
    "\n",
    "int main() {\n",
    "    C c;\n",
    "    \n",
    "    A *ptr_a = &c;\n",
    "    \n",
    "    C *ptr_c = dynamic_cast<C *>(ptr_a);      /* 'A *' to 'C *', run-time checking */\n",
    "    \n",
    "    if (ptr_c != NULL) {\n",
    "        std::cout << \"Valid.\";\n",
    "    }\n",
    "}"
   ]
  },
  {
   "cell_type": "markdown",
   "id": "5f3c0840",
   "metadata": {},
   "source": [
    "*Note:* In general, forward declarations of classes are not enough for the compiler to determine the memory offset of pointer conversions between those classes, since they omit the size and inheritance list of each type."
   ]
  },
  {
   "cell_type": "markdown",
   "id": "c3982449",
   "metadata": {},
   "source": [
    "`dynamic_cast<>()` requires run-time type information (RTTI) to be stored for each polymorphic type, in the form of `type_info` objects.\n",
    "\n",
    "A `type_info` object is stored for each polymorphic type, and a pointer to it is stored in the type's `vtbl`.\n",
    "\n",
    "RTTI is usually a compiler option, enabled by default, and can be disabled to save code memory, in which case, `dynamic_cast<>()` cannot be used."
   ]
  },
  {
   "cell_type": "markdown",
   "id": "15234f2a",
   "metadata": {},
   "source": [
    "*Note:* `reinterpret_cast<>()` cannot be used to overcome the overhead incurred by `dynamic_cast<>()`. Even though casting a pointer type into another will always be valid using `reinterpret_cast<>()`, no actual checking and offsetting is performed by `reinterpret_cast<>()`, rendering it useless when dealing with inheritance hierarchies."
   ]
  },
  {
   "cell_type": "markdown",
   "id": "8fcb30ce",
   "metadata": {},
   "source": [
    "`dynamic_cast<>()` a reference as another reference, instead of returning a `NULL` pointer when invalid, throws a `std::bad_cast` exception, defined in `<typeinfo>`."
   ]
  },
  {
   "cell_type": "code",
   "execution_count": 24,
   "id": "084f43d6",
   "metadata": {},
   "outputs": [
    {
     "name": "stderr",
     "output_type": "stream",
     "text": [
      "terminate called after throwing an instance of 'std::bad_cast'\n",
      "  what():  std::bad_cast\n",
      "[C kernel] Executable exited with code -6"
     ]
    }
   ],
   "source": [
    "//%cflags: -w\n",
    "\n",
    "#include <iostream>\n",
    "\n",
    "class A {\n",
    "public:\n",
    "    virtual ~A() {}\n",
    "};\n",
    "\n",
    "class B : public A {};\n",
    "\n",
    "int main() {\n",
    "    A a;\n",
    "    \n",
    "    B &b_ref = dynamic_cast<B &>(a);           /* (A) 'A &' to 'B &', checked at runtime */\n",
    "}"
   ]
  },
  {
   "cell_type": "markdown",
   "id": "de5daf8a",
   "metadata": {},
   "source": [
    "### Conditional Execution <a class=\"anchor\" id=\"conditional-execution\"></a>"
   ]
  },
  {
   "cell_type": "markdown",
   "id": "30094537",
   "metadata": {},
   "source": [
    "In C++, it is allowed to define a variable between the parentheses of the `if`, `while` and `switch` statements."
   ]
  },
  {
   "cell_type": "code",
   "execution_count": 467,
   "id": "7c1666d0",
   "metadata": {},
   "outputs": [
    {
     "name": "stdout",
     "output_type": "stream",
     "text": [
      "321"
     ]
    }
   ],
   "source": [
    "#include <iostream>\n",
    "\n",
    "int main() {\n",
    "    int x = 3;\n",
    "    while (int i = x--) {         /* 'while' loop */\n",
    "        std::cout << i;\n",
    "    }\n",
    "}"
   ]
  },
  {
   "cell_type": "code",
   "execution_count": 471,
   "id": "00087eb1",
   "metadata": {},
   "outputs": [
    {
     "name": "stdout",
     "output_type": "stream",
     "text": [
      "00"
     ]
    }
   ],
   "source": [
    "#include <iostream>\n",
    "\n",
    "int main() {                     /* 'if-else' statement */\n",
    "    if (int x = 0) {            \n",
    "        std::cout << x;              /* 'x' accessible */\n",
    "    } else if (int y = 0) {\n",
    "        std::cout << y << x;         /* 'x' and 'y' accessible */\n",
    "    } else {\n",
    "        std::cout << y << x;         /* also, 'x' and 'y' accessible */\n",
    "    }\n",
    "}"
   ]
  },
  {
   "cell_type": "code",
   "execution_count": 472,
   "id": "48dd0ead",
   "metadata": {},
   "outputs": [
    {
     "name": "stdout",
     "output_type": "stream",
     "text": [
      "0"
     ]
    }
   ],
   "source": [
    "#include <iostream>\n",
    "\n",
    "int main() {                     /* 'switch' statement */\n",
    "    switch (int i = 0) {\n",
    "        case 0:\n",
    "            std::cout << i;\n",
    "            break;\n",
    "    }\n",
    "}"
   ]
  },
  {
   "cell_type": "markdown",
   "id": "bd39f933",
   "metadata": {},
   "source": [
    "### Structures and Unions <a class=\"anchor\" id=\"structures-and-unions\"></a>"
   ]
  },
  {
   "cell_type": "markdown",
   "id": "fd134109",
   "metadata": {},
   "source": [
    "#### Structures"
   ]
  },
  {
   "cell_type": "markdown",
   "id": "72843ea6",
   "metadata": {},
   "source": [
    "In C++, the `struct` keyword defines an entity similar to a `class`, with minor differences:\n",
    "\n",
    "* The default access specifier and mode within a `struct` is `public`, not `private`.\n",
    "* To define an object of a specific `struct` type, the `struct` keyword should be omitted, unlike in C."
   ]
  },
  {
   "cell_type": "markdown",
   "id": "1f8d4926",
   "metadata": {},
   "source": [
    "#### Unions"
   ]
  },
  {
   "cell_type": "markdown",
   "id": "2ecb1d8c",
   "metadata": {},
   "source": [
    "In C++, the `union` keyword defines an entity similar to a `class`, with minor differences:\n",
    "\n",
    "* The default access specifier within a `union` is `public`, not `private`.\n",
    "* To define an object of a specific `union` type, the `union` keyword should be omitted, unlike in C.\n",
    "* All attributes within a `union` overlap each other in memory, similar to the way they behave in C.\n",
    "* A `union` may not have `static` members.\n",
    "* A `union` may not have members with constructors or destructors.\n",
    "* A `union` may not inherit, or be inherited from."
   ]
  },
  {
   "cell_type": "markdown",
   "id": "89504a50",
   "metadata": {},
   "source": [
    "*Note:* In general, a compiler cannot know what member of a union is being used at what time. Hence, a `union` cannot gurantee that a member with a destructor is called when it goes out-of-scope. This applies similarly to constructors."
   ]
  },
  {
   "cell_type": "code",
   "execution_count": 19,
   "id": "a2c02811",
   "metadata": {},
   "outputs": [
    {
     "name": "stdout",
     "output_type": "stream",
     "text": [
      "5"
     ]
    }
   ],
   "source": [
    "#include <iostream>\n",
    "\n",
    "struct Complex {\n",
    "    double real, imag;\n",
    "};\n",
    "\n",
    "union Num {\n",
    "    int my_int;\n",
    "    float my_float;\n",
    "    Complex my_complex;\n",
    "    \n",
    "    Num(int val) {\n",
    "        my_int = val;\n",
    "    }\n",
    "    \n",
    "    Num(float val) {\n",
    "        my_float = val;\n",
    "    }\n",
    "    \n",
    "    Num(double real, double imag) {\n",
    "        my_complex.real = real;\n",
    "        my_complex.imag = imag;\n",
    "    }\n",
    "};\n",
    "\n",
    "int main() {\n",
    "    Num val(5);\n",
    "    std::cout << val.my_int;\n",
    "}"
   ]
  },
  {
   "cell_type": "markdown",
   "id": "a7cb4c29",
   "metadata": {},
   "source": [
    "### Enumerations <a class=\"anchor\" id=\"enumerations\"></a>"
   ]
  },
  {
   "cell_type": "markdown",
   "id": "5e0c49bc",
   "metadata": {},
   "source": [
    "In C++, the `enum` keyword defines an entity similar to an `enum` in C, with minor differences:\n",
    "\n",
    "* To define an object of a specific `enum` type, the `enum` keyword should be omitted, unlike in C.\n",
    "* Conversion from an `enum` type to an integral type is implicit, while conversion from an integral type to an `enum` type must be explicit."
   ]
  },
  {
   "cell_type": "code",
   "execution_count": null,
   "id": "08883e8d",
   "metadata": {},
   "outputs": [],
   "source": [
    "#include <iostream>\n",
    "                                   \n",
    "enum Day {Sun=1, Mon, Tues, Wed, Thrus, Fri, Sat};\n",
    "                                                      \n",
    "int main() {\n",
    "    int val = Sun;        /* Valid conversion, 'Day' to 'int' */\n",
    "    \n",
    "    Day day = 1;          /* Error: Invalid conversion, 'int' to 'Day' */\n",
    "}"
   ]
  },
  {
   "cell_type": "markdown",
   "id": "b593625d",
   "metadata": {},
   "source": [
    "### `typedef` <a class=\"anchor\" id=\"typedef\"></a>"
   ]
  },
  {
   "cell_type": "markdown",
   "id": "a8cd6c96",
   "metadata": {},
   "source": [
    "When the `typedef` keyword is used to define an alias to a type inside a class scope, this type can be accessed using `Class-Name::`. "
   ]
  },
  {
   "cell_type": "code",
   "execution_count": 58,
   "id": "7defeae4",
   "metadata": {},
   "outputs": [],
   "source": [
    "class A {\n",
    "public:\n",
    "    typedef int int_type;       /* 'typedef' declares 'int_type' */\n",
    "};\n",
    "\n",
    "int main() {\n",
    "    A::int_type x = 5;          /* 'int_type' accessed using 'A::' */\n",
    "}"
   ]
  },
  {
   "cell_type": "markdown",
   "id": "085e0fb5",
   "metadata": {},
   "source": [
    "*Note:* `typedef` must define the type alias, before it is used, even within classes."
   ]
  },
  {
   "cell_type": "markdown",
   "id": "96f5eda3",
   "metadata": {},
   "source": [
    "Similarly, `typedef` may be used in namespaces, and accessed using `Namespace-Name::`."
   ]
  },
  {
   "cell_type": "code",
   "execution_count": 59,
   "id": "262a1184",
   "metadata": {},
   "outputs": [],
   "source": [
    "namespace A {\n",
    "    typedef int int_type;       /* 'typedef' declares 'int_type' */\n",
    "}\n",
    "\n",
    "int main() {\n",
    "    A::int_type x = 5;          /* 'int_type' accessed using 'A::' */\n",
    "}"
   ]
  },
  {
   "cell_type": "markdown",
   "id": "67a04591",
   "metadata": {},
   "source": [
    "When an alias type is accessed through a class template argument, it must be preceeded with the `typename` keyword, to inform the compiler that it is a type, and not a `static` member."
   ]
  },
  {
   "cell_type": "code",
   "execution_count": 60,
   "id": "66803a40",
   "metadata": {},
   "outputs": [
    {
     "name": "stdout",
     "output_type": "stream",
     "text": [
      "5"
     ]
    }
   ],
   "source": [
    "#include <iostream>\n",
    "\n",
    "class A {\n",
    "public:\n",
    "    typedef int my_type;\n",
    "};\n",
    "\n",
    "template<class T>\n",
    "typename T::my_type do_nothing(typename T::my_type val) {\n",
    "    return val;\n",
    "}\n",
    "\n",
    "int main() {\n",
    "    std::cout << do_nothing<A>(5);\n",
    "}"
   ]
  },
  {
   "cell_type": "markdown",
   "id": "54facf00",
   "metadata": {},
   "source": [
    "### The `bool` Type <a class=\"anchor\" id=\"the-bool-type\"></a>"
   ]
  },
  {
   "cell_type": "markdown",
   "id": "c846b7f8",
   "metadata": {},
   "source": [
    "In C++, `bool` is a built-in data type.\n",
    "\n",
    "Additionally, `true` and `false` are built-in keywords, that define `bool` literals."
   ]
  },
  {
   "cell_type": "code",
   "execution_count": 1,
   "id": "da187c5f",
   "metadata": {},
   "outputs": [
    {
     "name": "stdout",
     "output_type": "stream",
     "text": [
      "1101"
     ]
    }
   ],
   "source": [
    "#include <iostream>\n",
    "\n",
    "int main() {\n",
    "    bool b1 = 0.01;\n",
    "    bool b2 = -3;\n",
    "    bool b3 = NULL;\n",
    "    bool b4 = true;\n",
    "    \n",
    "    std::cout << b1 << b2 << b3 << b4;\n",
    "}"
   ]
  },
  {
   "cell_type": "markdown",
   "id": "6aec389e",
   "metadata": {},
   "source": [
    "### Dynamic Memory Allocation <a class=\"anchor\" id=\"dynamic-memory-allocation\"></a>"
   ]
  },
  {
   "cell_type": "markdown",
   "id": "048d21ef",
   "metadata": {},
   "source": [
    "C++ defines two operators for dealing with dynamic memory, `new` and `delete`."
   ]
  },
  {
   "cell_type": "code",
   "execution_count": 43,
   "id": "6f659862",
   "metadata": {},
   "outputs": [
    {
     "name": "stdout",
     "output_type": "stream",
     "text": [
      "2032988592"
     ]
    }
   ],
   "source": [
    "#include <iostream>\n",
    "\n",
    "int main() {\n",
    "    int *x = new int;        /* No initialization (). */\n",
    "    \n",
    "    std::cout << *x;\n",
    "    \n",
    "    delete x;\n",
    "}"
   ]
  },
  {
   "cell_type": "code",
   "execution_count": 44,
   "id": "0ce9fb53",
   "metadata": {},
   "outputs": [
    {
     "name": "stdout",
     "output_type": "stream",
     "text": [
      "0"
     ]
    }
   ],
   "source": [
    "#include <iostream>\n",
    "\n",
    "int main() {\n",
    "    int *x = new int();      /* Zero-initialization (Default intialization for primitives). */\n",
    "    \n",
    "    std::cout << *x;\n",
    "    \n",
    "    delete x;\n",
    "}"
   ]
  },
  {
   "cell_type": "code",
   "execution_count": 54,
   "id": "f11c6662",
   "metadata": {},
   "outputs": [
    {
     "name": "stdout",
     "output_type": "stream",
     "text": [
      "Complex()\n",
      "~Complex()\n",
      "Complex()\n",
      "~Complex()\n",
      "Complex(int)\n",
      "~Complex()\n"
     ]
    }
   ],
   "source": [
    "#include <iostream>\n",
    "\n",
    "class Complex {\n",
    "public:\n",
    "    Complex() {\n",
    "        std::cout << \"Complex()\\n\";\n",
    "    }\n",
    "    \n",
    "    Complex(int x) {\n",
    "        std::cout << \"Complex(int)\\n\";\n",
    "    }\n",
    "    \n",
    "    ~Complex() {\n",
    "        std::cout << \"~Complex()\\n\";\n",
    "    }\n",
    "};\n",
    "\n",
    "int main() {\n",
    "    Complex *ptr;\n",
    "    \n",
    "    ptr = new Complex;\n",
    "    delete ptr;\n",
    "    \n",
    "    ptr = new Complex();\n",
    "    delete ptr;\n",
    "    \n",
    "    ptr = new Complex(5);\n",
    "    delete ptr;\n",
    "}"
   ]
  },
  {
   "cell_type": "code",
   "execution_count": 61,
   "id": "04ae6421",
   "metadata": {},
   "outputs": [
    {
     "name": "stdout",
     "output_type": "stream",
     "text": [
      "Complex()\n",
      "Complex()\n",
      "Complex()\n",
      "~Complex()\n",
      "~Complex()\n",
      "~Complex()\n"
     ]
    }
   ],
   "source": [
    "#include <iostream>\n",
    "\n",
    "class Complex {\n",
    "public:\n",
    "    Complex() {\n",
    "        std::cout << \"Complex()\\n\";\n",
    "    }\n",
    "    \n",
    "    Complex(int x) {\n",
    "        std::cout << \"Complex(int)\\n\";\n",
    "    }\n",
    "    \n",
    "    ~Complex() {\n",
    "        std::cout << \"~Complex()\\n\";\n",
    "    }\n",
    "};\n",
    "\n",
    "int main() {\n",
    "    Complex *ptr = new Complex[3];    /* Arrays always default-initialized. */\n",
    "    \n",
    "    delete[] ptr;                     /* Delete syntax for arrays. */\n",
    "}"
   ]
  },
  {
   "cell_type": "markdown",
   "id": "863815fd",
   "metadata": {},
   "source": [
    "*Note:* It is recommended not to use `malloc`, and similar functions in C++. In particular, `malloc` does not call the constructor of user-defined objects."
   ]
  },
  {
   "cell_type": "markdown",
   "id": "439966df",
   "metadata": {},
   "source": [
    "*Note:* Memory allocated with `new` should only be deallocated with `delete`. Similarly, memory allocated with `malloc` should only be deallocated with `free`."
   ]
  },
  {
   "cell_type": "markdown",
   "id": "886d09c5",
   "metadata": {},
   "source": [
    "*Note:* Using `delete` on a `NULL` pointer does nothing."
   ]
  },
  {
   "cell_type": "markdown",
   "id": "0af6daa4",
   "metadata": {},
   "source": [
    "*Note:* If `new` fails to allocate memory, a `std::bad_alloc` exception is thrown, defined in `<new>`."
   ]
  },
  {
   "cell_type": "markdown",
   "id": "479f11d5",
   "metadata": {},
   "source": [
    "For user-defined types, destructors must be virtual when deleting a base pointer to a derived object."
   ]
  },
  {
   "cell_type": "code",
   "execution_count": 62,
   "id": "b9dd1724",
   "metadata": {},
   "outputs": [
    {
     "name": "stdout",
     "output_type": "stream",
     "text": [
      "A()\n",
      "B()\n",
      "~A()\n"
     ]
    }
   ],
   "source": [
    "#include <iostream>\n",
    "\n",
    "class A {\n",
    "public:\n",
    "    A() {\n",
    "        std::cout << \"A()\\n\";\n",
    "    }\n",
    "\n",
    "    ~A() {\n",
    "        std::cout << \"~A()\\n\";\n",
    "    }\n",
    "};\n",
    "\n",
    "class B : public A {\n",
    "public:\n",
    "    B() {\n",
    "        std::cout << \"B()\\n\";\n",
    "    }\n",
    "\n",
    "    ~B() {\n",
    "        std::cout << \"~B()\\n\";\n",
    "    }\n",
    "};\n",
    "\n",
    "int main() {\n",
    "    A *ptr = new B;\n",
    "    delete ptr;\n",
    "}"
   ]
  },
  {
   "cell_type": "code",
   "execution_count": 63,
   "id": "774fc01e",
   "metadata": {},
   "outputs": [
    {
     "name": "stdout",
     "output_type": "stream",
     "text": [
      "A()\n",
      "B()\n",
      "~B()\n",
      "~A()\n"
     ]
    }
   ],
   "source": [
    "#include <iostream>\n",
    "\n",
    "class A {\n",
    "public:\n",
    "    A() {\n",
    "        std::cout << \"A()\\n\";\n",
    "    }\n",
    "\n",
    "    virtual ~A() {\n",
    "        std::cout << \"~A()\\n\";\n",
    "    }\n",
    "};\n",
    "\n",
    "class B : public A {\n",
    "public:\n",
    "    B() {\n",
    "        std::cout << \"B()\\n\";\n",
    "    }\n",
    "\n",
    "    ~B() {\n",
    "        std::cout << \"~B()\\n\";\n",
    "    }\n",
    "};\n",
    "\n",
    "int main() {\n",
    "    A *ptr = new B;\n",
    "    delete ptr;\n",
    "}"
   ]
  },
  {
   "cell_type": "markdown",
   "id": "c328522d",
   "metadata": {},
   "source": [
    "## Amendments <a class=\"anchor\" id=\"amendments\"></a>"
   ]
  },
  {
   "cell_type": "markdown",
   "id": "b99c816b",
   "metadata": {},
   "source": [
    "### References <a class=\"anchor\" id=\"references\"></a>"
   ]
  },
  {
   "cell_type": "markdown",
   "id": "5c25dbdd",
   "metadata": {},
   "source": [
    "A *reference* is an alias to an *lvalue* expression. An *lvalue* expression is any expression that the compiler associates with a specific, and explicitly readable, location in memory.\n",
    "\n",
    "A reference must be initialized. Upon initialization, it acts as an alias to the *lvalue* expression."
   ]
  },
  {
   "cell_type": "code",
   "execution_count": 174,
   "id": "1fc59643",
   "metadata": {},
   "outputs": [
    {
     "name": "stdout",
     "output_type": "stream",
     "text": [
      "5"
     ]
    }
   ],
   "source": [
    "#include <iostream>\n",
    "\n",
    "int main() {\n",
    "    int x = 5;\n",
    "    \n",
    "    int &y = x;        /* Reference to 'x' */\n",
    "    \n",
    "    std::cout << x;\n",
    "}"
   ]
  },
  {
   "cell_type": "markdown",
   "id": "81daf956",
   "metadata": {},
   "source": [
    "Upon initialization of a `const` reference, it acts as a read-only alias to the *lvalue expression*."
   ]
  },
  {
   "cell_type": "code",
   "execution_count": null,
   "id": "557cb456",
   "metadata": {},
   "outputs": [],
   "source": [
    "#include <iostream>\n",
    "\n",
    "int main() {\n",
    "    int x = 5;\n",
    "    \n",
    "    const int &y = x;        /* 'const' Reference to 'x' */\n",
    "    \n",
    "    y = 6;                   /* Error: Assignment of read-only reference */\n",
    "}"
   ]
  },
  {
   "cell_type": "markdown",
   "id": "5d4194db",
   "metadata": {},
   "source": [
    "An *rvalue* expression is an expression that the compiler associates with a non-specific, and explicitly hidden, location in memory.\n",
    "\n",
    "When assigning an *rvalue* expression, to a `const T &`:\n",
    "* Implicit conversion to `T` is applied, if necessary.\n",
    "* A temporary object, with the content of the *rvalue* expression, is created by the compiler.\n",
    "* The temporary object is assigned to the reference.\n",
    "\n",
    "The lifetime of the temporary object is tied to the lifetime of the reference, which is the scope it was defined in."
   ]
  },
  {
   "cell_type": "code",
   "execution_count": 178,
   "id": "70d2304b",
   "metadata": {},
   "outputs": [
    {
     "name": "stdout",
     "output_type": "stream",
     "text": [
      "5"
     ]
    }
   ],
   "source": [
    "#include <iostream>\n",
    "\n",
    "class Integer {\n",
    "    int x;\n",
    "public:\n",
    "    Integer(int x) : x(x) {}\n",
    "    \n",
    "    void print() const {\n",
    "        std::cout << x;\n",
    "    }\n",
    "};\n",
    "\n",
    "int main() {\n",
    "    const Integer &tmp = 5;\n",
    "    \n",
    "    tmp.print();\n",
    "}"
   ]
  },
  {
   "cell_type": "markdown",
   "id": "6d9080f3",
   "metadata": {},
   "source": [
    "### Namespaces <a class=\"anchor\" id=\"namespaces\"></a>"
   ]
  },
  {
   "cell_type": "markdown",
   "id": "8fd94504",
   "metadata": {},
   "source": [
    "A *namespace* is a named scope, with entities inside."
   ]
  },
  {
   "cell_type": "code",
   "execution_count": 206,
   "id": "2117ed65",
   "metadata": {},
   "outputs": [
    {
     "name": "stdout",
     "output_type": "stream",
     "text": [
      "11"
     ]
    }
   ],
   "source": [
    "#include <iostream>\n",
    "\n",
    "namespace Math {\n",
    "    template<class T>                 /* Declaration. */\n",
    "    T add(T, T);\n",
    "}\n",
    "\n",
    "int main() {\n",
    "    std::cout << Math::add(5, 6);     /* Function call (namespace-name::function-name) */\n",
    "}\n",
    "\n",
    "template<class T>                     /* Definition (namespace-name::entity-name) */\n",
    "T Math::add(T x, T y) {\n",
    "    return x + y;\n",
    "}"
   ]
  },
  {
   "cell_type": "markdown",
   "id": "3ab7369b",
   "metadata": {},
   "source": [
    "*Note:* The same namespace can be defined more than once in the same file, or within separate files, as long as names within do not conflict."
   ]
  },
  {
   "cell_type": "markdown",
   "id": "fbb08db7",
   "metadata": {},
   "source": [
    "Entities within a namespace do not need to use `::` to reference each other."
   ]
  },
  {
   "cell_type": "code",
   "execution_count": 208,
   "id": "65023c69",
   "metadata": {
    "scrolled": true
   },
   "outputs": [
    {
     "name": "stdout",
     "output_type": "stream",
     "text": [
      "30"
     ]
    }
   ],
   "source": [
    "#include <iostream>\n",
    "\n",
    "namespace Math {\n",
    "    template<class T> \n",
    "    T add(T, T);\n",
    "    \n",
    "    template<class T>\n",
    "    T mul(T, T);\n",
    "}\n",
    "\n",
    "int main() {\n",
    "    std::cout << Math::mul(5, 6);\n",
    "}\n",
    "\n",
    "template<class T>  \n",
    "T Math::add(T x, T y) {\n",
    "    return x + y;\n",
    "}\n",
    "\n",
    "template<class T>  \n",
    "T Math::mul(T x, T y) {\n",
    "    T res = 0;\n",
    "    while (y-- > 0) {\n",
    "        res = add(res, x);        /* Unqualified 'add', without '::' */\n",
    "    }\n",
    "    return res;\n",
    "}"
   ]
  },
  {
   "cell_type": "markdown",
   "id": "912b9097",
   "metadata": {},
   "source": [
    "*Note:* In accordance with scoping rules, an identifier within a namespace will hide all identical identifiers from parent scopes."
   ]
  },
  {
   "cell_type": "markdown",
   "id": "8b54cb8b",
   "metadata": {},
   "source": [
    "Namespaces can be nested, one inside the other."
   ]
  },
  {
   "cell_type": "code",
   "execution_count": 209,
   "id": "edc3cd0e",
   "metadata": {},
   "outputs": [
    {
     "name": "stdout",
     "output_type": "stream",
     "text": [
      "11"
     ]
    }
   ],
   "source": [
    "#include <iostream>\n",
    "\n",
    "namespace Util {\n",
    "    namespace Math {\n",
    "        template<class T>\n",
    "        T add(T, T);\n",
    "    }\n",
    "}\n",
    "\n",
    "int main() {\n",
    "    std::cout << Util::Math::add(5, 6); \n",
    "}\n",
    "\n",
    "template<class T>\n",
    "T Util::Math::add(T x, T y) {\n",
    "    return x + y;\n",
    "}"
   ]
  },
  {
   "cell_type": "markdown",
   "id": "d895ecee",
   "metadata": {},
   "source": [
    "`using` declarations allow unqualified references to a qualified identifier, within a specific scope."
   ]
  },
  {
   "cell_type": "code",
   "execution_count": 211,
   "id": "03b23455",
   "metadata": {},
   "outputs": [
    {
     "name": "stdout",
     "output_type": "stream",
     "text": [
      "Hello."
     ]
    }
   ],
   "source": [
    "#include <iostream>\n",
    "\n",
    "namespace Math {\n",
    "    using std::cout;\n",
    "\n",
    "    template<class T> \n",
    "    T add(T, T);\n",
    "}\n",
    "\n",
    "int main() {\n",
    "    Math::add(5, 6); \n",
    "}\n",
    "\n",
    "template<class T> \n",
    "T Math::add(T x, T y) {\n",
    "    cout << \"Hello.\";       /* Unqualified reference. */\n",
    "    return x + y;\n",
    "}"
   ]
  },
  {
   "cell_type": "markdown",
   "id": "ec2dcde8",
   "metadata": {},
   "source": [
    "`using` directives allow unqualified references to all entities within a specified namespace."
   ]
  },
  {
   "cell_type": "code",
   "execution_count": 213,
   "id": "64d2e405",
   "metadata": {},
   "outputs": [
    {
     "name": "stdout",
     "output_type": "stream",
     "text": [
      "Hello.\n"
     ]
    }
   ],
   "source": [
    "#include <iostream>\n",
    "\n",
    "namespace Math {\n",
    "    using namespace std;\n",
    "\n",
    "    template<class T>\n",
    "    T add(T, T);\n",
    "}\n",
    "\n",
    "int main() {\n",
    "    Math::add(5, 6); \n",
    "}\n",
    "\n",
    "template<class T> \n",
    "T Math::add(T x, T y) {\n",
    "    cout << \"Hello.\" << endl;       /* Unqualified references. */\n",
    "    return x + y;\n",
    "}"
   ]
  },
  {
   "cell_type": "markdown",
   "id": "8ab62ddf",
   "metadata": {},
   "source": [
    "When using a `using` declaration within another namespace, conflicts may ensue."
   ]
  },
  {
   "cell_type": "code",
   "execution_count": null,
   "id": "952b4ad5",
   "metadata": {},
   "outputs": [],
   "source": [
    "#include <iostream>\n",
    "\n",
    "namespace A {\n",
    "    void print() {\n",
    "        std::cout << \"Hi.\\n\";\n",
    "    }\n",
    "}\n",
    "\n",
    "namespace B {\n",
    "    using A::print; \n",
    "\n",
    "    void print() {                /* Error: Conflicts with previous declaration. */\n",
    "        std::cout << \"Hello!\\n\";\n",
    "    }\n",
    "}"
   ]
  },
  {
   "cell_type": "markdown",
   "id": "fb92772d",
   "metadata": {},
   "source": [
    "*Note:* This behavior is disimilar to how `using` declarations work, with member methods in derived classes."
   ]
  },
  {
   "cell_type": "markdown",
   "id": "4cdf50f1",
   "metadata": {},
   "source": [
    "When using a `using` directive within another namespace, repeated identifiers are automatically hidden. "
   ]
  },
  {
   "cell_type": "code",
   "execution_count": null,
   "id": "e6b66a3e",
   "metadata": {},
   "outputs": [],
   "source": [
    "#include <iostream>\n",
    "\n",
    "namespace A {\n",
    "    void print() {\n",
    "        std::cout << \"Hi.\\n\";\n",
    "    }\n",
    "    \n",
    "    void print(int x) {\n",
    "        std::cout << \"Hi (\" << x << \").\\n\";\n",
    "    }\n",
    "}\n",
    "\n",
    "namespace B {\n",
    "    using namespace A; \n",
    "\n",
    "    void print() { \n",
    "        std::cout << \"Hello!\\n\";\n",
    "    }\n",
    "}\n",
    "\n",
    "int main() {\n",
    "    B::print();                   /* Valid call to 'B::print()' */\n",
    "    B::print(5);                  /* Error: 'A::print(int)' hidden. */\n",
    "}"
   ]
  },
  {
   "cell_type": "markdown",
   "id": "1fbf2c29",
   "metadata": {},
   "source": [
    "Bringing multiple namespaces within a single scope, using `using` directives, acts as if all entities were defined within this scope."
   ]
  },
  {
   "cell_type": "code",
   "execution_count": 257,
   "id": "b9871eac",
   "metadata": {},
   "outputs": [
    {
     "name": "stdout",
     "output_type": "stream",
     "text": [
      "Hello!\n",
      "Hi (5).\n"
     ]
    }
   ],
   "source": [
    "#include <iostream>\n",
    "\n",
    "namespace A {\n",
    "    void print(int x) {\n",
    "        std::cout << \"Hi (\" << x << \").\\n\";\n",
    "    }\n",
    "}\n",
    "\n",
    "namespace B {\n",
    "    void print() { \n",
    "        std::cout << \"Hello!\\n\";\n",
    "    }\n",
    "}\n",
    "\n",
    "using namespace A;\n",
    "using namespace B;\n",
    "\n",
    "int main() {\n",
    "    print();\n",
    "    print(5);\n",
    "}"
   ]
  },
  {
   "cell_type": "markdown",
   "id": "0a6039dd",
   "metadata": {},
   "source": [
    "Unnamed namepspaces have implied `using` directives within their compilation unit, and cannot be accessed outside of it."
   ]
  },
  {
   "cell_type": "code",
   "execution_count": 218,
   "id": "aa997535",
   "metadata": {},
   "outputs": [
    {
     "name": "stdout",
     "output_type": "stream",
     "text": [
      "11"
     ]
    }
   ],
   "source": [
    "#include <iostream>\n",
    "\n",
    "namespace {                    /* Unnamed namespace. */\n",
    "    template<class T> \n",
    "    T add(T x, T y) {             /* Definition brought inside. */\n",
    "        return x + y;\n",
    "    }\n",
    "}\n",
    "\n",
    "int main() { \n",
    "    std::cout << add(5, 6);          /* Unqualified reference. */\n",
    "}"
   ]
  },
  {
   "cell_type": "markdown",
   "id": "6b795f1f",
   "metadata": {},
   "source": [
    "In addition to searching for a function in its scope of use, the compiler searches within the scopes of its arguments."
   ]
  },
  {
   "cell_type": "code",
   "execution_count": 224,
   "id": "e1716a17",
   "metadata": {},
   "outputs": [
    {
     "name": "stdout",
     "output_type": "stream",
     "text": [
      "Hi."
     ]
    }
   ],
   "source": [
    "#include <iostream>\n",
    "\n",
    "namespace A {\n",
    "    class Printer {};\n",
    "\n",
    "    void print(Printer printer) {\n",
    "        std::cout << \"Hi.\";\n",
    "    }\n",
    "}\n",
    "\n",
    "int main() {\n",
    "    using A::Printer;         /* 'using' declaration of type 'Printer'. */\n",
    "\n",
    "    print(Printer());         /* 'A::print' inferred from argument. */\n",
    "}"
   ]
  },
  {
   "cell_type": "markdown",
   "id": "d1a15f8f",
   "metadata": {},
   "source": [
    "*Note:* When using overloaded operators, the compiler also searches the namespaces of the operands, for viable operator overloading functions."
   ]
  },
  {
   "cell_type": "markdown",
   "id": "73eb8fac",
   "metadata": {},
   "source": [
    "A *namespace alias* can be declared, to shorten a namespace with a long name.\n",
    "\n",
    "It cannot be used to define new entities inside the namespace."
   ]
  },
  {
   "cell_type": "code",
   "execution_count": 232,
   "id": "476bdb8c",
   "metadata": {},
   "outputs": [
    {
     "name": "stdout",
     "output_type": "stream",
     "text": [
      "Hi."
     ]
    }
   ],
   "source": [
    "#include <iostream>\n",
    "\n",
    "namespace really_long_name {\n",
    "    void print() {\n",
    "        std::cout << \"Hi.\";\n",
    "    }\n",
    "}\n",
    "\n",
    "namespace shorter = really_long_name;      /* Namespace alias. */\n",
    "\n",
    "int main() {\n",
    "    shorter::print();\n",
    "}"
   ]
  },
  {
   "cell_type": "markdown",
   "id": "0b935972",
   "metadata": {},
   "source": [
    "### Exceptions <a class=\"anchor\" id=\"exceptions\"></a>"
   ]
  },
  {
   "cell_type": "markdown",
   "id": "8fc9a909",
   "metadata": {},
   "source": [
    "In C++, an *exception* can be an object of any class."
   ]
  },
  {
   "cell_type": "markdown",
   "id": "b18629ad",
   "metadata": {},
   "source": [
    "*Note:* Exceptions are implemented without RTTI information, and both features can be enabled or disabled separately, at the compiler-level."
   ]
  },
  {
   "cell_type": "markdown",
   "id": "63752005",
   "metadata": {},
   "source": [
    "*Note:* Efficient implementations of exceptions incur minimal run-time overhead, yet note-worthy code memory overhead, to store structures, like unwind tables."
   ]
  },
  {
   "cell_type": "code",
   "execution_count": 329,
   "id": "ebd08ed1",
   "metadata": {},
   "outputs": [
    {
     "name": "stdout",
     "output_type": "stream",
     "text": [
      "Just tryin'.\n"
     ]
    }
   ],
   "source": [
    "#include <iostream>\n",
    "\n",
    "class MyException {\n",
    "public:\n",
    "    const char *msg;\n",
    "\n",
    "    MyException(const char *msg) : msg(msg) {}\n",
    "};\n",
    "\n",
    "int main() {\n",
    "    try {\n",
    "        throw MyException(\"Just tryin'.\\n\");         /* 'throw' statement. */\n",
    "    } catch (MyException &e) {                       /* 'catch' clause. */\n",
    "        std::cout << e.msg;\n",
    "    }\n",
    "}"
   ]
  },
  {
   "cell_type": "markdown",
   "id": "2648e463",
   "metadata": {},
   "source": [
    "*Note:* Unlike arguments to functions, a temporary object can be caught as a reference, in a `catch` clause, without the `const` keyword."
   ]
  },
  {
   "cell_type": "markdown",
   "id": "7cb78f4f",
   "metadata": {},
   "source": [
    "Exceptions can be organized into an inheritance hierarchy."
   ]
  },
  {
   "cell_type": "code",
   "execution_count": 330,
   "id": "8050ef94",
   "metadata": {},
   "outputs": [
    {
     "name": "stdout",
     "output_type": "stream",
     "text": [
      "Just tryin'.\n"
     ]
    }
   ],
   "source": [
    "#include <iostream>\n",
    "\n",
    "class MyException {\n",
    "public:\n",
    "    const char *msg;\n",
    "\n",
    "    MyException(const char *msg) : msg(msg) {}\n",
    "};\n",
    "\n",
    "class SpecialException : public MyException {\n",
    "public:\n",
    "    SpecialException(const char *msg) : MyException(msg) {}\n",
    "};\n",
    "\n",
    "int main() {\n",
    "    try {\n",
    "        throw SpecialException(\"Just tryin'.\\n\");\n",
    "    } catch (MyException &e) {                        /* Caught as reference to base. */\n",
    "        std::cout << e.msg;\n",
    "    }\n",
    "}"
   ]
  },
  {
   "cell_type": "markdown",
   "id": "81045898",
   "metadata": {},
   "source": [
    "*Note:* `catch` clauses are tested sequentially, in their order of definition, and only a single block is executed."
   ]
  },
  {
   "cell_type": "markdown",
   "id": "f35b6dca",
   "metadata": {},
   "source": [
    "A pointer to an exception object may be thrown, and must be caught as a pointer to a matching class, or base class."
   ]
  },
  {
   "cell_type": "code",
   "execution_count": 341,
   "id": "0554fe46",
   "metadata": {},
   "outputs": [
    {
     "name": "stdout",
     "output_type": "stream",
     "text": [
      "Just tryin'."
     ]
    }
   ],
   "source": [
    "#include <iostream>\n",
    "\n",
    "class MyException {\n",
    "public:\n",
    "    const char *msg;\n",
    "\n",
    "    MyException(const char *msg) : msg(msg) {}\n",
    "};\n",
    "\n",
    "class SpecialException : public MyException {\n",
    "public:\n",
    "    SpecialException(const char *msg) : MyException(msg) {}\n",
    "};\n",
    "\n",
    "int main() {\n",
    "    try {\n",
    "        throw new SpecialException(\"Just tryin'.\");\n",
    "    } catch (MyException *e) {                        /* Caught as pointer to base. */\n",
    "        std::cout << e->msg;\n",
    "        delete e;\n",
    "    }\n",
    "}"
   ]
  },
  {
   "cell_type": "markdown",
   "id": "e231bda7",
   "metadata": {},
   "source": [
    "*Note:* It is recommended to throw objects, and not pointers, since through the process of *stack unwinding*, the object may be de-allocated, rendering the pointer invalid. On the other hand, thrown objects are copied, multiple times, as the stack unwinds."
   ]
  },
  {
   "cell_type": "markdown",
   "id": "96e062ab",
   "metadata": {},
   "source": [
    "An exception can be re-thrown in a `catch` clause, using a `throw` statement, with no operands."
   ]
  },
  {
   "cell_type": "code",
   "execution_count": 343,
   "id": "a723c42e",
   "metadata": {},
   "outputs": [
    {
     "name": "stdout",
     "output_type": "stream",
     "text": [
      "Just tryin'.\n",
      "Caught again.\n"
     ]
    }
   ],
   "source": [
    "#include <iostream>\n",
    "\n",
    "class MyException {\n",
    "public:\n",
    "    const char *msg;\n",
    "\n",
    "    MyException(const char *msg) : msg(msg) {}\n",
    "};\n",
    "\n",
    "class SpecialException : public MyException {\n",
    "public:\n",
    "    SpecialException(const char *msg) : MyException(msg) {}\n",
    "};\n",
    "\n",
    "void func() {\n",
    "    try {\n",
    "        throw SpecialException(\"Just tryin'.\\n\");\n",
    "    } catch (MyException &e) {                        /* Caught as reference to base. */\n",
    "        std::cout << e.msg;\n",
    "        throw;                                        /* Original object re-thrown. */\n",
    "    }\n",
    "}\n",
    "\n",
    "int main() {\n",
    "    try {\n",
    "        func();\n",
    "    } catch (SpecialException &e) {                   /* Caught again, as reference to derived. */\n",
    "        std::cout << \"Caught again.\\n\";\n",
    "    }\n",
    "}"
   ]
  },
  {
   "cell_type": "markdown",
   "id": "f9d83ce7",
   "metadata": {},
   "source": [
    "*Note:* When an exception is re-thrown, the original object is thrown, regardless of the type of reference used to catch the exception."
   ]
  },
  {
   "cell_type": "markdown",
   "id": "e40842c7",
   "metadata": {},
   "source": [
    "*Note:* If a `throw` statement is executed, with no exception to re-throw, a `std::bad_exception` is thrown, defined in `<exception>`."
   ]
  },
  {
   "cell_type": "markdown",
   "id": "6a06b47c",
   "metadata": {},
   "source": [
    "The destructor of an object is not called, if the object was not fully constructed. That is, if an exception occured inside the object's constructor."
   ]
  },
  {
   "cell_type": "code",
   "execution_count": 347,
   "id": "5359744f",
   "metadata": {},
   "outputs": [
    {
     "name": "stdout",
     "output_type": "stream",
     "text": [
      "Exception thrown inside 'File()'\n"
     ]
    }
   ],
   "source": [
    "#include <iostream>\n",
    "\n",
    "class MyException {\n",
    "public:\n",
    "    const char *msg;\n",
    "\n",
    "    MyException(const char *msg) : msg(msg) {}\n",
    "};\n",
    "\n",
    "class File {\n",
    "public:\n",
    "    File() {\n",
    "        throw MyException(\"Exception thrown inside 'File()'\\n\");\n",
    "    }\n",
    "    \n",
    "    ~File() {\n",
    "        std::cout << \"Inside '~File()'\\n\";\n",
    "    }\n",
    "};\n",
    "\n",
    "int main() {\n",
    "    try {\n",
    "        File f;\n",
    "    } catch (MyException &e) {\n",
    "        std::cout << e.msg;\n",
    "    }\n",
    "}"
   ]
  },
  {
   "cell_type": "code",
   "execution_count": 348,
   "id": "391dea84",
   "metadata": {},
   "outputs": [
    {
     "name": "stdout",
     "output_type": "stream",
     "text": [
      "Inside '~File()'\n",
      "Exception thrown after 'File()'\n"
     ]
    }
   ],
   "source": [
    "#include <iostream>\n",
    "\n",
    "class MyException {\n",
    "public:\n",
    "    const char *msg;\n",
    "\n",
    "    MyException(const char *msg) : msg(msg) {}\n",
    "};\n",
    "\n",
    "class File {\n",
    "public:\n",
    "    ~File() {\n",
    "        std::cout << \"Inside '~File()'\\n\";\n",
    "    }\n",
    "};\n",
    "\n",
    "int main() {\n",
    "    try {\n",
    "        File f;\n",
    "        throw MyException(\"Exception thrown after 'File()'\\n\");\n",
    "    } catch (MyException &e) {\n",
    "        std::cout << e.msg;\n",
    "    }\n",
    "}"
   ]
  },
  {
   "cell_type": "markdown",
   "id": "865e5409",
   "metadata": {},
   "source": [
    "*Note:* This behavior is used to implement the motto: *resource acquistion is initialization*, where resources are considered acquired after the constructor returns, and are automatically freed by the destructor."
   ]
  },
  {
   "cell_type": "markdown",
   "id": "787cec25",
   "metadata": {},
   "source": [
    "*Note:* When an object is dynamically allocated, an exception thrown inside the constructor of the object won't cause memory leaks."
   ]
  },
  {
   "cell_type": "markdown",
   "id": "dee34795",
   "metadata": {},
   "source": [
    "*Note:* An exception thrown inside of a destructor should never propagate outside of it."
   ]
  },
  {
   "cell_type": "markdown",
   "id": "bf727a22",
   "metadata": {},
   "source": [
    "A `catch (...)` clause allows the catching of any thrown object."
   ]
  },
  {
   "cell_type": "code",
   "execution_count": 356,
   "id": "775170d7",
   "metadata": {
    "scrolled": true
   },
   "outputs": [
    {
     "name": "stdout",
     "output_type": "stream",
     "text": [
      "catch(...)\n"
     ]
    }
   ],
   "source": [
    "#include <iostream>\n",
    "\n",
    "class MyException {\n",
    "public:\n",
    "    const char *msg;\n",
    "\n",
    "    MyException(const char *msg) : msg(msg) {}\n",
    "};\n",
    "\n",
    "int main() {\n",
    "    try {\n",
    "        throw MyException(\"Just tryin'.\\n\");\n",
    "    } catch (...) {\n",
    "        std::cout << \"catch(...)\\n\";\n",
    "    }\n",
    "}"
   ]
  },
  {
   "cell_type": "markdown",
   "id": "80e49b8f",
   "metadata": {},
   "source": [
    "*Note:* When using a `catch (...)` clause, there is no access to the thrown object."
   ]
  },
  {
   "cell_type": "markdown",
   "id": "dfc30120",
   "metadata": {},
   "source": [
    "If an uncaught exception propagates to the end of the `main` function, `std::terminate` is called, with no gurantee that the destructor of objects allocated locally in the `main` will be called."
   ]
  },
  {
   "cell_type": "code",
   "execution_count": 362,
   "id": "f2d4847c",
   "metadata": {},
   "outputs": [
    {
     "name": "stdout",
     "output_type": "stream",
     "text": [
      "~Object()\n"
     ]
    }
   ],
   "source": [
    "#include <iostream>\n",
    "\n",
    "class Object {\n",
    "public:\n",
    "    ~Object() {\n",
    "        std::cout << \"~Object()\\n\";\n",
    "    }\n",
    "};\n",
    "\n",
    "int main() {\n",
    "    Object obj;\n",
    "}"
   ]
  },
  {
   "cell_type": "code",
   "execution_count": 363,
   "id": "f9b91b71",
   "metadata": {},
   "outputs": [
    {
     "name": "stderr",
     "output_type": "stream",
     "text": [
      "terminate called after throwing an instance of 'MyException'\n",
      "[C kernel] Executable exited with code -6"
     ]
    }
   ],
   "source": [
    "#include <iostream>\n",
    "\n",
    "class MyException {\n",
    "public:\n",
    "    const char *msg;\n",
    "\n",
    "    MyException(const char *msg) : msg(msg) {}\n",
    "};\n",
    "\n",
    "class Object {\n",
    "public:\n",
    "    ~Object() {\n",
    "        std::cout << \"~Object()\\n\";\n",
    "    }\n",
    "};\n",
    "\n",
    "int main() {\n",
    "    Object obj;\n",
    "    throw MyException(\"Just tryin'.\\n\");\n",
    "}"
   ]
  },
  {
   "cell_type": "markdown",
   "id": "af928a77",
   "metadata": {},
   "source": [
    "#### Exception Specifications <a class=\"anchor\" id=\"exception-specifications\"></a>"
   ]
  },
  {
   "cell_type": "markdown",
   "id": "003656af",
   "metadata": {},
   "source": [
    "An *exception specification* is a specification of the types of exceptions a function throws.\n",
    "\n",
    "The default for a function, is that it throws all types, with no restrictions."
   ]
  },
  {
   "cell_type": "code",
   "execution_count": 395,
   "id": "f0ce35d0",
   "metadata": {},
   "outputs": [
    {
     "name": "stdout",
     "output_type": "stream",
     "text": [
      "ExceptionB\n"
     ]
    }
   ],
   "source": [
    "//%cflags: -std=c++98\n",
    "\n",
    "#include <iostream>\n",
    "\n",
    "class ExceptionA {};\n",
    "\n",
    "class ExceptionB {};\n",
    "\n",
    "void func() throw (ExceptionA, ExceptionB) {\n",
    "    throw ExceptionB();\n",
    "}\n",
    "\n",
    "int main() {\n",
    "    try {\n",
    "        func();\n",
    "    } catch (ExceptionA &e) {\n",
    "        std::cout << \"ExceptionA\\n\";\n",
    "    } catch (ExceptionB &e) {\n",
    "        std::cout << \"ExceptionB\\n\";\n",
    "    }\n",
    "}"
   ]
  },
  {
   "cell_type": "markdown",
   "id": "9affa203",
   "metadata": {},
   "source": [
    "A virtual method may only be overriden by an equally, or more restrictive method. "
   ]
  },
  {
   "cell_type": "code",
   "execution_count": 402,
   "id": "b53d66a4",
   "metadata": {},
   "outputs": [
    {
     "name": "stdout",
     "output_type": "stream",
     "text": [
      "ExceptionB\n",
      "ExceptionA\n"
     ]
    }
   ],
   "source": [
    "//%cflags: -std=c++98\n",
    "\n",
    "#include <iostream>\n",
    "\n",
    "class ExceptionA {};\n",
    "\n",
    "class ExceptionB {};\n",
    "\n",
    "class A {\n",
    "public:\n",
    "    virtual void print() throw (ExceptionA, ExceptionB) {\n",
    "        throw ExceptionB();\n",
    "    }\n",
    "};\n",
    "\n",
    "class B : public A {\n",
    "public:\n",
    "    void print() throw (ExceptionA) {\n",
    "        try {\n",
    "            A::print();\n",
    "        } catch (ExceptionB &e) {\n",
    "            std::cout << \"ExceptionB\\n\";\n",
    "            throw ExceptionA();\n",
    "        }\n",
    "    }\n",
    "};\n",
    "\n",
    "int main() {\n",
    "    B b;\n",
    "    A &a = b;\n",
    "    \n",
    "    try {\n",
    "        a.print();\n",
    "    } catch (ExceptionA &e) {\n",
    "        std::cout << \"ExceptionA\\n\";\n",
    "    } catch (...) {\n",
    "        std::cout << \"catch (...)\\n\";\n",
    "    }\n",
    "}"
   ]
  },
  {
   "cell_type": "markdown",
   "id": "8eb0eca9",
   "metadata": {},
   "source": [
    "A function pointer, or reference, must be equally, or less restrictive than the function it is assigned to."
   ]
  },
  {
   "cell_type": "code",
   "execution_count": 404,
   "id": "3220aa05",
   "metadata": {},
   "outputs": [
    {
     "name": "stdout",
     "output_type": "stream",
     "text": [
      "ExceptionB\n"
     ]
    }
   ],
   "source": [
    "//%cflags: -std=c++98\n",
    "\n",
    "#include <iostream>\n",
    "\n",
    "class ExceptionA {};\n",
    "\n",
    "class ExceptionB {};\n",
    "\n",
    "void func() throw (ExceptionA, ExceptionB) {\n",
    "    throw ExceptionB();\n",
    "}\n",
    "\n",
    "int main() {\n",
    "    void (*fptr)() = func;           /* Less restrictive pointer (throws all exceptions) */\n",
    "\n",
    "    try {\n",
    "        fptr();\n",
    "    } catch (ExceptionA &e) {\n",
    "        std::cout << \"ExceptionA\\n\";\n",
    "    } catch (ExceptionB &e) {\n",
    "        std::cout << \"ExceptionB\\n\";\n",
    "    }\n",
    "}"
   ]
  },
  {
   "cell_type": "markdown",
   "id": "89fde489",
   "metadata": {},
   "source": [
    "If a function throws an unspecified exception, `std::unexpected` is called, with the default behavior of calling `std::terminate`."
   ]
  },
  {
   "cell_type": "code",
   "execution_count": 500,
   "id": "034e7315",
   "metadata": {},
   "outputs": [
    {
     "name": "stderr",
     "output_type": "stream",
     "text": [
      "terminate called after throwing an instance of 'ExceptionB'\n",
      "[C kernel] Executable exited with code -6"
     ]
    }
   ],
   "source": [
    "//%cflags: -std=c++98\n",
    "\n",
    "#include <iostream>\n",
    "\n",
    "class ExceptionA {};\n",
    "\n",
    "class ExceptionB {};\n",
    "\n",
    "void func() throw (ExceptionA) {\n",
    "    throw ExceptionB();\n",
    "}\n",
    "\n",
    "int main() {\n",
    "    try {\n",
    "        func();\n",
    "    } catch (ExceptionA &e) {\n",
    "        std::cout << \"ExceptionA\\n\";\n",
    "    } catch (ExceptionB &e) {               /* 'std::terminate' called, even though */\n",
    "        std::cout << \"ExceptionB\\n\";        /* 'ExceptionB' can be caught. */\n",
    "    } catch (...) {                         /* Also, can catch all exceptions. */\n",
    "        std::cout << \"catch(...)\\n\";\n",
    "    }\n",
    "}"
   ]
  },
  {
   "cell_type": "markdown",
   "id": "d158ebcc",
   "metadata": {},
   "source": [
    "### The `typeid` operator <a class=\"anchor\" id=\"the-typeid-operator\"></a>"
   ]
  },
  {
   "cell_type": "markdown",
   "id": "d12a3678",
   "metadata": {},
   "source": [
    "The `typeid` operator accepts a type or an expression, and returns a `std::type_info` object, containing information about a type."
   ]
  },
  {
   "cell_type": "code",
   "execution_count": 457,
   "id": "e5884130",
   "metadata": {},
   "outputs": [
    {
     "name": "stdout",
     "output_type": "stream",
     "text": [
      "0"
     ]
    }
   ],
   "source": [
    "#include <iostream>\n",
    "\n",
    "class A {};\n",
    "\n",
    "class B : public A {};\n",
    "\n",
    "int main() {\n",
    "    std::cout << (typeid(A) == typeid(B));\n",
    "}"
   ]
  },
  {
   "cell_type": "code",
   "execution_count": 452,
   "id": "90b3f40b",
   "metadata": {},
   "outputs": [
    {
     "name": "stdout",
     "output_type": "stream",
     "text": [
      "1A"
     ]
    }
   ],
   "source": [
    "#include <iostream>\n",
    "\n",
    "class A {};\n",
    "\n",
    "int main() {\n",
    "    std::cout << typeid(A).name();\n",
    "\n",
    "}"
   ]
  },
  {
   "cell_type": "markdown",
   "id": "151db7cd",
   "metadata": {},
   "source": [
    "*Note:* A `const char *` is returned by the `name()` method in an `std::type_info` object, the content of which is implementation-defined. "
   ]
  },
  {
   "cell_type": "markdown",
   "id": "945ac00d",
   "metadata": {},
   "source": [
    "The expression between the parentheses of `typeid` is not executed, but merely evaluated for the type."
   ]
  },
  {
   "cell_type": "code",
   "execution_count": 458,
   "id": "2eec4fc1",
   "metadata": {},
   "outputs": [
    {
     "name": "stdout",
     "output_type": "stream",
     "text": [
      "x: 1\n",
      "1A\n",
      "x: 1\n"
     ]
    }
   ],
   "source": [
    "#include <iostream>\n",
    "\n",
    "class A {\n",
    "public:\n",
    "    int x;\n",
    "\n",
    "    A() : x(1) {}\n",
    "    \n",
    "    A & inc() {\n",
    "        x++;\n",
    "        return *this;\n",
    "    }\n",
    "};\n",
    "\n",
    "int main() {\n",
    "    A a;\n",
    "    \n",
    "    std::cout << \"x: \" << a.x << '\\n';\n",
    "    \n",
    "    std::cout << typeid(a.inc()).name() << '\\n';\n",
    "    \n",
    "    std::cout << \"x: \" << a.x << '\\n';\n",
    "}"
   ]
  },
  {
   "cell_type": "markdown",
   "id": "f914b304",
   "metadata": {},
   "source": [
    "`typeid` requires RTTI information to be able to determine the type of an object at run-time. This means, if an object is not of a polymorphic type, the type is determined statically, at compile-time. Otherwise, it is determined at run-time."
   ]
  },
  {
   "cell_type": "code",
   "execution_count": 460,
   "id": "4ef5160c",
   "metadata": {},
   "outputs": [
    {
     "name": "stdout",
     "output_type": "stream",
     "text": [
      "1A"
     ]
    }
   ],
   "source": [
    "#include <iostream>\n",
    "\n",
    "class A {};               /* Non-polymorphic type. */\n",
    "\n",
    "class B : public A {};\n",
    "\n",
    "int main() {\n",
    "    B b;\n",
    "    \n",
    "    A *a_ptr = &b;\n",
    "    \n",
    "    std::cout << typeid(*a_ptr).name();\n",
    "}"
   ]
  },
  {
   "cell_type": "code",
   "execution_count": 461,
   "id": "3af0ab2f",
   "metadata": {},
   "outputs": [
    {
     "name": "stdout",
     "output_type": "stream",
     "text": [
      "1B"
     ]
    }
   ],
   "source": [
    "#include <iostream>\n",
    "\n",
    "class A {                  /* Polymorphic type. */\n",
    "public:\n",
    "    virtual ~A() {}\n",
    "};\n",
    "\n",
    "class B : public A {};\n",
    "\n",
    "int main() {\n",
    "    B b;\n",
    "    \n",
    "    A *a_ptr = &b;\n",
    "    \n",
    "    std::cout << typeid(*a_ptr).name();\n",
    "}"
   ]
  }
 ],
 "metadata": {
  "kernelspec": {
   "display_name": "C",
   "language": "c",
   "name": "c"
  },
  "language_info": {
   "file_extension": ".cpp",
   "mimetype": "text/plain",
   "name": "c++"
  }
 },
 "nbformat": 4,
 "nbformat_minor": 5
}
