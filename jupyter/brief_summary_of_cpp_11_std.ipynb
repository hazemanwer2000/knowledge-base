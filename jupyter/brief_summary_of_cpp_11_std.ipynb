{
 "cells": [
  {
   "cell_type": "markdown",
   "id": "682e6274",
   "metadata": {},
   "source": [
    "# A brief summary of the Standard Library in C++ (11)\n",
    "<br>\n",
    "<div style=\"opacity: 0.8; font-family: Consolas, Monaco, Lucida Console, Liberation Mono, DejaVu Sans Mono, Bitstream Vera Sans Mono, Courier New; font-size: 12px; font-style: italic;\">\n",
    "    ────────\n",
    "    for more from the author, visit\n",
    "    <a href=\"https://github.com/hazemanwer2000\">github.com/hazemanwer2000</a>.\n",
    "    ────────\n",
    "</div>"
   ]
  },
  {
   "cell_type": "markdown",
   "id": "78285c51",
   "metadata": {},
   "source": [
    "## Table of Contents\n",
    "\n",
    "\n",
    "<hr>"
   ]
  },
  {
   "cell_type": "markdown",
   "id": "7b83cdc8",
   "metadata": {},
   "source": [
    "## Smart Pointers"
   ]
  },
  {
   "cell_type": "markdown",
   "id": "bd00858a",
   "metadata": {},
   "source": [
    "### `unique_ptr`"
   ]
  },
  {
   "cell_type": "markdown",
   "id": "82e166ea",
   "metadata": {},
   "source": [
    "A `unique_ptr` instance is used to manage a dynamically allocated object. Namely,\n",
    "* It is initialized with a pointer to the object.\n",
    "* When the `unique_ptr` instance (which resides on the stack) is de-allocated, the managed object is automatically deleted (i.e., explicit `delete` is unnecessary).\n",
    "* It supports move semantics only."
   ]
  },
  {
   "cell_type": "code",
   "execution_count": null,
   "id": "1948c3e2",
   "metadata": {},
   "outputs": [],
   "source": [
    "//%cflags: -O0\n",
    "\n",
    "#include <memory>\n",
    "#include <iostream>\n",
    "\n",
    "class Integer {\n",
    "    private:\n",
    "        int value;\n",
    "    \n",
    "    public:\n",
    "        Integer(int x) : value(x)\n",
    "        {\n",
    "            std::cout << \"Creating: \" << this->value << \"\\n\";\n",
    "        }\n",
    "        ~Integer()\n",
    "        {\n",
    "            std::cout << \"Deleting: \" << this->value << \"\\n\";\n",
    "        }\n",
    "        Integer & operator+=(int y) {\n",
    "            this->value += y;\n",
    "            return *this;\n",
    "        }\n",
    "        friend std::ostream& operator<<(std::ostream &os, const Integer &x);\n",
    "};\n",
    "\n",
    "std::ostream& operator<<(std::ostream &os, const Integer &x) {\n",
    "    os << x.value;\n",
    "    return os;\n",
    "}"
   ]
  },
  {
   "cell_type": "code",
   "execution_count": null,
   "id": "c02705b4",
   "metadata": {},
   "outputs": [
    {
     "name": "stdout",
     "output_type": "stream",
     "text": [
      "Creating: 5\n",
      "5\n",
      "Deleting: 5\n"
     ]
    }
   ],
   "source": [
    "int main()\n",
    "{\n",
    "    std::unique_ptr<Integer> x_ptr{new Integer{5}};\n",
    "\n",
    "    std::cout << *x_ptr << \"\\n\";\n",
    "}"
   ]
  },
  {
   "cell_type": "code",
   "execution_count": null,
   "id": "ccb22609",
   "metadata": {},
   "outputs": [
    {
     "name": "stdout",
     "output_type": "stream",
     "text": [
      "Creating: 5\n",
      "x_ptr: 0\n",
      "y_ptr: 0x1b588da1a80\n",
      "Deleting: 5\n"
     ]
    }
   ],
   "source": [
    "int main()\n",
    "{\n",
    "    std::unique_ptr<Integer> x_ptr{new Integer{5}};\n",
    "    std::unique_ptr<Integer> y_ptr{std::move(x_ptr)};\n",
    "\n",
    "    std::cout << \"x_ptr: \" << x_ptr.get() << \"\\n\";\n",
    "    std::cout << \"y_ptr: \" << y_ptr.get() << \"\\n\";\n",
    "}"
   ]
  },
  {
   "cell_type": "markdown",
   "id": "db98622f",
   "metadata": {},
   "source": [
    "#### Methods"
   ]
  },
  {
   "cell_type": "markdown",
   "id": "40903ded",
   "metadata": {},
   "source": [
    "| *Method* | *Description* |\n",
    "| :--- | :--- |\n",
    "| `get()` | Returns (raw) pointer. |\n",
    "| `release()` | Returns (raw) pointer, and releases managed object (i.e., explicit `delete` becomes necessary). <br> Afterwards, `get()` returns `nullptr`.  |\n",
    "| `reset()` | Deletes managed object, if present. <br> Afterwards, `get()` returns `nullptr`.  |\n",
    "| `reset(POINTER)` | Deletes managed object, if present, and manages object that resides at `POINTER`.  |"
   ]
  },
  {
   "cell_type": "markdown",
   "id": "0335d1e6",
   "metadata": {},
   "source": []
  }
 ],
 "metadata": {
  "kernelspec": {
   "display_name": "C++ Language (ipykernel)",
   "language": "c++",
   "name": "kernel_cpp"
  },
  "language_info": {
   "file_extension": ".cpp",
   "mimetype": "text/plain",
   "name": "c++"
  }
 },
 "nbformat": 4,
 "nbformat_minor": 5
}
