{
 "cells": [
  {
   "cell_type": "markdown",
   "id": "d582f54b",
   "metadata": {},
   "source": [
    "# A brief summary of NumPy\n",
    "<br>\n",
    "<div style=\"opacity: 0.8; font-family: Consolas, Monaco, Lucida Console, Liberation Mono, DejaVu Sans Mono, Bitstream Vera Sans Mono, Courier New; font-size: 12px; font-style: italic;\">\n",
    "    ────────\n",
    "    for more from the author, visit\n",
    "    <a href=\"https://github.com/hazemanwer2000\">github.com/hazemanwer2000</a>.\n",
    "    ────────\n",
    "</div>"
   ]
  },
  {
   "cell_type": "markdown",
   "id": "31bf0648",
   "metadata": {},
   "source": [
    "## Table of Contents\n",
    "* [Indexing](#indexing)\n",
    "* [Operations](#operations)\n",
    "  * [Custom Operations](#custom-operations)\n",
    "* [Transformations](#transformations)\n"
   ]
  },
  {
   "cell_type": "markdown",
   "id": "4ec0dae3",
   "metadata": {},
   "source": [
    "NumPy is a python package that provides and facilitates efficient manipulation of N-dimensional arrays."
   ]
  },
  {
   "cell_type": "code",
   "execution_count": 2,
   "id": "94c7cd22",
   "metadata": {},
   "outputs": [],
   "source": [
    "import numpy as np"
   ]
  },
  {
   "cell_type": "code",
   "execution_count": null,
   "id": "d00ddbb4",
   "metadata": {},
   "outputs": [
    {
     "data": {
      "text/plain": [
       "array([1, 2, 3])"
      ]
     },
     "execution_count": 4,
     "metadata": {},
     "output_type": "execute_result"
    }
   ],
   "source": [
    "# 1-Dimensional Array\n",
    "np.array([1, 2, 3], dtype=int)"
   ]
  },
  {
   "cell_type": "code",
   "execution_count": null,
   "id": "60dee456",
   "metadata": {},
   "outputs": [
    {
     "data": {
      "text/plain": [
       "array([[1, 2, 3],\n",
       "       [4, 5, 6]])"
      ]
     },
     "execution_count": 5,
     "metadata": {},
     "output_type": "execute_result"
    }
   ],
   "source": [
    "# 2-Dimensional Array\n",
    "np.array([[1, 2, 3], [4, 5, 6]], dtype=int)"
   ]
  },
  {
   "cell_type": "code",
   "execution_count": null,
   "id": "fec7c699",
   "metadata": {},
   "outputs": [
    {
     "data": {
      "text/plain": [
       "(2, 3)"
      ]
     },
     "execution_count": 14,
     "metadata": {},
     "output_type": "execute_result"
    }
   ],
   "source": [
    "# Shape = (Rows, Columns)\n",
    "a = np.array([[1, 2, 3], [4, 5, 6]], dtype=int)\n",
    "np.shape(a)"
   ]
  },
  {
   "cell_type": "markdown",
   "id": "8f83fbe2",
   "metadata": {},
   "source": [
    "## Indexing <a class=\"anchor\" id=\"indexing\"></a>"
   ]
  },
  {
   "cell_type": "code",
   "execution_count": null,
   "id": "43de6150",
   "metadata": {},
   "outputs": [
    {
     "data": {
      "text/plain": [
       "np.int64(2)"
      ]
     },
     "execution_count": 3,
     "metadata": {},
     "output_type": "execute_result"
    }
   ],
   "source": [
    "# Access element\n",
    "a = np.array([[1, 2, 3], [4, 5, 6], [7, 8, 9]], dtype=int)\n",
    "a[0, 1]"
   ]
  },
  {
   "cell_type": "code",
   "execution_count": null,
   "id": "b7f869fe",
   "metadata": {},
   "outputs": [
    {
     "data": {
      "text/plain": [
       "array([4, 5, 6])"
      ]
     },
     "execution_count": 5,
     "metadata": {},
     "output_type": "execute_result"
    }
   ],
   "source": [
    "# Access row\n",
    "a = np.array([[1, 2, 3], [4, 5, 6], [7, 8, 9]], dtype=int)\n",
    "a[1, :]"
   ]
  },
  {
   "cell_type": "code",
   "execution_count": null,
   "id": "fe8e59c6",
   "metadata": {},
   "outputs": [
    {
     "data": {
      "text/plain": [
       "array([2, 5, 8])"
      ]
     },
     "execution_count": 6,
     "metadata": {},
     "output_type": "execute_result"
    }
   ],
   "source": [
    "# Access column\n",
    "a = np.array([[1, 2, 3], [4, 5, 6], [7, 8, 9]], dtype=int)\n",
    "a[:, 1]"
   ]
  },
  {
   "cell_type": "code",
   "execution_count": 60,
   "id": "fa174ab2",
   "metadata": {},
   "outputs": [
    {
     "data": {
      "text/plain": [
       "array([[1, 2],\n",
       "       [4, 5],\n",
       "       [7, 8]])"
      ]
     },
     "execution_count": 60,
     "metadata": {},
     "output_type": "execute_result"
    }
   ],
   "source": [
    "# Slicing\n",
    "a = np.array([[1, 2, 3], [4, 5, 6], [7, 8, 9]], dtype=int)\n",
    "a[:, 0:2]"
   ]
  },
  {
   "cell_type": "code",
   "execution_count": 5,
   "id": "6138d115",
   "metadata": {},
   "outputs": [
    {
     "data": {
      "text/plain": [
       "array([[1, 3],\n",
       "       [4, 6],\n",
       "       [7, 9]])"
      ]
     },
     "execution_count": 5,
     "metadata": {},
     "output_type": "execute_result"
    }
   ],
   "source": [
    "# Slicing (with Selection)\n",
    "a = np.array([[1, 2, 3], [4, 5, 6], [7, 8, 9]], dtype=int)\n",
    "a[:, [0, 2]]"
   ]
  },
  {
   "cell_type": "markdown",
   "id": "9111b010",
   "metadata": {},
   "source": [
    "## Operations <a class=\"anchor\" id=\"operations\"></a>"
   ]
  },
  {
   "cell_type": "code",
   "execution_count": null,
   "id": "f0821042",
   "metadata": {},
   "outputs": [
    {
     "data": {
      "text/plain": [
       "array([[ 2,  3,  4],\n",
       "       [ 5,  6,  7],\n",
       "       [ 8,  9, 10]])"
      ]
     },
     "execution_count": 34,
     "metadata": {},
     "output_type": "execute_result"
    }
   ],
   "source": [
    "# Operation(s) between array(s), of the same shape, are element-wise\n",
    "a = np.array([[1, 2, 3], [4, 5, 6], [7, 8, 9]], dtype=int)\n",
    "b = np.ones(shape=np.shape(a), dtype=int)\n",
    "a + b"
   ]
  },
  {
   "cell_type": "code",
   "execution_count": null,
   "id": "577da959",
   "metadata": {},
   "outputs": [
    {
     "data": {
      "text/plain": [
       "array([[ 2,  3,  4],\n",
       "       [ 5,  6,  7],\n",
       "       [ 8,  9, 10]])"
      ]
     },
     "execution_count": 36,
     "metadata": {},
     "output_type": "execute_result"
    }
   ],
   "source": [
    "# Operation(s) between an array and an element, are supported \n",
    "a = np.array([[1, 2, 3], [4, 5, 6], [7, 8, 9]], dtype=int)\n",
    "a + 1"
   ]
  },
  {
   "cell_type": "code",
   "execution_count": null,
   "id": "964f9674",
   "metadata": {},
   "outputs": [
    {
     "data": {
      "text/plain": [
       "array([[2, 0, 2],\n",
       "       [2, 0, 2],\n",
       "       [2, 0, 2]])"
      ]
     },
     "execution_count": 59,
     "metadata": {},
     "output_type": "execute_result"
    }
   ],
   "source": [
    "# Operation(s) between (1-Dimensional) row(s) and 2-Dimensional array(s), are supported \n",
    "a = np.ones(shape=(3, 3), dtype=int)\n",
    "row = np.array([[1, -1, 1]], dtype=int)\n",
    "a + row"
   ]
  },
  {
   "cell_type": "code",
   "execution_count": 61,
   "id": "437469bb",
   "metadata": {},
   "outputs": [
    {
     "data": {
      "text/plain": [
       "array([[2, 2, 2],\n",
       "       [0, 0, 0],\n",
       "       [2, 2, 2]])"
      ]
     },
     "execution_count": 61,
     "metadata": {},
     "output_type": "execute_result"
    }
   ],
   "source": [
    "# Operation(s) between (1-Dimensional) column(s) and 2-Dimensional array(s), are supported \n",
    "a = np.ones(shape=(3, 3), dtype=int)\n",
    "column = np.array([[1], [-1], [1]], dtype=int)\n",
    "a + column"
   ]
  },
  {
   "cell_type": "markdown",
   "id": "22f1e0e5",
   "metadata": {},
   "source": [
    "### Custom Operations <a class=\"anchor\" id=\"custom-operations\"></a>"
   ]
  },
  {
   "cell_type": "code",
   "execution_count": 64,
   "id": "24a8a41f",
   "metadata": {},
   "outputs": [
    {
     "data": {
      "text/plain": [
       "array(['A=a', 'B=b', 'C=c'], dtype=object)"
      ]
     },
     "execution_count": 64,
     "metadata": {},
     "output_type": "execute_result"
    }
   ],
   "source": [
    "# Between 2 N-Dimensional arrays, of the same shape\n",
    "a = np.array([\"A\", \"B\", \"C\"], dtype=object)\n",
    "b = np.array([\"a\", \"b\", \"c\"], dtype=object)\n",
    "np.vectorize(lambda x, y: x + '=' + y, otypes=[object])(a, b)"
   ]
  },
  {
   "cell_type": "code",
   "execution_count": 71,
   "id": "3ded4740",
   "metadata": {},
   "outputs": [
    {
     "data": {
      "text/plain": [
       "array([['A()', 'B()'],\n",
       "       ['C()', 'D()']], dtype=object)"
      ]
     },
     "execution_count": 71,
     "metadata": {},
     "output_type": "execute_result"
    }
   ],
   "source": [
    "# Between N-Dimensional array, and element\n",
    "a = np.array([[\"A\", \"B\"], [\"C\", \"D\"]], dtype=object)\n",
    "np.vectorize(lambda x, y: x + y, otypes=[object])(a, '()')"
   ]
  },
  {
   "cell_type": "code",
   "execution_count": 68,
   "id": "494ca0b8",
   "metadata": {},
   "outputs": [
    {
     "data": {
      "text/plain": [
       "array([['A1', 'B2'],\n",
       "       ['C1', 'D2']], dtype=object)"
      ]
     },
     "execution_count": 68,
     "metadata": {},
     "output_type": "execute_result"
    }
   ],
   "source": [
    "# Between N-Dimensional array, and row\n",
    "a = np.array([[\"A\", \"B\"], [\"C\", \"D\"]], dtype=object)\n",
    "b = np.array([[\"1\", \"2\"]], dtype=object)\n",
    "np.vectorize(lambda x, y: x + y, otypes=[object])(a, b)"
   ]
  },
  {
   "cell_type": "code",
   "execution_count": 69,
   "id": "ca3a4e23",
   "metadata": {},
   "outputs": [
    {
     "data": {
      "text/plain": [
       "array([['A1', 'B1'],\n",
       "       ['C2', 'D2']], dtype=object)"
      ]
     },
     "execution_count": 69,
     "metadata": {},
     "output_type": "execute_result"
    }
   ],
   "source": [
    "# Between N-Dimensional array, and column\n",
    "a = np.array([[\"A\", \"B\"], [\"C\", \"D\"]], dtype=object)\n",
    "b = np.array([[\"1\"], [\"2\"]], dtype=object)\n",
    "np.vectorize(lambda x, y: x + y, otypes=[object])(a, b)"
   ]
  },
  {
   "cell_type": "markdown",
   "id": "974181a1",
   "metadata": {},
   "source": [
    "## Transformations <a class=\"anchor\" id=\"transformations\"></a>"
   ]
  },
  {
   "cell_type": "code",
   "execution_count": 72,
   "id": "e22d9b52",
   "metadata": {},
   "outputs": [
    {
     "data": {
      "text/plain": [
       "array([['a', 'b', 'c'],\n",
       "       ['d', 'e', 'f']], dtype=object)"
      ]
     },
     "execution_count": 72,
     "metadata": {},
     "output_type": "execute_result"
    }
   ],
   "source": [
    "# Transform 2-Dimensional array into (new) 2-Dimensional array\n",
    "a = np.array([[\"A\", \"B\", \"C\"], [\"D\", \"E\", \"F\"]], dtype=object)\n",
    "np.vectorize(lambda x: x.lower(), otypes=[object])(a)"
   ]
  },
  {
   "cell_type": "code",
   "execution_count": 62,
   "id": "cb300049",
   "metadata": {},
   "outputs": [
    {
     "data": {
      "text/plain": [
       "array(['ABC', 'DEF'], dtype=object)"
      ]
     },
     "execution_count": 62,
     "metadata": {},
     "output_type": "execute_result"
    }
   ],
   "source": [
    "# Transform 2-Dimensional array into 1-Dimensional array (i.e., row into element)\n",
    "a = np.array([[\"A\", \"B\", \"C\"], [\"D\", \"E\", \"F\"]], dtype=object)\n",
    "np.array([''.join(row) for row in a], dtype=object)"
   ]
  },
  {
   "cell_type": "code",
   "execution_count": 54,
   "id": "8611e615",
   "metadata": {},
   "outputs": [
    {
     "data": {
      "text/plain": [
       "array(['AD', 'BE', 'CF'], dtype=object)"
      ]
     },
     "execution_count": 54,
     "metadata": {},
     "output_type": "execute_result"
    }
   ],
   "source": [
    "# Transform 2-Dimensional array into 1-Dimensional array (i.e., column into element)\n",
    "a = np.array([[\"A\", \"B\", \"C\"], [\"D\", \"E\", \"F\"]], dtype=object)\n",
    "np.array([''.join(col) for col in a.T], dtype=object)"
   ]
  }
 ],
 "metadata": {
  "kernelspec": {
   "display_name": "Python 3",
   "language": "python",
   "name": "python3"
  },
  "language_info": {
   "codemirror_mode": {
    "name": "ipython",
    "version": 3
   },
   "file_extension": ".py",
   "mimetype": "text/x-python",
   "name": "python",
   "nbconvert_exporter": "python",
   "pygments_lexer": "ipython3",
   "version": "3.12.0"
  }
 },
 "nbformat": 4,
 "nbformat_minor": 5
}
