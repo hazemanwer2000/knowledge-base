{
 "cells": [
  {
   "cell_type": "markdown",
   "id": "57a5dd54",
   "metadata": {},
   "source": [
    "# A brief summary of *Batch* Scripting\n",
    "<br>\n",
    "<div style=\"opacity: 0.8; font-family: Consolas, Monaco, Lucida Console, Liberation Mono, DejaVu Sans Mono, Bitstream Vera Sans Mono, Courier New; font-size: 12px; font-style: italic;\">\n",
    "    ────────\n",
    "    for more from the author, visit\n",
    "    <a href=\"https://github.com/hazemanwer2000\">github.com/hazemanwer2000</a>.\n",
    "    ────────\n",
    "</div>"
   ]
  },
  {
   "cell_type": "markdown",
   "id": "d5d19f27",
   "metadata": {},
   "source": [
    "## Table of Contents\n",
    "* [](#)\n",
    "\n",
    "<hr>"
   ]
  },
  {
   "cell_type": "markdown",
   "id": "9637932a",
   "metadata": {},
   "source": [
    "A *batch script* is interpreted and executed by a `cmd.exe` executable, the default command-line interpreter on Windows OS.\n",
    "\n",
    "Running `cmd /c SCRIPT-PATH`, the interpreter executes the script and terminates itself.\n",
    "\n",
    "Running `cmd /k SCRIPT-PATH`, the interpreter executes the script and then, remains running."
   ]
  },
  {
   "cell_type": "markdown",
   "id": "ebee45ea",
   "metadata": {},
   "source": [
    "*Note:* Typing `SCRIPT-PATH` in an already running interpreter simply *sources* the commands within the batch script (i.e, executes each command as if it was typed). However, the `EXIT` built-in command does not terminate the interpreter."
   ]
  },
  {
   "cell_type": "markdown",
   "id": "5a1ba2fb",
   "metadata": {},
   "source": [
    "## Basic Syntax"
   ]
  },
  {
   "cell_type": "markdown",
   "id": "4e4acc23",
   "metadata": {},
   "source": [
    "Usually, a batch script begins with the line:"
   ]
  },
  {
   "cell_type": "code",
   "execution_count": null,
   "id": "e9f29ac6",
   "metadata": {
    "vscode": {
     "languageId": "bat"
    }
   },
   "outputs": [],
   "source": [
    "@ECHO off"
   ]
  },
  {
   "cell_type": "markdown",
   "id": "1409526b",
   "metadata": {},
   "source": [
    "By default, echo'ing of commands in a batch script is enabled. To disable it, the built-in command `ECHO` is passed `off` as an argument. This disables echo'ing for all forth-coming commands, except for the `ECHO off` command itself.\n",
    "\n",
    "To disable echo'ing for a single command, prepend the character `@` to it."
   ]
  },
  {
   "cell_type": "markdown",
   "id": "db28d3b7",
   "metadata": {},
   "source": [
    "### Comments"
   ]
  },
  {
   "cell_type": "markdown",
   "id": "caafcfa9",
   "metadata": {},
   "source": [
    "To comment in a batch script, begin a line with the built-in command `REM`."
   ]
  },
  {
   "cell_type": "code",
   "execution_count": null,
   "id": "e29704d3",
   "metadata": {
    "vscode": {
     "languageId": "bat"
    }
   },
   "outputs": [],
   "source": [
    "REM This is a comment."
   ]
  },
  {
   "cell_type": "markdown",
   "id": "6984237a",
   "metadata": {},
   "source": [
    "### Variables"
   ]
  },
  {
   "cell_type": "markdown",
   "id": "0f056ebf",
   "metadata": {},
   "source": [
    "To set a variable, use the `SET` built-in command."
   ]
  },
  {
   "cell_type": "code",
   "execution_count": null,
   "id": "93caa0d6",
   "metadata": {
    "vscode": {
     "languageId": "bat"
    }
   },
   "outputs": [],
   "source": [
    "REM Assign a value to a variable.\n",
    "SET VARIABLE-NAME=VALUE\n",
    "\n",
    "REM Assign a variable to another variable.\n",
    "SET VARIABLE-NAME=%VARIABLE-NAME%\n",
    "\n",
    "REM Empty (i.e, delete) a variable.\n",
    "SET VARIABLE-NAME=\n",
    "\n",
    "REM Assign a numerical value to a variable.\n",
    "SET /A VARIABLE-NAME = NUMERICAL-VALUE\n",
    "\n",
    "REM Assign the result of a mathematical expression to a variable.\n",
    "SET /A VARIABLE-NAME = %VARIABLE-NAME% + %VARIABLE-NAME%"
   ]
  },
  {
   "cell_type": "markdown",
   "id": "43c6eb28",
   "metadata": {},
   "source": [
    "*Note:* Variables set within a batch script are not accessible by the executing interpreter, thereafter."
   ]
  },
  {
   "cell_type": "markdown",
   "id": "77a097a2",
   "metadata": {},
   "source": [
    "To use a variable thereafter, surround its name with `%`."
   ]
  },
  {
   "cell_type": "code",
   "execution_count": null,
   "id": "5d71f705",
   "metadata": {
    "vscode": {
     "languageId": "bat"
    }
   },
   "outputs": [],
   "source": [
    "REM Prints (i.e, echos) the value of the variable 'VARIABLE-NAME'.\n",
    "ECHO %VARIABLE-NAME%\n",
    "\n",
    "REM Extracts substring, from index 'I' (inclusive) to 'J' (exclusive). \n",
    "ECHO %VARIABLE-NAME:~1,4%\n",
    "\n",
    "REM Extracts substring, removing first and last characters.\n",
    "ECHO %VARIABLE-NAME:~1,-1%\n",
    "\n",
    "REM Replaces every occurence of substring 'SUB1' with 'SUB2'.\n",
    "ECHO %VARIABLE-NAME:SUB1=SUB2%"
   ]
  },
  {
   "cell_type": "markdown",
   "id": "baa3bed7",
   "metadata": {},
   "source": [
    "*Note:* Quotes do not escape `%VARIABLE-NAME%`. In other words, `ECHO \"%C% = %A% + %B%\"` prints, for example, `5 = 2 + 3`."
   ]
  },
  {
   "cell_type": "markdown",
   "id": "9b1ce7b9",
   "metadata": {},
   "source": [
    "#### Local Variables"
   ]
  },
  {
   "cell_type": "markdown",
   "id": "e4bbbfee",
   "metadata": {},
   "source": [
    "A *local variable* is a variable more limited in scope, set between the `SETLOCAL` and `ENDLOCAL` commands."
   ]
  },
  {
   "cell_type": "code",
   "execution_count": null,
   "id": "7f56cc89",
   "metadata": {
    "vscode": {
     "languageId": "bat"
    }
   },
   "outputs": [],
   "source": [
    "SET \\A X = 0\n",
    "\n",
    "SETLOCAL\n",
    "SET \\A X = 1\n",
    "ENDLOCAL\n",
    "\n",
    "REM Prints '0'.\n",
    "ECHO %X%"
   ]
  },
  {
   "cell_type": "markdown",
   "id": "7cc719be",
   "metadata": {},
   "source": [
    "#### Special Variables"
   ]
  },
  {
   "cell_type": "markdown",
   "id": "190e21d1",
   "metadata": {},
   "source": [
    "The variables `%0` through `%9` are *special variables* within a batch script."
   ]
  },
  {
   "cell_type": "markdown",
   "id": "936dbb1e",
   "metadata": {},
   "source": [
    "| *Variable* | *Description* |\n",
    "| --- | --- |\n",
    "| `%0` | File-system path of the currently executing script. |\n",
    "| `%1` to `%9` | Arguments passed to the currently executing script. |"
   ]
  },
  {
   "cell_type": "markdown",
   "id": "dc34a2a5",
   "metadata": {},
   "source": [
    "### `IF-ELSE` and `GO-TO` Statements"
   ]
  },
  {
   "cell_type": "markdown",
   "id": "3314f810",
   "metadata": {},
   "source": [
    "An `IF-ELSE` statement enables the conditional execution of a command, based on the current value of a variable."
   ]
  },
  {
   "cell_type": "code",
   "execution_count": null,
   "id": "6b69677b",
   "metadata": {
    "vscode": {
     "languageId": "bat"
    }
   },
   "outputs": [],
   "source": [
    "REM 'IF-ELSE' statement.\n",
    "IF %VARIABLE-NAME%==VALUE (COMMAND) ELSE (COMMAND)\n",
    "\n",
    "REM Nested 'IF' statement.\n",
    "IF %X%==VALUE (IF %Y%==VALUE (COMMAND))"
   ]
  },
  {
   "cell_type": "markdown",
   "id": "2bd539c3",
   "metadata": {},
   "source": [
    "The following operators may be used to compare two values:"
   ]
  },
  {
   "cell_type": "markdown",
   "id": "e59d4304",
   "metadata": {},
   "source": [
    "| *Operator* | *Description* |\n",
    "| --- | --- |\n",
    "| `EQU` | Equal to. |\n",
    "| `NEQ` | Not equal to. |\n",
    "| `LSS` | Less than. |\n",
    "| `LEQ` | Less than or equal to. |\n",
    "| `GTR` | Greater than. |\n",
    "| `GEQ` | Greater than or equal to. |"
   ]
  },
  {
   "cell_type": "markdown",
   "id": "fc1811a4",
   "metadata": {},
   "source": [
    "*Note:* Additionally, the `NOT` operator may preceed any comparison, to invert its logical meaning."
   ]
  },
  {
   "cell_type": "markdown",
   "id": "a7cfa3f9",
   "metadata": {},
   "source": [
    "To execute multiple commands within a single `IF-ELSE` statement, combine commands using the following operators, executing them *left-to-right*:"
   ]
  },
  {
   "cell_type": "markdown",
   "id": "15dc015f",
   "metadata": {},
   "source": [
    "| *Operator* | *Description* |\n",
    "| --- | --- |\n",
    "| `&` | Run all commands. |\n",
    "| `&&` | Run all commands, stop at first failure. |\n",
    "| `\\|\\|` | Run all commands, stop at first success. |"
   ]
  },
  {
   "cell_type": "markdown",
   "id": "eff6976f",
   "metadata": {},
   "source": [
    "*Note:* An `IF-ELSE` statement, combined with the `%ERRORLEVEL%` variable, may be used to emulate the behavior of the `&&` operator."
   ]
  },
  {
   "cell_type": "markdown",
   "id": "1e06df0a",
   "metadata": {},
   "source": [
    "Alternatively, a `GO-TO` statement jumps to a label, proceeding execution from there onwards."
   ]
  },
  {
   "cell_type": "code",
   "execution_count": null,
   "id": "a71edfca",
   "metadata": {
    "vscode": {
     "languageId": "bat"
    }
   },
   "outputs": [],
   "source": [
    "GOTO :LABEL\n",
    "\n",
    "REM Skipped code.\n",
    "...\n",
    "\n",
    ":LABEL\n",
    "REM Executed code.\n",
    "..."
   ]
  },
  {
   "cell_type": "markdown",
   "id": "920feb5a",
   "metadata": {},
   "source": [
    "### `FOR` Loops with Arrays"
   ]
  },
  {
   "cell_type": "markdown",
   "id": "02c8a921",
   "metadata": {},
   "source": [
    "A `FOR` loop enables iterating over a list of whitespace-separated values."
   ]
  },
  {
   "cell_type": "code",
   "execution_count": null,
   "id": "f93e201c",
   "metadata": {
    "vscode": {
     "languageId": "bat"
    }
   },
   "outputs": [],
   "source": [
    "REM Variable, with white-space separated values.\n",
    "SET LIST=A B C\n",
    "\n",
    "REM Loop on each value in the list.\n",
    "FOR %%X IN (%LIST%) DO (echo %%X)"
   ]
  },
  {
   "cell_type": "markdown",
   "id": "1d1eaafe",
   "metadata": {},
   "source": [
    "A `FOR /L` loop enables iterating over a range of values, particularly useful when accessing arrays."
   ]
  },
  {
   "cell_type": "code",
   "execution_count": null,
   "id": "aed218cb",
   "metadata": {
    "vscode": {
     "languageId": "bat"
    }
   },
   "outputs": [],
   "source": [
    "REM Enable the delayed expansion operator '!', within a local scope.\n",
    "SETLOCAL ENABLEDELAYEDEXPANSION\n",
    "\n",
    "REM Set array elements, each individually.\n",
    "SET ARRAY[0]=3\n",
    "SET ARRAY[1]=2\n",
    "SET ARRAY[2]=1\n",
    "\n",
    "REM Loop on each value in the range of values (all-inclusive).\n",
    "FOR /L %%X IN (0,1,2) DO (echo !ARRAY[%%X]!)\n",
    "\n",
    "ENDLOCAL"
   ]
  },
  {
   "cell_type": "markdown",
   "id": "613509f6",
   "metadata": {},
   "source": [
    "*Note:* Without *delayed expansion* of the array elements within the `FOR` loop, the interpreter wouldn't know how to interpret the expansion of `%ARRAY[%%X]%`, since `%%X` would still be unassigned."
   ]
  },
  {
   "cell_type": "markdown",
   "id": "a087c8dc",
   "metadata": {},
   "source": [
    "### Redirecting `stdout` and `stderr`"
   ]
  },
  {
   "cell_type": "markdown",
   "id": "a3706f61",
   "metadata": {},
   "source": [
    "Redirection of the standard output and error files, `stdout` and `stderr`, to a file, instead of the command-line, is possible."
   ]
  },
  {
   "cell_type": "code",
   "execution_count": null,
   "id": "43e5d0f6",
   "metadata": {
    "vscode": {
     "languageId": "bat"
    }
   },
   "outputs": [],
   "source": [
    "REM Redirecting 'stdout' to file.\n",
    "COMMAND > output.txt\n",
    "\n",
    "REM Redirecting 'stderr' to file.\n",
    "COMMAND 2> output.txt\n",
    "\n",
    "REM Redirecting both, 'stdout' and 'stderr', to file.\n",
    "COMMAND > output.txt 2>&1"
   ]
  },
  {
   "cell_type": "markdown",
   "id": "b20783f8",
   "metadata": {},
   "source": [
    "*Note:* Alternatively, the standard output and error may be discarded altogether, by redirecting them to `NUL`, instead of a file."
   ]
  },
  {
   "cell_type": "markdown",
   "id": "9dfd7240",
   "metadata": {},
   "source": [
    "### Functions"
   ]
  },
  {
   "cell_type": "markdown",
   "id": "656a49be",
   "metadata": {},
   "source": [
    "A function is a sequence of commands, that begin with a label and end with an `EXIT` built-in command.\n",
    "\n",
    "Typically, they are defined at the beginning of a script, and a `GOTO` statement skips to the main code, averting their unintentional execution. \n",
    "\n",
    "To intentionally execute a function, use the `CALL` built-in command. "
   ]
  },
  {
   "cell_type": "code",
   "execution_count": null,
   "id": "d148c265",
   "metadata": {
    "vscode": {
     "languageId": "bat"
    }
   },
   "outputs": [],
   "source": [
    "GOTO :MAIN\n",
    "\n",
    ":SAY\n",
    "    ECHO Say what!\n",
    "EXIT /B 0\n",
    "\n",
    ":MAIN\n",
    "\n",
    "REM: Prints 'Say what!' five times.\n",
    "FOR /L %%X IN (1,1,5) DO (CALL :SAY)"
   ]
  },
  {
   "cell_type": "markdown",
   "id": "80e65422",
   "metadata": {},
   "source": [
    "A function may be passed arguments, accessed using the special variables `%~1` to `%~9`."
   ]
  },
  {
   "cell_type": "code",
   "execution_count": null,
   "id": "d22fc6f3",
   "metadata": {
    "vscode": {
     "languageId": "bat"
    }
   },
   "outputs": [],
   "source": [
    "GOTO :MAIN\n",
    "\n",
    ":POWER\n",
    "    SETLOCAL ENABLEDELAYEDEXPANSION\n",
    "        SET /A X = %~1 * %~1 \n",
    "        ECHO %X%\n",
    "    ENDLOCAL\n",
    "EXIT /B 0\n",
    "\n",
    ":MAIN\n",
    "\n",
    "REM: Prints 'X^2' for 'X' from '1' to '5'.\n",
    "FOR /L %%X IN (1,1,5) DO (CALL :POWER %%X)"
   ]
  },
  {
   "cell_type": "markdown",
   "id": "fae385ce",
   "metadata": {},
   "source": [
    "*Note:* When accessing arguments, delayed expansion must be enabled in the given scope."
   ]
  }
 ],
 "metadata": {
  "kernelspec": {
   "display_name": "Python 3 (ipykernel)",
   "language": "python",
   "name": "python3"
  },
  "language_info": {
   "codemirror_mode": {
    "name": "ipython",
    "version": 3
   },
   "file_extension": ".py",
   "mimetype": "text/x-python",
   "name": "python",
   "nbconvert_exporter": "python",
   "pygments_lexer": "ipython3",
   "version": "3.8.10"
  }
 },
 "nbformat": 4,
 "nbformat_minor": 5
}
