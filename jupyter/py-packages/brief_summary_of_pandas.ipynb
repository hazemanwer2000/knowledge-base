{
 "cells": [
  {
   "cell_type": "markdown",
   "id": "d582f54b",
   "metadata": {},
   "source": [
    "# A brief summary of Pandas\n",
    "<br>\n",
    "<div style=\"opacity: 0.8; font-family: Consolas, Monaco, Lucida Console, Liberation Mono, DejaVu Sans Mono, Bitstream Vera Sans Mono, Courier New; font-size: 12px; font-style: italic;\">\n",
    "    ────────\n",
    "    for more from the author, visit\n",
    "    <a href=\"https://github.com/hazemanwer2000\">github.com/hazemanwer2000</a>.\n",
    "    ────────\n",
    "</div>"
   ]
  },
  {
   "cell_type": "markdown",
   "id": "31bf0648",
   "metadata": {},
   "source": [
    "## Table of Contents\n",
    "* [`Series`](#series)\n",
    "  * [Indexing](#indexing)\n",
    "  * [Operations](#operations)\n",
    "    * [Custom Operations](#custom-operations)\n",
    "  * [Transformations](#transformations)\n"
   ]
  },
  {
   "cell_type": "markdown",
   "id": "4ec0dae3",
   "metadata": {},
   "source": [
    "Pandas is a python package that allows for easy handling and manipulation of tables."
   ]
  },
  {
   "cell_type": "code",
   "execution_count": 2,
   "id": "94c7cd22",
   "metadata": {},
   "outputs": [],
   "source": [
    "import pandas as pd"
   ]
  },
  {
   "cell_type": "markdown",
   "id": "ad03aaa3",
   "metadata": {},
   "source": [
    "## `Series` <a class=\"anchor\" id=\"series\"></a>"
   ]
  },
  {
   "cell_type": "markdown",
   "id": "5cc60562",
   "metadata": {},
   "source": [
    "A `Series` is a 1-Dimensional indexed array."
   ]
  },
  {
   "cell_type": "code",
   "execution_count": null,
   "id": "60aa5037",
   "metadata": {},
   "outputs": [
    {
     "data": {
      "text/plain": [
       "0    1\n",
       "1    2\n",
       "2    3\n",
       "dtype: int64"
      ]
     },
     "execution_count": 6,
     "metadata": {},
     "output_type": "execute_result"
    }
   ],
   "source": [
    "# From list, using default indexing\n",
    "pd.Series([1, 2, 3], dtype=int)"
   ]
  },
  {
   "cell_type": "code",
   "execution_count": null,
   "id": "6766374b",
   "metadata": {},
   "outputs": [
    {
     "data": {
      "text/plain": [
       "A    1\n",
       "B    2\n",
       "C    3\n",
       "dtype: int64"
      ]
     },
     "execution_count": 7,
     "metadata": {},
     "output_type": "execute_result"
    }
   ],
   "source": [
    "# From list, using custom indexing\n",
    "pd.Series([1, 2, 3], index=['A', 'B', 'C'], dtype=int)"
   ]
  },
  {
   "cell_type": "code",
   "execution_count": 9,
   "id": "4be5880b",
   "metadata": {},
   "outputs": [
    {
     "data": {
      "text/plain": [
       "X    1\n",
       "Y    2\n",
       "Z    3\n",
       "dtype: int64"
      ]
     },
     "execution_count": 9,
     "metadata": {},
     "output_type": "execute_result"
    }
   ],
   "source": [
    "# From dictionary\n",
    "pd.Series({'X' : 1, 'Y' : 2, 'Z' : 3}, dtype=int)"
   ]
  },
  {
   "cell_type": "markdown",
   "id": "84072402",
   "metadata": {},
   "source": [
    "### Indexing <a class=\"anchor\" id=\"indexing\"></a>"
   ]
  },
  {
   "cell_type": "code",
   "execution_count": 35,
   "id": "ca223230",
   "metadata": {},
   "outputs": [
    {
     "data": {
      "text/plain": [
       "np.int64(2)"
      ]
     },
     "execution_count": 35,
     "metadata": {},
     "output_type": "execute_result"
    }
   ],
   "source": [
    "# Access Element\n",
    "s = pd.Series([1, 2, 3], index=['A', 'B', 'C'], dtype=int)\n",
    "s.loc['B']"
   ]
  },
  {
   "cell_type": "code",
   "execution_count": 37,
   "id": "d5d31ce1",
   "metadata": {},
   "outputs": [
    {
     "data": {
      "text/plain": [
       "B    2\n",
       "C    3\n",
       "dtype: int64"
      ]
     },
     "execution_count": 37,
     "metadata": {},
     "output_type": "execute_result"
    }
   ],
   "source": [
    "# Slicing\n",
    "s = pd.Series([1, 2, 3], index=['A', 'B', 'C'], dtype=int)\n",
    "s.iloc[1:]"
   ]
  },
  {
   "cell_type": "code",
   "execution_count": null,
   "id": "fbd80ce5",
   "metadata": {},
   "outputs": [
    {
     "data": {
      "text/plain": [
       "A    1\n",
       "C    3\n",
       "dtype: int64"
      ]
     },
     "execution_count": 36,
     "metadata": {},
     "output_type": "execute_result"
    }
   ],
   "source": [
    "# Slicing (with Selection)\n",
    "s = pd.Series([1, 2, 3], index=['A', 'B', 'C'], dtype=int)\n",
    "s.loc[['A', 'C']]"
   ]
  },
  {
   "cell_type": "markdown",
   "id": "32818fd3",
   "metadata": {},
   "source": [
    "*Note:* `loc` is used for index-based (i.e., like a `dict`) access, while `iloc` is used for sequential-based (i.e., like a `list`) access."
   ]
  },
  {
   "cell_type": "code",
   "execution_count": 18,
   "id": "9c0b5f94",
   "metadata": {},
   "outputs": [
    {
     "data": {
      "text/plain": [
       "B    2\n",
       "C    3\n",
       "dtype: int64"
      ]
     },
     "execution_count": 18,
     "metadata": {},
     "output_type": "execute_result"
    }
   ],
   "source": [
    "# Slicing (with Filtering)\n",
    "s = pd.Series([1, 2, 3], index=['A', 'B', 'C'], dtype=int)\n",
    "conditional = lambda x: x >= 2\n",
    "s[conditional(s)]"
   ]
  },
  {
   "cell_type": "code",
   "execution_count": null,
   "id": "a68b5feb",
   "metadata": {},
   "outputs": [
    {
     "name": "stdout",
     "output_type": "stream",
     "text": [
      "A: 1\n",
      "B: 2\n",
      "C: 3\n"
     ]
    }
   ],
   "source": [
    "# Direct access to index(es) and value(es)\n",
    "s = pd.Series([1, 2, 3], index=['A', 'B', 'C'], dtype=int)\n",
    "for idx, value in zip(s.index, s.values):\n",
    "    print(f\"{idx}: {value}\")"
   ]
  },
  {
   "cell_type": "markdown",
   "id": "f996e4cd",
   "metadata": {},
   "source": [
    "### Operations <a class=\"anchor\" id=\"operations\"></a>"
   ]
  },
  {
   "cell_type": "code",
   "execution_count": null,
   "id": "25a5f551",
   "metadata": {},
   "outputs": [
    {
     "data": {
      "text/plain": [
       "A    6\n",
       "B    6\n",
       "C    9\n",
       "dtype: int64"
      ]
     },
     "execution_count": 32,
     "metadata": {},
     "output_type": "execute_result"
    }
   ],
   "source": [
    "# Element-wise operations between two 'Series'\n",
    "#   Note: Operation applies to elements with equal indices\n",
    "s1 = pd.Series([1, 2, 3], index=['A', 'B', 'C'], dtype=int)\n",
    "s2 = pd.Series([4, 5, 6], index=['B', 'A', 'C'], dtype=int)\n",
    "s1 + s2"
   ]
  },
  {
   "cell_type": "markdown",
   "id": "5bc9169b",
   "metadata": {},
   "source": [
    "#### Custom Operations <a class=\"anchor\" id=\"custom-operations\"></a>"
   ]
  },
  {
   "cell_type": "code",
   "execution_count": null,
   "id": "66af5806",
   "metadata": {},
   "outputs": [
    {
     "data": {
      "text/plain": [
       "A    6\n",
       "B    6\n",
       "C    9\n",
       "dtype: int64"
      ]
     },
     "execution_count": 30,
     "metadata": {},
     "output_type": "execute_result"
    }
   ],
   "source": [
    "# Custom Element-wise operations between two 'Series'\n",
    "#   Note: Operation applies to elements with equal indices\n",
    "s1 = pd.Series([1, 2, 3], index=['A', 'B', 'C'], dtype=int)\n",
    "s2 = pd.Series([4, 5, 6], index=['B', 'A', 'C'], dtype=int)\n",
    "s1.combine(s2, lambda x, y: x + y)"
   ]
  },
  {
   "cell_type": "markdown",
   "id": "db38b3f7",
   "metadata": {},
   "source": [
    "### Transformations <a class=\"anchor\" id=\"transformations\"></a>"
   ]
  },
  {
   "cell_type": "code",
   "execution_count": 25,
   "id": "ec052804",
   "metadata": {},
   "outputs": [
    {
     "data": {
      "text/plain": [
       "A    6\n",
       "B    7\n",
       "C    8\n",
       "dtype: int64"
      ]
     },
     "execution_count": 25,
     "metadata": {},
     "output_type": "execute_result"
    }
   ],
   "source": [
    "# Mapping value(s)\n",
    "s = pd.Series([1, 2, 3], index=['A', 'B', 'C'], dtype=int)\n",
    "s.map(lambda x: x + 5)"
   ]
  },
  {
   "cell_type": "markdown",
   "id": "9a72d047",
   "metadata": {},
   "source": [
    "### Manipulations"
   ]
  },
  {
   "cell_type": "markdown",
   "id": "02fc29ef",
   "metadata": {},
   "source": [
    "#### Deleting"
   ]
  },
  {
   "cell_type": "code",
   "execution_count": 38,
   "id": "ac938581",
   "metadata": {},
   "outputs": [
    {
     "data": {
      "text/plain": [
       "B    2\n",
       "C    3\n",
       "dtype: int64"
      ]
     },
     "execution_count": 38,
     "metadata": {},
     "output_type": "execute_result"
    }
   ],
   "source": [
    "# Delete element(s) with specified indices, creates new series\n",
    "s = pd.Series([1, 2, 3], index=['A', 'B', 'C'], dtype=int)\n",
    "s.drop(['A'])"
   ]
  },
  {
   "cell_type": "code",
   "execution_count": 43,
   "id": "1498c35c",
   "metadata": {},
   "outputs": [
    {
     "data": {
      "text/plain": [
       "A    1\n",
       "dtype: int64"
      ]
     },
     "execution_count": 43,
     "metadata": {},
     "output_type": "execute_result"
    }
   ],
   "source": [
    "# Delete element(s) with specified sequential indices, creates new series\n",
    "s = pd.Series([1, 2, 3], index=['A', 'B', 'C'], dtype=int)\n",
    "s.drop(s.index[1:])"
   ]
  },
  {
   "cell_type": "markdown",
   "id": "dbbf7753",
   "metadata": {},
   "source": [
    "#### Appending"
   ]
  },
  {
   "cell_type": "code",
   "execution_count": null,
   "id": "fb80bd54",
   "metadata": {},
   "outputs": [
    {
     "data": {
      "text/plain": [
       "A    1\n",
       "B    2\n",
       "C    3\n",
       "D    4\n",
       "dtype: int64"
      ]
     },
     "execution_count": 44,
     "metadata": {},
     "output_type": "execute_result"
    }
   ],
   "source": [
    "# ? Append an element\n",
    "s = pd.Series([1, 2, 3], index=['A', 'B', 'C'], dtype=int)\n",
    "s['D'] = 4\n",
    "s"
   ]
  },
  {
   "cell_type": "code",
   "execution_count": null,
   "id": "ed882793",
   "metadata": {},
   "outputs": [
    {
     "data": {
      "text/plain": [
       "A    1\n",
       "B    2\n",
       "C    3\n",
       "D    4\n",
       "E    5\n",
       "F    6\n",
       "dtype: int64"
      ]
     },
     "execution_count": 46,
     "metadata": {},
     "output_type": "execute_result"
    }
   ],
   "source": [
    "# ? Append a series\n",
    "s1 = pd.Series([1, 2, 3], index=['A', 'B', 'C'], dtype=int)\n",
    "s2 = pd.Series([4, 5, 6], index=['D', 'E', 'F'], dtype=int)\n",
    "pd.concat([s1, s2])"
   ]
  }
 ],
 "metadata": {
  "kernelspec": {
   "display_name": "Python 3",
   "language": "python",
   "name": "python3"
  },
  "language_info": {
   "codemirror_mode": {
    "name": "ipython",
    "version": 3
   },
   "file_extension": ".py",
   "mimetype": "text/x-python",
   "name": "python",
   "nbconvert_exporter": "python",
   "pygments_lexer": "ipython3",
   "version": "3.12.0"
  }
 },
 "nbformat": 4,
 "nbformat_minor": 5
}
