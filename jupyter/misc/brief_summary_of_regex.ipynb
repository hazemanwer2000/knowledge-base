{
 "cells": [
  {
   "cell_type": "markdown",
   "id": "5fa9d8b1",
   "metadata": {},
   "source": [
    "# A brief summary of *RegEx*\n",
    "<br>\n",
    "<div style=\"opacity: 0.8; font-family: Consolas, Monaco, Lucida Console, Liberation Mono, DejaVu Sans Mono, Bitstream Vera Sans Mono, Courier New; font-size: 12px; font-style: italic;\">\n",
    "    \u2500\u2500\u2500\u2500\u2500\u2500\u2500\u2500\n",
    "    for more from the author, visit\n",
    "    <a href=\"https://github.com/hazemanwer2000\">github.com/hazemanwer2000</a>.\n",
    "    \u2500\u2500\u2500\u2500\u2500\u2500\u2500\u2500\n",
    "</div>"
   ]
  },
  {
   "cell_type": "markdown",
   "id": "33b24dcb",
   "metadata": {},
   "source": [
    "## Table of Contents\n",
    "  * [Special Characters](#special-characters)\n",
    "  * [Character Classes](#character-classes)\n",
    "  * [Number of Occurences](#number-of-occurences)\n",
    "  * [Groupings](#groupings)\n",
    "  * [*Starts with*, *Ends with*](#starts-with-ends-with)\n",
    "  * [Case sensitivity](#case-sensitivity)\n",
    "  * [Capture Groups](#capture-groups)\n",
    "  * [*Look ahead* and *behind*](#look-ahead-and-behind)\n"
   ]
  },
  {
   "cell_type": "markdown",
   "id": "8758c808",
   "metadata": {},
   "source": [
    "A *regular expression (RegEx)* is a sequence of characters that specifies a search pattern.\n",
    "\n",
    "A *RegEx engine* is an application, responsible for parsing and recognizing a *RegEx* in text.\n",
    "\n",
    "Every programming language has its own flavor of *RegEx* syntax and engine."
   ]
  },
  {
   "cell_type": "markdown",
   "id": "da118b8b",
   "metadata": {},
   "source": [
    "This document will rely on *Python*'s *RegEx* engine, to discuss *RegEx*."
   ]
  },
  {
   "cell_type": "code",
   "execution_count": 3,
   "id": "5ba14179",
   "metadata": {},
   "outputs": [],
   "source": [
    "import re"
   ]
  },
  {
   "cell_type": "markdown",
   "id": "d53fdde8",
   "metadata": {},
   "source": [
    "### Special Characters <a class=\"anchor\" id=\"special-characters\"></a>"
   ]
  },
  {
   "cell_type": "markdown",
   "id": "923b173b",
   "metadata": {},
   "source": [
    "A *special character* is a character that is associated with a special meaning in *RegEx* syntax."
   ]
  },
  {
   "cell_type": "markdown",
   "id": "c20df1f6",
   "metadata": {},
   "source": [
    "| Special Character | Description |\n",
    "| :---: | :--- |\n",
    "| `.` | Matches any character except newline.\n",
    "| `[]` | User-defined character class.\n",
    "| `\\` | Escape character.\n",
    "| \u3164 |\n",
    "| `^` | Asserts *starts with*.\n",
    "| `$` | Asserts *ends with*.\n",
    "| \u3164 |\n",
    "| `*` | Zero or more occurences of a character.\n",
    "| `+` | One or more occurences of a character.\n",
    "| `?` | Zero or one occurences of a character.\n",
    "| `{}` | Specified number of occurences of a character.\n",
    "| \u3164 |\n",
    "| `\\|` | Either, or.\n",
    "| `()` | Capture, and group."
   ]
  },
  {
   "cell_type": "markdown",
   "id": "3aa2bac8",
   "metadata": {},
   "source": [
    "*Note:* To match a special character, preceed it with an escape character, `\\`."
   ]
  },
  {
   "cell_type": "markdown",
   "id": "8953e65f",
   "metadata": {},
   "source": [
    "*Note:* In most programming languages, `\\n` denotes a newline, `\\t` a tab, and `\\r` a carriage-return."
   ]
  },
  {
   "cell_type": "markdown",
   "id": "6e4dc149",
   "metadata": {},
   "source": [
    "### Character Classes <a class=\"anchor\" id=\"character-classes\"></a>"
   ]
  },
  {
   "cell_type": "markdown",
   "id": "ea6b75f2",
   "metadata": {},
   "source": [
    "A character class defines a new character, as a range of acceptable characters that may be matched."
   ]
  },
  {
   "cell_type": "markdown",
   "id": "6ddf806e",
   "metadata": {},
   "source": [
    "| Character Class | Description |\n",
    "| :---: | :--- |\n",
    "| `[0-9]` | Any digit.\n",
    "| `[a-z]` | Any lowercase alphabetical character.\n",
    "| `[A-Z]` | Any uppercase alphabetical character.\n",
    "| \u3164 |\n",
    "| `[a-zA-Z0-9]` | Any alphanumeric character.\n",
    "| `[aAzZ1-3]` | Any `a` or `z`, case insensitive, or digit, in the `1-3` range.\n",
    "| `[_\\-]` | Any dash or underscore."
   ]
  },
  {
   "cell_type": "code",
   "execution_count": 107,
   "id": "51a4a963",
   "metadata": {},
   "outputs": [],
   "source": [
    "txt = r'a1 b0 c8 d5 ?4 \\5 ^1 6 (5'"
   ]
  },
  {
   "cell_type": "code",
   "execution_count": 108,
   "id": "600a6d10",
   "metadata": {
    "scrolled": true
   },
   "outputs": [
    {
     "data": {
      "text/plain": [
       "['a1', 'c8', '?4', '\\\\5', '^1', '(5']"
      ]
     },
     "execution_count": 108,
     "metadata": {},
     "output_type": "execute_result"
    }
   ],
   "source": [
    "regex = r'[a-c\\?\\\\\\^\\(][1-8]'\n",
    "\n",
    "re.findall(regex, txt)"
   ]
  },
  {
   "cell_type": "markdown",
   "id": "0b64571f",
   "metadata": {},
   "source": [
    "*Note:* Within a character class, only `^`, `?`, `\\` and `-` require escaping."
   ]
  },
  {
   "cell_type": "markdown",
   "id": "7e8d38c7",
   "metadata": {},
   "source": [
    "A character class that is the complement of another, is defined using `[^` and `]`."
   ]
  },
  {
   "cell_type": "code",
   "execution_count": 110,
   "id": "8d515a85",
   "metadata": {
    "scrolled": true
   },
   "outputs": [
    {
     "data": {
      "text/plain": [
       "['a1', 'c8', 'd5', '?4', '\\\\5', '^1', '(5']"
      ]
     },
     "execution_count": 110,
     "metadata": {},
     "output_type": "execute_result"
    }
   ],
   "source": [
    "regex = r'[^ ][1-9]'\n",
    "\n",
    "re.findall(regex, txt)"
   ]
  },
  {
   "cell_type": "markdown",
   "id": "f50d7b18",
   "metadata": {},
   "source": [
    "### Number of Occurences <a class=\"anchor\" id=\"number-of-occurences\"></a>"
   ]
  },
  {
   "cell_type": "markdown",
   "id": "33c3c48e",
   "metadata": {},
   "source": [
    "A character may be matched a specified number of times, sequentially."
   ]
  },
  {
   "cell_type": "markdown",
   "id": "2b6792f3",
   "metadata": {},
   "source": [
    "| Range | Description |\n",
    "| :---: | :--- |\n",
    "| `{5}` | Exactly five occurences.\n",
    "| `{5,}` | At least five occurences.\n",
    "| `{,5}` | At most five occurences.\n",
    "| `{1,5}` | One to five occurences."
   ]
  },
  {
   "cell_type": "code",
   "execution_count": 136,
   "id": "1e5cd582",
   "metadata": {},
   "outputs": [],
   "source": [
    "txt = r'aaaaabbbbcccd'"
   ]
  },
  {
   "cell_type": "code",
   "execution_count": 137,
   "id": "515ccf48",
   "metadata": {},
   "outputs": [
    {
     "data": {
      "text/plain": [
       "['aa', 'aa', 'a']"
      ]
     },
     "execution_count": 137,
     "metadata": {},
     "output_type": "execute_result"
    }
   ],
   "source": [
    "regex = r'a{1,2}'\n",
    "\n",
    "re.findall(regex, txt)"
   ]
  },
  {
   "cell_type": "markdown",
   "id": "2b1f6eff",
   "metadata": {},
   "source": [
    "By default, a *RegEx* engine is *greedy*. This means, it will attempt to match as many occurences as possible.\n",
    "\n",
    "To force it to be *lazy*, succeed any occurence specifier with `?`."
   ]
  },
  {
   "cell_type": "code",
   "execution_count": 138,
   "id": "55d8d0ec",
   "metadata": {},
   "outputs": [
    {
     "data": {
      "text/plain": [
       "['a', 'a', 'a', 'a', 'a']"
      ]
     },
     "execution_count": 138,
     "metadata": {},
     "output_type": "execute_result"
    }
   ],
   "source": [
    "regex = r'a{1,2}?'\n",
    "\n",
    "re.findall(regex, txt)"
   ]
  },
  {
   "cell_type": "markdown",
   "id": "2ca12411",
   "metadata": {},
   "source": [
    "### Groupings <a class=\"anchor\" id=\"groupings\"></a>"
   ]
  },
  {
   "cell_type": "markdown",
   "id": "5737b712",
   "metadata": {},
   "source": [
    "A number of characters may be grouped using `(?:` and `)`."
   ]
  },
  {
   "cell_type": "code",
   "execution_count": 139,
   "id": "e619f8bb",
   "metadata": {},
   "outputs": [],
   "source": [
    "txt = r'hellohellohello'"
   ]
  },
  {
   "cell_type": "code",
   "execution_count": 144,
   "id": "4603286e",
   "metadata": {},
   "outputs": [
    {
     "data": {
      "text/plain": [
       "['hellohello', 'hello']"
      ]
     },
     "execution_count": 144,
     "metadata": {},
     "output_type": "execute_result"
    }
   ],
   "source": [
    "regex = r'(?:hello){1,2}'\n",
    "\n",
    "re.findall(regex, txt)"
   ]
  },
  {
   "cell_type": "markdown",
   "id": "422a3493",
   "metadata": {},
   "source": [
    "The `|` operator may be used to implement *either, or* logic."
   ]
  },
  {
   "cell_type": "code",
   "execution_count": 4,
   "id": "c07d6d50",
   "metadata": {},
   "outputs": [],
   "source": [
    "txt = r'Sami, Tamer, Samir, Sameh, Samuel'"
   ]
  },
  {
   "cell_type": "code",
   "execution_count": 5,
   "id": "03aa1e2c",
   "metadata": {
    "scrolled": true
   },
   "outputs": [
    {
     "data": {
      "text/plain": [
       "['Sami', 'Samir', 'Samuel']"
      ]
     },
     "execution_count": 5,
     "metadata": {},
     "output_type": "execute_result"
    }
   ],
   "source": [
    "regex = r'Sam(?:(?:ir)|(?:i)|(?:uel))'\n",
    "\n",
    "re.findall(regex, txt)"
   ]
  },
  {
   "cell_type": "markdown",
   "id": "aef3bf12",
   "metadata": {},
   "source": [
    "### *Starts with*, *Ends with* <a class=\"anchor\" id=\"starts-with-ends-with\"></a>"
   ]
  },
  {
   "cell_type": "markdown",
   "id": "4f0acbd7",
   "metadata": {},
   "source": [
    "To specify that a pattern must exist at the beginning of a text, begin the pattern with `^`."
   ]
  },
  {
   "cell_type": "code",
   "execution_count": 165,
   "id": "e133ac53",
   "metadata": {},
   "outputs": [],
   "source": [
    "regex = r'^a boy'"
   ]
  },
  {
   "cell_type": "code",
   "execution_count": 166,
   "id": "52ba4d08",
   "metadata": {},
   "outputs": [
    {
     "data": {
      "text/plain": [
       "['a boy']"
      ]
     },
     "execution_count": 166,
     "metadata": {},
     "output_type": "execute_result"
    }
   ],
   "source": [
    "txt = r'a boy, he was'\n",
    "\n",
    "re.findall(regex, txt)"
   ]
  },
  {
   "cell_type": "code",
   "execution_count": 167,
   "id": "fa1e8f2d",
   "metadata": {
    "scrolled": true
   },
   "outputs": [
    {
     "data": {
      "text/plain": [
       "[]"
      ]
     },
     "execution_count": 167,
     "metadata": {},
     "output_type": "execute_result"
    }
   ],
   "source": [
    "txt = r'he was a boy'\n",
    "\n",
    "re.findall(regex, txt)"
   ]
  },
  {
   "cell_type": "markdown",
   "id": "0f1348d2",
   "metadata": {},
   "source": [
    "Similarly, end the pattern with `$` to assert that the text ends with the pattern specified."
   ]
  },
  {
   "cell_type": "code",
   "execution_count": 168,
   "id": "74dfb949",
   "metadata": {},
   "outputs": [],
   "source": [
    "regex = r'a boy$'"
   ]
  },
  {
   "cell_type": "code",
   "execution_count": 169,
   "id": "8d588be5",
   "metadata": {},
   "outputs": [
    {
     "data": {
      "text/plain": [
       "[]"
      ]
     },
     "execution_count": 169,
     "metadata": {},
     "output_type": "execute_result"
    }
   ],
   "source": [
    "txt = r'a boy, he was'\n",
    "\n",
    "re.findall(regex, txt)"
   ]
  },
  {
   "cell_type": "code",
   "execution_count": 170,
   "id": "2605c302",
   "metadata": {
    "scrolled": true
   },
   "outputs": [
    {
     "data": {
      "text/plain": [
       "['a boy']"
      ]
     },
     "execution_count": 170,
     "metadata": {},
     "output_type": "execute_result"
    }
   ],
   "source": [
    "txt = r'he was a boy'\n",
    "\n",
    "re.findall(regex, txt)"
   ]
  },
  {
   "cell_type": "markdown",
   "id": "904da890",
   "metadata": {},
   "source": [
    "### Case sensitivity <a class=\"anchor\" id=\"case-sensitivity\"></a>"
   ]
  },
  {
   "cell_type": "markdown",
   "id": "9c21a73c",
   "metadata": {},
   "source": [
    "By default, most *RegEx* engines match case-sensitively.\n",
    "\n",
    "To switch to case-insensitive mode, use `(?i)`."
   ]
  },
  {
   "cell_type": "code",
   "execution_count": 180,
   "id": "58602e42",
   "metadata": {},
   "outputs": [],
   "source": [
    "txt = r'aa aA Aa AA'"
   ]
  },
  {
   "cell_type": "code",
   "execution_count": 189,
   "id": "1876b736",
   "metadata": {},
   "outputs": [
    {
     "data": {
      "text/plain": [
       "['aa']"
      ]
     },
     "execution_count": 189,
     "metadata": {},
     "output_type": "execute_result"
    }
   ],
   "source": [
    "regex = r'aa'\n",
    "\n",
    "re.findall(regex, txt)"
   ]
  },
  {
   "cell_type": "code",
   "execution_count": 190,
   "id": "02ee1dee",
   "metadata": {},
   "outputs": [
    {
     "data": {
      "text/plain": [
       "['aa', 'aA', 'Aa', 'AA']"
      ]
     },
     "execution_count": 190,
     "metadata": {},
     "output_type": "execute_result"
    }
   ],
   "source": [
    "regex = r'(?i)aa'\n",
    "\n",
    "re.findall(regex, txt)"
   ]
  },
  {
   "cell_type": "markdown",
   "id": "80071526",
   "metadata": {},
   "source": [
    "*Note:* *RegEx* engines search for patterns, *left-to-right*. Hence, `(?i)` switches to case-insensitive mode for every alphabetical character forwardly, and `(?-i)` switches it off forwardly as well."
   ]
  },
  {
   "cell_type": "markdown",
   "id": "f225fcfc",
   "metadata": {},
   "source": [
    "*Note:* The *RegEx* engine in *Python* disallows mode specifiers not at the beginning of a pattern."
   ]
  },
  {
   "cell_type": "markdown",
   "id": "deb12ea2",
   "metadata": {},
   "source": [
    "### Capture Groups <a class=\"anchor\" id=\"capture-groups\"></a>"
   ]
  },
  {
   "cell_type": "markdown",
   "id": "bc4b3c78",
   "metadata": {},
   "source": [
    "A *capture group* is a special group, that captures a specific part of a pattern.\n",
    "\n",
    "It uses `(` and `)`, instead."
   ]
  },
  {
   "cell_type": "code",
   "execution_count": 203,
   "id": "943ecb2b",
   "metadata": {},
   "outputs": [],
   "source": [
    "txt = r'hi@cc.com hello@rt.net bye@us.org'"
   ]
  },
  {
   "cell_type": "code",
   "execution_count": 204,
   "id": "40d8a40a",
   "metadata": {},
   "outputs": [
    {
     "data": {
      "text/plain": [
       "[('hi', 'cc.com'), ('hello', 'rt.net'), ('bye', 'us.org')]"
      ]
     },
     "execution_count": 204,
     "metadata": {},
     "output_type": "execute_result"
    }
   ],
   "source": [
    "r_pre_at = r'[a-z0-9_\\-.]+'\n",
    "r_post_at = r'[a-z]+\\.[a-z]+'\n",
    "\n",
    "regex = r'(?i)(' + r_pre_at + r')@(' + r_post_at + r')'\n",
    "\n",
    "re.findall(regex, txt)"
   ]
  },
  {
   "cell_type": "markdown",
   "id": "e204703f",
   "metadata": {},
   "source": [
    "### *Look ahead* and *behind* <a class=\"anchor\" id=\"look-ahead-and-behind\"></a>"
   ]
  },
  {
   "cell_type": "markdown",
   "id": "ac5c529f",
   "metadata": {},
   "source": [
    "A *look ahead* asserts the existence (or, lack thereof) of a specific pattern, after the actual pattern to match.\n",
    "\n",
    "Similarly, a *look behind* makes a similar assertion, before the actual pattern to match."
   ]
  },
  {
   "cell_type": "markdown",
   "id": "fc991c6f",
   "metadata": {},
   "source": [
    "*Note:* The patterns asserted by *look ahead* and *look behind* are not captured, and consume zero length of the search string."
   ]
  },
  {
   "cell_type": "code",
   "execution_count": 44,
   "id": "4d226914",
   "metadata": {},
   "outputs": [],
   "source": [
    "txt = 'xAAxAAxAAx'"
   ]
  },
  {
   "cell_type": "code",
   "execution_count": 48,
   "id": "3cdb9682",
   "metadata": {},
   "outputs": [
    {
     "data": {
      "text/plain": [
       "['AA', 'AA']"
      ]
     },
     "execution_count": 48,
     "metadata": {},
     "output_type": "execute_result"
    }
   ],
   "source": [
    "regex = r'x(AA)x'\n",
    "\n",
    "re.findall(regex, txt)"
   ]
  },
  {
   "cell_type": "code",
   "execution_count": 47,
   "id": "2db34bc1",
   "metadata": {},
   "outputs": [
    {
     "data": {
      "text/plain": [
       "['AA', 'AA', 'AA']"
      ]
     },
     "execution_count": 47,
     "metadata": {},
     "output_type": "execute_result"
    }
   ],
   "source": [
    "regex = r'(?<=x)AA(?=x)'        # positive look-ahead, look-behind\n",
    "\n",
    "re.findall(regex, txt)"
   ]
  },
  {
   "cell_type": "code",
   "execution_count": 49,
   "id": "f23421b5",
   "metadata": {},
   "outputs": [],
   "source": [
    "txt = 'wAAxAAyAAz'"
   ]
  },
  {
   "cell_type": "code",
   "execution_count": 51,
   "id": "aba46f05",
   "metadata": {},
   "outputs": [
    {
     "data": {
      "text/plain": [
       "['AA']"
      ]
     },
     "execution_count": 51,
     "metadata": {},
     "output_type": "execute_result"
    }
   ],
   "source": [
    "regex = r'(?<!x)AA(?!x)'        # negative look-ahead, look-behind\n",
    "                                \n",
    "re.findall(regex, txt)          # only 'yAAz' matched */"
   ]
  }
 ],
 "metadata": {
  "kernelspec": {
   "display_name": "Python 3 (ipykernel)",
   "language": "python",
   "name": "python3"
  },
  "language_info": {
   "codemirror_mode": {
    "name": "ipython",
    "version": 3
   },
   "file_extension": ".py",
   "mimetype": "text/x-python",
   "name": "python",
   "nbconvert_exporter": "python",
   "pygments_lexer": "ipython3",
   "version": "3.8.10"
  }
 },
 "nbformat": 4,
 "nbformat_minor": 5
}