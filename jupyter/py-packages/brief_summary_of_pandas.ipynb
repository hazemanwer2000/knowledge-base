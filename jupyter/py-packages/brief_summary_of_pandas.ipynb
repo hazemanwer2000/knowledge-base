{
 "cells": [
  {
   "cell_type": "markdown",
   "id": "d582f54b",
   "metadata": {},
   "source": [
    "# A brief summary of Pandas\n",
    "<br>\n",
    "<div style=\"opacity: 0.8; font-family: Consolas, Monaco, Lucida Console, Liberation Mono, DejaVu Sans Mono, Bitstream Vera Sans Mono, Courier New; font-size: 12px; font-style: italic;\">\n",
    "    ────────\n",
    "    for more from the author, visit\n",
    "    <a href=\"https://github.com/hazemanwer2000\">github.com/hazemanwer2000</a>.\n",
    "    ────────\n",
    "</div>"
   ]
  },
  {
   "cell_type": "markdown",
   "id": "31bf0648",
   "metadata": {},
   "source": [
    "## Table of Contents"
   ]
  },
  {
   "cell_type": "markdown",
   "id": "4ec0dae3",
   "metadata": {},
   "source": [
    "Pandas is a python package that allows for easy handling and manipulation of tables."
   ]
  },
  {
   "cell_type": "code",
   "execution_count": 2,
   "id": "94c7cd22",
   "metadata": {},
   "outputs": [],
   "source": [
    "import pandas as pd"
   ]
  },
  {
   "cell_type": "markdown",
   "id": "ad03aaa3",
   "metadata": {},
   "source": [
    "## `Series`"
   ]
  },
  {
   "cell_type": "markdown",
   "id": "5cc60562",
   "metadata": {},
   "source": [
    "A `Series` is a 1-Dimensional indexed array."
   ]
  },
  {
   "cell_type": "code",
   "execution_count": null,
   "id": "60aa5037",
   "metadata": {},
   "outputs": [
    {
     "data": {
      "text/plain": [
       "0    1\n",
       "1    2\n",
       "2    3\n",
       "dtype: int64"
      ]
     },
     "execution_count": 6,
     "metadata": {},
     "output_type": "execute_result"
    }
   ],
   "source": [
    "# From list, using default indexing\n",
    "pd.Series([1, 2, 3], dtype=int)"
   ]
  },
  {
   "cell_type": "code",
   "execution_count": null,
   "id": "6766374b",
   "metadata": {},
   "outputs": [
    {
     "data": {
      "text/plain": [
       "A    1\n",
       "B    2\n",
       "C    3\n",
       "dtype: int64"
      ]
     },
     "execution_count": 7,
     "metadata": {},
     "output_type": "execute_result"
    }
   ],
   "source": [
    "# From list, using custom indexing\n",
    "pd.Series([1, 2, 3], index=['A', 'B', 'C'], dtype=int)"
   ]
  },
  {
   "cell_type": "code",
   "execution_count": 9,
   "id": "4be5880b",
   "metadata": {},
   "outputs": [
    {
     "data": {
      "text/plain": [
       "X    1\n",
       "Y    2\n",
       "Z    3\n",
       "dtype: int64"
      ]
     },
     "execution_count": 9,
     "metadata": {},
     "output_type": "execute_result"
    }
   ],
   "source": [
    "# From dictionary\n",
    "pd.Series({'X' : 1, 'Y' : 2, 'Z' : 3}, dtype=int)"
   ]
  },
  {
   "cell_type": "markdown",
   "id": "84072402",
   "metadata": {},
   "source": [
    "### Indexing"
   ]
  },
  {
   "cell_type": "code",
   "execution_count": null,
   "id": "ca223230",
   "metadata": {},
   "outputs": [
    {
     "data": {
      "text/plain": [
       "np.int64(2)"
      ]
     },
     "execution_count": 12,
     "metadata": {},
     "output_type": "execute_result"
    }
   ],
   "source": [
    "# Access Element\n",
    "s = pd.Series([1, 2, 3], index=['A', 'B', 'C'], dtype=int)\n",
    "s['B']"
   ]
  },
  {
   "cell_type": "code",
   "execution_count": null,
   "id": "d5d31ce1",
   "metadata": {},
   "outputs": [
    {
     "data": {
      "text/plain": [
       "B    2\n",
       "C    3\n",
       "dtype: int64"
      ]
     },
     "execution_count": 13,
     "metadata": {},
     "output_type": "execute_result"
    }
   ],
   "source": [
    "# Slicing\n",
    "s = pd.Series([1, 2, 3], index=['A', 'B', 'C'], dtype=int)\n",
    "s[1:]"
   ]
  },
  {
   "cell_type": "code",
   "execution_count": 14,
   "id": "fbd80ce5",
   "metadata": {},
   "outputs": [
    {
     "data": {
      "text/plain": [
       "A    1\n",
       "C    3\n",
       "dtype: int64"
      ]
     },
     "execution_count": 14,
     "metadata": {},
     "output_type": "execute_result"
    }
   ],
   "source": [
    "# Slicing (with Selection)\n",
    "s = pd.Series([1, 2, 3], index=['A', 'B', 'C'], dtype=int)\n",
    "s[['A', 'C']]"
   ]
  }
 ],
 "metadata": {
  "kernelspec": {
   "display_name": "Python 3",
   "language": "python",
   "name": "python3"
  },
  "language_info": {
   "codemirror_mode": {
    "name": "ipython",
    "version": 3
   },
   "file_extension": ".py",
   "mimetype": "text/x-python",
   "name": "python",
   "nbconvert_exporter": "python",
   "pygments_lexer": "ipython3",
   "version": "3.12.0"
  }
 },
 "nbformat": 4,
 "nbformat_minor": 5
}
