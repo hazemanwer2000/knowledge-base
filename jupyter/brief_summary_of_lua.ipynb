{
 "cells": [
  {
   "cell_type": "markdown",
   "id": "d582f54b",
   "metadata": {},
   "source": [
    "# A brief summary of Lua (5.X)\n",
    "<br>\n",
    "<div style=\"opacity: 0.8; font-family: Consolas, Monaco, Lucida Console, Liberation Mono, DejaVu Sans Mono, Bitstream Vera Sans Mono, Courier New; font-size: 12px; font-style: italic;\">\n",
    "    ────────\n",
    "    for more from the author, visit\n",
    "    <a href=\"https://github.com/hazemanwer2000\">github.com/hazemanwer2000</a>.\n",
    "    ────────\n",
    "</div>"
   ]
  },
  {
   "cell_type": "markdown",
   "id": "31bf0648",
   "metadata": {},
   "source": [
    "## Table of Contents\n",
    "* [Built-in Types](#built-in-types)\n",
    "  * [More on `table`](#more-on-table)\n",
    "* [Conditional Execution](#conditional-execution)\n",
    "* [Operators](#operators)\n",
    "  * [Precedence](#precedence)\n",
    "  * [Logical Operators](#logical-operators)\n",
    "  * [Mathematical Operators](#mathematical-operators)\n",
    "  * [Relational Operators](#relational-operators)\n",
    "  * [Bitwise Operators](#bitwise-operators)\n",
    "  * [Concatenation Operator](#concatenation-operator)\n",
    "  * [Length Operator](#length-operator)\n",
    "* [Variables](#variables)\n",
    "* [Functions](#functions)\n"
   ]
  },
  {
   "cell_type": "markdown",
   "id": "ad3dc7a3",
   "metadata": {},
   "source": [
    "Lua is a dynamically-typed language.\n"
   ]
  },
  {
   "cell_type": "markdown",
   "id": "be540c9e",
   "metadata": {},
   "source": [
    "## Built-in Types <a class=\"anchor\" id=\"built-in-types\"></a>"
   ]
  },
  {
   "cell_type": "markdown",
   "id": "e3746fac",
   "metadata": {},
   "source": [
    " | *Type* | *Description* |\n",
    "| --- | --- |\n",
    "| `boolean` | `true` and `false`. |\n",
    "| `nil` | Similar to `None` in Python. |\n",
    "| `number` | E.g., `10.4`, `3`. |\n",
    "| `string` | E.g., `\"Hello, world.\"`. |\n",
    "| `function` | E.g., `print` and `type` are `function`(s). |\n",
    "| `table` | An associative array. |"
   ]
  },
  {
   "cell_type": "markdown",
   "id": "16c5b741",
   "metadata": {},
   "source": [
    "*Note:* Unlike in Python, `number` is limited by its representation, which is either a double-precision floating-point value, or a 64-bit integer value."
   ]
  },
  {
   "cell_type": "markdown",
   "id": "aac3425c",
   "metadata": {},
   "source": [
    "### More on `table` <a class=\"anchor\" id=\"more-on-table\"></a>"
   ]
  },
  {
   "cell_type": "markdown",
   "id": "d3623d87",
   "metadata": {},
   "source": [
    "A `table` is an associative array that accepts `string` and `number` as key(s)."
   ]
  },
  {
   "cell_type": "code",
   "execution_count": 22,
   "id": "8a258a9c",
   "metadata": {},
   "outputs": [
    {
     "name": "stdout",
     "output_type": "stream",
     "text": [
      "1\n",
      "2\n",
      "3\n"
     ]
    }
   ],
   "source": [
    "arr = {}\n",
    "\n",
    "arr[0] = 1\n",
    "print(arr[0])\n",
    "\n",
    "arr[0.1] = 2\n",
    "print(arr[0.1])\n",
    "\n",
    "arr[\"H\"] = 3\n",
    "print(arr[\"H\"])"
   ]
  },
  {
   "cell_type": "markdown",
   "id": "4d950505",
   "metadata": {},
   "source": [
    "Previously undefined key(s) will resolve to `nil` as value."
   ]
  },
  {
   "cell_type": "code",
   "execution_count": 25,
   "id": "cb17e79b",
   "metadata": {},
   "outputs": [
    {
     "name": "stdout",
     "output_type": "stream",
     "text": [
      "nil\n"
     ]
    }
   ],
   "source": [
    "arr = {}\n",
    "\n",
    "print(arr[1])"
   ]
  },
  {
   "cell_type": "markdown",
   "id": "bac0cb0a",
   "metadata": {},
   "source": [
    "The following syntax is also available for accessing a `table`."
   ]
  },
  {
   "cell_type": "code",
   "execution_count": 29,
   "id": "33f3cf51",
   "metadata": {},
   "outputs": [
    {
     "name": "stdout",
     "output_type": "stream",
     "text": [
      "5\n"
     ]
    }
   ],
   "source": [
    "arr = {}\n",
    "arr.mykey = 5\n",
    "\n",
    "print(arr.mykey)"
   ]
  },
  {
   "cell_type": "markdown",
   "id": "b300cb5a",
   "metadata": {},
   "source": [
    "`table`(s) accept the following constructor(s)."
   ]
  },
  {
   "cell_type": "code",
   "execution_count": 39,
   "id": "e9fe62fb",
   "metadata": {},
   "outputs": [
    {
     "name": "stdout",
     "output_type": "stream",
     "text": [
      "3\n",
      "3\n"
     ]
    }
   ],
   "source": [
    "a = {x = 3, y = 2}\n",
    "print(a.x)\n",
    "print(a[\"x\"])"
   ]
  },
  {
   "cell_type": "code",
   "execution_count": 41,
   "id": "a534d913",
   "metadata": {},
   "outputs": [
    {
     "name": "stdout",
     "output_type": "stream",
     "text": [
      "2\n"
     ]
    }
   ],
   "source": [
    "a = {[\"10\"] = 3, [\"20\"] = 2}\n",
    "print(a[\"20\"])"
   ]
  },
  {
   "cell_type": "code",
   "execution_count": 49,
   "id": "5ffdd2f5",
   "metadata": {},
   "outputs": [
    {
     "name": "stdout",
     "output_type": "stream",
     "text": [
      "20\n"
     ]
    }
   ],
   "source": [
    "--Note that the start index is '1', not '0'.\n",
    "a = {10, 20, 30}\n",
    "print(a[2])"
   ]
  },
  {
   "cell_type": "markdown",
   "id": "f156ea4b",
   "metadata": {},
   "source": [
    "## Conditional Execution <a class=\"anchor\" id=\"conditional-execution\"></a>"
   ]
  },
  {
   "cell_type": "markdown",
   "id": "2e7f7608",
   "metadata": {},
   "source": [
    "In conditional statements, only `nil` and `false` are considered as false-value(s)."
   ]
  },
  {
   "cell_type": "markdown",
   "id": "bc1e0e94",
   "metadata": {},
   "source": [
    "The syntax for an `if` statement is as follows."
   ]
  },
  {
   "cell_type": "code",
   "execution_count": 65,
   "id": "832d1e25",
   "metadata": {},
   "outputs": [
    {
     "name": "stdout",
     "output_type": "stream",
     "text": []
    }
   ],
   "source": [
    "if x then\n",
    "    --(...)\n",
    "elseif y then\n",
    "    --(...)\n",
    "else\n",
    "    --(...)\n",
    "end"
   ]
  },
  {
   "cell_type": "markdown",
   "id": "b1f5e0c7",
   "metadata": {},
   "source": [
    "The syntax for a `while` statement is as follows."
   ]
  },
  {
   "cell_type": "code",
   "execution_count": 72,
   "id": "244a2f9b",
   "metadata": {},
   "outputs": [
    {
     "name": "stdout",
     "output_type": "stream",
     "text": [
      "Inside.\n"
     ]
    }
   ],
   "source": [
    "x = true\n",
    "while x do\n",
    "    x = false\n",
    "    print(\"Inside.\")\n",
    "end"
   ]
  },
  {
   "cell_type": "markdown",
   "id": "869a53eb",
   "metadata": {},
   "source": [
    "The syntax for a `repeat`-`until` statement (which functions similarly to a `do`-`while` in C language) is as follows."
   ]
  },
  {
   "cell_type": "code",
   "execution_count": 69,
   "id": "43eacd6f",
   "metadata": {},
   "outputs": [
    {
     "name": "stdout",
     "output_type": "stream",
     "text": [
      "3\n",
      "2\n",
      "1\n"
     ]
    }
   ],
   "source": [
    "x = 3\n",
    "repeat\n",
    "    print(x)\n",
    "    x = x - 1\n",
    "until x == 0"
   ]
  },
  {
   "cell_type": "markdown",
   "id": "5154fcde",
   "metadata": {},
   "source": [
    "The syntax for a *numeric* `for` statement is as follows."
   ]
  },
  {
   "cell_type": "code",
   "execution_count": 82,
   "id": "04eb91ca",
   "metadata": {},
   "outputs": [
    {
     "name": "stdout",
     "output_type": "stream",
     "text": [
      "1\n",
      "3\n",
      "5\n"
     ]
    }
   ],
   "source": [
    "step = 2\n",
    "for x = 1, 5, step do\n",
    "    print(x)\n",
    "end"
   ]
  },
  {
   "cell_type": "code",
   "execution_count": 83,
   "id": "5045fc61",
   "metadata": {},
   "outputs": [
    {
     "name": "stdout",
     "output_type": "stream",
     "text": [
      "1\n",
      "2\n",
      "3\n",
      "4\n",
      "5\n"
     ]
    }
   ],
   "source": [
    "--'step' implicitly defined as '1'.\n",
    "for x = 1, 5 do\n",
    "    print(x)\n",
    "end"
   ]
  },
  {
   "cell_type": "markdown",
   "id": "37cfd51a",
   "metadata": {},
   "source": [
    "*Note:* You may use a `break` statement in any `while`, `repeat`-`until`, or `for` statement, to exit the current scope."
   ]
  },
  {
   "cell_type": "markdown",
   "id": "8c2cdccb",
   "metadata": {},
   "source": [
    "## Operators <a class=\"anchor\" id=\"operators\"></a>"
   ]
  },
  {
   "cell_type": "markdown",
   "id": "70d7bcdb",
   "metadata": {},
   "source": [
    "### Precedence <a class=\"anchor\" id=\"precedence\"></a>"
   ]
  },
  {
   "cell_type": "markdown",
   "id": "6b3462bf",
   "metadata": {},
   "source": [
    "| *Operator* | *Precedence* |\n",
    "| :-- | --- |\n",
    "| `^` | ↑ |\n",
    "| `-` `#` `~` `not` | |\n",
    "| `*` `/` `//` `%` | |\n",
    "| `+` `-` | |\n",
    "| `..` | |\n",
    "| `<<` `>>` | |}\n",
    "| `&` | |\n",
    "| `~` | |\n",
    "| `\\|` | |\n",
    "| `<` `>` `<=` `>=` `~=` `==` | |\n",
    "| `and` | |\n",
    "| `or` | ↓ |"
   ]
  },
  {
   "cell_type": "markdown",
   "id": "78ee811c",
   "metadata": {},
   "source": [
    "*Note*: All binary operator(s) are left-associative, except for `^` and `..`."
   ]
  },
  {
   "cell_type": "markdown",
   "id": "70db3713",
   "metadata": {},
   "source": [
    "### Logical Operators <a class=\"anchor\" id=\"logical-operators\"></a>"
   ]
  },
  {
   "cell_type": "markdown",
   "id": "e06ba46c",
   "metadata": {},
   "source": [
    "`and` evaluates to the first operand, if the first operand is a false-value. Otherwise, it evaluates to the second operand."
   ]
  },
  {
   "cell_type": "code",
   "execution_count": 10,
   "id": "a7a7dd7e",
   "metadata": {},
   "outputs": [
    {
     "name": "stdout",
     "output_type": "stream",
     "text": [
      "nil\n"
     ]
    }
   ],
   "source": [
    "print(nil and \"Hey.\")"
   ]
  },
  {
   "cell_type": "markdown",
   "id": "230b11d7",
   "metadata": {},
   "source": [
    "`or` evaluates to the first operand, if the first operand is a true-value. Otherwise, it evaluates to the second operand."
   ]
  },
  {
   "cell_type": "code",
   "execution_count": 12,
   "id": "9b7944ca",
   "metadata": {},
   "outputs": [
    {
     "name": "stdout",
     "output_type": "stream",
     "text": [
      "Hey.\n"
     ]
    }
   ],
   "source": [
    "print(nil or \"Hey.\")"
   ]
  },
  {
   "cell_type": "markdown",
   "id": "e059f954",
   "metadata": {},
   "source": [
    "*Note:* Both `and` and `or` apply short-circuit evaluation."
   ]
  },
  {
   "cell_type": "markdown",
   "id": "6da66efc",
   "metadata": {},
   "source": [
    "`not` evaluates to a `true` if its operand was a false-value, and vice-versa."
   ]
  },
  {
   "cell_type": "code",
   "execution_count": 15,
   "id": "63e68c7b",
   "metadata": {},
   "outputs": [
    {
     "name": "stdout",
     "output_type": "stream",
     "text": [
      "false\n"
     ]
    }
   ],
   "source": [
    "print(not \"Hey.\")"
   ]
  },
  {
   "cell_type": "markdown",
   "id": "05d13161",
   "metadata": {},
   "source": [
    "### Mathematical Operators <a class=\"anchor\" id=\"mathematical-operators\"></a>"
   ]
  },
  {
   "cell_type": "markdown",
   "id": "3b2e4a05",
   "metadata": {},
   "source": [
    "The following binary mathematical operators are supported: `+`, `-`, `*`, `\\`, `\\\\`, `%`, `^`, `<<` and `>>`.\n",
    "\n",
    "The following unary mathematical operators are supported: `-`."
   ]
  },
  {
   "cell_type": "markdown",
   "id": "ebcc5048",
   "metadata": {},
   "source": [
    "### Relational Operators <a class=\"anchor\" id=\"relational-operators\"></a>"
   ]
  },
  {
   "cell_type": "markdown",
   "id": "9f63bcd0",
   "metadata": {},
   "source": [
    "The following relational operators are supported: `<`, `>`, `<=`, `>=`, `==`, and `~=`.\n",
    "\n",
    "Relational operators always evaluate to a `boolean`."
   ]
  },
  {
   "cell_type": "markdown",
   "id": "20019b20",
   "metadata": {},
   "source": [
    "### Bitwise Operators <a class=\"anchor\" id=\"bitwise-operators\"></a>"
   ]
  },
  {
   "cell_type": "markdown",
   "id": "efc44e77",
   "metadata": {},
   "source": [
    "The following binary bitwise operators are supported: `|`, `&` and `~`.\n",
    "\n",
    "The following unary bitwise operators are supported: `~`."
   ]
  },
  {
   "cell_type": "markdown",
   "id": "bd93da48",
   "metadata": {},
   "source": [
    "### Concatenation Operator <a class=\"anchor\" id=\"concatenation-operator\"></a>"
   ]
  },
  {
   "cell_type": "markdown",
   "id": "d84ff5fb",
   "metadata": {},
   "source": [
    "The concatenation operator is used to concatenate two `string` value(s)."
   ]
  },
  {
   "cell_type": "code",
   "execution_count": 16,
   "id": "fb8b7f58",
   "metadata": {},
   "outputs": [
    {
     "name": "stdout",
     "output_type": "stream",
     "text": [
      "Hello, World.\n"
     ]
    }
   ],
   "source": [
    "print(\"Hello, \" .. \"World.\")"
   ]
  },
  {
   "cell_type": "markdown",
   "id": "9a470763",
   "metadata": {},
   "source": [
    "### Length Operator <a class=\"anchor\" id=\"length-operator\"></a>"
   ]
  },
  {
   "cell_type": "markdown",
   "id": "a698a064",
   "metadata": {},
   "source": [
    "The length operator is used to evaluate the length of a `string` or a `table`."
   ]
  },
  {
   "cell_type": "code",
   "execution_count": 44,
   "id": "16e696a3",
   "metadata": {},
   "outputs": [
    {
     "name": "stdout",
     "output_type": "stream",
     "text": [
      "3\n"
     ]
    }
   ],
   "source": [
    "arr = {\"A\", \"B\", \"C\"}\n",
    "print(#arr)"
   ]
  },
  {
   "cell_type": "code",
   "execution_count": 46,
   "id": "62d9b7ce",
   "metadata": {},
   "outputs": [
    {
     "name": "stdout",
     "output_type": "stream",
     "text": [
      "6\n"
     ]
    }
   ],
   "source": [
    "print(#\"Hello.\")"
   ]
  },
  {
   "cell_type": "markdown",
   "id": "e63e1abb",
   "metadata": {},
   "source": [
    "## Variables <a class=\"anchor\" id=\"variables\"></a>"
   ]
  },
  {
   "cell_type": "markdown",
   "id": "82dfce73",
   "metadata": {},
   "source": [
    "Any undefined variable resolves to `nil` when accessed."
   ]
  },
  {
   "cell_type": "code",
   "execution_count": 61,
   "id": "f2c8671a",
   "metadata": {},
   "outputs": [
    {
     "name": "stdout",
     "output_type": "stream",
     "text": [
      "nil\n"
     ]
    }
   ],
   "source": [
    "print(x)"
   ]
  },
  {
   "cell_type": "markdown",
   "id": "96209292",
   "metadata": {},
   "source": [
    "Variables are by-default global. To declare a local variable, the `local` keyword is used.\n",
    "\n",
    "Local variable(s) are limited to the scope of file, function, or body (e.g., `for`) they are declared in.\n",
    "\n",
    "It is also possible to define a body using the `do`-`end` keywords, with the sole purpose of limiting the scope of local variable(s)."
   ]
  },
  {
   "cell_type": "code",
   "execution_count": 60,
   "id": "66c7921a",
   "metadata": {},
   "outputs": [
    {
     "name": "stdout",
     "output_type": "stream",
     "text": [
      "5\t6\n",
      "nil\t6\n"
     ]
    }
   ],
   "source": [
    "do\n",
    "    local x\n",
    "    x = 5\n",
    "    y = 6\n",
    "    print(x, y)\n",
    "end\n",
    "\n",
    "print(x, y)"
   ]
  },
  {
   "cell_type": "markdown",
   "id": "b41353a8",
   "metadata": {},
   "source": [
    "## Functions <a class=\"anchor\" id=\"functions\"></a>"
   ]
  },
  {
   "cell_type": "markdown",
   "id": "ce4bf98f",
   "metadata": {},
   "source": [
    "Function(s) are defined as follows."
   ]
  },
  {
   "cell_type": "code",
   "execution_count": 50,
   "id": "3bfbd0df",
   "metadata": {},
   "outputs": [
    {
     "name": "stdout",
     "output_type": "stream",
     "text": [
      "2\n"
     ]
    }
   ],
   "source": [
    "function increment (x)\n",
    "    return x + 1\n",
    "end\n",
    "\n",
    "print(increment(1))"
   ]
  },
  {
   "cell_type": "code",
   "execution_count": 86,
   "id": "3ba3f111",
   "metadata": {},
   "outputs": [
    {
     "name": "stdout",
     "output_type": "stream",
     "text": [
      "3\n"
     ]
    }
   ],
   "source": [
    "add = function (x, y)\n",
    "    return x + y\n",
    "end\n",
    "\n",
    "print(add(1, 2)) "
   ]
  },
  {
   "cell_type": "markdown",
   "id": "d9891bdc",
   "metadata": {},
   "source": [
    "Function(s) can be called with a flexible number of arguments."
   ]
  },
  {
   "cell_type": "code",
   "execution_count": 54,
   "id": "a6112682",
   "metadata": {},
   "outputs": [
    {
     "name": "stdout",
     "output_type": "stream",
     "text": [
      "nil\tnil\n",
      "1\tnil\n",
      "1\t2\n",
      "1\t2\n"
     ]
    }
   ],
   "source": [
    "function get (x, y)\n",
    "    return x, y\n",
    "end\n",
    "\n",
    "--First and second argument(s) are 'nil'.\n",
    "print(get())\n",
    "\n",
    "--Second argument is 'nil'.\n",
    "print(get(1))\n",
    "\n",
    "print(get(1, 2))\n",
    "\n",
    "--Third argument is discarded.\n",
    "print(get(1, 2, 3))\n"
   ]
  },
  {
   "cell_type": "markdown",
   "id": "a272394d",
   "metadata": {},
   "source": [
    "The return value(s) of a function can act as a constructor for a `table`."
   ]
  },
  {
   "cell_type": "code",
   "execution_count": 56,
   "id": "2147f8f5",
   "metadata": {},
   "outputs": [
    {
     "name": "stdout",
     "output_type": "stream",
     "text": [
      "2\t4\t6\n"
     ]
    }
   ],
   "source": [
    "function get (x, y, z)\n",
    "    return (x + 1), (y + 2), (z + 3)\n",
    "end\n",
    "\n",
    "list = {get(1, 2, 3)}\n",
    "\n",
    "print(list[1], list[2], list[3])"
   ]
  },
  {
   "cell_type": "markdown",
   "id": "64d3b025",
   "metadata": {},
   "source": [
    "The return value(s) of a function can also act as an initialization list."
   ]
  },
  {
   "cell_type": "code",
   "execution_count": 57,
   "id": "0f41a878",
   "metadata": {},
   "outputs": [
    {
     "name": "stdout",
     "output_type": "stream",
     "text": [
      "2\t4\t6\n"
     ]
    }
   ],
   "source": [
    "function get (x, y, z)\n",
    "    return (x + 1), (y + 2), (z + 3)\n",
    "end\n",
    "\n",
    "a, b, c = get(1, 2, 3)\n",
    "\n",
    "print(a, b, c)"
   ]
  },
  {
   "cell_type": "markdown",
   "id": "1e23c50c",
   "metadata": {},
   "source": [
    "### Closures"
   ]
  },
  {
   "cell_type": "markdown",
   "id": "fba287c1",
   "metadata": {},
   "source": [
    "A closure is a function that encapsulates a non-local variable within its scope (similar to statically allocated variables within functions in C).\n",
    "\n",
    "A closure requires a factory (function) to create it."
   ]
  },
  {
   "cell_type": "code",
   "execution_count": null,
   "id": "057b490e",
   "metadata": {},
   "outputs": [
    {
     "name": "stdout",
     "output_type": "stream",
     "text": [
      "5\n",
      "6\n",
      "7\n"
     ]
    }
   ],
   "source": [
    "function counter (initial)\n",
    "    local i = initial\n",
    "    return function ()\n",
    "        local val = i\n",
    "        i = i + 1\n",
    "        return val\n",
    "    end\n",
    "end\n",
    "\n",
    "c = counter(5)\n",
    "\n",
    "print(c())\n",
    "print(c())\n",
    "print(c())"
   ]
  },
  {
   "cell_type": "markdown",
   "id": "e745db72",
   "metadata": {},
   "source": [
    "### Generic `for` Statement"
   ]
  },
  {
   "cell_type": "markdown",
   "id": "1b8153f2",
   "metadata": {},
   "source": [
    "A *generic* `for` statement is composed as follows:\n",
    "```\n",
    "for var-list in iterator-factory(...) do\n",
    "    body\n",
    "end\n",
    "```\n",
    "\n",
    "Note that,\n",
    "* The iterator factory must return,\n",
    "    * an iterator,\n",
    "    * an (invariant) value, and,\n",
    "    * an initialization list, which is used to initialize `var-list`.\n",
    "* The iterator, returned by the iterator factory,\n",
    "    * must accept,\n",
    "        * the invariant value, and,\n",
    "        * (current) `var-list`,\n",
    "    * must return,\n",
    "        * (updated) `var-list`.\n",
    "\n",
    "Before every iteration, the iterator is invoked."
   ]
  },
  {
   "cell_type": "code",
   "execution_count": 92,
   "id": "31ac69bd",
   "metadata": {},
   "outputs": [
    {
     "name": "stdout",
     "output_type": "stream",
     "text": [
      "1\n",
      "2\n",
      "3\n",
      "4\n",
      "5\n"
     ]
    }
   ],
   "source": [
    "function one_way (max)\n",
    "    function iterator (max, value)\n",
    "        value = value + 1\n",
    "        if (value > max) then\n",
    "            value = nil\n",
    "        end\n",
    "        return value\n",
    "    end\n",
    "    return iterator, max, 0\n",
    "end\n",
    "\n",
    "for x in one_way(5) do\n",
    "    print(x)\n",
    "end"
   ]
  }
 ],
 "metadata": {
  "kernelspec": {
   "display_name": "Lua",
   "language": "lua",
   "name": "kernel_lua"
  },
  "language_info": {
   "file_extension": ".lua",
   "mimetype": "text/plain",
   "name": "lua"
  }
 },
 "nbformat": 4,
 "nbformat_minor": 5
}
