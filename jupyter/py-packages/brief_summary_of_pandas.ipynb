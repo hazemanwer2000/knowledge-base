{
 "cells": [
  {
   "cell_type": "markdown",
   "id": "d582f54b",
   "metadata": {},
   "source": [
    "# A brief summary of Pandas\n",
    "<br>\n",
    "<div style=\"opacity: 0.8; font-family: Consolas, Monaco, Lucida Console, Liberation Mono, DejaVu Sans Mono, Bitstream Vera Sans Mono, Courier New; font-size: 12px; font-style: italic;\">\n",
    "    ────────\n",
    "    for more from the author, visit\n",
    "    <a href=\"https://github.com/hazemanwer2000\">github.com/hazemanwer2000</a>.\n",
    "    ────────\n",
    "</div>"
   ]
  },
  {
   "cell_type": "markdown",
   "id": "31bf0648",
   "metadata": {},
   "source": [
    "## Table of Contents\n",
    "* [`Series`](#series)\n",
    "  * [Indexing](#indexing)\n",
    "  * [Operations](#operations)\n",
    "    * [Custom Operations](#custom-operations)\n",
    "  * [Transformations](#transformations)\n",
    "  * [Manipulations](#manipulations)\n",
    "    * [Deleting](#deleting)\n",
    "    * [Appending](#appending)\n",
    "    * [Inserting](#inserting)\n",
    "* [`DataFrame`](#dataframe)\n",
    "  * [Indexing](#indexing)\n",
    "  * [Manipulations](#manipulations)\n",
    "    * [Deleting](#deleting)\n",
    "    * [Appending](#appending)\n",
    "    * [Inserting](#inserting)\n",
    "  * [Ordering](#ordering)\n",
    "  * [Merging](#merging)\n"
   ]
  },
  {
   "cell_type": "markdown",
   "id": "4ec0dae3",
   "metadata": {},
   "source": [
    "Pandas is a python package that allows for easy handling and manipulation of tables."
   ]
  },
  {
   "cell_type": "code",
   "execution_count": null,
   "id": "94c7cd22",
   "metadata": {},
   "outputs": [],
   "source": [
    "import pandas as pd"
   ]
  },
  {
   "cell_type": "markdown",
   "id": "ad03aaa3",
   "metadata": {},
   "source": [
    "## `Series` <a class=\"anchor\" id=\"series\"></a>"
   ]
  },
  {
   "cell_type": "markdown",
   "id": "5cc60562",
   "metadata": {},
   "source": [
    "A `Series` is a 1-Dimensional indexed array."
   ]
  },
  {
   "cell_type": "code",
   "execution_count": null,
   "id": "60aa5037",
   "metadata": {},
   "outputs": [
    {
     "data": {
      "text/plain": [
       "0    1\n",
       "1    2\n",
       "2    3\n",
       "dtype: int64"
      ]
     },
     "execution_count": 6,
     "metadata": {},
     "output_type": "execute_result"
    }
   ],
   "source": [
    "# From list, using default indexing\n",
    "pd.Series([1, 2, 3], dtype=int)"
   ]
  },
  {
   "cell_type": "code",
   "execution_count": null,
   "id": "6766374b",
   "metadata": {},
   "outputs": [
    {
     "data": {
      "text/plain": [
       "A    1\n",
       "B    2\n",
       "C    3\n",
       "dtype: int64"
      ]
     },
     "execution_count": 7,
     "metadata": {},
     "output_type": "execute_result"
    }
   ],
   "source": [
    "# From list, using custom indexing\n",
    "pd.Series([1, 2, 3], index=['A', 'B', 'C'], dtype=int)"
   ]
  },
  {
   "cell_type": "code",
   "execution_count": 9,
   "id": "4be5880b",
   "metadata": {},
   "outputs": [
    {
     "data": {
      "text/plain": [
       "X    1\n",
       "Y    2\n",
       "Z    3\n",
       "dtype: int64"
      ]
     },
     "execution_count": 9,
     "metadata": {},
     "output_type": "execute_result"
    }
   ],
   "source": [
    "# From dictionary\n",
    "pd.Series({'X' : 1, 'Y' : 2, 'Z' : 3}, dtype=int)"
   ]
  },
  {
   "cell_type": "markdown",
   "id": "84072402",
   "metadata": {},
   "source": [
    "### Indexing <a class=\"anchor\" id=\"indexing\"></a>"
   ]
  },
  {
   "cell_type": "code",
   "execution_count": 35,
   "id": "ca223230",
   "metadata": {},
   "outputs": [
    {
     "data": {
      "text/plain": [
       "np.int64(2)"
      ]
     },
     "execution_count": 35,
     "metadata": {},
     "output_type": "execute_result"
    }
   ],
   "source": [
    "# Access Element\n",
    "s = pd.Series([1, 2, 3], index=['A', 'B', 'C'], dtype=int)\n",
    "s.loc['B']"
   ]
  },
  {
   "cell_type": "code",
   "execution_count": 37,
   "id": "d5d31ce1",
   "metadata": {},
   "outputs": [
    {
     "data": {
      "text/plain": [
       "B    2\n",
       "C    3\n",
       "dtype: int64"
      ]
     },
     "execution_count": 37,
     "metadata": {},
     "output_type": "execute_result"
    }
   ],
   "source": [
    "# Slicing\n",
    "s = pd.Series([1, 2, 3], index=['A', 'B', 'C'], dtype=int)\n",
    "s.iloc[1:]"
   ]
  },
  {
   "cell_type": "code",
   "execution_count": null,
   "id": "fbd80ce5",
   "metadata": {},
   "outputs": [
    {
     "data": {
      "text/plain": [
       "A    1\n",
       "C    3\n",
       "dtype: int64"
      ]
     },
     "execution_count": 36,
     "metadata": {},
     "output_type": "execute_result"
    }
   ],
   "source": [
    "# Slicing (with Selection)\n",
    "s = pd.Series([1, 2, 3], index=['A', 'B', 'C'], dtype=int)\n",
    "s.loc[['A', 'C']]"
   ]
  },
  {
   "cell_type": "markdown",
   "id": "32818fd3",
   "metadata": {},
   "source": [
    "*Note:* `loc` is used for index-based (i.e., like a `dict`) access, while `iloc` is used for sequential-based (i.e., like a `list`) access."
   ]
  },
  {
   "cell_type": "code",
   "execution_count": null,
   "id": "a68b5feb",
   "metadata": {},
   "outputs": [
    {
     "name": "stdout",
     "output_type": "stream",
     "text": [
      "A: 1\n",
      "B: 2\n",
      "C: 3\n"
     ]
    }
   ],
   "source": [
    "# Direct access to index(es) and value(es)\n",
    "s = pd.Series([1, 2, 3], index=['A', 'B', 'C'], dtype=int)\n",
    "for idx, value in zip(s.index, s.values):\n",
    "    print(f\"{idx}: {value}\")"
   ]
  },
  {
   "cell_type": "markdown",
   "id": "f996e4cd",
   "metadata": {},
   "source": [
    "### Operations <a class=\"anchor\" id=\"operations\"></a>"
   ]
  },
  {
   "cell_type": "code",
   "execution_count": null,
   "id": "25a5f551",
   "metadata": {},
   "outputs": [
    {
     "data": {
      "text/plain": [
       "A    6\n",
       "B    6\n",
       "C    9\n",
       "dtype: int64"
      ]
     },
     "execution_count": 32,
     "metadata": {},
     "output_type": "execute_result"
    }
   ],
   "source": [
    "# Element-wise operations between two 'Series'\n",
    "#   Note: Operation applies to elements with equal indices\n",
    "s1 = pd.Series([1, 2, 3], index=['A', 'B', 'C'], dtype=int)\n",
    "s2 = pd.Series([4, 5, 6], index=['B', 'A', 'C'], dtype=int)\n",
    "s1 + s2"
   ]
  },
  {
   "cell_type": "markdown",
   "id": "5bc9169b",
   "metadata": {},
   "source": [
    "#### Custom Operations <a class=\"anchor\" id=\"custom-operations\"></a>"
   ]
  },
  {
   "cell_type": "code",
   "execution_count": null,
   "id": "66af5806",
   "metadata": {},
   "outputs": [
    {
     "data": {
      "text/plain": [
       "A    6\n",
       "B    6\n",
       "C    9\n",
       "dtype: int64"
      ]
     },
     "execution_count": 30,
     "metadata": {},
     "output_type": "execute_result"
    }
   ],
   "source": [
    "# Custom Element-wise operations between two 'Series'\n",
    "#   Note: Operation applies to elements with equal indices\n",
    "s1 = pd.Series([1, 2, 3], index=['A', 'B', 'C'], dtype=int)\n",
    "s2 = pd.Series([4, 5, 6], index=['B', 'A', 'C'], dtype=int)\n",
    "s1.combine(s2, lambda x, y: x + y)"
   ]
  },
  {
   "cell_type": "markdown",
   "id": "db38b3f7",
   "metadata": {},
   "source": [
    "### Transformations <a class=\"anchor\" id=\"transformations\"></a>"
   ]
  },
  {
   "cell_type": "code",
   "execution_count": 25,
   "id": "ec052804",
   "metadata": {},
   "outputs": [
    {
     "data": {
      "text/plain": [
       "A    6\n",
       "B    7\n",
       "C    8\n",
       "dtype: int64"
      ]
     },
     "execution_count": 25,
     "metadata": {},
     "output_type": "execute_result"
    }
   ],
   "source": [
    "# Mapping value(s)\n",
    "s = pd.Series([1, 2, 3], index=['A', 'B', 'C'], dtype=int)\n",
    "s.map(lambda x: x + 5)"
   ]
  },
  {
   "cell_type": "markdown",
   "id": "9a72d047",
   "metadata": {},
   "source": [
    "### Manipulations <a class=\"anchor\" id=\"manipulations\"></a>"
   ]
  },
  {
   "cell_type": "markdown",
   "id": "02fc29ef",
   "metadata": {},
   "source": [
    "#### Deleting <a class=\"anchor\" id=\"deleting\"></a>"
   ]
  },
  {
   "cell_type": "code",
   "execution_count": 38,
   "id": "ac938581",
   "metadata": {},
   "outputs": [
    {
     "data": {
      "text/plain": [
       "B    2\n",
       "C    3\n",
       "dtype: int64"
      ]
     },
     "execution_count": 38,
     "metadata": {},
     "output_type": "execute_result"
    }
   ],
   "source": [
    "# Delete element(s) with specified indices, creates new series\n",
    "s = pd.Series([1, 2, 3], index=['A', 'B', 'C'], dtype=int)\n",
    "s.drop(['A'])"
   ]
  },
  {
   "cell_type": "code",
   "execution_count": 43,
   "id": "1498c35c",
   "metadata": {},
   "outputs": [
    {
     "data": {
      "text/plain": [
       "A    1\n",
       "dtype: int64"
      ]
     },
     "execution_count": 43,
     "metadata": {},
     "output_type": "execute_result"
    }
   ],
   "source": [
    "# Delete element(s) with specified sequential indices, creates new series\n",
    "s = pd.Series([1, 2, 3], index=['A', 'B', 'C'], dtype=int)\n",
    "s.drop(s.index[1:])"
   ]
  },
  {
   "cell_type": "markdown",
   "id": "dbbf7753",
   "metadata": {},
   "source": [
    "#### Appending <a class=\"anchor\" id=\"appending\"></a>"
   ]
  },
  {
   "cell_type": "code",
   "execution_count": 66,
   "id": "fb80bd54",
   "metadata": {},
   "outputs": [
    {
     "data": {
      "text/plain": [
       "A    1\n",
       "B    2\n",
       "C    3\n",
       "D    4\n",
       "dtype: int64"
      ]
     },
     "execution_count": 66,
     "metadata": {},
     "output_type": "execute_result"
    }
   ],
   "source": [
    "# ? Append an element\n",
    "s = pd.Series([1, 2, 3], index=['A', 'B', 'C'], dtype=int)\n",
    "s.loc['D'] = 4\n",
    "s"
   ]
  },
  {
   "cell_type": "code",
   "execution_count": null,
   "id": "ed882793",
   "metadata": {},
   "outputs": [
    {
     "data": {
      "text/plain": [
       "A    1\n",
       "B    2\n",
       "C    3\n",
       "D    4\n",
       "E    5\n",
       "F    6\n",
       "dtype: int64"
      ]
     },
     "execution_count": 46,
     "metadata": {},
     "output_type": "execute_result"
    }
   ],
   "source": [
    "# ? Append a series\n",
    "s1 = pd.Series([1, 2, 3], index=['A', 'B', 'C'], dtype=int)\n",
    "s2 = pd.Series([4, 5, 6], index=['D', 'E', 'F'], dtype=int)\n",
    "pd.concat([s1, s2])"
   ]
  },
  {
   "cell_type": "markdown",
   "id": "7c0ae2bf",
   "metadata": {},
   "source": [
    "#### Inserting <a class=\"anchor\" id=\"inserting\"></a>"
   ]
  },
  {
   "cell_type": "code",
   "execution_count": 85,
   "id": "051357b3",
   "metadata": {},
   "outputs": [
    {
     "data": {
      "text/plain": [
       "A    1\n",
       "D    4\n",
       "E    5\n",
       "F    6\n",
       "B    2\n",
       "C    3\n",
       "dtype: int64"
      ]
     },
     "execution_count": 85,
     "metadata": {},
     "output_type": "execute_result"
    }
   ],
   "source": [
    "# Inserting is possible as a combination of slicing and concatenating\n",
    "s1 = pd.Series([1, 2, 3], index=['A', 'B', 'C'], dtype=int)\n",
    "s2 = pd.Series([4, 5, 6], index=['D', 'E', 'F'], dtype=int)\n",
    "pd.concat([s1.iloc[:1], s2, s1.iloc[1:]])"
   ]
  },
  {
   "cell_type": "markdown",
   "id": "76df34fd",
   "metadata": {},
   "source": [
    "## `DataFrame` <a class=\"anchor\" id=\"dataframe\"></a>"
   ]
  },
  {
   "cell_type": "markdown",
   "id": "886e4194",
   "metadata": {},
   "source": [
    "A `DataFrame` is a table."
   ]
  },
  {
   "cell_type": "code",
   "execution_count": null,
   "id": "9e617511",
   "metadata": {},
   "outputs": [
    {
     "data": {
      "text/html": [
       "<div>\n",
       "<style scoped>\n",
       "    .dataframe tbody tr th:only-of-type {\n",
       "        vertical-align: middle;\n",
       "    }\n",
       "\n",
       "    .dataframe tbody tr th {\n",
       "        vertical-align: top;\n",
       "    }\n",
       "\n",
       "    .dataframe thead th {\n",
       "        text-align: right;\n",
       "    }\n",
       "</style>\n",
       "<table border=\"1\" class=\"dataframe\">\n",
       "  <thead>\n",
       "    <tr style=\"text-align: right;\">\n",
       "      <th></th>\n",
       "      <th>name</th>\n",
       "      <th>age</th>\n",
       "    </tr>\n",
       "  </thead>\n",
       "  <tbody>\n",
       "    <tr>\n",
       "      <th>0</th>\n",
       "      <td>Alice</td>\n",
       "      <td>10</td>\n",
       "    </tr>\n",
       "    <tr>\n",
       "      <th>1</th>\n",
       "      <td>Bob</td>\n",
       "      <td>13</td>\n",
       "    </tr>\n",
       "  </tbody>\n",
       "</table>\n",
       "</div>"
      ],
      "text/plain": [
       "    name  age\n",
       "0  Alice   10\n",
       "1    Bob   13"
      ]
     },
     "execution_count": 47,
     "metadata": {},
     "output_type": "execute_result"
    }
   ],
   "source": [
    "# From a dictionary of lists\n",
    "pd.DataFrame({\n",
    "    'name' : ['Alice', 'Bob'],\n",
    "    'age'  : [10, 13],\n",
    "}, dtype=object)"
   ]
  },
  {
   "cell_type": "code",
   "execution_count": null,
   "id": "842963cf",
   "metadata": {},
   "outputs": [
    {
     "data": {
      "text/html": [
       "<div>\n",
       "<style scoped>\n",
       "    .dataframe tbody tr th:only-of-type {\n",
       "        vertical-align: middle;\n",
       "    }\n",
       "\n",
       "    .dataframe tbody tr th {\n",
       "        vertical-align: top;\n",
       "    }\n",
       "\n",
       "    .dataframe thead th {\n",
       "        text-align: right;\n",
       "    }\n",
       "</style>\n",
       "<table border=\"1\" class=\"dataframe\">\n",
       "  <thead>\n",
       "    <tr style=\"text-align: right;\">\n",
       "      <th></th>\n",
       "      <th>name</th>\n",
       "      <th>age</th>\n",
       "    </tr>\n",
       "  </thead>\n",
       "  <tbody>\n",
       "    <tr>\n",
       "      <th>0</th>\n",
       "      <td>Alice</td>\n",
       "      <td>10</td>\n",
       "    </tr>\n",
       "    <tr>\n",
       "      <th>1</th>\n",
       "      <td>Bob</td>\n",
       "      <td>13</td>\n",
       "    </tr>\n",
       "  </tbody>\n",
       "</table>\n",
       "</div>"
      ],
      "text/plain": [
       "    name  age\n",
       "0  Alice   10\n",
       "1    Bob   13"
      ]
     },
     "execution_count": 48,
     "metadata": {},
     "output_type": "execute_result"
    }
   ],
   "source": [
    "# From a list of dictionaries\n",
    "pd.DataFrame([\n",
    "    {'name' : 'Alice', 'age' : 10},\n",
    "    {'name' : 'Bob', 'age' : 13},\n",
    "], dtype=object)"
   ]
  },
  {
   "cell_type": "code",
   "execution_count": null,
   "id": "8de29cdc",
   "metadata": {},
   "outputs": [
    {
     "data": {
      "text/html": [
       "<div>\n",
       "<style scoped>\n",
       "    .dataframe tbody tr th:only-of-type {\n",
       "        vertical-align: middle;\n",
       "    }\n",
       "\n",
       "    .dataframe tbody tr th {\n",
       "        vertical-align: top;\n",
       "    }\n",
       "\n",
       "    .dataframe thead th {\n",
       "        text-align: right;\n",
       "    }\n",
       "</style>\n",
       "<table border=\"1\" class=\"dataframe\">\n",
       "  <thead>\n",
       "    <tr style=\"text-align: right;\">\n",
       "      <th></th>\n",
       "      <th>name</th>\n",
       "      <th>age</th>\n",
       "    </tr>\n",
       "  </thead>\n",
       "  <tbody>\n",
       "    <tr>\n",
       "      <th>0</th>\n",
       "      <td>Alice</td>\n",
       "      <td>10</td>\n",
       "    </tr>\n",
       "    <tr>\n",
       "      <th>1</th>\n",
       "      <td>Bob</td>\n",
       "      <td>13</td>\n",
       "    </tr>\n",
       "  </tbody>\n",
       "</table>\n",
       "</div>"
      ],
      "text/plain": [
       "    name  age\n",
       "0  Alice   10\n",
       "1    Bob   13"
      ]
     },
     "execution_count": 54,
     "metadata": {},
     "output_type": "execute_result"
    }
   ],
   "source": [
    "# From a list of lists, and column-names\n",
    "pd.DataFrame([\n",
    "    ['Alice', 10],\n",
    "    ['Bob', 13],\n",
    "], columns=['name', 'age'], dtype=object)"
   ]
  },
  {
   "cell_type": "code",
   "execution_count": null,
   "id": "3e6c1521",
   "metadata": {},
   "outputs": [
    {
     "data": {
      "text/plain": [
       "(3, 2)"
      ]
     },
     "execution_count": 56,
     "metadata": {},
     "output_type": "execute_result"
    }
   ],
   "source": [
    "# From a list of dictionaries\n",
    "df = pd.DataFrame([\n",
    "    {'name' : 'Alice', 'age' : 10},\n",
    "    {'name' : 'Bob', 'age' : 13},\n",
    "    {'name' : 'Simon', 'age' : 15},\n",
    "], dtype=object)\n",
    "df.shape"
   ]
  },
  {
   "cell_type": "markdown",
   "id": "f00b62b9",
   "metadata": {},
   "source": [
    "### Indexing <a class=\"anchor\" id=\"indexing\"></a>"
   ]
  },
  {
   "cell_type": "code",
   "execution_count": 61,
   "id": "fd83e6e5",
   "metadata": {},
   "outputs": [
    {
     "data": {
      "text/plain": [
       "0    Alice\n",
       "1      Bob\n",
       "2    Simon\n",
       "Name: name, dtype: object"
      ]
     },
     "execution_count": 61,
     "metadata": {},
     "output_type": "execute_result"
    }
   ],
   "source": [
    "# ? Access column, as 'Series'\n",
    "df = pd.DataFrame([\n",
    "    {'name' : 'Alice', 'age' : 10},\n",
    "    {'name' : 'Bob', 'age' : 13},\n",
    "    {'name' : 'Simon', 'age' : 15},\n",
    "], dtype=object)\n",
    "df['name']"
   ]
  },
  {
   "cell_type": "code",
   "execution_count": 64,
   "id": "abbc1688",
   "metadata": {},
   "outputs": [
    {
     "data": {
      "text/plain": [
       "name    Bob\n",
       "age      13\n",
       "Name: 1, dtype: object"
      ]
     },
     "execution_count": 64,
     "metadata": {},
     "output_type": "execute_result"
    }
   ],
   "source": [
    "# ? Access row, as 'Series'\n",
    "df = pd.DataFrame([\n",
    "    {'name' : 'Alice', 'age' : 10},\n",
    "    {'name' : 'Bob', 'age' : 13},\n",
    "    {'name' : 'Simon', 'age' : 15},\n",
    "], dtype=object)\n",
    "df.iloc[1]"
   ]
  },
  {
   "cell_type": "code",
   "execution_count": 65,
   "id": "7c6f5ed5",
   "metadata": {},
   "outputs": [
    {
     "data": {
      "text/html": [
       "<div>\n",
       "<style scoped>\n",
       "    .dataframe tbody tr th:only-of-type {\n",
       "        vertical-align: middle;\n",
       "    }\n",
       "\n",
       "    .dataframe tbody tr th {\n",
       "        vertical-align: top;\n",
       "    }\n",
       "\n",
       "    .dataframe thead th {\n",
       "        text-align: right;\n",
       "    }\n",
       "</style>\n",
       "<table border=\"1\" class=\"dataframe\">\n",
       "  <thead>\n",
       "    <tr style=\"text-align: right;\">\n",
       "      <th></th>\n",
       "      <th>name</th>\n",
       "      <th>age</th>\n",
       "    </tr>\n",
       "  </thead>\n",
       "  <tbody>\n",
       "    <tr>\n",
       "      <th>0</th>\n",
       "      <td>Alice</td>\n",
       "      <td>10</td>\n",
       "    </tr>\n",
       "    <tr>\n",
       "      <th>2</th>\n",
       "      <td>Simon</td>\n",
       "      <td>15</td>\n",
       "    </tr>\n",
       "  </tbody>\n",
       "</table>\n",
       "</div>"
      ],
      "text/plain": [
       "    name age\n",
       "0  Alice  10\n",
       "2  Simon  15"
      ]
     },
     "execution_count": 65,
     "metadata": {},
     "output_type": "execute_result"
    }
   ],
   "source": [
    "# ? Slice 'DataFrame'\n",
    "df = pd.DataFrame([\n",
    "    {'name' : 'Alice', 'age' : 10, 'race' : 'asian'},\n",
    "    {'name' : 'Bob', 'age' : 13, 'race' : 'white'},\n",
    "    {'name' : 'Simon', 'age' : 15, 'race' : 'black'},\n",
    "], dtype=object)\n",
    "df[['name', 'age']].iloc[[0, 2]]"
   ]
  },
  {
   "cell_type": "code",
   "execution_count": 71,
   "id": "505b8840",
   "metadata": {},
   "outputs": [
    {
     "name": "stdout",
     "output_type": "stream",
     "text": [
      "name\n",
      "0: Alice\n",
      "1: Bob\n",
      "age\n",
      "0: 10\n",
      "1: 13\n"
     ]
    }
   ],
   "source": [
    "# ? Direct access to 'DataFrame'\n",
    "\n",
    "df = pd.DataFrame([\n",
    "    {'name' : 'Alice', 'age' : 10},\n",
    "    {'name' : 'Bob', 'age' : 13},\n",
    "], dtype=object)\n",
    "\n",
    "for column in df.columns:\n",
    "    print(f\"{column}\")\n",
    "    for value, index in zip(df[column].values, df.index):\n",
    "        print(f\"{index}: {value}\")"
   ]
  },
  {
   "cell_type": "code",
   "execution_count": 121,
   "id": "31384841",
   "metadata": {},
   "outputs": [
    {
     "name": "stdout",
     "output_type": "stream",
     "text": [
      "0: Alice(10)\n",
      "1: Bob(13)\n"
     ]
    }
   ],
   "source": [
    "# ? Loop on every row in 'DataFrame'\n",
    "\n",
    "df = pd.DataFrame([\n",
    "    {'name' : 'Alice', 'age' : 10},\n",
    "    {'name' : 'Bob', 'age' : 13},\n",
    "], dtype=object)\n",
    "\n",
    "for idx, row in df.iterrows():\n",
    "    print(f\"{idx}: {row['name']}({row['age']})\")"
   ]
  },
  {
   "cell_type": "markdown",
   "id": "668174dd",
   "metadata": {},
   "source": [
    "### Manipulations <a class=\"anchor\" id=\"manipulations\"></a>"
   ]
  },
  {
   "cell_type": "markdown",
   "id": "91a0e887",
   "metadata": {},
   "source": [
    "#### Deleting <a class=\"anchor\" id=\"deleting\"></a>"
   ]
  },
  {
   "cell_type": "code",
   "execution_count": null,
   "id": "74dac6f3",
   "metadata": {},
   "outputs": [
    {
     "data": {
      "text/html": [
       "<div>\n",
       "<style scoped>\n",
       "    .dataframe tbody tr th:only-of-type {\n",
       "        vertical-align: middle;\n",
       "    }\n",
       "\n",
       "    .dataframe tbody tr th {\n",
       "        vertical-align: top;\n",
       "    }\n",
       "\n",
       "    .dataframe thead th {\n",
       "        text-align: right;\n",
       "    }\n",
       "</style>\n",
       "<table border=\"1\" class=\"dataframe\">\n",
       "  <thead>\n",
       "    <tr style=\"text-align: right;\">\n",
       "      <th></th>\n",
       "      <th>name</th>\n",
       "      <th>age</th>\n",
       "    </tr>\n",
       "  </thead>\n",
       "  <tbody>\n",
       "    <tr>\n",
       "      <th>1</th>\n",
       "      <td>Bob</td>\n",
       "      <td>13</td>\n",
       "    </tr>\n",
       "  </tbody>\n",
       "</table>\n",
       "</div>"
      ],
      "text/plain": [
       "  name age\n",
       "1  Bob  13"
      ]
     },
     "execution_count": 74,
     "metadata": {},
     "output_type": "execute_result"
    }
   ],
   "source": [
    "# Delete row(s), creates new data-frame\n",
    "df = pd.DataFrame([\n",
    "    {'name' : 'Alice', 'age' : 10},\n",
    "    {'name' : 'Bob', 'age' : 13},\n",
    "], dtype=object)\n",
    "df.drop([0], axis=0)"
   ]
  },
  {
   "cell_type": "code",
   "execution_count": 75,
   "id": "3051dd06",
   "metadata": {},
   "outputs": [
    {
     "data": {
      "text/html": [
       "<div>\n",
       "<style scoped>\n",
       "    .dataframe tbody tr th:only-of-type {\n",
       "        vertical-align: middle;\n",
       "    }\n",
       "\n",
       "    .dataframe tbody tr th {\n",
       "        vertical-align: top;\n",
       "    }\n",
       "\n",
       "    .dataframe thead th {\n",
       "        text-align: right;\n",
       "    }\n",
       "</style>\n",
       "<table border=\"1\" class=\"dataframe\">\n",
       "  <thead>\n",
       "    <tr style=\"text-align: right;\">\n",
       "      <th></th>\n",
       "      <th>name</th>\n",
       "    </tr>\n",
       "  </thead>\n",
       "  <tbody>\n",
       "    <tr>\n",
       "      <th>0</th>\n",
       "      <td>Alice</td>\n",
       "    </tr>\n",
       "    <tr>\n",
       "      <th>1</th>\n",
       "      <td>Bob</td>\n",
       "    </tr>\n",
       "  </tbody>\n",
       "</table>\n",
       "</div>"
      ],
      "text/plain": [
       "    name\n",
       "0  Alice\n",
       "1    Bob"
      ]
     },
     "execution_count": 75,
     "metadata": {},
     "output_type": "execute_result"
    }
   ],
   "source": [
    "# Delete column(s), creates new data-frame\n",
    "df = pd.DataFrame([\n",
    "    {'name' : 'Alice', 'age' : 10},\n",
    "    {'name' : 'Bob', 'age' : 13},\n",
    "], dtype=object)\n",
    "df.drop(['age'], axis=1)"
   ]
  },
  {
   "cell_type": "markdown",
   "id": "965ea987",
   "metadata": {},
   "source": [
    "#### Appending <a class=\"anchor\" id=\"appending\"></a>"
   ]
  },
  {
   "cell_type": "code",
   "execution_count": 87,
   "id": "86d12191",
   "metadata": {},
   "outputs": [
    {
     "data": {
      "text/html": [
       "<div>\n",
       "<style scoped>\n",
       "    .dataframe tbody tr th:only-of-type {\n",
       "        vertical-align: middle;\n",
       "    }\n",
       "\n",
       "    .dataframe tbody tr th {\n",
       "        vertical-align: top;\n",
       "    }\n",
       "\n",
       "    .dataframe thead th {\n",
       "        text-align: right;\n",
       "    }\n",
       "</style>\n",
       "<table border=\"1\" class=\"dataframe\">\n",
       "  <thead>\n",
       "    <tr style=\"text-align: right;\">\n",
       "      <th></th>\n",
       "      <th>name</th>\n",
       "      <th>age</th>\n",
       "      <th>passed?</th>\n",
       "    </tr>\n",
       "  </thead>\n",
       "  <tbody>\n",
       "    <tr>\n",
       "      <th>0</th>\n",
       "      <td>Alice</td>\n",
       "      <td>10</td>\n",
       "      <td>True</td>\n",
       "    </tr>\n",
       "    <tr>\n",
       "      <th>1</th>\n",
       "      <td>Bob</td>\n",
       "      <td>13</td>\n",
       "      <td>False</td>\n",
       "    </tr>\n",
       "  </tbody>\n",
       "</table>\n",
       "</div>"
      ],
      "text/plain": [
       "    name age  passed?\n",
       "0  Alice  10     True\n",
       "1    Bob  13    False"
      ]
     },
     "execution_count": 87,
     "metadata": {},
     "output_type": "execute_result"
    }
   ],
   "source": [
    "# Appending a new column\n",
    "df = pd.DataFrame([\n",
    "    {'name' : 'Alice', 'age' : 10},\n",
    "    {'name' : 'Bob', 'age' : 13},\n",
    "], dtype=object)\n",
    "\n",
    "column = pd.Series([True, False])\n",
    "\n",
    "df['passed?'] = column\n",
    "df"
   ]
  },
  {
   "cell_type": "code",
   "execution_count": 93,
   "id": "79dbbc74",
   "metadata": {},
   "outputs": [
    {
     "data": {
      "text/html": [
       "<div>\n",
       "<style scoped>\n",
       "    .dataframe tbody tr th:only-of-type {\n",
       "        vertical-align: middle;\n",
       "    }\n",
       "\n",
       "    .dataframe tbody tr th {\n",
       "        vertical-align: top;\n",
       "    }\n",
       "\n",
       "    .dataframe thead th {\n",
       "        text-align: right;\n",
       "    }\n",
       "</style>\n",
       "<table border=\"1\" class=\"dataframe\">\n",
       "  <thead>\n",
       "    <tr style=\"text-align: right;\">\n",
       "      <th></th>\n",
       "      <th>name</th>\n",
       "      <th>age</th>\n",
       "    </tr>\n",
       "  </thead>\n",
       "  <tbody>\n",
       "    <tr>\n",
       "      <th>0</th>\n",
       "      <td>Alice</td>\n",
       "      <td>10</td>\n",
       "    </tr>\n",
       "    <tr>\n",
       "      <th>1</th>\n",
       "      <td>Bob</td>\n",
       "      <td>13</td>\n",
       "    </tr>\n",
       "    <tr>\n",
       "      <th>2</th>\n",
       "      <td>Sam</td>\n",
       "      <td>17</td>\n",
       "    </tr>\n",
       "  </tbody>\n",
       "</table>\n",
       "</div>"
      ],
      "text/plain": [
       "    name age\n",
       "0  Alice  10\n",
       "1    Bob  13\n",
       "2    Sam  17"
      ]
     },
     "execution_count": 93,
     "metadata": {},
     "output_type": "execute_result"
    }
   ],
   "source": [
    "# Appending a new row\n",
    "df = pd.DataFrame([\n",
    "    {'name' : 'Alice', 'age' : 10},\n",
    "    {'name' : 'Bob', 'age' : 13},\n",
    "], dtype=object)\n",
    "\n",
    "row = pd.Series(['Sam', 17], index=['name', 'age'])\n",
    "\n",
    "df.loc[len(df.index)] = row\n",
    "df"
   ]
  },
  {
   "cell_type": "code",
   "execution_count": null,
   "id": "1a11642e",
   "metadata": {},
   "outputs": [
    {
     "data": {
      "text/html": [
       "<div>\n",
       "<style scoped>\n",
       "    .dataframe tbody tr th:only-of-type {\n",
       "        vertical-align: middle;\n",
       "    }\n",
       "\n",
       "    .dataframe tbody tr th {\n",
       "        vertical-align: top;\n",
       "    }\n",
       "\n",
       "    .dataframe thead th {\n",
       "        text-align: right;\n",
       "    }\n",
       "</style>\n",
       "<table border=\"1\" class=\"dataframe\">\n",
       "  <thead>\n",
       "    <tr style=\"text-align: right;\">\n",
       "      <th></th>\n",
       "      <th>name</th>\n",
       "      <th>age</th>\n",
       "    </tr>\n",
       "  </thead>\n",
       "  <tbody>\n",
       "    <tr>\n",
       "      <th>0</th>\n",
       "      <td>Alice</td>\n",
       "      <td>10</td>\n",
       "    </tr>\n",
       "    <tr>\n",
       "      <th>1</th>\n",
       "      <td>Bob</td>\n",
       "      <td>13</td>\n",
       "    </tr>\n",
       "    <tr>\n",
       "      <th>0</th>\n",
       "      <td>Alice</td>\n",
       "      <td>10</td>\n",
       "    </tr>\n",
       "    <tr>\n",
       "      <th>1</th>\n",
       "      <td>Bob</td>\n",
       "      <td>13</td>\n",
       "    </tr>\n",
       "  </tbody>\n",
       "</table>\n",
       "</div>"
      ],
      "text/plain": [
       "    name age\n",
       "0  Alice  10\n",
       "1    Bob  13\n",
       "0  Alice  10\n",
       "1    Bob  13"
      ]
     },
     "execution_count": 76,
     "metadata": {},
     "output_type": "execute_result"
    }
   ],
   "source": [
    "# Concat two 'DataFrame'(s), vertically\n",
    "df = pd.DataFrame([\n",
    "    {'name' : 'Alice', 'age' : 10},\n",
    "    {'name' : 'Bob', 'age' : 13},\n",
    "], dtype=object)\n",
    "pd.concat([df, df], axis=0)"
   ]
  },
  {
   "cell_type": "code",
   "execution_count": null,
   "id": "af02342a",
   "metadata": {},
   "outputs": [
    {
     "data": {
      "text/html": [
       "<div>\n",
       "<style scoped>\n",
       "    .dataframe tbody tr th:only-of-type {\n",
       "        vertical-align: middle;\n",
       "    }\n",
       "\n",
       "    .dataframe tbody tr th {\n",
       "        vertical-align: top;\n",
       "    }\n",
       "\n",
       "    .dataframe thead th {\n",
       "        text-align: right;\n",
       "    }\n",
       "</style>\n",
       "<table border=\"1\" class=\"dataframe\">\n",
       "  <thead>\n",
       "    <tr style=\"text-align: right;\">\n",
       "      <th></th>\n",
       "      <th>name</th>\n",
       "      <th>age</th>\n",
       "      <th>name</th>\n",
       "      <th>age</th>\n",
       "    </tr>\n",
       "  </thead>\n",
       "  <tbody>\n",
       "    <tr>\n",
       "      <th>0</th>\n",
       "      <td>Alice</td>\n",
       "      <td>10</td>\n",
       "      <td>Alice</td>\n",
       "      <td>10</td>\n",
       "    </tr>\n",
       "    <tr>\n",
       "      <th>1</th>\n",
       "      <td>Bob</td>\n",
       "      <td>13</td>\n",
       "      <td>Bob</td>\n",
       "      <td>13</td>\n",
       "    </tr>\n",
       "  </tbody>\n",
       "</table>\n",
       "</div>"
      ],
      "text/plain": [
       "    name age   name age\n",
       "0  Alice  10  Alice  10\n",
       "1    Bob  13    Bob  13"
      ]
     },
     "execution_count": 77,
     "metadata": {},
     "output_type": "execute_result"
    }
   ],
   "source": [
    "# Concat two 'DataFrame'(s), horizontally\n",
    "df = pd.DataFrame([\n",
    "    {'name' : 'Alice', 'age' : 10},\n",
    "    {'name' : 'Bob', 'age' : 13},\n",
    "], dtype=object)\n",
    "pd.concat([df, df], axis=1)"
   ]
  },
  {
   "cell_type": "markdown",
   "id": "9b389582",
   "metadata": {},
   "source": [
    "#### Inserting <a class=\"anchor\" id=\"inserting\"></a>"
   ]
  },
  {
   "cell_type": "code",
   "execution_count": 116,
   "id": "53449a85",
   "metadata": {},
   "outputs": [
    {
     "data": {
      "text/html": [
       "<div>\n",
       "<style scoped>\n",
       "    .dataframe tbody tr th:only-of-type {\n",
       "        vertical-align: middle;\n",
       "    }\n",
       "\n",
       "    .dataframe tbody tr th {\n",
       "        vertical-align: top;\n",
       "    }\n",
       "\n",
       "    .dataframe thead th {\n",
       "        text-align: right;\n",
       "    }\n",
       "</style>\n",
       "<table border=\"1\" class=\"dataframe\">\n",
       "  <thead>\n",
       "    <tr style=\"text-align: right;\">\n",
       "      <th></th>\n",
       "      <th>name</th>\n",
       "      <th>age</th>\n",
       "    </tr>\n",
       "  </thead>\n",
       "  <tbody>\n",
       "    <tr>\n",
       "      <th>1</th>\n",
       "      <td>Bob</td>\n",
       "      <td>13</td>\n",
       "    </tr>\n",
       "    <tr>\n",
       "      <th>0</th>\n",
       "      <td>Alice</td>\n",
       "      <td>10</td>\n",
       "    </tr>\n",
       "  </tbody>\n",
       "</table>\n",
       "</div>"
      ],
      "text/plain": [
       "    name age\n",
       "1    Bob  13\n",
       "0  Alice  10"
      ]
     },
     "execution_count": 116,
     "metadata": {},
     "output_type": "execute_result"
    }
   ],
   "source": [
    "# Inserting is possible as a combination of slicing and concatenating\n",
    "df = pd.DataFrame([\n",
    "    {'name' : 'Alice', 'age' : 10},\n",
    "    {'name' : 'Bob', 'age' : 13},\n",
    "], dtype=object)\n",
    "pd.concat([df.iloc[1:], df.iloc[:1]])"
   ]
  },
  {
   "cell_type": "markdown",
   "id": "255c7741",
   "metadata": {},
   "source": [
    "### Ordering <a class=\"anchor\" id=\"ordering\"></a>"
   ]
  },
  {
   "cell_type": "code",
   "execution_count": 101,
   "id": "95d5d3c2",
   "metadata": {},
   "outputs": [
    {
     "data": {
      "text/html": [
       "<div>\n",
       "<style scoped>\n",
       "    .dataframe tbody tr th:only-of-type {\n",
       "        vertical-align: middle;\n",
       "    }\n",
       "\n",
       "    .dataframe tbody tr th {\n",
       "        vertical-align: top;\n",
       "    }\n",
       "\n",
       "    .dataframe thead th {\n",
       "        text-align: right;\n",
       "    }\n",
       "</style>\n",
       "<table border=\"1\" class=\"dataframe\">\n",
       "  <thead>\n",
       "    <tr style=\"text-align: right;\">\n",
       "      <th></th>\n",
       "      <th>name</th>\n",
       "      <th>age</th>\n",
       "    </tr>\n",
       "  </thead>\n",
       "  <tbody>\n",
       "    <tr>\n",
       "      <th>0</th>\n",
       "      <td>Simon</td>\n",
       "      <td>15</td>\n",
       "    </tr>\n",
       "    <tr>\n",
       "      <th>1</th>\n",
       "      <td>Alice</td>\n",
       "      <td>10</td>\n",
       "    </tr>\n",
       "  </tbody>\n",
       "</table>\n",
       "</div>"
      ],
      "text/plain": [
       "    name age\n",
       "0  Simon  15\n",
       "1  Alice  10"
      ]
     },
     "execution_count": 101,
     "metadata": {},
     "output_type": "execute_result"
    }
   ],
   "source": [
    "# Reset row indices\n",
    "\n",
    "df = pd.DataFrame([\n",
    "    {'name' : 'Alice', 'age' : 10},\n",
    "    {'name' : 'Bob', 'age' : 13},\n",
    "    {'name' : 'Simon', 'age' : 15},\n",
    "], dtype=object)\n",
    "df = pd.concat([df.iloc[2:], df.iloc[:1]])\n",
    "\n",
    "df.reset_index(drop=True)"
   ]
  },
  {
   "cell_type": "code",
   "execution_count": null,
   "id": "7ea0b9db",
   "metadata": {},
   "outputs": [
    {
     "data": {
      "text/html": [
       "<div>\n",
       "<style scoped>\n",
       "    .dataframe tbody tr th:only-of-type {\n",
       "        vertical-align: middle;\n",
       "    }\n",
       "\n",
       "    .dataframe tbody tr th {\n",
       "        vertical-align: top;\n",
       "    }\n",
       "\n",
       "    .dataframe thead th {\n",
       "        text-align: right;\n",
       "    }\n",
       "</style>\n",
       "<table border=\"1\" class=\"dataframe\">\n",
       "  <thead>\n",
       "    <tr style=\"text-align: right;\">\n",
       "      <th></th>\n",
       "      <th>name</th>\n",
       "      <th>age</th>\n",
       "    </tr>\n",
       "  </thead>\n",
       "  <tbody>\n",
       "    <tr>\n",
       "      <th>0</th>\n",
       "      <td>Simone</td>\n",
       "      <td>15</td>\n",
       "    </tr>\n",
       "    <tr>\n",
       "      <th>1</th>\n",
       "      <td>Alice</td>\n",
       "      <td>10</td>\n",
       "    </tr>\n",
       "    <tr>\n",
       "      <th>2</th>\n",
       "      <td>Bob</td>\n",
       "      <td>13</td>\n",
       "    </tr>\n",
       "  </tbody>\n",
       "</table>\n",
       "</div>"
      ],
      "text/plain": [
       "     name age\n",
       "0  Simone  15\n",
       "1   Alice  10\n",
       "2     Bob  13"
      ]
     },
     "execution_count": 115,
     "metadata": {},
     "output_type": "execute_result"
    }
   ],
   "source": [
    "# Sort row(s)\n",
    "\n",
    "df = pd.DataFrame([\n",
    "    {'name' : 'Alice', 'age' : 10},\n",
    "    {'name' : 'Simone', 'age' : 15},\n",
    "    {'name' : 'Bob', 'age' : 13},\n",
    "], dtype=object)\n",
    "\n",
    "df_sorted = df.sort_values(by='name', key=lambda col: col.map(len), ascending=False)\n",
    "df_sorted.reset_index(drop=True)"
   ]
  },
  {
   "cell_type": "code",
   "execution_count": 117,
   "id": "dbade034",
   "metadata": {},
   "outputs": [
    {
     "data": {
      "text/html": [
       "<div>\n",
       "<style scoped>\n",
       "    .dataframe tbody tr th:only-of-type {\n",
       "        vertical-align: middle;\n",
       "    }\n",
       "\n",
       "    .dataframe tbody tr th {\n",
       "        vertical-align: top;\n",
       "    }\n",
       "\n",
       "    .dataframe thead th {\n",
       "        text-align: right;\n",
       "    }\n",
       "</style>\n",
       "<table border=\"1\" class=\"dataframe\">\n",
       "  <thead>\n",
       "    <tr style=\"text-align: right;\">\n",
       "      <th></th>\n",
       "      <th>age</th>\n",
       "      <th>name</th>\n",
       "    </tr>\n",
       "  </thead>\n",
       "  <tbody>\n",
       "    <tr>\n",
       "      <th>0</th>\n",
       "      <td>10</td>\n",
       "      <td>Alice</td>\n",
       "    </tr>\n",
       "    <tr>\n",
       "      <th>1</th>\n",
       "      <td>15</td>\n",
       "      <td>Simone</td>\n",
       "    </tr>\n",
       "    <tr>\n",
       "      <th>2</th>\n",
       "      <td>13</td>\n",
       "      <td>Bob</td>\n",
       "    </tr>\n",
       "  </tbody>\n",
       "</table>\n",
       "</div>"
      ],
      "text/plain": [
       "  age    name\n",
       "0  10   Alice\n",
       "1  15  Simone\n",
       "2  13     Bob"
      ]
     },
     "execution_count": 117,
     "metadata": {},
     "output_type": "execute_result"
    }
   ],
   "source": [
    "# Re-ordering column(s) via slicing\n",
    "\n",
    "df = pd.DataFrame([\n",
    "    {'name' : 'Alice', 'age' : 10},\n",
    "    {'name' : 'Simone', 'age' : 15},\n",
    "    {'name' : 'Bob', 'age' : 13},\n",
    "], dtype=object)\n",
    "\n",
    "df[['age', 'name']]"
   ]
  },
  {
   "cell_type": "markdown",
   "id": "ad4f6c89",
   "metadata": {},
   "source": [
    "### Merging <a class=\"anchor\" id=\"merging\"></a>"
   ]
  },
  {
   "cell_type": "code",
   "execution_count": 83,
   "id": "1077c733",
   "metadata": {},
   "outputs": [
    {
     "data": {
      "text/html": [
       "<div>\n",
       "<style scoped>\n",
       "    .dataframe tbody tr th:only-of-type {\n",
       "        vertical-align: middle;\n",
       "    }\n",
       "\n",
       "    .dataframe tbody tr th {\n",
       "        vertical-align: top;\n",
       "    }\n",
       "\n",
       "    .dataframe thead th {\n",
       "        text-align: right;\n",
       "    }\n",
       "</style>\n",
       "<table border=\"1\" class=\"dataframe\">\n",
       "  <thead>\n",
       "    <tr style=\"text-align: right;\">\n",
       "      <th></th>\n",
       "      <th>task</th>\n",
       "      <th>start</th>\n",
       "      <th>duration</th>\n",
       "      <th>core</th>\n",
       "    </tr>\n",
       "  </thead>\n",
       "  <tbody>\n",
       "    <tr>\n",
       "      <th>0</th>\n",
       "      <td>A</td>\n",
       "      <td>1</td>\n",
       "      <td>1</td>\n",
       "      <td>0</td>\n",
       "    </tr>\n",
       "    <tr>\n",
       "      <th>1</th>\n",
       "      <td>B</td>\n",
       "      <td>2</td>\n",
       "      <td>1</td>\n",
       "      <td>1</td>\n",
       "    </tr>\n",
       "    <tr>\n",
       "      <th>2</th>\n",
       "      <td>A</td>\n",
       "      <td>3</td>\n",
       "      <td>1</td>\n",
       "      <td>0</td>\n",
       "    </tr>\n",
       "  </tbody>\n",
       "</table>\n",
       "</div>"
      ],
      "text/plain": [
       "  task start duration core\n",
       "0    A     1        1    0\n",
       "1    B     2        1    1\n",
       "2    A     3        1    0"
      ]
     },
     "execution_count": 83,
     "metadata": {},
     "output_type": "execute_result"
    }
   ],
   "source": [
    "# Merge two 'DataFrame'(s), using a specific column\n",
    "\n",
    "df_entries = pd.DataFrame([\n",
    "    {'task' : 'A', 'start' : 1, 'duration': 1},\n",
    "    {'task' : 'B', 'start' : 2, 'duration': 1},\n",
    "    {'task' : 'A', 'start' : 3, 'duration': 1},\n",
    "], dtype=object)\n",
    "\n",
    "df_tasks = pd.DataFrame([\n",
    "    {'task' : 'A', 'core': 0},\n",
    "    {'task' : 'B', 'core': 1},\n",
    "], dtype=object)\n",
    "\n",
    "pd.merge(df_entries, df_tasks, on='task')"
   ]
  }
 ],
 "metadata": {
  "kernelspec": {
   "display_name": "Python 3",
   "language": "python",
   "name": "python3"
  },
  "language_info": {
   "codemirror_mode": {
    "name": "ipython",
    "version": 3
   },
   "file_extension": ".py",
   "mimetype": "text/x-python",
   "name": "python",
   "nbconvert_exporter": "python",
   "pygments_lexer": "ipython3",
   "version": "3.12.0"
  }
 },
 "nbformat": 4,
 "nbformat_minor": 5
}
