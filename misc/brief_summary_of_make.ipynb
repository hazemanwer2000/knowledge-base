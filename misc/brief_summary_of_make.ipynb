{
 "cells": [
  {
   "cell_type": "markdown",
   "id": "57a5dd54",
   "metadata": {},
   "source": [
    "# A brief summary of *GNU* Make\n",
    "<br>\n",
    "<div style=\"opacity: 0.8; font-family: Consolas, Monaco, Lucida Console, Liberation Mono, DejaVu Sans Mono, Bitstream Vera Sans Mono, Courier New; font-size: 12px; font-style: italic;\">\n",
    "    ────────\n",
    "    for more from the author, visit\n",
    "    <a href=\"https://github.com/hazemanwer2000\">github.com/hazemanwer2000</a>.\n",
    "    ────────\n",
    "</div>"
   ]
  },
  {
   "cell_type": "markdown",
   "id": "d5d19f27",
   "metadata": {},
   "source": [
    "## Table of Contents\n",
    "* [Rules](#rules)\n",
    "    * [The `.PHONY` Target](#the-phony-target)\n",
    "    * [Pattern Rules](#pattern-rules)\n",
    "        * [Static Pattern Rules](#static-pattern-rules)\n",
    "    * [Built-in Rules](#built-in-rules)\n",
    "    * [Wildcards](#wildcards)\n",
    "    * [The `include` directive](#the-include-directive)\n",
    "* [Variables](#variables)\n",
    "    * [Automatic Variables](#automatic-variables)\n",
    "    * [Built-in Variables](#built-in-variables)\n",
    "    * [Command-line Variables](#command-line-variables)\n",
    "    * [Target-specific Variables](#target-specific-variables)\n",
    "    * [Conditional Directives](#conditional-directives)\n",
    "* [Functions](#functions)\n",
    "    * [String Manipulation Functions](#string-manipulation-functions)\n",
    "        * [The `subst` function](#the-subst-function)\n",
    "        * [The `patsubst` function](#the-patsubst-function)\n",
    "        * [The `strip` function](#the-strip-function)\n",
    "        * [The `findstring` function](#the-findstring-function)\n",
    "        * [The `filter` function](#the-filter-function)\n",
    "        * [The `sort` function](#the-sort-function)\n",
    "        * [The `word` function](#the-word-function)\n",
    "        * [The `wordlist` function](#the-wordlist-function)\n",
    "        * [The `words` function](#the-words-function)\n",
    "        * [The `firstword` function](#the-firstword-function)\n",
    "    * [Filename functions](#filename-functions)\n",
    "        * [The `dir` function](#the-dir-function)\n",
    "        * [The `notdir` function](#the-notdir-function)\n",
    "        * [The `suffix` function](#the-suffix-function)\n",
    "        * [The `addsuffix` function](#the-addsuffix-function)\n",
    "        * [The `join` function](#the-join-function)\n",
    "        * [The `wildcard` function](#the-wildcard-function)\n",
    "        * [The `realpath` function](#the-realpath-function)\n",
    "    * [Conditional Functions](#conditional-functions)\n",
    "        * [The `if` function](#the-if-function)\n",
    "    * [Miscellaneous Functions](#miscellaneous-functions)\n",
    "        * [The `foreach` function](#the-foreach-function)\n",
    "        * [The `call` function](#the-call-function)\n",
    "        * [The `shell` function](#the-shell-function)\n",
    "        * [The `error` function](#the-error-function)\n",
    "        \n",
    "\n",
    "<hr>"
   ]
  },
  {
   "cell_type": "markdown",
   "id": "883e173c",
   "metadata": {},
   "source": [
    "*GNU Make* is a build-process automation tool, mainly employed in C/C++ projects.\n",
    "\n",
    "It prevents the unnecessary re-compilation of many files, especially in a medium-to-large sized project, significantly reducing the compilation time."
   ]
  },
  {
   "cell_type": "markdown",
   "id": "cd9be7e3",
   "metadata": {},
   "source": [
    "The tool is called `make`, and by default, searches for a *Makefile* file in the working directory.\n",
    "\n",
    "Alternatively, the file to be executed may be passed with the `-f` option."
   ]
  },
  {
   "cell_type": "markdown",
   "id": "248eba46",
   "metadata": {},
   "source": [
    "## Rules <a class=\"anchor\" id=\"rules\"></a>"
   ]
  },
  {
   "cell_type": "markdown",
   "id": "d7e73004",
   "metadata": {},
   "source": [
    "A *Makefile* consists, mainly, of a set of *rules*. Each rule specifies:\n",
    "* A target file to generate.\n",
    "* Prerequisite files that the target file depends on.\n",
    "* Commands that use the prerequisite files to generate the target file."
   ]
  },
  {
   "cell_type": "code",
   "execution_count": null,
   "id": "a58f932c",
   "metadata": {},
   "outputs": [],
   "source": [
    "target: prerequisites\n",
    "    command\n",
    "    ..."
   ]
  },
  {
   "cell_type": "markdown",
   "id": "7cf0c053",
   "metadata": {},
   "source": [
    "When you run `$ make TARGET`,\n",
    "* A rule is searched for, that matches the target file.\n",
    "    * If not found and the target file does not exist, `$: No rule to make TARGET` is issued.\n",
    "    * If not found and the target file exists, `$: Nothing to be done` is issued.\n",
    "    * If found, `make` proceeds.\n",
    "* Iteratively, a rule is searched for, that matches each prerequisite file.\n",
    "    * If not found and the prerequisite file does not exist, `$: No rule to make PREREQUISITE needed by TARGET` is issued.\n",
    "    * If not found and the prerequisite file exists, `make` proceeds.\n",
    "    * If found, this procedure repeats recursively, with the prerequisite file as the target file.\n",
    "* `make` evaluates whether to execute the associated rule commands, and generate the target file.\n",
    "    * If the target file does not exist, the commands are executed.\n",
    "    * If the target file exists, and the *Last Modified Timestamp*, in the file system, of the target file dates older than at least one prerequisite file, the commands are executed.\n",
    "    * Otherwise, `$: Nothing to be done` is issued."
   ]
  },
  {
   "cell_type": "markdown",
   "id": "0a1533dd",
   "metadata": {},
   "source": [
    "*Note:* By default, `$ make` assumes the target in the first rule in the *Makefile*.\n",
    "\n",
    "*Note:* Preceed a command with `@` to stop `make` printing it again on the command-line. Alternatively, running `make` with the `-s` option places `@` before each command.\n",
    "\n",
    "*Note:* Every command runs in a separate shell, in the background."
   ]
  },
  {
   "cell_type": "markdown",
   "id": "cb6ab270",
   "metadata": {},
   "source": [
    "A multiple-target rule is permitted, and is equivalent to declaring multiple single-target rules, with the same prerequisites and commands."
   ]
  },
  {
   "cell_type": "code",
   "execution_count": null,
   "id": "83f3d645",
   "metadata": {},
   "outputs": [],
   "source": [
    "target-1 target-2 ...: prerequisites        # Multiple-target rule\n",
    "    command\n",
    "    ..."
   ]
  },
  {
   "cell_type": "code",
   "execution_count": null,
   "id": "08b3372e",
   "metadata": {},
   "outputs": [],
   "source": [
    "target-1: prerequisites                     # Equivalent multiple single-target rule\n",
    "    command\n",
    "    ...\n",
    "\n",
    "target-2: prerequisites\n",
    "    command\n",
    "    ...\n",
    "\n",
    "..."
   ]
  },
  {
   "cell_type": "markdown",
   "id": "0d241dd5",
   "metadata": {},
   "source": [
    "A prerequisite file whose *Last Modified Timestamp* is ignored when `make` is evaluating whether to execute the associated rule commands, is placed after `|` in a rule, and is called an *order-only prerequisite*."
   ]
  },
  {
   "cell_type": "code",
   "execution_count": null,
   "id": "5103302e",
   "metadata": {},
   "outputs": [],
   "source": [
    "target: prereqs | order-only-prereqs\n",
    "    command\n",
    "    ..."
   ]
  },
  {
   "cell_type": "markdown",
   "id": "0d04783e",
   "metadata": {},
   "source": [
    "*Note:* An practical example of an *order-only* prerequisite is a directory, which may be a target file, though uncommon."
   ]
  },
  {
   "cell_type": "markdown",
   "id": "3e9a351d",
   "metadata": {},
   "source": [
    "### The `.PHONY` Target <a class=\"anchor\" id=\"the-phony-target\"></a>"
   ]
  },
  {
   "cell_type": "markdown",
   "id": "49bdc179",
   "metadata": {},
   "source": [
    "The `.PHONY` target is a built-in target in `make`, the prerequisites of which are targets themselves, and are called *phony targets*.\n",
    "\n",
    "A phony target is not a target file, rather is treated as a command. Hence, when you run `$ make PHONY-TARGET`, the commands of a matching rule are always executed."
   ]
  },
  {
   "cell_type": "code",
   "execution_count": null,
   "id": "6d2a3be9",
   "metadata": {},
   "outputs": [],
   "source": [
    ".PHONY: phony-target-1 phony-target-2 ... \n",
    "\n",
    "phony-target-1: prerequisites\n",
    "    command\n",
    "    ...\n",
    "    \n",
    "phony-target-2: prerequisites\n",
    "    command\n",
    "    ..."
   ]
  },
  {
   "cell_type": "markdown",
   "id": "e46b77a7",
   "metadata": {},
   "source": [
    "A phony target may be a prerequisite to another rule. In that case, it is also treated as a command."
   ]
  },
  {
   "cell_type": "code",
   "execution_count": null,
   "id": "d17f677d",
   "metadata": {},
   "outputs": [],
   "source": [
    ".PHONY: phony-target\n",
    "\n",
    "phony-target: prerequisites\n",
    "    command\n",
    "    ...\n",
    "\n",
    "target: prerequisites phony-target\n",
    "    command\n",
    "    ..."
   ]
  },
  {
   "cell_type": "markdown",
   "id": "e9531bd7",
   "metadata": {},
   "source": [
    "### Pattern Rules <a class=\"anchor\" id=\"pattern-rules\"></a>"
   ]
  },
  {
   "cell_type": "markdown",
   "id": "53a1a7df",
   "metadata": {},
   "source": [
    "A *pattern rule* is a rule that captures targets with a common naming convention.\n",
    "\n",
    "Usually, the common partition of the name, called *stem*, is the prefix of the target name, and is represented with `%`. The captured stem may then be used in the prerequisites."
   ]
  },
  {
   "cell_type": "code",
   "execution_count": null,
   "id": "9027854d",
   "metadata": {},
   "outputs": [],
   "source": [
    "%.o: %.c                 # Captures all target object files, and \n",
    "    command              #   requires 'C' source files with a similar name\n",
    "    ..."
   ]
  },
  {
   "cell_type": "markdown",
   "id": "ffa4f9d3",
   "metadata": {},
   "source": [
    "#### Static Pattern Rules <a class=\"anchor\" id=\"static-pattern-rules\"></a>"
   ]
  },
  {
   "cell_type": "markdown",
   "id": "60254efe",
   "metadata": {},
   "source": [
    "A *static pattern rule* is a pattern rule that applies to a specific list of target files only."
   ]
  },
  {
   "cell_type": "code",
   "execution_count": null,
   "id": "d57a5754",
   "metadata": {},
   "outputs": [],
   "source": [
    "A.o B.o C.o: %.o: %.c    # Pattern rule applies to 'A.o', 'B.o' and 'C.o' only\n",
    "    command\n",
    "    ..."
   ]
  },
  {
   "cell_type": "markdown",
   "id": "5de1da67",
   "metadata": {},
   "source": [
    "### Built-in Rules <a class=\"anchor\" id=\"built-in-rules\"></a>"
   ]
  },
  {
   "cell_type": "markdown",
   "id": "0888fc7e",
   "metadata": {},
   "source": [
    "An *built-in rule* is a rule that `make` defines implicitly. For example,"
   ]
  },
  {
   "cell_type": "code",
   "execution_count": null,
   "id": "3f0fc462",
   "metadata": {},
   "outputs": [],
   "source": [
    "%.o: %.c                                # One of many implicit rules, defined by `make`\n",
    "    $(CC) $(CPPFLAGS) $(CFLAGS) -c      # Variables, discussed later"
   ]
  },
  {
   "cell_type": "markdown",
   "id": "0e6eee51",
   "metadata": {},
   "source": [
    "*Note:* It is recommended to cancel all built-in rules, by passing the `-r` option to `make`."
   ]
  },
  {
   "cell_type": "markdown",
   "id": "d1cda637",
   "metadata": {},
   "source": [
    "### Wildcards <a class=\"anchor\" id=\"wildcards\"></a>"
   ]
  },
  {
   "cell_type": "markdown",
   "id": "29e0afee",
   "metadata": {},
   "source": [
    "A *wildcard* is a special character(s), that may be placed within a target or prerequisite file names. It is expanded into all matching file names within a directory.\n",
    "* `*` matches anything. For example, `*.c` expands into all *C* source files (within the working directory).\n",
    "* `?` matches a single character. For example, `?.c` expands into all *C* source files with a single letter name.\n",
    "* `[...]` matches a single character, of specific range.\n",
    "    * `tmp[0-9].txt` expands into `tmp0.txt`, `tmp1.txt`, etc, if existing.\n",
    "    * `file.[hc]` expands into `file.c` and `file.h`, if existing.\n",
    "    * `[a-zA-Z].*` expands into all files with a single alphabetical character, and an extension.\n",
    "    \n",
    "*Note:* Wildcards may be used elsewhere using the `wildcard` function, discussed later."
   ]
  },
  {
   "cell_type": "markdown",
   "id": "f5ff9fbc",
   "metadata": {},
   "source": [
    "### The `include` directive <a class=\"anchor\" id=\"the-include-directive\"></a>"
   ]
  },
  {
   "cell_type": "markdown",
   "id": "cd6de697",
   "metadata": {},
   "source": [
    "The `include` directive may be used within a *Makefile* to import another."
   ]
  },
  {
   "cell_type": "code",
   "execution_count": null,
   "id": "1018fc73",
   "metadata": {},
   "outputs": [],
   "source": [
    "include $(CFG_FILE)"
   ]
  },
  {
   "cell_type": "markdown",
   "id": "17da8e17",
   "metadata": {},
   "source": [
    "If the included *Makefile* matched a rule, it will be treated as a target file, and generated, before it is imported."
   ]
  },
  {
   "cell_type": "code",
   "execution_count": null,
   "id": "e9739124",
   "metadata": {},
   "outputs": [],
   "source": [
    "$(CFG_FILE): prerequisites\n",
    "    command\n",
    "    ...\n",
    "\n",
    "include $(CFG_FILE)"
   ]
  },
  {
   "cell_type": "markdown",
   "id": "2413b2dd",
   "metadata": {},
   "source": [
    "## Variables <a class=\"anchor\" id=\"variables\"></a>"
   ]
  },
  {
   "cell_type": "markdown",
   "id": "e11b2a8b",
   "metadata": {},
   "source": [
    "A *variable* may be defined within a *Makefile* to store text, using `:=`."
   ]
  },
  {
   "cell_type": "code",
   "execution_count": null,
   "id": "4fd948fd",
   "metadata": {},
   "outputs": [],
   "source": [
    "SRCS := A.c                # Assign 'A.c'\n",
    "SRCS += B.c                # Append 'B.c'\n",
    "SRCS := $(SRCS) C.c        # Append 'C.c'\n",
    "\n",
    ".PHONY: all\n",
    "\n",
    "all: $(SRCS)\n",
    "    command\n",
    "    ..."
   ]
  },
  {
   "cell_type": "markdown",
   "id": "342479db",
   "metadata": {},
   "source": [
    "*Note:* `+=` may be used to append to a variable.\n",
    "\n",
    "*Note:* Leading spaces are ignored in variable definitions, while trailing spaces are kept. This is usually insignificant, except in conditional directives, discussed later.\n",
    "\n",
    "*Note:* Evaluating an undefined variable yields an empty string, and issues no error. Infact, a variable is considered undefined until it contains a non-empty string.\n",
    "\n",
    "*Note:* It is recommended to define all variables before any rules."
   ]
  },
  {
   "cell_type": "markdown",
   "id": "9dd6e4fe",
   "metadata": {},
   "source": [
    "### Automatic Variables <a class=\"anchor\" id=\"automatic-variables\"></a>"
   ]
  },
  {
   "cell_type": "markdown",
   "id": "bffa24d2",
   "metadata": {},
   "source": [
    "*Automatic variables* are a number of implicitly declared variables within any rule, that may be used within its commands only.\n",
    "* `$@`, denotes the target file name.\n",
    "* `$^`, denotes the names of all prerequisites (exclusive of order-only prerequisites).\n",
    "* `$?`, denotes the names of all prerequisites, that are newer than the target.\n",
    "* `$|`, denotes the names of all order-only prerequisites.\n",
    "* `$*`, denotes the stem of a pattern rule."
   ]
  },
  {
   "cell_type": "code",
   "execution_count": null,
   "id": "329422e8",
   "metadata": {},
   "outputs": [],
   "source": [
    "$(TARGET): $(SRCS)\n",
    "    $(CC) $^ -o $@           # Uses automatic variables, for prerequisites and target"
   ]
  },
  {
   "cell_type": "markdown",
   "id": "60b7d06b",
   "metadata": {},
   "source": [
    "*Note:* `$(@F)`, `$(^F)`, and `$(?F)` evaluate to file names instead of complete paths.\n",
    "\n",
    "*Note:* `$(@D)`, `$(^D)`, and `$(?D)` evaluate to containing directory paths instead of complete paths."
   ]
  },
  {
   "cell_type": "markdown",
   "id": "f5bb5e1c",
   "metadata": {},
   "source": [
    "### Built-in Variables <a class=\"anchor\" id=\"built-in-variables\"></a>"
   ]
  },
  {
   "cell_type": "markdown",
   "id": "80f2f731",
   "metadata": {},
   "source": [
    "A *built-in* variable is an implicitly-defined variable, by `make`."
   ]
  },
  {
   "cell_type": "markdown",
   "id": "e85d8ee1",
   "metadata": {},
   "source": [
    "| Name | Description |\n",
    "| --- | --- |\n",
    "| `MAKECMDGOALS` | The target(s) passed onto `make`, empty if implicitly determined. |"
   ]
  },
  {
   "cell_type": "markdown",
   "id": "323b8acd",
   "metadata": {},
   "source": [
    "### Command-line Variables <a class=\"anchor\" id=\"command-line-variables\"></a>"
   ]
  },
  {
   "cell_type": "markdown",
   "id": "106d89ea",
   "metadata": {},
   "source": [
    "A variable may be passed to `make` in the command-line,\n",
    "\n",
    "`$ make CC:=GCC`\n",
    "\n",
    "And evaluated, like any internally-defined variable, within a *Makefile*."
   ]
  },
  {
   "cell_type": "code",
   "execution_count": null,
   "id": "84b0b14b",
   "metadata": {},
   "outputs": [],
   "source": [
    "main.exe: main.c\n",
    "    $(CC) $^ -o $@           # CMD variable `CC` evaluated, like any internal variable"
   ]
  },
  {
   "cell_type": "markdown",
   "id": "23cac277",
   "metadata": {},
   "source": [
    "To override the value of a command-line variable, preceed its definition with the `override` directive."
   ]
  },
  {
   "cell_type": "code",
   "execution_count": null,
   "id": "84e087c7",
   "metadata": {},
   "outputs": [],
   "source": [
    "override CC := gcc\n",
    "\n",
    "main.exe: main.c\n",
    "    $(CC) $^ -o $@           # CMD variable `CC` evaluated, like any internal variable"
   ]
  },
  {
   "cell_type": "markdown",
   "id": "de235b51",
   "metadata": {},
   "source": [
    "### Target-specific Variables <a class=\"anchor\" id=\"target-specific-variables\"></a>"
   ]
  },
  {
   "cell_type": "markdown",
   "id": "79e6f90d",
   "metadata": {},
   "source": [
    "A variable may have different definitions, each for a different target."
   ]
  },
  {
   "cell_type": "code",
   "execution_count": null,
   "id": "7ebf2525",
   "metadata": {},
   "outputs": [],
   "source": [
    "CFG := A                   # Default 'CFG' definition\n",
    "%.o: CFG := B              # 'CFG' definition for any object file, as target\n",
    "x.o: CFG := C              # 'CFG' definition of 'x.o', as target"
   ]
  },
  {
   "cell_type": "markdown",
   "id": "c1be82e8",
   "metadata": {},
   "source": [
    "*Note:* A target-specific definition is prioritized over a pattern-specific definition."
   ]
  },
  {
   "cell_type": "markdown",
   "id": "661ebff4",
   "metadata": {},
   "source": [
    "### Conditional directives <a class=\"anchor\" id=\"conditional-directives\"></a>"
   ]
  },
  {
   "cell_type": "markdown",
   "id": "9a123ec9",
   "metadata": {},
   "source": [
    "A *conditional directive* controls which lines, usually those that define variables, are included within a *Makefile*."
   ]
  },
  {
   "cell_type": "code",
   "execution_count": null,
   "id": "e81eca0c",
   "metadata": {},
   "outputs": [],
   "source": [
    "conditional-directive-1\n",
    "    VAR := VALUE-1\n",
    "else conditional-directive-2\n",
    "    VAR := VALUE-2\n",
    "endif"
   ]
  },
  {
   "cell_type": "markdown",
   "id": "3bf14ed2",
   "metadata": {},
   "source": [
    "There are four types of conditional directives in `make`."
   ]
  },
  {
   "cell_type": "code",
   "execution_count": null,
   "id": "989bd71a",
   "metadata": {},
   "outputs": [],
   "source": [
    "ifeq ($(A), $(B))          # True, if the two arguments are equal, inclusive of trailing spaces"
   ]
  },
  {
   "cell_type": "code",
   "execution_count": null,
   "id": "bd4c88fd",
   "metadata": {},
   "outputs": [],
   "source": [
    "ifneq ($(A), $(B))         # Complements `ifeq`"
   ]
  },
  {
   "cell_type": "code",
   "execution_count": null,
   "id": "90cd9cc1",
   "metadata": {},
   "outputs": [],
   "source": [
    "ifdef VAR                  # True, if 'VAR' is a non-empty variable"
   ]
  },
  {
   "cell_type": "code",
   "execution_count": null,
   "id": "dffdb9e1",
   "metadata": {},
   "outputs": [],
   "source": [
    "ifndef VAR                 # Complements 'ifndef'"
   ]
  },
  {
   "cell_type": "markdown",
   "id": "fbd210fd",
   "metadata": {},
   "source": [
    "## Functions <a class=\"anchor\" id=\"functions\"></a>"
   ]
  },
  {
   "cell_type": "markdown",
   "id": "c9034e46",
   "metadata": {},
   "source": [
    "A *function* is called using the following syntax."
   ]
  },
  {
   "cell_type": "code",
   "execution_count": null,
   "id": "98cd10c7",
   "metadata": {},
   "outputs": [],
   "source": [
    "$(func-name arg1,arg2,...)"
   ]
  },
  {
   "cell_type": "markdown",
   "id": "16fea706",
   "metadata": {},
   "source": [
    "*Note:* Only leading trails of the first argument are ignored."
   ]
  },
  {
   "cell_type": "markdown",
   "id": "c2dcc526",
   "metadata": {},
   "source": [
    "To use a comma within a function call, it must be wrapped in a variable. This works because splitting of arguments occurs after variable expansion.\n",
    "\n",
    "Similarly, to define a single whitespace character, to be used in function calls, some trickery is employed."
   ]
  },
  {
   "cell_type": "code",
   "execution_count": null,
   "id": "dbd73fc9",
   "metadata": {},
   "outputs": [],
   "source": [
    "SRCS := x.c y.c z.c\n",
    "\n",
    "comma := ,\n",
    "empty :=\n",
    "space := $(empty) $(empty)\n",
    "SRCS := $(subst $(space),$(comma),$(SRCS))         # 'SRCS' contains 'x.c,y.c,z.c'"
   ]
  },
  {
   "cell_type": "markdown",
   "id": "183d259c",
   "metadata": {},
   "source": [
    "### String Manipulation Functions <a class=\"anchor\" id=\"string-manipulation-functions\"></a>"
   ]
  },
  {
   "cell_type": "markdown",
   "id": "31811673",
   "metadata": {},
   "source": [
    "#### The `subst` function <a class=\"anchor\" id=\"the-subst-function\"></a>"
   ]
  },
  {
   "cell_type": "markdown",
   "id": "4bf468b2",
   "metadata": {},
   "source": [
    "`subst` replaces every occurence of `from` with `to` in `text`"
   ]
  },
  {
   "cell_type": "code",
   "execution_count": null,
   "id": "0d0b9bca",
   "metadata": {},
   "outputs": [],
   "source": [
    "$(subst from,to,text)"
   ]
  },
  {
   "cell_type": "markdown",
   "id": "ce442b16",
   "metadata": {},
   "source": [
    "#### The `patsubst` function <a class=\"anchor\" id=\"the-patsubst-function\"></a>"
   ]
  },
  {
   "cell_type": "markdown",
   "id": "ec7d77b9",
   "metadata": {},
   "source": [
    "`patsubst` replaces every whitespace-separated word in `text`, matching `from`, with `to`, both of which may employ patterns."
   ]
  },
  {
   "cell_type": "code",
   "execution_count": null,
   "id": "6af8b8b4",
   "metadata": {},
   "outputs": [],
   "source": [
    "$(subst from,to,text)"
   ]
  },
  {
   "cell_type": "code",
   "execution_count": null,
   "id": "8d441277",
   "metadata": {},
   "outputs": [],
   "source": [
    "$(subst %.c,%.o,x.c y.c x.h y.h)        # yields 'x.o y.o x.h y.h'"
   ]
  },
  {
   "cell_type": "markdown",
   "id": "9e2aa54f",
   "metadata": {},
   "source": [
    "A shorthand is defined for the most common use of `patsubst`, to replace suffixes (or, extensions)."
   ]
  },
  {
   "cell_type": "code",
   "execution_count": null,
   "id": "48bf2f8b",
   "metadata": {},
   "outputs": [],
   "source": [
    "$(var:suffix=replacement)"
   ]
  },
  {
   "cell_type": "code",
   "execution_count": null,
   "id": "fdc4efb0",
   "metadata": {},
   "outputs": [],
   "source": [
    "SRCS := x.c y.c z.c\n",
    "OBJS := $(SRCS:.c=.h)                   # yields 'x.o y.o z.o' "
   ]
  },
  {
   "cell_type": "markdown",
   "id": "504d93cd",
   "metadata": {},
   "source": [
    "#### The `strip` function <a class=\"anchor\" id=\"the-strip-function\"></a>"
   ]
  },
  {
   "cell_type": "markdown",
   "id": "078efd3b",
   "metadata": {},
   "source": [
    "`strip` removes leading and trailing whitespace from `string`, and replaces each internal sequence of whitespace characters with a single one."
   ]
  },
  {
   "cell_type": "code",
   "execution_count": null,
   "id": "1d58f765",
   "metadata": {},
   "outputs": [],
   "source": [
    "$(strip string)"
   ]
  },
  {
   "cell_type": "code",
   "execution_count": null,
   "id": "b55bad34",
   "metadata": {},
   "outputs": [],
   "source": [
    "SRCS := x.c    y.c  z.c   \n",
    "SRCS := $(strip $(SRCS))                # yields 'x.c y.c z.c'"
   ]
  },
  {
   "cell_type": "markdown",
   "id": "a0af18b1",
   "metadata": {},
   "source": [
    "#### The `findstring` function <a class=\"anchor\" id=\"the-findstring-function\"></a>"
   ]
  },
  {
   "cell_type": "markdown",
   "id": "0c600d30",
   "metadata": {},
   "source": [
    "`findstring` searches for `find` in `in`. \n",
    "* If found, it yields `find`.\n",
    "* If not found, it yields an empty string."
   ]
  },
  {
   "cell_type": "code",
   "execution_count": null,
   "id": "df1bc3df",
   "metadata": {},
   "outputs": [],
   "source": [
    "$(findstring find,in)"
   ]
  },
  {
   "cell_type": "markdown",
   "id": "4eb59d78",
   "metadata": {},
   "source": [
    "#### The `filter` function <a class=\"anchor\" id=\"the-filter-function\"></a>"
   ]
  },
  {
   "cell_type": "markdown",
   "id": "1d830bcd",
   "metadata": {},
   "source": [
    "`filter` returns all whitespace-separated words in `text` that do match any of the pattern words."
   ]
  },
  {
   "cell_type": "code",
   "execution_count": null,
   "id": "25df97c7",
   "metadata": {},
   "outputs": [],
   "source": [
    "$(filter pattern,text)"
   ]
  },
  {
   "cell_type": "code",
   "execution_count": null,
   "id": "3fb54d48",
   "metadata": {},
   "outputs": [],
   "source": [
    "SRCS := x.c x.s x.h\n",
    "SRCS := $(filter %.c %.s,$(SRCS))         # yields 'x.c x.s'"
   ]
  },
  {
   "cell_type": "markdown",
   "id": "462d820a",
   "metadata": {},
   "source": [
    "*Note:* The `filter-out` function complements the `filter` function."
   ]
  },
  {
   "cell_type": "markdown",
   "id": "25d40221",
   "metadata": {},
   "source": [
    "#### The `sort` function <a class=\"anchor\" id=\"the-sort-function\"></a>"
   ]
  },
  {
   "cell_type": "markdown",
   "id": "8b4ff70f",
   "metadata": {},
   "source": [
    "`sort` returns all whitespace-separated words in lexical order, removing duplicates."
   ]
  },
  {
   "cell_type": "code",
   "execution_count": null,
   "id": "ad0d3dd0",
   "metadata": {},
   "outputs": [],
   "source": [
    "$(sort list)"
   ]
  },
  {
   "cell_type": "code",
   "execution_count": null,
   "id": "d3fd4763",
   "metadata": {},
   "outputs": [],
   "source": [
    "$(sort b a a c b)                            # yields 'a b c'"
   ]
  },
  {
   "cell_type": "markdown",
   "id": "f45deb76",
   "metadata": {},
   "source": [
    "#### The `word` function <a class=\"anchor\" id=\"the-word-function\"></a>"
   ]
  },
  {
   "cell_type": "markdown",
   "id": "55eef732",
   "metadata": {},
   "source": [
    "`word` returns the *nth* whitespace-separated word, represented by `n` and using one-based indexing, in `text`."
   ]
  },
  {
   "cell_type": "code",
   "execution_count": null,
   "id": "8b02925b",
   "metadata": {},
   "outputs": [],
   "source": [
    "$(word n,text)"
   ]
  },
  {
   "cell_type": "markdown",
   "id": "3630ecea",
   "metadata": {},
   "source": [
    "*Note:* If `n` exceeds the number of words in `text`, an empty string is returned."
   ]
  },
  {
   "cell_type": "markdown",
   "id": "9525d9bd",
   "metadata": {},
   "source": [
    "#### The `wordlist` function <a class=\"anchor\" id=\"the-wordlist-function\"></a>"
   ]
  },
  {
   "cell_type": "markdown",
   "id": "bb893cb9",
   "metadata": {},
   "source": [
    "`wordlist` returns whitespace-separated words from text, from index `i` to `j`, one-based and all-inclusive."
   ]
  },
  {
   "cell_type": "code",
   "execution_count": null,
   "id": "b51ed361",
   "metadata": {},
   "outputs": [],
   "source": [
    "$(wordlist i,j,text)"
   ]
  },
  {
   "cell_type": "markdown",
   "id": "425ff178",
   "metadata": {},
   "source": [
    "#### The `words` function <a class=\"anchor\" id=\"the-words-function\"></a>"
   ]
  },
  {
   "cell_type": "markdown",
   "id": "6efa962e",
   "metadata": {},
   "source": [
    "`words` returns the number of whitespace-separated words in `text`."
   ]
  },
  {
   "cell_type": "code",
   "execution_count": null,
   "id": "f1a9d5af",
   "metadata": {},
   "outputs": [],
   "source": [
    "$(words text)"
   ]
  },
  {
   "cell_type": "markdown",
   "id": "1ee603c4",
   "metadata": {},
   "source": [
    "#### The `firstword` function <a class=\"anchor\" id=\"the-firstword-function\"></a>"
   ]
  },
  {
   "cell_type": "markdown",
   "id": "412e909b",
   "metadata": {},
   "source": [
    "`firstword` returns the first whitespace-separated word in `text`."
   ]
  },
  {
   "cell_type": "code",
   "execution_count": null,
   "id": "911f2131",
   "metadata": {},
   "outputs": [],
   "source": [
    "$(firstword text)"
   ]
  },
  {
   "cell_type": "markdown",
   "id": "60494825",
   "metadata": {},
   "source": [
    "*Note:* The `lastword` function returns the last whitespace-separated word, instead."
   ]
  },
  {
   "cell_type": "markdown",
   "id": "bb8e21f2",
   "metadata": {},
   "source": [
    "### Filename Functions <a class=\"anchor\" id=\"filename-functions\"></a>"
   ]
  },
  {
   "cell_type": "markdown",
   "id": "e21f358f",
   "metadata": {},
   "source": [
    "#### The `dir` function <a class=\"anchor\" id=\"the-dir-function\"></a>"
   ]
  },
  {
   "cell_type": "markdown",
   "id": "52b788d5",
   "metadata": {},
   "source": [
    "`dir` returns the directory part of all files in a list of files."
   ]
  },
  {
   "cell_type": "code",
   "execution_count": null,
   "id": "9e136324",
   "metadata": {},
   "outputs": [],
   "source": [
    "$(dir list)"
   ]
  },
  {
   "cell_type": "markdown",
   "id": "c461c9fc",
   "metadata": {},
   "source": [
    "*Note:* If a file contains no slashes, `./` is returned."
   ]
  },
  {
   "cell_type": "markdown",
   "id": "54a8229a",
   "metadata": {},
   "source": [
    "#### The `notdir` function <a class=\"anchor\" id=\"the-notdir-function\"></a>"
   ]
  },
  {
   "cell_type": "markdown",
   "id": "95ac2640",
   "metadata": {},
   "source": [
    "`notdir` returns the file name of all files in a list of files."
   ]
  },
  {
   "cell_type": "code",
   "execution_count": null,
   "id": "228fe787",
   "metadata": {},
   "outputs": [],
   "source": [
    "$(notdir list)"
   ]
  },
  {
   "cell_type": "markdown",
   "id": "1de514d2",
   "metadata": {},
   "source": [
    "*Note:* If a file ends with a slash, it is replaced with an empty string."
   ]
  },
  {
   "cell_type": "markdown",
   "id": "d089ec1b",
   "metadata": {},
   "source": [
    "#### The `suffix` function <a class=\"anchor\" id=\"the-suffix-function\"></a>"
   ]
  },
  {
   "cell_type": "markdown",
   "id": "d882a959",
   "metadata": {},
   "source": [
    "`suffix` extracts the suffix (or, extension) of each file in a list of files."
   ]
  },
  {
   "cell_type": "code",
   "execution_count": null,
   "id": "bdfe56ac",
   "metadata": {},
   "outputs": [],
   "source": [
    "$(suffix list)"
   ]
  },
  {
   "cell_type": "markdown",
   "id": "2c20886a",
   "metadata": {},
   "source": [
    "*Note:* If a file has no extension, it is replaced with an empty string."
   ]
  },
  {
   "cell_type": "markdown",
   "id": "ec182c7e",
   "metadata": {},
   "source": [
    "*Note:* The `basename` function extracts all, but the suffix of each file in a list of files."
   ]
  },
  {
   "cell_type": "markdown",
   "id": "b68d1341",
   "metadata": {},
   "source": [
    "#### The `addsuffix` function <a class=\"anchor\" id=\"the-addsuffix-function\"></a>"
   ]
  },
  {
   "cell_type": "markdown",
   "id": "a5beba5e",
   "metadata": {},
   "source": [
    "`addsuffix` appends `suffix` to each file in a list of files."
   ]
  },
  {
   "cell_type": "code",
   "execution_count": null,
   "id": "bcf99804",
   "metadata": {},
   "outputs": [],
   "source": [
    "$(addsuffix suffix,list)"
   ]
  },
  {
   "cell_type": "code",
   "execution_count": null,
   "id": "f8733d95",
   "metadata": {},
   "outputs": [],
   "source": [
    "$(addsuffix .c,x y z)                   # yields 'x.c y.c z.c'"
   ]
  },
  {
   "cell_type": "markdown",
   "id": "0a1db78b",
   "metadata": {},
   "source": [
    "*Note:* The `addprefix` function appends `prefix` to each file in a list of files."
   ]
  },
  {
   "cell_type": "markdown",
   "id": "9331d762",
   "metadata": {},
   "source": [
    "#### The `join` function <a class=\"anchor\" id=\"the-join-function\"></a>"
   ]
  },
  {
   "cell_type": "markdown",
   "id": "1c5be6a1",
   "metadata": {},
   "source": [
    "`join` merges a list of whitespace-separated words, usually files, with another, pairwise."
   ]
  },
  {
   "cell_type": "code",
   "execution_count": null,
   "id": "cc2f583f",
   "metadata": {},
   "outputs": [],
   "source": [
    "$(join list1,list2)"
   ]
  },
  {
   "cell_type": "code",
   "execution_count": null,
   "id": "abeb9d7b",
   "metadata": {},
   "outputs": [],
   "source": [
    "$(join .c .h .s,x y z)                  # yields 'x.c y.h z.s'"
   ]
  },
  {
   "cell_type": "code",
   "execution_count": null,
   "id": "c8c9be3e",
   "metadata": {},
   "outputs": [],
   "source": [
    "$(join .c .h,x y z)                     # yields 'x.c y.h z'"
   ]
  },
  {
   "cell_type": "markdown",
   "id": "f718b86c",
   "metadata": {},
   "source": [
    "*Note:* If one list has more words than the other, the extra words are appended unchanged."
   ]
  },
  {
   "cell_type": "markdown",
   "id": "82f0a44d",
   "metadata": {},
   "source": [
    "#### The `wildcard` function <a class=\"anchor\" id=\"the-wildcard-function\"></a>"
   ]
  },
  {
   "cell_type": "markdown",
   "id": "ee06f1a9",
   "metadata": {},
   "source": [
    "`wildcard` allows the expansion of wildcards, within `text`, anywhere in a *Makefile*."
   ]
  },
  {
   "cell_type": "code",
   "execution_count": null,
   "id": "4d3a3b86",
   "metadata": {},
   "outputs": [],
   "source": [
    "$(wildcard text)"
   ]
  },
  {
   "cell_type": "code",
   "execution_count": null,
   "id": "7533b6ed",
   "metadata": {},
   "outputs": [],
   "source": [
    "$(wildcard *.c)                         # yields a list of all C source files, within the working directory"
   ]
  },
  {
   "cell_type": "markdown",
   "id": "76070126",
   "metadata": {},
   "source": [
    "#### The `realpath` function <a class=\"anchor\" id=\"the-realpath-function\"></a>"
   ]
  },
  {
   "cell_type": "markdown",
   "id": "3dcb6c95",
   "metadata": {},
   "source": [
    "`realpath` returns the real path of each file in a list of files."
   ]
  },
  {
   "cell_type": "code",
   "execution_count": null,
   "id": "aeb2713b",
   "metadata": {},
   "outputs": [],
   "source": [
    "$(realpath list)"
   ]
  },
  {
   "cell_type": "markdown",
   "id": "14e92f53",
   "metadata": {},
   "source": [
    "*Note:* The `abspath` function returns the absolute path of each file in a list of files."
   ]
  },
  {
   "cell_type": "markdown",
   "id": "84574a9c",
   "metadata": {},
   "source": [
    "*Note:* The absolute path of a shortcut is the shortcut's path, and the real path is the location of the file it points to. In most cases, however, the absolute and real paths for a file do not differ."
   ]
  },
  {
   "cell_type": "markdown",
   "id": "32634409",
   "metadata": {},
   "source": [
    "### Conditional Functions <a class=\"anchor\" id=\"conditional-functions\"></a>"
   ]
  },
  {
   "cell_type": "markdown",
   "id": "18f5504e",
   "metadata": {},
   "source": [
    "#### The `if` function <a class=\"anchor\" id=\"the-if-function\"></a>"
   ]
  },
  {
   "cell_type": "markdown",
   "id": "b59eb19e",
   "metadata": {},
   "source": [
    "The `if` function evaluates to `then` if `condition` is not an empty string, otherwise `else`."
   ]
  },
  {
   "cell_type": "code",
   "execution_count": null,
   "id": "8b0903a2",
   "metadata": {},
   "outputs": [],
   "source": [
    "$(if condition,then)                # If condition is an empty string, an empty string is returned"
   ]
  },
  {
   "cell_type": "code",
   "execution_count": null,
   "id": "448a5687",
   "metadata": {},
   "outputs": [],
   "source": [
    "$(if condition,then,else)           # If condition is an empty string,'else' is returned"
   ]
  },
  {
   "cell_type": "markdown",
   "id": "180416d0",
   "metadata": {},
   "source": [
    "*Note:* The `and` and `or` functions may be used as logical operators."
   ]
  },
  {
   "cell_type": "markdown",
   "id": "06d56689",
   "metadata": {},
   "source": [
    "### Miscellaneous Functions <a class=\"anchor\" id=\"miscellaneous-functions\"></a>"
   ]
  },
  {
   "cell_type": "markdown",
   "id": "77bead6f",
   "metadata": {},
   "source": [
    "#### The `foreach` function <a class=\"anchor\" id=\"the-foreach-function\"></a>"
   ]
  },
  {
   "cell_type": "markdown",
   "id": "5c781049",
   "metadata": {},
   "source": [
    "The `foreach` function assigns each whitespace-separated word in `list` to `var`, within every iteration, and evaluates `text` that may contain `var`."
   ]
  },
  {
   "cell_type": "code",
   "execution_count": null,
   "id": "0511bcad",
   "metadata": {},
   "outputs": [],
   "source": [
    "$(foreach var,list,text)"
   ]
  },
  {
   "cell_type": "code",
   "execution_count": null,
   "id": "56ca8cd3",
   "metadata": {},
   "outputs": [],
   "source": [
    "$(foreach dir,x y z,$(wildcard dir/*.c))          # yields all C Source files within a list of directories"
   ]
  },
  {
   "cell_type": "markdown",
   "id": "db1d2b2a",
   "metadata": {},
   "source": [
    "*Note:* Whitespace is placed between each of the non-empty strings that each iteration produces."
   ]
  },
  {
   "cell_type": "markdown",
   "id": "7753bf81",
   "metadata": {},
   "source": [
    "#### The `call` function <a class=\"anchor\" id=\"the-call-function\"></a>"
   ]
  },
  {
   "cell_type": "markdown",
   "id": "1cccfb62",
   "metadata": {},
   "source": [
    "The `call` function allows the calling of user-defined functions.\n",
    " \n",
    "A user defined function uses the delayed-expansion assignment operator `=`, instead of `:=`. Additionally, special variables, that begin with `$(1)`, and count upwards, are used to denote function parameters."
   ]
  },
  {
   "cell_type": "code",
   "execution_count": null,
   "id": "9b687e5a",
   "metadata": {},
   "outputs": [],
   "source": [
    "$(call function,arg1,arg2,...)"
   ]
  },
  {
   "cell_type": "code",
   "execution_count": null,
   "id": "f35f68bb",
   "metadata": {},
   "outputs": [],
   "source": [
    "swap = $(2) $(1)                        # 'swap' function: swaps two passed arguments\n",
    "swapped := call(swap,A,B)               # yields 'B A'"
   ]
  },
  {
   "cell_type": "markdown",
   "id": "3bf6e460",
   "metadata": {},
   "source": [
    "*Note:* A missing argument becomes an empty string, while an extra argument is ignored."
   ]
  },
  {
   "cell_type": "markdown",
   "id": "7d31c840",
   "metadata": {},
   "source": [
    "#### The `shell` function <a class=\"anchor\" id=\"the-shell-function\"></a>"
   ]
  },
  {
   "cell_type": "markdown",
   "id": "3576d8b8",
   "metadata": {},
   "source": [
    "The `shell` function runs a command in a (separate) shell, and routes the standard output to replace the `shell` function call."
   ]
  },
  {
   "cell_type": "code",
   "execution_count": null,
   "id": "cbb59ba0",
   "metadata": {},
   "outputs": [],
   "source": [
    "$(shell command)"
   ]
  },
  {
   "cell_type": "markdown",
   "id": "88ff2e79",
   "metadata": {},
   "source": [
    "*Note:* The `shell` function replaces newline characters in the output with a single space."
   ]
  },
  {
   "cell_type": "markdown",
   "id": "74d4c930",
   "metadata": {},
   "source": [
    "#### The `error` function <a class=\"anchor\" id=\"the-error-function\"></a>"
   ]
  },
  {
   "cell_type": "markdown",
   "id": "6df5109f",
   "metadata": {},
   "source": [
    "The `error` function prints an error message, before force-terminating `make`."
   ]
  },
  {
   "cell_type": "code",
   "execution_count": null,
   "id": "30d5f307",
   "metadata": {},
   "outputs": [],
   "source": [
    "$(error message)"
   ]
  },
  {
   "cell_type": "markdown",
   "id": "c5e7a23b",
   "metadata": {},
   "source": [
    "*Note:* The `error` function, and all reporting functions, may be used as commands, or within conditional directives."
   ]
  },
  {
   "cell_type": "markdown",
   "id": "1f2f04df",
   "metadata": {},
   "source": [
    "The `warning` function prints a warning message, without terminating."
   ]
  },
  {
   "cell_type": "code",
   "execution_count": null,
   "id": "82f31113",
   "metadata": {},
   "outputs": [],
   "source": [
    "$(warning message)"
   ]
  },
  {
   "cell_type": "markdown",
   "id": "018efc2f",
   "metadata": {},
   "source": [
    "The `info` function prints an informative message, and is equivalent to `echo message` in many shells."
   ]
  },
  {
   "cell_type": "code",
   "execution_count": null,
   "id": "620d8c31",
   "metadata": {},
   "outputs": [],
   "source": [
    "$(info message)"
   ]
  }
 ],
 "metadata": {
  "kernelspec": {
   "display_name": "Python 3 (ipykernel)",
   "language": "python",
   "name": "python3"
  },
  "language_info": {
   "codemirror_mode": {
    "name": "ipython",
    "version": 3
   },
   "file_extension": ".py",
   "mimetype": "text/x-python",
   "name": "python",
   "nbconvert_exporter": "python",
   "pygments_lexer": "ipython3",
   "version": "3.8.10"
  }
 },
 "nbformat": 4,
 "nbformat_minor": 5
}
