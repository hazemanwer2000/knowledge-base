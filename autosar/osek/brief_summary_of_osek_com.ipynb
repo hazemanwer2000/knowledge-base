{
 "cells": [
  {
   "cell_type": "markdown",
   "id": "d582f54b",
   "metadata": {},
   "source": [
    "# A brief summary of *OSEK COM*\n",
    "<br>\n",
    "<div style=\"opacity: 0.8; font-family: Consolas, Monaco, Lucida Console, Liberation Mono, DejaVu Sans Mono, Bitstream Vera Sans Mono, Courier New; font-size: 12px; font-style: italic;\">\n",
    "    \u2500\u2500\u2500\u2500\u2500\u2500\u2500\u2500\n",
    "    for more from the author, visit\n",
    "    <a href=\"https://github.com/hazemanwer2000\">github.com/hazemanwer2000</a>.\n",
    "    \u2500\u2500\u2500\u2500\u2500\u2500\u2500\u2500\n",
    "</div>"
   ]
  },
  {
   "cell_type": "markdown",
   "id": "31bf0648",
   "metadata": {},
   "source": [
    "## Table of Contents\n",
    "* [Data Types](#data-types)\n",
    "* [System Calls](#system-calls)\n",
    "  * [Start-up Services](#start-up-services)\n",
    "    * [`StartCOM`](#startcom)\n",
    "    * [`StopCOM`](#stopcom)\n",
    "    * [`GetCOMApplicationMode`](#getcomapplicationmode)\n",
    "    * [`InitMessage`](#initmessage)\n",
    "    * [`StartPeriodic`](#startperiodic)\n",
    "    * [`StopPeriodic`](#stopperiodic)\n",
    "  * [Notification Services](#notification-services)\n",
    "    * [`ReadFlag`](#readflag)\n",
    "    * [`ResetFlag`](#resetflag)\n",
    "  * [Communication Services](#communication-services)\n",
    "    * [`SendMessage`](#sendmessage)\n",
    "    * [`ReceiveMessage`](#receivemessage)\n",
    "    * [`SendDynamicMessage`](#senddynamicmessage)\n",
    "    * [`ReceiveDynamicMessage`](#receivedynamicmessage)\n",
    "    * [`SendZeroMessage`](#sendzeromessage)\n",
    "    * [`GetMessageStatus`](#getmessagestatus)\n",
    "    * [`COMErrorGetServiceId`](#comerrorgetserviceid)\n",
    "  * [User-provided Routines](#user-provided-routines)\n",
    "    * [`StartCOMExtension`](#startcomextension)\n",
    "    * [`COMCallout(ROUTINE-NAME)`](#comcallout-routine-name)\n",
    "    * [`COMErrorHook`](#comerrorhook)\n",
    "* [Specification](#specification)\n",
    "  * [Transmission](#transmission)\n",
    "    * [Internal Communication](#internal-communication)\n",
    "    * [External Communication](#external-communication)\n",
    "      * [*Minimum Delay Time (MDT)*](#minimum-delay-time-mdt)\n",
    "  * [Reception](#reception)\n",
    "  * [Message Filtering](#message-filtering)\n",
    "    * [Reception Filtering](#reception-filtering)\n",
    "    * [Transmission Filtering](#transmission-filtering)\n",
    "  * [Notification](#notification)\n",
    "    * [Notification Mechanisms](#notification-mechanisms)\n",
    "  * [Deadline Monitoring](#deadline-monitoring)\n",
    "    * [Reception Deadline Monitoring](#reception-deadline-monitoring)\n",
    "    * [Transmission Deadline Monitoring](#transmission-deadline-monitoring)\n",
    "  * [Callouts](#callouts)\n",
    "  * [Dynamic and Zero-length Messages](#dynamic-and-zero-length-messages)\n",
    "    * [Dynamic Messages](#dynamic-messages)\n",
    "    * [Zero-length Messages](#zero-length-messages)\n"
   ]
  },
  {
   "cell_type": "markdown",
   "id": "b0263b07-1362-4525-82e6-a5b919bd8b7e",
   "metadata": {},
   "source": [
    "Before reading this document, sift through a *Brief Summary of OSEK OS*."
   ]
  },
  {
   "cell_type": "markdown",
   "id": "f332a42b-c713-47b0-87ad-e1d841c76415",
   "metadata": {},
   "source": [
    "## Data Types <a class=\"anchor\" id=\"data-types\"></a>"
   ]
  },
  {
   "cell_type": "markdown",
   "id": "d0ddb8d8-5db6-4443-93ed-0d24b40caa3e",
   "metadata": {},
   "source": [
    "| | |\n",
    "| --- | --- |\n",
    "| *Name* | `MessageIdentifier` |\n",
    "| *Description* | This type represents the identifier of a message object."
   ]
  },
  {
   "cell_type": "markdown",
   "id": "89c26a7b-d1ee-4118-b594-5712d6a6c514",
   "metadata": {},
   "source": [
    "| | |\n",
    "| --- | --- |\n",
    "| *Name* | `ApplicationDataRef` |\n",
    "| *Description* | This pointer type references data in the application."
   ]
  },
  {
   "cell_type": "markdown",
   "id": "83b5b954-f336-493c-a922-610c19feed4a",
   "metadata": {},
   "source": [
    "| | |\n",
    "| --- | --- |\n",
    "| *Name* | `COMLengthType` |\n",
    "| *Description* | This type represents length, of data, in general."
   ]
  },
  {
   "cell_type": "markdown",
   "id": "37a5ac98-f99b-47f1-acd2-df4a4f520b5b",
   "metadata": {},
   "source": [
    "| | |\n",
    "| --- | --- |\n",
    "| *Name* | `LengthRef` |\n",
    "| *Description* | This pointer type is a `COMLengthType` reference."
   ]
  },
  {
   "cell_type": "markdown",
   "id": "7fefbb89-1a04-48a9-b8bc-5f883afdbed3",
   "metadata": {},
   "source": [
    "| | |\n",
    "| --- | --- |\n",
    "| *Name* | `FlagValue` |\n",
    "| *Description* | This type represents a boolean flag, with either `COM_TRUE` or `COM_FALSE` set."
   ]
  },
  {
   "cell_type": "markdown",
   "id": "d8d783b6-0f0c-49a3-a9bb-727596c082b9",
   "metadata": {},
   "source": [
    "| | |\n",
    "| --- | --- |\n",
    "| *Name* | `COMApplicationModeType` |\n",
    "| *Description* | This type represents a COM-specific application mode."
   ]
  },
  {
   "cell_type": "markdown",
   "id": "5439f52d-8f46-4f2c-aaa2-cbc1e8e46b2a",
   "metadata": {},
   "source": [
    "| | |\n",
    "| --- | --- |\n",
    "| *Name* | `COMShutdownModeType` |\n",
    "| *Description* | This type represents a COM-specific shutdown mode."
   ]
  },
  {
   "cell_type": "markdown",
   "id": "752f6b19-dcab-49b1-958f-5f9213017418",
   "metadata": {},
   "source": [
    "| | |\n",
    "| --- | --- |\n",
    "| *Name* | `CalloutReturnType` |\n",
    "| *Description* | This type usually represents a boolean flag, with either `COM_TRUE` or `COM_FALSE` set. <br> It is returned by COM callout functions."
   ]
  },
  {
   "cell_type": "markdown",
   "id": "bc3fb02e-2914-4ded-b10a-6c00c8f0b93a",
   "metadata": {},
   "source": [
    "| | |\n",
    "| --- | --- |\n",
    "| *Name* | `COMServiceIdType` |\n",
    "| *Description* | This type represents the identifier of a COM service (i.e, system call)."
   ]
  },
  {
   "cell_type": "markdown",
   "id": "7c8bf061-de12-48a3-a19c-3551f2942f30",
   "metadata": {},
   "source": [
    "*Note:* All COM service identifiers are available as macros of the following format: `COMServiceId_UNIQUE-NAME`."
   ]
  },
  {
   "cell_type": "markdown",
   "id": "bef30ecf-35ff-49f7-8da5-fe3fe36ed2a7",
   "metadata": {},
   "source": [
    "## System Calls <a class=\"anchor\" id=\"system-calls\"></a>"
   ]
  },
  {
   "cell_type": "markdown",
   "id": "98acecae-a6d9-470d-b6f0-70195c23a163",
   "metadata": {},
   "source": [
    "### Start-up Services <a class=\"anchor\" id=\"start-up-services\"></a>"
   ]
  },
  {
   "cell_type": "markdown",
   "id": "2184d709-35d1-4844-9f94-afcbb0b915ad",
   "metadata": {},
   "source": [
    "#### `StartCOM` <a class=\"anchor\" id=\"startcom\"></a>"
   ]
  },
  {
   "cell_type": "markdown",
   "id": "1c2288db-33ef-4d7a-bf92-19fcb492ec91",
   "metadata": {},
   "source": [
    "| | |\n",
    "| --- | --- |\n",
    "| *API* | `StartCOM(COMApplicationModeType mode)` |\n",
    "| *Description* | This API initializes the *OSEK COM* implementation. <br> Implementation-specific (i.e, hardware-related) settings must be configured before calling `StartCOM(..)`."
   ]
  },
  {
   "cell_type": "markdown",
   "id": "8b1d9a6c-0f72-4edf-9995-4e588176f137",
   "metadata": {},
   "source": [
    "*Note:* For an *OSEK-compliant* OS, `StartCOM(..)` must be called from within a task.\n",
    "\n",
    "*Note:* Before returning, `StartCOMExtension(..)`, a user-defined routine, is called.\n",
    "\n",
    "*Note:* `StartCOM(..)` does not enable the periodic transmission of messages (i.e, call `StartPeriodic(..)`). Optionally, `StartCOMExtension(..)` may perform this."
   ]
  },
  {
   "cell_type": "markdown",
   "id": "9e9b981e-2809-478e-9e43-1c225ed45266",
   "metadata": {},
   "source": [
    "#### `StopCOM` <a class=\"anchor\" id=\"stopcom\"></a>"
   ]
  },
  {
   "cell_type": "markdown",
   "id": "a88bcc37-fb5a-4182-9d1d-09945643c564",
   "metadata": {},
   "source": [
    "| | |\n",
    "| --- | --- |\n",
    "| *API* | `StopCOM(COMShutdownModeType mode)` |\n",
    "| *Description* | This API shuts down the *OSEK COM* implementation. <br> If successfull, `StartCOM(..)` may be called to re-initialize the implementation."
   ]
  },
  {
   "cell_type": "markdown",
   "id": "c00cf308-36ad-4e2d-ba01-c046e97318a5",
   "metadata": {},
   "source": [
    "*Note:* *OSEK COM* defines `COM_SHUTDOWN_IMMEDIATE` as a `ShutdownModeType`, whereby communication activity ceases immediately."
   ]
  },
  {
   "cell_type": "markdown",
   "id": "97d72f3c-7906-463b-9a7e-797762e6fe78",
   "metadata": {},
   "source": [
    "#### `GetCOMApplicationMode` <a class=\"anchor\" id=\"getcomapplicationmode\"></a>"
   ]
  },
  {
   "cell_type": "markdown",
   "id": "51cfc133-0084-4547-b084-a33a1ce3b7a1",
   "metadata": {},
   "source": [
    "| | |\n",
    "| --- | --- |\n",
    "| *API* | `COMApplicationModeType GetCOMApplicationMode()` |\n",
    "| *Description* | This API returns the current COM application mode. <br> It must be called after `StartCOM` has been called (i.e, `StartCOMExtension(..)` may call it)."
   ]
  },
  {
   "cell_type": "markdown",
   "id": "0ff12eef-20e8-411d-a0b7-71e4d6cc516e",
   "metadata": {},
   "source": [
    "#### `InitMessage` <a class=\"anchor\" id=\"initmessage\"></a>"
   ]
  },
  {
   "cell_type": "markdown",
   "id": "58693219-6401-4f55-95de-56511cb49edc",
   "metadata": {},
   "source": [
    "| | |\n",
    "| --- | --- |\n",
    "| *API* | `InitMessage(MessageIdentifier id, ApplicationDataRef dataRef)` |\n",
    "| *Description* | This API is used to initialize a message object explicitly, usually called from `StartCOMExtension`. <br><br> For dynamic messages, the length is assumed to be maximum. <br> For transmitted, external messages, the message is updated in the associated *I-PDU* buffer, after calling cpu-order and network-order message callouts, if configured. <br> For received, queued messages, the queue length is set to zero. <br> For received, unqueued messages, the respective buffer is updated."
   ]
  },
  {
   "cell_type": "markdown",
   "id": "573bd048-2759-4e08-8959-178cf264d397",
   "metadata": {},
   "source": [
    "#### `StartPeriodic` <a class=\"anchor\" id=\"startperiodic\"></a>"
   ]
  },
  {
   "cell_type": "markdown",
   "id": "670d010d-15ce-4617-8b58-02c08b20421e",
   "metadata": {},
   "source": [
    "| | |\n",
    "| --- | --- |\n",
    "| *API* | `StartPeriodic()` |\n",
    "| *Description* | This API starts periodic transmission of all messages using either the *Periodic* or *Mixed* transmission modes. <br> A period and an initial offset are configured per I-PDU."
   ]
  },
  {
   "cell_type": "markdown",
   "id": "6c570cbd-dc90-4641-9722-92359395f03c",
   "metadata": {},
   "source": [
    "#### `StopPeriodic` <a class=\"anchor\" id=\"stopperiodic\"></a>"
   ]
  },
  {
   "cell_type": "markdown",
   "id": "efaa84ad-7c4b-471b-b405-5d73ecce1066",
   "metadata": {},
   "source": [
    "| | |\n",
    "| --- | --- |\n",
    "| *API* | `StopPeriodic()` |\n",
    "| *Description* | This API stops periodic transmission of all messages using either the *Periodic* or *Mixed* transmission modes. <br> If successful, `StartPeriodic(..)` may be called to restart the transmission."
   ]
  },
  {
   "cell_type": "markdown",
   "id": "1ea65066-18ce-429b-8ac2-357931340a62",
   "metadata": {},
   "source": [
    "### Notification Services <a class=\"anchor\" id=\"notification-services\"></a>"
   ]
  },
  {
   "cell_type": "markdown",
   "id": "7c76df08-d919-4d8f-8056-2ef0b67e30e1",
   "metadata": {},
   "source": [
    "#### `ReadFlag` <a class=\"anchor\" id=\"readflag\"></a>"
   ]
  },
  {
   "cell_type": "markdown",
   "id": "c7c26f59-3844-4f5d-b0d0-d00463dc9143",
   "metadata": {},
   "source": [
    "| | |\n",
    "| --- | --- |\n",
    "| *API* | `FlagValue ReadFlag_UNIQUE-NAME()` |\n",
    "| *Description* | Reads the flag value belonging to a specific message object, and notification class it demands."
   ]
  },
  {
   "cell_type": "markdown",
   "id": "314e927c-57f0-4fc6-a49c-866b3c9559f3",
   "metadata": {},
   "source": [
    "#### `ResetFlag` <a class=\"anchor\" id=\"resetflag\"></a>"
   ]
  },
  {
   "cell_type": "markdown",
   "id": "e65a8c44-a84c-430d-b8e0-9a8af909f3cf",
   "metadata": {},
   "source": [
    "| | |\n",
    "| --- | --- |\n",
    "| *API* | `FlagValue ResetFlag_UNIQUE-NAME()` |\n",
    "| *Description* | Resets the flag value belonging to a specific message object, and notification class it demands."
   ]
  },
  {
   "cell_type": "markdown",
   "id": "069b5ba5-c94b-4e0a-a6f4-6502c9a82fb2",
   "metadata": {},
   "source": [
    "### Communication Services <a class=\"anchor\" id=\"communication-services\"></a>"
   ]
  },
  {
   "cell_type": "markdown",
   "id": "895de7e6-e586-44ed-a829-e04a92494d57",
   "metadata": {},
   "source": [
    "#### `SendMessage` <a class=\"anchor\" id=\"sendmessage\"></a>"
   ]
  },
  {
   "cell_type": "markdown",
   "id": "336495e0-fdcc-4f2e-9299-74c3b48561fe",
   "metadata": {},
   "source": [
    "| | |\n",
    "| --- | --- |\n",
    "| *API* | `SendMessage(MessageIdentifier id, ApplicationDataRef dataRef)` |\n",
    "| *Description* | This API sends message with identifier `id`, referenced in `dataRef`. For external communication, the message is updated in its respective I-PDU buffer, and transmission is initiated (or not) according to the transfer property and transmission mode of the message object and its associated I-PDU, respectively.<br><br> For internal communication, the message is received directly by the receiving message object."
   ]
  },
  {
   "cell_type": "markdown",
   "id": "67083bae-cda1-4c1c-b955-2a948ff85b77",
   "metadata": {},
   "source": [
    "*Note:* Additionally, `SendMessage(..)` resets all relevant notification flags."
   ]
  },
  {
   "cell_type": "markdown",
   "id": "691422bb-f013-45fd-bb2e-a3aa15ec2891",
   "metadata": {},
   "source": [
    "#### `ReceiveMessage` <a class=\"anchor\" id=\"receivemessage\"></a>"
   ]
  },
  {
   "cell_type": "markdown",
   "id": "22d99a00-6597-45c5-b04f-c837503d7066",
   "metadata": {},
   "source": [
    "| | |\n",
    "| --- | --- |\n",
    "| *API* | `ReceiveMessage(MessageIdentifier msg, ApplicationDataRef dataRef)` |\n",
    "| *Description* | This API receives message with identifier `id` into `dataRef`. <br><br> For queued message objects, `E_COM_NOMSG` is returned if queue is empty. If `E_COM_LIMIT` is returned, an overflow occured (i.e, received message discarded due to queue being full) since the last call, but data is dequeued in `dataRef` as expected."
   ]
  },
  {
   "cell_type": "markdown",
   "id": "525ca618-b0cd-4722-9ef1-d778b4c2d507",
   "metadata": {},
   "source": [
    "*Note:* Additionally, `ReceiveMessage(..)` resets all relevant notification flags."
   ]
  },
  {
   "cell_type": "markdown",
   "id": "0706205d-fa12-44b5-83c3-155dd94a7b66",
   "metadata": {},
   "source": [
    "#### `SendDynamicMessage` <a class=\"anchor\" id=\"senddynamicmessage\"></a>"
   ]
  },
  {
   "cell_type": "markdown",
   "id": "99b5f4ac-14b2-458c-b8cd-59719a556cdd",
   "metadata": {},
   "source": [
    "| | |\n",
    "| --- | --- |\n",
    "| *API* | `SendDynamicMessage(MessageIdentifier msg, ApplicationDataRef dataRef, LengthRef lenRef)` |\n",
    "| *Description* | Similar to `SendMessage(..)`, but may only refer to unqueued message objects, and for external communication only."
   ]
  },
  {
   "cell_type": "markdown",
   "id": "0a452c4a-cf19-4635-958a-33b8713b9a02",
   "metadata": {},
   "source": [
    "#### `ReceiveDynamicMessage` <a class=\"anchor\" id=\"receivedynamicmessage\"></a>"
   ]
  },
  {
   "cell_type": "markdown",
   "id": "8d2ab699-559a-427e-8711-0e9d8b9b4046",
   "metadata": {},
   "source": [
    "| | |\n",
    "| --- | --- |\n",
    "| *API* | `ReceiveDynamicMessage(MessageIdentifier msg, ApplicationDataRef dataRef, LengthRef lenRef)` |\n",
    "| *Description* | Similar to `ReceiveMessage(..)`, but may only refer to unqueued message objects, and for external communication only."
   ]
  },
  {
   "cell_type": "markdown",
   "id": "38796c6e-85da-4336-9631-a0f651e137aa",
   "metadata": {},
   "source": [
    "#### `SendZeroMessage` <a class=\"anchor\" id=\"sendzeromessage\"></a>"
   ]
  },
  {
   "cell_type": "markdown",
   "id": "73d002b5-0fd9-47cf-bb96-3e89e858e5c0",
   "metadata": {},
   "source": [
    "| | |\n",
    "| --- | --- |\n",
    "| *API* | `SendZeroMessage(MessageIdentifier msg)` |\n",
    "| *Description* | Similar to `SendMessage(..)`."
   ]
  },
  {
   "cell_type": "markdown",
   "id": "bc25c815-b916-448a-b061-bba398127f52",
   "metadata": {},
   "source": [
    "#### `GetMessageStatus` <a class=\"anchor\" id=\"getmessagestatus\"></a>"
   ]
  },
  {
   "cell_type": "markdown",
   "id": "3aea2192-a330-402f-9cc1-7c76d487eb05",
   "metadata": {},
   "source": [
    "| | |\n",
    "| --- | --- |\n",
    "| *API* | `GetMessageStatus(MessageIdentifier msg)` |\n",
    "| *Description* | This API may be used for queued message objects only, and returns the same status values as `SendMessage(..)`, without possibly dequeuing."
   ]
  },
  {
   "cell_type": "markdown",
   "id": "c84617ae-d2b3-4e71-81cc-3ba78f2efc98",
   "metadata": {},
   "source": [
    "#### `COMErrorGetServiceId` <a class=\"anchor\" id=\"comerrorgetserviceid\"></a>"
   ]
  },
  {
   "cell_type": "markdown",
   "id": "cd47518a-7c00-4de6-b6d0-1a81e8cb9909",
   "metadata": {},
   "source": [
    "| | |\n",
    "| --- | --- |\n",
    "| *API* | `COMServiceIdType COMErrorGetServiceId()` |\n",
    "| *Description* | This API returns the identifier of the COM service where an error occured, to be called from within `COMErrorHook` only."
   ]
  },
  {
   "cell_type": "markdown",
   "id": "5d5f17d4-c138-44d9-94b4-b6a6b51634f3",
   "metadata": {},
   "source": [
    "### User-provided Routines <a class=\"anchor\" id=\"user-provided-routines\"></a>"
   ]
  },
  {
   "cell_type": "markdown",
   "id": "45e464c1-43b9-40d1-b4f2-1bef1d7cf58c",
   "metadata": {},
   "source": [
    "#### `StartCOMExtension` <a class=\"anchor\" id=\"startcomextension\"></a>"
   ]
  },
  {
   "cell_type": "markdown",
   "id": "b4a0aa97-3ff3-4f5c-830c-4338d08592ca",
   "metadata": {},
   "source": [
    "| | |\n",
    "| --- | --- |\n",
    "| *API* | `void StartCOMExtension(StatusType status)` |\n",
    "| *Description* | This function is called by `StartCOM` before returning."
   ]
  },
  {
   "cell_type": "markdown",
   "id": "22c22542-8af0-438b-a916-197f948fc8f4",
   "metadata": {},
   "source": [
    "#### `COMCallout(ROUTINE-NAME)` <a class=\"anchor\" id=\"comcallout-routine-name\"></a>"
   ]
  },
  {
   "cell_type": "markdown",
   "id": "9efd840f-ae35-4ce7-b287-8be086cd89a2",
   "metadata": {},
   "source": [
    "| | |\n",
    "| --- | --- |\n",
    "| *API* | `void COMCallout(ROUTINE-NAME)` |\n",
    "| *Description* | This function is called by *OSEK COM* at a specific point in the transmission or reception sequence, depending on configuration (see below). <br> The return value, whether `COM_TRUE` or `COM_FALSE`, indicates whether the *IL* shall continue or abandon further processing of this message or *I-PDU*."
   ]
  },
  {
   "cell_type": "markdown",
   "id": "84d26879-6cdb-439d-b82b-35824c02cc56",
   "metadata": {},
   "source": [
    "#### `COMErrorHook` <a class=\"anchor\" id=\"comerrorhook\"></a>"
   ]
  },
  {
   "cell_type": "markdown",
   "id": "8d369ebc-70fb-49ed-b7c5-ef1b958ca841",
   "metadata": {},
   "source": [
    "| | |\n",
    "| --- | --- |\n",
    "| *API* | `void COMErrorHook(StatusType status)` |\n",
    "| *Description* | This function is called at the end of a system service that returns non-`E_OK` status. <br> It is not interruptible by ISR Category-2."
   ]
  },
  {
   "cell_type": "markdown",
   "id": "95a046db-148d-47b8-a7ad-46cd75f3d9b3",
   "metadata": {},
   "source": [
    "## Specification <a class=\"anchor\" id=\"specification\"></a>"
   ]
  },
  {
   "cell_type": "markdown",
   "id": "7abb04b6-9129-4275-be94-710705658b36",
   "metadata": {},
   "source": [
    "Communication in *OSEK COM* operates in the *Interaction Layer (IL)*, and is based on *messages*. A message contains application-specific data.\n",
    "\n",
    "Administration of messages is done based on *message objects*. Transmitting message objects are on the transmitting side, and vice versa.\n",
    "\n",
    "Multiple senders, in the application, may write to a single transmitting message object, and similarly, multiple receivers may read from a single receiving message object.\n",
    "\n",
    "A single transmitting message object may map to multiple receiving message objects, internal and external, but not the other way around."
   ]
  },
  {
   "cell_type": "markdown",
   "id": "abc53c4d-2c39-4671-a164-65a2905211a5",
   "metadata": {},
   "source": [
    "### Transmission <a class=\"anchor\" id=\"transmission\"></a>"
   ]
  },
  {
   "cell_type": "markdown",
   "id": "10acfcc3-1acb-4ed5-84eb-13155e278d21",
   "metadata": {},
   "source": [
    "#### Internal Communication <a class=\"anchor\" id=\"internal-communication\"></a>"
   ]
  },
  {
   "cell_type": "markdown",
   "id": "db8041f3-4b6c-4f95-ab6b-2374a26c1216",
   "metadata": {},
   "source": [
    "For messages intended for internal communication, when a sender writes to a transmitting message object, messages are directly routed to the mapped receiving message objects, and placed in their respective buffers."
   ]
  },
  {
   "cell_type": "markdown",
   "id": "5cb5a8b4-83b8-42a1-9576-0f0b15297cde",
   "metadata": {},
   "source": [
    "#### External Communication <a class=\"anchor\" id=\"external-communication\"></a>"
   ]
  },
  {
   "cell_type": "markdown",
   "id": "65cf6467-920b-490d-9878-6c1a43bc2538",
   "metadata": {},
   "source": [
    "For messages intended for external communication, messages must be configured to map to an *Interaction Protocol Data Unit (I-PDU)*. An *I-PDU* consists of one, or more messages. Each message occupies a continguous number of bits in an *I-PDU*. A configurable initial value is given to every message in an *I-PDU*. When a sender writes to a transmitting message object, messages are placed into their *I-PDU*'s buffer. Whether the *I-PDU* is relayed to lower layers of communication for transmission, depends on:\n",
    "* The *transfer property* of the respective message.\n",
    "* The *transmission mode* of its respective *I-PDU*.\n",
    "\n",
    "Messages have a transfer property, which may be *triggered* or *pending*.\n",
    "\n",
    "| *Transfer Property* | *Description* |\n",
    "| --- | --- |\n",
    "| Triggered | When placed into an I-PDU, with a non-*periodic* transmission mode, it triggers the transmission of that I-PDU to the lower layers of communication.\n",
    "| Pending | When placed into an I-PDU, it does not trigger the transmission of that I-PDU to the lower layers of communication.\n",
    "\n",
    "I-PDUs have a transmission mode, which may be *direct*, *periodic*, and *mixed*.\n",
    "\n",
    "| *Transmission Mode* | *Description* |\n",
    "| --- | --- |\n",
    "| Direct | Transmission of an I-PDU is initiated, when a mapped message with *triggered* transfer property is sent.\n",
    "| Periodic | Transmission of an I-PDU is initiated, with a fixed period between each transmission.\n",
    "| Mixed | Transmission of an I-PDU is initiated, periodically, as well as, directly."
   ]
  },
  {
   "cell_type": "markdown",
   "id": "ccb642fd-858b-46de-aa93-1f9f5055cb72",
   "metadata": {},
   "source": [
    "##### *Minimum Delay Time (MDT)* <a class=\"anchor\" id=\"minimum-delay-time-mdt\"></a>"
   ]
  },
  {
   "cell_type": "markdown",
   "id": "e5e16aa2-705b-4bd7-930d-66b2aacc7fc4",
   "metadata": {},
   "source": [
    "A *Minimum Delay Time (MDT)* is configured per *I-PDU*, representing the minimum waiting time before the next *I-PDU* may be transmitted.\n",
    "\n",
    "In direct or mixed transmission mode, writing multiple times to a transmitting message object within an *MDT* triggers only a single transmission of the associated *I-PDU*, after the *MDT* ends.\n",
    "\n",
    "It is also possible for *MDT* to delay the periodic transmission of a mixed *I-PDU*."
   ]
  },
  {
   "cell_type": "markdown",
   "id": "3bbc37ce-4e63-4a03-a26f-844106327452",
   "metadata": {},
   "source": [
    "### Reception <a class=\"anchor\" id=\"reception\"></a>"
   ]
  },
  {
   "cell_type": "markdown",
   "id": "eed87b22-dc8a-417a-adf0-4e3e47f54b16",
   "metadata": {},
   "source": [
    "A receiving message object may be *queued*, or *unqueued*.\n",
    "\n",
    "For *unqueued* message objects, the buffer is overwritten with the arrival of new messages. An initial value is set for the buffer.\n",
    "\n",
    "For *queued* messages, each receiver of a message, in the application, reads from a dedicated queue buffer. Hence, a new message is queued into, possibly, multiple queue buffers."
   ]
  },
  {
   "cell_type": "markdown",
   "id": "d9a8d782-8367-47b9-8717-dc5c924fbd8e",
   "metadata": {},
   "source": [
    "### Message Filtering <a class=\"anchor\" id=\"message-filtering\"></a>"
   ]
  },
  {
   "cell_type": "markdown",
   "id": "c0d2807e-04b9-4dc1-9e27-cf230938e2d4",
   "metadata": {},
   "source": [
    "| *Filter Name* | *Algorithm* |\n",
    "| --- | --- |\n",
    "| `F_Always` | `true`\n",
    "| `F_Never` | `false`\n",
    "| \u3164 | \n",
    "| `F_NewIsEqual` | `new == old`\n",
    "| `F_NewIsDifferent` | `new != old`\n",
    "| \u3164 | \n",
    "| `F_MaskedNewEqualsMaskedOld` | `(new & mask) == (old & mask)`\n",
    "| `F_MaskedNewDiffersMaskedOld` | `(new & mask) != (old & mask)`\n",
    "| \u3164 | \n",
    "| `F_MaskedNewEqualsX` | `(new & mask) == x`\n",
    "| `F_MaskedNewDiffersX` | `(new & mask) != x`\n",
    "| \u3164 | \n",
    "| `F_NewIsWithin` | `new >= min && new <= max`\n",
    "| `F_NewIsOutside` | `new < min \\|\\| new > max`\n",
    "| `F_NewIsGreater` | `new > old`\n",
    "| `F_NewIsGreaterOrEqual` | `new >= old`\n",
    "| `F_NewIsLess` | `new < old`\n",
    "| `F_NewIsLessOrEqual` | `new <= old`\n",
    "| \u3164 | \n",
    "| `F_OneEveryN` | `occurence % period == offset`"
   ]
  },
  {
   "cell_type": "markdown",
   "id": "684b2f8e-8246-4c83-bfcb-bd7c952a3d45",
   "metadata": {},
   "source": [
    "#### Reception Filtering <a class=\"anchor\" id=\"reception-filtering\"></a>"
   ]
  },
  {
   "cell_type": "markdown",
   "id": "2f0f502f-e0d5-4bb4-96e5-97c4cb4c04a3",
   "metadata": {},
   "source": [
    "A *filter algorithm* may be configured, per receiving message object, to filter out new messages upon arrival."
   ]
  },
  {
   "cell_type": "markdown",
   "id": "81854d84-edd8-41d9-91e4-5b9b826d5fcd",
   "metadata": {},
   "source": [
    "#### Transmission Filtering <a class=\"anchor\" id=\"transmission-filtering\"></a>"
   ]
  },
  {
   "cell_type": "markdown",
   "id": "0a7b21b0-52fe-40e2-9201-4019579dafb8",
   "metadata": {},
   "source": [
    "A *filter algorithm* may be configured, per transmitting message object, to filter out *external* messages, before the associated *I-PDU* buffer is updated, and transmission, possibly, takes place."
   ]
  },
  {
   "cell_type": "markdown",
   "id": "1e532ca1-18bb-439f-b28b-b84c733db3c6",
   "metadata": {},
   "source": [
    "### Notification <a class=\"anchor\" id=\"notification\"></a>"
   ]
  },
  {
   "cell_type": "markdown",
   "id": "cfd184d7-7f16-4546-abe7-6c880097bc99",
   "metadata": {},
   "source": [
    "*OSEK COM* defines four notification classes."
   ]
  },
  {
   "cell_type": "markdown",
   "id": "48d8bae8-1848-48df-86c2-411d52180ed4",
   "metadata": {},
   "source": [
    "| *Class* | *Name* | *Description* |\n",
    "| --- | --- | --- |\n",
    "| 1 | Message Reception | Notification mechanism invoked immediately after the message has been stored in the receiving message object.\n",
    "| 2 | Message Transmission | Notification mechanism invoked immediately after the successful transmission of the associated I-PDU by the lower layers of communication, conveyed via a confirmation callback function to *OSEK COM*.\n",
    "| 3 | Message Reception Error | Notification mechanism invoked immediately after a message reception error has been detected, either by reception deadline monitoring, or via an error detected by the lower layers of communication, conveyed via an indication callback function to *OSEK COM*.\n",
    "| 4 | Message Transmission Error | Notification mechanism invoked immediately after a message transmission error has been detected,  either by transmission deadline monitoring, or via an error detected by the lower layers of communication, conveyed via a confirmation callback function to *OSEK COM*."
   ]
  },
  {
   "cell_type": "markdown",
   "id": "06c8f17c-bbab-4d7f-9ee9-2c30d7437bfa",
   "metadata": {},
   "source": [
    "*Note:* For internal communication, only *notification class 1* is supported.\n",
    "\n",
    "*Note:* If a message is filtered out (i.e, discarded), no notification is given to the application."
   ]
  },
  {
   "cell_type": "markdown",
   "id": "d740db2f-0b8d-4b1b-8832-bad492f284bd",
   "metadata": {},
   "source": [
    "#### Notification Mechanisms <a class=\"anchor\" id=\"notification-mechanisms\"></a>"
   ]
  },
  {
   "cell_type": "markdown",
   "id": "40baee46-da77-4f6b-b9c0-669f70a4f698",
   "metadata": {},
   "source": [
    "*OSEK COM* provides four different notification mechanisms:\n",
    "* Calling a *callback* routine.\n",
    "* Setting a *flag*, that can be polled using `ReadFlag-`.\n",
    "* Activating a task.\n",
    "* Setting an event."
   ]
  },
  {
   "cell_type": "markdown",
   "id": "5d78527d-9e5d-4a75-8215-334b9d4f55cb",
   "metadata": {},
   "source": [
    "### Deadline Monitoring <a class=\"anchor\" id=\"deadline-monitoring\"></a>"
   ]
  },
  {
   "cell_type": "markdown",
   "id": "17ec3f55-2560-456e-9f8b-2fcbaf8bd961",
   "metadata": {},
   "source": [
    "#### Reception Deadline Monitoring <a class=\"anchor\" id=\"reception-deadline-monitoring\"></a>"
   ]
  },
  {
   "cell_type": "markdown",
   "id": "0a1b5750-6a02-42c3-b9a7-11da9673a9f3",
   "metadata": {},
   "source": [
    "Reception deadline monitoring ensures that an external message is received within a time frame, conveyed from the lower layers of communication via an *indication* service. It is configurable per *I-PDU*, and is not limited to *I-PDUs* with *periodic* transmission modes only."
   ]
  },
  {
   "cell_type": "markdown",
   "id": "0ef9e4f4-f54a-4117-8ed1-64cad682a06b",
   "metadata": {},
   "source": [
    "#### Transmission Deadline Monitoring <a class=\"anchor\" id=\"transmission-deadline-monitoring\"></a>"
   ]
  },
  {
   "cell_type": "markdown",
   "id": "a690bf5e-843d-4f50-8463-3d0c81ee7329",
   "metadata": {},
   "source": [
    "Transmission deadline monitoring ensures that an external message is sent within a time frame, converyed from the lower layers of communication via a *confirmation* serivce. It is configurable per *I-PDU*."
   ]
  },
  {
   "cell_type": "markdown",
   "id": "9a220672-d1d6-40e7-80c1-1e5b6ac4bf04",
   "metadata": {},
   "source": [
    "### Callouts <a class=\"anchor\" id=\"callouts\"></a>"
   ]
  },
  {
   "cell_type": "markdown",
   "id": "82e7f721-d6c2-45d5-a0e8-6431a91dc251",
   "metadata": {},
   "source": [
    "A *callout* is a user-provided routine, that is called by *OSEK COM* at a specific point in the transmission or reception sequence, depending on configuration (see below). \n",
    "\n",
    "The return value, whether `COM_TRUE` or `COM_FALSE`, indicates whether the *IL* shall continue or abandon further processing of this message or *I-PDU*."
   ]
  },
  {
   "cell_type": "markdown",
   "id": "e0c56877-abf1-4c9b-875c-7536e926ba41",
   "metadata": {},
   "source": [
    "The figure below shows the different callout functions that are called, during message reception."
   ]
  },
  {
   "attachments": {},
   "cell_type": "markdown",
   "id": "8cbcd232-f2ab-45d1-bf96-b9da457c74ef",
   "metadata": {},
   "source": [
    "<img src=\"../../.img/osek-com-reception.png\" width=\"750\" />"
   ]
  },
  {
   "cell_type": "markdown",
   "id": "21a086b1-e7f9-46cc-a5ec-24a84ab45f9c",
   "metadata": {},
   "source": [
    "The figure below shows the different callout functions that are called, during message transmission."
   ]
  },
  {
   "attachments": {},
   "cell_type": "markdown",
   "id": "e1d38e44-239f-4fbf-bc86-2acca3c2d074",
   "metadata": {},
   "source": [
    "<img src=\"../../.img/osek-com-transmission.png\" width=\"750\" />"
   ]
  },
  {
   "cell_type": "markdown",
   "id": "50c9995d-e0c3-4e7d-b421-08cc77aaa312",
   "metadata": {},
   "source": [
    "### Dynamic and Zero-length Messages <a class=\"anchor\" id=\"dynamic-and-zero-length-messages\"></a>"
   ]
  },
  {
   "cell_type": "markdown",
   "id": "0eada005-924d-4702-b29d-468d27d5e16e",
   "metadata": {},
   "source": [
    "#### Dynamic Messages <a class=\"anchor\" id=\"dynamic-messages\"></a>"
   ]
  },
  {
   "cell_type": "markdown",
   "id": "f76a8221-1cc9-42ba-9869-9fb7129d5a6e",
   "metadata": {},
   "source": [
    "*OSEK COM* supports *dynamic* (i.e, *dynamic*) messages, with a maximum length configured."
   ]
  },
  {
   "cell_type": "markdown",
   "id": "abccec5a-0e5a-4a94-93d4-0979554d5b82",
   "metadata": {},
   "source": [
    "*Note:* Dynamic messages must be mapped to the end of an *I-PDU*, in case of external communication.\n",
    "\n",
    "*Note:* Filter algorithms may not be applied to dynamic messages."
   ]
  },
  {
   "cell_type": "markdown",
   "id": "07691dea-f1d5-42aa-bb56-ab844673c05c",
   "metadata": {},
   "source": [
    "#### Zero-length Messages <a class=\"anchor\" id=\"zero-length-messages\"></a>"
   ]
  },
  {
   "cell_type": "markdown",
   "id": "163a6006-5e7b-4bda-811d-4d855f430972",
   "metadata": {},
   "source": [
    "*OSEK COM* supports zero-length messages, useful as a notification mechanism between senders and receivers in the application."
   ]
  }
 ],
 "metadata": {
  "kernelspec": {
   "display_name": "Python 3 (ipykernel)",
   "language": "python",
   "name": "python3"
  },
  "language_info": {
   "codemirror_mode": {
    "name": "ipython",
    "version": 3
   },
   "file_extension": ".py",
   "mimetype": "text/x-python",
   "name": "python",
   "nbconvert_exporter": "python",
   "pygments_lexer": "ipython3",
   "version": "3.11.4"
  }
 },
 "nbformat": 4,
 "nbformat_minor": 5
}