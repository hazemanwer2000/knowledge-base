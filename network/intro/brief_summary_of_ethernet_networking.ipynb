{
 "cells": [
  {
   "cell_type": "markdown",
   "id": "57a5dd54",
   "metadata": {},
   "source": [
    "# A brief summary of *Ethernet*-based *Networking*\n",
    "<br>\n",
    "<div style=\"opacity: 0.8; font-family: Consolas, Monaco, Lucida Console, Liberation Mono, DejaVu Sans Mono, Bitstream Vera Sans Mono, Courier New; font-size: 12px; font-style: italic;\">\n",
    "    ────────\n",
    "    for more from the author, visit\n",
    "    <a href=\"https://github.com/hazemanwer2000\">github.com/hazemanwer2000</a>.\n",
    "    ────────\n",
    "</div>"
   ]
  },
  {
   "cell_type": "markdown",
   "id": "d5d19f27",
   "metadata": {},
   "source": [
    "## Table of Contents\n",
    "\n"
   ]
  },
  {
   "cell_type": "markdown",
   "id": "2395f3a7",
   "metadata": {},
   "source": [
    "This document assumes some previous knowledge about *Networking*, including *OSI model*."
   ]
  },
  {
   "cell_type": "markdown",
   "id": "7a27e82d",
   "metadata": {},
   "source": [
    "## *Ethernet* LANs"
   ]
  },
  {
   "cell_type": "markdown",
   "id": "5cd0d868",
   "metadata": {},
   "source": [
    "An *Ethernet-based* LAN (i.e, *Local Area Network*) uses Ethernet frames to encapsulate and transport data from/to nodes within the network.\n",
    "\n",
    "It is usually composed of a number of end-point devices, connected to a number of switches, as shown below."
   ]
  },
  {
   "cell_type": "markdown",
   "id": "915400fd",
   "metadata": {},
   "source": [
    "<img src=\"../../.img/unannotated-lan.png\" width=\"500\" />"
   ]
  },
  {
   "cell_type": "markdown",
   "id": "c79ada66",
   "metadata": {},
   "source": [
    "Every switch maintains a *MAC address table*.\n",
    "\n",
    "Each entry in the table denotes a *MAC address*, the physical interface it is accessible through, and the *Virtual LAN* it resides within (see below).\n",
    "\n",
    "Each entry in the table may be have been learned,\n",
    "* statically (i.e, configured manually) or,\n",
    "* dynamically (see below).\n",
    "\n",
    "When an Ethernet frame is received on one of the physical interfaces of a switch,\n",
    "1. the *source MAC address* is used to create a *dynamic* entry in the MAC address table,\n",
    "2. the *destination MAC address* is used to decide, through which physical interface the Ethernet frame shall be forwarded.\n",
    "    * If no matching entry was found in the MAC address table, the frame is forwarded out of all interfaces. This is known as a *Unicast Unknown Frame*.\n",
    "    * In the case of a broadcast frame (i.e, *destination MAC address* of `FF:FF:FF:FF:FF:FF`), the frame is forwarded out of all interfaces, regardless. This is known as a *Broadcast Frame*."
   ]
  },
  {
   "cell_type": "markdown",
   "id": "864f349e",
   "metadata": {},
   "source": [
    "### *Virtual LANs (VLANs)*"
   ]
  },
  {
   "cell_type": "markdown",
   "id": "57c8cffc",
   "metadata": {},
   "source": [
    "A physical *LAN* may be subdivided into a number of *Virtual LANs (VLANs)*.\n",
    "\n",
    "For example, the figure below shows a physical *LAN*, composed of two *VLANs*.\n",
    "\n",
    "Each physical interface on `SW1` has been configured, to be associated with a specific *VLAN*.\n",
    "\n",
    "* [`CASE`]: `Dino` sends a broadcast frame. `SW1` receives the frame through a physical interface associated with `VLAN 1`. Hence, `SW1` forwards the frame out of all physical interfaces associated with `VLAN 1` (except `Dino`'s).\n",
    "\n",
    "* [`CASE`]: `Dino` sends a unicast frame, destined to `Wilma`. `SW1` receives the frame through a physical interface associated with `VLAN 1`. Hence, `SW1` searches for a matching entry in its *MAC* address table, filtering out entries that do not belong to `VLAN 1`. Because no matching entry can be found, `SW1` forwards the frame out of all physical interfaces associated with `VLAN 1` (except `Dino`'s)."
   ]
  },
  {
   "cell_type": "markdown",
   "id": "12ef3bd2",
   "metadata": {},
   "source": [
    "<img src=\"../../.img/2-virtual-lans.png\" width=\"550\" />"
   ]
  },
  {
   "cell_type": "markdown",
   "id": "5f787e28",
   "metadata": {},
   "source": [
    "*Note:* To transport data across different *(V)LANs*, a *router* (i.e, a *Layer-3* networking device) is used (see below)."
   ]
  },
  {
   "cell_type": "markdown",
   "id": "4e177c8a",
   "metadata": {},
   "source": [
    "A physical interface between two switches must be *trunking*, if each switch is connected to more than one *VLAN*.\n",
    "\n",
    "Over a *trunking* link, Ethernet frames are *VLAN-tagged*."
   ]
  },
  {
   "cell_type": "markdown",
   "id": "a61e6a41",
   "metadata": {},
   "source": [
    "<img src=\"../../.img/vlan-trunking.png\" width=\"450\" />"
   ]
  },
  {
   "cell_type": "markdown",
   "id": "c4a8ca2d",
   "metadata": {},
   "source": [
    "* [`CASE`]: A broadcast frame is recieved over `Fa0/12`. `SW1` receives the frame through a physical interface associated with `VLAN 1`. Hence, `SW1` forwards the frame out of all physical interfaces associated with `VLAN 1` (except `Dino`'s), as well as any *trunking* interfaces. When `SW2` receives the broadcast frame over `Gi0/2`, it strips the *VLAN tag*, before forwarding the frames over `Fa0/22` and `Fa0/21`.\n",
    "\n",
    "* [`CASE`]: A unicast frame is recieved over `Fa0/12`, destined to the end-point device connected `Fa0/21` on `SW2`. `SW1` receives the frame through a physical interface associated with `VLAN 1`. Hence, `SW1` searches for a matching entry in its *MAC* address table, filtering out entries that do not belong to `VLAN 1`. A matching entry is found, associated with `Gi0/1`. `SW1` forwards the *VLAN-tagged* frame over, and `SW2` strips the *VLAN tag*, before forwarding the frame over `Fa0/21`."
   ]
  }
 ],
 "metadata": {
  "kernelspec": {
   "display_name": "Python 3 (ipykernel)",
   "language": "python",
   "name": "python3"
  },
  "language_info": {
   "codemirror_mode": {
    "name": "ipython",
    "version": 3
   },
   "file_extension": ".py",
   "mimetype": "text/x-python",
   "name": "python",
   "nbconvert_exporter": "python",
   "pygments_lexer": "ipython3",
   "version": "3.8.10"
  }
 },
 "nbformat": 4,
 "nbformat_minor": 5
}
